{
  "nbformat": 4,
  "nbformat_minor": 0,
  "metadata": {
    "colab": {
      "provenance": [],
      "gpuType": "T4",
      "toc_visible": true,
      "authorship_tag": "ABX9TyN/3RBAxR96fo5gZuNV4hKG",
      "include_colab_link": true
    },
    "kernelspec": {
      "name": "python3",
      "display_name": "Python 3"
    },
    "language_info": {
      "name": "python"
    },
    "accelerator": "GPU"
  },
  "cells": [
    {
      "cell_type": "markdown",
      "metadata": {
        "id": "view-in-github",
        "colab_type": "text"
      },
      "source": [
        "<a href=\"https://colab.research.google.com/github/awildt01/Zeitreihenanalyse-zur-Nachfrageprognose./blob/main/Zeitreihenanalyse_zur_Nachfrageprognose.ipynb\" target=\"_parent\"><img src=\"https://colab.research.google.com/assets/colab-badge.svg\" alt=\"Open In Colab\"/></a>"
      ]
    },
    {
      "cell_type": "markdown",
      "source": [
        "#Über das Projekt"
      ],
      "metadata": {
        "id": "uzEvYPXBreRJ"
      }
    },
    {
      "cell_type": "markdown",
      "source": [
        "<p align=center>\n",
        "<img src=\"https://www.slimstock.com/wp-content/uploads/2023/04/demand-forecasting-cartoon-magnifying.webp\" width=\"70%\"></p>"
      ],
      "metadata": {
        "id": "A_GRh_dksoyp"
      }
    },
    {
      "cell_type": "markdown",
      "source": [
        "<div>\n",
        "  <a href = \"https://github.com/raffaloffredo/data_science_portfolio\"><img src=\"https://img.shields.io/badge/GitHub-100000?style=for-the-badge&logo=github&logoColor=white\" target=\"_blank\"></a>\n",
        "  <a href=\"https://www.linkedin.com/in/raffaela-loffredo/?locale=en_US\" target=\"_blank\"><img src=\"https://img.shields.io/badge/-LinkedIn-%230077B5?style=for-the-badge&logo=linkedin&logoColor=white\" target=\"_blank\"></a>\n",
        "  <a href=\"https://sites.google.com/view/loffredo/\" target=\"_blank\"><img src=\"\thttps://img.shields.io/badge/website-000000?style=for-the-badge&logo=About.me&logoColor=white\" target=\"_blank\"></a>\n",
        "  <a href=\"https://instagram.com/loffredo.ds\" target=\"_blank\"><img src=\"https://img.shields.io/badge/-Instagram-%23E4405F?style=for-the-badge&logo=instagram&logoColor=white\" target=\"_blank\"></a>\n",
        "  <a href=\"https://medium.com/@loffredo.ds\" target=\"_blank\"><img src=\"https://img.shields.io/badge/Medium-12100E?style=for-the-badge&logo=medium&logoColor=white\"></a>\n",
        "</div>"
      ],
      "metadata": {
        "id": "zEZG-_hLgGNA"
      }
    },
    {
      "cell_type": "markdown",
      "source": [
        "## Nachfrageprognose"
      ],
      "metadata": {
        "id": "uq5k-IiJt3za"
      }
    },
    {
      "cell_type": "markdown",
      "source": [
        "Nachfrageprognose (Demand Forecasting) ist ein zentraler Bereich der Datenanalyse und besonders relevant für das Management von Lagerbeständen Sie hilft Unternehmen, die zukünftige Nachfrage nach ihren Produkten vorherzusagen und damit die Lieferkette sowie Bestandsverwaltung effizient zu gestalten. Das Ziel ist es, Engpässe zu vermeiden, die Lagerhaltungskosten zu optimieren und letztendlich die Kundenzufriedenheit zu verbessern."
      ],
      "metadata": {
        "id": "De3Pw6NCuU9t"
      }
    },
    {
      "cell_type": "markdown",
      "source": [
        "In dieser Studie basieren wir auf den Anforderungen, [echten Stellenangebot, das auf LinkedIn veröffentlicht wurde](https://www.linkedin.com/jobs/view/2435754417). Der Vertrag umfasste die Präsentation einer Lösung zur Umsatzprognose, die das Lagermanagement des Unternehmens unterstützen soll. Es wird auch darauf hingewiesen, dass die besonderen Herausforderungen der Weinbranche berücksichtigt werden.\n",
        "<br/>\n",
        "<br/>\n",
        "\n",
        "<p align=center>\n",
        "<img src=\"https://github.com/rafaelnduarte/sigmoidal_data/blob/master/Screen%20Shot%202021-04-01%20at%2012.04.22.png?raw=true\" width=\"70%\"></p>\n",
        "<br/>"
      ],
      "metadata": {
        "id": "utYkzvbH1a9c"
      }
    },
    {
      "cell_type": "markdown",
      "source": [
        "## Bedeutung der Nachfrageprognose im Einzelhandel"
      ],
      "metadata": {
        "id": "nltjGxNR4g4k"
      }
    },
    {
      "cell_type": "markdown",
      "source": [
        "Im Einzelhandel, insbesondere für Produkte wie Wein, ist es entscheidend, die Nachfrage genau zu prognostizieren, da Wein eine begrenzte Haltbarkeit und hohe Lagerkosten haben kann. Fehlerhafte Prognosen können zu Über- oder Unterbeständen führen, die entweder zu Lagerkosten oder zu verpassten Verkaufschancen führen. Eine genaue Nachfrageprognose kann helfen:\n",
        "\n",
        "- **Wettbewerb**\n",
        "Es ist sehr wichtig, die Konkurrenz in Ihrem Umfeld genau zu beobachten. Wenn Sie regional für ein Publikum in Ihrer Region verkaufen oder online tätig sind, ist es wichtig, Ihren Kontext, Ihre Wettbewerber und deren Angebote genau zu verstehen. Ob es sich um neue starke Wettbewerber handelt oder um eine neue Lösung, die Ihre Kunden dazu bringt, zwischen Ihnen und ihnen zu wählen – es ist entscheidend, das Modell so anzupassen, dass es Ihnen hilft, diese Veränderungen zu verstehen und sich darauf vorzubereiten.\n",
        "\n",
        "- **Lagerhaltung zu optimieren:** Unternehmen können ihre Bestände effizient verwalten und vermeiden Überbestände oder Ausverkäufe.\n",
        "- **Lieferkettenprozesse zu verbessern:** Unternehmen können rechtzeitig Nachbestellungen durchführen, um Engpässe zu vermeiden.\n",
        "- **Verkaufsaktionen zu planen:** Wenn die Prognosen auf einen Anstieg der Nachfrage hinweisen, können gezielte Marketingaktionen vorbereitet werden.\n",
        "\n",
        "- **Geografie**\n",
        "Hier, wie bereits im Wettbewerbsteil erwähnt, ist es wichtig, den geografischen Kontext zu verstehen, selbst wenn Sie online arbeiten. Dabei sollten Sie die logistischen Herausforderungen in Bezug auf Lagerhaltung und Produktlieferung, Schwierigkeiten mit Transportunternehmen und damit verbundene Kosten berücksichtigen. Es ist entscheidend, den Zeitaufwand für den Erhalt Ihres Bestands und die Lieferung Ihrer Verkäufe zu verstehen, da all diese Faktoren auch eine wichtige Rolle bei der Prognose spielen."
      ],
      "metadata": {
        "id": "zx-HkJuG4m_0"
      }
    },
    {
      "cell_type": "markdown",
      "source": [
        "## Herausforderung der Nachfrageprognose im Weinmarkt"
      ],
      "metadata": {
        "id": "evn1gxMl8A_N"
      }
    },
    {
      "cell_type": "markdown",
      "source": [
        "Die Weinbranche ist einzigartig, da die Nachfrage durch Faktoren wie Bewertungen, Jahrgänge und sogar Wettereinflüsse beeinflusst wird. Zudem kann die Nachfrage volatil sein, da seltene oder spezielle Weine eine unregelmäßige Nachfrage aufweisen können. Solche Variablen erhöhen die Komplexität, weshalb maschinelles Lernen und Deep Learning hier wertvoll sein können.\n",
        "\n",
        "Weinbestände unterliegen spezifischen Einflüssen, wie etwa saisonaler Nachfrage zu Feiertagen, Kundenpräferenzen nach Jahrgang oder Weinart sowie äußeren Faktoren wie Wetterbedingungen. Diese Variablen lassen sich in maschinelle Lernmodelle integrieren, um die Prognosegenauigkeit weiter zu verbessern."
      ],
      "metadata": {
        "id": "03HaHHQe8Iz1"
      }
    },
    {
      "cell_type": "markdown",
      "source": [
        "# Datenbeschaffung"
      ],
      "metadata": {
        "id": "vkUd8RqZlHXC"
      }
    },
    {
      "cell_type": "markdown",
      "source": [
        "\n",
        "Die in diesem Projekt verwendeten Daten wurden von [Rafael Duarte](https://www.linkedin.com/in/rafael-n-duarte/?source=user_about----------------------95e660a7ce9---------------), einem Datenwissenschaftler und Weinliebhaber, bereitgestellt. Er erstellte diesen Datensatz aufgrund der Schwierigkeit, Verkaufsdaten in diesem Sektor zu finden. Er hebt hervor:\n",
        "\n",
        "- Die Weinkarte, also die Produkte, sind echt und basieren auf dem tatsächlichen Angebot eines Wein-E-Commerce in Brasilien. Namen, Jahrgänge und Werte sind zu 100 % echt und wurden in US-Dollar umgerechnet, um eine internationale Anziehungskraft zu erreichen.\n",
        "- Der Verkaufsdatensatz basiert auf einem Kaggle-Wettbewerb. Dieser Datensatz umfasste ursprünglich 5 Jahre tägliche Verkäufe, verteilt auf 10 Geschäfte, mit einem Katalog von 50 Produkten. Er wurde jedoch geändert und umfasst nun 3 Jahre tägliche Verkäufe, verteilt auf 3 Geschäfte mit 219 verschiedenen Produkten auf Lager.\n",
        "\n",
        "Die Daten sind in zwei Dateien aufgeteilt: eine enthält die historischen Verkaufsdaten, die andere Informationen über die Weine. Beide Dateien wurden in der Cloud gespeichert, falls sie nicht verfügbar sind oder Änderungen in der Zukunft vorgenommen werden. Diese gespeicherten Dateien werden im Code verwendet, um die Integrität der Studie zu gewährleisten.\n",
        "\n",
        "Es ist zu beachten, dass es sich um einen Datensatz mit synthetischen Daten handelt, der zwar auf echten Daten basiert, aber dennoch Probleme aufweisen kann, die bei echten Daten nicht auftreten würden. Dies sollte während der gesamten Analyse berücksichtigt werden."
      ],
      "metadata": {
        "id": "eNjK73BxlOML"
      }
    },
    {
      "cell_type": "markdown",
      "source": [
        "# Business Understanding"
      ],
      "metadata": {
        "id": "t7bFmuwcY8Pk"
      }
    },
    {
      "cell_type": "markdown",
      "source": [
        "Weine sind lebendige Getränke, die sich ständig weiterentwickeln und optimale Bedingungen benötigen, um ihre Qualität und Charakter zu bewahren. Ohne diese Bedingungen können sie verderben.\n",
        "\n",
        "Deshalb ist besondere Sorgfalt bei Lagerung und Transport erforderlich, um Bestände zu sichern und Verluste zu vermeiden. Dies unterstreicht die Bedeutung dieses Projekts, da es den Gewinn des Unternehmens möglicherweise stärker beeinflussen kann als andere Bereiche.\n",
        "\n",
        "Es ist wichtig, Sonnenlicht zu vermeiden. Die Lagerung sollte in einer Umgebung mit spezifischer, aber nicht übermäßiger Luftfeuchtigkeit und einer konstanten Temperatur erfolgen. Dabei ist es entscheidender, die Temperatur stabil zu halten, als eine exakte Zieltemperatur zu erreichen. In der Regel liegt die empfohlene Temperatur zwischen 10 und 15 Grad, je nach Weinsorte.\n",
        "\n",
        "Bewegungen, Erschütterungen und Vibrationen sollten ebenfalls vermieden werden, um die Flüssigkeit nicht zu stören. Dies zeigt, wie wichtig eine optimale Bestandsverwaltung ist, bei der die Weine so wenig wie möglich bewegt werden. Nach Möglichkeit wird empfohlen, Weine horizontal zu lagern – ein Aspekt, der auch bei der Planung der Lagerräume berücksichtigt werden sollte.\n",
        "\n",
        "Darüber hinaus ist es wichtig, die Rotation der Bestände zu optimieren, damit der Wein möglichst wenig Zeit an einem Ort verbringt, an dem er verderben könnte, und dennoch in ausgezeichnetem Zustand an die Kunden geliefert wird.\n",
        "\n",
        "Obwohl einige Weine mit der Zeit an Qualität gewinnen, ist die Mehrheit für den sofortigen Konsum gedacht – meist innerhalb von 1 bis 3 Jahren nach der Markteinführung. Daher ist es entscheidend, Weine nicht übermäßig lange auf Lager zu halten."
      ],
      "metadata": {
        "id": "Inf3MH_FaTyE"
      }
    },
    {
      "cell_type": "markdown",
      "source": [
        "# Ziel"
      ],
      "metadata": {
        "id": "iqIk1BR5_dEE"
      }
    },
    {
      "cell_type": "markdown",
      "source": [
        "Im Wesentlichen entwickelt das Unternehmen eine auf maschinellem Lernen basierende Lösung, um Weinhandlungen dabei zu helfen, ihre Bestände besser zu verwalten. Dazu gehört ein Modell, das die Nachfrage auf der Grundlage historischer Verkaufsdaten prognostiziert.\n",
        "\n",
        "Ihr spezifischer Bedarf besteht darin, den Teil der Verkaufsprognose zu verfeinern, der die einzigartigen Herausforderungen der Weinwelt und die spezifischen Anforderungen ihres Produkts berücksichtigt."
      ],
      "metadata": {
        "id": "T7orDSMLD3V7"
      }
    },
    {
      "cell_type": "markdown",
      "source": [
        "Entwickelt einen auf maschinellem Lernen basierenden Algorithmus, um die Nachfrage nach Wein in einem auf dieses Produkt spezialisierten Geschäft vorherzusagen."
      ],
      "metadata": {
        "id": "D5wUVHht95eq"
      }
    },
    {
      "cell_type": "markdown",
      "source": [
        "- Führen eine explorative Analyse der Daten durch, um den Datensatz zu verstehen und das Vorhandensein von Anomalien zu überprüfen, die geeignete Behandlungen erfordern.\n",
        "- Erstellen eines Modelle für maschinelles Lernen mit verschiedenen Arten von maschinellem Lernen.\n",
        "- Bewerten eines Modells, um das Modell zu finden, das die beste Leistung erbringt."
      ],
      "metadata": {
        "id": "r4HmXko9_kVM"
      }
    },
    {
      "cell_type": "markdown",
      "source": [
        "Einige Fragen, die diese Art von Arbeit beantworten kann:\n",
        "\n",
        "- Wie schnell werden die Produkte verkauft?\n",
        "- Welche Artikel brauchen länger, um verkauft zu werden?\n",
        "- Wie viele Tage Vorrat sind noch verfügbar?\n",
        "- Wo befinden sich Ihre Kunden im Vergleich zu den Orten, von denen aus Sie die Produkte versenden?\n",
        "- Rentabilität pro Bestellung, durchschnittliche Versandkosten und durchschnittlicher Betrag, den Kunden ausgeben.\n",
        "- Täglicher Status der Bestellungen.\n",
        "- Wie verhält sich die aktuelle Nachfrage im Vergleich zu früheren Perioden?\n",
        "- Wie beeinflussen verschiedene Monate und Jahreszeiten Ihre Verkäufe?\n",
        "- Bestverkaufte Produkte des Geschäfts und deren Anteil am Geschäftserfolg."
      ],
      "metadata": {
        "id": "HRVJgNaicDVH"
      }
    },
    {
      "cell_type": "markdown",
      "source": [
        "Nachdem Sie die Bedeutung und den Wert dieser Art von Arbeit verstanden haben, ist es an der Zeit, besser zu verstehen, wie sie funktioniert und worauf Sie achten müssen, um eine gründliche Arbeit zu leisten.\n",
        "\n",
        "Bedenken wir zunächst, dass es sich um ein **Zeitreihenproblem** handelt, das alle Details umfasst, die diese Art von Problem mit sich bringt, wie Saisonalität, Aufmerksamkeit dafür, ob die Reihe stationär ist usw."
      ],
      "metadata": {
        "id": "oYkmrKQ8WdnD"
      }
    },
    {
      "cell_type": "markdown",
      "source": [
        "## Zeitreihen"
      ],
      "metadata": {
        "id": "Nty8697s8cLN"
      }
    },
    {
      "cell_type": "markdown",
      "source": [
        "Die Zeitreihenanalyse ist ein fundamentaler Bestandteil der Datenanalyse, der sich mit der Untersuchung von Datensätzen beschäftigt, die sequentielle Informationen über Zeitintervalle hinweg aufzeichnen. Diese Art der Analyse ermöglicht es, Muster, Trends und zyklische Variationen in den Daten zu identifizieren, zu verstehen und vorherzusagen. Die Bedeutung der Zeitreihenanalyse erstreckt sich über zahlreiche Anwendungsbereiche, von der Wettervorhersage und Finanzmarktanalyse bis hin zur Vorhersage von Verbrauchertrends und der Optimierung von Betriebsabläufen in der Industrie. Durch die Fähigkeit, zukünftige Ereignisse auf Basis historischer Daten vorherzusagen, ermöglicht die Zeitreihenanalyse Entscheidungsträgern in Unternehmen und Organisationen, informierte Strategien zu entwickeln und Risiken zu minimieren.[Link](https://gpt5.blog/zeitreihenanalyse-time-series-analysis/)"
      ],
      "metadata": {
        "id": "yIPaRN1rAlmG"
      }
    },
    {
      "cell_type": "markdown",
      "source": [
        "## Wozu dient die Zeitreihenanalyse?"
      ],
      "metadata": {
        "id": "GXljjgLMI7yz"
      }
    },
    {
      "cell_type": "markdown",
      "source": [
        "Die Zeitreihenanalyse dient einer Vielzahl von Zwecken, darunter:\n",
        "\n",
        "- Vorhersage zukünftiger Ereignisse durch Erkennen von Mustern in historischen Daten (z.B. Aktienkursvorhersagen).\n",
        "- Identifikation von Trends, die Entscheidungsträgern helfen können, informierte Entscheidungen zu treffen (z.B. in der Wirtschaft).\n",
        "- Verständnis der zyklischen Variationen von Zeitreihendaten (z.B. Saisonalität von Verkaufszahlen)."
      ],
      "metadata": {
        "id": "ecvaARY3JCVr"
      }
    },
    {
      "cell_type": "markdown",
      "source": [
        "## Grundbegriffe der Zeitreihenanalyse"
      ],
      "metadata": {
        "id": "AGr8nhF1JT4j"
      }
    },
    {
      "cell_type": "markdown",
      "source": [
        "**Zeitreihe:** Eine Sequenz von Datenpunkten, die in aufeinanderfolgender zeitlicher Reihenfolge gemessen und aufgezeichnet werden.\n",
        "\n",
        "Um die Zeitreihenanalyse effektiv zu nutzen, ist es wichtig, mit einigen grundlegenden Begriffen vertraut zu sein:\n",
        "\n",
        "- **Datenpunkt:** Ein einzelner Wert oder eine Beobachtung in der Zeitreihe.\n",
        "- **Zeitstempel:** Der spezifische Zeitpunkt, zu dem ein Datenpunkt erfasst wurde.\n",
        "- **Trend:**  Die allgemeine Richtung, in die sich die Zeitreihe über einen längeren Zeitraum hinweg bewegt."
      ],
      "metadata": {
        "id": "cDuoauQyJdJb"
      }
    },
    {
      "cell_type": "markdown",
      "source": [
        "## Stationarität in der Zeitreihenanalyse verstehen"
      ],
      "metadata": {
        "id": "4l77ZdDrJ_dj"
      }
    },
    {
      "cell_type": "markdown",
      "source": [
        "**Stationär:** Eine Zeitreihe ist stationär, wenn ihre statistischen Eigenschaften (wie Mittelwert und Varianz) über die Zeit konstant bleiben.\n",
        "\n",
        "Die Stationarität ist ein Schlüsselkonzept in der Zeitreihenanalyse, da viele Analysemethoden davon ausgehen, dass die Zeitreihe stationär ist, oder Maßnahmen erfordern, um eine nicht-stationäre Zeitreihe in eine stationäre umzuwandeln. Es gibt zwei Haupttypen der Stationarität:\n",
        "\n",
        "- **Schwach stationär:** Nur der Mittelwert und die Varianz der Zeitreihe bleiben über die Zeit konstant.\n",
        "- **Stark stationär**: Alle statistischen Eigenschaften der Zeitreihe bleiben über die Zeit konstant."
      ],
      "metadata": {
        "id": "xml2KBexKFrz"
      }
    },
    {
      "cell_type": "markdown",
      "source": [
        "## Verschiedene Arten von Zeitreihen"
      ],
      "metadata": {
        "id": "ZZb-hpzEKXiC"
      }
    },
    {
      "cell_type": "markdown",
      "source": [
        "Es gibt verschiedene Arten von Zeitreihen, die auf spezifische Weise analysiert und interpretiert werden müssen:"
      ],
      "metadata": {
        "id": "bbr9th8pKdLz"
      }
    },
    {
      "cell_type": "markdown",
      "source": [
        "\n",
        "Art der Zeitreihe\n",
        "\n",
        "* **Trend Zeitreihe:**    Eine Zeitreihe, die eine langfristige Zunahme  oder Abnahme aufweist.\n",
        "\n",
        "* **Saisonale Zeitreihe:**\t        Eine Zeitreihe mit regelmäßigen Mustern, die sich in einem festen Zeitrahmen wiederholen, z.B. jährlich.\n",
        "\n",
        "     \n",
        "* **Zyklische Zeitreihe**\t      Zeitreihen mit Mustern, die sich nicht nach einem festen Zeitrahmen wiederholen und oft mit der Wirtschaftslage in Verbindung stehen.\n",
        "\n",
        "\n",
        "* **Rauschen**  Rauschen ist die zufällige Variation von Daten, die nicht durch andere Komponenten erklärt werden kann.\n",
        "\n"
      ],
      "metadata": {
        "id": "d_nJd4oQKi57"
      }
    },
    {
      "cell_type": "markdown",
      "source": [
        "# Was ist Autokorrelation in einer Zeitreihe?"
      ],
      "metadata": {
        "id": "8w-QJ03bnvjf"
      }
    },
    {
      "cell_type": "markdown",
      "source": [
        "Autokorrelation ist das Maß für die Korrelation zwischen einer Zeitreihe und einer verschobenen Version ihrer selbst.\n",
        "\n",
        "Mit anderen Worten: Es handelt sich um das Maß für die Ähnlichkeit zwischen Daten zu unterschiedlichen Zeitpunkten.\n",
        "\n",
        "Wenn Sie beispielsweise die Temperatur von heute mit der Temperatur von gestern korrelieren, werden Sie feststellen, dass eine positive Korrelation besteht.\n"
      ],
      "metadata": {
        "id": "4_SCFld-n_Gv"
      }
    },
    {
      "cell_type": "markdown",
      "source": [
        "<p align=center>\n",
        "<img src=\"https://mariofilho.com/img/guia_ts/4.png\" width=\"70%\"></p>"
      ],
      "metadata": {
        "id": "hH-VtfhUoOJ4"
      }
    },
    {
      "cell_type": "markdown",
      "source": [
        "Mit anderen Worten: Wenn die Temperatur gestern hoch war, ist die Temperatur heute tendenziell auch hoch. Denken Sie daran, dass Korrelation keine Kausalität bedeutet: Die Temperatur von gestern hat nicht die Temperatur von heute verursacht, aber sie hängen zusammen.\n",
        "\n",
        "In der Grafik sehen Sie, dass die höchste Autokorrelation mit dem Vortag besteht (Verzögerung 1) und im Vergleich zu weiter entfernten Tagen abnimmt.\n",
        "\n",
        "Wenn die Daten völlig zufällig sind, das heißt, ein Wert keine Beziehung zum vorherigen Wert hat, ist die Autokorrelation Null. Ein Beispiel für eine Autokorrelation, die sehr nahe bei Null liegt, ist die Korrelation zwischen den Renditen aufeinanderfolgender Tage des Dax  Index."
      ],
      "metadata": {
        "id": "e0xbXquBoiRn"
      }
    },
    {
      "cell_type": "markdown",
      "source": [
        "<p align=center>\n",
        "<img src=\"https://mariofilho.com/img/guia_ts/5.png\" width=\"70%\"></p>"
      ],
      "metadata": {
        "id": "qQlC1qDCo5GP"
      }
    },
    {
      "cell_type": "markdown",
      "source": [
        "Achten Sie auf die Y-Achse, die in diesem Fall von -0,25 bis 0,25 reicht, um die Autokorrelation besser darzustellen. Die schwarzen Balken zeigen an, ob die Autokorrelation den Test der statistischen Signifikanz besteht.\n",
        "\n",
        "Mit anderen Worten: Zahlen dazwischen zeigen an, dass die gemessene Autokorrelation statistisch gesehen nicht von Null abweicht, wir sehen lediglich Abweichungen von Null aufgrund von Rauschen. Im Allgemeinen steht die Rückkehr eines Tages in keinem Zusammenhang mit der Rückkehr des Vortages.\n",
        "\n",
        "Im Falle einer negativen Autokorrelation können wir an eine Reihe von körperlichen Übungen denken. Wenn Sie heute 10 km laufen, werden Sie morgen wahrscheinlich müder sein und nicht mehr so ​​weit laufen können. Je mehr Sie an einem Tag (vorheriger Zeitraum) laufen, desto weniger können Sie am nächsten Tag (aktueller Zeitraum) laufen."
      ],
      "metadata": {
        "id": "ZlcdVSNNwQuv"
      }
    },
    {
      "cell_type": "markdown",
      "source": [
        "https://mariofilho.com/guia-rapido-para-iniciantes-em-series-temporais-time-series/\n",
        "\n",
        "\n",
        "https://app.studysmarter.de/studyset/21210735/summary/71661205"
      ],
      "metadata": {
        "id": "1d8RRKgbPHtg"
      }
    },
    {
      "cell_type": "markdown",
      "source": [
        "**produtos.csv**\n",
        "- country: país de origem do vinho\n",
        "- item_id: número de identificação do item\n",
        "- kind: tipo do vinho:\n",
        "\n",
        "  - sparkling: espumante\n",
        "  - rose sparkling: espumante rosé\n",
        "  - white: branco\n",
        "  - rosé: rosé\n",
        "  - red: tinto\n",
        "- name: nome do vinho\n",
        "-  price_brl: preço em reais\n",
        "- price_usd: preço em dólar americano\n",
        "- producer: nome do produtor do vinho\n",
        "- region: região de produção do vinho\n",
        "- vintage: ano da safra\n",
        "\n",
        "Deutsch\n",
        "\n",
        "- country: Herkunftsland des Weins\n",
        "- item_id: Identifikationsnummer des Artikels\n",
        "- kind: Weintyp:\n",
        "  - sparkling: Schaumwein\n",
        "  - rose sparkling: Rosé-Schaumwein\n",
        "  - white: Weißwein\n",
        "  - rosé: Roséwein\n",
        "  - red: Rotwein\n",
        "- name: Name des Weins\n",
        "- price_brl: Preis in brasilianischen Reais\n",
        "- price_usd: Preis in US-Dollar\n",
        "- producer: Name des Produzenten des Weins\n",
        "- region: Produktionsregion des Weins\n",
        "- vintage: Jahrgang des Weins"
      ],
      "metadata": {
        "id": "jJzcCLx-g6TV"
      }
    },
    {
      "cell_type": "markdown",
      "source": [
        "**vendas.csv**\n",
        "\n",
        "- date: data da venda\n",
        "- item: número de identificação do item\n",
        "- store: loja\n",
        "- sales: quantidade vendida\n",
        "\n",
        "\n",
        "Deutsch\n",
        "\n",
        "- date: Verkaufsdatum\n",
        "- item: Identifikationsnummer des Artikels\n",
        "- store: Geschäft\n",
        "- sales: Verkaufsmenge"
      ],
      "metadata": {
        "id": "Z2BnXyFEiwHm"
      }
    },
    {
      "cell_type": "code",
      "source": [
        "# importando as bibliotecas\n",
        "import pandas as pd\n",
        "import numpy as np\n",
        "import plotly.graph_objects as go\n",
        "from plotly.subplots import make_subplots\n",
        "import matplotlib.pyplot as plt\n",
        "import seaborn as sns\n",
        "\n",
        "\n",
        "import warnings                   # notificações\n",
        "warnings.filterwarnings('ignore') # configurar notificações para serem ignoradas\n",
        "\n",
        "# configurações adicionais\n",
        "#plt.style.use('ggplot')\n",
        "# sns.set_style('dark')\n",
        "\n",
        "import matplotlib.pyplot as plt\n",
        "import numpy as np\n",
        "from matplotlib import rcParams\n",
        "\n",
        "\n",
        "\n",
        "# configurar a visualização\n",
        "%matplotlib inline\n",
        "%config InlineBackend.figure_format = 'svg'\n",
        "\n",
        "# configurar a visualização\n",
        "%matplotlib inline\n",
        "%config InlineBackend.figure_format = 'svg'\n",
        "\n",
        "# configurando parâmetros das fontes\n",
        "plt.rcParams['font.family'] = 'sans-serif'"
      ],
      "metadata": {
        "id": "pXHTSSDQMYcP"
      },
      "execution_count": 1,
      "outputs": []
    },
    {
      "cell_type": "code",
      "source": [
        "# importar os conjuntos de dados e atribuí-los em variáveis\n",
        "df_products_raw = pd.read_csv('https://www.dropbox.com/scl/fi/t8wr73843nxvcw949twi3/products.csv?rlkey=qrms57xtev2rzqzpxuqoc9yif&dl=1')\n",
        "df_sales_raw   = pd.read_csv('https://www.dropbox.com/scl/fi/hlrspaogkay44qe45bbf4/sales.csv?rlkey=j9rlkn2r97j3swfpg9irckvgm&dl=1')\n",
        "\n",
        "print (df_products_raw.shape)"
      ],
      "metadata": {
        "id": "ru6Xdd2RNDLX",
        "colab": {
          "base_uri": "https://localhost:8080/"
        },
        "outputId": "8345de14-daa4-4d4d-b259-89f7c75129ee"
      },
      "execution_count": 2,
      "outputs": [
        {
          "output_type": "stream",
          "name": "stdout",
          "text": [
            "(219, 9)\n"
          ]
        }
      ]
    },
    {
      "cell_type": "code",
      "source": [
        "df_products_raw.head()"
      ],
      "metadata": {
        "colab": {
          "base_uri": "https://localhost:8080/",
          "height": 206
        },
        "id": "T2BkvzcXNJN3",
        "outputId": "56ce1146-8150-418d-af67-795f84f45693"
      },
      "execution_count": 3,
      "outputs": [
        {
          "output_type": "execute_result",
          "data": {
            "text/plain": [
              "   item_id                                          name     producer country  \\\n",
              "0        1              Philipponnat Royale Reserve Brut  Philipponat  France   \n",
              "1        2              Philipponnat Royale Reserve Rosé  Philipponat  France   \n",
              "2        3  Philipponnat Cuvée 1522 Grand Cru Extra Brut  Philipponat  France   \n",
              "3        4          Philipponnat Cuvée 1522 1er Cru Rosé  Philipponat  France   \n",
              "4        5            Philipponnat Clos Des Goisses Brut  Philipponat  France   \n",
              "\n",
              "      region vintage            kind price_brl price_usd  \n",
              "0  Champagne      NV       sparkling    339.60     58.75  \n",
              "1  Champagne      NV  rose sparkling    489.00     84.60  \n",
              "2  Champagne    2009       sparkling    789.00    136.51  \n",
              "3  Champagne    2008  rose sparkling    899.40    155.61  \n",
              "4  Champagne    2009       sparkling  1,548.00    267.82  "
            ],
            "text/html": [
              "\n",
              "  <div id=\"df-755e613e-a796-4f00-947f-ab934efc85a5\" class=\"colab-df-container\">\n",
              "    <div>\n",
              "<style scoped>\n",
              "    .dataframe tbody tr th:only-of-type {\n",
              "        vertical-align: middle;\n",
              "    }\n",
              "\n",
              "    .dataframe tbody tr th {\n",
              "        vertical-align: top;\n",
              "    }\n",
              "\n",
              "    .dataframe thead th {\n",
              "        text-align: right;\n",
              "    }\n",
              "</style>\n",
              "<table border=\"1\" class=\"dataframe\">\n",
              "  <thead>\n",
              "    <tr style=\"text-align: right;\">\n",
              "      <th></th>\n",
              "      <th>item_id</th>\n",
              "      <th>name</th>\n",
              "      <th>producer</th>\n",
              "      <th>country</th>\n",
              "      <th>region</th>\n",
              "      <th>vintage</th>\n",
              "      <th>kind</th>\n",
              "      <th>price_brl</th>\n",
              "      <th>price_usd</th>\n",
              "    </tr>\n",
              "  </thead>\n",
              "  <tbody>\n",
              "    <tr>\n",
              "      <th>0</th>\n",
              "      <td>1</td>\n",
              "      <td>Philipponnat Royale Reserve Brut</td>\n",
              "      <td>Philipponat</td>\n",
              "      <td>France</td>\n",
              "      <td>Champagne</td>\n",
              "      <td>NV</td>\n",
              "      <td>sparkling</td>\n",
              "      <td>339.60</td>\n",
              "      <td>58.75</td>\n",
              "    </tr>\n",
              "    <tr>\n",
              "      <th>1</th>\n",
              "      <td>2</td>\n",
              "      <td>Philipponnat Royale Reserve Rosé</td>\n",
              "      <td>Philipponat</td>\n",
              "      <td>France</td>\n",
              "      <td>Champagne</td>\n",
              "      <td>NV</td>\n",
              "      <td>rose sparkling</td>\n",
              "      <td>489.00</td>\n",
              "      <td>84.60</td>\n",
              "    </tr>\n",
              "    <tr>\n",
              "      <th>2</th>\n",
              "      <td>3</td>\n",
              "      <td>Philipponnat Cuvée 1522 Grand Cru Extra Brut</td>\n",
              "      <td>Philipponat</td>\n",
              "      <td>France</td>\n",
              "      <td>Champagne</td>\n",
              "      <td>2009</td>\n",
              "      <td>sparkling</td>\n",
              "      <td>789.00</td>\n",
              "      <td>136.51</td>\n",
              "    </tr>\n",
              "    <tr>\n",
              "      <th>3</th>\n",
              "      <td>4</td>\n",
              "      <td>Philipponnat Cuvée 1522 1er Cru Rosé</td>\n",
              "      <td>Philipponat</td>\n",
              "      <td>France</td>\n",
              "      <td>Champagne</td>\n",
              "      <td>2008</td>\n",
              "      <td>rose sparkling</td>\n",
              "      <td>899.40</td>\n",
              "      <td>155.61</td>\n",
              "    </tr>\n",
              "    <tr>\n",
              "      <th>4</th>\n",
              "      <td>5</td>\n",
              "      <td>Philipponnat Clos Des Goisses Brut</td>\n",
              "      <td>Philipponat</td>\n",
              "      <td>France</td>\n",
              "      <td>Champagne</td>\n",
              "      <td>2009</td>\n",
              "      <td>sparkling</td>\n",
              "      <td>1,548.00</td>\n",
              "      <td>267.82</td>\n",
              "    </tr>\n",
              "  </tbody>\n",
              "</table>\n",
              "</div>\n",
              "    <div class=\"colab-df-buttons\">\n",
              "\n",
              "  <div class=\"colab-df-container\">\n",
              "    <button class=\"colab-df-convert\" onclick=\"convertToInteractive('df-755e613e-a796-4f00-947f-ab934efc85a5')\"\n",
              "            title=\"Convert this dataframe to an interactive table.\"\n",
              "            style=\"display:none;\">\n",
              "\n",
              "  <svg xmlns=\"http://www.w3.org/2000/svg\" height=\"24px\" viewBox=\"0 -960 960 960\">\n",
              "    <path d=\"M120-120v-720h720v720H120Zm60-500h600v-160H180v160Zm220 220h160v-160H400v160Zm0 220h160v-160H400v160ZM180-400h160v-160H180v160Zm440 0h160v-160H620v160ZM180-180h160v-160H180v160Zm440 0h160v-160H620v160Z\"/>\n",
              "  </svg>\n",
              "    </button>\n",
              "\n",
              "  <style>\n",
              "    .colab-df-container {\n",
              "      display:flex;\n",
              "      gap: 12px;\n",
              "    }\n",
              "\n",
              "    .colab-df-convert {\n",
              "      background-color: #E8F0FE;\n",
              "      border: none;\n",
              "      border-radius: 50%;\n",
              "      cursor: pointer;\n",
              "      display: none;\n",
              "      fill: #1967D2;\n",
              "      height: 32px;\n",
              "      padding: 0 0 0 0;\n",
              "      width: 32px;\n",
              "    }\n",
              "\n",
              "    .colab-df-convert:hover {\n",
              "      background-color: #E2EBFA;\n",
              "      box-shadow: 0px 1px 2px rgba(60, 64, 67, 0.3), 0px 1px 3px 1px rgba(60, 64, 67, 0.15);\n",
              "      fill: #174EA6;\n",
              "    }\n",
              "\n",
              "    .colab-df-buttons div {\n",
              "      margin-bottom: 4px;\n",
              "    }\n",
              "\n",
              "    [theme=dark] .colab-df-convert {\n",
              "      background-color: #3B4455;\n",
              "      fill: #D2E3FC;\n",
              "    }\n",
              "\n",
              "    [theme=dark] .colab-df-convert:hover {\n",
              "      background-color: #434B5C;\n",
              "      box-shadow: 0px 1px 3px 1px rgba(0, 0, 0, 0.15);\n",
              "      filter: drop-shadow(0px 1px 2px rgba(0, 0, 0, 0.3));\n",
              "      fill: #FFFFFF;\n",
              "    }\n",
              "  </style>\n",
              "\n",
              "    <script>\n",
              "      const buttonEl =\n",
              "        document.querySelector('#df-755e613e-a796-4f00-947f-ab934efc85a5 button.colab-df-convert');\n",
              "      buttonEl.style.display =\n",
              "        google.colab.kernel.accessAllowed ? 'block' : 'none';\n",
              "\n",
              "      async function convertToInteractive(key) {\n",
              "        const element = document.querySelector('#df-755e613e-a796-4f00-947f-ab934efc85a5');\n",
              "        const dataTable =\n",
              "          await google.colab.kernel.invokeFunction('convertToInteractive',\n",
              "                                                    [key], {});\n",
              "        if (!dataTable) return;\n",
              "\n",
              "        const docLinkHtml = 'Like what you see? Visit the ' +\n",
              "          '<a target=\"_blank\" href=https://colab.research.google.com/notebooks/data_table.ipynb>data table notebook</a>'\n",
              "          + ' to learn more about interactive tables.';\n",
              "        element.innerHTML = '';\n",
              "        dataTable['output_type'] = 'display_data';\n",
              "        await google.colab.output.renderOutput(dataTable, element);\n",
              "        const docLink = document.createElement('div');\n",
              "        docLink.innerHTML = docLinkHtml;\n",
              "        element.appendChild(docLink);\n",
              "      }\n",
              "    </script>\n",
              "  </div>\n",
              "\n",
              "\n",
              "<div id=\"df-cd2b2215-f59d-41dd-aa89-065a07a42b72\">\n",
              "  <button class=\"colab-df-quickchart\" onclick=\"quickchart('df-cd2b2215-f59d-41dd-aa89-065a07a42b72')\"\n",
              "            title=\"Suggest charts\"\n",
              "            style=\"display:none;\">\n",
              "\n",
              "<svg xmlns=\"http://www.w3.org/2000/svg\" height=\"24px\"viewBox=\"0 0 24 24\"\n",
              "     width=\"24px\">\n",
              "    <g>\n",
              "        <path d=\"M19 3H5c-1.1 0-2 .9-2 2v14c0 1.1.9 2 2 2h14c1.1 0 2-.9 2-2V5c0-1.1-.9-2-2-2zM9 17H7v-7h2v7zm4 0h-2V7h2v10zm4 0h-2v-4h2v4z\"/>\n",
              "    </g>\n",
              "</svg>\n",
              "  </button>\n",
              "\n",
              "<style>\n",
              "  .colab-df-quickchart {\n",
              "      --bg-color: #E8F0FE;\n",
              "      --fill-color: #1967D2;\n",
              "      --hover-bg-color: #E2EBFA;\n",
              "      --hover-fill-color: #174EA6;\n",
              "      --disabled-fill-color: #AAA;\n",
              "      --disabled-bg-color: #DDD;\n",
              "  }\n",
              "\n",
              "  [theme=dark] .colab-df-quickchart {\n",
              "      --bg-color: #3B4455;\n",
              "      --fill-color: #D2E3FC;\n",
              "      --hover-bg-color: #434B5C;\n",
              "      --hover-fill-color: #FFFFFF;\n",
              "      --disabled-bg-color: #3B4455;\n",
              "      --disabled-fill-color: #666;\n",
              "  }\n",
              "\n",
              "  .colab-df-quickchart {\n",
              "    background-color: var(--bg-color);\n",
              "    border: none;\n",
              "    border-radius: 50%;\n",
              "    cursor: pointer;\n",
              "    display: none;\n",
              "    fill: var(--fill-color);\n",
              "    height: 32px;\n",
              "    padding: 0;\n",
              "    width: 32px;\n",
              "  }\n",
              "\n",
              "  .colab-df-quickchart:hover {\n",
              "    background-color: var(--hover-bg-color);\n",
              "    box-shadow: 0 1px 2px rgba(60, 64, 67, 0.3), 0 1px 3px 1px rgba(60, 64, 67, 0.15);\n",
              "    fill: var(--button-hover-fill-color);\n",
              "  }\n",
              "\n",
              "  .colab-df-quickchart-complete:disabled,\n",
              "  .colab-df-quickchart-complete:disabled:hover {\n",
              "    background-color: var(--disabled-bg-color);\n",
              "    fill: var(--disabled-fill-color);\n",
              "    box-shadow: none;\n",
              "  }\n",
              "\n",
              "  .colab-df-spinner {\n",
              "    border: 2px solid var(--fill-color);\n",
              "    border-color: transparent;\n",
              "    border-bottom-color: var(--fill-color);\n",
              "    animation:\n",
              "      spin 1s steps(1) infinite;\n",
              "  }\n",
              "\n",
              "  @keyframes spin {\n",
              "    0% {\n",
              "      border-color: transparent;\n",
              "      border-bottom-color: var(--fill-color);\n",
              "      border-left-color: var(--fill-color);\n",
              "    }\n",
              "    20% {\n",
              "      border-color: transparent;\n",
              "      border-left-color: var(--fill-color);\n",
              "      border-top-color: var(--fill-color);\n",
              "    }\n",
              "    30% {\n",
              "      border-color: transparent;\n",
              "      border-left-color: var(--fill-color);\n",
              "      border-top-color: var(--fill-color);\n",
              "      border-right-color: var(--fill-color);\n",
              "    }\n",
              "    40% {\n",
              "      border-color: transparent;\n",
              "      border-right-color: var(--fill-color);\n",
              "      border-top-color: var(--fill-color);\n",
              "    }\n",
              "    60% {\n",
              "      border-color: transparent;\n",
              "      border-right-color: var(--fill-color);\n",
              "    }\n",
              "    80% {\n",
              "      border-color: transparent;\n",
              "      border-right-color: var(--fill-color);\n",
              "      border-bottom-color: var(--fill-color);\n",
              "    }\n",
              "    90% {\n",
              "      border-color: transparent;\n",
              "      border-bottom-color: var(--fill-color);\n",
              "    }\n",
              "  }\n",
              "</style>\n",
              "\n",
              "  <script>\n",
              "    async function quickchart(key) {\n",
              "      const quickchartButtonEl =\n",
              "        document.querySelector('#' + key + ' button');\n",
              "      quickchartButtonEl.disabled = true;  // To prevent multiple clicks.\n",
              "      quickchartButtonEl.classList.add('colab-df-spinner');\n",
              "      try {\n",
              "        const charts = await google.colab.kernel.invokeFunction(\n",
              "            'suggestCharts', [key], {});\n",
              "      } catch (error) {\n",
              "        console.error('Error during call to suggestCharts:', error);\n",
              "      }\n",
              "      quickchartButtonEl.classList.remove('colab-df-spinner');\n",
              "      quickchartButtonEl.classList.add('colab-df-quickchart-complete');\n",
              "    }\n",
              "    (() => {\n",
              "      let quickchartButtonEl =\n",
              "        document.querySelector('#df-cd2b2215-f59d-41dd-aa89-065a07a42b72 button');\n",
              "      quickchartButtonEl.style.display =\n",
              "        google.colab.kernel.accessAllowed ? 'block' : 'none';\n",
              "    })();\n",
              "  </script>\n",
              "</div>\n",
              "\n",
              "    </div>\n",
              "  </div>\n"
            ],
            "application/vnd.google.colaboratory.intrinsic+json": {
              "type": "dataframe",
              "variable_name": "df_products_raw",
              "summary": "{\n  \"name\": \"df_products_raw\",\n  \"rows\": 219,\n  \"fields\": [\n    {\n      \"column\": \"item_id\",\n      \"properties\": {\n        \"dtype\": \"number\",\n        \"std\": 63,\n        \"min\": 1,\n        \"max\": 219,\n        \"num_unique_values\": 219,\n        \"samples\": [\n          155,\n          94,\n          217\n        ],\n        \"semantic_type\": \"\",\n        \"description\": \"\"\n      }\n    },\n    {\n      \"column\": \"name\",\n      \"properties\": {\n        \"dtype\": \"string\",\n        \"num_unique_values\": 188,\n        \"samples\": [\n          \"Achaval-Ferrer Quimera\",\n          \"Aalto - 1.5L (Magnum)\",\n          \"Mirabeau Etoile\"\n        ],\n        \"semantic_type\": \"\",\n        \"description\": \"\"\n      }\n    },\n    {\n      \"column\": \"producer\",\n      \"properties\": {\n        \"dtype\": \"category\",\n        \"num_unique_values\": 58,\n        \"samples\": [\n          \"Philipponat\",\n          \"Mirabeau\",\n          \"Chateau Ducru Beaucaillou\"\n        ],\n        \"semantic_type\": \"\",\n        \"description\": \"\"\n      }\n    },\n    {\n      \"column\": \"country\",\n      \"properties\": {\n        \"dtype\": \"category\",\n        \"num_unique_values\": 6,\n        \"samples\": [\n          \"France\",\n          \"Italy\",\n          \"Argentina\"\n        ],\n        \"semantic_type\": \"\",\n        \"description\": \"\"\n      }\n    },\n    {\n      \"column\": \"region\",\n      \"properties\": {\n        \"dtype\": \"category\",\n        \"num_unique_values\": 21,\n        \"samples\": [\n          \"Champagne\",\n          \"Douro\",\n          \"Rioja\"\n        ],\n        \"semantic_type\": \"\",\n        \"description\": \"\"\n      }\n    },\n    {\n      \"column\": \"vintage\",\n      \"properties\": {\n        \"dtype\": \"category\",\n        \"num_unique_values\": 17,\n        \"samples\": [\n          \"NV\",\n          \"2009\",\n          \"2018\"\n        ],\n        \"semantic_type\": \"\",\n        \"description\": \"\"\n      }\n    },\n    {\n      \"column\": \"kind\",\n      \"properties\": {\n        \"dtype\": \"category\",\n        \"num_unique_values\": 5,\n        \"samples\": [\n          \"rose sparkling\",\n          \"red\",\n          \"white\"\n        ],\n        \"semantic_type\": \"\",\n        \"description\": \"\"\n      }\n    },\n    {\n      \"column\": \"price_brl\",\n      \"properties\": {\n        \"dtype\": \"string\",\n        \"num_unique_values\": 123,\n        \"samples\": [\n          \"159.60\",\n          \"449.40\",\n          \"425.40\"\n        ],\n        \"semantic_type\": \"\",\n        \"description\": \"\"\n      }\n    },\n    {\n      \"column\": \"price_usd\",\n      \"properties\": {\n        \"dtype\": \"string\",\n        \"num_unique_values\": 121,\n        \"samples\": [\n          \"60.42\",\n          \"73.60\",\n          \"267.82\"\n        ],\n        \"semantic_type\": \"\",\n        \"description\": \"\"\n      }\n    }\n  ]\n}"
            }
          },
          "metadata": {},
          "execution_count": 3
        }
      ]
    },
    {
      "cell_type": "markdown",
      "source": [
        "# Datenvorbereitung für die Analyse"
      ],
      "metadata": {
        "id": "u4Ie_55440se"
      }
    },
    {
      "cell_type": "markdown",
      "source": [
        "Der erste Schritt in unserer Analyse besteht darin, die Daten für die Verarbeitung vorzubereiten.\n",
        "\n",
        "Ein erster Blick auf die Preisdaten zeigt, dass einige Werte Kommata enthalten, was von Python nicht korrekt interpretiert werden kann. Um mit dieser Variablen besser arbeiten zu können und sie in einen numerischen Datentyp (Float) umzuwandeln, müssen wir die Kommata entfernen."
      ],
      "metadata": {
        "id": "g_wpPTSc9oit"
      }
    },
    {
      "cell_type": "code",
      "source": [
        "# limpando as vírgulas\n",
        "df_products_raw.replace(',','', regex=True, inplace=True)\n",
        "df_products_raw.head()"
      ],
      "metadata": {
        "colab": {
          "base_uri": "https://localhost:8080/",
          "height": 206
        },
        "id": "GGm4O49e93l2",
        "outputId": "13509b3d-f4d1-468b-b4ec-26576356ac88"
      },
      "execution_count": 4,
      "outputs": [
        {
          "output_type": "execute_result",
          "data": {
            "text/plain": [
              "   item_id                                          name     producer country  \\\n",
              "0        1              Philipponnat Royale Reserve Brut  Philipponat  France   \n",
              "1        2              Philipponnat Royale Reserve Rosé  Philipponat  France   \n",
              "2        3  Philipponnat Cuvée 1522 Grand Cru Extra Brut  Philipponat  France   \n",
              "3        4          Philipponnat Cuvée 1522 1er Cru Rosé  Philipponat  France   \n",
              "4        5            Philipponnat Clos Des Goisses Brut  Philipponat  France   \n",
              "\n",
              "      region vintage            kind price_brl price_usd  \n",
              "0  Champagne      NV       sparkling    339.60     58.75  \n",
              "1  Champagne      NV  rose sparkling    489.00     84.60  \n",
              "2  Champagne    2009       sparkling    789.00    136.51  \n",
              "3  Champagne    2008  rose sparkling    899.40    155.61  \n",
              "4  Champagne    2009       sparkling   1548.00    267.82  "
            ],
            "text/html": [
              "\n",
              "  <div id=\"df-23630812-ea4e-405a-80c7-1bc3ac8c0dc9\" class=\"colab-df-container\">\n",
              "    <div>\n",
              "<style scoped>\n",
              "    .dataframe tbody tr th:only-of-type {\n",
              "        vertical-align: middle;\n",
              "    }\n",
              "\n",
              "    .dataframe tbody tr th {\n",
              "        vertical-align: top;\n",
              "    }\n",
              "\n",
              "    .dataframe thead th {\n",
              "        text-align: right;\n",
              "    }\n",
              "</style>\n",
              "<table border=\"1\" class=\"dataframe\">\n",
              "  <thead>\n",
              "    <tr style=\"text-align: right;\">\n",
              "      <th></th>\n",
              "      <th>item_id</th>\n",
              "      <th>name</th>\n",
              "      <th>producer</th>\n",
              "      <th>country</th>\n",
              "      <th>region</th>\n",
              "      <th>vintage</th>\n",
              "      <th>kind</th>\n",
              "      <th>price_brl</th>\n",
              "      <th>price_usd</th>\n",
              "    </tr>\n",
              "  </thead>\n",
              "  <tbody>\n",
              "    <tr>\n",
              "      <th>0</th>\n",
              "      <td>1</td>\n",
              "      <td>Philipponnat Royale Reserve Brut</td>\n",
              "      <td>Philipponat</td>\n",
              "      <td>France</td>\n",
              "      <td>Champagne</td>\n",
              "      <td>NV</td>\n",
              "      <td>sparkling</td>\n",
              "      <td>339.60</td>\n",
              "      <td>58.75</td>\n",
              "    </tr>\n",
              "    <tr>\n",
              "      <th>1</th>\n",
              "      <td>2</td>\n",
              "      <td>Philipponnat Royale Reserve Rosé</td>\n",
              "      <td>Philipponat</td>\n",
              "      <td>France</td>\n",
              "      <td>Champagne</td>\n",
              "      <td>NV</td>\n",
              "      <td>rose sparkling</td>\n",
              "      <td>489.00</td>\n",
              "      <td>84.60</td>\n",
              "    </tr>\n",
              "    <tr>\n",
              "      <th>2</th>\n",
              "      <td>3</td>\n",
              "      <td>Philipponnat Cuvée 1522 Grand Cru Extra Brut</td>\n",
              "      <td>Philipponat</td>\n",
              "      <td>France</td>\n",
              "      <td>Champagne</td>\n",
              "      <td>2009</td>\n",
              "      <td>sparkling</td>\n",
              "      <td>789.00</td>\n",
              "      <td>136.51</td>\n",
              "    </tr>\n",
              "    <tr>\n",
              "      <th>3</th>\n",
              "      <td>4</td>\n",
              "      <td>Philipponnat Cuvée 1522 1er Cru Rosé</td>\n",
              "      <td>Philipponat</td>\n",
              "      <td>France</td>\n",
              "      <td>Champagne</td>\n",
              "      <td>2008</td>\n",
              "      <td>rose sparkling</td>\n",
              "      <td>899.40</td>\n",
              "      <td>155.61</td>\n",
              "    </tr>\n",
              "    <tr>\n",
              "      <th>4</th>\n",
              "      <td>5</td>\n",
              "      <td>Philipponnat Clos Des Goisses Brut</td>\n",
              "      <td>Philipponat</td>\n",
              "      <td>France</td>\n",
              "      <td>Champagne</td>\n",
              "      <td>2009</td>\n",
              "      <td>sparkling</td>\n",
              "      <td>1548.00</td>\n",
              "      <td>267.82</td>\n",
              "    </tr>\n",
              "  </tbody>\n",
              "</table>\n",
              "</div>\n",
              "    <div class=\"colab-df-buttons\">\n",
              "\n",
              "  <div class=\"colab-df-container\">\n",
              "    <button class=\"colab-df-convert\" onclick=\"convertToInteractive('df-23630812-ea4e-405a-80c7-1bc3ac8c0dc9')\"\n",
              "            title=\"Convert this dataframe to an interactive table.\"\n",
              "            style=\"display:none;\">\n",
              "\n",
              "  <svg xmlns=\"http://www.w3.org/2000/svg\" height=\"24px\" viewBox=\"0 -960 960 960\">\n",
              "    <path d=\"M120-120v-720h720v720H120Zm60-500h600v-160H180v160Zm220 220h160v-160H400v160Zm0 220h160v-160H400v160ZM180-400h160v-160H180v160Zm440 0h160v-160H620v160ZM180-180h160v-160H180v160Zm440 0h160v-160H620v160Z\"/>\n",
              "  </svg>\n",
              "    </button>\n",
              "\n",
              "  <style>\n",
              "    .colab-df-container {\n",
              "      display:flex;\n",
              "      gap: 12px;\n",
              "    }\n",
              "\n",
              "    .colab-df-convert {\n",
              "      background-color: #E8F0FE;\n",
              "      border: none;\n",
              "      border-radius: 50%;\n",
              "      cursor: pointer;\n",
              "      display: none;\n",
              "      fill: #1967D2;\n",
              "      height: 32px;\n",
              "      padding: 0 0 0 0;\n",
              "      width: 32px;\n",
              "    }\n",
              "\n",
              "    .colab-df-convert:hover {\n",
              "      background-color: #E2EBFA;\n",
              "      box-shadow: 0px 1px 2px rgba(60, 64, 67, 0.3), 0px 1px 3px 1px rgba(60, 64, 67, 0.15);\n",
              "      fill: #174EA6;\n",
              "    }\n",
              "\n",
              "    .colab-df-buttons div {\n",
              "      margin-bottom: 4px;\n",
              "    }\n",
              "\n",
              "    [theme=dark] .colab-df-convert {\n",
              "      background-color: #3B4455;\n",
              "      fill: #D2E3FC;\n",
              "    }\n",
              "\n",
              "    [theme=dark] .colab-df-convert:hover {\n",
              "      background-color: #434B5C;\n",
              "      box-shadow: 0px 1px 3px 1px rgba(0, 0, 0, 0.15);\n",
              "      filter: drop-shadow(0px 1px 2px rgba(0, 0, 0, 0.3));\n",
              "      fill: #FFFFFF;\n",
              "    }\n",
              "  </style>\n",
              "\n",
              "    <script>\n",
              "      const buttonEl =\n",
              "        document.querySelector('#df-23630812-ea4e-405a-80c7-1bc3ac8c0dc9 button.colab-df-convert');\n",
              "      buttonEl.style.display =\n",
              "        google.colab.kernel.accessAllowed ? 'block' : 'none';\n",
              "\n",
              "      async function convertToInteractive(key) {\n",
              "        const element = document.querySelector('#df-23630812-ea4e-405a-80c7-1bc3ac8c0dc9');\n",
              "        const dataTable =\n",
              "          await google.colab.kernel.invokeFunction('convertToInteractive',\n",
              "                                                    [key], {});\n",
              "        if (!dataTable) return;\n",
              "\n",
              "        const docLinkHtml = 'Like what you see? Visit the ' +\n",
              "          '<a target=\"_blank\" href=https://colab.research.google.com/notebooks/data_table.ipynb>data table notebook</a>'\n",
              "          + ' to learn more about interactive tables.';\n",
              "        element.innerHTML = '';\n",
              "        dataTable['output_type'] = 'display_data';\n",
              "        await google.colab.output.renderOutput(dataTable, element);\n",
              "        const docLink = document.createElement('div');\n",
              "        docLink.innerHTML = docLinkHtml;\n",
              "        element.appendChild(docLink);\n",
              "      }\n",
              "    </script>\n",
              "  </div>\n",
              "\n",
              "\n",
              "<div id=\"df-63dab4f7-a801-4b58-a33a-561ed25caacc\">\n",
              "  <button class=\"colab-df-quickchart\" onclick=\"quickchart('df-63dab4f7-a801-4b58-a33a-561ed25caacc')\"\n",
              "            title=\"Suggest charts\"\n",
              "            style=\"display:none;\">\n",
              "\n",
              "<svg xmlns=\"http://www.w3.org/2000/svg\" height=\"24px\"viewBox=\"0 0 24 24\"\n",
              "     width=\"24px\">\n",
              "    <g>\n",
              "        <path d=\"M19 3H5c-1.1 0-2 .9-2 2v14c0 1.1.9 2 2 2h14c1.1 0 2-.9 2-2V5c0-1.1-.9-2-2-2zM9 17H7v-7h2v7zm4 0h-2V7h2v10zm4 0h-2v-4h2v4z\"/>\n",
              "    </g>\n",
              "</svg>\n",
              "  </button>\n",
              "\n",
              "<style>\n",
              "  .colab-df-quickchart {\n",
              "      --bg-color: #E8F0FE;\n",
              "      --fill-color: #1967D2;\n",
              "      --hover-bg-color: #E2EBFA;\n",
              "      --hover-fill-color: #174EA6;\n",
              "      --disabled-fill-color: #AAA;\n",
              "      --disabled-bg-color: #DDD;\n",
              "  }\n",
              "\n",
              "  [theme=dark] .colab-df-quickchart {\n",
              "      --bg-color: #3B4455;\n",
              "      --fill-color: #D2E3FC;\n",
              "      --hover-bg-color: #434B5C;\n",
              "      --hover-fill-color: #FFFFFF;\n",
              "      --disabled-bg-color: #3B4455;\n",
              "      --disabled-fill-color: #666;\n",
              "  }\n",
              "\n",
              "  .colab-df-quickchart {\n",
              "    background-color: var(--bg-color);\n",
              "    border: none;\n",
              "    border-radius: 50%;\n",
              "    cursor: pointer;\n",
              "    display: none;\n",
              "    fill: var(--fill-color);\n",
              "    height: 32px;\n",
              "    padding: 0;\n",
              "    width: 32px;\n",
              "  }\n",
              "\n",
              "  .colab-df-quickchart:hover {\n",
              "    background-color: var(--hover-bg-color);\n",
              "    box-shadow: 0 1px 2px rgba(60, 64, 67, 0.3), 0 1px 3px 1px rgba(60, 64, 67, 0.15);\n",
              "    fill: var(--button-hover-fill-color);\n",
              "  }\n",
              "\n",
              "  .colab-df-quickchart-complete:disabled,\n",
              "  .colab-df-quickchart-complete:disabled:hover {\n",
              "    background-color: var(--disabled-bg-color);\n",
              "    fill: var(--disabled-fill-color);\n",
              "    box-shadow: none;\n",
              "  }\n",
              "\n",
              "  .colab-df-spinner {\n",
              "    border: 2px solid var(--fill-color);\n",
              "    border-color: transparent;\n",
              "    border-bottom-color: var(--fill-color);\n",
              "    animation:\n",
              "      spin 1s steps(1) infinite;\n",
              "  }\n",
              "\n",
              "  @keyframes spin {\n",
              "    0% {\n",
              "      border-color: transparent;\n",
              "      border-bottom-color: var(--fill-color);\n",
              "      border-left-color: var(--fill-color);\n",
              "    }\n",
              "    20% {\n",
              "      border-color: transparent;\n",
              "      border-left-color: var(--fill-color);\n",
              "      border-top-color: var(--fill-color);\n",
              "    }\n",
              "    30% {\n",
              "      border-color: transparent;\n",
              "      border-left-color: var(--fill-color);\n",
              "      border-top-color: var(--fill-color);\n",
              "      border-right-color: var(--fill-color);\n",
              "    }\n",
              "    40% {\n",
              "      border-color: transparent;\n",
              "      border-right-color: var(--fill-color);\n",
              "      border-top-color: var(--fill-color);\n",
              "    }\n",
              "    60% {\n",
              "      border-color: transparent;\n",
              "      border-right-color: var(--fill-color);\n",
              "    }\n",
              "    80% {\n",
              "      border-color: transparent;\n",
              "      border-right-color: var(--fill-color);\n",
              "      border-bottom-color: var(--fill-color);\n",
              "    }\n",
              "    90% {\n",
              "      border-color: transparent;\n",
              "      border-bottom-color: var(--fill-color);\n",
              "    }\n",
              "  }\n",
              "</style>\n",
              "\n",
              "  <script>\n",
              "    async function quickchart(key) {\n",
              "      const quickchartButtonEl =\n",
              "        document.querySelector('#' + key + ' button');\n",
              "      quickchartButtonEl.disabled = true;  // To prevent multiple clicks.\n",
              "      quickchartButtonEl.classList.add('colab-df-spinner');\n",
              "      try {\n",
              "        const charts = await google.colab.kernel.invokeFunction(\n",
              "            'suggestCharts', [key], {});\n",
              "      } catch (error) {\n",
              "        console.error('Error during call to suggestCharts:', error);\n",
              "      }\n",
              "      quickchartButtonEl.classList.remove('colab-df-spinner');\n",
              "      quickchartButtonEl.classList.add('colab-df-quickchart-complete');\n",
              "    }\n",
              "    (() => {\n",
              "      let quickchartButtonEl =\n",
              "        document.querySelector('#df-63dab4f7-a801-4b58-a33a-561ed25caacc button');\n",
              "      quickchartButtonEl.style.display =\n",
              "        google.colab.kernel.accessAllowed ? 'block' : 'none';\n",
              "    })();\n",
              "  </script>\n",
              "</div>\n",
              "\n",
              "    </div>\n",
              "  </div>\n"
            ],
            "application/vnd.google.colaboratory.intrinsic+json": {
              "type": "dataframe",
              "variable_name": "df_products_raw",
              "summary": "{\n  \"name\": \"df_products_raw\",\n  \"rows\": 219,\n  \"fields\": [\n    {\n      \"column\": \"item_id\",\n      \"properties\": {\n        \"dtype\": \"number\",\n        \"std\": 63,\n        \"min\": 1,\n        \"max\": 219,\n        \"num_unique_values\": 219,\n        \"samples\": [\n          155,\n          94,\n          217\n        ],\n        \"semantic_type\": \"\",\n        \"description\": \"\"\n      }\n    },\n    {\n      \"column\": \"name\",\n      \"properties\": {\n        \"dtype\": \"string\",\n        \"num_unique_values\": 188,\n        \"samples\": [\n          \"Achaval-Ferrer Quimera\",\n          \"Aalto - 1.5L (Magnum)\",\n          \"Mirabeau Etoile\"\n        ],\n        \"semantic_type\": \"\",\n        \"description\": \"\"\n      }\n    },\n    {\n      \"column\": \"producer\",\n      \"properties\": {\n        \"dtype\": \"category\",\n        \"num_unique_values\": 58,\n        \"samples\": [\n          \"Philipponat\",\n          \"Mirabeau\",\n          \"Chateau Ducru Beaucaillou\"\n        ],\n        \"semantic_type\": \"\",\n        \"description\": \"\"\n      }\n    },\n    {\n      \"column\": \"country\",\n      \"properties\": {\n        \"dtype\": \"category\",\n        \"num_unique_values\": 6,\n        \"samples\": [\n          \"France\",\n          \"Italy\",\n          \"Argentina\"\n        ],\n        \"semantic_type\": \"\",\n        \"description\": \"\"\n      }\n    },\n    {\n      \"column\": \"region\",\n      \"properties\": {\n        \"dtype\": \"category\",\n        \"num_unique_values\": 21,\n        \"samples\": [\n          \"Champagne\",\n          \"Douro\",\n          \"Rioja\"\n        ],\n        \"semantic_type\": \"\",\n        \"description\": \"\"\n      }\n    },\n    {\n      \"column\": \"vintage\",\n      \"properties\": {\n        \"dtype\": \"category\",\n        \"num_unique_values\": 17,\n        \"samples\": [\n          \"NV\",\n          \"2009\",\n          \"2018\"\n        ],\n        \"semantic_type\": \"\",\n        \"description\": \"\"\n      }\n    },\n    {\n      \"column\": \"kind\",\n      \"properties\": {\n        \"dtype\": \"category\",\n        \"num_unique_values\": 5,\n        \"samples\": [\n          \"rose sparkling\",\n          \"red\",\n          \"white\"\n        ],\n        \"semantic_type\": \"\",\n        \"description\": \"\"\n      }\n    },\n    {\n      \"column\": \"price_brl\",\n      \"properties\": {\n        \"dtype\": \"string\",\n        \"num_unique_values\": 121,\n        \"samples\": [\n          \"349.20\",\n          \"425.40\",\n          \"1548.00\"\n        ],\n        \"semantic_type\": \"\",\n        \"description\": \"\"\n      }\n    },\n    {\n      \"column\": \"price_usd\",\n      \"properties\": {\n        \"dtype\": \"string\",\n        \"num_unique_values\": 121,\n        \"samples\": [\n          \"60.42\",\n          \"73.60\",\n          \"267.82\"\n        ],\n        \"semantic_type\": \"\",\n        \"description\": \"\"\n      }\n    }\n  ]\n}"
            }
          },
          "metadata": {},
          "execution_count": 4
        }
      ]
    },
    {
      "cell_type": "markdown",
      "source": [
        "# Datenüberprüfung und Anpassungen"
      ],
      "metadata": {
        "id": "Z9N5QcjdBLPe"
      }
    },
    {
      "cell_type": "markdown",
      "source": [
        "Es ist außerdem wichtig sicherzustellen, dass keine fehlenden Daten vorliegen und dass alle Informationen im benötigten Format vorliegen. In diesem Schritt werde ich einige Datentypen anpassen.\n",
        "\n",
        "Zunächst werde ich die ID-Werte in Strings umwandeln. Dadurch verhindern wir, dass ein Algorithmus später die Größe der Zahl in der ID mit Bedeutung verknüpft oder diese berücksichtigt. Die ID dient lediglich zur Identifikation der Produkte. Der Wein mit der ID 1 ist weder besser noch schlechter als der mit der ID 219 – die ID hat keinen Einfluss auf die Qualität.\n",
        "\n",
        "Zusätzlich werden die monetären Werte in das Float-Format umgewandelt, damit sie korrekt verarbeitet werden können."
      ],
      "metadata": {
        "id": "G6oV3Ta791c-"
      }
    },
    {
      "cell_type": "code",
      "source": [
        "df_products_raw.info()"
      ],
      "metadata": {
        "colab": {
          "base_uri": "https://localhost:8080/"
        },
        "id": "3TMR7usvBZfm",
        "outputId": "c2f998fd-0789-4583-9b1e-57bcc42cd42d"
      },
      "execution_count": 5,
      "outputs": [
        {
          "output_type": "stream",
          "name": "stdout",
          "text": [
            "<class 'pandas.core.frame.DataFrame'>\n",
            "RangeIndex: 219 entries, 0 to 218\n",
            "Data columns (total 9 columns):\n",
            " #   Column     Non-Null Count  Dtype \n",
            "---  ------     --------------  ----- \n",
            " 0   item_id    219 non-null    int64 \n",
            " 1   name       219 non-null    object\n",
            " 2   producer   219 non-null    object\n",
            " 3   country    219 non-null    object\n",
            " 4   region     219 non-null    object\n",
            " 5   vintage    219 non-null    object\n",
            " 6   kind       219 non-null    object\n",
            " 7   price_brl  219 non-null    object\n",
            " 8   price_usd  219 non-null    object\n",
            "dtypes: int64(1), object(8)\n",
            "memory usage: 15.5+ KB\n"
          ]
        }
      ]
    },
    {
      "cell_type": "code",
      "source": [
        "# transformando as colunas\n",
        "df_products_raw.item_id = df_products_raw.item_id.astype(str)\n",
        "df_products_raw.price_brl = pd.to_numeric(df_products_raw.price_brl)\n",
        "df_products_raw.price_usd = pd.to_numeric(df_products_raw.price_usd)"
      ],
      "metadata": {
        "id": "DgRh2e-LBxF2"
      },
      "execution_count": 6,
      "outputs": []
    },
    {
      "cell_type": "code",
      "source": [
        "# verificando o conjunto de dados\n",
        "df_products_raw.info()"
      ],
      "metadata": {
        "colab": {
          "base_uri": "https://localhost:8080/"
        },
        "id": "XwVaf5mMDG1e",
        "outputId": "a57bed44-4b99-42ce-8228-f1883f2b02ee"
      },
      "execution_count": 7,
      "outputs": [
        {
          "output_type": "stream",
          "name": "stdout",
          "text": [
            "<class 'pandas.core.frame.DataFrame'>\n",
            "RangeIndex: 219 entries, 0 to 218\n",
            "Data columns (total 9 columns):\n",
            " #   Column     Non-Null Count  Dtype  \n",
            "---  ------     --------------  -----  \n",
            " 0   item_id    219 non-null    object \n",
            " 1   name       219 non-null    object \n",
            " 2   producer   219 non-null    object \n",
            " 3   country    219 non-null    object \n",
            " 4   region     219 non-null    object \n",
            " 5   vintage    219 non-null    object \n",
            " 6   kind       219 non-null    object \n",
            " 7   price_brl  219 non-null    float64\n",
            " 8   price_usd  219 non-null    float64\n",
            "dtypes: float64(2), object(7)\n",
            "memory usage: 15.5+ KB\n"
          ]
        }
      ]
    },
    {
      "cell_type": "markdown",
      "source": [
        "Ein weiterer Schritt in der Datenbereinigung besteht darin, die Werte der Variable Vintage (Jahrgang) anzupassen. Für die Zeilen, in denen „NV“ (Non-Vintage) steht, werde ich diesen Wert durch 0 ersetzen. Dies ermöglicht es uns, die Variable in ein numerisches Format umzuwandeln und somit besser mit den Daten zu arbeiten."
      ],
      "metadata": {
        "id": "YxiwKwmaDAs_"
      }
    },
    {
      "cell_type": "code",
      "source": [
        "# limpando os dados\n",
        "df_products_raw.vintage = df_products_raw.vintage.replace('NV', '0')\n",
        "df_products_raw.vintage = pd.to_numeric(df_products_raw.vintage)\n",
        "df_products_raw.head()"
      ],
      "metadata": {
        "colab": {
          "base_uri": "https://localhost:8080/",
          "height": 206
        },
        "id": "Kd0QkibvFuvv",
        "outputId": "d8f12299-27c6-4afb-c2f4-14129e968abd"
      },
      "execution_count": 8,
      "outputs": [
        {
          "output_type": "execute_result",
          "data": {
            "text/plain": [
              "  item_id                                          name     producer country  \\\n",
              "0       1              Philipponnat Royale Reserve Brut  Philipponat  France   \n",
              "1       2              Philipponnat Royale Reserve Rosé  Philipponat  France   \n",
              "2       3  Philipponnat Cuvée 1522 Grand Cru Extra Brut  Philipponat  France   \n",
              "3       4          Philipponnat Cuvée 1522 1er Cru Rosé  Philipponat  France   \n",
              "4       5            Philipponnat Clos Des Goisses Brut  Philipponat  France   \n",
              "\n",
              "      region  vintage            kind  price_brl  price_usd  \n",
              "0  Champagne        0       sparkling      339.6      58.75  \n",
              "1  Champagne        0  rose sparkling      489.0      84.60  \n",
              "2  Champagne     2009       sparkling      789.0     136.51  \n",
              "3  Champagne     2008  rose sparkling      899.4     155.61  \n",
              "4  Champagne     2009       sparkling     1548.0     267.82  "
            ],
            "text/html": [
              "\n",
              "  <div id=\"df-65286335-4af4-469c-b1f9-a8487d93dc4e\" class=\"colab-df-container\">\n",
              "    <div>\n",
              "<style scoped>\n",
              "    .dataframe tbody tr th:only-of-type {\n",
              "        vertical-align: middle;\n",
              "    }\n",
              "\n",
              "    .dataframe tbody tr th {\n",
              "        vertical-align: top;\n",
              "    }\n",
              "\n",
              "    .dataframe thead th {\n",
              "        text-align: right;\n",
              "    }\n",
              "</style>\n",
              "<table border=\"1\" class=\"dataframe\">\n",
              "  <thead>\n",
              "    <tr style=\"text-align: right;\">\n",
              "      <th></th>\n",
              "      <th>item_id</th>\n",
              "      <th>name</th>\n",
              "      <th>producer</th>\n",
              "      <th>country</th>\n",
              "      <th>region</th>\n",
              "      <th>vintage</th>\n",
              "      <th>kind</th>\n",
              "      <th>price_brl</th>\n",
              "      <th>price_usd</th>\n",
              "    </tr>\n",
              "  </thead>\n",
              "  <tbody>\n",
              "    <tr>\n",
              "      <th>0</th>\n",
              "      <td>1</td>\n",
              "      <td>Philipponnat Royale Reserve Brut</td>\n",
              "      <td>Philipponat</td>\n",
              "      <td>France</td>\n",
              "      <td>Champagne</td>\n",
              "      <td>0</td>\n",
              "      <td>sparkling</td>\n",
              "      <td>339.6</td>\n",
              "      <td>58.75</td>\n",
              "    </tr>\n",
              "    <tr>\n",
              "      <th>1</th>\n",
              "      <td>2</td>\n",
              "      <td>Philipponnat Royale Reserve Rosé</td>\n",
              "      <td>Philipponat</td>\n",
              "      <td>France</td>\n",
              "      <td>Champagne</td>\n",
              "      <td>0</td>\n",
              "      <td>rose sparkling</td>\n",
              "      <td>489.0</td>\n",
              "      <td>84.60</td>\n",
              "    </tr>\n",
              "    <tr>\n",
              "      <th>2</th>\n",
              "      <td>3</td>\n",
              "      <td>Philipponnat Cuvée 1522 Grand Cru Extra Brut</td>\n",
              "      <td>Philipponat</td>\n",
              "      <td>France</td>\n",
              "      <td>Champagne</td>\n",
              "      <td>2009</td>\n",
              "      <td>sparkling</td>\n",
              "      <td>789.0</td>\n",
              "      <td>136.51</td>\n",
              "    </tr>\n",
              "    <tr>\n",
              "      <th>3</th>\n",
              "      <td>4</td>\n",
              "      <td>Philipponnat Cuvée 1522 1er Cru Rosé</td>\n",
              "      <td>Philipponat</td>\n",
              "      <td>France</td>\n",
              "      <td>Champagne</td>\n",
              "      <td>2008</td>\n",
              "      <td>rose sparkling</td>\n",
              "      <td>899.4</td>\n",
              "      <td>155.61</td>\n",
              "    </tr>\n",
              "    <tr>\n",
              "      <th>4</th>\n",
              "      <td>5</td>\n",
              "      <td>Philipponnat Clos Des Goisses Brut</td>\n",
              "      <td>Philipponat</td>\n",
              "      <td>France</td>\n",
              "      <td>Champagne</td>\n",
              "      <td>2009</td>\n",
              "      <td>sparkling</td>\n",
              "      <td>1548.0</td>\n",
              "      <td>267.82</td>\n",
              "    </tr>\n",
              "  </tbody>\n",
              "</table>\n",
              "</div>\n",
              "    <div class=\"colab-df-buttons\">\n",
              "\n",
              "  <div class=\"colab-df-container\">\n",
              "    <button class=\"colab-df-convert\" onclick=\"convertToInteractive('df-65286335-4af4-469c-b1f9-a8487d93dc4e')\"\n",
              "            title=\"Convert this dataframe to an interactive table.\"\n",
              "            style=\"display:none;\">\n",
              "\n",
              "  <svg xmlns=\"http://www.w3.org/2000/svg\" height=\"24px\" viewBox=\"0 -960 960 960\">\n",
              "    <path d=\"M120-120v-720h720v720H120Zm60-500h600v-160H180v160Zm220 220h160v-160H400v160Zm0 220h160v-160H400v160ZM180-400h160v-160H180v160Zm440 0h160v-160H620v160ZM180-180h160v-160H180v160Zm440 0h160v-160H620v160Z\"/>\n",
              "  </svg>\n",
              "    </button>\n",
              "\n",
              "  <style>\n",
              "    .colab-df-container {\n",
              "      display:flex;\n",
              "      gap: 12px;\n",
              "    }\n",
              "\n",
              "    .colab-df-convert {\n",
              "      background-color: #E8F0FE;\n",
              "      border: none;\n",
              "      border-radius: 50%;\n",
              "      cursor: pointer;\n",
              "      display: none;\n",
              "      fill: #1967D2;\n",
              "      height: 32px;\n",
              "      padding: 0 0 0 0;\n",
              "      width: 32px;\n",
              "    }\n",
              "\n",
              "    .colab-df-convert:hover {\n",
              "      background-color: #E2EBFA;\n",
              "      box-shadow: 0px 1px 2px rgba(60, 64, 67, 0.3), 0px 1px 3px 1px rgba(60, 64, 67, 0.15);\n",
              "      fill: #174EA6;\n",
              "    }\n",
              "\n",
              "    .colab-df-buttons div {\n",
              "      margin-bottom: 4px;\n",
              "    }\n",
              "\n",
              "    [theme=dark] .colab-df-convert {\n",
              "      background-color: #3B4455;\n",
              "      fill: #D2E3FC;\n",
              "    }\n",
              "\n",
              "    [theme=dark] .colab-df-convert:hover {\n",
              "      background-color: #434B5C;\n",
              "      box-shadow: 0px 1px 3px 1px rgba(0, 0, 0, 0.15);\n",
              "      filter: drop-shadow(0px 1px 2px rgba(0, 0, 0, 0.3));\n",
              "      fill: #FFFFFF;\n",
              "    }\n",
              "  </style>\n",
              "\n",
              "    <script>\n",
              "      const buttonEl =\n",
              "        document.querySelector('#df-65286335-4af4-469c-b1f9-a8487d93dc4e button.colab-df-convert');\n",
              "      buttonEl.style.display =\n",
              "        google.colab.kernel.accessAllowed ? 'block' : 'none';\n",
              "\n",
              "      async function convertToInteractive(key) {\n",
              "        const element = document.querySelector('#df-65286335-4af4-469c-b1f9-a8487d93dc4e');\n",
              "        const dataTable =\n",
              "          await google.colab.kernel.invokeFunction('convertToInteractive',\n",
              "                                                    [key], {});\n",
              "        if (!dataTable) return;\n",
              "\n",
              "        const docLinkHtml = 'Like what you see? Visit the ' +\n",
              "          '<a target=\"_blank\" href=https://colab.research.google.com/notebooks/data_table.ipynb>data table notebook</a>'\n",
              "          + ' to learn more about interactive tables.';\n",
              "        element.innerHTML = '';\n",
              "        dataTable['output_type'] = 'display_data';\n",
              "        await google.colab.output.renderOutput(dataTable, element);\n",
              "        const docLink = document.createElement('div');\n",
              "        docLink.innerHTML = docLinkHtml;\n",
              "        element.appendChild(docLink);\n",
              "      }\n",
              "    </script>\n",
              "  </div>\n",
              "\n",
              "\n",
              "<div id=\"df-22817570-666f-4fb6-847a-2e72132004df\">\n",
              "  <button class=\"colab-df-quickchart\" onclick=\"quickchart('df-22817570-666f-4fb6-847a-2e72132004df')\"\n",
              "            title=\"Suggest charts\"\n",
              "            style=\"display:none;\">\n",
              "\n",
              "<svg xmlns=\"http://www.w3.org/2000/svg\" height=\"24px\"viewBox=\"0 0 24 24\"\n",
              "     width=\"24px\">\n",
              "    <g>\n",
              "        <path d=\"M19 3H5c-1.1 0-2 .9-2 2v14c0 1.1.9 2 2 2h14c1.1 0 2-.9 2-2V5c0-1.1-.9-2-2-2zM9 17H7v-7h2v7zm4 0h-2V7h2v10zm4 0h-2v-4h2v4z\"/>\n",
              "    </g>\n",
              "</svg>\n",
              "  </button>\n",
              "\n",
              "<style>\n",
              "  .colab-df-quickchart {\n",
              "      --bg-color: #E8F0FE;\n",
              "      --fill-color: #1967D2;\n",
              "      --hover-bg-color: #E2EBFA;\n",
              "      --hover-fill-color: #174EA6;\n",
              "      --disabled-fill-color: #AAA;\n",
              "      --disabled-bg-color: #DDD;\n",
              "  }\n",
              "\n",
              "  [theme=dark] .colab-df-quickchart {\n",
              "      --bg-color: #3B4455;\n",
              "      --fill-color: #D2E3FC;\n",
              "      --hover-bg-color: #434B5C;\n",
              "      --hover-fill-color: #FFFFFF;\n",
              "      --disabled-bg-color: #3B4455;\n",
              "      --disabled-fill-color: #666;\n",
              "  }\n",
              "\n",
              "  .colab-df-quickchart {\n",
              "    background-color: var(--bg-color);\n",
              "    border: none;\n",
              "    border-radius: 50%;\n",
              "    cursor: pointer;\n",
              "    display: none;\n",
              "    fill: var(--fill-color);\n",
              "    height: 32px;\n",
              "    padding: 0;\n",
              "    width: 32px;\n",
              "  }\n",
              "\n",
              "  .colab-df-quickchart:hover {\n",
              "    background-color: var(--hover-bg-color);\n",
              "    box-shadow: 0 1px 2px rgba(60, 64, 67, 0.3), 0 1px 3px 1px rgba(60, 64, 67, 0.15);\n",
              "    fill: var(--button-hover-fill-color);\n",
              "  }\n",
              "\n",
              "  .colab-df-quickchart-complete:disabled,\n",
              "  .colab-df-quickchart-complete:disabled:hover {\n",
              "    background-color: var(--disabled-bg-color);\n",
              "    fill: var(--disabled-fill-color);\n",
              "    box-shadow: none;\n",
              "  }\n",
              "\n",
              "  .colab-df-spinner {\n",
              "    border: 2px solid var(--fill-color);\n",
              "    border-color: transparent;\n",
              "    border-bottom-color: var(--fill-color);\n",
              "    animation:\n",
              "      spin 1s steps(1) infinite;\n",
              "  }\n",
              "\n",
              "  @keyframes spin {\n",
              "    0% {\n",
              "      border-color: transparent;\n",
              "      border-bottom-color: var(--fill-color);\n",
              "      border-left-color: var(--fill-color);\n",
              "    }\n",
              "    20% {\n",
              "      border-color: transparent;\n",
              "      border-left-color: var(--fill-color);\n",
              "      border-top-color: var(--fill-color);\n",
              "    }\n",
              "    30% {\n",
              "      border-color: transparent;\n",
              "      border-left-color: var(--fill-color);\n",
              "      border-top-color: var(--fill-color);\n",
              "      border-right-color: var(--fill-color);\n",
              "    }\n",
              "    40% {\n",
              "      border-color: transparent;\n",
              "      border-right-color: var(--fill-color);\n",
              "      border-top-color: var(--fill-color);\n",
              "    }\n",
              "    60% {\n",
              "      border-color: transparent;\n",
              "      border-right-color: var(--fill-color);\n",
              "    }\n",
              "    80% {\n",
              "      border-color: transparent;\n",
              "      border-right-color: var(--fill-color);\n",
              "      border-bottom-color: var(--fill-color);\n",
              "    }\n",
              "    90% {\n",
              "      border-color: transparent;\n",
              "      border-bottom-color: var(--fill-color);\n",
              "    }\n",
              "  }\n",
              "</style>\n",
              "\n",
              "  <script>\n",
              "    async function quickchart(key) {\n",
              "      const quickchartButtonEl =\n",
              "        document.querySelector('#' + key + ' button');\n",
              "      quickchartButtonEl.disabled = true;  // To prevent multiple clicks.\n",
              "      quickchartButtonEl.classList.add('colab-df-spinner');\n",
              "      try {\n",
              "        const charts = await google.colab.kernel.invokeFunction(\n",
              "            'suggestCharts', [key], {});\n",
              "      } catch (error) {\n",
              "        console.error('Error during call to suggestCharts:', error);\n",
              "      }\n",
              "      quickchartButtonEl.classList.remove('colab-df-spinner');\n",
              "      quickchartButtonEl.classList.add('colab-df-quickchart-complete');\n",
              "    }\n",
              "    (() => {\n",
              "      let quickchartButtonEl =\n",
              "        document.querySelector('#df-22817570-666f-4fb6-847a-2e72132004df button');\n",
              "      quickchartButtonEl.style.display =\n",
              "        google.colab.kernel.accessAllowed ? 'block' : 'none';\n",
              "    })();\n",
              "  </script>\n",
              "</div>\n",
              "\n",
              "    </div>\n",
              "  </div>\n"
            ],
            "application/vnd.google.colaboratory.intrinsic+json": {
              "type": "dataframe",
              "variable_name": "df_products_raw",
              "summary": "{\n  \"name\": \"df_products_raw\",\n  \"rows\": 219,\n  \"fields\": [\n    {\n      \"column\": \"item_id\",\n      \"properties\": {\n        \"dtype\": \"string\",\n        \"num_unique_values\": 219,\n        \"samples\": [\n          \"155\",\n          \"94\",\n          \"217\"\n        ],\n        \"semantic_type\": \"\",\n        \"description\": \"\"\n      }\n    },\n    {\n      \"column\": \"name\",\n      \"properties\": {\n        \"dtype\": \"string\",\n        \"num_unique_values\": 188,\n        \"samples\": [\n          \"Achaval-Ferrer Quimera\",\n          \"Aalto - 1.5L (Magnum)\",\n          \"Mirabeau Etoile\"\n        ],\n        \"semantic_type\": \"\",\n        \"description\": \"\"\n      }\n    },\n    {\n      \"column\": \"producer\",\n      \"properties\": {\n        \"dtype\": \"category\",\n        \"num_unique_values\": 58,\n        \"samples\": [\n          \"Philipponat\",\n          \"Mirabeau\",\n          \"Chateau Ducru Beaucaillou\"\n        ],\n        \"semantic_type\": \"\",\n        \"description\": \"\"\n      }\n    },\n    {\n      \"column\": \"country\",\n      \"properties\": {\n        \"dtype\": \"category\",\n        \"num_unique_values\": 6,\n        \"samples\": [\n          \"France\",\n          \"Italy\",\n          \"Argentina\"\n        ],\n        \"semantic_type\": \"\",\n        \"description\": \"\"\n      }\n    },\n    {\n      \"column\": \"region\",\n      \"properties\": {\n        \"dtype\": \"category\",\n        \"num_unique_values\": 21,\n        \"samples\": [\n          \"Champagne\",\n          \"Douro\",\n          \"Rioja\"\n        ],\n        \"semantic_type\": \"\",\n        \"description\": \"\"\n      }\n    },\n    {\n      \"column\": \"vintage\",\n      \"properties\": {\n        \"dtype\": \"number\",\n        \"std\": 379,\n        \"min\": 0,\n        \"max\": 2019,\n        \"num_unique_values\": 17,\n        \"samples\": [\n          0,\n          2009,\n          2018\n        ],\n        \"semantic_type\": \"\",\n        \"description\": \"\"\n      }\n    },\n    {\n      \"column\": \"kind\",\n      \"properties\": {\n        \"dtype\": \"category\",\n        \"num_unique_values\": 5,\n        \"samples\": [\n          \"rose sparkling\",\n          \"red\",\n          \"white\"\n        ],\n        \"semantic_type\": \"\",\n        \"description\": \"\"\n      }\n    },\n    {\n      \"column\": \"price_brl\",\n      \"properties\": {\n        \"dtype\": \"number\",\n        \"std\": 1409.5882168469232,\n        \"min\": 52.8,\n        \"max\": 10992.0,\n        \"num_unique_values\": 121,\n        \"samples\": [\n          349.2,\n          425.4,\n          1548.0\n        ],\n        \"semantic_type\": \"\",\n        \"description\": \"\"\n      }\n    },\n    {\n      \"column\": \"price_usd\",\n      \"properties\": {\n        \"dtype\": \"number\",\n        \"std\": 243.87378010122805,\n        \"min\": 9.13,\n        \"max\": 1901.73,\n        \"num_unique_values\": 121,\n        \"samples\": [\n          60.42,\n          73.6,\n          267.82\n        ],\n        \"semantic_type\": \"\",\n        \"description\": \"\"\n      }\n    }\n  ]\n}"
            }
          },
          "metadata": {},
          "execution_count": 8
        }
      ]
    },
    {
      "cell_type": "code",
      "source": [
        "# salvando o conjunto limpo\n",
        "df_products_raw.to_csv('products_clean.csv', index=0)"
      ],
      "metadata": {
        "id": "SjpBscsHGA83"
      },
      "execution_count": 9,
      "outputs": []
    },
    {
      "cell_type": "markdown",
      "source": [
        "# Datenanalyse\n",
        "\n",
        "\n",
        "\n"
      ],
      "metadata": {
        "id": "u2pUhMj5LSQ4"
      }
    },
    {
      "cell_type": "markdown",
      "source": [
        "Jetzt, da unsere Daten das gewünschte Format haben, wird die Analyse deutlich effizienter und verständlicher! Im ersten Schritt werden wir gezielte Abfragen durchführen, um unser Datenset besser zu verstehen und wichtige Erkenntnisse daraus zu ziehen.\n",
        "\n",
        "Der Fokus der Analyse liegt auf den Produkten (Weinen) und deren Eigenschaften, wie zum Beispiel:\n",
        "\n",
        "- **Produzenten:** Wer sind die wichtigsten Hersteller?\n",
        "- **Herkunftsregion:** Aus welchen Regionen kommen die Weine?\n",
        "- **Ursprungsland:** Welche Länder dominieren die Weinliste?\n",
        "- **Weintyp:** Welche Arten von Weinen (Rot, Weiß, Rosé, etc.) sind enthalten?\n",
        "- **Jahrgänge:** Welche Jahrgänge sind vertreten, und wie verteilen sie sich?\n",
        "- **Preise:** Wie variieren die Preise zwischen den verschiedenen Weinen?\n",
        "\n",
        "Diese erste Analyse dient dazu, grundlegende Muster und Trends in den Daten zu identifizieren, bevor wir uns tiefergehenden Untersuchungen widmen.\n",
        "\n"
      ],
      "metadata": {
        "id": "iOWcTBn8LScP"
      }
    },
    {
      "cell_type": "code",
      "source": [
        "# verificando a quantidade de produtores Länder und Jahgänge\n",
        "# Überprüfung der Anzahl von Produzenten,Weinen Ländern und Jahrgängen.\n",
        "print(\"Anzahl der Weine in der Weinkarte: \", (len(df_products_raw.value_counts())))\n",
        "print(\"Anzahl der Produzenten in der Weinkarte: \", (len(df_products_raw.producer.value_counts())))\n",
        "print(\"Anzahl der Länder in der Weinkarte: \", (len(df_products_raw.country.value_counts())))\n",
        "print(\"Anzahl der Jahrgänge in der Weinkarte: \", (len(df_products_raw.vintage.value_counts())))\n",
        "print(\"Anzahl der Weintyp in der Weinkarte: \", (len(df_products_raw.kind.value_counts())))\n",
        "print(\"Anzahl der Region in der Weinkarte: \", (len(df_products_raw.region.value_counts())),\"\\n\")"
      ],
      "metadata": {
        "colab": {
          "base_uri": "https://localhost:8080/"
        },
        "id": "Y_8AFh4eOjof",
        "outputId": "e195b425-6b36-4597-af40-93e3265f496d"
      },
      "execution_count": 10,
      "outputs": [
        {
          "output_type": "stream",
          "name": "stdout",
          "text": [
            "Anzahl der Weine in der Weinkarte:  219\n",
            "Anzahl der Produzenten in der Weinkarte:  58\n",
            "Anzahl der Länder in der Weinkarte:  6\n",
            "Anzahl der Jahrgänge in der Weinkarte:  17\n",
            "Anzahl der Weintyp in der Weinkarte:  5\n",
            "Anzahl der Region in der Weinkarte:  21 \n",
            "\n"
          ]
        }
      ]
    },
    {
      "cell_type": "markdown",
      "source": [
        "**- Produzenten**\n",
        "\n",
        "**- Produtores**"
      ],
      "metadata": {
        "id": "BwYe7yCGKUO7"
      }
    },
    {
      "cell_type": "markdown",
      "source": [
        "Na variável producer temos ao todo **58 produtores** diferentes, sendo o mais presente nesse conjunto o **Domaine Ponsot com 5.5%**, seguido por La **Chablisienne com 4.6%** e **Domaine Matrot com 4.1%**.\n",
        "\n",
        "In der Variable producer gibt es insgesamt **58 verschiedene Produzenten**. Der am häufigsten vertretene Produzent in diesem Datensatz ist Domaine **Ponsot mit 5,5 %**, gefolgt von **La Chablisienne mit 4,6 %** und **Domaine Matrot mit 4,1 %**. Um die Daten besser darzustellen, werde ich zunächst eine Tabelle und eine Grafik erstellen."
      ],
      "metadata": {
        "id": "S8xFKGhX3ZtZ"
      }
    },
    {
      "cell_type": "code",
      "source": [
        "# 1 Version\n",
        "# producer_counts = df_products_raw['producer'].value_counts()\n",
        "#for producer, count in producer_counts.items():\n",
        "    #percent = (count / producer_counts.sum()) * 100\n",
        "    #print(f\"{producer}: {count} ({percent:.2f}%)\")\n",
        "\n",
        "# Daten für Produzenten\n",
        "df_produzent_analysis = df_products_raw.copy()\n",
        "producer_values_list = df_produzent_analysis['producer'].tolist()\n",
        "\n",
        "# Zähle die Anzahl der Produzenten\n",
        "producer_counts = df_produzent_analysis['producer'].value_counts()[:]\n",
        "\n",
        "# Berechne den Prozentsatz\n",
        "producer_percentages = (producer_counts / producer_counts.sum()) * 100\n",
        "\n",
        "# Erstelle ein neues DataFrame für die Tabelle\n",
        "producer_table = pd.DataFrame({\n",
        "    'Produzent': producer_counts.index,\n",
        "    'Anzahl': producer_counts.values,\n",
        "    'Prozent (%)': producer_percentages.values\n",
        "})\n",
        "\n",
        "# Erstelle eine Tabelle mit Plotly\n",
        "table = go.Table(\n",
        "    header=dict(\n",
        "        values=[\"<b>Produzent</b>\", \"<b>Anzahl</b>\", \"<b>Prozent (%)</b>\"],\n",
        "        fill_color='paleturquoise',\n",
        "        align='left'\n",
        "    ),\n",
        "    cells=dict(\n",
        "        values=[\n",
        "            producer_table['Produzent'],\n",
        "            producer_table['Anzahl'],\n",
        "            producer_table['Prozent (%)'].round(2)\n",
        "        ],\n",
        "        fill_color='lavender',\n",
        "        align='left'\n",
        "    )\n",
        ")\n",
        "\n",
        "# Erstelle das Layout und zeige die Tabelle\n",
        "fig = go.Figure(data=[table])\n",
        "fig.update_layout(\n",
        "    title=\"Produzenten: Anzahl und Prozentsatz\",\n",
        "    autosize=True,\n",
        "    width=1000,\n",
        "    height=1000,\n",
        "    annotations=[\n",
        "        dict(\n",
        "            text=\"Diese Tabelle zeigt die Anzahl und den Prozentsatz der Produzenten.\",\n",
        "            x=0.5,  # Horizontale Position (0 = links, 1 = rechts)\n",
        "            y= -0.9,  # Vertikale Position unterhalb der Tabelle (negative Werte)\n",
        "            xref=\"paper\",\n",
        "            yref=\"paper\",\n",
        "            showarrow=False,\n",
        "            font=dict(size=12)\n",
        "        )\n",
        "    ]\n",
        ")\n",
        "fig.show()"
      ],
      "metadata": {
        "colab": {
          "base_uri": "https://localhost:8080/",
          "height": 1000
        },
        "id": "_XzvHE9-dZ6f",
        "outputId": "94a0daf0-999b-4241-babe-a3a1ce256040"
      },
      "execution_count": 11,
      "outputs": [
        {
          "output_type": "display_data",
          "data": {
            "text/html": [
              "<html>\n",
              "<head><meta charset=\"utf-8\" /></head>\n",
              "<body>\n",
              "    <div>            <script src=\"https://cdnjs.cloudflare.com/ajax/libs/mathjax/2.7.5/MathJax.js?config=TeX-AMS-MML_SVG\"></script><script type=\"text/javascript\">if (window.MathJax && window.MathJax.Hub && window.MathJax.Hub.Config) {window.MathJax.Hub.Config({SVG: {font: \"STIX-Web\"}});}</script>                <script type=\"text/javascript\">window.PlotlyConfig = {MathJaxConfig: 'local'};</script>\n",
              "        <script charset=\"utf-8\" src=\"https://cdn.plot.ly/plotly-2.35.2.min.js\"></script>                <div id=\"243c06a0-aa91-4362-a8bf-5eddc243055c\" class=\"plotly-graph-div\" style=\"height:1000px; width:1000px;\"></div>            <script type=\"text/javascript\">                                    window.PLOTLYENV=window.PLOTLYENV || {};                                    if (document.getElementById(\"243c06a0-aa91-4362-a8bf-5eddc243055c\")) {                    Plotly.newPlot(                        \"243c06a0-aa91-4362-a8bf-5eddc243055c\",                        [{\"cells\":{\"align\":\"left\",\"fill\":{\"color\":\"lavender\"},\"values\":[[\"Domaine Ponsot\",\"La Chablisienne\",\"Domaine Matrot\",\"Achaval Ferrer\",\"Pêra-Grave\",\"Olivier Riviere\",\"Casanova di Neri\",\"Eric Texier\",\"Domaine Pascal Prunier-Bonheur\",\"Domaine Tessier\",\"Luis Seabra Vinhos\",\"Aalto\",\"Sandrone\",\"Domaine de Fontbonau\",\"Philipponat\",\"Domaine Michel Niellon\",\"Domaine Alain Chavy\",\"Chateau Pavie\",\"Agrapart\",\"Chateau Potensac\",\"Elian da Ros\",\"Villa Diamante\",\"Chateau Larrivet Haut-Brion\",\"Arinzano\",\"Domaine Hudelot-Noellat\",\"Mirabeau\",\"Tenute Rubino\",\"Chateau Ducru Beaucaillou\",\"Astoria Wines\",\"Chateau Doisy-Vedrines\",\"Chateau Climens\",\"Domaine Vacheron\",\"Antoine Jobard\",\"Chateau D'Issan\",\"Chateau Talbot\",\"Chateau Latour\",\"Domaine Duroché\",\"Chateau Montrose\",\"Grau Baumé\",\"Domaine Denis Mortet\",\"Nicolas JOLY\",\"Domaine Berthaut-Gerbet\",\"Chateau Gloria\",\"Chateau Pichon Longueville Comtesse de Lalande\",\"Chateau Leoville Las Cases\",\"Chateau Trotanoy\",\"Clos du Marquis\",\"Chateau Leoville Barton\",\"Domaine Paul Pillot\",\"Chateau Marjosse\",\"Stephane Ogier\",\"Domaine Dujac\",\"Juvé & Camps\",\"Chateau Nenin\",\"Domaine Fourrier\",\"Domaine Zind-Humbrecht\",\"Viñedo Chadwick\",\"Triennes\"],[12,10,9,8,8,8,8,7,7,5,5,5,5,5,5,5,5,4,4,4,4,4,4,4,4,4,3,3,3,3,3,3,3,3,3,3,3,3,2,2,2,2,2,2,2,2,2,2,1,1,1,1,1,1,1,1,1,1],[5.48,4.57,4.11,3.65,3.65,3.65,3.65,3.2,3.2,2.28,2.28,2.28,2.28,2.28,2.28,2.28,2.28,1.83,1.83,1.83,1.83,1.83,1.83,1.83,1.83,1.83,1.37,1.37,1.37,1.37,1.37,1.37,1.37,1.37,1.37,1.37,1.37,1.37,0.91,0.91,0.91,0.91,0.91,0.91,0.91,0.91,0.91,0.91,0.46,0.46,0.46,0.46,0.46,0.46,0.46,0.46,0.46,0.46]]},\"header\":{\"align\":\"left\",\"fill\":{\"color\":\"paleturquoise\"},\"values\":[\"\\u003cb\\u003eProduzent\\u003c\\u002fb\\u003e\",\"\\u003cb\\u003eAnzahl\\u003c\\u002fb\\u003e\",\"\\u003cb\\u003eProzent (%)\\u003c\\u002fb\\u003e\"]},\"type\":\"table\"}],                        {\"template\":{\"data\":{\"histogram2dcontour\":[{\"type\":\"histogram2dcontour\",\"colorbar\":{\"outlinewidth\":0,\"ticks\":\"\"},\"colorscale\":[[0.0,\"#0d0887\"],[0.1111111111111111,\"#46039f\"],[0.2222222222222222,\"#7201a8\"],[0.3333333333333333,\"#9c179e\"],[0.4444444444444444,\"#bd3786\"],[0.5555555555555556,\"#d8576b\"],[0.6666666666666666,\"#ed7953\"],[0.7777777777777778,\"#fb9f3a\"],[0.8888888888888888,\"#fdca26\"],[1.0,\"#f0f921\"]]}],\"choropleth\":[{\"type\":\"choropleth\",\"colorbar\":{\"outlinewidth\":0,\"ticks\":\"\"}}],\"histogram2d\":[{\"type\":\"histogram2d\",\"colorbar\":{\"outlinewidth\":0,\"ticks\":\"\"},\"colorscale\":[[0.0,\"#0d0887\"],[0.1111111111111111,\"#46039f\"],[0.2222222222222222,\"#7201a8\"],[0.3333333333333333,\"#9c179e\"],[0.4444444444444444,\"#bd3786\"],[0.5555555555555556,\"#d8576b\"],[0.6666666666666666,\"#ed7953\"],[0.7777777777777778,\"#fb9f3a\"],[0.8888888888888888,\"#fdca26\"],[1.0,\"#f0f921\"]]}],\"heatmap\":[{\"type\":\"heatmap\",\"colorbar\":{\"outlinewidth\":0,\"ticks\":\"\"},\"colorscale\":[[0.0,\"#0d0887\"],[0.1111111111111111,\"#46039f\"],[0.2222222222222222,\"#7201a8\"],[0.3333333333333333,\"#9c179e\"],[0.4444444444444444,\"#bd3786\"],[0.5555555555555556,\"#d8576b\"],[0.6666666666666666,\"#ed7953\"],[0.7777777777777778,\"#fb9f3a\"],[0.8888888888888888,\"#fdca26\"],[1.0,\"#f0f921\"]]}],\"heatmapgl\":[{\"type\":\"heatmapgl\",\"colorbar\":{\"outlinewidth\":0,\"ticks\":\"\"},\"colorscale\":[[0.0,\"#0d0887\"],[0.1111111111111111,\"#46039f\"],[0.2222222222222222,\"#7201a8\"],[0.3333333333333333,\"#9c179e\"],[0.4444444444444444,\"#bd3786\"],[0.5555555555555556,\"#d8576b\"],[0.6666666666666666,\"#ed7953\"],[0.7777777777777778,\"#fb9f3a\"],[0.8888888888888888,\"#fdca26\"],[1.0,\"#f0f921\"]]}],\"contourcarpet\":[{\"type\":\"contourcarpet\",\"colorbar\":{\"outlinewidth\":0,\"ticks\":\"\"}}],\"contour\":[{\"type\":\"contour\",\"colorbar\":{\"outlinewidth\":0,\"ticks\":\"\"},\"colorscale\":[[0.0,\"#0d0887\"],[0.1111111111111111,\"#46039f\"],[0.2222222222222222,\"#7201a8\"],[0.3333333333333333,\"#9c179e\"],[0.4444444444444444,\"#bd3786\"],[0.5555555555555556,\"#d8576b\"],[0.6666666666666666,\"#ed7953\"],[0.7777777777777778,\"#fb9f3a\"],[0.8888888888888888,\"#fdca26\"],[1.0,\"#f0f921\"]]}],\"surface\":[{\"type\":\"surface\",\"colorbar\":{\"outlinewidth\":0,\"ticks\":\"\"},\"colorscale\":[[0.0,\"#0d0887\"],[0.1111111111111111,\"#46039f\"],[0.2222222222222222,\"#7201a8\"],[0.3333333333333333,\"#9c179e\"],[0.4444444444444444,\"#bd3786\"],[0.5555555555555556,\"#d8576b\"],[0.6666666666666666,\"#ed7953\"],[0.7777777777777778,\"#fb9f3a\"],[0.8888888888888888,\"#fdca26\"],[1.0,\"#f0f921\"]]}],\"mesh3d\":[{\"type\":\"mesh3d\",\"colorbar\":{\"outlinewidth\":0,\"ticks\":\"\"}}],\"scatter\":[{\"fillpattern\":{\"fillmode\":\"overlay\",\"size\":10,\"solidity\":0.2},\"type\":\"scatter\"}],\"parcoords\":[{\"type\":\"parcoords\",\"line\":{\"colorbar\":{\"outlinewidth\":0,\"ticks\":\"\"}}}],\"scatterpolargl\":[{\"type\":\"scatterpolargl\",\"marker\":{\"colorbar\":{\"outlinewidth\":0,\"ticks\":\"\"}}}],\"bar\":[{\"error_x\":{\"color\":\"#2a3f5f\"},\"error_y\":{\"color\":\"#2a3f5f\"},\"marker\":{\"line\":{\"color\":\"#E5ECF6\",\"width\":0.5},\"pattern\":{\"fillmode\":\"overlay\",\"size\":10,\"solidity\":0.2}},\"type\":\"bar\"}],\"scattergeo\":[{\"type\":\"scattergeo\",\"marker\":{\"colorbar\":{\"outlinewidth\":0,\"ticks\":\"\"}}}],\"scatterpolar\":[{\"type\":\"scatterpolar\",\"marker\":{\"colorbar\":{\"outlinewidth\":0,\"ticks\":\"\"}}}],\"histogram\":[{\"marker\":{\"pattern\":{\"fillmode\":\"overlay\",\"size\":10,\"solidity\":0.2}},\"type\":\"histogram\"}],\"scattergl\":[{\"type\":\"scattergl\",\"marker\":{\"colorbar\":{\"outlinewidth\":0,\"ticks\":\"\"}}}],\"scatter3d\":[{\"type\":\"scatter3d\",\"line\":{\"colorbar\":{\"outlinewidth\":0,\"ticks\":\"\"}},\"marker\":{\"colorbar\":{\"outlinewidth\":0,\"ticks\":\"\"}}}],\"scattermapbox\":[{\"type\":\"scattermapbox\",\"marker\":{\"colorbar\":{\"outlinewidth\":0,\"ticks\":\"\"}}}],\"scatterternary\":[{\"type\":\"scatterternary\",\"marker\":{\"colorbar\":{\"outlinewidth\":0,\"ticks\":\"\"}}}],\"scattercarpet\":[{\"type\":\"scattercarpet\",\"marker\":{\"colorbar\":{\"outlinewidth\":0,\"ticks\":\"\"}}}],\"carpet\":[{\"aaxis\":{\"endlinecolor\":\"#2a3f5f\",\"gridcolor\":\"white\",\"linecolor\":\"white\",\"minorgridcolor\":\"white\",\"startlinecolor\":\"#2a3f5f\"},\"baxis\":{\"endlinecolor\":\"#2a3f5f\",\"gridcolor\":\"white\",\"linecolor\":\"white\",\"minorgridcolor\":\"white\",\"startlinecolor\":\"#2a3f5f\"},\"type\":\"carpet\"}],\"table\":[{\"cells\":{\"fill\":{\"color\":\"#EBF0F8\"},\"line\":{\"color\":\"white\"}},\"header\":{\"fill\":{\"color\":\"#C8D4E3\"},\"line\":{\"color\":\"white\"}},\"type\":\"table\"}],\"barpolar\":[{\"marker\":{\"line\":{\"color\":\"#E5ECF6\",\"width\":0.5},\"pattern\":{\"fillmode\":\"overlay\",\"size\":10,\"solidity\":0.2}},\"type\":\"barpolar\"}],\"pie\":[{\"automargin\":true,\"type\":\"pie\"}]},\"layout\":{\"autotypenumbers\":\"strict\",\"colorway\":[\"#636efa\",\"#EF553B\",\"#00cc96\",\"#ab63fa\",\"#FFA15A\",\"#19d3f3\",\"#FF6692\",\"#B6E880\",\"#FF97FF\",\"#FECB52\"],\"font\":{\"color\":\"#2a3f5f\"},\"hovermode\":\"closest\",\"hoverlabel\":{\"align\":\"left\"},\"paper_bgcolor\":\"white\",\"plot_bgcolor\":\"#E5ECF6\",\"polar\":{\"bgcolor\":\"#E5ECF6\",\"angularaxis\":{\"gridcolor\":\"white\",\"linecolor\":\"white\",\"ticks\":\"\"},\"radialaxis\":{\"gridcolor\":\"white\",\"linecolor\":\"white\",\"ticks\":\"\"}},\"ternary\":{\"bgcolor\":\"#E5ECF6\",\"aaxis\":{\"gridcolor\":\"white\",\"linecolor\":\"white\",\"ticks\":\"\"},\"baxis\":{\"gridcolor\":\"white\",\"linecolor\":\"white\",\"ticks\":\"\"},\"caxis\":{\"gridcolor\":\"white\",\"linecolor\":\"white\",\"ticks\":\"\"}},\"coloraxis\":{\"colorbar\":{\"outlinewidth\":0,\"ticks\":\"\"}},\"colorscale\":{\"sequential\":[[0.0,\"#0d0887\"],[0.1111111111111111,\"#46039f\"],[0.2222222222222222,\"#7201a8\"],[0.3333333333333333,\"#9c179e\"],[0.4444444444444444,\"#bd3786\"],[0.5555555555555556,\"#d8576b\"],[0.6666666666666666,\"#ed7953\"],[0.7777777777777778,\"#fb9f3a\"],[0.8888888888888888,\"#fdca26\"],[1.0,\"#f0f921\"]],\"sequentialminus\":[[0.0,\"#0d0887\"],[0.1111111111111111,\"#46039f\"],[0.2222222222222222,\"#7201a8\"],[0.3333333333333333,\"#9c179e\"],[0.4444444444444444,\"#bd3786\"],[0.5555555555555556,\"#d8576b\"],[0.6666666666666666,\"#ed7953\"],[0.7777777777777778,\"#fb9f3a\"],[0.8888888888888888,\"#fdca26\"],[1.0,\"#f0f921\"]],\"diverging\":[[0,\"#8e0152\"],[0.1,\"#c51b7d\"],[0.2,\"#de77ae\"],[0.3,\"#f1b6da\"],[0.4,\"#fde0ef\"],[0.5,\"#f7f7f7\"],[0.6,\"#e6f5d0\"],[0.7,\"#b8e186\"],[0.8,\"#7fbc41\"],[0.9,\"#4d9221\"],[1,\"#276419\"]]},\"xaxis\":{\"gridcolor\":\"white\",\"linecolor\":\"white\",\"ticks\":\"\",\"title\":{\"standoff\":15},\"zerolinecolor\":\"white\",\"automargin\":true,\"zerolinewidth\":2},\"yaxis\":{\"gridcolor\":\"white\",\"linecolor\":\"white\",\"ticks\":\"\",\"title\":{\"standoff\":15},\"zerolinecolor\":\"white\",\"automargin\":true,\"zerolinewidth\":2},\"scene\":{\"xaxis\":{\"backgroundcolor\":\"#E5ECF6\",\"gridcolor\":\"white\",\"linecolor\":\"white\",\"showbackground\":true,\"ticks\":\"\",\"zerolinecolor\":\"white\",\"gridwidth\":2},\"yaxis\":{\"backgroundcolor\":\"#E5ECF6\",\"gridcolor\":\"white\",\"linecolor\":\"white\",\"showbackground\":true,\"ticks\":\"\",\"zerolinecolor\":\"white\",\"gridwidth\":2},\"zaxis\":{\"backgroundcolor\":\"#E5ECF6\",\"gridcolor\":\"white\",\"linecolor\":\"white\",\"showbackground\":true,\"ticks\":\"\",\"zerolinecolor\":\"white\",\"gridwidth\":2}},\"shapedefaults\":{\"line\":{\"color\":\"#2a3f5f\"}},\"annotationdefaults\":{\"arrowcolor\":\"#2a3f5f\",\"arrowhead\":0,\"arrowwidth\":1},\"geo\":{\"bgcolor\":\"white\",\"landcolor\":\"#E5ECF6\",\"subunitcolor\":\"white\",\"showland\":true,\"showlakes\":true,\"lakecolor\":\"white\"},\"title\":{\"x\":0.05},\"mapbox\":{\"style\":\"light\"}}},\"title\":{\"text\":\"Produzenten: Anzahl und Prozentsatz\"},\"autosize\":true,\"width\":1000,\"height\":1000,\"annotations\":[{\"font\":{\"size\":12},\"showarrow\":false,\"text\":\"Diese Tabelle zeigt die Anzahl und den Prozentsatz der Produzenten.\",\"x\":0.5,\"xref\":\"paper\",\"y\":-0.9,\"yref\":\"paper\"}]},                        {\"responsive\": true}                    ).then(function(){\n",
              "                            \n",
              "var gd = document.getElementById('243c06a0-aa91-4362-a8bf-5eddc243055c');\n",
              "var x = new MutationObserver(function (mutations, observer) {{\n",
              "        var display = window.getComputedStyle(gd).display;\n",
              "        if (!display || display === 'none') {{\n",
              "            console.log([gd, 'removed!']);\n",
              "            Plotly.purge(gd);\n",
              "            observer.disconnect();\n",
              "        }}\n",
              "}});\n",
              "\n",
              "// Listen for the removal of the full notebook cells\n",
              "var notebookContainer = gd.closest('#notebook-container');\n",
              "if (notebookContainer) {{\n",
              "    x.observe(notebookContainer, {childList: true});\n",
              "}}\n",
              "\n",
              "// Listen for the clearing of the current output cell\n",
              "var outputEl = gd.closest('.output');\n",
              "if (outputEl) {{\n",
              "    x.observe(outputEl, {childList: true});\n",
              "}}\n",
              "\n",
              "                        })                };                            </script>        </div>\n",
              "</body>\n",
              "</html>"
            ]
          },
          "metadata": {}
        }
      ]
    },
    {
      "cell_type": "markdown",
      "source": [
        "**Produzenten Grafik**"
      ],
      "metadata": {
        "id": "RSVygkr-Ffjq"
      }
    },
    {
      "cell_type": "code",
      "source": [
        "# Zähle die Anzahl der Produzenten\n",
        "producer_counts = df_produzent_analysis['producer'].value_counts()[:]\n",
        "\n",
        "#Label=producer_counts.index.to_list()\n",
        "#Wert = producer_counts.values\n",
        "#Wert = Wert.tolist()\n",
        "\n",
        "producer_percentages = (producer_counts / producer_counts.sum()) * 100\n",
        "\n",
        "labels=producer_percentages.index.to_list()[:10]\n",
        "value_percent=producer_percentages.values.tolist()[:10]\n",
        "gerundete_werte = np.round(value_percent, 1)\n",
        "\n",
        "fig, ax = plt.subplots(figsize=(12,8))\n",
        "\n",
        "# ajustes para construir o gráfico\n",
        "x = np.arange(len(labels))\n",
        "width_bar = 0.50\n",
        "\n",
        "# Bar Grafik\n",
        "rects2 = ax.bar(x,gerundete_werte,width_bar)\n",
        "\n",
        "# axes\n",
        "ax.set_xticks(x)\n",
        "ax.set_xticklabels(labels,color=\"#787878\");\n",
        "\n",
        "# remover grids e eixos\n",
        "ax.spines['right'].set_visible(False)\n",
        "ax.spines['left'].set_visible(False)\n",
        "ax.spines['top'].set_visible(False)\n",
        "ax.spines['bottom'].set_visible(False)\n",
        "\n",
        "# # remover eixo y\n",
        "plt.gca().axes.get_yaxis().set_visible(False)\n",
        "plt.title('Produzenten und Prozentsatz')\n",
        "\n",
        "# # remover xticks do eixo x\n",
        "plt.tick_params(\n",
        "    axis='both',\n",
        "    which='both',\n",
        "    bottom=False,\n",
        "    top=False,\n",
        "    labelbottom=True)\n",
        "\n",
        "plt.xticks(rotation=80)\n",
        "\n",
        "\n",
        "def autolabel(rects):\n",
        "    for rect in rects:\n",
        "        height = rect.get_height()\n",
        "        ax.annotate(\n",
        "                    '{}%'.format(height),\n",
        "                    xy=(rect.get_x() ,  height),\n",
        "                    xytext=(18,-20),  # offset\n",
        "                    textcoords=\"offset points\",\n",
        "                    ha='center',\n",
        "                    #va='bottom',\n",
        "                    #fontsize=10,\n",
        "                    color=\"White\",\n",
        "                    )\n",
        "\n",
        "# plotar labels dentro das barras\n",
        "#autolabel(rects1)\n",
        "autolabel(rects2)\n",
        "\n",
        "# plotar gráfico\n",
        "fig.tight_layout()\n",
        "plt.show()\n"
      ],
      "metadata": {
        "colab": {
          "base_uri": "https://localhost:8080/",
          "height": 779
        },
        "id": "or5c5awu0pUy",
        "outputId": "845cb247-8b5d-4591-a3e9-80f103112df4"
      },
      "execution_count": 12,
      "outputs": [
        {
          "output_type": "display_data",
          "data": {
            "text/plain": [
              "<Figure size 1200x800 with 1 Axes>"
            ],
            "image/svg+xml": "<?xml version=\"1.0\" encoding=\"utf-8\" standalone=\"no\"?>\n<!DOCTYPE svg PUBLIC \"-//W3C//DTD SVG 1.1//EN\"\n  \"http://www.w3.org/Graphics/SVG/1.1/DTD/svg11.dtd\">\n<svg xmlns:xlink=\"http://www.w3.org/1999/xlink\" width=\"856.8pt\" height=\"567.868052pt\" viewBox=\"0 0 856.8 567.868052\" xmlns=\"http://www.w3.org/2000/svg\" version=\"1.1\">\n <metadata>\n  <rdf:RDF xmlns:dc=\"http://purl.org/dc/elements/1.1/\" xmlns:cc=\"http://creativecommons.org/ns#\" xmlns:rdf=\"http://www.w3.org/1999/02/22-rdf-syntax-ns#\">\n   <cc:Work>\n    <dc:type rdf:resource=\"http://purl.org/dc/dcmitype/StillImage\"/>\n    <dc:date>2024-12-01T17:53:30.667034</dc:date>\n    <dc:format>image/svg+xml</dc:format>\n    <dc:creator>\n     <cc:Agent>\n      <dc:title>Matplotlib v3.8.0, https://matplotlib.org/</dc:title>\n     </cc:Agent>\n    </dc:creator>\n   </cc:Work>\n  </rdf:RDF>\n </metadata>\n <defs>\n  <style type=\"text/css\">*{stroke-linejoin: round; stroke-linecap: butt}</style>\n </defs>\n <g id=\"figure_1\">\n  <g id=\"patch_1\">\n   <path d=\"M 0 567.868052 \nL 856.8 567.868052 \nL 856.8 0 \nL 0 0 \nz\n\" style=\"fill: #ffffff\"/>\n  </g>\n  <g id=\"axes_1\">\n   <g id=\"patch_2\">\n    <path d=\"M 7.2 391.285303 \nL 849.6 391.285303 \nL 849.6 22.318125 \nL 7.2 22.318125 \nz\n\" style=\"fill: #ffffff\"/>\n   </g>\n   <g id=\"patch_3\">\n    <path d=\"M 45.490909 391.285303 \nL 85.797129 391.285303 \nL 85.797129 39.887991 \nL 45.490909 39.887991 \nz\n\" clip-path=\"url(#pdaacc80b7b)\" style=\"fill: #1f77b4\"/>\n   </g>\n   <g id=\"patch_4\">\n    <path d=\"M 126.103349 391.285303 \nL 166.409569 391.285303 \nL 166.409569 97.389369 \nL 126.103349 97.389369 \nz\n\" clip-path=\"url(#pdaacc80b7b)\" style=\"fill: #1f77b4\"/>\n   </g>\n   <g id=\"patch_5\">\n    <path d=\"M 206.715789 391.285303 \nL 247.02201 391.285303 \nL 247.02201 129.334579 \nL 206.715789 129.334579 \nz\n\" clip-path=\"url(#pdaacc80b7b)\" style=\"fill: #1f77b4\"/>\n   </g>\n   <g id=\"patch_6\">\n    <path d=\"M 287.32823 391.285303 \nL 327.63445 391.285303 \nL 327.63445 154.890747 \nL 287.32823 154.890747 \nz\n\" clip-path=\"url(#pdaacc80b7b)\" style=\"fill: #1f77b4\"/>\n   </g>\n   <g id=\"patch_7\">\n    <path d=\"M 367.94067 391.285303 \nL 408.24689 391.285303 \nL 408.24689 154.890747 \nL 367.94067 154.890747 \nz\n\" clip-path=\"url(#pdaacc80b7b)\" style=\"fill: #1f77b4\"/>\n   </g>\n   <g id=\"patch_8\">\n    <path d=\"M 448.55311 391.285303 \nL 488.85933 391.285303 \nL 488.85933 154.890747 \nL 448.55311 154.890747 \nz\n\" clip-path=\"url(#pdaacc80b7b)\" style=\"fill: #1f77b4\"/>\n   </g>\n   <g id=\"patch_9\">\n    <path d=\"M 529.16555 391.285303 \nL 569.47177 391.285303 \nL 569.47177 154.890747 \nL 529.16555 154.890747 \nz\n\" clip-path=\"url(#pdaacc80b7b)\" style=\"fill: #1f77b4\"/>\n   </g>\n   <g id=\"patch_10\">\n    <path d=\"M 609.77799 391.285303 \nL 650.084211 391.285303 \nL 650.084211 186.835958 \nL 609.77799 186.835958 \nz\n\" clip-path=\"url(#pdaacc80b7b)\" style=\"fill: #1f77b4\"/>\n   </g>\n   <g id=\"patch_11\">\n    <path d=\"M 690.390431 391.285303 \nL 730.696651 391.285303 \nL 730.696651 186.835958 \nL 690.390431 186.835958 \nz\n\" clip-path=\"url(#pdaacc80b7b)\" style=\"fill: #1f77b4\"/>\n   </g>\n   <g id=\"patch_12\">\n    <path d=\"M 771.002871 391.285303 \nL 811.309091 391.285303 \nL 811.309091 244.337336 \nL 771.002871 244.337336 \nz\n\" clip-path=\"url(#pdaacc80b7b)\" style=\"fill: #1f77b4\"/>\n   </g>\n   <g id=\"matplotlib.axis_1\">\n    <g id=\"xtick_1\">\n     <g id=\"text_1\">\n      <!-- Domaine Ponsot -->\n      <g style=\"fill: #787878\" transform=\"translate(61.284767 479.872745) rotate(-80) scale(0.1 -0.1)\">\n       <defs>\n        <path id=\"DejaVuSans-44\" d=\"M 1259 4147 \nL 1259 519 \nL 2022 519 \nQ 2988 519 3436 956 \nQ 3884 1394 3884 2338 \nQ 3884 3275 3436 3711 \nQ 2988 4147 2022 4147 \nL 1259 4147 \nz\nM 628 4666 \nL 1925 4666 \nQ 3281 4666 3915 4102 \nQ 4550 3538 4550 2338 \nQ 4550 1131 3912 565 \nQ 3275 0 1925 0 \nL 628 0 \nL 628 4666 \nz\n\" transform=\"scale(0.015625)\"/>\n        <path id=\"DejaVuSans-6f\" d=\"M 1959 3097 \nQ 1497 3097 1228 2736 \nQ 959 2375 959 1747 \nQ 959 1119 1226 758 \nQ 1494 397 1959 397 \nQ 2419 397 2687 759 \nQ 2956 1122 2956 1747 \nQ 2956 2369 2687 2733 \nQ 2419 3097 1959 3097 \nz\nM 1959 3584 \nQ 2709 3584 3137 3096 \nQ 3566 2609 3566 1747 \nQ 3566 888 3137 398 \nQ 2709 -91 1959 -91 \nQ 1206 -91 779 398 \nQ 353 888 353 1747 \nQ 353 2609 779 3096 \nQ 1206 3584 1959 3584 \nz\n\" transform=\"scale(0.015625)\"/>\n        <path id=\"DejaVuSans-6d\" d=\"M 3328 2828 \nQ 3544 3216 3844 3400 \nQ 4144 3584 4550 3584 \nQ 5097 3584 5394 3201 \nQ 5691 2819 5691 2113 \nL 5691 0 \nL 5113 0 \nL 5113 2094 \nQ 5113 2597 4934 2840 \nQ 4756 3084 4391 3084 \nQ 3944 3084 3684 2787 \nQ 3425 2491 3425 1978 \nL 3425 0 \nL 2847 0 \nL 2847 2094 \nQ 2847 2600 2669 2842 \nQ 2491 3084 2119 3084 \nQ 1678 3084 1418 2786 \nQ 1159 2488 1159 1978 \nL 1159 0 \nL 581 0 \nL 581 3500 \nL 1159 3500 \nL 1159 2956 \nQ 1356 3278 1631 3431 \nQ 1906 3584 2284 3584 \nQ 2666 3584 2933 3390 \nQ 3200 3197 3328 2828 \nz\n\" transform=\"scale(0.015625)\"/>\n        <path id=\"DejaVuSans-61\" d=\"M 2194 1759 \nQ 1497 1759 1228 1600 \nQ 959 1441 959 1056 \nQ 959 750 1161 570 \nQ 1363 391 1709 391 \nQ 2188 391 2477 730 \nQ 2766 1069 2766 1631 \nL 2766 1759 \nL 2194 1759 \nz\nM 3341 1997 \nL 3341 0 \nL 2766 0 \nL 2766 531 \nQ 2569 213 2275 61 \nQ 1981 -91 1556 -91 \nQ 1019 -91 701 211 \nQ 384 513 384 1019 \nQ 384 1609 779 1909 \nQ 1175 2209 1959 2209 \nL 2766 2209 \nL 2766 2266 \nQ 2766 2663 2505 2880 \nQ 2244 3097 1772 3097 \nQ 1472 3097 1187 3025 \nQ 903 2953 641 2809 \nL 641 3341 \nQ 956 3463 1253 3523 \nQ 1550 3584 1831 3584 \nQ 2591 3584 2966 3190 \nQ 3341 2797 3341 1997 \nz\n\" transform=\"scale(0.015625)\"/>\n        <path id=\"DejaVuSans-69\" d=\"M 603 3500 \nL 1178 3500 \nL 1178 0 \nL 603 0 \nL 603 3500 \nz\nM 603 4863 \nL 1178 4863 \nL 1178 4134 \nL 603 4134 \nL 603 4863 \nz\n\" transform=\"scale(0.015625)\"/>\n        <path id=\"DejaVuSans-6e\" d=\"M 3513 2113 \nL 3513 0 \nL 2938 0 \nL 2938 2094 \nQ 2938 2591 2744 2837 \nQ 2550 3084 2163 3084 \nQ 1697 3084 1428 2787 \nQ 1159 2491 1159 1978 \nL 1159 0 \nL 581 0 \nL 581 3500 \nL 1159 3500 \nL 1159 2956 \nQ 1366 3272 1645 3428 \nQ 1925 3584 2291 3584 \nQ 2894 3584 3203 3211 \nQ 3513 2838 3513 2113 \nz\n\" transform=\"scale(0.015625)\"/>\n        <path id=\"DejaVuSans-65\" d=\"M 3597 1894 \nL 3597 1613 \nL 953 1613 \nQ 991 1019 1311 708 \nQ 1631 397 2203 397 \nQ 2534 397 2845 478 \nQ 3156 559 3463 722 \nL 3463 178 \nQ 3153 47 2828 -22 \nQ 2503 -91 2169 -91 \nQ 1331 -91 842 396 \nQ 353 884 353 1716 \nQ 353 2575 817 3079 \nQ 1281 3584 2069 3584 \nQ 2775 3584 3186 3129 \nQ 3597 2675 3597 1894 \nz\nM 3022 2063 \nQ 3016 2534 2758 2815 \nQ 2500 3097 2075 3097 \nQ 1594 3097 1305 2825 \nQ 1016 2553 972 2059 \nL 3022 2063 \nz\n\" transform=\"scale(0.015625)\"/>\n        <path id=\"DejaVuSans-20\" transform=\"scale(0.015625)\"/>\n        <path id=\"DejaVuSans-50\" d=\"M 1259 4147 \nL 1259 2394 \nL 2053 2394 \nQ 2494 2394 2734 2622 \nQ 2975 2850 2975 3272 \nQ 2975 3691 2734 3919 \nQ 2494 4147 2053 4147 \nL 1259 4147 \nz\nM 628 4666 \nL 2053 4666 \nQ 2838 4666 3239 4311 \nQ 3641 3956 3641 3272 \nQ 3641 2581 3239 2228 \nQ 2838 1875 2053 1875 \nL 1259 1875 \nL 1259 0 \nL 628 0 \nL 628 4666 \nz\n\" transform=\"scale(0.015625)\"/>\n        <path id=\"DejaVuSans-73\" d=\"M 2834 3397 \nL 2834 2853 \nQ 2591 2978 2328 3040 \nQ 2066 3103 1784 3103 \nQ 1356 3103 1142 2972 \nQ 928 2841 928 2578 \nQ 928 2378 1081 2264 \nQ 1234 2150 1697 2047 \nL 1894 2003 \nQ 2506 1872 2764 1633 \nQ 3022 1394 3022 966 \nQ 3022 478 2636 193 \nQ 2250 -91 1575 -91 \nQ 1294 -91 989 -36 \nQ 684 19 347 128 \nL 347 722 \nQ 666 556 975 473 \nQ 1284 391 1588 391 \nQ 1994 391 2212 530 \nQ 2431 669 2431 922 \nQ 2431 1156 2273 1281 \nQ 2116 1406 1581 1522 \nL 1381 1569 \nQ 847 1681 609 1914 \nQ 372 2147 372 2553 \nQ 372 3047 722 3315 \nQ 1072 3584 1716 3584 \nQ 2034 3584 2315 3537 \nQ 2597 3491 2834 3397 \nz\n\" transform=\"scale(0.015625)\"/>\n        <path id=\"DejaVuSans-74\" d=\"M 1172 4494 \nL 1172 3500 \nL 2356 3500 \nL 2356 3053 \nL 1172 3053 \nL 1172 1153 \nQ 1172 725 1289 603 \nQ 1406 481 1766 481 \nL 2356 481 \nL 2356 0 \nL 1766 0 \nQ 1100 0 847 248 \nQ 594 497 594 1153 \nL 594 3053 \nL 172 3053 \nL 172 3500 \nL 594 3500 \nL 594 4494 \nL 1172 4494 \nz\n\" transform=\"scale(0.015625)\"/>\n       </defs>\n       <use xlink:href=\"#DejaVuSans-44\"/>\n       <use xlink:href=\"#DejaVuSans-6f\" x=\"77.001953\"/>\n       <use xlink:href=\"#DejaVuSans-6d\" x=\"138.183594\"/>\n       <use xlink:href=\"#DejaVuSans-61\" x=\"235.595703\"/>\n       <use xlink:href=\"#DejaVuSans-69\" x=\"296.875\"/>\n       <use xlink:href=\"#DejaVuSans-6e\" x=\"324.658203\"/>\n       <use xlink:href=\"#DejaVuSans-65\" x=\"388.037109\"/>\n       <use xlink:href=\"#DejaVuSans-20\" x=\"449.560547\"/>\n       <use xlink:href=\"#DejaVuSans-50\" x=\"481.347656\"/>\n       <use xlink:href=\"#DejaVuSans-6f\" x=\"538.025391\"/>\n       <use xlink:href=\"#DejaVuSans-6e\" x=\"599.207031\"/>\n       <use xlink:href=\"#DejaVuSans-73\" x=\"662.585938\"/>\n       <use xlink:href=\"#DejaVuSans-6f\" x=\"714.685547\"/>\n       <use xlink:href=\"#DejaVuSans-74\" x=\"775.867188\"/>\n      </g>\n     </g>\n    </g>\n    <g id=\"xtick_2\">\n     <g id=\"text_2\">\n      <!-- La Chablisienne -->\n      <g style=\"fill: #787878\" transform=\"translate(142.097445 477.601532) rotate(-80) scale(0.1 -0.1)\">\n       <defs>\n        <path id=\"DejaVuSans-4c\" d=\"M 628 4666 \nL 1259 4666 \nL 1259 531 \nL 3531 531 \nL 3531 0 \nL 628 0 \nL 628 4666 \nz\n\" transform=\"scale(0.015625)\"/>\n        <path id=\"DejaVuSans-43\" d=\"M 4122 4306 \nL 4122 3641 \nQ 3803 3938 3442 4084 \nQ 3081 4231 2675 4231 \nQ 1875 4231 1450 3742 \nQ 1025 3253 1025 2328 \nQ 1025 1406 1450 917 \nQ 1875 428 2675 428 \nQ 3081 428 3442 575 \nQ 3803 722 4122 1019 \nL 4122 359 \nQ 3791 134 3420 21 \nQ 3050 -91 2638 -91 \nQ 1578 -91 968 557 \nQ 359 1206 359 2328 \nQ 359 3453 968 4101 \nQ 1578 4750 2638 4750 \nQ 3056 4750 3426 4639 \nQ 3797 4528 4122 4306 \nz\n\" transform=\"scale(0.015625)\"/>\n        <path id=\"DejaVuSans-68\" d=\"M 3513 2113 \nL 3513 0 \nL 2938 0 \nL 2938 2094 \nQ 2938 2591 2744 2837 \nQ 2550 3084 2163 3084 \nQ 1697 3084 1428 2787 \nQ 1159 2491 1159 1978 \nL 1159 0 \nL 581 0 \nL 581 4863 \nL 1159 4863 \nL 1159 2956 \nQ 1366 3272 1645 3428 \nQ 1925 3584 2291 3584 \nQ 2894 3584 3203 3211 \nQ 3513 2838 3513 2113 \nz\n\" transform=\"scale(0.015625)\"/>\n        <path id=\"DejaVuSans-62\" d=\"M 3116 1747 \nQ 3116 2381 2855 2742 \nQ 2594 3103 2138 3103 \nQ 1681 3103 1420 2742 \nQ 1159 2381 1159 1747 \nQ 1159 1113 1420 752 \nQ 1681 391 2138 391 \nQ 2594 391 2855 752 \nQ 3116 1113 3116 1747 \nz\nM 1159 2969 \nQ 1341 3281 1617 3432 \nQ 1894 3584 2278 3584 \nQ 2916 3584 3314 3078 \nQ 3713 2572 3713 1747 \nQ 3713 922 3314 415 \nQ 2916 -91 2278 -91 \nQ 1894 -91 1617 61 \nQ 1341 213 1159 525 \nL 1159 0 \nL 581 0 \nL 581 4863 \nL 1159 4863 \nL 1159 2969 \nz\n\" transform=\"scale(0.015625)\"/>\n        <path id=\"DejaVuSans-6c\" d=\"M 603 4863 \nL 1178 4863 \nL 1178 0 \nL 603 0 \nL 603 4863 \nz\n\" transform=\"scale(0.015625)\"/>\n       </defs>\n       <use xlink:href=\"#DejaVuSans-4c\"/>\n       <use xlink:href=\"#DejaVuSans-61\" x=\"55.712891\"/>\n       <use xlink:href=\"#DejaVuSans-20\" x=\"116.992188\"/>\n       <use xlink:href=\"#DejaVuSans-43\" x=\"148.779297\"/>\n       <use xlink:href=\"#DejaVuSans-68\" x=\"218.603516\"/>\n       <use xlink:href=\"#DejaVuSans-61\" x=\"281.982422\"/>\n       <use xlink:href=\"#DejaVuSans-62\" x=\"343.261719\"/>\n       <use xlink:href=\"#DejaVuSans-6c\" x=\"406.738281\"/>\n       <use xlink:href=\"#DejaVuSans-69\" x=\"434.521484\"/>\n       <use xlink:href=\"#DejaVuSans-73\" x=\"462.304688\"/>\n       <use xlink:href=\"#DejaVuSans-69\" x=\"514.404297\"/>\n       <use xlink:href=\"#DejaVuSans-65\" x=\"542.1875\"/>\n       <use xlink:href=\"#DejaVuSans-6e\" x=\"603.710938\"/>\n       <use xlink:href=\"#DejaVuSans-6e\" x=\"667.089844\"/>\n       <use xlink:href=\"#DejaVuSans-65\" x=\"730.46875\"/>\n      </g>\n     </g>\n    </g>\n    <g id=\"xtick_3\">\n     <g id=\"text_3\">\n      <!-- Domaine Matrot -->\n      <g style=\"fill: #787878\" transform=\"translate(222.576529 479.114135) rotate(-80) scale(0.1 -0.1)\">\n       <defs>\n        <path id=\"DejaVuSans-4d\" d=\"M 628 4666 \nL 1569 4666 \nL 2759 1491 \nL 3956 4666 \nL 4897 4666 \nL 4897 0 \nL 4281 0 \nL 4281 4097 \nL 3078 897 \nL 2444 897 \nL 1241 4097 \nL 1241 0 \nL 628 0 \nL 628 4666 \nz\n\" transform=\"scale(0.015625)\"/>\n        <path id=\"DejaVuSans-72\" d=\"M 2631 2963 \nQ 2534 3019 2420 3045 \nQ 2306 3072 2169 3072 \nQ 1681 3072 1420 2755 \nQ 1159 2438 1159 1844 \nL 1159 0 \nL 581 0 \nL 581 3500 \nL 1159 3500 \nL 1159 2956 \nQ 1341 3275 1631 3429 \nQ 1922 3584 2338 3584 \nQ 2397 3584 2469 3576 \nQ 2541 3569 2628 3553 \nL 2631 2963 \nz\n\" transform=\"scale(0.015625)\"/>\n       </defs>\n       <use xlink:href=\"#DejaVuSans-44\"/>\n       <use xlink:href=\"#DejaVuSans-6f\" x=\"77.001953\"/>\n       <use xlink:href=\"#DejaVuSans-6d\" x=\"138.183594\"/>\n       <use xlink:href=\"#DejaVuSans-61\" x=\"235.595703\"/>\n       <use xlink:href=\"#DejaVuSans-69\" x=\"296.875\"/>\n       <use xlink:href=\"#DejaVuSans-6e\" x=\"324.658203\"/>\n       <use xlink:href=\"#DejaVuSans-65\" x=\"388.037109\"/>\n       <use xlink:href=\"#DejaVuSans-20\" x=\"449.560547\"/>\n       <use xlink:href=\"#DejaVuSans-4d\" x=\"481.347656\"/>\n       <use xlink:href=\"#DejaVuSans-61\" x=\"567.626953\"/>\n       <use xlink:href=\"#DejaVuSans-74\" x=\"628.90625\"/>\n       <use xlink:href=\"#DejaVuSans-72\" x=\"668.115234\"/>\n       <use xlink:href=\"#DejaVuSans-6f\" x=\"706.978516\"/>\n       <use xlink:href=\"#DejaVuSans-74\" x=\"768.160156\"/>\n      </g>\n     </g>\n    </g>\n    <g id=\"xtick_4\">\n     <g id=\"text_4\">\n      <!-- Achaval Ferrer -->\n      <g style=\"fill: #787878\" transform=\"translate(303.941083 470.583238) rotate(-80) scale(0.1 -0.1)\">\n       <defs>\n        <path id=\"DejaVuSans-41\" d=\"M 2188 4044 \nL 1331 1722 \nL 3047 1722 \nL 2188 4044 \nz\nM 1831 4666 \nL 2547 4666 \nL 4325 0 \nL 3669 0 \nL 3244 1197 \nL 1141 1197 \nL 716 0 \nL 50 0 \nL 1831 4666 \nz\n\" transform=\"scale(0.015625)\"/>\n        <path id=\"DejaVuSans-63\" d=\"M 3122 3366 \nL 3122 2828 \nQ 2878 2963 2633 3030 \nQ 2388 3097 2138 3097 \nQ 1578 3097 1268 2742 \nQ 959 2388 959 1747 \nQ 959 1106 1268 751 \nQ 1578 397 2138 397 \nQ 2388 397 2633 464 \nQ 2878 531 3122 666 \nL 3122 134 \nQ 2881 22 2623 -34 \nQ 2366 -91 2075 -91 \nQ 1284 -91 818 406 \nQ 353 903 353 1747 \nQ 353 2603 823 3093 \nQ 1294 3584 2113 3584 \nQ 2378 3584 2631 3529 \nQ 2884 3475 3122 3366 \nz\n\" transform=\"scale(0.015625)\"/>\n        <path id=\"DejaVuSans-76\" d=\"M 191 3500 \nL 800 3500 \nL 1894 563 \nL 2988 3500 \nL 3597 3500 \nL 2284 0 \nL 1503 0 \nL 191 3500 \nz\n\" transform=\"scale(0.015625)\"/>\n        <path id=\"DejaVuSans-46\" d=\"M 628 4666 \nL 3309 4666 \nL 3309 4134 \nL 1259 4134 \nL 1259 2759 \nL 3109 2759 \nL 3109 2228 \nL 1259 2228 \nL 1259 0 \nL 628 0 \nL 628 4666 \nz\n\" transform=\"scale(0.015625)\"/>\n       </defs>\n       <use xlink:href=\"#DejaVuSans-41\"/>\n       <use xlink:href=\"#DejaVuSans-63\" x=\"66.658203\"/>\n       <use xlink:href=\"#DejaVuSans-68\" x=\"121.638672\"/>\n       <use xlink:href=\"#DejaVuSans-61\" x=\"185.017578\"/>\n       <use xlink:href=\"#DejaVuSans-76\" x=\"246.296875\"/>\n       <use xlink:href=\"#DejaVuSans-61\" x=\"305.476562\"/>\n       <use xlink:href=\"#DejaVuSans-6c\" x=\"366.755859\"/>\n       <use xlink:href=\"#DejaVuSans-20\" x=\"394.539062\"/>\n       <use xlink:href=\"#DejaVuSans-46\" x=\"426.326172\"/>\n       <use xlink:href=\"#DejaVuSans-65\" x=\"478.345703\"/>\n       <use xlink:href=\"#DejaVuSans-72\" x=\"539.869141\"/>\n       <use xlink:href=\"#DejaVuSans-72\" x=\"579.232422\"/>\n       <use xlink:href=\"#DejaVuSans-65\" x=\"618.095703\"/>\n       <use xlink:href=\"#DejaVuSans-72\" x=\"679.619141\"/>\n      </g>\n     </g>\n    </g>\n    <g id=\"xtick_5\">\n     <g id=\"text_5\">\n      <!-- Pêra-Grave -->\n      <g style=\"fill: #787878\" transform=\"translate(385.941352 454.841701) rotate(-80) scale(0.1 -0.1)\">\n       <defs>\n        <path id=\"DejaVuSans-ea\" d=\"M 3597 1894 \nL 3597 1613 \nL 953 1613 \nQ 991 1019 1311 708 \nQ 1631 397 2203 397 \nQ 2534 397 2845 478 \nQ 3156 559 3463 722 \nL 3463 178 \nQ 3153 47 2828 -22 \nQ 2503 -91 2169 -91 \nQ 1331 -91 842 396 \nQ 353 884 353 1716 \nQ 353 2575 817 3079 \nQ 1281 3584 2069 3584 \nQ 2775 3584 3186 3129 \nQ 3597 2675 3597 1894 \nz\nM 3022 2063 \nQ 3016 2534 2758 2815 \nQ 2500 3097 2075 3097 \nQ 1594 3097 1305 2825 \nQ 1016 2553 972 2059 \nL 3022 2063 \nz\nM 1801 5119 \nL 2263 5119 \nL 3029 3944 \nL 2595 3944 \nL 2032 4709 \nL 1470 3944 \nL 1035 3944 \nL 1801 5119 \nz\n\" transform=\"scale(0.015625)\"/>\n        <path id=\"DejaVuSans-2d\" d=\"M 313 2009 \nL 1997 2009 \nL 1997 1497 \nL 313 1497 \nL 313 2009 \nz\n\" transform=\"scale(0.015625)\"/>\n        <path id=\"DejaVuSans-47\" d=\"M 3809 666 \nL 3809 1919 \nL 2778 1919 \nL 2778 2438 \nL 4434 2438 \nL 4434 434 \nQ 4069 175 3628 42 \nQ 3188 -91 2688 -91 \nQ 1594 -91 976 548 \nQ 359 1188 359 2328 \nQ 359 3472 976 4111 \nQ 1594 4750 2688 4750 \nQ 3144 4750 3555 4637 \nQ 3966 4525 4313 4306 \nL 4313 3634 \nQ 3963 3931 3569 4081 \nQ 3175 4231 2741 4231 \nQ 1884 4231 1454 3753 \nQ 1025 3275 1025 2328 \nQ 1025 1384 1454 906 \nQ 1884 428 2741 428 \nQ 3075 428 3337 486 \nQ 3600 544 3809 666 \nz\n\" transform=\"scale(0.015625)\"/>\n       </defs>\n       <use xlink:href=\"#DejaVuSans-50\"/>\n       <use xlink:href=\"#DejaVuSans-ea\" x=\"56.677734\"/>\n       <use xlink:href=\"#DejaVuSans-72\" x=\"118.201172\"/>\n       <use xlink:href=\"#DejaVuSans-61\" x=\"159.314453\"/>\n       <use xlink:href=\"#DejaVuSans-2d\" x=\"220.59375\"/>\n       <use xlink:href=\"#DejaVuSans-47\" x=\"260.302734\"/>\n       <use xlink:href=\"#DejaVuSans-72\" x=\"337.792969\"/>\n       <use xlink:href=\"#DejaVuSans-61\" x=\"378.90625\"/>\n       <use xlink:href=\"#DejaVuSans-76\" x=\"440.185547\"/>\n       <use xlink:href=\"#DejaVuSans-65\" x=\"499.365234\"/>\n      </g>\n     </g>\n    </g>\n    <g id=\"xtick_6\">\n     <g id=\"text_6\">\n      <!-- Olivier Riviere -->\n      <g style=\"fill: #787878\" transform=\"translate(465.330115 468.721336) rotate(-80) scale(0.1 -0.1)\">\n       <defs>\n        <path id=\"DejaVuSans-4f\" d=\"M 2522 4238 \nQ 1834 4238 1429 3725 \nQ 1025 3213 1025 2328 \nQ 1025 1447 1429 934 \nQ 1834 422 2522 422 \nQ 3209 422 3611 934 \nQ 4013 1447 4013 2328 \nQ 4013 3213 3611 3725 \nQ 3209 4238 2522 4238 \nz\nM 2522 4750 \nQ 3503 4750 4090 4092 \nQ 4678 3434 4678 2328 \nQ 4678 1225 4090 567 \nQ 3503 -91 2522 -91 \nQ 1538 -91 948 565 \nQ 359 1222 359 2328 \nQ 359 3434 948 4092 \nQ 1538 4750 2522 4750 \nz\n\" transform=\"scale(0.015625)\"/>\n        <path id=\"DejaVuSans-52\" d=\"M 2841 2188 \nQ 3044 2119 3236 1894 \nQ 3428 1669 3622 1275 \nL 4263 0 \nL 3584 0 \nL 2988 1197 \nQ 2756 1666 2539 1819 \nQ 2322 1972 1947 1972 \nL 1259 1972 \nL 1259 0 \nL 628 0 \nL 628 4666 \nL 2053 4666 \nQ 2853 4666 3247 4331 \nQ 3641 3997 3641 3322 \nQ 3641 2881 3436 2590 \nQ 3231 2300 2841 2188 \nz\nM 1259 4147 \nL 1259 2491 \nL 2053 2491 \nQ 2509 2491 2742 2702 \nQ 2975 2913 2975 3322 \nQ 2975 3731 2742 3939 \nQ 2509 4147 2053 4147 \nL 1259 4147 \nz\n\" transform=\"scale(0.015625)\"/>\n       </defs>\n       <use xlink:href=\"#DejaVuSans-4f\"/>\n       <use xlink:href=\"#DejaVuSans-6c\" x=\"78.710938\"/>\n       <use xlink:href=\"#DejaVuSans-69\" x=\"106.494141\"/>\n       <use xlink:href=\"#DejaVuSans-76\" x=\"134.277344\"/>\n       <use xlink:href=\"#DejaVuSans-69\" x=\"193.457031\"/>\n       <use xlink:href=\"#DejaVuSans-65\" x=\"221.240234\"/>\n       <use xlink:href=\"#DejaVuSans-72\" x=\"282.763672\"/>\n       <use xlink:href=\"#DejaVuSans-20\" x=\"323.876953\"/>\n       <use xlink:href=\"#DejaVuSans-52\" x=\"355.664062\"/>\n       <use xlink:href=\"#DejaVuSans-69\" x=\"425.146484\"/>\n       <use xlink:href=\"#DejaVuSans-76\" x=\"452.929688\"/>\n       <use xlink:href=\"#DejaVuSans-69\" x=\"512.109375\"/>\n       <use xlink:href=\"#DejaVuSans-65\" x=\"539.892578\"/>\n       <use xlink:href=\"#DejaVuSans-72\" x=\"601.416016\"/>\n       <use xlink:href=\"#DejaVuSans-65\" x=\"640.279297\"/>\n      </g>\n     </g>\n    </g>\n    <g id=\"xtick_7\">\n     <g id=\"text_7\">\n      <!-- Casanova di Neri -->\n      <g style=\"fill: #787878\" transform=\"translate(544.65973 483.27187) rotate(-80) scale(0.1 -0.1)\">\n       <defs>\n        <path id=\"DejaVuSans-64\" d=\"M 2906 2969 \nL 2906 4863 \nL 3481 4863 \nL 3481 0 \nL 2906 0 \nL 2906 525 \nQ 2725 213 2448 61 \nQ 2172 -91 1784 -91 \nQ 1150 -91 751 415 \nQ 353 922 353 1747 \nQ 353 2572 751 3078 \nQ 1150 3584 1784 3584 \nQ 2172 3584 2448 3432 \nQ 2725 3281 2906 2969 \nz\nM 947 1747 \nQ 947 1113 1208 752 \nQ 1469 391 1925 391 \nQ 2381 391 2643 752 \nQ 2906 1113 2906 1747 \nQ 2906 2381 2643 2742 \nQ 2381 3103 1925 3103 \nQ 1469 3103 1208 2742 \nQ 947 2381 947 1747 \nz\n\" transform=\"scale(0.015625)\"/>\n        <path id=\"DejaVuSans-4e\" d=\"M 628 4666 \nL 1478 4666 \nL 3547 763 \nL 3547 4666 \nL 4159 4666 \nL 4159 0 \nL 3309 0 \nL 1241 3903 \nL 1241 0 \nL 628 0 \nL 628 4666 \nz\n\" transform=\"scale(0.015625)\"/>\n       </defs>\n       <use xlink:href=\"#DejaVuSans-43\"/>\n       <use xlink:href=\"#DejaVuSans-61\" x=\"69.824219\"/>\n       <use xlink:href=\"#DejaVuSans-73\" x=\"131.103516\"/>\n       <use xlink:href=\"#DejaVuSans-61\" x=\"183.203125\"/>\n       <use xlink:href=\"#DejaVuSans-6e\" x=\"244.482422\"/>\n       <use xlink:href=\"#DejaVuSans-6f\" x=\"307.861328\"/>\n       <use xlink:href=\"#DejaVuSans-76\" x=\"369.042969\"/>\n       <use xlink:href=\"#DejaVuSans-61\" x=\"428.222656\"/>\n       <use xlink:href=\"#DejaVuSans-20\" x=\"489.501953\"/>\n       <use xlink:href=\"#DejaVuSans-64\" x=\"521.289062\"/>\n       <use xlink:href=\"#DejaVuSans-69\" x=\"584.765625\"/>\n       <use xlink:href=\"#DejaVuSans-20\" x=\"612.548828\"/>\n       <use xlink:href=\"#DejaVuSans-4e\" x=\"644.335938\"/>\n       <use xlink:href=\"#DejaVuSans-65\" x=\"719.140625\"/>\n       <use xlink:href=\"#DejaVuSans-72\" x=\"780.664062\"/>\n       <use xlink:href=\"#DejaVuSans-69\" x=\"821.777344\"/>\n      </g>\n     </g>\n    </g>\n    <g id=\"xtick_8\">\n     <g id=\"text_8\">\n      <!-- Eric Texier -->\n      <g style=\"fill: #787878\" transform=\"translate(628.200448 450.05769) rotate(-80) scale(0.1 -0.1)\">\n       <defs>\n        <path id=\"DejaVuSans-45\" d=\"M 628 4666 \nL 3578 4666 \nL 3578 4134 \nL 1259 4134 \nL 1259 2753 \nL 3481 2753 \nL 3481 2222 \nL 1259 2222 \nL 1259 531 \nL 3634 531 \nL 3634 0 \nL 628 0 \nL 628 4666 \nz\n\" transform=\"scale(0.015625)\"/>\n        <path id=\"DejaVuSans-54\" d=\"M -19 4666 \nL 3928 4666 \nL 3928 4134 \nL 2272 4134 \nL 2272 0 \nL 1638 0 \nL 1638 4134 \nL -19 4134 \nL -19 4666 \nz\n\" transform=\"scale(0.015625)\"/>\n        <path id=\"DejaVuSans-78\" d=\"M 3513 3500 \nL 2247 1797 \nL 3578 0 \nL 2900 0 \nL 1881 1375 \nL 863 0 \nL 184 0 \nL 1544 1831 \nL 300 3500 \nL 978 3500 \nL 1906 2253 \nL 2834 3500 \nL 3513 3500 \nz\n\" transform=\"scale(0.015625)\"/>\n       </defs>\n       <use xlink:href=\"#DejaVuSans-45\"/>\n       <use xlink:href=\"#DejaVuSans-72\" x=\"63.183594\"/>\n       <use xlink:href=\"#DejaVuSans-69\" x=\"104.296875\"/>\n       <use xlink:href=\"#DejaVuSans-63\" x=\"132.080078\"/>\n       <use xlink:href=\"#DejaVuSans-20\" x=\"187.060547\"/>\n       <use xlink:href=\"#DejaVuSans-54\" x=\"218.847656\"/>\n       <use xlink:href=\"#DejaVuSans-65\" x=\"262.931641\"/>\n       <use xlink:href=\"#DejaVuSans-78\" x=\"322.705078\"/>\n       <use xlink:href=\"#DejaVuSans-69\" x=\"381.884766\"/>\n       <use xlink:href=\"#DejaVuSans-65\" x=\"409.667969\"/>\n       <use xlink:href=\"#DejaVuSans-72\" x=\"471.191406\"/>\n      </g>\n     </g>\n    </g>\n    <g id=\"xtick_9\">\n     <g id=\"text_9\">\n      <!-- Domaine Pascal Prunier-Bonheur -->\n      <g style=\"fill: #787878\" transform=\"translate(699.092931 560.306918) rotate(-80) scale(0.1 -0.1)\">\n       <defs>\n        <path id=\"DejaVuSans-75\" d=\"M 544 1381 \nL 544 3500 \nL 1119 3500 \nL 1119 1403 \nQ 1119 906 1312 657 \nQ 1506 409 1894 409 \nQ 2359 409 2629 706 \nQ 2900 1003 2900 1516 \nL 2900 3500 \nL 3475 3500 \nL 3475 0 \nL 2900 0 \nL 2900 538 \nQ 2691 219 2414 64 \nQ 2138 -91 1772 -91 \nQ 1169 -91 856 284 \nQ 544 659 544 1381 \nz\nM 1991 3584 \nL 1991 3584 \nz\n\" transform=\"scale(0.015625)\"/>\n        <path id=\"DejaVuSans-42\" d=\"M 1259 2228 \nL 1259 519 \nL 2272 519 \nQ 2781 519 3026 730 \nQ 3272 941 3272 1375 \nQ 3272 1813 3026 2020 \nQ 2781 2228 2272 2228 \nL 1259 2228 \nz\nM 1259 4147 \nL 1259 2741 \nL 2194 2741 \nQ 2656 2741 2882 2914 \nQ 3109 3088 3109 3444 \nQ 3109 3797 2882 3972 \nQ 2656 4147 2194 4147 \nL 1259 4147 \nz\nM 628 4666 \nL 2241 4666 \nQ 2963 4666 3353 4366 \nQ 3744 4066 3744 3513 \nQ 3744 3084 3544 2831 \nQ 3344 2578 2956 2516 \nQ 3422 2416 3680 2098 \nQ 3938 1781 3938 1306 \nQ 3938 681 3513 340 \nQ 3088 0 2303 0 \nL 628 0 \nL 628 4666 \nz\n\" transform=\"scale(0.015625)\"/>\n       </defs>\n       <use xlink:href=\"#DejaVuSans-44\"/>\n       <use xlink:href=\"#DejaVuSans-6f\" x=\"77.001953\"/>\n       <use xlink:href=\"#DejaVuSans-6d\" x=\"138.183594\"/>\n       <use xlink:href=\"#DejaVuSans-61\" x=\"235.595703\"/>\n       <use xlink:href=\"#DejaVuSans-69\" x=\"296.875\"/>\n       <use xlink:href=\"#DejaVuSans-6e\" x=\"324.658203\"/>\n       <use xlink:href=\"#DejaVuSans-65\" x=\"388.037109\"/>\n       <use xlink:href=\"#DejaVuSans-20\" x=\"449.560547\"/>\n       <use xlink:href=\"#DejaVuSans-50\" x=\"481.347656\"/>\n       <use xlink:href=\"#DejaVuSans-61\" x=\"537.150391\"/>\n       <use xlink:href=\"#DejaVuSans-73\" x=\"598.429688\"/>\n       <use xlink:href=\"#DejaVuSans-63\" x=\"650.529297\"/>\n       <use xlink:href=\"#DejaVuSans-61\" x=\"705.509766\"/>\n       <use xlink:href=\"#DejaVuSans-6c\" x=\"766.789062\"/>\n       <use xlink:href=\"#DejaVuSans-20\" x=\"794.572266\"/>\n       <use xlink:href=\"#DejaVuSans-50\" x=\"826.359375\"/>\n       <use xlink:href=\"#DejaVuSans-72\" x=\"884.912109\"/>\n       <use xlink:href=\"#DejaVuSans-75\" x=\"926.025391\"/>\n       <use xlink:href=\"#DejaVuSans-6e\" x=\"989.404297\"/>\n       <use xlink:href=\"#DejaVuSans-69\" x=\"1052.783203\"/>\n       <use xlink:href=\"#DejaVuSans-65\" x=\"1080.566406\"/>\n       <use xlink:href=\"#DejaVuSans-72\" x=\"1142.089844\"/>\n       <use xlink:href=\"#DejaVuSans-2d\" x=\"1176.828125\"/>\n       <use xlink:href=\"#DejaVuSans-42\" x=\"1209.287109\"/>\n       <use xlink:href=\"#DejaVuSans-6f\" x=\"1277.890625\"/>\n       <use xlink:href=\"#DejaVuSans-6e\" x=\"1339.072266\"/>\n       <use xlink:href=\"#DejaVuSans-68\" x=\"1402.451172\"/>\n       <use xlink:href=\"#DejaVuSans-65\" x=\"1465.830078\"/>\n       <use xlink:href=\"#DejaVuSans-75\" x=\"1527.353516\"/>\n       <use xlink:href=\"#DejaVuSans-72\" x=\"1590.732422\"/>\n      </g>\n     </g>\n    </g>\n    <g id=\"xtick_10\">\n     <g id=\"text_10\">\n      <!-- Domaine Tessier -->\n      <g style=\"fill: #787878\" transform=\"translate(786.740293 480.51287) rotate(-80) scale(0.1 -0.1)\">\n       <use xlink:href=\"#DejaVuSans-44\"/>\n       <use xlink:href=\"#DejaVuSans-6f\" x=\"77.001953\"/>\n       <use xlink:href=\"#DejaVuSans-6d\" x=\"138.183594\"/>\n       <use xlink:href=\"#DejaVuSans-61\" x=\"235.595703\"/>\n       <use xlink:href=\"#DejaVuSans-69\" x=\"296.875\"/>\n       <use xlink:href=\"#DejaVuSans-6e\" x=\"324.658203\"/>\n       <use xlink:href=\"#DejaVuSans-65\" x=\"388.037109\"/>\n       <use xlink:href=\"#DejaVuSans-20\" x=\"449.560547\"/>\n       <use xlink:href=\"#DejaVuSans-54\" x=\"481.347656\"/>\n       <use xlink:href=\"#DejaVuSans-65\" x=\"525.431641\"/>\n       <use xlink:href=\"#DejaVuSans-73\" x=\"586.955078\"/>\n       <use xlink:href=\"#DejaVuSans-73\" x=\"639.054688\"/>\n       <use xlink:href=\"#DejaVuSans-69\" x=\"691.154297\"/>\n       <use xlink:href=\"#DejaVuSans-65\" x=\"718.9375\"/>\n       <use xlink:href=\"#DejaVuSans-72\" x=\"780.460938\"/>\n      </g>\n     </g>\n    </g>\n   </g>\n   <g id=\"text_11\">\n    <!-- 5.5% -->\n    <g style=\"fill: #ffffff\" transform=\"translate(50.788565 59.887991) scale(0.1 -0.1)\">\n     <defs>\n      <path id=\"DejaVuSans-35\" d=\"M 691 4666 \nL 3169 4666 \nL 3169 4134 \nL 1269 4134 \nL 1269 2991 \nQ 1406 3038 1543 3061 \nQ 1681 3084 1819 3084 \nQ 2600 3084 3056 2656 \nQ 3513 2228 3513 1497 \nQ 3513 744 3044 326 \nQ 2575 -91 1722 -91 \nQ 1428 -91 1123 -41 \nQ 819 9 494 109 \nL 494 744 \nQ 775 591 1075 516 \nQ 1375 441 1709 441 \nQ 2250 441 2565 725 \nQ 2881 1009 2881 1497 \nQ 2881 1984 2565 2268 \nQ 2250 2553 1709 2553 \nQ 1456 2553 1204 2497 \nQ 953 2441 691 2322 \nL 691 4666 \nz\n\" transform=\"scale(0.015625)\"/>\n      <path id=\"DejaVuSans-2e\" d=\"M 684 794 \nL 1344 794 \nL 1344 0 \nL 684 0 \nL 684 794 \nz\n\" transform=\"scale(0.015625)\"/>\n      <path id=\"DejaVuSans-25\" d=\"M 4653 2053 \nQ 4381 2053 4226 1822 \nQ 4072 1591 4072 1178 \nQ 4072 772 4226 539 \nQ 4381 306 4653 306 \nQ 4919 306 5073 539 \nQ 5228 772 5228 1178 \nQ 5228 1588 5073 1820 \nQ 4919 2053 4653 2053 \nz\nM 4653 2450 \nQ 5147 2450 5437 2106 \nQ 5728 1763 5728 1178 \nQ 5728 594 5436 251 \nQ 5144 -91 4653 -91 \nQ 4153 -91 3862 251 \nQ 3572 594 3572 1178 \nQ 3572 1766 3864 2108 \nQ 4156 2450 4653 2450 \nz\nM 1428 4353 \nQ 1159 4353 1004 4120 \nQ 850 3888 850 3481 \nQ 850 3069 1003 2837 \nQ 1156 2606 1428 2606 \nQ 1700 2606 1854 2837 \nQ 2009 3069 2009 3481 \nQ 2009 3884 1853 4118 \nQ 1697 4353 1428 4353 \nz\nM 4250 4750 \nL 4750 4750 \nL 1831 -91 \nL 1331 -91 \nL 4250 4750 \nz\nM 1428 4750 \nQ 1922 4750 2215 4408 \nQ 2509 4066 2509 3481 \nQ 2509 2891 2217 2550 \nQ 1925 2209 1428 2209 \nQ 931 2209 642 2551 \nQ 353 2894 353 3481 \nQ 353 4063 643 4406 \nQ 934 4750 1428 4750 \nz\n\" transform=\"scale(0.015625)\"/>\n     </defs>\n     <use xlink:href=\"#DejaVuSans-35\"/>\n     <use xlink:href=\"#DejaVuSans-2e\" x=\"63.623047\"/>\n     <use xlink:href=\"#DejaVuSans-35\" x=\"95.410156\"/>\n     <use xlink:href=\"#DejaVuSans-25\" x=\"159.033203\"/>\n    </g>\n   </g>\n   <g id=\"text_12\">\n    <!-- 4.6% -->\n    <g style=\"fill: #ffffff\" transform=\"translate(131.401006 117.389369) scale(0.1 -0.1)\">\n     <defs>\n      <path id=\"DejaVuSans-34\" d=\"M 2419 4116 \nL 825 1625 \nL 2419 1625 \nL 2419 4116 \nz\nM 2253 4666 \nL 3047 4666 \nL 3047 1625 \nL 3713 1625 \nL 3713 1100 \nL 3047 1100 \nL 3047 0 \nL 2419 0 \nL 2419 1100 \nL 313 1100 \nL 313 1709 \nL 2253 4666 \nz\n\" transform=\"scale(0.015625)\"/>\n      <path id=\"DejaVuSans-36\" d=\"M 2113 2584 \nQ 1688 2584 1439 2293 \nQ 1191 2003 1191 1497 \nQ 1191 994 1439 701 \nQ 1688 409 2113 409 \nQ 2538 409 2786 701 \nQ 3034 994 3034 1497 \nQ 3034 2003 2786 2293 \nQ 2538 2584 2113 2584 \nz\nM 3366 4563 \nL 3366 3988 \nQ 3128 4100 2886 4159 \nQ 2644 4219 2406 4219 \nQ 1781 4219 1451 3797 \nQ 1122 3375 1075 2522 \nQ 1259 2794 1537 2939 \nQ 1816 3084 2150 3084 \nQ 2853 3084 3261 2657 \nQ 3669 2231 3669 1497 \nQ 3669 778 3244 343 \nQ 2819 -91 2113 -91 \nQ 1303 -91 875 529 \nQ 447 1150 447 2328 \nQ 447 3434 972 4092 \nQ 1497 4750 2381 4750 \nQ 2619 4750 2861 4703 \nQ 3103 4656 3366 4563 \nz\n\" transform=\"scale(0.015625)\"/>\n     </defs>\n     <use xlink:href=\"#DejaVuSans-34\"/>\n     <use xlink:href=\"#DejaVuSans-2e\" x=\"63.623047\"/>\n     <use xlink:href=\"#DejaVuSans-36\" x=\"95.410156\"/>\n     <use xlink:href=\"#DejaVuSans-25\" x=\"159.033203\"/>\n    </g>\n   </g>\n   <g id=\"text_13\">\n    <!-- 4.1% -->\n    <g style=\"fill: #ffffff\" transform=\"translate(212.013446 149.334579) scale(0.1 -0.1)\">\n     <defs>\n      <path id=\"DejaVuSans-31\" d=\"M 794 531 \nL 1825 531 \nL 1825 4091 \nL 703 3866 \nL 703 4441 \nL 1819 4666 \nL 2450 4666 \nL 2450 531 \nL 3481 531 \nL 3481 0 \nL 794 0 \nL 794 531 \nz\n\" transform=\"scale(0.015625)\"/>\n     </defs>\n     <use xlink:href=\"#DejaVuSans-34\"/>\n     <use xlink:href=\"#DejaVuSans-2e\" x=\"63.623047\"/>\n     <use xlink:href=\"#DejaVuSans-31\" x=\"95.410156\"/>\n     <use xlink:href=\"#DejaVuSans-25\" x=\"159.033203\"/>\n    </g>\n   </g>\n   <g id=\"text_14\">\n    <!-- 3.7% -->\n    <g style=\"fill: #ffffff\" transform=\"translate(292.625886 174.890747) scale(0.1 -0.1)\">\n     <defs>\n      <path id=\"DejaVuSans-33\" d=\"M 2597 2516 \nQ 3050 2419 3304 2112 \nQ 3559 1806 3559 1356 \nQ 3559 666 3084 287 \nQ 2609 -91 1734 -91 \nQ 1441 -91 1130 -33 \nQ 819 25 488 141 \nL 488 750 \nQ 750 597 1062 519 \nQ 1375 441 1716 441 \nQ 2309 441 2620 675 \nQ 2931 909 2931 1356 \nQ 2931 1769 2642 2001 \nQ 2353 2234 1838 2234 \nL 1294 2234 \nL 1294 2753 \nL 1863 2753 \nQ 2328 2753 2575 2939 \nQ 2822 3125 2822 3475 \nQ 2822 3834 2567 4026 \nQ 2313 4219 1838 4219 \nQ 1578 4219 1281 4162 \nQ 984 4106 628 3988 \nL 628 4550 \nQ 988 4650 1302 4700 \nQ 1616 4750 1894 4750 \nQ 2613 4750 3031 4423 \nQ 3450 4097 3450 3541 \nQ 3450 3153 3228 2886 \nQ 3006 2619 2597 2516 \nz\n\" transform=\"scale(0.015625)\"/>\n      <path id=\"DejaVuSans-37\" d=\"M 525 4666 \nL 3525 4666 \nL 3525 4397 \nL 1831 0 \nL 1172 0 \nL 2766 4134 \nL 525 4134 \nL 525 4666 \nz\n\" transform=\"scale(0.015625)\"/>\n     </defs>\n     <use xlink:href=\"#DejaVuSans-33\"/>\n     <use xlink:href=\"#DejaVuSans-2e\" x=\"63.623047\"/>\n     <use xlink:href=\"#DejaVuSans-37\" x=\"95.410156\"/>\n     <use xlink:href=\"#DejaVuSans-25\" x=\"159.033203\"/>\n    </g>\n   </g>\n   <g id=\"text_15\">\n    <!-- 3.7% -->\n    <g style=\"fill: #ffffff\" transform=\"translate(373.238326 174.890747) scale(0.1 -0.1)\">\n     <use xlink:href=\"#DejaVuSans-33\"/>\n     <use xlink:href=\"#DejaVuSans-2e\" x=\"63.623047\"/>\n     <use xlink:href=\"#DejaVuSans-37\" x=\"95.410156\"/>\n     <use xlink:href=\"#DejaVuSans-25\" x=\"159.033203\"/>\n    </g>\n   </g>\n   <g id=\"text_16\">\n    <!-- 3.7% -->\n    <g style=\"fill: #ffffff\" transform=\"translate(453.850766 174.890747) scale(0.1 -0.1)\">\n     <use xlink:href=\"#DejaVuSans-33\"/>\n     <use xlink:href=\"#DejaVuSans-2e\" x=\"63.623047\"/>\n     <use xlink:href=\"#DejaVuSans-37\" x=\"95.410156\"/>\n     <use xlink:href=\"#DejaVuSans-25\" x=\"159.033203\"/>\n    </g>\n   </g>\n   <g id=\"text_17\">\n    <!-- 3.7% -->\n    <g style=\"fill: #ffffff\" transform=\"translate(534.463206 174.890747) scale(0.1 -0.1)\">\n     <use xlink:href=\"#DejaVuSans-33\"/>\n     <use xlink:href=\"#DejaVuSans-2e\" x=\"63.623047\"/>\n     <use xlink:href=\"#DejaVuSans-37\" x=\"95.410156\"/>\n     <use xlink:href=\"#DejaVuSans-25\" x=\"159.033203\"/>\n    </g>\n   </g>\n   <g id=\"text_18\">\n    <!-- 3.2% -->\n    <g style=\"fill: #ffffff\" transform=\"translate(615.075647 206.835958) scale(0.1 -0.1)\">\n     <defs>\n      <path id=\"DejaVuSans-32\" d=\"M 1228 531 \nL 3431 531 \nL 3431 0 \nL 469 0 \nL 469 531 \nQ 828 903 1448 1529 \nQ 2069 2156 2228 2338 \nQ 2531 2678 2651 2914 \nQ 2772 3150 2772 3378 \nQ 2772 3750 2511 3984 \nQ 2250 4219 1831 4219 \nQ 1534 4219 1204 4116 \nQ 875 4013 500 3803 \nL 500 4441 \nQ 881 4594 1212 4672 \nQ 1544 4750 1819 4750 \nQ 2544 4750 2975 4387 \nQ 3406 4025 3406 3419 \nQ 3406 3131 3298 2873 \nQ 3191 2616 2906 2266 \nQ 2828 2175 2409 1742 \nQ 1991 1309 1228 531 \nz\n\" transform=\"scale(0.015625)\"/>\n     </defs>\n     <use xlink:href=\"#DejaVuSans-33\"/>\n     <use xlink:href=\"#DejaVuSans-2e\" x=\"63.623047\"/>\n     <use xlink:href=\"#DejaVuSans-32\" x=\"95.410156\"/>\n     <use xlink:href=\"#DejaVuSans-25\" x=\"159.033203\"/>\n    </g>\n   </g>\n   <g id=\"text_19\">\n    <!-- 3.2% -->\n    <g style=\"fill: #ffffff\" transform=\"translate(695.688087 206.835958) scale(0.1 -0.1)\">\n     <use xlink:href=\"#DejaVuSans-33\"/>\n     <use xlink:href=\"#DejaVuSans-2e\" x=\"63.623047\"/>\n     <use xlink:href=\"#DejaVuSans-32\" x=\"95.410156\"/>\n     <use xlink:href=\"#DejaVuSans-25\" x=\"159.033203\"/>\n    </g>\n   </g>\n   <g id=\"text_20\">\n    <!-- 2.3% -->\n    <g style=\"fill: #ffffff\" transform=\"translate(776.300527 264.337336) scale(0.1 -0.1)\">\n     <use xlink:href=\"#DejaVuSans-32\"/>\n     <use xlink:href=\"#DejaVuSans-2e\" x=\"63.623047\"/>\n     <use xlink:href=\"#DejaVuSans-33\" x=\"95.410156\"/>\n     <use xlink:href=\"#DejaVuSans-25\" x=\"159.033203\"/>\n    </g>\n   </g>\n   <g id=\"text_21\">\n    <!-- Produzenten und Prozentsatz -->\n    <g transform=\"translate(340.74 16.318125) scale(0.12 -0.12)\">\n     <defs>\n      <path id=\"DejaVuSans-7a\" d=\"M 353 3500 \nL 3084 3500 \nL 3084 2975 \nL 922 459 \nL 3084 459 \nL 3084 0 \nL 275 0 \nL 275 525 \nL 2438 3041 \nL 353 3041 \nL 353 3500 \nz\n\" transform=\"scale(0.015625)\"/>\n     </defs>\n     <use xlink:href=\"#DejaVuSans-50\"/>\n     <use xlink:href=\"#DejaVuSans-72\" x=\"58.552734\"/>\n     <use xlink:href=\"#DejaVuSans-6f\" x=\"97.416016\"/>\n     <use xlink:href=\"#DejaVuSans-64\" x=\"158.597656\"/>\n     <use xlink:href=\"#DejaVuSans-75\" x=\"222.074219\"/>\n     <use xlink:href=\"#DejaVuSans-7a\" x=\"285.453125\"/>\n     <use xlink:href=\"#DejaVuSans-65\" x=\"337.943359\"/>\n     <use xlink:href=\"#DejaVuSans-6e\" x=\"399.466797\"/>\n     <use xlink:href=\"#DejaVuSans-74\" x=\"462.845703\"/>\n     <use xlink:href=\"#DejaVuSans-65\" x=\"502.054688\"/>\n     <use xlink:href=\"#DejaVuSans-6e\" x=\"563.578125\"/>\n     <use xlink:href=\"#DejaVuSans-20\" x=\"626.957031\"/>\n     <use xlink:href=\"#DejaVuSans-75\" x=\"658.744141\"/>\n     <use xlink:href=\"#DejaVuSans-6e\" x=\"722.123047\"/>\n     <use xlink:href=\"#DejaVuSans-64\" x=\"785.501953\"/>\n     <use xlink:href=\"#DejaVuSans-20\" x=\"848.978516\"/>\n     <use xlink:href=\"#DejaVuSans-50\" x=\"880.765625\"/>\n     <use xlink:href=\"#DejaVuSans-72\" x=\"939.318359\"/>\n     <use xlink:href=\"#DejaVuSans-6f\" x=\"978.181641\"/>\n     <use xlink:href=\"#DejaVuSans-7a\" x=\"1039.363281\"/>\n     <use xlink:href=\"#DejaVuSans-65\" x=\"1091.853516\"/>\n     <use xlink:href=\"#DejaVuSans-6e\" x=\"1153.376953\"/>\n     <use xlink:href=\"#DejaVuSans-74\" x=\"1216.755859\"/>\n     <use xlink:href=\"#DejaVuSans-73\" x=\"1255.964844\"/>\n     <use xlink:href=\"#DejaVuSans-61\" x=\"1308.064453\"/>\n     <use xlink:href=\"#DejaVuSans-74\" x=\"1369.34375\"/>\n     <use xlink:href=\"#DejaVuSans-7a\" x=\"1408.552734\"/>\n    </g>\n   </g>\n  </g>\n </g>\n <defs>\n  <clipPath id=\"pdaacc80b7b\">\n   <rect x=\"7.2\" y=\"22.318125\" width=\"842.4\" height=\"368.967178\"/>\n  </clipPath>\n </defs>\n</svg>\n"
          },
          "metadata": {}
        }
      ]
    },
    {
      "cell_type": "code",
      "source": [
        "# f, ax = plt.subplots(figsize=(16, 8))\n",
        "# sns.countplot(x=df_products_raw.producer, order=df_products_raw.producer.value_counts().index);\n",
        "# plt.xticks(rotation=90)\n",
        "# plt.show();"
      ],
      "metadata": {
        "id": "_e2-4fyzQfnp"
      },
      "execution_count": 13,
      "outputs": []
    },
    {
      "cell_type": "code",
      "source": [
        "# import matplotlib.pyplot as plt\n",
        "# import numpy as np\n",
        "# from matplotlib import rcParams\n",
        "\n",
        "# # configurar a visualização\n",
        "# %matplotlib inline\n",
        "# %config InlineBackend.figure_format = 'svg'\n",
        "\n",
        "# configurando parâmetros das fontes\n",
        "# plt.rcParams['font.family'] = 'sans-serif'\n",
        "\n",
        "\n",
        "# labels =['Fortemente/contra','Contra','Neutro','Favorafel','Fortemente/a favor']\n",
        "# antes = [22,15,20,54,23]\n",
        "# depois = [16,6,12,29,10]\n",
        "\n",
        "\n",
        "# # configurando parâmetros das fontes\n",
        "# plt.rcParams['font.family'] = 'sans-serif'\n",
        "\n",
        "\n",
        "# labels =['Fortemente/contra','Contra','Neutro','Favorafel','Fortemente/a favor']\n",
        "# antes = [22,15,20,54,23]\n",
        "# depois = [16,6,12,29,10]\n",
        "\n",
        "# fig, ax = plt.subplots(figsize=(10,8))\n",
        "\n",
        "# # ajustes para construir o gráfico\n",
        "# x = np.arange(len(labels))\n",
        "# width_bar = 0.25\n",
        "\n",
        "# # bar Grafik\n",
        "# rects2 = ax.bar(x,depois,width_bar)\n",
        "\n",
        "# # axes\n",
        "# ax.set_xticks(x)\n",
        "# ax.set_xticklabels(labels,color=\"#787878\");\n",
        "\n",
        "# # remover grids e eixos\n",
        "# ax.spines['right'].set_visible(False)\n",
        "# ax.spines['left'].set_visible(False)\n",
        "# ax.spines['top'].set_visible(False)\n",
        "# ax.spines['bottom'].set_visible(False)\n",
        "\n",
        "# # # remover eixo y\n",
        "# plt.gca().axes.get_yaxis().set_visible(False)\n",
        "# plt.title('title')\n",
        "\n",
        "# # # remover xticks do eixo x\n",
        "# plt.tick_params(\n",
        "#     axis='both',\n",
        "#     which='both',\n",
        "#     bottom=False,\n",
        "#     top=False,\n",
        "#     labelbottom=True)\n",
        "\n",
        "\n",
        "# def autolabel(rects):\n",
        "#     for rect in rects:\n",
        "#         height = rect.get_height()\n",
        "#         ax.annotate(\n",
        "#                     '{}%'.format(height),\n",
        "#                     xy=(rect.get_x() ,  height),\n",
        "#                     xytext=(18, -20),  # offset\n",
        "#                     textcoords=\"offset points\",\n",
        "#                     ha='center',\n",
        "#                     #va='bottom',\n",
        "#                     #fontsize=10,\n",
        "#                     color=\"White\",\n",
        "#                     )\n",
        "\n",
        "# # plotar labels dentro das barras\n",
        "# #autolabel(rects1)\n",
        "# autolabel(rects2)\n",
        "\n",
        "# # plotar gráfico\n",
        "# fig.tight_layout()\n",
        "# plt.show()\n"
      ],
      "metadata": {
        "id": "6uTDWFi7oTXQ"
      },
      "execution_count": 14,
      "outputs": []
    },
    {
      "cell_type": "markdown",
      "source": [
        "**-Vintage**\n",
        "\n",
        "**-Safras**"
      ],
      "metadata": {
        "id": "pkyYm6mXLeCD"
      }
    },
    {
      "cell_type": "markdown",
      "source": [
        "Na variável vintage **temos ao todo 17 safras diferentes, sendo a safra de 2018 representando 30% do conjunto, seguido por 2017 com 22%**, e tanto 2015 como 2014, cada um com 8.7% de representação.\n",
        "<br>\n",
        "Ainda sobre o atributo vintage nota-se a presença do acrônimo NV que significa Non-Vintage, será necessário alterar esse valor para 0 para poder alterar todo o atributo em tipo int.\n",
        "\n",
        "In der Variable vintage gibt es insgesamt **17 verschiedene Jahrgänge**. **Der Jahrgang 2018 macht 30 % des Datensatzes** aus, gefolgt von 2017 mit 22 % sowie 2015 und 2014, die jeweils 8,7 % der Daten repräsentieren.\n",
        "\n",
        "Außerdem fällt im Attribut vintage das Kürzel NV auf, das für Non-Vintage (ohne Jahrgang) steht. Es wird notwendig sein, diesen Wert in 0 zu ändern, um das gesamte Attribut in den Datentyp int umwandeln zu können."
      ],
      "metadata": {
        "id": "lZPvIU1m1hao"
      }
    },
    {
      "cell_type": "code",
      "source": [
        "# 1 Version\n",
        "# f, ax = plt.subplots(figsize=(16, 8))\n",
        "# sns.countplot(x=df_products_raw.vintage, order=df_products_raw.vintage.value_counts().index);\n",
        "# plt.xticks(rotation=45)\n",
        "# plt.show();\n",
        "\n",
        "\n",
        "# Zähle die Anzahl der Produzenten\n",
        "producer_counts = df_produzent_analysis['vintage'].value_counts()[:]\n",
        "\n",
        "#Label=producer_counts.index.to_list()\n",
        "#Wert = producer_counts.values\n",
        "#Wert = Wert.tolist()\n",
        "\n",
        "producer_percentages = (producer_counts / producer_counts.sum()) * 100\n",
        "\n",
        "labels=producer_percentages.index.to_list()[:10]\n",
        "value_percent=producer_percentages.values.tolist()[:10]\n",
        "gerundete_werte = np.round(value_percent, 1)\n",
        "\n",
        "fig, ax = plt.subplots(figsize=(12,8))\n",
        "\n",
        "# ajustes para construir o gráfico\n",
        "x = np.arange(len(labels))\n",
        "width_bar = 0.50\n",
        "\n",
        "# bar Grafik\n",
        "rects2 = ax.bar(x,gerundete_werte,width_bar)\n",
        "\n",
        "# axes\n",
        "ax.set_xticks(x)\n",
        "ax.set_xticklabels(labels,color=\"#787878\");\n",
        "\n",
        "# # remover grids e eixos\n",
        "ax.spines['right'].set_visible(False)\n",
        "ax.spines['left'].set_visible(False)\n",
        "ax.spines['top'].set_visible(False)\n",
        "ax.spines['bottom'].set_visible(False)\n",
        "\n",
        "# # remover eixo y\n",
        "plt.gca().axes.get_yaxis().set_visible(False)\n",
        "plt.title('Vintage und Prozentsatz')\n",
        "\n",
        "# # remover xticks do eixo x\n",
        "plt.tick_params(\n",
        "    axis='both',\n",
        "    which='both',\n",
        "    bottom=False,\n",
        "    top=False,\n",
        "    labelbottom=True)\n",
        "\n",
        "plt.xticks(rotation=80)\n",
        "\n",
        "\n",
        "def autolabel(rects):\n",
        "    for rect in rects:\n",
        "        height = rect.get_height()\n",
        "        ax.annotate(\n",
        "                    '{}%'.format(height),\n",
        "                    xy=(rect.get_x() ,  height),\n",
        "                    xytext=(18,-20),  # offset\n",
        "                    textcoords=\"offset points\",\n",
        "                    ha='center',\n",
        "                    #va='bottom',\n",
        "                    #fontsize=10,\n",
        "                    color=\"White\",\n",
        "                    )\n",
        "\n",
        "# plotar labels dentro das barras\n",
        "#autolabel(rects1)\n",
        "autolabel(rects2)\n",
        "\n",
        "# plotar gráfico\n",
        "fig.tight_layout()\n",
        "plt.show()\n"
      ],
      "metadata": {
        "colab": {
          "base_uri": "https://localhost:8080/",
          "height": 779
        },
        "outputId": "7c11a4c0-4458-4266-e53f-7c6f2da8023c",
        "id": "tflLqQhoRdoy"
      },
      "execution_count": 15,
      "outputs": [
        {
          "output_type": "display_data",
          "data": {
            "text/plain": [
              "<Figure size 1200x800 with 1 Axes>"
            ],
            "image/svg+xml": "<?xml version=\"1.0\" encoding=\"utf-8\" standalone=\"no\"?>\n<!DOCTYPE svg PUBLIC \"-//W3C//DTD SVG 1.1//EN\"\n  \"http://www.w3.org/Graphics/SVG/1.1/DTD/svg11.dtd\">\n<svg xmlns:xlink=\"http://www.w3.org/1999/xlink\" width=\"856.8pt\" height=\"567.837277pt\" viewBox=\"0 0 856.8 567.837277\" xmlns=\"http://www.w3.org/2000/svg\" version=\"1.1\">\n <metadata>\n  <rdf:RDF xmlns:dc=\"http://purl.org/dc/elements/1.1/\" xmlns:cc=\"http://creativecommons.org/ns#\" xmlns:rdf=\"http://www.w3.org/1999/02/22-rdf-syntax-ns#\">\n   <cc:Work>\n    <dc:type rdf:resource=\"http://purl.org/dc/dcmitype/StillImage\"/>\n    <dc:date>2024-12-01T17:53:31.576233</dc:date>\n    <dc:format>image/svg+xml</dc:format>\n    <dc:creator>\n     <cc:Agent>\n      <dc:title>Matplotlib v3.8.0, https://matplotlib.org/</dc:title>\n     </cc:Agent>\n    </dc:creator>\n   </cc:Work>\n  </rdf:RDF>\n </metadata>\n <defs>\n  <style type=\"text/css\">*{stroke-linejoin: round; stroke-linecap: butt}</style>\n </defs>\n <g id=\"figure_1\">\n  <g id=\"patch_1\">\n   <path d=\"M 0 567.837277 \nL 856.8 567.837277 \nL 856.8 0 \nL 0 0 \nz\n\" style=\"fill: #ffffff\"/>\n  </g>\n  <g id=\"axes_1\">\n   <g id=\"patch_2\">\n    <path d=\"M 7.2 526.893331 \nL 849.6 526.893331 \nL 849.6 22.318125 \nL 7.2 22.318125 \nz\n\" style=\"fill: #ffffff\"/>\n   </g>\n   <g id=\"patch_3\">\n    <path d=\"M 45.490909 526.893331 \nL 85.797129 526.893331 \nL 85.797129 46.345516 \nL 45.490909 46.345516 \nz\n\" clip-path=\"url(#p5ded113967)\" style=\"fill: #1f77b4\"/>\n   </g>\n   <g id=\"patch_4\">\n    <path d=\"M 126.103349 526.893331 \nL 166.409569 526.893331 \nL 166.409569 164.459962 \nL 126.103349 164.459962 \nz\n\" clip-path=\"url(#p5ded113967)\" style=\"fill: #1f77b4\"/>\n   </g>\n   <g id=\"patch_5\">\n    <path d=\"M 206.715789 526.893331 \nL 247.02201 526.893331 \nL 247.02201 386.126799 \nL 206.715789 386.126799 \nz\n\" clip-path=\"url(#p5ded113967)\" style=\"fill: #1f77b4\"/>\n   </g>\n   <g id=\"patch_6\">\n    <path d=\"M 287.32823 526.893331 \nL 327.63445 526.893331 \nL 327.63445 386.126799 \nL 287.32823 386.126799 \nz\n\" clip-path=\"url(#p5ded113967)\" style=\"fill: #1f77b4\"/>\n   </g>\n   <g id=\"patch_7\">\n    <path d=\"M 367.94067 526.893331 \nL 408.24689 526.893331 \nL 408.24689 400.688854 \nL 367.94067 400.688854 \nz\n\" clip-path=\"url(#p5ded113967)\" style=\"fill: #1f77b4\"/>\n   </g>\n   <g id=\"patch_8\">\n    <path d=\"M 448.55311 526.893331 \nL 488.85933 526.893331 \nL 488.85933 437.902995 \nL 448.55311 437.902995 \nz\n\" clip-path=\"url(#p5ded113967)\" style=\"fill: #1f77b4\"/>\n   </g>\n   <g id=\"patch_9\">\n    <path d=\"M 529.16555 526.893331 \nL 569.47177 526.893331 \nL 569.47177 467.027105 \nL 529.16555 467.027105 \nz\n\" clip-path=\"url(#p5ded113967)\" style=\"fill: #1f77b4\"/>\n   </g>\n   <g id=\"patch_10\">\n    <path d=\"M 609.77799 526.893331 \nL 650.084211 526.893331 \nL 650.084211 483.207166 \nL 609.77799 483.207166 \nz\n\" clip-path=\"url(#p5ded113967)\" style=\"fill: #1f77b4\"/>\n   </g>\n   <g id=\"patch_11\">\n    <path d=\"M 690.390431 526.893331 \nL 730.696651 526.893331 \nL 730.696651 483.207166 \nL 690.390431 483.207166 \nz\n\" clip-path=\"url(#p5ded113967)\" style=\"fill: #1f77b4\"/>\n   </g>\n   <g id=\"patch_12\">\n    <path d=\"M 771.002871 526.893331 \nL 811.309091 526.893331 \nL 811.309091 489.67919 \nL 771.002871 489.67919 \nz\n\" clip-path=\"url(#p5ded113967)\" style=\"fill: #1f77b4\"/>\n   </g>\n   <g id=\"matplotlib.axis_1\">\n    <g id=\"xtick_1\">\n     <g id=\"text_1\">\n      <!-- 2018 -->\n      <g style=\"fill: #787878\" transform=\"translate(66.1518 560.276143) rotate(-80) scale(0.1 -0.1)\">\n       <defs>\n        <path id=\"DejaVuSans-32\" d=\"M 1228 531 \nL 3431 531 \nL 3431 0 \nL 469 0 \nL 469 531 \nQ 828 903 1448 1529 \nQ 2069 2156 2228 2338 \nQ 2531 2678 2651 2914 \nQ 2772 3150 2772 3378 \nQ 2772 3750 2511 3984 \nQ 2250 4219 1831 4219 \nQ 1534 4219 1204 4116 \nQ 875 4013 500 3803 \nL 500 4441 \nQ 881 4594 1212 4672 \nQ 1544 4750 1819 4750 \nQ 2544 4750 2975 4387 \nQ 3406 4025 3406 3419 \nQ 3406 3131 3298 2873 \nQ 3191 2616 2906 2266 \nQ 2828 2175 2409 1742 \nQ 1991 1309 1228 531 \nz\n\" transform=\"scale(0.015625)\"/>\n        <path id=\"DejaVuSans-30\" d=\"M 2034 4250 \nQ 1547 4250 1301 3770 \nQ 1056 3291 1056 2328 \nQ 1056 1369 1301 889 \nQ 1547 409 2034 409 \nQ 2525 409 2770 889 \nQ 3016 1369 3016 2328 \nQ 3016 3291 2770 3770 \nQ 2525 4250 2034 4250 \nz\nM 2034 4750 \nQ 2819 4750 3233 4129 \nQ 3647 3509 3647 2328 \nQ 3647 1150 3233 529 \nQ 2819 -91 2034 -91 \nQ 1250 -91 836 529 \nQ 422 1150 422 2328 \nQ 422 3509 836 4129 \nQ 1250 4750 2034 4750 \nz\n\" transform=\"scale(0.015625)\"/>\n        <path id=\"DejaVuSans-31\" d=\"M 794 531 \nL 1825 531 \nL 1825 4091 \nL 703 3866 \nL 703 4441 \nL 1819 4666 \nL 2450 4666 \nL 2450 531 \nL 3481 531 \nL 3481 0 \nL 794 0 \nL 794 531 \nz\n\" transform=\"scale(0.015625)\"/>\n        <path id=\"DejaVuSans-38\" d=\"M 2034 2216 \nQ 1584 2216 1326 1975 \nQ 1069 1734 1069 1313 \nQ 1069 891 1326 650 \nQ 1584 409 2034 409 \nQ 2484 409 2743 651 \nQ 3003 894 3003 1313 \nQ 3003 1734 2745 1975 \nQ 2488 2216 2034 2216 \nz\nM 1403 2484 \nQ 997 2584 770 2862 \nQ 544 3141 544 3541 \nQ 544 4100 942 4425 \nQ 1341 4750 2034 4750 \nQ 2731 4750 3128 4425 \nQ 3525 4100 3525 3541 \nQ 3525 3141 3298 2862 \nQ 3072 2584 2669 2484 \nQ 3125 2378 3379 2068 \nQ 3634 1759 3634 1313 \nQ 3634 634 3220 271 \nQ 2806 -91 2034 -91 \nQ 1263 -91 848 271 \nQ 434 634 434 1313 \nQ 434 1759 690 2068 \nQ 947 2378 1403 2484 \nz\nM 1172 3481 \nQ 1172 3119 1398 2916 \nQ 1625 2713 2034 2713 \nQ 2441 2713 2670 2916 \nQ 2900 3119 2900 3481 \nQ 2900 3844 2670 4047 \nQ 2441 4250 2034 4250 \nQ 1625 4250 1398 4047 \nQ 1172 3844 1172 3481 \nz\n\" transform=\"scale(0.015625)\"/>\n       </defs>\n       <use xlink:href=\"#DejaVuSans-32\"/>\n       <use xlink:href=\"#DejaVuSans-30\" x=\"63.623047\"/>\n       <use xlink:href=\"#DejaVuSans-31\" x=\"127.246094\"/>\n       <use xlink:href=\"#DejaVuSans-38\" x=\"190.869141\"/>\n      </g>\n     </g>\n    </g>\n    <g id=\"xtick_2\">\n     <g id=\"text_2\">\n      <!-- 2017 -->\n      <g style=\"fill: #787878\" transform=\"translate(146.76424 560.276143) rotate(-80) scale(0.1 -0.1)\">\n       <defs>\n        <path id=\"DejaVuSans-37\" d=\"M 525 4666 \nL 3525 4666 \nL 3525 4397 \nL 1831 0 \nL 1172 0 \nL 2766 4134 \nL 525 4134 \nL 525 4666 \nz\n\" transform=\"scale(0.015625)\"/>\n       </defs>\n       <use xlink:href=\"#DejaVuSans-32\"/>\n       <use xlink:href=\"#DejaVuSans-30\" x=\"63.623047\"/>\n       <use xlink:href=\"#DejaVuSans-31\" x=\"127.246094\"/>\n       <use xlink:href=\"#DejaVuSans-37\" x=\"190.869141\"/>\n      </g>\n     </g>\n    </g>\n    <g id=\"xtick_3\">\n     <g id=\"text_3\">\n      <!-- 2015 -->\n      <g style=\"fill: #787878\" transform=\"translate(227.37668 560.276143) rotate(-80) scale(0.1 -0.1)\">\n       <defs>\n        <path id=\"DejaVuSans-35\" d=\"M 691 4666 \nL 3169 4666 \nL 3169 4134 \nL 1269 4134 \nL 1269 2991 \nQ 1406 3038 1543 3061 \nQ 1681 3084 1819 3084 \nQ 2600 3084 3056 2656 \nQ 3513 2228 3513 1497 \nQ 3513 744 3044 326 \nQ 2575 -91 1722 -91 \nQ 1428 -91 1123 -41 \nQ 819 9 494 109 \nL 494 744 \nQ 775 591 1075 516 \nQ 1375 441 1709 441 \nQ 2250 441 2565 725 \nQ 2881 1009 2881 1497 \nQ 2881 1984 2565 2268 \nQ 2250 2553 1709 2553 \nQ 1456 2553 1204 2497 \nQ 953 2441 691 2322 \nL 691 4666 \nz\n\" transform=\"scale(0.015625)\"/>\n       </defs>\n       <use xlink:href=\"#DejaVuSans-32\"/>\n       <use xlink:href=\"#DejaVuSans-30\" x=\"63.623047\"/>\n       <use xlink:href=\"#DejaVuSans-31\" x=\"127.246094\"/>\n       <use xlink:href=\"#DejaVuSans-35\" x=\"190.869141\"/>\n      </g>\n     </g>\n    </g>\n    <g id=\"xtick_4\">\n     <g id=\"text_4\">\n      <!-- 2014 -->\n      <g style=\"fill: #787878\" transform=\"translate(307.989121 560.276143) rotate(-80) scale(0.1 -0.1)\">\n       <defs>\n        <path id=\"DejaVuSans-34\" d=\"M 2419 4116 \nL 825 1625 \nL 2419 1625 \nL 2419 4116 \nz\nM 2253 4666 \nL 3047 4666 \nL 3047 1625 \nL 3713 1625 \nL 3713 1100 \nL 3047 1100 \nL 3047 0 \nL 2419 0 \nL 2419 1100 \nL 313 1100 \nL 313 1709 \nL 2253 4666 \nz\n\" transform=\"scale(0.015625)\"/>\n       </defs>\n       <use xlink:href=\"#DejaVuSans-32\"/>\n       <use xlink:href=\"#DejaVuSans-30\" x=\"63.623047\"/>\n       <use xlink:href=\"#DejaVuSans-31\" x=\"127.246094\"/>\n       <use xlink:href=\"#DejaVuSans-34\" x=\"190.869141\"/>\n      </g>\n     </g>\n    </g>\n    <g id=\"xtick_5\">\n     <g id=\"text_5\">\n      <!-- 2016 -->\n      <g style=\"fill: #787878\" transform=\"translate(388.601561 560.276143) rotate(-80) scale(0.1 -0.1)\">\n       <defs>\n        <path id=\"DejaVuSans-36\" d=\"M 2113 2584 \nQ 1688 2584 1439 2293 \nQ 1191 2003 1191 1497 \nQ 1191 994 1439 701 \nQ 1688 409 2113 409 \nQ 2538 409 2786 701 \nQ 3034 994 3034 1497 \nQ 3034 2003 2786 2293 \nQ 2538 2584 2113 2584 \nz\nM 3366 4563 \nL 3366 3988 \nQ 3128 4100 2886 4159 \nQ 2644 4219 2406 4219 \nQ 1781 4219 1451 3797 \nQ 1122 3375 1075 2522 \nQ 1259 2794 1537 2939 \nQ 1816 3084 2150 3084 \nQ 2853 3084 3261 2657 \nQ 3669 2231 3669 1497 \nQ 3669 778 3244 343 \nQ 2819 -91 2113 -91 \nQ 1303 -91 875 529 \nQ 447 1150 447 2328 \nQ 447 3434 972 4092 \nQ 1497 4750 2381 4750 \nQ 2619 4750 2861 4703 \nQ 3103 4656 3366 4563 \nz\n\" transform=\"scale(0.015625)\"/>\n       </defs>\n       <use xlink:href=\"#DejaVuSans-32\"/>\n       <use xlink:href=\"#DejaVuSans-30\" x=\"63.623047\"/>\n       <use xlink:href=\"#DejaVuSans-31\" x=\"127.246094\"/>\n       <use xlink:href=\"#DejaVuSans-36\" x=\"190.869141\"/>\n      </g>\n     </g>\n    </g>\n    <g id=\"xtick_6\">\n     <g id=\"text_6\">\n      <!-- 2019 -->\n      <g style=\"fill: #787878\" transform=\"translate(469.214001 560.276143) rotate(-80) scale(0.1 -0.1)\">\n       <defs>\n        <path id=\"DejaVuSans-39\" d=\"M 703 97 \nL 703 672 \nQ 941 559 1184 500 \nQ 1428 441 1663 441 \nQ 2288 441 2617 861 \nQ 2947 1281 2994 2138 \nQ 2813 1869 2534 1725 \nQ 2256 1581 1919 1581 \nQ 1219 1581 811 2004 \nQ 403 2428 403 3163 \nQ 403 3881 828 4315 \nQ 1253 4750 1959 4750 \nQ 2769 4750 3195 4129 \nQ 3622 3509 3622 2328 \nQ 3622 1225 3098 567 \nQ 2575 -91 1691 -91 \nQ 1453 -91 1209 -44 \nQ 966 3 703 97 \nz\nM 1959 2075 \nQ 2384 2075 2632 2365 \nQ 2881 2656 2881 3163 \nQ 2881 3666 2632 3958 \nQ 2384 4250 1959 4250 \nQ 1534 4250 1286 3958 \nQ 1038 3666 1038 3163 \nQ 1038 2656 1286 2365 \nQ 1534 2075 1959 2075 \nz\n\" transform=\"scale(0.015625)\"/>\n       </defs>\n       <use xlink:href=\"#DejaVuSans-32\"/>\n       <use xlink:href=\"#DejaVuSans-30\" x=\"63.623047\"/>\n       <use xlink:href=\"#DejaVuSans-31\" x=\"127.246094\"/>\n       <use xlink:href=\"#DejaVuSans-39\" x=\"190.869141\"/>\n      </g>\n     </g>\n    </g>\n    <g id=\"xtick_7\">\n     <g id=\"text_7\">\n      <!-- 0 -->\n      <g style=\"fill: #787878\" transform=\"translate(551.483696 541.478625) rotate(-80) scale(0.1 -0.1)\">\n       <use xlink:href=\"#DejaVuSans-30\"/>\n      </g>\n     </g>\n    </g>\n    <g id=\"xtick_8\">\n     <g id=\"text_8\">\n      <!-- 2013 -->\n      <g style=\"fill: #787878\" transform=\"translate(630.438881 560.276143) rotate(-80) scale(0.1 -0.1)\">\n       <defs>\n        <path id=\"DejaVuSans-33\" d=\"M 2597 2516 \nQ 3050 2419 3304 2112 \nQ 3559 1806 3559 1356 \nQ 3559 666 3084 287 \nQ 2609 -91 1734 -91 \nQ 1441 -91 1130 -33 \nQ 819 25 488 141 \nL 488 750 \nQ 750 597 1062 519 \nQ 1375 441 1716 441 \nQ 2309 441 2620 675 \nQ 2931 909 2931 1356 \nQ 2931 1769 2642 2001 \nQ 2353 2234 1838 2234 \nL 1294 2234 \nL 1294 2753 \nL 1863 2753 \nQ 2328 2753 2575 2939 \nQ 2822 3125 2822 3475 \nQ 2822 3834 2567 4026 \nQ 2313 4219 1838 4219 \nQ 1578 4219 1281 4162 \nQ 984 4106 628 3988 \nL 628 4550 \nQ 988 4650 1302 4700 \nQ 1616 4750 1894 4750 \nQ 2613 4750 3031 4423 \nQ 3450 4097 3450 3541 \nQ 3450 3153 3228 2886 \nQ 3006 2619 2597 2516 \nz\n\" transform=\"scale(0.015625)\"/>\n       </defs>\n       <use xlink:href=\"#DejaVuSans-32\"/>\n       <use xlink:href=\"#DejaVuSans-30\" x=\"63.623047\"/>\n       <use xlink:href=\"#DejaVuSans-31\" x=\"127.246094\"/>\n       <use xlink:href=\"#DejaVuSans-33\" x=\"190.869141\"/>\n      </g>\n     </g>\n    </g>\n    <g id=\"xtick_9\">\n     <g id=\"text_9\">\n      <!-- 2011 -->\n      <g style=\"fill: #787878\" transform=\"translate(711.051322 560.276143) rotate(-80) scale(0.1 -0.1)\">\n       <use xlink:href=\"#DejaVuSans-32\"/>\n       <use xlink:href=\"#DejaVuSans-30\" x=\"63.623047\"/>\n       <use xlink:href=\"#DejaVuSans-31\" x=\"127.246094\"/>\n       <use xlink:href=\"#DejaVuSans-31\" x=\"190.869141\"/>\n      </g>\n     </g>\n    </g>\n    <g id=\"xtick_10\">\n     <g id=\"text_10\">\n      <!-- 2012 -->\n      <g style=\"fill: #787878\" transform=\"translate(791.663762 560.276143) rotate(-80) scale(0.1 -0.1)\">\n       <use xlink:href=\"#DejaVuSans-32\"/>\n       <use xlink:href=\"#DejaVuSans-30\" x=\"63.623047\"/>\n       <use xlink:href=\"#DejaVuSans-31\" x=\"127.246094\"/>\n       <use xlink:href=\"#DejaVuSans-32\" x=\"190.869141\"/>\n      </g>\n     </g>\n    </g>\n   </g>\n   <g id=\"text_11\">\n    <!-- 29.7% -->\n    <g style=\"fill: #ffffff\" transform=\"translate(47.607315 66.345516) scale(0.1 -0.1)\">\n     <defs>\n      <path id=\"DejaVuSans-2e\" d=\"M 684 794 \nL 1344 794 \nL 1344 0 \nL 684 0 \nL 684 794 \nz\n\" transform=\"scale(0.015625)\"/>\n      <path id=\"DejaVuSans-25\" d=\"M 4653 2053 \nQ 4381 2053 4226 1822 \nQ 4072 1591 4072 1178 \nQ 4072 772 4226 539 \nQ 4381 306 4653 306 \nQ 4919 306 5073 539 \nQ 5228 772 5228 1178 \nQ 5228 1588 5073 1820 \nQ 4919 2053 4653 2053 \nz\nM 4653 2450 \nQ 5147 2450 5437 2106 \nQ 5728 1763 5728 1178 \nQ 5728 594 5436 251 \nQ 5144 -91 4653 -91 \nQ 4153 -91 3862 251 \nQ 3572 594 3572 1178 \nQ 3572 1766 3864 2108 \nQ 4156 2450 4653 2450 \nz\nM 1428 4353 \nQ 1159 4353 1004 4120 \nQ 850 3888 850 3481 \nQ 850 3069 1003 2837 \nQ 1156 2606 1428 2606 \nQ 1700 2606 1854 2837 \nQ 2009 3069 2009 3481 \nQ 2009 3884 1853 4118 \nQ 1697 4353 1428 4353 \nz\nM 4250 4750 \nL 4750 4750 \nL 1831 -91 \nL 1331 -91 \nL 4250 4750 \nz\nM 1428 4750 \nQ 1922 4750 2215 4408 \nQ 2509 4066 2509 3481 \nQ 2509 2891 2217 2550 \nQ 1925 2209 1428 2209 \nQ 931 2209 642 2551 \nQ 353 2894 353 3481 \nQ 353 4063 643 4406 \nQ 934 4750 1428 4750 \nz\n\" transform=\"scale(0.015625)\"/>\n     </defs>\n     <use xlink:href=\"#DejaVuSans-32\"/>\n     <use xlink:href=\"#DejaVuSans-39\" x=\"63.623047\"/>\n     <use xlink:href=\"#DejaVuSans-2e\" x=\"127.246094\"/>\n     <use xlink:href=\"#DejaVuSans-37\" x=\"159.033203\"/>\n     <use xlink:href=\"#DejaVuSans-25\" x=\"222.65625\"/>\n    </g>\n   </g>\n   <g id=\"text_12\">\n    <!-- 22.4% -->\n    <g style=\"fill: #ffffff\" transform=\"translate(128.219756 184.459962) scale(0.1 -0.1)\">\n     <use xlink:href=\"#DejaVuSans-32\"/>\n     <use xlink:href=\"#DejaVuSans-32\" x=\"63.623047\"/>\n     <use xlink:href=\"#DejaVuSans-2e\" x=\"127.246094\"/>\n     <use xlink:href=\"#DejaVuSans-34\" x=\"159.033203\"/>\n     <use xlink:href=\"#DejaVuSans-25\" x=\"222.65625\"/>\n    </g>\n   </g>\n   <g id=\"text_13\">\n    <!-- 8.7% -->\n    <g style=\"fill: #ffffff\" transform=\"translate(212.013446 406.126799) scale(0.1 -0.1)\">\n     <use xlink:href=\"#DejaVuSans-38\"/>\n     <use xlink:href=\"#DejaVuSans-2e\" x=\"63.623047\"/>\n     <use xlink:href=\"#DejaVuSans-37\" x=\"95.410156\"/>\n     <use xlink:href=\"#DejaVuSans-25\" x=\"159.033203\"/>\n    </g>\n   </g>\n   <g id=\"text_14\">\n    <!-- 8.7% -->\n    <g style=\"fill: #ffffff\" transform=\"translate(292.625886 406.126799) scale(0.1 -0.1)\">\n     <use xlink:href=\"#DejaVuSans-38\"/>\n     <use xlink:href=\"#DejaVuSans-2e\" x=\"63.623047\"/>\n     <use xlink:href=\"#DejaVuSans-37\" x=\"95.410156\"/>\n     <use xlink:href=\"#DejaVuSans-25\" x=\"159.033203\"/>\n    </g>\n   </g>\n   <g id=\"text_15\">\n    <!-- 7.8% -->\n    <g style=\"fill: #ffffff\" transform=\"translate(373.238326 420.688854) scale(0.1 -0.1)\">\n     <use xlink:href=\"#DejaVuSans-37\"/>\n     <use xlink:href=\"#DejaVuSans-2e\" x=\"63.623047\"/>\n     <use xlink:href=\"#DejaVuSans-38\" x=\"95.410156\"/>\n     <use xlink:href=\"#DejaVuSans-25\" x=\"159.033203\"/>\n    </g>\n   </g>\n   <g id=\"text_16\">\n    <!-- 5.5% -->\n    <g style=\"fill: #ffffff\" transform=\"translate(453.850766 457.902995) scale(0.1 -0.1)\">\n     <use xlink:href=\"#DejaVuSans-35\"/>\n     <use xlink:href=\"#DejaVuSans-2e\" x=\"63.623047\"/>\n     <use xlink:href=\"#DejaVuSans-35\" x=\"95.410156\"/>\n     <use xlink:href=\"#DejaVuSans-25\" x=\"159.033203\"/>\n    </g>\n   </g>\n   <g id=\"text_17\">\n    <!-- 3.7% -->\n    <g style=\"fill: #ffffff\" transform=\"translate(534.463206 487.027105) scale(0.1 -0.1)\">\n     <use xlink:href=\"#DejaVuSans-33\"/>\n     <use xlink:href=\"#DejaVuSans-2e\" x=\"63.623047\"/>\n     <use xlink:href=\"#DejaVuSans-37\" x=\"95.410156\"/>\n     <use xlink:href=\"#DejaVuSans-25\" x=\"159.033203\"/>\n    </g>\n   </g>\n   <g id=\"text_18\">\n    <!-- 2.7% -->\n    <g style=\"fill: #ffffff\" transform=\"translate(615.075647 503.207166) scale(0.1 -0.1)\">\n     <use xlink:href=\"#DejaVuSans-32\"/>\n     <use xlink:href=\"#DejaVuSans-2e\" x=\"63.623047\"/>\n     <use xlink:href=\"#DejaVuSans-37\" x=\"95.410156\"/>\n     <use xlink:href=\"#DejaVuSans-25\" x=\"159.033203\"/>\n    </g>\n   </g>\n   <g id=\"text_19\">\n    <!-- 2.7% -->\n    <g style=\"fill: #ffffff\" transform=\"translate(695.688087 503.207166) scale(0.1 -0.1)\">\n     <use xlink:href=\"#DejaVuSans-32\"/>\n     <use xlink:href=\"#DejaVuSans-2e\" x=\"63.623047\"/>\n     <use xlink:href=\"#DejaVuSans-37\" x=\"95.410156\"/>\n     <use xlink:href=\"#DejaVuSans-25\" x=\"159.033203\"/>\n    </g>\n   </g>\n   <g id=\"text_20\">\n    <!-- 2.3% -->\n    <g style=\"fill: #ffffff\" transform=\"translate(776.300527 509.67919) scale(0.1 -0.1)\">\n     <use xlink:href=\"#DejaVuSans-32\"/>\n     <use xlink:href=\"#DejaVuSans-2e\" x=\"63.623047\"/>\n     <use xlink:href=\"#DejaVuSans-33\" x=\"95.410156\"/>\n     <use xlink:href=\"#DejaVuSans-25\" x=\"159.033203\"/>\n    </g>\n   </g>\n   <g id=\"text_21\">\n    <!-- Vintage und Prozentsatz -->\n    <g transform=\"translate(355.388438 16.318125) scale(0.12 -0.12)\">\n     <defs>\n      <path id=\"DejaVuSans-56\" d=\"M 1831 0 \nL 50 4666 \nL 709 4666 \nL 2188 738 \nL 3669 4666 \nL 4325 4666 \nL 2547 0 \nL 1831 0 \nz\n\" transform=\"scale(0.015625)\"/>\n      <path id=\"DejaVuSans-69\" d=\"M 603 3500 \nL 1178 3500 \nL 1178 0 \nL 603 0 \nL 603 3500 \nz\nM 603 4863 \nL 1178 4863 \nL 1178 4134 \nL 603 4134 \nL 603 4863 \nz\n\" transform=\"scale(0.015625)\"/>\n      <path id=\"DejaVuSans-6e\" d=\"M 3513 2113 \nL 3513 0 \nL 2938 0 \nL 2938 2094 \nQ 2938 2591 2744 2837 \nQ 2550 3084 2163 3084 \nQ 1697 3084 1428 2787 \nQ 1159 2491 1159 1978 \nL 1159 0 \nL 581 0 \nL 581 3500 \nL 1159 3500 \nL 1159 2956 \nQ 1366 3272 1645 3428 \nQ 1925 3584 2291 3584 \nQ 2894 3584 3203 3211 \nQ 3513 2838 3513 2113 \nz\n\" transform=\"scale(0.015625)\"/>\n      <path id=\"DejaVuSans-74\" d=\"M 1172 4494 \nL 1172 3500 \nL 2356 3500 \nL 2356 3053 \nL 1172 3053 \nL 1172 1153 \nQ 1172 725 1289 603 \nQ 1406 481 1766 481 \nL 2356 481 \nL 2356 0 \nL 1766 0 \nQ 1100 0 847 248 \nQ 594 497 594 1153 \nL 594 3053 \nL 172 3053 \nL 172 3500 \nL 594 3500 \nL 594 4494 \nL 1172 4494 \nz\n\" transform=\"scale(0.015625)\"/>\n      <path id=\"DejaVuSans-61\" d=\"M 2194 1759 \nQ 1497 1759 1228 1600 \nQ 959 1441 959 1056 \nQ 959 750 1161 570 \nQ 1363 391 1709 391 \nQ 2188 391 2477 730 \nQ 2766 1069 2766 1631 \nL 2766 1759 \nL 2194 1759 \nz\nM 3341 1997 \nL 3341 0 \nL 2766 0 \nL 2766 531 \nQ 2569 213 2275 61 \nQ 1981 -91 1556 -91 \nQ 1019 -91 701 211 \nQ 384 513 384 1019 \nQ 384 1609 779 1909 \nQ 1175 2209 1959 2209 \nL 2766 2209 \nL 2766 2266 \nQ 2766 2663 2505 2880 \nQ 2244 3097 1772 3097 \nQ 1472 3097 1187 3025 \nQ 903 2953 641 2809 \nL 641 3341 \nQ 956 3463 1253 3523 \nQ 1550 3584 1831 3584 \nQ 2591 3584 2966 3190 \nQ 3341 2797 3341 1997 \nz\n\" transform=\"scale(0.015625)\"/>\n      <path id=\"DejaVuSans-67\" d=\"M 2906 1791 \nQ 2906 2416 2648 2759 \nQ 2391 3103 1925 3103 \nQ 1463 3103 1205 2759 \nQ 947 2416 947 1791 \nQ 947 1169 1205 825 \nQ 1463 481 1925 481 \nQ 2391 481 2648 825 \nQ 2906 1169 2906 1791 \nz\nM 3481 434 \nQ 3481 -459 3084 -895 \nQ 2688 -1331 1869 -1331 \nQ 1566 -1331 1297 -1286 \nQ 1028 -1241 775 -1147 \nL 775 -588 \nQ 1028 -725 1275 -790 \nQ 1522 -856 1778 -856 \nQ 2344 -856 2625 -561 \nQ 2906 -266 2906 331 \nL 2906 616 \nQ 2728 306 2450 153 \nQ 2172 0 1784 0 \nQ 1141 0 747 490 \nQ 353 981 353 1791 \nQ 353 2603 747 3093 \nQ 1141 3584 1784 3584 \nQ 2172 3584 2450 3431 \nQ 2728 3278 2906 2969 \nL 2906 3500 \nL 3481 3500 \nL 3481 434 \nz\n\" transform=\"scale(0.015625)\"/>\n      <path id=\"DejaVuSans-65\" d=\"M 3597 1894 \nL 3597 1613 \nL 953 1613 \nQ 991 1019 1311 708 \nQ 1631 397 2203 397 \nQ 2534 397 2845 478 \nQ 3156 559 3463 722 \nL 3463 178 \nQ 3153 47 2828 -22 \nQ 2503 -91 2169 -91 \nQ 1331 -91 842 396 \nQ 353 884 353 1716 \nQ 353 2575 817 3079 \nQ 1281 3584 2069 3584 \nQ 2775 3584 3186 3129 \nQ 3597 2675 3597 1894 \nz\nM 3022 2063 \nQ 3016 2534 2758 2815 \nQ 2500 3097 2075 3097 \nQ 1594 3097 1305 2825 \nQ 1016 2553 972 2059 \nL 3022 2063 \nz\n\" transform=\"scale(0.015625)\"/>\n      <path id=\"DejaVuSans-20\" transform=\"scale(0.015625)\"/>\n      <path id=\"DejaVuSans-75\" d=\"M 544 1381 \nL 544 3500 \nL 1119 3500 \nL 1119 1403 \nQ 1119 906 1312 657 \nQ 1506 409 1894 409 \nQ 2359 409 2629 706 \nQ 2900 1003 2900 1516 \nL 2900 3500 \nL 3475 3500 \nL 3475 0 \nL 2900 0 \nL 2900 538 \nQ 2691 219 2414 64 \nQ 2138 -91 1772 -91 \nQ 1169 -91 856 284 \nQ 544 659 544 1381 \nz\nM 1991 3584 \nL 1991 3584 \nz\n\" transform=\"scale(0.015625)\"/>\n      <path id=\"DejaVuSans-64\" d=\"M 2906 2969 \nL 2906 4863 \nL 3481 4863 \nL 3481 0 \nL 2906 0 \nL 2906 525 \nQ 2725 213 2448 61 \nQ 2172 -91 1784 -91 \nQ 1150 -91 751 415 \nQ 353 922 353 1747 \nQ 353 2572 751 3078 \nQ 1150 3584 1784 3584 \nQ 2172 3584 2448 3432 \nQ 2725 3281 2906 2969 \nz\nM 947 1747 \nQ 947 1113 1208 752 \nQ 1469 391 1925 391 \nQ 2381 391 2643 752 \nQ 2906 1113 2906 1747 \nQ 2906 2381 2643 2742 \nQ 2381 3103 1925 3103 \nQ 1469 3103 1208 2742 \nQ 947 2381 947 1747 \nz\n\" transform=\"scale(0.015625)\"/>\n      <path id=\"DejaVuSans-50\" d=\"M 1259 4147 \nL 1259 2394 \nL 2053 2394 \nQ 2494 2394 2734 2622 \nQ 2975 2850 2975 3272 \nQ 2975 3691 2734 3919 \nQ 2494 4147 2053 4147 \nL 1259 4147 \nz\nM 628 4666 \nL 2053 4666 \nQ 2838 4666 3239 4311 \nQ 3641 3956 3641 3272 \nQ 3641 2581 3239 2228 \nQ 2838 1875 2053 1875 \nL 1259 1875 \nL 1259 0 \nL 628 0 \nL 628 4666 \nz\n\" transform=\"scale(0.015625)\"/>\n      <path id=\"DejaVuSans-72\" d=\"M 2631 2963 \nQ 2534 3019 2420 3045 \nQ 2306 3072 2169 3072 \nQ 1681 3072 1420 2755 \nQ 1159 2438 1159 1844 \nL 1159 0 \nL 581 0 \nL 581 3500 \nL 1159 3500 \nL 1159 2956 \nQ 1341 3275 1631 3429 \nQ 1922 3584 2338 3584 \nQ 2397 3584 2469 3576 \nQ 2541 3569 2628 3553 \nL 2631 2963 \nz\n\" transform=\"scale(0.015625)\"/>\n      <path id=\"DejaVuSans-6f\" d=\"M 1959 3097 \nQ 1497 3097 1228 2736 \nQ 959 2375 959 1747 \nQ 959 1119 1226 758 \nQ 1494 397 1959 397 \nQ 2419 397 2687 759 \nQ 2956 1122 2956 1747 \nQ 2956 2369 2687 2733 \nQ 2419 3097 1959 3097 \nz\nM 1959 3584 \nQ 2709 3584 3137 3096 \nQ 3566 2609 3566 1747 \nQ 3566 888 3137 398 \nQ 2709 -91 1959 -91 \nQ 1206 -91 779 398 \nQ 353 888 353 1747 \nQ 353 2609 779 3096 \nQ 1206 3584 1959 3584 \nz\n\" transform=\"scale(0.015625)\"/>\n      <path id=\"DejaVuSans-7a\" d=\"M 353 3500 \nL 3084 3500 \nL 3084 2975 \nL 922 459 \nL 3084 459 \nL 3084 0 \nL 275 0 \nL 275 525 \nL 2438 3041 \nL 353 3041 \nL 353 3500 \nz\n\" transform=\"scale(0.015625)\"/>\n      <path id=\"DejaVuSans-73\" d=\"M 2834 3397 \nL 2834 2853 \nQ 2591 2978 2328 3040 \nQ 2066 3103 1784 3103 \nQ 1356 3103 1142 2972 \nQ 928 2841 928 2578 \nQ 928 2378 1081 2264 \nQ 1234 2150 1697 2047 \nL 1894 2003 \nQ 2506 1872 2764 1633 \nQ 3022 1394 3022 966 \nQ 3022 478 2636 193 \nQ 2250 -91 1575 -91 \nQ 1294 -91 989 -36 \nQ 684 19 347 128 \nL 347 722 \nQ 666 556 975 473 \nQ 1284 391 1588 391 \nQ 1994 391 2212 530 \nQ 2431 669 2431 922 \nQ 2431 1156 2273 1281 \nQ 2116 1406 1581 1522 \nL 1381 1569 \nQ 847 1681 609 1914 \nQ 372 2147 372 2553 \nQ 372 3047 722 3315 \nQ 1072 3584 1716 3584 \nQ 2034 3584 2315 3537 \nQ 2597 3491 2834 3397 \nz\n\" transform=\"scale(0.015625)\"/>\n     </defs>\n     <use xlink:href=\"#DejaVuSans-56\"/>\n     <use xlink:href=\"#DejaVuSans-69\" x=\"66.158203\"/>\n     <use xlink:href=\"#DejaVuSans-6e\" x=\"93.941406\"/>\n     <use xlink:href=\"#DejaVuSans-74\" x=\"157.320312\"/>\n     <use xlink:href=\"#DejaVuSans-61\" x=\"196.529297\"/>\n     <use xlink:href=\"#DejaVuSans-67\" x=\"257.808594\"/>\n     <use xlink:href=\"#DejaVuSans-65\" x=\"321.285156\"/>\n     <use xlink:href=\"#DejaVuSans-20\" x=\"382.808594\"/>\n     <use xlink:href=\"#DejaVuSans-75\" x=\"414.595703\"/>\n     <use xlink:href=\"#DejaVuSans-6e\" x=\"477.974609\"/>\n     <use xlink:href=\"#DejaVuSans-64\" x=\"541.353516\"/>\n     <use xlink:href=\"#DejaVuSans-20\" x=\"604.830078\"/>\n     <use xlink:href=\"#DejaVuSans-50\" x=\"636.617188\"/>\n     <use xlink:href=\"#DejaVuSans-72\" x=\"695.169922\"/>\n     <use xlink:href=\"#DejaVuSans-6f\" x=\"734.033203\"/>\n     <use xlink:href=\"#DejaVuSans-7a\" x=\"795.214844\"/>\n     <use xlink:href=\"#DejaVuSans-65\" x=\"847.705078\"/>\n     <use xlink:href=\"#DejaVuSans-6e\" x=\"909.228516\"/>\n     <use xlink:href=\"#DejaVuSans-74\" x=\"972.607422\"/>\n     <use xlink:href=\"#DejaVuSans-73\" x=\"1011.816406\"/>\n     <use xlink:href=\"#DejaVuSans-61\" x=\"1063.916016\"/>\n     <use xlink:href=\"#DejaVuSans-74\" x=\"1125.195312\"/>\n     <use xlink:href=\"#DejaVuSans-7a\" x=\"1164.404297\"/>\n    </g>\n   </g>\n  </g>\n </g>\n <defs>\n  <clipPath id=\"p5ded113967\">\n   <rect x=\"7.2\" y=\"22.318125\" width=\"842.4\" height=\"504.575206\"/>\n  </clipPath>\n </defs>\n</svg>\n"
          },
          "metadata": {}
        }
      ]
    },
    {
      "cell_type": "markdown",
      "source": [
        "**-Preis**\n",
        "\n",
        "**-Preco**"
      ],
      "metadata": {
        "id": "EPlwWWyl7oyF"
      }
    },
    {
      "cell_type": "code",
      "source": [
        "print(df_products_raw.price_usd.describe(), \"\\n\")\n",
        "print(\"Der teuerste Wein kostet: USD $\", df_products_raw.price_usd.max())\n",
        "print(\"Der günstigste Wein kostet: USD $\", df_products_raw.price_usd.min())\n",
        "print(\"Der Durchschnittspreis der Weine beträgt: USD $\", df_products_raw.price_usd.mean())"
      ],
      "metadata": {
        "colab": {
          "base_uri": "https://localhost:8080/"
        },
        "id": "9Z_46i1kXq27",
        "outputId": "795d48b6-260a-4fe2-ddf4-896c15dd0b62"
      },
      "execution_count": 16,
      "outputs": [
        {
          "output_type": "stream",
          "name": "stdout",
          "text": [
            "count     219.000000\n",
            "mean      167.407808\n",
            "std       243.873780\n",
            "min         9.130000\n",
            "25%        45.725000\n",
            "50%        88.130000\n",
            "75%       164.220000\n",
            "max      1901.730000\n",
            "Name: price_usd, dtype: float64 \n",
            "\n",
            "Der teuerste Wein kostet: USD $ 1901.73\n",
            "Der günstigste Wein kostet: USD $ 9.13\n",
            "Der Durchschnittspreis der Weine beträgt: USD $ 167.40780821917807\n"
          ]
        }
      ]
    },
    {
      "cell_type": "code",
      "source": [
        "# vinho mais caro da carta\n",
        "df_products_raw[df_products_raw.price_usd == 1901.73]"
      ],
      "metadata": {
        "colab": {
          "base_uri": "https://localhost:8080/",
          "height": 81
        },
        "id": "O4sM8uTCYTqD",
        "outputId": "f3be892d-de4d-47df-dbda-ae7ba69d8d1a"
      },
      "execution_count": 20,
      "outputs": [
        {
          "output_type": "execute_result",
          "data": {
            "text/plain": [
              "   item_id                                               name        producer  \\\n",
              "93      94  Domaine Ponsot Clos de La Roche Grand Cru Cuve...  Domaine Ponsot   \n",
              "\n",
              "   country    region  vintage kind  price_brl  price_usd  \n",
              "93  France  Burgundy     2017  red    10992.0    1901.73  "
            ],
            "text/html": [
              "\n",
              "  <div id=\"df-fe36a5f9-0782-43b4-a415-df5238752a0b\" class=\"colab-df-container\">\n",
              "    <div>\n",
              "<style scoped>\n",
              "    .dataframe tbody tr th:only-of-type {\n",
              "        vertical-align: middle;\n",
              "    }\n",
              "\n",
              "    .dataframe tbody tr th {\n",
              "        vertical-align: top;\n",
              "    }\n",
              "\n",
              "    .dataframe thead th {\n",
              "        text-align: right;\n",
              "    }\n",
              "</style>\n",
              "<table border=\"1\" class=\"dataframe\">\n",
              "  <thead>\n",
              "    <tr style=\"text-align: right;\">\n",
              "      <th></th>\n",
              "      <th>item_id</th>\n",
              "      <th>name</th>\n",
              "      <th>producer</th>\n",
              "      <th>country</th>\n",
              "      <th>region</th>\n",
              "      <th>vintage</th>\n",
              "      <th>kind</th>\n",
              "      <th>price_brl</th>\n",
              "      <th>price_usd</th>\n",
              "    </tr>\n",
              "  </thead>\n",
              "  <tbody>\n",
              "    <tr>\n",
              "      <th>93</th>\n",
              "      <td>94</td>\n",
              "      <td>Domaine Ponsot Clos de La Roche Grand Cru Cuve...</td>\n",
              "      <td>Domaine Ponsot</td>\n",
              "      <td>France</td>\n",
              "      <td>Burgundy</td>\n",
              "      <td>2017</td>\n",
              "      <td>red</td>\n",
              "      <td>10992.0</td>\n",
              "      <td>1901.73</td>\n",
              "    </tr>\n",
              "  </tbody>\n",
              "</table>\n",
              "</div>\n",
              "    <div class=\"colab-df-buttons\">\n",
              "\n",
              "  <div class=\"colab-df-container\">\n",
              "    <button class=\"colab-df-convert\" onclick=\"convertToInteractive('df-fe36a5f9-0782-43b4-a415-df5238752a0b')\"\n",
              "            title=\"Convert this dataframe to an interactive table.\"\n",
              "            style=\"display:none;\">\n",
              "\n",
              "  <svg xmlns=\"http://www.w3.org/2000/svg\" height=\"24px\" viewBox=\"0 -960 960 960\">\n",
              "    <path d=\"M120-120v-720h720v720H120Zm60-500h600v-160H180v160Zm220 220h160v-160H400v160Zm0 220h160v-160H400v160ZM180-400h160v-160H180v160Zm440 0h160v-160H620v160ZM180-180h160v-160H180v160Zm440 0h160v-160H620v160Z\"/>\n",
              "  </svg>\n",
              "    </button>\n",
              "\n",
              "  <style>\n",
              "    .colab-df-container {\n",
              "      display:flex;\n",
              "      gap: 12px;\n",
              "    }\n",
              "\n",
              "    .colab-df-convert {\n",
              "      background-color: #E8F0FE;\n",
              "      border: none;\n",
              "      border-radius: 50%;\n",
              "      cursor: pointer;\n",
              "      display: none;\n",
              "      fill: #1967D2;\n",
              "      height: 32px;\n",
              "      padding: 0 0 0 0;\n",
              "      width: 32px;\n",
              "    }\n",
              "\n",
              "    .colab-df-convert:hover {\n",
              "      background-color: #E2EBFA;\n",
              "      box-shadow: 0px 1px 2px rgba(60, 64, 67, 0.3), 0px 1px 3px 1px rgba(60, 64, 67, 0.15);\n",
              "      fill: #174EA6;\n",
              "    }\n",
              "\n",
              "    .colab-df-buttons div {\n",
              "      margin-bottom: 4px;\n",
              "    }\n",
              "\n",
              "    [theme=dark] .colab-df-convert {\n",
              "      background-color: #3B4455;\n",
              "      fill: #D2E3FC;\n",
              "    }\n",
              "\n",
              "    [theme=dark] .colab-df-convert:hover {\n",
              "      background-color: #434B5C;\n",
              "      box-shadow: 0px 1px 3px 1px rgba(0, 0, 0, 0.15);\n",
              "      filter: drop-shadow(0px 1px 2px rgba(0, 0, 0, 0.3));\n",
              "      fill: #FFFFFF;\n",
              "    }\n",
              "  </style>\n",
              "\n",
              "    <script>\n",
              "      const buttonEl =\n",
              "        document.querySelector('#df-fe36a5f9-0782-43b4-a415-df5238752a0b button.colab-df-convert');\n",
              "      buttonEl.style.display =\n",
              "        google.colab.kernel.accessAllowed ? 'block' : 'none';\n",
              "\n",
              "      async function convertToInteractive(key) {\n",
              "        const element = document.querySelector('#df-fe36a5f9-0782-43b4-a415-df5238752a0b');\n",
              "        const dataTable =\n",
              "          await google.colab.kernel.invokeFunction('convertToInteractive',\n",
              "                                                    [key], {});\n",
              "        if (!dataTable) return;\n",
              "\n",
              "        const docLinkHtml = 'Like what you see? Visit the ' +\n",
              "          '<a target=\"_blank\" href=https://colab.research.google.com/notebooks/data_table.ipynb>data table notebook</a>'\n",
              "          + ' to learn more about interactive tables.';\n",
              "        element.innerHTML = '';\n",
              "        dataTable['output_type'] = 'display_data';\n",
              "        await google.colab.output.renderOutput(dataTable, element);\n",
              "        const docLink = document.createElement('div');\n",
              "        docLink.innerHTML = docLinkHtml;\n",
              "        element.appendChild(docLink);\n",
              "      }\n",
              "    </script>\n",
              "  </div>\n",
              "\n",
              "\n",
              "    </div>\n",
              "  </div>\n"
            ],
            "application/vnd.google.colaboratory.intrinsic+json": {
              "type": "dataframe",
              "summary": "{\n  \"name\": \"df_products_raw[df_products_raw\",\n  \"rows\": 1,\n  \"fields\": [\n    {\n      \"column\": \"item_id\",\n      \"properties\": {\n        \"dtype\": \"string\",\n        \"num_unique_values\": 1,\n        \"samples\": [\n          \"94\"\n        ],\n        \"semantic_type\": \"\",\n        \"description\": \"\"\n      }\n    },\n    {\n      \"column\": \"name\",\n      \"properties\": {\n        \"dtype\": \"string\",\n        \"num_unique_values\": 1,\n        \"samples\": [\n          \"Domaine Ponsot Clos de La Roche Grand Cru Cuvee Vieilles Vignes - Magnum\"\n        ],\n        \"semantic_type\": \"\",\n        \"description\": \"\"\n      }\n    },\n    {\n      \"column\": \"producer\",\n      \"properties\": {\n        \"dtype\": \"string\",\n        \"num_unique_values\": 1,\n        \"samples\": [\n          \"Domaine Ponsot\"\n        ],\n        \"semantic_type\": \"\",\n        \"description\": \"\"\n      }\n    },\n    {\n      \"column\": \"country\",\n      \"properties\": {\n        \"dtype\": \"string\",\n        \"num_unique_values\": 1,\n        \"samples\": [\n          \"France\"\n        ],\n        \"semantic_type\": \"\",\n        \"description\": \"\"\n      }\n    },\n    {\n      \"column\": \"region\",\n      \"properties\": {\n        \"dtype\": \"string\",\n        \"num_unique_values\": 1,\n        \"samples\": [\n          \"Burgundy\"\n        ],\n        \"semantic_type\": \"\",\n        \"description\": \"\"\n      }\n    },\n    {\n      \"column\": \"vintage\",\n      \"properties\": {\n        \"dtype\": \"number\",\n        \"std\": null,\n        \"min\": 2017,\n        \"max\": 2017,\n        \"num_unique_values\": 1,\n        \"samples\": [\n          2017\n        ],\n        \"semantic_type\": \"\",\n        \"description\": \"\"\n      }\n    },\n    {\n      \"column\": \"kind\",\n      \"properties\": {\n        \"dtype\": \"string\",\n        \"num_unique_values\": 1,\n        \"samples\": [\n          \"red\"\n        ],\n        \"semantic_type\": \"\",\n        \"description\": \"\"\n      }\n    },\n    {\n      \"column\": \"price_brl\",\n      \"properties\": {\n        \"dtype\": \"number\",\n        \"std\": null,\n        \"min\": 10992.0,\n        \"max\": 10992.0,\n        \"num_unique_values\": 1,\n        \"samples\": [\n          10992.0\n        ],\n        \"semantic_type\": \"\",\n        \"description\": \"\"\n      }\n    },\n    {\n      \"column\": \"price_usd\",\n      \"properties\": {\n        \"dtype\": \"number\",\n        \"std\": null,\n        \"min\": 1901.73,\n        \"max\": 1901.73,\n        \"num_unique_values\": 1,\n        \"samples\": [\n          1901.73\n        ],\n        \"semantic_type\": \"\",\n        \"description\": \"\"\n      }\n    }\n  ]\n}"
            }
          },
          "metadata": {},
          "execution_count": 20
        }
      ]
    },
    {
      "cell_type": "code",
      "source": [
        "# vinho mais barato da carte\n",
        "df_products_raw[df_products_raw.price_usd == 9.13]"
      ],
      "metadata": {
        "colab": {
          "base_uri": "https://localhost:8080/",
          "height": 81
        },
        "id": "P3clsVR1LhZU",
        "outputId": "74e1f880-50a0-48e8-b5ee-27b8a87220a1"
      },
      "execution_count": 21,
      "outputs": [
        {
          "output_type": "execute_result",
          "data": {
            "text/plain": [
              "    item_id                                               name      producer  \\\n",
              "177     178  Cava Juvé & Camps Cinta Purpura Reserva Brut -...  Juvé & Camps   \n",
              "\n",
              "    country   region  vintage       kind  price_brl  price_usd  \n",
              "177   Spain  Penedès        0  sparkling       52.8       9.13  "
            ],
            "text/html": [
              "\n",
              "  <div id=\"df-cc711892-d77d-47a3-ba4e-7f8f47ce20fc\" class=\"colab-df-container\">\n",
              "    <div>\n",
              "<style scoped>\n",
              "    .dataframe tbody tr th:only-of-type {\n",
              "        vertical-align: middle;\n",
              "    }\n",
              "\n",
              "    .dataframe tbody tr th {\n",
              "        vertical-align: top;\n",
              "    }\n",
              "\n",
              "    .dataframe thead th {\n",
              "        text-align: right;\n",
              "    }\n",
              "</style>\n",
              "<table border=\"1\" class=\"dataframe\">\n",
              "  <thead>\n",
              "    <tr style=\"text-align: right;\">\n",
              "      <th></th>\n",
              "      <th>item_id</th>\n",
              "      <th>name</th>\n",
              "      <th>producer</th>\n",
              "      <th>country</th>\n",
              "      <th>region</th>\n",
              "      <th>vintage</th>\n",
              "      <th>kind</th>\n",
              "      <th>price_brl</th>\n",
              "      <th>price_usd</th>\n",
              "    </tr>\n",
              "  </thead>\n",
              "  <tbody>\n",
              "    <tr>\n",
              "      <th>177</th>\n",
              "      <td>178</td>\n",
              "      <td>Cava Juvé &amp; Camps Cinta Purpura Reserva Brut -...</td>\n",
              "      <td>Juvé &amp; Camps</td>\n",
              "      <td>Spain</td>\n",
              "      <td>Penedès</td>\n",
              "      <td>0</td>\n",
              "      <td>sparkling</td>\n",
              "      <td>52.8</td>\n",
              "      <td>9.13</td>\n",
              "    </tr>\n",
              "  </tbody>\n",
              "</table>\n",
              "</div>\n",
              "    <div class=\"colab-df-buttons\">\n",
              "\n",
              "  <div class=\"colab-df-container\">\n",
              "    <button class=\"colab-df-convert\" onclick=\"convertToInteractive('df-cc711892-d77d-47a3-ba4e-7f8f47ce20fc')\"\n",
              "            title=\"Convert this dataframe to an interactive table.\"\n",
              "            style=\"display:none;\">\n",
              "\n",
              "  <svg xmlns=\"http://www.w3.org/2000/svg\" height=\"24px\" viewBox=\"0 -960 960 960\">\n",
              "    <path d=\"M120-120v-720h720v720H120Zm60-500h600v-160H180v160Zm220 220h160v-160H400v160Zm0 220h160v-160H400v160ZM180-400h160v-160H180v160Zm440 0h160v-160H620v160ZM180-180h160v-160H180v160Zm440 0h160v-160H620v160Z\"/>\n",
              "  </svg>\n",
              "    </button>\n",
              "\n",
              "  <style>\n",
              "    .colab-df-container {\n",
              "      display:flex;\n",
              "      gap: 12px;\n",
              "    }\n",
              "\n",
              "    .colab-df-convert {\n",
              "      background-color: #E8F0FE;\n",
              "      border: none;\n",
              "      border-radius: 50%;\n",
              "      cursor: pointer;\n",
              "      display: none;\n",
              "      fill: #1967D2;\n",
              "      height: 32px;\n",
              "      padding: 0 0 0 0;\n",
              "      width: 32px;\n",
              "    }\n",
              "\n",
              "    .colab-df-convert:hover {\n",
              "      background-color: #E2EBFA;\n",
              "      box-shadow: 0px 1px 2px rgba(60, 64, 67, 0.3), 0px 1px 3px 1px rgba(60, 64, 67, 0.15);\n",
              "      fill: #174EA6;\n",
              "    }\n",
              "\n",
              "    .colab-df-buttons div {\n",
              "      margin-bottom: 4px;\n",
              "    }\n",
              "\n",
              "    [theme=dark] .colab-df-convert {\n",
              "      background-color: #3B4455;\n",
              "      fill: #D2E3FC;\n",
              "    }\n",
              "\n",
              "    [theme=dark] .colab-df-convert:hover {\n",
              "      background-color: #434B5C;\n",
              "      box-shadow: 0px 1px 3px 1px rgba(0, 0, 0, 0.15);\n",
              "      filter: drop-shadow(0px 1px 2px rgba(0, 0, 0, 0.3));\n",
              "      fill: #FFFFFF;\n",
              "    }\n",
              "  </style>\n",
              "\n",
              "    <script>\n",
              "      const buttonEl =\n",
              "        document.querySelector('#df-cc711892-d77d-47a3-ba4e-7f8f47ce20fc button.colab-df-convert');\n",
              "      buttonEl.style.display =\n",
              "        google.colab.kernel.accessAllowed ? 'block' : 'none';\n",
              "\n",
              "      async function convertToInteractive(key) {\n",
              "        const element = document.querySelector('#df-cc711892-d77d-47a3-ba4e-7f8f47ce20fc');\n",
              "        const dataTable =\n",
              "          await google.colab.kernel.invokeFunction('convertToInteractive',\n",
              "                                                    [key], {});\n",
              "        if (!dataTable) return;\n",
              "\n",
              "        const docLinkHtml = 'Like what you see? Visit the ' +\n",
              "          '<a target=\"_blank\" href=https://colab.research.google.com/notebooks/data_table.ipynb>data table notebook</a>'\n",
              "          + ' to learn more about interactive tables.';\n",
              "        element.innerHTML = '';\n",
              "        dataTable['output_type'] = 'display_data';\n",
              "        await google.colab.output.renderOutput(dataTable, element);\n",
              "        const docLink = document.createElement('div');\n",
              "        docLink.innerHTML = docLinkHtml;\n",
              "        element.appendChild(docLink);\n",
              "      }\n",
              "    </script>\n",
              "  </div>\n",
              "\n",
              "\n",
              "    </div>\n",
              "  </div>\n"
            ],
            "application/vnd.google.colaboratory.intrinsic+json": {
              "type": "dataframe",
              "summary": "{\n  \"name\": \"df_products_raw[df_products_raw\",\n  \"rows\": 1,\n  \"fields\": [\n    {\n      \"column\": \"item_id\",\n      \"properties\": {\n        \"dtype\": \"string\",\n        \"num_unique_values\": 1,\n        \"samples\": [\n          \"178\"\n        ],\n        \"semantic_type\": \"\",\n        \"description\": \"\"\n      }\n    },\n    {\n      \"column\": \"name\",\n      \"properties\": {\n        \"dtype\": \"string\",\n        \"num_unique_values\": 1,\n        \"samples\": [\n          \"Cava Juv\\u00e9 & Camps Cinta Purpura Reserva Brut - 375ml (Half Bottle)\"\n        ],\n        \"semantic_type\": \"\",\n        \"description\": \"\"\n      }\n    },\n    {\n      \"column\": \"producer\",\n      \"properties\": {\n        \"dtype\": \"string\",\n        \"num_unique_values\": 1,\n        \"samples\": [\n          \"Juv\\u00e9 & Camps\"\n        ],\n        \"semantic_type\": \"\",\n        \"description\": \"\"\n      }\n    },\n    {\n      \"column\": \"country\",\n      \"properties\": {\n        \"dtype\": \"string\",\n        \"num_unique_values\": 1,\n        \"samples\": [\n          \"Spain\"\n        ],\n        \"semantic_type\": \"\",\n        \"description\": \"\"\n      }\n    },\n    {\n      \"column\": \"region\",\n      \"properties\": {\n        \"dtype\": \"string\",\n        \"num_unique_values\": 1,\n        \"samples\": [\n          \"Pened\\u00e8s\"\n        ],\n        \"semantic_type\": \"\",\n        \"description\": \"\"\n      }\n    },\n    {\n      \"column\": \"vintage\",\n      \"properties\": {\n        \"dtype\": \"number\",\n        \"std\": null,\n        \"min\": 0,\n        \"max\": 0,\n        \"num_unique_values\": 1,\n        \"samples\": [\n          0\n        ],\n        \"semantic_type\": \"\",\n        \"description\": \"\"\n      }\n    },\n    {\n      \"column\": \"kind\",\n      \"properties\": {\n        \"dtype\": \"string\",\n        \"num_unique_values\": 1,\n        \"samples\": [\n          \"sparkling\"\n        ],\n        \"semantic_type\": \"\",\n        \"description\": \"\"\n      }\n    },\n    {\n      \"column\": \"price_brl\",\n      \"properties\": {\n        \"dtype\": \"number\",\n        \"std\": null,\n        \"min\": 52.8,\n        \"max\": 52.8,\n        \"num_unique_values\": 1,\n        \"samples\": [\n          52.8\n        ],\n        \"semantic_type\": \"\",\n        \"description\": \"\"\n      }\n    },\n    {\n      \"column\": \"price_usd\",\n      \"properties\": {\n        \"dtype\": \"number\",\n        \"std\": null,\n        \"min\": 9.13,\n        \"max\": 9.13,\n        \"num_unique_values\": 1,\n        \"samples\": [\n          9.13\n        ],\n        \"semantic_type\": \"\",\n        \"description\": \"\"\n      }\n    }\n  ]\n}"
            }
          },
          "metadata": {},
          "execution_count": 21
        }
      ]
    },
    {
      "cell_type": "markdown",
      "source": [
        "Boxplott Wein für Preis"
      ],
      "metadata": {
        "id": "qMm5I_2WJqMM"
      }
    },
    {
      "cell_type": "code",
      "source": [
        "# preis\n",
        "preis = df_products_raw.price_usd\n",
        "\n",
        "# Subplots 1x1 für die Grafiken.\n",
        "fig = make_subplots(rows=1, cols=1)\n",
        "\n",
        "# Boxplot für 'price_usd', horizontal mit `x`.\n",
        "fig.add_trace(\n",
        "    go.Box(x=preis, name='Preis (USD)', marker_color='#0068B5', opacity=0.9),\n",
        "    row=1, col=1\n",
        ")\n",
        "\n",
        "# Layout mit Figurgröße, Titel, Hintergrund Weiß\n",
        "fig.update_layout(\n",
        "    height=500,  # Anpassung der Höhe\n",
        "    width=1200,   # Anpassung der Breite\n",
        "    title_text=\"Boxplot von Preis (USD)\",\n",
        "    template='plotly_white',\n",
        "    showlegend=False\n",
        ")\n",
        "\n",
        "# Zeige die Figur\n",
        "fig.show()\n"
      ],
      "metadata": {
        "colab": {
          "base_uri": "https://localhost:8080/",
          "height": 517
        },
        "id": "trbusoS4V5pE",
        "outputId": "35e4bded-a7af-43d2-dc83-c3501e65cc1c"
      },
      "execution_count": 35,
      "outputs": [
        {
          "output_type": "display_data",
          "data": {
            "text/html": [
              "<html>\n",
              "<head><meta charset=\"utf-8\" /></head>\n",
              "<body>\n",
              "    <div>            <script src=\"https://cdnjs.cloudflare.com/ajax/libs/mathjax/2.7.5/MathJax.js?config=TeX-AMS-MML_SVG\"></script><script type=\"text/javascript\">if (window.MathJax && window.MathJax.Hub && window.MathJax.Hub.Config) {window.MathJax.Hub.Config({SVG: {font: \"STIX-Web\"}});}</script>                <script type=\"text/javascript\">window.PlotlyConfig = {MathJaxConfig: 'local'};</script>\n",
              "        <script charset=\"utf-8\" src=\"https://cdn.plot.ly/plotly-2.35.2.min.js\"></script>                <div id=\"dddd7665-f05e-4996-8bfa-6001aecf1693\" class=\"plotly-graph-div\" style=\"height:500px; width:1200px;\"></div>            <script type=\"text/javascript\">                                    window.PLOTLYENV=window.PLOTLYENV || {};                                    if (document.getElementById(\"dddd7665-f05e-4996-8bfa-6001aecf1693\")) {                    Plotly.newPlot(                        \"dddd7665-f05e-4996-8bfa-6001aecf1693\",                        [{\"marker\":{\"color\":\"#0068B5\"},\"name\":\"Preis (USD)\",\"opacity\":0.9,\"x\":[58.75,84.6,136.51,155.61,267.82,114.08,140.97,207.51,259.41,79.41,44.01,70.8,310.38,93.32,135.88,19.93,23.46,49.31,27.61,21.7,51.8,24.19,46.61,67.37,17.23,23.46,30.42,40.8,43.18,43.18,79.41,88.13,95.09,95.09,50.05,107.13,107.13,155.61,172.84,72.56,62.18,119.27,164.22,164.22,164.22,114.08,155.61,155.61,172.32,172.32,240.83,51.8,70.8,138.06,138.27,138.27,224.74,51.8,51.8,107.13,124.46,178.13,60.42,77.75,37.99,58.75,58.75,73.6,77.75,586.51,163.49,483.74,172.84,483.74,483.74,34.46,34.46,58.65,58.65,69.03,114.08,569.9,240.83,569.9,252.25,441.18,441.18,656.06,656.06,656.06,656.06,1037.02,915.57,1901.73,103.7,39.65,39.65,28.55,50.03,50.21,28.55,44.84,103.7,27.61,39.65,55.22,107.13,29.27,112.32,51.78,63.94,63.94,103.7,293.77,500.35,500.35,1659.86,115.85,362.28,107.13,378.89,72.56,138.27,79.52,172.84,88.13,63.94,138.06,117.51,117.51,414.19,146.99,96.85,34.57,69.03,155.61,58.65,96.75,49.31,98.51,39.03,224.74,1037.96,759.86,172.84,684.08,62.18,24.19,62.18,72.56,120.93,25.22,51.8,51.8,12.87,16.51,17.13,34.57,28.65,39.65,100.28,223.18,172.84,483.74,131.31,28.55,189.97,189.97,220.07,220.07,48.27,48.27,48.27,48.27,32.8,20.66,44.84,9.13,24.08,94.98,25.85,120.93,43.08,25.85,25.85,34.46,75.99,75.99,96.75,223.18,74.22,162.46,362.28,372.66,863.67,23.36,69.1,23.36,44.12,43.18,34.46,55.33,17.23,25.22,51.8,50.03,50.03,103.7,103.7,115.74,621.8,23.36,24.19,24.19,40.69,120.93,93.32,103.7,172.84],\"type\":\"box\",\"xaxis\":\"x\",\"yaxis\":\"y\"}],                        {\"template\":{\"data\":{\"barpolar\":[{\"marker\":{\"line\":{\"color\":\"white\",\"width\":0.5},\"pattern\":{\"fillmode\":\"overlay\",\"size\":10,\"solidity\":0.2}},\"type\":\"barpolar\"}],\"bar\":[{\"error_x\":{\"color\":\"#2a3f5f\"},\"error_y\":{\"color\":\"#2a3f5f\"},\"marker\":{\"line\":{\"color\":\"white\",\"width\":0.5},\"pattern\":{\"fillmode\":\"overlay\",\"size\":10,\"solidity\":0.2}},\"type\":\"bar\"}],\"carpet\":[{\"aaxis\":{\"endlinecolor\":\"#2a3f5f\",\"gridcolor\":\"#C8D4E3\",\"linecolor\":\"#C8D4E3\",\"minorgridcolor\":\"#C8D4E3\",\"startlinecolor\":\"#2a3f5f\"},\"baxis\":{\"endlinecolor\":\"#2a3f5f\",\"gridcolor\":\"#C8D4E3\",\"linecolor\":\"#C8D4E3\",\"minorgridcolor\":\"#C8D4E3\",\"startlinecolor\":\"#2a3f5f\"},\"type\":\"carpet\"}],\"choropleth\":[{\"colorbar\":{\"outlinewidth\":0,\"ticks\":\"\"},\"type\":\"choropleth\"}],\"contourcarpet\":[{\"colorbar\":{\"outlinewidth\":0,\"ticks\":\"\"},\"type\":\"contourcarpet\"}],\"contour\":[{\"colorbar\":{\"outlinewidth\":0,\"ticks\":\"\"},\"colorscale\":[[0.0,\"#0d0887\"],[0.1111111111111111,\"#46039f\"],[0.2222222222222222,\"#7201a8\"],[0.3333333333333333,\"#9c179e\"],[0.4444444444444444,\"#bd3786\"],[0.5555555555555556,\"#d8576b\"],[0.6666666666666666,\"#ed7953\"],[0.7777777777777778,\"#fb9f3a\"],[0.8888888888888888,\"#fdca26\"],[1.0,\"#f0f921\"]],\"type\":\"contour\"}],\"heatmapgl\":[{\"colorbar\":{\"outlinewidth\":0,\"ticks\":\"\"},\"colorscale\":[[0.0,\"#0d0887\"],[0.1111111111111111,\"#46039f\"],[0.2222222222222222,\"#7201a8\"],[0.3333333333333333,\"#9c179e\"],[0.4444444444444444,\"#bd3786\"],[0.5555555555555556,\"#d8576b\"],[0.6666666666666666,\"#ed7953\"],[0.7777777777777778,\"#fb9f3a\"],[0.8888888888888888,\"#fdca26\"],[1.0,\"#f0f921\"]],\"type\":\"heatmapgl\"}],\"heatmap\":[{\"colorbar\":{\"outlinewidth\":0,\"ticks\":\"\"},\"colorscale\":[[0.0,\"#0d0887\"],[0.1111111111111111,\"#46039f\"],[0.2222222222222222,\"#7201a8\"],[0.3333333333333333,\"#9c179e\"],[0.4444444444444444,\"#bd3786\"],[0.5555555555555556,\"#d8576b\"],[0.6666666666666666,\"#ed7953\"],[0.7777777777777778,\"#fb9f3a\"],[0.8888888888888888,\"#fdca26\"],[1.0,\"#f0f921\"]],\"type\":\"heatmap\"}],\"histogram2dcontour\":[{\"colorbar\":{\"outlinewidth\":0,\"ticks\":\"\"},\"colorscale\":[[0.0,\"#0d0887\"],[0.1111111111111111,\"#46039f\"],[0.2222222222222222,\"#7201a8\"],[0.3333333333333333,\"#9c179e\"],[0.4444444444444444,\"#bd3786\"],[0.5555555555555556,\"#d8576b\"],[0.6666666666666666,\"#ed7953\"],[0.7777777777777778,\"#fb9f3a\"],[0.8888888888888888,\"#fdca26\"],[1.0,\"#f0f921\"]],\"type\":\"histogram2dcontour\"}],\"histogram2d\":[{\"colorbar\":{\"outlinewidth\":0,\"ticks\":\"\"},\"colorscale\":[[0.0,\"#0d0887\"],[0.1111111111111111,\"#46039f\"],[0.2222222222222222,\"#7201a8\"],[0.3333333333333333,\"#9c179e\"],[0.4444444444444444,\"#bd3786\"],[0.5555555555555556,\"#d8576b\"],[0.6666666666666666,\"#ed7953\"],[0.7777777777777778,\"#fb9f3a\"],[0.8888888888888888,\"#fdca26\"],[1.0,\"#f0f921\"]],\"type\":\"histogram2d\"}],\"histogram\":[{\"marker\":{\"pattern\":{\"fillmode\":\"overlay\",\"size\":10,\"solidity\":0.2}},\"type\":\"histogram\"}],\"mesh3d\":[{\"colorbar\":{\"outlinewidth\":0,\"ticks\":\"\"},\"type\":\"mesh3d\"}],\"parcoords\":[{\"line\":{\"colorbar\":{\"outlinewidth\":0,\"ticks\":\"\"}},\"type\":\"parcoords\"}],\"pie\":[{\"automargin\":true,\"type\":\"pie\"}],\"scatter3d\":[{\"line\":{\"colorbar\":{\"outlinewidth\":0,\"ticks\":\"\"}},\"marker\":{\"colorbar\":{\"outlinewidth\":0,\"ticks\":\"\"}},\"type\":\"scatter3d\"}],\"scattercarpet\":[{\"marker\":{\"colorbar\":{\"outlinewidth\":0,\"ticks\":\"\"}},\"type\":\"scattercarpet\"}],\"scattergeo\":[{\"marker\":{\"colorbar\":{\"outlinewidth\":0,\"ticks\":\"\"}},\"type\":\"scattergeo\"}],\"scattergl\":[{\"marker\":{\"colorbar\":{\"outlinewidth\":0,\"ticks\":\"\"}},\"type\":\"scattergl\"}],\"scattermapbox\":[{\"marker\":{\"colorbar\":{\"outlinewidth\":0,\"ticks\":\"\"}},\"type\":\"scattermapbox\"}],\"scatterpolargl\":[{\"marker\":{\"colorbar\":{\"outlinewidth\":0,\"ticks\":\"\"}},\"type\":\"scatterpolargl\"}],\"scatterpolar\":[{\"marker\":{\"colorbar\":{\"outlinewidth\":0,\"ticks\":\"\"}},\"type\":\"scatterpolar\"}],\"scatter\":[{\"fillpattern\":{\"fillmode\":\"overlay\",\"size\":10,\"solidity\":0.2},\"type\":\"scatter\"}],\"scatterternary\":[{\"marker\":{\"colorbar\":{\"outlinewidth\":0,\"ticks\":\"\"}},\"type\":\"scatterternary\"}],\"surface\":[{\"colorbar\":{\"outlinewidth\":0,\"ticks\":\"\"},\"colorscale\":[[0.0,\"#0d0887\"],[0.1111111111111111,\"#46039f\"],[0.2222222222222222,\"#7201a8\"],[0.3333333333333333,\"#9c179e\"],[0.4444444444444444,\"#bd3786\"],[0.5555555555555556,\"#d8576b\"],[0.6666666666666666,\"#ed7953\"],[0.7777777777777778,\"#fb9f3a\"],[0.8888888888888888,\"#fdca26\"],[1.0,\"#f0f921\"]],\"type\":\"surface\"}],\"table\":[{\"cells\":{\"fill\":{\"color\":\"#EBF0F8\"},\"line\":{\"color\":\"white\"}},\"header\":{\"fill\":{\"color\":\"#C8D4E3\"},\"line\":{\"color\":\"white\"}},\"type\":\"table\"}]},\"layout\":{\"annotationdefaults\":{\"arrowcolor\":\"#2a3f5f\",\"arrowhead\":0,\"arrowwidth\":1},\"autotypenumbers\":\"strict\",\"coloraxis\":{\"colorbar\":{\"outlinewidth\":0,\"ticks\":\"\"}},\"colorscale\":{\"diverging\":[[0,\"#8e0152\"],[0.1,\"#c51b7d\"],[0.2,\"#de77ae\"],[0.3,\"#f1b6da\"],[0.4,\"#fde0ef\"],[0.5,\"#f7f7f7\"],[0.6,\"#e6f5d0\"],[0.7,\"#b8e186\"],[0.8,\"#7fbc41\"],[0.9,\"#4d9221\"],[1,\"#276419\"]],\"sequential\":[[0.0,\"#0d0887\"],[0.1111111111111111,\"#46039f\"],[0.2222222222222222,\"#7201a8\"],[0.3333333333333333,\"#9c179e\"],[0.4444444444444444,\"#bd3786\"],[0.5555555555555556,\"#d8576b\"],[0.6666666666666666,\"#ed7953\"],[0.7777777777777778,\"#fb9f3a\"],[0.8888888888888888,\"#fdca26\"],[1.0,\"#f0f921\"]],\"sequentialminus\":[[0.0,\"#0d0887\"],[0.1111111111111111,\"#46039f\"],[0.2222222222222222,\"#7201a8\"],[0.3333333333333333,\"#9c179e\"],[0.4444444444444444,\"#bd3786\"],[0.5555555555555556,\"#d8576b\"],[0.6666666666666666,\"#ed7953\"],[0.7777777777777778,\"#fb9f3a\"],[0.8888888888888888,\"#fdca26\"],[1.0,\"#f0f921\"]]},\"colorway\":[\"#636efa\",\"#EF553B\",\"#00cc96\",\"#ab63fa\",\"#FFA15A\",\"#19d3f3\",\"#FF6692\",\"#B6E880\",\"#FF97FF\",\"#FECB52\"],\"font\":{\"color\":\"#2a3f5f\"},\"geo\":{\"bgcolor\":\"white\",\"lakecolor\":\"white\",\"landcolor\":\"white\",\"showlakes\":true,\"showland\":true,\"subunitcolor\":\"#C8D4E3\"},\"hoverlabel\":{\"align\":\"left\"},\"hovermode\":\"closest\",\"mapbox\":{\"style\":\"light\"},\"paper_bgcolor\":\"white\",\"plot_bgcolor\":\"white\",\"polar\":{\"angularaxis\":{\"gridcolor\":\"#EBF0F8\",\"linecolor\":\"#EBF0F8\",\"ticks\":\"\"},\"bgcolor\":\"white\",\"radialaxis\":{\"gridcolor\":\"#EBF0F8\",\"linecolor\":\"#EBF0F8\",\"ticks\":\"\"}},\"scene\":{\"xaxis\":{\"backgroundcolor\":\"white\",\"gridcolor\":\"#DFE8F3\",\"gridwidth\":2,\"linecolor\":\"#EBF0F8\",\"showbackground\":true,\"ticks\":\"\",\"zerolinecolor\":\"#EBF0F8\"},\"yaxis\":{\"backgroundcolor\":\"white\",\"gridcolor\":\"#DFE8F3\",\"gridwidth\":2,\"linecolor\":\"#EBF0F8\",\"showbackground\":true,\"ticks\":\"\",\"zerolinecolor\":\"#EBF0F8\"},\"zaxis\":{\"backgroundcolor\":\"white\",\"gridcolor\":\"#DFE8F3\",\"gridwidth\":2,\"linecolor\":\"#EBF0F8\",\"showbackground\":true,\"ticks\":\"\",\"zerolinecolor\":\"#EBF0F8\"}},\"shapedefaults\":{\"line\":{\"color\":\"#2a3f5f\"}},\"ternary\":{\"aaxis\":{\"gridcolor\":\"#DFE8F3\",\"linecolor\":\"#A2B1C6\",\"ticks\":\"\"},\"baxis\":{\"gridcolor\":\"#DFE8F3\",\"linecolor\":\"#A2B1C6\",\"ticks\":\"\"},\"bgcolor\":\"white\",\"caxis\":{\"gridcolor\":\"#DFE8F3\",\"linecolor\":\"#A2B1C6\",\"ticks\":\"\"}},\"title\":{\"x\":0.05},\"xaxis\":{\"automargin\":true,\"gridcolor\":\"#EBF0F8\",\"linecolor\":\"#EBF0F8\",\"ticks\":\"\",\"title\":{\"standoff\":15},\"zerolinecolor\":\"#EBF0F8\",\"zerolinewidth\":2},\"yaxis\":{\"automargin\":true,\"gridcolor\":\"#EBF0F8\",\"linecolor\":\"#EBF0F8\",\"ticks\":\"\",\"title\":{\"standoff\":15},\"zerolinecolor\":\"#EBF0F8\",\"zerolinewidth\":2}}},\"xaxis\":{\"anchor\":\"y\",\"domain\":[0.0,1.0]},\"yaxis\":{\"anchor\":\"x\",\"domain\":[0.0,1.0]},\"title\":{\"text\":\"Boxplot von Preis (USD)\"},\"height\":500,\"width\":1200,\"showlegend\":false},                        {\"responsive\": true}                    ).then(function(){\n",
              "                            \n",
              "var gd = document.getElementById('dddd7665-f05e-4996-8bfa-6001aecf1693');\n",
              "var x = new MutationObserver(function (mutations, observer) {{\n",
              "        var display = window.getComputedStyle(gd).display;\n",
              "        if (!display || display === 'none') {{\n",
              "            console.log([gd, 'removed!']);\n",
              "            Plotly.purge(gd);\n",
              "            observer.disconnect();\n",
              "        }}\n",
              "}});\n",
              "\n",
              "// Listen for the removal of the full notebook cells\n",
              "var notebookContainer = gd.closest('#notebook-container');\n",
              "if (notebookContainer) {{\n",
              "    x.observe(notebookContainer, {childList: true});\n",
              "}}\n",
              "\n",
              "// Listen for the clearing of the current output cell\n",
              "var outputEl = gd.closest('.output');\n",
              "if (outputEl) {{\n",
              "    x.observe(outputEl, {childList: true});\n",
              "}}\n",
              "\n",
              "                        })                };                            </script>        </div>\n",
              "</body>\n",
              "</html>"
            ]
          },
          "metadata": {}
        }
      ]
    },
    {
      "cell_type": "markdown",
      "source": [
        "**Medianpreis pro Region**"
      ],
      "metadata": {
        "id": "zUpMEpKkZ3vV"
      }
    },
    {
      "cell_type": "code",
      "source": [
        "#grouped_df = df_products_raw.groupby(\"region\")\n",
        "#mean_df = grouped_df.mean('price_usd')\n",
        "#mean_df = mean_df.reset_index()\n",
        "\n",
        "# print(round(mean_df,2))\n",
        "#round(mean_df.sort_values('price_usd', ascending=False),2)\n",
        "\n",
        "# Kopiere das ursprüngliche DataFrame\n",
        "df_region_analysis = df_products_raw.copy()\n",
        "\n",
        "# Gruppiere nach Region und berechne den Median für price_usd\n",
        "median_price_per_region = df_region_analysis.groupby(\"region\")['price_usd'].median()\n",
        "\n",
        "# Erstelle ein neues DataFrame für die Tabelle und sortiere es absteigend nach Medianpreis\n",
        "median_table = pd.DataFrame({\n",
        "    'Region': median_price_per_region.index,\n",
        "    'Medianpreis (USD)': median_price_per_region.values\n",
        "}).sort_values(by=\"Medianpreis (USD)\", ascending=False).reset_index(drop=True)\n",
        "\n",
        "# Erstelle eine Tabelle mit Plotly\n",
        "table = go.Table(\n",
        "    header=dict(\n",
        "        values=[\"<b>Region</b>\", \"<b>Medianpreis (USD)</b>\"],\n",
        "        fill_color='paleturquoise',\n",
        "        align='left'\n",
        "    ),\n",
        "    cells=dict(\n",
        "        values=[\n",
        "            median_table['Region'],\n",
        "            median_table['Medianpreis (USD)'].round(2)\n",
        "        ],\n",
        "        fill_color='lavender',\n",
        "        align='left'\n",
        "    )\n",
        ")\n",
        "\n",
        "# Erstelle das Layout und zeige die Tabelle\n",
        "fig = go.Figure(data=[table])\n",
        "fig.update_layout(\n",
        "    title=\"Region: Medianpreis pro Region (absteigend sortiert, in USD).\",\n",
        "    autosize=True,\n",
        "    width=900,\n",
        "    height=800,\n",
        "    annotations=[\n",
        "        dict(\n",
        "            text=\"Die Regionen sind basierend auf dem Medianpreis sortiert – beginnend mit dem höchsten Wert.\",\n",
        "            x=0.5,  # Horizontale Position (0 = links, 1 = rechts)\n",
        "            y=-0.2,  # Vertikale Position unterhalb der Tabelle\n",
        "            xref=\"paper\",\n",
        "            yref=\"paper\",\n",
        "            showarrow=False,\n",
        "            font=dict(size=14)\n",
        "        )\n",
        "    ]\n",
        ")\n",
        "fig.show()\n",
        "\n"
      ],
      "metadata": {
        "colab": {
          "base_uri": "https://localhost:8080/",
          "height": 817
        },
        "outputId": "a2ca4648-4b24-4200-c68d-90c93d2d7f42",
        "id": "U1yc8J8SS_Pc"
      },
      "execution_count": 19,
      "outputs": [
        {
          "output_type": "display_data",
          "data": {
            "text/html": [
              "<html>\n",
              "<head><meta charset=\"utf-8\" /></head>\n",
              "<body>\n",
              "    <div>            <script src=\"https://cdnjs.cloudflare.com/ajax/libs/mathjax/2.7.5/MathJax.js?config=TeX-AMS-MML_SVG\"></script><script type=\"text/javascript\">if (window.MathJax && window.MathJax.Hub && window.MathJax.Hub.Config) {window.MathJax.Hub.Config({SVG: {font: \"STIX-Web\"}});}</script>                <script type=\"text/javascript\">window.PlotlyConfig = {MathJaxConfig: 'local'};</script>\n",
              "        <script charset=\"utf-8\" src=\"https://cdn.plot.ly/plotly-2.35.2.min.js\"></script>                <div id=\"b4b9e242-1cf1-4dbd-980c-d144838c6351\" class=\"plotly-graph-div\" style=\"height:800px; width:900px;\"></div>            <script type=\"text/javascript\">                                    window.PLOTLYENV=window.PLOTLYENV || {};                                    if (document.getElementById(\"b4b9e242-1cf1-4dbd-980c-d144838c6351\")) {                    Plotly.newPlot(                        \"b4b9e242-1cf1-4dbd-980c-d144838c6351\",                        [{\"cells\":{\"align\":\"left\",\"fill\":{\"color\":\"lavender\"},\"values\":[[\"Maipo\",\"Ribera del Duero\",\"Piedmont\",\"Champagne\",\"Burgundy\",\"Toscana\",\"Bordeaux\",\"Loire Valley\",\"Alsace\",\"Mendoza\",\"Navarra\",\"Rioja\",\"Alentejo\",\"Sud Ouest\",\"Campania\",\"Rhone\",\"Douro\",\"Puglia\",\"Provence\",\"Veneto\",\"Penedès\"],[621.8,362.28,189.97,140.97,121.86,115.8,103.7,93.32,79.41,67.0,60.42,59.54,50.92,49.2,48.27,44.84,43.18,32.8,23.46,16.51,9.13]]},\"header\":{\"align\":\"left\",\"fill\":{\"color\":\"paleturquoise\"},\"values\":[\"\\u003cb\\u003eRegion\\u003c\\u002fb\\u003e\",\"\\u003cb\\u003eMedianpreis (USD)\\u003c\\u002fb\\u003e\"]},\"type\":\"table\"}],                        {\"template\":{\"data\":{\"histogram2dcontour\":[{\"type\":\"histogram2dcontour\",\"colorbar\":{\"outlinewidth\":0,\"ticks\":\"\"},\"colorscale\":[[0.0,\"#0d0887\"],[0.1111111111111111,\"#46039f\"],[0.2222222222222222,\"#7201a8\"],[0.3333333333333333,\"#9c179e\"],[0.4444444444444444,\"#bd3786\"],[0.5555555555555556,\"#d8576b\"],[0.6666666666666666,\"#ed7953\"],[0.7777777777777778,\"#fb9f3a\"],[0.8888888888888888,\"#fdca26\"],[1.0,\"#f0f921\"]]}],\"choropleth\":[{\"type\":\"choropleth\",\"colorbar\":{\"outlinewidth\":0,\"ticks\":\"\"}}],\"histogram2d\":[{\"type\":\"histogram2d\",\"colorbar\":{\"outlinewidth\":0,\"ticks\":\"\"},\"colorscale\":[[0.0,\"#0d0887\"],[0.1111111111111111,\"#46039f\"],[0.2222222222222222,\"#7201a8\"],[0.3333333333333333,\"#9c179e\"],[0.4444444444444444,\"#bd3786\"],[0.5555555555555556,\"#d8576b\"],[0.6666666666666666,\"#ed7953\"],[0.7777777777777778,\"#fb9f3a\"],[0.8888888888888888,\"#fdca26\"],[1.0,\"#f0f921\"]]}],\"heatmap\":[{\"type\":\"heatmap\",\"colorbar\":{\"outlinewidth\":0,\"ticks\":\"\"},\"colorscale\":[[0.0,\"#0d0887\"],[0.1111111111111111,\"#46039f\"],[0.2222222222222222,\"#7201a8\"],[0.3333333333333333,\"#9c179e\"],[0.4444444444444444,\"#bd3786\"],[0.5555555555555556,\"#d8576b\"],[0.6666666666666666,\"#ed7953\"],[0.7777777777777778,\"#fb9f3a\"],[0.8888888888888888,\"#fdca26\"],[1.0,\"#f0f921\"]]}],\"heatmapgl\":[{\"type\":\"heatmapgl\",\"colorbar\":{\"outlinewidth\":0,\"ticks\":\"\"},\"colorscale\":[[0.0,\"#0d0887\"],[0.1111111111111111,\"#46039f\"],[0.2222222222222222,\"#7201a8\"],[0.3333333333333333,\"#9c179e\"],[0.4444444444444444,\"#bd3786\"],[0.5555555555555556,\"#d8576b\"],[0.6666666666666666,\"#ed7953\"],[0.7777777777777778,\"#fb9f3a\"],[0.8888888888888888,\"#fdca26\"],[1.0,\"#f0f921\"]]}],\"contourcarpet\":[{\"type\":\"contourcarpet\",\"colorbar\":{\"outlinewidth\":0,\"ticks\":\"\"}}],\"contour\":[{\"type\":\"contour\",\"colorbar\":{\"outlinewidth\":0,\"ticks\":\"\"},\"colorscale\":[[0.0,\"#0d0887\"],[0.1111111111111111,\"#46039f\"],[0.2222222222222222,\"#7201a8\"],[0.3333333333333333,\"#9c179e\"],[0.4444444444444444,\"#bd3786\"],[0.5555555555555556,\"#d8576b\"],[0.6666666666666666,\"#ed7953\"],[0.7777777777777778,\"#fb9f3a\"],[0.8888888888888888,\"#fdca26\"],[1.0,\"#f0f921\"]]}],\"surface\":[{\"type\":\"surface\",\"colorbar\":{\"outlinewidth\":0,\"ticks\":\"\"},\"colorscale\":[[0.0,\"#0d0887\"],[0.1111111111111111,\"#46039f\"],[0.2222222222222222,\"#7201a8\"],[0.3333333333333333,\"#9c179e\"],[0.4444444444444444,\"#bd3786\"],[0.5555555555555556,\"#d8576b\"],[0.6666666666666666,\"#ed7953\"],[0.7777777777777778,\"#fb9f3a\"],[0.8888888888888888,\"#fdca26\"],[1.0,\"#f0f921\"]]}],\"mesh3d\":[{\"type\":\"mesh3d\",\"colorbar\":{\"outlinewidth\":0,\"ticks\":\"\"}}],\"scatter\":[{\"fillpattern\":{\"fillmode\":\"overlay\",\"size\":10,\"solidity\":0.2},\"type\":\"scatter\"}],\"parcoords\":[{\"type\":\"parcoords\",\"line\":{\"colorbar\":{\"outlinewidth\":0,\"ticks\":\"\"}}}],\"scatterpolargl\":[{\"type\":\"scatterpolargl\",\"marker\":{\"colorbar\":{\"outlinewidth\":0,\"ticks\":\"\"}}}],\"bar\":[{\"error_x\":{\"color\":\"#2a3f5f\"},\"error_y\":{\"color\":\"#2a3f5f\"},\"marker\":{\"line\":{\"color\":\"#E5ECF6\",\"width\":0.5},\"pattern\":{\"fillmode\":\"overlay\",\"size\":10,\"solidity\":0.2}},\"type\":\"bar\"}],\"scattergeo\":[{\"type\":\"scattergeo\",\"marker\":{\"colorbar\":{\"outlinewidth\":0,\"ticks\":\"\"}}}],\"scatterpolar\":[{\"type\":\"scatterpolar\",\"marker\":{\"colorbar\":{\"outlinewidth\":0,\"ticks\":\"\"}}}],\"histogram\":[{\"marker\":{\"pattern\":{\"fillmode\":\"overlay\",\"size\":10,\"solidity\":0.2}},\"type\":\"histogram\"}],\"scattergl\":[{\"type\":\"scattergl\",\"marker\":{\"colorbar\":{\"outlinewidth\":0,\"ticks\":\"\"}}}],\"scatter3d\":[{\"type\":\"scatter3d\",\"line\":{\"colorbar\":{\"outlinewidth\":0,\"ticks\":\"\"}},\"marker\":{\"colorbar\":{\"outlinewidth\":0,\"ticks\":\"\"}}}],\"scattermapbox\":[{\"type\":\"scattermapbox\",\"marker\":{\"colorbar\":{\"outlinewidth\":0,\"ticks\":\"\"}}}],\"scatterternary\":[{\"type\":\"scatterternary\",\"marker\":{\"colorbar\":{\"outlinewidth\":0,\"ticks\":\"\"}}}],\"scattercarpet\":[{\"type\":\"scattercarpet\",\"marker\":{\"colorbar\":{\"outlinewidth\":0,\"ticks\":\"\"}}}],\"carpet\":[{\"aaxis\":{\"endlinecolor\":\"#2a3f5f\",\"gridcolor\":\"white\",\"linecolor\":\"white\",\"minorgridcolor\":\"white\",\"startlinecolor\":\"#2a3f5f\"},\"baxis\":{\"endlinecolor\":\"#2a3f5f\",\"gridcolor\":\"white\",\"linecolor\":\"white\",\"minorgridcolor\":\"white\",\"startlinecolor\":\"#2a3f5f\"},\"type\":\"carpet\"}],\"table\":[{\"cells\":{\"fill\":{\"color\":\"#EBF0F8\"},\"line\":{\"color\":\"white\"}},\"header\":{\"fill\":{\"color\":\"#C8D4E3\"},\"line\":{\"color\":\"white\"}},\"type\":\"table\"}],\"barpolar\":[{\"marker\":{\"line\":{\"color\":\"#E5ECF6\",\"width\":0.5},\"pattern\":{\"fillmode\":\"overlay\",\"size\":10,\"solidity\":0.2}},\"type\":\"barpolar\"}],\"pie\":[{\"automargin\":true,\"type\":\"pie\"}]},\"layout\":{\"autotypenumbers\":\"strict\",\"colorway\":[\"#636efa\",\"#EF553B\",\"#00cc96\",\"#ab63fa\",\"#FFA15A\",\"#19d3f3\",\"#FF6692\",\"#B6E880\",\"#FF97FF\",\"#FECB52\"],\"font\":{\"color\":\"#2a3f5f\"},\"hovermode\":\"closest\",\"hoverlabel\":{\"align\":\"left\"},\"paper_bgcolor\":\"white\",\"plot_bgcolor\":\"#E5ECF6\",\"polar\":{\"bgcolor\":\"#E5ECF6\",\"angularaxis\":{\"gridcolor\":\"white\",\"linecolor\":\"white\",\"ticks\":\"\"},\"radialaxis\":{\"gridcolor\":\"white\",\"linecolor\":\"white\",\"ticks\":\"\"}},\"ternary\":{\"bgcolor\":\"#E5ECF6\",\"aaxis\":{\"gridcolor\":\"white\",\"linecolor\":\"white\",\"ticks\":\"\"},\"baxis\":{\"gridcolor\":\"white\",\"linecolor\":\"white\",\"ticks\":\"\"},\"caxis\":{\"gridcolor\":\"white\",\"linecolor\":\"white\",\"ticks\":\"\"}},\"coloraxis\":{\"colorbar\":{\"outlinewidth\":0,\"ticks\":\"\"}},\"colorscale\":{\"sequential\":[[0.0,\"#0d0887\"],[0.1111111111111111,\"#46039f\"],[0.2222222222222222,\"#7201a8\"],[0.3333333333333333,\"#9c179e\"],[0.4444444444444444,\"#bd3786\"],[0.5555555555555556,\"#d8576b\"],[0.6666666666666666,\"#ed7953\"],[0.7777777777777778,\"#fb9f3a\"],[0.8888888888888888,\"#fdca26\"],[1.0,\"#f0f921\"]],\"sequentialminus\":[[0.0,\"#0d0887\"],[0.1111111111111111,\"#46039f\"],[0.2222222222222222,\"#7201a8\"],[0.3333333333333333,\"#9c179e\"],[0.4444444444444444,\"#bd3786\"],[0.5555555555555556,\"#d8576b\"],[0.6666666666666666,\"#ed7953\"],[0.7777777777777778,\"#fb9f3a\"],[0.8888888888888888,\"#fdca26\"],[1.0,\"#f0f921\"]],\"diverging\":[[0,\"#8e0152\"],[0.1,\"#c51b7d\"],[0.2,\"#de77ae\"],[0.3,\"#f1b6da\"],[0.4,\"#fde0ef\"],[0.5,\"#f7f7f7\"],[0.6,\"#e6f5d0\"],[0.7,\"#b8e186\"],[0.8,\"#7fbc41\"],[0.9,\"#4d9221\"],[1,\"#276419\"]]},\"xaxis\":{\"gridcolor\":\"white\",\"linecolor\":\"white\",\"ticks\":\"\",\"title\":{\"standoff\":15},\"zerolinecolor\":\"white\",\"automargin\":true,\"zerolinewidth\":2},\"yaxis\":{\"gridcolor\":\"white\",\"linecolor\":\"white\",\"ticks\":\"\",\"title\":{\"standoff\":15},\"zerolinecolor\":\"white\",\"automargin\":true,\"zerolinewidth\":2},\"scene\":{\"xaxis\":{\"backgroundcolor\":\"#E5ECF6\",\"gridcolor\":\"white\",\"linecolor\":\"white\",\"showbackground\":true,\"ticks\":\"\",\"zerolinecolor\":\"white\",\"gridwidth\":2},\"yaxis\":{\"backgroundcolor\":\"#E5ECF6\",\"gridcolor\":\"white\",\"linecolor\":\"white\",\"showbackground\":true,\"ticks\":\"\",\"zerolinecolor\":\"white\",\"gridwidth\":2},\"zaxis\":{\"backgroundcolor\":\"#E5ECF6\",\"gridcolor\":\"white\",\"linecolor\":\"white\",\"showbackground\":true,\"ticks\":\"\",\"zerolinecolor\":\"white\",\"gridwidth\":2}},\"shapedefaults\":{\"line\":{\"color\":\"#2a3f5f\"}},\"annotationdefaults\":{\"arrowcolor\":\"#2a3f5f\",\"arrowhead\":0,\"arrowwidth\":1},\"geo\":{\"bgcolor\":\"white\",\"landcolor\":\"#E5ECF6\",\"subunitcolor\":\"white\",\"showland\":true,\"showlakes\":true,\"lakecolor\":\"white\"},\"title\":{\"x\":0.05},\"mapbox\":{\"style\":\"light\"}}},\"title\":{\"text\":\"Region: Medianpreis pro Region (absteigend sortiert, in USD).\"},\"autosize\":true,\"width\":900,\"height\":800,\"annotations\":[{\"font\":{\"size\":14},\"showarrow\":false,\"text\":\"Die Regionen sind basierend auf dem Medianpreis sortiert – beginnend mit dem höchsten Wert.\",\"x\":0.5,\"xref\":\"paper\",\"y\":-0.2,\"yref\":\"paper\"}]},                        {\"responsive\": true}                    ).then(function(){\n",
              "                            \n",
              "var gd = document.getElementById('b4b9e242-1cf1-4dbd-980c-d144838c6351');\n",
              "var x = new MutationObserver(function (mutations, observer) {{\n",
              "        var display = window.getComputedStyle(gd).display;\n",
              "        if (!display || display === 'none') {{\n",
              "            console.log([gd, 'removed!']);\n",
              "            Plotly.purge(gd);\n",
              "            observer.disconnect();\n",
              "        }}\n",
              "}});\n",
              "\n",
              "// Listen for the removal of the full notebook cells\n",
              "var notebookContainer = gd.closest('#notebook-container');\n",
              "if (notebookContainer) {{\n",
              "    x.observe(notebookContainer, {childList: true});\n",
              "}}\n",
              "\n",
              "// Listen for the clearing of the current output cell\n",
              "var outputEl = gd.closest('.output');\n",
              "if (outputEl) {{\n",
              "    x.observe(outputEl, {childList: true});\n",
              "}}\n",
              "\n",
              "                        })                };                            </script>        </div>\n",
              "</body>\n",
              "</html>"
            ]
          },
          "metadata": {}
        }
      ]
    },
    {
      "cell_type": "code",
      "source": [
        "#producer_counts.value_counts()\n",
        "#verificar os vinhos mais caros\n",
        "# f, ax = plt.subplots(figsize=(16, 8))\n",
        "# sns.barplot(x=df_products_raw.name, y=df_products_raw.price_usd, order=df_products_raw.sort_values('price_usd', ascending=False).name.iloc[0:25])\n",
        "# plt.xticks(rotation=89)\n",
        "# plt.show();\n",
        "\n",
        "name=df_products_raw.sort_values('price_usd', ascending=False).name.iloc[0:10]\n",
        "name=name.to_list()\n",
        "\n",
        "price= df_products_raw.sort_values('price_usd', ascending=False).price_usd.iloc[0:10]\n",
        "price=price.to_list()\n",
        "\n",
        "\n",
        "# Zähle die Anzahl der Produzenten\n",
        "#producer_counts = df_produzent_analysis['price_usd'].sort_values()\n",
        "\n",
        "#Label=producer_counts.index.to_list()\n",
        "#Wert = producer_counts.values\n",
        "#Wert = Wert.tolist()\n",
        "\n",
        "#producer_percentages = producer_counts\n",
        "\n",
        "value_price=price\n",
        "labels=name\n",
        "gerundete_werte = np.round(value_price, 1)\n",
        "\n",
        "fig, ax = plt.subplots(figsize=(10,10))\n",
        "\n",
        "# ajustes para construir o gráfico\n",
        "x = np.arange(len(labels))\n",
        "width_bar = 0.80\n",
        "\n",
        "\n",
        "rects2 = ax.bar(x,gerundete_werte,width_bar)\n",
        "\n",
        "\n",
        "ax.set_xticks(x)\n",
        "ax.set_xticklabels(labels,color=\"#787878\");\n",
        "\n",
        "# # remover grids e eixos\n",
        "ax.spines['right'].set_visible(False)\n",
        "ax.spines['left'].set_visible(False)\n",
        "ax.spines['top'].set_visible(False)\n",
        "ax.spines['bottom'].set_visible(False)\n",
        "\n",
        "# # remover eixo y\n",
        "plt.gca().axes.get_yaxis().set_visible(False)\n",
        "plt.title('Teuerste Weine auf der karte')\n",
        "\n",
        "# # remover xticks do eixo x\n",
        "plt.tick_params(\n",
        "    axis='both',\n",
        "    which='both',\n",
        "    bottom=False,\n",
        "    top=False,\n",
        "    labelbottom=True)\n",
        "\n",
        "plt.xticks(rotation=85)\n",
        "\n",
        "\n",
        "def autolabel(rects):\n",
        "    for rect in rects:\n",
        "        height = rect.get_height()\n",
        "        ax.annotate(\n",
        "                    '{}$'.format(height),\n",
        "                    xy=(rect.get_x() ,  height),\n",
        "                    xytext=(25,-20),  # offset\n",
        "                    textcoords=\"offset points\",\n",
        "                    ha='center',\n",
        "                    #va='bottom',\n",
        "                    #fontsize=10,\n",
        "                    color=\"White\",\n",
        "                    )\n",
        "\n",
        "# plotar labels dentro das barras\n",
        "#autolabel(rects1)\n",
        "autolabel(rects2)\n",
        "\n",
        "# plotar gráfico\n",
        "fig.tight_layout()\n",
        "plt.show()\n"
      ],
      "metadata": {
        "colab": {
          "base_uri": "https://localhost:8080/",
          "height": 972
        },
        "id": "vX3v2bIOL9my",
        "outputId": "eea55cc3-7672-4076-c918-f7db52b0ed7e"
      },
      "execution_count": 22,
      "outputs": [
        {
          "output_type": "display_data",
          "data": {
            "text/plain": [
              "<Figure size 1000x1000 with 1 Axes>"
            ],
            "image/svg+xml": "<?xml version=\"1.0\" encoding=\"utf-8\" standalone=\"no\"?>\n<!DOCTYPE svg PUBLIC \"-//W3C//DTD SVG 1.1//EN\"\n  \"http://www.w3.org/Graphics/SVG/1.1/DTD/svg11.dtd\">\n<svg xmlns:xlink=\"http://www.w3.org/1999/xlink\" width=\"712.8pt\" height=\"712.267886pt\" viewBox=\"0 0 712.8 712.267886\" xmlns=\"http://www.w3.org/2000/svg\" version=\"1.1\">\n <metadata>\n  <rdf:RDF xmlns:dc=\"http://purl.org/dc/elements/1.1/\" xmlns:cc=\"http://creativecommons.org/ns#\" xmlns:rdf=\"http://www.w3.org/1999/02/22-rdf-syntax-ns#\">\n   <cc:Work>\n    <dc:type rdf:resource=\"http://purl.org/dc/dcmitype/StillImage\"/>\n    <dc:date>2024-12-01T17:53:39.482092</dc:date>\n    <dc:format>image/svg+xml</dc:format>\n    <dc:creator>\n     <cc:Agent>\n      <dc:title>Matplotlib v3.8.0, https://matplotlib.org/</dc:title>\n     </cc:Agent>\n    </dc:creator>\n   </cc:Work>\n  </rdf:RDF>\n </metadata>\n <defs>\n  <style type=\"text/css\">*{stroke-linejoin: round; stroke-linecap: butt}</style>\n </defs>\n <g id=\"figure_1\">\n  <g id=\"patch_1\">\n   <path d=\"M 0 712.267886 \nL 712.8 712.267886 \nL 712.8 0 \nL 0 0 \nz\n\" style=\"fill: #ffffff\"/>\n  </g>\n  <g id=\"axes_1\">\n   <g id=\"patch_2\">\n    <path d=\"M 7.2 310.873617 \nL 705.6 310.873617 \nL 705.6 22.318125 \nL 7.2 22.318125 \nz\n\" style=\"fill: #ffffff\"/>\n   </g>\n   <g id=\"patch_3\">\n    <path d=\"M 38.945455 310.873617 \nL 90.774768 310.873617 \nL 90.774768 36.058863 \nL 38.945455 36.058863 \nz\n\" clip-path=\"url(#pf581160d80)\" style=\"fill: #1f77b4\"/>\n   </g>\n   <g id=\"patch_4\">\n    <path d=\"M 103.732096 310.873617 \nL 155.56141 310.873617 \nL 155.56141 71.001392 \nL 103.732096 71.001392 \nz\n\" clip-path=\"url(#pf581160d80)\" style=\"fill: #1f77b4\"/>\n   </g>\n   <g id=\"patch_5\">\n    <path d=\"M 168.518738 310.873617 \nL 220.348052 310.873617 \nL 220.348052 160.872189 \nL 168.518738 160.872189 \nz\n\" clip-path=\"url(#pf581160d80)\" style=\"fill: #1f77b4\"/>\n   </g>\n   <g id=\"patch_6\">\n    <path d=\"M 233.30538 310.873617 \nL 285.134694 310.873617 \nL 285.134694 161.016699 \nL 233.30538 161.016699 \nz\n\" clip-path=\"url(#pf581160d80)\" style=\"fill: #1f77b4\"/>\n   </g>\n   <g id=\"patch_7\">\n    <path d=\"M 298.092022 310.873617 \nL 349.921336 310.873617 \nL 349.921336 178.560219 \nL 298.092022 178.560219 \nz\n\" clip-path=\"url(#pf581160d80)\" style=\"fill: #1f77b4\"/>\n   </g>\n   <g id=\"patch_8\">\n    <path d=\"M 362.878664 310.873617 \nL 414.707978 310.873617 \nL 414.707978 186.06029 \nL 362.878664 186.06029 \nz\n\" clip-path=\"url(#pf581160d80)\" style=\"fill: #1f77b4\"/>\n   </g>\n   <g id=\"patch_9\">\n    <path d=\"M 427.665306 310.873617 \nL 479.49462 310.873617 \nL 479.49462 201.060433 \nL 427.665306 201.060433 \nz\n\" clip-path=\"url(#pf581160d80)\" style=\"fill: #1f77b4\"/>\n   </g>\n   <g id=\"patch_10\">\n    <path d=\"M 492.451948 310.873617 \nL 544.281262 310.873617 \nL 544.281262 212.014295 \nL 492.451948 212.014295 \nz\n\" clip-path=\"url(#pf581160d80)\" style=\"fill: #1f77b4\"/>\n   </g>\n   <g id=\"patch_11\">\n    <path d=\"M 557.23859 310.873617 \nL 609.067904 310.873617 \nL 609.067904 216.060576 \nL 557.23859 216.060576 \nz\n\" clip-path=\"url(#pf581160d80)\" style=\"fill: #1f77b4\"/>\n   </g>\n   <g id=\"patch_12\">\n    <path d=\"M 622.025232 310.873617 \nL 673.854545 310.873617 \nL 673.854545 216.060576 \nL 622.025232 216.060576 \nz\n\" clip-path=\"url(#pf581160d80)\" style=\"fill: #1f77b4\"/>\n   </g>\n   <g id=\"matplotlib.axis_1\">\n    <g id=\"xtick_1\">\n     <g id=\"text_1\">\n      <!-- Domaine Ponsot Clos de La Roche Grand Cru Cuvee Vieilles Vignes - Magnum -->\n      <g style=\"fill: #787878\" transform=\"translate(50.70833 704.88663) rotate(-85) scale(0.1 -0.1)\">\n       <defs>\n        <path id=\"DejaVuSans-44\" d=\"M 1259 4147 \nL 1259 519 \nL 2022 519 \nQ 2988 519 3436 956 \nQ 3884 1394 3884 2338 \nQ 3884 3275 3436 3711 \nQ 2988 4147 2022 4147 \nL 1259 4147 \nz\nM 628 4666 \nL 1925 4666 \nQ 3281 4666 3915 4102 \nQ 4550 3538 4550 2338 \nQ 4550 1131 3912 565 \nQ 3275 0 1925 0 \nL 628 0 \nL 628 4666 \nz\n\" transform=\"scale(0.015625)\"/>\n        <path id=\"DejaVuSans-6f\" d=\"M 1959 3097 \nQ 1497 3097 1228 2736 \nQ 959 2375 959 1747 \nQ 959 1119 1226 758 \nQ 1494 397 1959 397 \nQ 2419 397 2687 759 \nQ 2956 1122 2956 1747 \nQ 2956 2369 2687 2733 \nQ 2419 3097 1959 3097 \nz\nM 1959 3584 \nQ 2709 3584 3137 3096 \nQ 3566 2609 3566 1747 \nQ 3566 888 3137 398 \nQ 2709 -91 1959 -91 \nQ 1206 -91 779 398 \nQ 353 888 353 1747 \nQ 353 2609 779 3096 \nQ 1206 3584 1959 3584 \nz\n\" transform=\"scale(0.015625)\"/>\n        <path id=\"DejaVuSans-6d\" d=\"M 3328 2828 \nQ 3544 3216 3844 3400 \nQ 4144 3584 4550 3584 \nQ 5097 3584 5394 3201 \nQ 5691 2819 5691 2113 \nL 5691 0 \nL 5113 0 \nL 5113 2094 \nQ 5113 2597 4934 2840 \nQ 4756 3084 4391 3084 \nQ 3944 3084 3684 2787 \nQ 3425 2491 3425 1978 \nL 3425 0 \nL 2847 0 \nL 2847 2094 \nQ 2847 2600 2669 2842 \nQ 2491 3084 2119 3084 \nQ 1678 3084 1418 2786 \nQ 1159 2488 1159 1978 \nL 1159 0 \nL 581 0 \nL 581 3500 \nL 1159 3500 \nL 1159 2956 \nQ 1356 3278 1631 3431 \nQ 1906 3584 2284 3584 \nQ 2666 3584 2933 3390 \nQ 3200 3197 3328 2828 \nz\n\" transform=\"scale(0.015625)\"/>\n        <path id=\"DejaVuSans-61\" d=\"M 2194 1759 \nQ 1497 1759 1228 1600 \nQ 959 1441 959 1056 \nQ 959 750 1161 570 \nQ 1363 391 1709 391 \nQ 2188 391 2477 730 \nQ 2766 1069 2766 1631 \nL 2766 1759 \nL 2194 1759 \nz\nM 3341 1997 \nL 3341 0 \nL 2766 0 \nL 2766 531 \nQ 2569 213 2275 61 \nQ 1981 -91 1556 -91 \nQ 1019 -91 701 211 \nQ 384 513 384 1019 \nQ 384 1609 779 1909 \nQ 1175 2209 1959 2209 \nL 2766 2209 \nL 2766 2266 \nQ 2766 2663 2505 2880 \nQ 2244 3097 1772 3097 \nQ 1472 3097 1187 3025 \nQ 903 2953 641 2809 \nL 641 3341 \nQ 956 3463 1253 3523 \nQ 1550 3584 1831 3584 \nQ 2591 3584 2966 3190 \nQ 3341 2797 3341 1997 \nz\n\" transform=\"scale(0.015625)\"/>\n        <path id=\"DejaVuSans-69\" d=\"M 603 3500 \nL 1178 3500 \nL 1178 0 \nL 603 0 \nL 603 3500 \nz\nM 603 4863 \nL 1178 4863 \nL 1178 4134 \nL 603 4134 \nL 603 4863 \nz\n\" transform=\"scale(0.015625)\"/>\n        <path id=\"DejaVuSans-6e\" d=\"M 3513 2113 \nL 3513 0 \nL 2938 0 \nL 2938 2094 \nQ 2938 2591 2744 2837 \nQ 2550 3084 2163 3084 \nQ 1697 3084 1428 2787 \nQ 1159 2491 1159 1978 \nL 1159 0 \nL 581 0 \nL 581 3500 \nL 1159 3500 \nL 1159 2956 \nQ 1366 3272 1645 3428 \nQ 1925 3584 2291 3584 \nQ 2894 3584 3203 3211 \nQ 3513 2838 3513 2113 \nz\n\" transform=\"scale(0.015625)\"/>\n        <path id=\"DejaVuSans-65\" d=\"M 3597 1894 \nL 3597 1613 \nL 953 1613 \nQ 991 1019 1311 708 \nQ 1631 397 2203 397 \nQ 2534 397 2845 478 \nQ 3156 559 3463 722 \nL 3463 178 \nQ 3153 47 2828 -22 \nQ 2503 -91 2169 -91 \nQ 1331 -91 842 396 \nQ 353 884 353 1716 \nQ 353 2575 817 3079 \nQ 1281 3584 2069 3584 \nQ 2775 3584 3186 3129 \nQ 3597 2675 3597 1894 \nz\nM 3022 2063 \nQ 3016 2534 2758 2815 \nQ 2500 3097 2075 3097 \nQ 1594 3097 1305 2825 \nQ 1016 2553 972 2059 \nL 3022 2063 \nz\n\" transform=\"scale(0.015625)\"/>\n        <path id=\"DejaVuSans-20\" transform=\"scale(0.015625)\"/>\n        <path id=\"DejaVuSans-50\" d=\"M 1259 4147 \nL 1259 2394 \nL 2053 2394 \nQ 2494 2394 2734 2622 \nQ 2975 2850 2975 3272 \nQ 2975 3691 2734 3919 \nQ 2494 4147 2053 4147 \nL 1259 4147 \nz\nM 628 4666 \nL 2053 4666 \nQ 2838 4666 3239 4311 \nQ 3641 3956 3641 3272 \nQ 3641 2581 3239 2228 \nQ 2838 1875 2053 1875 \nL 1259 1875 \nL 1259 0 \nL 628 0 \nL 628 4666 \nz\n\" transform=\"scale(0.015625)\"/>\n        <path id=\"DejaVuSans-73\" d=\"M 2834 3397 \nL 2834 2853 \nQ 2591 2978 2328 3040 \nQ 2066 3103 1784 3103 \nQ 1356 3103 1142 2972 \nQ 928 2841 928 2578 \nQ 928 2378 1081 2264 \nQ 1234 2150 1697 2047 \nL 1894 2003 \nQ 2506 1872 2764 1633 \nQ 3022 1394 3022 966 \nQ 3022 478 2636 193 \nQ 2250 -91 1575 -91 \nQ 1294 -91 989 -36 \nQ 684 19 347 128 \nL 347 722 \nQ 666 556 975 473 \nQ 1284 391 1588 391 \nQ 1994 391 2212 530 \nQ 2431 669 2431 922 \nQ 2431 1156 2273 1281 \nQ 2116 1406 1581 1522 \nL 1381 1569 \nQ 847 1681 609 1914 \nQ 372 2147 372 2553 \nQ 372 3047 722 3315 \nQ 1072 3584 1716 3584 \nQ 2034 3584 2315 3537 \nQ 2597 3491 2834 3397 \nz\n\" transform=\"scale(0.015625)\"/>\n        <path id=\"DejaVuSans-74\" d=\"M 1172 4494 \nL 1172 3500 \nL 2356 3500 \nL 2356 3053 \nL 1172 3053 \nL 1172 1153 \nQ 1172 725 1289 603 \nQ 1406 481 1766 481 \nL 2356 481 \nL 2356 0 \nL 1766 0 \nQ 1100 0 847 248 \nQ 594 497 594 1153 \nL 594 3053 \nL 172 3053 \nL 172 3500 \nL 594 3500 \nL 594 4494 \nL 1172 4494 \nz\n\" transform=\"scale(0.015625)\"/>\n        <path id=\"DejaVuSans-43\" d=\"M 4122 4306 \nL 4122 3641 \nQ 3803 3938 3442 4084 \nQ 3081 4231 2675 4231 \nQ 1875 4231 1450 3742 \nQ 1025 3253 1025 2328 \nQ 1025 1406 1450 917 \nQ 1875 428 2675 428 \nQ 3081 428 3442 575 \nQ 3803 722 4122 1019 \nL 4122 359 \nQ 3791 134 3420 21 \nQ 3050 -91 2638 -91 \nQ 1578 -91 968 557 \nQ 359 1206 359 2328 \nQ 359 3453 968 4101 \nQ 1578 4750 2638 4750 \nQ 3056 4750 3426 4639 \nQ 3797 4528 4122 4306 \nz\n\" transform=\"scale(0.015625)\"/>\n        <path id=\"DejaVuSans-6c\" d=\"M 603 4863 \nL 1178 4863 \nL 1178 0 \nL 603 0 \nL 603 4863 \nz\n\" transform=\"scale(0.015625)\"/>\n        <path id=\"DejaVuSans-64\" d=\"M 2906 2969 \nL 2906 4863 \nL 3481 4863 \nL 3481 0 \nL 2906 0 \nL 2906 525 \nQ 2725 213 2448 61 \nQ 2172 -91 1784 -91 \nQ 1150 -91 751 415 \nQ 353 922 353 1747 \nQ 353 2572 751 3078 \nQ 1150 3584 1784 3584 \nQ 2172 3584 2448 3432 \nQ 2725 3281 2906 2969 \nz\nM 947 1747 \nQ 947 1113 1208 752 \nQ 1469 391 1925 391 \nQ 2381 391 2643 752 \nQ 2906 1113 2906 1747 \nQ 2906 2381 2643 2742 \nQ 2381 3103 1925 3103 \nQ 1469 3103 1208 2742 \nQ 947 2381 947 1747 \nz\n\" transform=\"scale(0.015625)\"/>\n        <path id=\"DejaVuSans-4c\" d=\"M 628 4666 \nL 1259 4666 \nL 1259 531 \nL 3531 531 \nL 3531 0 \nL 628 0 \nL 628 4666 \nz\n\" transform=\"scale(0.015625)\"/>\n        <path id=\"DejaVuSans-52\" d=\"M 2841 2188 \nQ 3044 2119 3236 1894 \nQ 3428 1669 3622 1275 \nL 4263 0 \nL 3584 0 \nL 2988 1197 \nQ 2756 1666 2539 1819 \nQ 2322 1972 1947 1972 \nL 1259 1972 \nL 1259 0 \nL 628 0 \nL 628 4666 \nL 2053 4666 \nQ 2853 4666 3247 4331 \nQ 3641 3997 3641 3322 \nQ 3641 2881 3436 2590 \nQ 3231 2300 2841 2188 \nz\nM 1259 4147 \nL 1259 2491 \nL 2053 2491 \nQ 2509 2491 2742 2702 \nQ 2975 2913 2975 3322 \nQ 2975 3731 2742 3939 \nQ 2509 4147 2053 4147 \nL 1259 4147 \nz\n\" transform=\"scale(0.015625)\"/>\n        <path id=\"DejaVuSans-63\" d=\"M 3122 3366 \nL 3122 2828 \nQ 2878 2963 2633 3030 \nQ 2388 3097 2138 3097 \nQ 1578 3097 1268 2742 \nQ 959 2388 959 1747 \nQ 959 1106 1268 751 \nQ 1578 397 2138 397 \nQ 2388 397 2633 464 \nQ 2878 531 3122 666 \nL 3122 134 \nQ 2881 22 2623 -34 \nQ 2366 -91 2075 -91 \nQ 1284 -91 818 406 \nQ 353 903 353 1747 \nQ 353 2603 823 3093 \nQ 1294 3584 2113 3584 \nQ 2378 3584 2631 3529 \nQ 2884 3475 3122 3366 \nz\n\" transform=\"scale(0.015625)\"/>\n        <path id=\"DejaVuSans-68\" d=\"M 3513 2113 \nL 3513 0 \nL 2938 0 \nL 2938 2094 \nQ 2938 2591 2744 2837 \nQ 2550 3084 2163 3084 \nQ 1697 3084 1428 2787 \nQ 1159 2491 1159 1978 \nL 1159 0 \nL 581 0 \nL 581 4863 \nL 1159 4863 \nL 1159 2956 \nQ 1366 3272 1645 3428 \nQ 1925 3584 2291 3584 \nQ 2894 3584 3203 3211 \nQ 3513 2838 3513 2113 \nz\n\" transform=\"scale(0.015625)\"/>\n        <path id=\"DejaVuSans-47\" d=\"M 3809 666 \nL 3809 1919 \nL 2778 1919 \nL 2778 2438 \nL 4434 2438 \nL 4434 434 \nQ 4069 175 3628 42 \nQ 3188 -91 2688 -91 \nQ 1594 -91 976 548 \nQ 359 1188 359 2328 \nQ 359 3472 976 4111 \nQ 1594 4750 2688 4750 \nQ 3144 4750 3555 4637 \nQ 3966 4525 4313 4306 \nL 4313 3634 \nQ 3963 3931 3569 4081 \nQ 3175 4231 2741 4231 \nQ 1884 4231 1454 3753 \nQ 1025 3275 1025 2328 \nQ 1025 1384 1454 906 \nQ 1884 428 2741 428 \nQ 3075 428 3337 486 \nQ 3600 544 3809 666 \nz\n\" transform=\"scale(0.015625)\"/>\n        <path id=\"DejaVuSans-72\" d=\"M 2631 2963 \nQ 2534 3019 2420 3045 \nQ 2306 3072 2169 3072 \nQ 1681 3072 1420 2755 \nQ 1159 2438 1159 1844 \nL 1159 0 \nL 581 0 \nL 581 3500 \nL 1159 3500 \nL 1159 2956 \nQ 1341 3275 1631 3429 \nQ 1922 3584 2338 3584 \nQ 2397 3584 2469 3576 \nQ 2541 3569 2628 3553 \nL 2631 2963 \nz\n\" transform=\"scale(0.015625)\"/>\n        <path id=\"DejaVuSans-75\" d=\"M 544 1381 \nL 544 3500 \nL 1119 3500 \nL 1119 1403 \nQ 1119 906 1312 657 \nQ 1506 409 1894 409 \nQ 2359 409 2629 706 \nQ 2900 1003 2900 1516 \nL 2900 3500 \nL 3475 3500 \nL 3475 0 \nL 2900 0 \nL 2900 538 \nQ 2691 219 2414 64 \nQ 2138 -91 1772 -91 \nQ 1169 -91 856 284 \nQ 544 659 544 1381 \nz\nM 1991 3584 \nL 1991 3584 \nz\n\" transform=\"scale(0.015625)\"/>\n        <path id=\"DejaVuSans-76\" d=\"M 191 3500 \nL 800 3500 \nL 1894 563 \nL 2988 3500 \nL 3597 3500 \nL 2284 0 \nL 1503 0 \nL 191 3500 \nz\n\" transform=\"scale(0.015625)\"/>\n        <path id=\"DejaVuSans-56\" d=\"M 1831 0 \nL 50 4666 \nL 709 4666 \nL 2188 738 \nL 3669 4666 \nL 4325 4666 \nL 2547 0 \nL 1831 0 \nz\n\" transform=\"scale(0.015625)\"/>\n        <path id=\"DejaVuSans-67\" d=\"M 2906 1791 \nQ 2906 2416 2648 2759 \nQ 2391 3103 1925 3103 \nQ 1463 3103 1205 2759 \nQ 947 2416 947 1791 \nQ 947 1169 1205 825 \nQ 1463 481 1925 481 \nQ 2391 481 2648 825 \nQ 2906 1169 2906 1791 \nz\nM 3481 434 \nQ 3481 -459 3084 -895 \nQ 2688 -1331 1869 -1331 \nQ 1566 -1331 1297 -1286 \nQ 1028 -1241 775 -1147 \nL 775 -588 \nQ 1028 -725 1275 -790 \nQ 1522 -856 1778 -856 \nQ 2344 -856 2625 -561 \nQ 2906 -266 2906 331 \nL 2906 616 \nQ 2728 306 2450 153 \nQ 2172 0 1784 0 \nQ 1141 0 747 490 \nQ 353 981 353 1791 \nQ 353 2603 747 3093 \nQ 1141 3584 1784 3584 \nQ 2172 3584 2450 3431 \nQ 2728 3278 2906 2969 \nL 2906 3500 \nL 3481 3500 \nL 3481 434 \nz\n\" transform=\"scale(0.015625)\"/>\n        <path id=\"DejaVuSans-2d\" d=\"M 313 2009 \nL 1997 2009 \nL 1997 1497 \nL 313 1497 \nL 313 2009 \nz\n\" transform=\"scale(0.015625)\"/>\n        <path id=\"DejaVuSans-4d\" d=\"M 628 4666 \nL 1569 4666 \nL 2759 1491 \nL 3956 4666 \nL 4897 4666 \nL 4897 0 \nL 4281 0 \nL 4281 4097 \nL 3078 897 \nL 2444 897 \nL 1241 4097 \nL 1241 0 \nL 628 0 \nL 628 4666 \nz\n\" transform=\"scale(0.015625)\"/>\n       </defs>\n       <use xlink:href=\"#DejaVuSans-44\"/>\n       <use xlink:href=\"#DejaVuSans-6f\" x=\"77.001953\"/>\n       <use xlink:href=\"#DejaVuSans-6d\" x=\"138.183594\"/>\n       <use xlink:href=\"#DejaVuSans-61\" x=\"235.595703\"/>\n       <use xlink:href=\"#DejaVuSans-69\" x=\"296.875\"/>\n       <use xlink:href=\"#DejaVuSans-6e\" x=\"324.658203\"/>\n       <use xlink:href=\"#DejaVuSans-65\" x=\"388.037109\"/>\n       <use xlink:href=\"#DejaVuSans-20\" x=\"449.560547\"/>\n       <use xlink:href=\"#DejaVuSans-50\" x=\"481.347656\"/>\n       <use xlink:href=\"#DejaVuSans-6f\" x=\"538.025391\"/>\n       <use xlink:href=\"#DejaVuSans-6e\" x=\"599.207031\"/>\n       <use xlink:href=\"#DejaVuSans-73\" x=\"662.585938\"/>\n       <use xlink:href=\"#DejaVuSans-6f\" x=\"714.685547\"/>\n       <use xlink:href=\"#DejaVuSans-74\" x=\"775.867188\"/>\n       <use xlink:href=\"#DejaVuSans-20\" x=\"815.076172\"/>\n       <use xlink:href=\"#DejaVuSans-43\" x=\"846.863281\"/>\n       <use xlink:href=\"#DejaVuSans-6c\" x=\"916.6875\"/>\n       <use xlink:href=\"#DejaVuSans-6f\" x=\"944.470703\"/>\n       <use xlink:href=\"#DejaVuSans-73\" x=\"1005.652344\"/>\n       <use xlink:href=\"#DejaVuSans-20\" x=\"1057.751953\"/>\n       <use xlink:href=\"#DejaVuSans-64\" x=\"1089.539062\"/>\n       <use xlink:href=\"#DejaVuSans-65\" x=\"1153.015625\"/>\n       <use xlink:href=\"#DejaVuSans-20\" x=\"1214.539062\"/>\n       <use xlink:href=\"#DejaVuSans-4c\" x=\"1246.326172\"/>\n       <use xlink:href=\"#DejaVuSans-61\" x=\"1302.039062\"/>\n       <use xlink:href=\"#DejaVuSans-20\" x=\"1363.318359\"/>\n       <use xlink:href=\"#DejaVuSans-52\" x=\"1395.105469\"/>\n       <use xlink:href=\"#DejaVuSans-6f\" x=\"1460.087891\"/>\n       <use xlink:href=\"#DejaVuSans-63\" x=\"1521.269531\"/>\n       <use xlink:href=\"#DejaVuSans-68\" x=\"1576.25\"/>\n       <use xlink:href=\"#DejaVuSans-65\" x=\"1639.628906\"/>\n       <use xlink:href=\"#DejaVuSans-20\" x=\"1701.152344\"/>\n       <use xlink:href=\"#DejaVuSans-47\" x=\"1732.939453\"/>\n       <use xlink:href=\"#DejaVuSans-72\" x=\"1810.429688\"/>\n       <use xlink:href=\"#DejaVuSans-61\" x=\"1851.542969\"/>\n       <use xlink:href=\"#DejaVuSans-6e\" x=\"1912.822266\"/>\n       <use xlink:href=\"#DejaVuSans-64\" x=\"1976.201172\"/>\n       <use xlink:href=\"#DejaVuSans-20\" x=\"2039.677734\"/>\n       <use xlink:href=\"#DejaVuSans-43\" x=\"2071.464844\"/>\n       <use xlink:href=\"#DejaVuSans-72\" x=\"2141.289062\"/>\n       <use xlink:href=\"#DejaVuSans-75\" x=\"2182.402344\"/>\n       <use xlink:href=\"#DejaVuSans-20\" x=\"2245.78125\"/>\n       <use xlink:href=\"#DejaVuSans-43\" x=\"2277.568359\"/>\n       <use xlink:href=\"#DejaVuSans-75\" x=\"2347.392578\"/>\n       <use xlink:href=\"#DejaVuSans-76\" x=\"2410.771484\"/>\n       <use xlink:href=\"#DejaVuSans-65\" x=\"2469.951172\"/>\n       <use xlink:href=\"#DejaVuSans-65\" x=\"2531.474609\"/>\n       <use xlink:href=\"#DejaVuSans-20\" x=\"2592.998047\"/>\n       <use xlink:href=\"#DejaVuSans-56\" x=\"2624.785156\"/>\n       <use xlink:href=\"#DejaVuSans-69\" x=\"2690.943359\"/>\n       <use xlink:href=\"#DejaVuSans-65\" x=\"2718.726562\"/>\n       <use xlink:href=\"#DejaVuSans-69\" x=\"2780.25\"/>\n       <use xlink:href=\"#DejaVuSans-6c\" x=\"2808.033203\"/>\n       <use xlink:href=\"#DejaVuSans-6c\" x=\"2835.816406\"/>\n       <use xlink:href=\"#DejaVuSans-65\" x=\"2863.599609\"/>\n       <use xlink:href=\"#DejaVuSans-73\" x=\"2925.123047\"/>\n       <use xlink:href=\"#DejaVuSans-20\" x=\"2977.222656\"/>\n       <use xlink:href=\"#DejaVuSans-56\" x=\"3009.009766\"/>\n       <use xlink:href=\"#DejaVuSans-69\" x=\"3075.167969\"/>\n       <use xlink:href=\"#DejaVuSans-67\" x=\"3102.951172\"/>\n       <use xlink:href=\"#DejaVuSans-6e\" x=\"3166.427734\"/>\n       <use xlink:href=\"#DejaVuSans-65\" x=\"3229.806641\"/>\n       <use xlink:href=\"#DejaVuSans-73\" x=\"3291.330078\"/>\n       <use xlink:href=\"#DejaVuSans-20\" x=\"3343.429688\"/>\n       <use xlink:href=\"#DejaVuSans-2d\" x=\"3375.216797\"/>\n       <use xlink:href=\"#DejaVuSans-20\" x=\"3411.300781\"/>\n       <use xlink:href=\"#DejaVuSans-4d\" x=\"3443.087891\"/>\n       <use xlink:href=\"#DejaVuSans-61\" x=\"3529.367188\"/>\n       <use xlink:href=\"#DejaVuSans-67\" x=\"3590.646484\"/>\n       <use xlink:href=\"#DejaVuSans-6e\" x=\"3654.123047\"/>\n       <use xlink:href=\"#DejaVuSans-75\" x=\"3717.501953\"/>\n       <use xlink:href=\"#DejaVuSans-6d\" x=\"3780.880859\"/>\n      </g>\n     </g>\n    </g>\n    <g id=\"xtick_2\">\n     <g id=\"text_2\">\n      <!-- Latour -->\n      <g style=\"fill: #787878\" transform=\"translate(130.992965 350.600881) rotate(-85) scale(0.1 -0.1)\">\n       <use xlink:href=\"#DejaVuSans-4c\"/>\n       <use xlink:href=\"#DejaVuSans-61\" x=\"55.712891\"/>\n       <use xlink:href=\"#DejaVuSans-74\" x=\"116.992188\"/>\n       <use xlink:href=\"#DejaVuSans-6f\" x=\"156.201172\"/>\n       <use xlink:href=\"#DejaVuSans-75\" x=\"217.382812\"/>\n       <use xlink:href=\"#DejaVuSans-72\" x=\"280.761719\"/>\n      </g>\n     </g>\n    </g>\n    <g id=\"xtick_3\">\n     <g id=\"text_3\">\n      <!-- Château Pavie -->\n      <g style=\"fill: #787878\" transform=\"translate(194.056715 389.986372) rotate(-85) scale(0.1 -0.1)\">\n       <defs>\n        <path id=\"DejaVuSans-e2\" d=\"M 2194 1759 \nQ 1497 1759 1228 1600 \nQ 959 1441 959 1056 \nQ 959 750 1161 570 \nQ 1363 391 1709 391 \nQ 2188 391 2477 730 \nQ 2766 1069 2766 1631 \nL 2766 1759 \nL 2194 1759 \nz\nM 3341 1997 \nL 3341 0 \nL 2766 0 \nL 2766 531 \nQ 2569 213 2275 61 \nQ 1981 -91 1556 -91 \nQ 1019 -91 701 211 \nQ 384 513 384 1019 \nQ 384 1609 779 1909 \nQ 1175 2209 1959 2209 \nL 2766 2209 \nL 2766 2266 \nQ 2766 2663 2505 2880 \nQ 2244 3097 1772 3097 \nQ 1472 3097 1187 3025 \nQ 903 2953 641 2809 \nL 641 3341 \nQ 956 3463 1253 3523 \nQ 1550 3584 1831 3584 \nQ 2591 3584 2966 3190 \nQ 3341 2797 3341 1997 \nz\nM 1625 5119 \nL 2087 5119 \nL 2853 3944 \nL 2419 3944 \nL 1856 4709 \nL 1294 3944 \nL 859 3944 \nL 1625 5119 \nz\n\" transform=\"scale(0.015625)\"/>\n       </defs>\n       <use xlink:href=\"#DejaVuSans-43\"/>\n       <use xlink:href=\"#DejaVuSans-68\" x=\"69.824219\"/>\n       <use xlink:href=\"#DejaVuSans-e2\" x=\"133.203125\"/>\n       <use xlink:href=\"#DejaVuSans-74\" x=\"194.482422\"/>\n       <use xlink:href=\"#DejaVuSans-65\" x=\"233.691406\"/>\n       <use xlink:href=\"#DejaVuSans-61\" x=\"295.214844\"/>\n       <use xlink:href=\"#DejaVuSans-75\" x=\"356.494141\"/>\n       <use xlink:href=\"#DejaVuSans-20\" x=\"419.873047\"/>\n       <use xlink:href=\"#DejaVuSans-50\" x=\"451.660156\"/>\n       <use xlink:href=\"#DejaVuSans-61\" x=\"507.462891\"/>\n       <use xlink:href=\"#DejaVuSans-76\" x=\"568.742188\"/>\n       <use xlink:href=\"#DejaVuSans-69\" x=\"627.921875\"/>\n       <use xlink:href=\"#DejaVuSans-65\" x=\"655.705078\"/>\n      </g>\n     </g>\n    </g>\n    <g id=\"xtick_4\">\n     <g id=\"text_4\">\n      <!-- Domaine Ponsot Clos de La Roche Grand Cru Cuvee Vieilles Vignes -->\n      <g style=\"fill: #787878\" transform=\"translate(247.398991 651.605779) rotate(-85) scale(0.1 -0.1)\">\n       <use xlink:href=\"#DejaVuSans-44\"/>\n       <use xlink:href=\"#DejaVuSans-6f\" x=\"77.001953\"/>\n       <use xlink:href=\"#DejaVuSans-6d\" x=\"138.183594\"/>\n       <use xlink:href=\"#DejaVuSans-61\" x=\"235.595703\"/>\n       <use xlink:href=\"#DejaVuSans-69\" x=\"296.875\"/>\n       <use xlink:href=\"#DejaVuSans-6e\" x=\"324.658203\"/>\n       <use xlink:href=\"#DejaVuSans-65\" x=\"388.037109\"/>\n       <use xlink:href=\"#DejaVuSans-20\" x=\"449.560547\"/>\n       <use xlink:href=\"#DejaVuSans-50\" x=\"481.347656\"/>\n       <use xlink:href=\"#DejaVuSans-6f\" x=\"538.025391\"/>\n       <use xlink:href=\"#DejaVuSans-6e\" x=\"599.207031\"/>\n       <use xlink:href=\"#DejaVuSans-73\" x=\"662.585938\"/>\n       <use xlink:href=\"#DejaVuSans-6f\" x=\"714.685547\"/>\n       <use xlink:href=\"#DejaVuSans-74\" x=\"775.867188\"/>\n       <use xlink:href=\"#DejaVuSans-20\" x=\"815.076172\"/>\n       <use xlink:href=\"#DejaVuSans-43\" x=\"846.863281\"/>\n       <use xlink:href=\"#DejaVuSans-6c\" x=\"916.6875\"/>\n       <use xlink:href=\"#DejaVuSans-6f\" x=\"944.470703\"/>\n       <use xlink:href=\"#DejaVuSans-73\" x=\"1005.652344\"/>\n       <use xlink:href=\"#DejaVuSans-20\" x=\"1057.751953\"/>\n       <use xlink:href=\"#DejaVuSans-64\" x=\"1089.539062\"/>\n       <use xlink:href=\"#DejaVuSans-65\" x=\"1153.015625\"/>\n       <use xlink:href=\"#DejaVuSans-20\" x=\"1214.539062\"/>\n       <use xlink:href=\"#DejaVuSans-4c\" x=\"1246.326172\"/>\n       <use xlink:href=\"#DejaVuSans-61\" x=\"1302.039062\"/>\n       <use xlink:href=\"#DejaVuSans-20\" x=\"1363.318359\"/>\n       <use xlink:href=\"#DejaVuSans-52\" x=\"1395.105469\"/>\n       <use xlink:href=\"#DejaVuSans-6f\" x=\"1460.087891\"/>\n       <use xlink:href=\"#DejaVuSans-63\" x=\"1521.269531\"/>\n       <use xlink:href=\"#DejaVuSans-68\" x=\"1576.25\"/>\n       <use xlink:href=\"#DejaVuSans-65\" x=\"1639.628906\"/>\n       <use xlink:href=\"#DejaVuSans-20\" x=\"1701.152344\"/>\n       <use xlink:href=\"#DejaVuSans-47\" x=\"1732.939453\"/>\n       <use xlink:href=\"#DejaVuSans-72\" x=\"1810.429688\"/>\n       <use xlink:href=\"#DejaVuSans-61\" x=\"1851.542969\"/>\n       <use xlink:href=\"#DejaVuSans-6e\" x=\"1912.822266\"/>\n       <use xlink:href=\"#DejaVuSans-64\" x=\"1976.201172\"/>\n       <use xlink:href=\"#DejaVuSans-20\" x=\"2039.677734\"/>\n       <use xlink:href=\"#DejaVuSans-43\" x=\"2071.464844\"/>\n       <use xlink:href=\"#DejaVuSans-72\" x=\"2141.289062\"/>\n       <use xlink:href=\"#DejaVuSans-75\" x=\"2182.402344\"/>\n       <use xlink:href=\"#DejaVuSans-20\" x=\"2245.78125\"/>\n       <use xlink:href=\"#DejaVuSans-43\" x=\"2277.568359\"/>\n       <use xlink:href=\"#DejaVuSans-75\" x=\"2347.392578\"/>\n       <use xlink:href=\"#DejaVuSans-76\" x=\"2410.771484\"/>\n       <use xlink:href=\"#DejaVuSans-65\" x=\"2469.951172\"/>\n       <use xlink:href=\"#DejaVuSans-65\" x=\"2531.474609\"/>\n       <use xlink:href=\"#DejaVuSans-20\" x=\"2592.998047\"/>\n       <use xlink:href=\"#DejaVuSans-56\" x=\"2624.785156\"/>\n       <use xlink:href=\"#DejaVuSans-69\" x=\"2690.943359\"/>\n       <use xlink:href=\"#DejaVuSans-65\" x=\"2718.726562\"/>\n       <use xlink:href=\"#DejaVuSans-69\" x=\"2780.25\"/>\n       <use xlink:href=\"#DejaVuSans-6c\" x=\"2808.033203\"/>\n       <use xlink:href=\"#DejaVuSans-6c\" x=\"2835.816406\"/>\n       <use xlink:href=\"#DejaVuSans-65\" x=\"2863.599609\"/>\n       <use xlink:href=\"#DejaVuSans-73\" x=\"2925.123047\"/>\n       <use xlink:href=\"#DejaVuSans-20\" x=\"2977.222656\"/>\n       <use xlink:href=\"#DejaVuSans-56\" x=\"3009.009766\"/>\n       <use xlink:href=\"#DejaVuSans-69\" x=\"3075.167969\"/>\n       <use xlink:href=\"#DejaVuSans-67\" x=\"3102.951172\"/>\n       <use xlink:href=\"#DejaVuSans-6e\" x=\"3166.427734\"/>\n       <use xlink:href=\"#DejaVuSans-65\" x=\"3229.806641\"/>\n       <use xlink:href=\"#DejaVuSans-73\" x=\"3291.330078\"/>\n      </g>\n     </g>\n    </g>\n    <g id=\"xtick_5\">\n     <g id=\"text_5\">\n      <!-- Domaine Ponsot Clos de La Roche Grand Cru Cuvee Vieilles Vignes -->\n      <g style=\"fill: #787878\" transform=\"translate(312.185633 651.605779) rotate(-85) scale(0.1 -0.1)\">\n       <use xlink:href=\"#DejaVuSans-44\"/>\n       <use xlink:href=\"#DejaVuSans-6f\" x=\"77.001953\"/>\n       <use xlink:href=\"#DejaVuSans-6d\" x=\"138.183594\"/>\n       <use xlink:href=\"#DejaVuSans-61\" x=\"235.595703\"/>\n       <use xlink:href=\"#DejaVuSans-69\" x=\"296.875\"/>\n       <use xlink:href=\"#DejaVuSans-6e\" x=\"324.658203\"/>\n       <use xlink:href=\"#DejaVuSans-65\" x=\"388.037109\"/>\n       <use xlink:href=\"#DejaVuSans-20\" x=\"449.560547\"/>\n       <use xlink:href=\"#DejaVuSans-50\" x=\"481.347656\"/>\n       <use xlink:href=\"#DejaVuSans-6f\" x=\"538.025391\"/>\n       <use xlink:href=\"#DejaVuSans-6e\" x=\"599.207031\"/>\n       <use xlink:href=\"#DejaVuSans-73\" x=\"662.585938\"/>\n       <use xlink:href=\"#DejaVuSans-6f\" x=\"714.685547\"/>\n       <use xlink:href=\"#DejaVuSans-74\" x=\"775.867188\"/>\n       <use xlink:href=\"#DejaVuSans-20\" x=\"815.076172\"/>\n       <use xlink:href=\"#DejaVuSans-43\" x=\"846.863281\"/>\n       <use xlink:href=\"#DejaVuSans-6c\" x=\"916.6875\"/>\n       <use xlink:href=\"#DejaVuSans-6f\" x=\"944.470703\"/>\n       <use xlink:href=\"#DejaVuSans-73\" x=\"1005.652344\"/>\n       <use xlink:href=\"#DejaVuSans-20\" x=\"1057.751953\"/>\n       <use xlink:href=\"#DejaVuSans-64\" x=\"1089.539062\"/>\n       <use xlink:href=\"#DejaVuSans-65\" x=\"1153.015625\"/>\n       <use xlink:href=\"#DejaVuSans-20\" x=\"1214.539062\"/>\n       <use xlink:href=\"#DejaVuSans-4c\" x=\"1246.326172\"/>\n       <use xlink:href=\"#DejaVuSans-61\" x=\"1302.039062\"/>\n       <use xlink:href=\"#DejaVuSans-20\" x=\"1363.318359\"/>\n       <use xlink:href=\"#DejaVuSans-52\" x=\"1395.105469\"/>\n       <use xlink:href=\"#DejaVuSans-6f\" x=\"1460.087891\"/>\n       <use xlink:href=\"#DejaVuSans-63\" x=\"1521.269531\"/>\n       <use xlink:href=\"#DejaVuSans-68\" x=\"1576.25\"/>\n       <use xlink:href=\"#DejaVuSans-65\" x=\"1639.628906\"/>\n       <use xlink:href=\"#DejaVuSans-20\" x=\"1701.152344\"/>\n       <use xlink:href=\"#DejaVuSans-47\" x=\"1732.939453\"/>\n       <use xlink:href=\"#DejaVuSans-72\" x=\"1810.429688\"/>\n       <use xlink:href=\"#DejaVuSans-61\" x=\"1851.542969\"/>\n       <use xlink:href=\"#DejaVuSans-6e\" x=\"1912.822266\"/>\n       <use xlink:href=\"#DejaVuSans-64\" x=\"1976.201172\"/>\n       <use xlink:href=\"#DejaVuSans-20\" x=\"2039.677734\"/>\n       <use xlink:href=\"#DejaVuSans-43\" x=\"2071.464844\"/>\n       <use xlink:href=\"#DejaVuSans-72\" x=\"2141.289062\"/>\n       <use xlink:href=\"#DejaVuSans-75\" x=\"2182.402344\"/>\n       <use xlink:href=\"#DejaVuSans-20\" x=\"2245.78125\"/>\n       <use xlink:href=\"#DejaVuSans-43\" x=\"2277.568359\"/>\n       <use xlink:href=\"#DejaVuSans-75\" x=\"2347.392578\"/>\n       <use xlink:href=\"#DejaVuSans-76\" x=\"2410.771484\"/>\n       <use xlink:href=\"#DejaVuSans-65\" x=\"2469.951172\"/>\n       <use xlink:href=\"#DejaVuSans-65\" x=\"2531.474609\"/>\n       <use xlink:href=\"#DejaVuSans-20\" x=\"2592.998047\"/>\n       <use xlink:href=\"#DejaVuSans-56\" x=\"2624.785156\"/>\n       <use xlink:href=\"#DejaVuSans-69\" x=\"2690.943359\"/>\n       <use xlink:href=\"#DejaVuSans-65\" x=\"2718.726562\"/>\n       <use xlink:href=\"#DejaVuSans-69\" x=\"2780.25\"/>\n       <use xlink:href=\"#DejaVuSans-6c\" x=\"2808.033203\"/>\n       <use xlink:href=\"#DejaVuSans-6c\" x=\"2835.816406\"/>\n       <use xlink:href=\"#DejaVuSans-65\" x=\"2863.599609\"/>\n       <use xlink:href=\"#DejaVuSans-73\" x=\"2925.123047\"/>\n       <use xlink:href=\"#DejaVuSans-20\" x=\"2977.222656\"/>\n       <use xlink:href=\"#DejaVuSans-56\" x=\"3009.009766\"/>\n       <use xlink:href=\"#DejaVuSans-69\" x=\"3075.167969\"/>\n       <use xlink:href=\"#DejaVuSans-67\" x=\"3102.951172\"/>\n       <use xlink:href=\"#DejaVuSans-6e\" x=\"3166.427734\"/>\n       <use xlink:href=\"#DejaVuSans-65\" x=\"3229.806641\"/>\n       <use xlink:href=\"#DejaVuSans-73\" x=\"3291.330078\"/>\n      </g>\n     </g>\n    </g>\n    <g id=\"xtick_6\">\n     <g id=\"text_6\">\n      <!-- Aalto PS  - 3.0L (Double Magnum) -->\n      <g style=\"fill: #787878\" transform=\"translate(384.174267 486.967483) rotate(-85) scale(0.1 -0.1)\">\n       <defs>\n        <path id=\"DejaVuSans-41\" d=\"M 2188 4044 \nL 1331 1722 \nL 3047 1722 \nL 2188 4044 \nz\nM 1831 4666 \nL 2547 4666 \nL 4325 0 \nL 3669 0 \nL 3244 1197 \nL 1141 1197 \nL 716 0 \nL 50 0 \nL 1831 4666 \nz\n\" transform=\"scale(0.015625)\"/>\n        <path id=\"DejaVuSans-53\" d=\"M 3425 4513 \nL 3425 3897 \nQ 3066 4069 2747 4153 \nQ 2428 4238 2131 4238 \nQ 1616 4238 1336 4038 \nQ 1056 3838 1056 3469 \nQ 1056 3159 1242 3001 \nQ 1428 2844 1947 2747 \nL 2328 2669 \nQ 3034 2534 3370 2195 \nQ 3706 1856 3706 1288 \nQ 3706 609 3251 259 \nQ 2797 -91 1919 -91 \nQ 1588 -91 1214 -16 \nQ 841 59 441 206 \nL 441 856 \nQ 825 641 1194 531 \nQ 1563 422 1919 422 \nQ 2459 422 2753 634 \nQ 3047 847 3047 1241 \nQ 3047 1584 2836 1778 \nQ 2625 1972 2144 2069 \nL 1759 2144 \nQ 1053 2284 737 2584 \nQ 422 2884 422 3419 \nQ 422 4038 858 4394 \nQ 1294 4750 2059 4750 \nQ 2388 4750 2728 4690 \nQ 3069 4631 3425 4513 \nz\n\" transform=\"scale(0.015625)\"/>\n        <path id=\"DejaVuSans-33\" d=\"M 2597 2516 \nQ 3050 2419 3304 2112 \nQ 3559 1806 3559 1356 \nQ 3559 666 3084 287 \nQ 2609 -91 1734 -91 \nQ 1441 -91 1130 -33 \nQ 819 25 488 141 \nL 488 750 \nQ 750 597 1062 519 \nQ 1375 441 1716 441 \nQ 2309 441 2620 675 \nQ 2931 909 2931 1356 \nQ 2931 1769 2642 2001 \nQ 2353 2234 1838 2234 \nL 1294 2234 \nL 1294 2753 \nL 1863 2753 \nQ 2328 2753 2575 2939 \nQ 2822 3125 2822 3475 \nQ 2822 3834 2567 4026 \nQ 2313 4219 1838 4219 \nQ 1578 4219 1281 4162 \nQ 984 4106 628 3988 \nL 628 4550 \nQ 988 4650 1302 4700 \nQ 1616 4750 1894 4750 \nQ 2613 4750 3031 4423 \nQ 3450 4097 3450 3541 \nQ 3450 3153 3228 2886 \nQ 3006 2619 2597 2516 \nz\n\" transform=\"scale(0.015625)\"/>\n        <path id=\"DejaVuSans-2e\" d=\"M 684 794 \nL 1344 794 \nL 1344 0 \nL 684 0 \nL 684 794 \nz\n\" transform=\"scale(0.015625)\"/>\n        <path id=\"DejaVuSans-30\" d=\"M 2034 4250 \nQ 1547 4250 1301 3770 \nQ 1056 3291 1056 2328 \nQ 1056 1369 1301 889 \nQ 1547 409 2034 409 \nQ 2525 409 2770 889 \nQ 3016 1369 3016 2328 \nQ 3016 3291 2770 3770 \nQ 2525 4250 2034 4250 \nz\nM 2034 4750 \nQ 2819 4750 3233 4129 \nQ 3647 3509 3647 2328 \nQ 3647 1150 3233 529 \nQ 2819 -91 2034 -91 \nQ 1250 -91 836 529 \nQ 422 1150 422 2328 \nQ 422 3509 836 4129 \nQ 1250 4750 2034 4750 \nz\n\" transform=\"scale(0.015625)\"/>\n        <path id=\"DejaVuSans-28\" d=\"M 1984 4856 \nQ 1566 4138 1362 3434 \nQ 1159 2731 1159 2009 \nQ 1159 1288 1364 580 \nQ 1569 -128 1984 -844 \nL 1484 -844 \nQ 1016 -109 783 600 \nQ 550 1309 550 2009 \nQ 550 2706 781 3412 \nQ 1013 4119 1484 4856 \nL 1984 4856 \nz\n\" transform=\"scale(0.015625)\"/>\n        <path id=\"DejaVuSans-62\" d=\"M 3116 1747 \nQ 3116 2381 2855 2742 \nQ 2594 3103 2138 3103 \nQ 1681 3103 1420 2742 \nQ 1159 2381 1159 1747 \nQ 1159 1113 1420 752 \nQ 1681 391 2138 391 \nQ 2594 391 2855 752 \nQ 3116 1113 3116 1747 \nz\nM 1159 2969 \nQ 1341 3281 1617 3432 \nQ 1894 3584 2278 3584 \nQ 2916 3584 3314 3078 \nQ 3713 2572 3713 1747 \nQ 3713 922 3314 415 \nQ 2916 -91 2278 -91 \nQ 1894 -91 1617 61 \nQ 1341 213 1159 525 \nL 1159 0 \nL 581 0 \nL 581 4863 \nL 1159 4863 \nL 1159 2969 \nz\n\" transform=\"scale(0.015625)\"/>\n        <path id=\"DejaVuSans-29\" d=\"M 513 4856 \nL 1013 4856 \nQ 1481 4119 1714 3412 \nQ 1947 2706 1947 2009 \nQ 1947 1309 1714 600 \nQ 1481 -109 1013 -844 \nL 513 -844 \nQ 928 -128 1133 580 \nQ 1338 1288 1338 2009 \nQ 1338 2731 1133 3434 \nQ 928 4138 513 4856 \nz\n\" transform=\"scale(0.015625)\"/>\n       </defs>\n       <use xlink:href=\"#DejaVuSans-41\"/>\n       <use xlink:href=\"#DejaVuSans-61\" x=\"68.408203\"/>\n       <use xlink:href=\"#DejaVuSans-6c\" x=\"129.6875\"/>\n       <use xlink:href=\"#DejaVuSans-74\" x=\"157.470703\"/>\n       <use xlink:href=\"#DejaVuSans-6f\" x=\"196.679688\"/>\n       <use xlink:href=\"#DejaVuSans-20\" x=\"257.861328\"/>\n       <use xlink:href=\"#DejaVuSans-50\" x=\"289.648438\"/>\n       <use xlink:href=\"#DejaVuSans-53\" x=\"349.951172\"/>\n       <use xlink:href=\"#DejaVuSans-20\" x=\"413.427734\"/>\n       <use xlink:href=\"#DejaVuSans-20\" x=\"445.214844\"/>\n       <use xlink:href=\"#DejaVuSans-2d\" x=\"477.001953\"/>\n       <use xlink:href=\"#DejaVuSans-20\" x=\"513.085938\"/>\n       <use xlink:href=\"#DejaVuSans-33\" x=\"544.873047\"/>\n       <use xlink:href=\"#DejaVuSans-2e\" x=\"608.496094\"/>\n       <use xlink:href=\"#DejaVuSans-30\" x=\"640.283203\"/>\n       <use xlink:href=\"#DejaVuSans-4c\" x=\"703.90625\"/>\n       <use xlink:href=\"#DejaVuSans-20\" x=\"759.619141\"/>\n       <use xlink:href=\"#DejaVuSans-28\" x=\"791.40625\"/>\n       <use xlink:href=\"#DejaVuSans-44\" x=\"830.419922\"/>\n       <use xlink:href=\"#DejaVuSans-6f\" x=\"907.421875\"/>\n       <use xlink:href=\"#DejaVuSans-75\" x=\"968.603516\"/>\n       <use xlink:href=\"#DejaVuSans-62\" x=\"1031.982422\"/>\n       <use xlink:href=\"#DejaVuSans-6c\" x=\"1095.458984\"/>\n       <use xlink:href=\"#DejaVuSans-65\" x=\"1123.242188\"/>\n       <use xlink:href=\"#DejaVuSans-20\" x=\"1184.765625\"/>\n       <use xlink:href=\"#DejaVuSans-4d\" x=\"1216.552734\"/>\n       <use xlink:href=\"#DejaVuSans-61\" x=\"1302.832031\"/>\n       <use xlink:href=\"#DejaVuSans-67\" x=\"1364.111328\"/>\n       <use xlink:href=\"#DejaVuSans-6e\" x=\"1427.587891\"/>\n       <use xlink:href=\"#DejaVuSans-75\" x=\"1490.966797\"/>\n       <use xlink:href=\"#DejaVuSans-6d\" x=\"1554.345703\"/>\n       <use xlink:href=\"#DejaVuSans-29\" x=\"1651.757812\"/>\n      </g>\n     </g>\n    </g>\n    <g id=\"xtick_7\">\n     <g id=\"text_7\">\n      <!-- Château Pavie -->\n      <g style=\"fill: #787878\" transform=\"translate(453.203283 389.986372) rotate(-85) scale(0.1 -0.1)\">\n       <use xlink:href=\"#DejaVuSans-43\"/>\n       <use xlink:href=\"#DejaVuSans-68\" x=\"69.824219\"/>\n       <use xlink:href=\"#DejaVuSans-e2\" x=\"133.203125\"/>\n       <use xlink:href=\"#DejaVuSans-74\" x=\"194.482422\"/>\n       <use xlink:href=\"#DejaVuSans-65\" x=\"233.691406\"/>\n       <use xlink:href=\"#DejaVuSans-61\" x=\"295.214844\"/>\n       <use xlink:href=\"#DejaVuSans-75\" x=\"356.494141\"/>\n       <use xlink:href=\"#DejaVuSans-20\" x=\"419.873047\"/>\n       <use xlink:href=\"#DejaVuSans-50\" x=\"451.660156\"/>\n       <use xlink:href=\"#DejaVuSans-61\" x=\"507.462891\"/>\n       <use xlink:href=\"#DejaVuSans-76\" x=\"568.742188\"/>\n       <use xlink:href=\"#DejaVuSans-69\" x=\"627.921875\"/>\n       <use xlink:href=\"#DejaVuSans-65\" x=\"655.705078\"/>\n      </g>\n     </g>\n    </g>\n    <g id=\"xtick_8\">\n     <g id=\"text_8\">\n      <!-- Trotanoy -->\n      <g style=\"fill: #787878\" transform=\"translate(519.238976 361.432942) rotate(-85) scale(0.1 -0.1)\">\n       <defs>\n        <path id=\"DejaVuSans-54\" d=\"M -19 4666 \nL 3928 4666 \nL 3928 4134 \nL 2272 4134 \nL 2272 0 \nL 1638 0 \nL 1638 4134 \nL -19 4134 \nL -19 4666 \nz\n\" transform=\"scale(0.015625)\"/>\n        <path id=\"DejaVuSans-79\" d=\"M 2059 -325 \nQ 1816 -950 1584 -1140 \nQ 1353 -1331 966 -1331 \nL 506 -1331 \nL 506 -850 \nL 844 -850 \nQ 1081 -850 1212 -737 \nQ 1344 -625 1503 -206 \nL 1606 56 \nL 191 3500 \nL 800 3500 \nL 1894 763 \nL 2988 3500 \nL 3597 3500 \nL 2059 -325 \nz\n\" transform=\"scale(0.015625)\"/>\n       </defs>\n       <use xlink:href=\"#DejaVuSans-54\"/>\n       <use xlink:href=\"#DejaVuSans-72\" x=\"46.333984\"/>\n       <use xlink:href=\"#DejaVuSans-6f\" x=\"85.197266\"/>\n       <use xlink:href=\"#DejaVuSans-74\" x=\"146.378906\"/>\n       <use xlink:href=\"#DejaVuSans-61\" x=\"185.587891\"/>\n       <use xlink:href=\"#DejaVuSans-6e\" x=\"246.867188\"/>\n       <use xlink:href=\"#DejaVuSans-6f\" x=\"310.246094\"/>\n       <use xlink:href=\"#DejaVuSans-79\" x=\"371.427734\"/>\n      </g>\n     </g>\n    </g>\n    <g id=\"xtick_9\">\n     <g id=\"text_9\">\n      <!-- Domaine Ponsot Chapelle-Chambertin Grand Cru -->\n      <g style=\"fill: #787878\" transform=\"translate(575.214649 562.852614) rotate(-85) scale(0.1 -0.1)\">\n       <defs>\n        <path id=\"DejaVuSans-70\" d=\"M 1159 525 \nL 1159 -1331 \nL 581 -1331 \nL 581 3500 \nL 1159 3500 \nL 1159 2969 \nQ 1341 3281 1617 3432 \nQ 1894 3584 2278 3584 \nQ 2916 3584 3314 3078 \nQ 3713 2572 3713 1747 \nQ 3713 922 3314 415 \nQ 2916 -91 2278 -91 \nQ 1894 -91 1617 61 \nQ 1341 213 1159 525 \nz\nM 3116 1747 \nQ 3116 2381 2855 2742 \nQ 2594 3103 2138 3103 \nQ 1681 3103 1420 2742 \nQ 1159 2381 1159 1747 \nQ 1159 1113 1420 752 \nQ 1681 391 2138 391 \nQ 2594 391 2855 752 \nQ 3116 1113 3116 1747 \nz\n\" transform=\"scale(0.015625)\"/>\n       </defs>\n       <use xlink:href=\"#DejaVuSans-44\"/>\n       <use xlink:href=\"#DejaVuSans-6f\" x=\"77.001953\"/>\n       <use xlink:href=\"#DejaVuSans-6d\" x=\"138.183594\"/>\n       <use xlink:href=\"#DejaVuSans-61\" x=\"235.595703\"/>\n       <use xlink:href=\"#DejaVuSans-69\" x=\"296.875\"/>\n       <use xlink:href=\"#DejaVuSans-6e\" x=\"324.658203\"/>\n       <use xlink:href=\"#DejaVuSans-65\" x=\"388.037109\"/>\n       <use xlink:href=\"#DejaVuSans-20\" x=\"449.560547\"/>\n       <use xlink:href=\"#DejaVuSans-50\" x=\"481.347656\"/>\n       <use xlink:href=\"#DejaVuSans-6f\" x=\"538.025391\"/>\n       <use xlink:href=\"#DejaVuSans-6e\" x=\"599.207031\"/>\n       <use xlink:href=\"#DejaVuSans-73\" x=\"662.585938\"/>\n       <use xlink:href=\"#DejaVuSans-6f\" x=\"714.685547\"/>\n       <use xlink:href=\"#DejaVuSans-74\" x=\"775.867188\"/>\n       <use xlink:href=\"#DejaVuSans-20\" x=\"815.076172\"/>\n       <use xlink:href=\"#DejaVuSans-43\" x=\"846.863281\"/>\n       <use xlink:href=\"#DejaVuSans-68\" x=\"916.6875\"/>\n       <use xlink:href=\"#DejaVuSans-61\" x=\"980.066406\"/>\n       <use xlink:href=\"#DejaVuSans-70\" x=\"1041.345703\"/>\n       <use xlink:href=\"#DejaVuSans-65\" x=\"1104.822266\"/>\n       <use xlink:href=\"#DejaVuSans-6c\" x=\"1166.345703\"/>\n       <use xlink:href=\"#DejaVuSans-6c\" x=\"1194.128906\"/>\n       <use xlink:href=\"#DejaVuSans-65\" x=\"1221.912109\"/>\n       <use xlink:href=\"#DejaVuSans-2d\" x=\"1283.435547\"/>\n       <use xlink:href=\"#DejaVuSans-43\" x=\"1319.519531\"/>\n       <use xlink:href=\"#DejaVuSans-68\" x=\"1389.34375\"/>\n       <use xlink:href=\"#DejaVuSans-61\" x=\"1452.722656\"/>\n       <use xlink:href=\"#DejaVuSans-6d\" x=\"1514.001953\"/>\n       <use xlink:href=\"#DejaVuSans-62\" x=\"1611.414062\"/>\n       <use xlink:href=\"#DejaVuSans-65\" x=\"1674.890625\"/>\n       <use xlink:href=\"#DejaVuSans-72\" x=\"1736.414062\"/>\n       <use xlink:href=\"#DejaVuSans-74\" x=\"1777.527344\"/>\n       <use xlink:href=\"#DejaVuSans-69\" x=\"1816.736328\"/>\n       <use xlink:href=\"#DejaVuSans-6e\" x=\"1844.519531\"/>\n       <use xlink:href=\"#DejaVuSans-20\" x=\"1907.898438\"/>\n       <use xlink:href=\"#DejaVuSans-47\" x=\"1939.685547\"/>\n       <use xlink:href=\"#DejaVuSans-72\" x=\"2017.175781\"/>\n       <use xlink:href=\"#DejaVuSans-61\" x=\"2058.289062\"/>\n       <use xlink:href=\"#DejaVuSans-6e\" x=\"2119.568359\"/>\n       <use xlink:href=\"#DejaVuSans-64\" x=\"2182.947266\"/>\n       <use xlink:href=\"#DejaVuSans-20\" x=\"2246.423828\"/>\n       <use xlink:href=\"#DejaVuSans-43\" x=\"2278.210938\"/>\n       <use xlink:href=\"#DejaVuSans-72\" x=\"2348.035156\"/>\n       <use xlink:href=\"#DejaVuSans-75\" x=\"2389.148438\"/>\n      </g>\n     </g>\n    </g>\n    <g id=\"xtick_10\">\n     <g id=\"text_10\">\n      <!-- Domaine Ponsot Chapelle-Chambertin Grand Cru -->\n      <g style=\"fill: #787878\" transform=\"translate(640.00129 562.852614) rotate(-85) scale(0.1 -0.1)\">\n       <use xlink:href=\"#DejaVuSans-44\"/>\n       <use xlink:href=\"#DejaVuSans-6f\" x=\"77.001953\"/>\n       <use xlink:href=\"#DejaVuSans-6d\" x=\"138.183594\"/>\n       <use xlink:href=\"#DejaVuSans-61\" x=\"235.595703\"/>\n       <use xlink:href=\"#DejaVuSans-69\" x=\"296.875\"/>\n       <use xlink:href=\"#DejaVuSans-6e\" x=\"324.658203\"/>\n       <use xlink:href=\"#DejaVuSans-65\" x=\"388.037109\"/>\n       <use xlink:href=\"#DejaVuSans-20\" x=\"449.560547\"/>\n       <use xlink:href=\"#DejaVuSans-50\" x=\"481.347656\"/>\n       <use xlink:href=\"#DejaVuSans-6f\" x=\"538.025391\"/>\n       <use xlink:href=\"#DejaVuSans-6e\" x=\"599.207031\"/>\n       <use xlink:href=\"#DejaVuSans-73\" x=\"662.585938\"/>\n       <use xlink:href=\"#DejaVuSans-6f\" x=\"714.685547\"/>\n       <use xlink:href=\"#DejaVuSans-74\" x=\"775.867188\"/>\n       <use xlink:href=\"#DejaVuSans-20\" x=\"815.076172\"/>\n       <use xlink:href=\"#DejaVuSans-43\" x=\"846.863281\"/>\n       <use xlink:href=\"#DejaVuSans-68\" x=\"916.6875\"/>\n       <use xlink:href=\"#DejaVuSans-61\" x=\"980.066406\"/>\n       <use xlink:href=\"#DejaVuSans-70\" x=\"1041.345703\"/>\n       <use xlink:href=\"#DejaVuSans-65\" x=\"1104.822266\"/>\n       <use xlink:href=\"#DejaVuSans-6c\" x=\"1166.345703\"/>\n       <use xlink:href=\"#DejaVuSans-6c\" x=\"1194.128906\"/>\n       <use xlink:href=\"#DejaVuSans-65\" x=\"1221.912109\"/>\n       <use xlink:href=\"#DejaVuSans-2d\" x=\"1283.435547\"/>\n       <use xlink:href=\"#DejaVuSans-43\" x=\"1319.519531\"/>\n       <use xlink:href=\"#DejaVuSans-68\" x=\"1389.34375\"/>\n       <use xlink:href=\"#DejaVuSans-61\" x=\"1452.722656\"/>\n       <use xlink:href=\"#DejaVuSans-6d\" x=\"1514.001953\"/>\n       <use xlink:href=\"#DejaVuSans-62\" x=\"1611.414062\"/>\n       <use xlink:href=\"#DejaVuSans-65\" x=\"1674.890625\"/>\n       <use xlink:href=\"#DejaVuSans-72\" x=\"1736.414062\"/>\n       <use xlink:href=\"#DejaVuSans-74\" x=\"1777.527344\"/>\n       <use xlink:href=\"#DejaVuSans-69\" x=\"1816.736328\"/>\n       <use xlink:href=\"#DejaVuSans-6e\" x=\"1844.519531\"/>\n       <use xlink:href=\"#DejaVuSans-20\" x=\"1907.898438\"/>\n       <use xlink:href=\"#DejaVuSans-47\" x=\"1939.685547\"/>\n       <use xlink:href=\"#DejaVuSans-72\" x=\"2017.175781\"/>\n       <use xlink:href=\"#DejaVuSans-61\" x=\"2058.289062\"/>\n       <use xlink:href=\"#DejaVuSans-6e\" x=\"2119.568359\"/>\n       <use xlink:href=\"#DejaVuSans-64\" x=\"2182.947266\"/>\n       <use xlink:href=\"#DejaVuSans-20\" x=\"2246.423828\"/>\n       <use xlink:href=\"#DejaVuSans-43\" x=\"2278.210938\"/>\n       <use xlink:href=\"#DejaVuSans-72\" x=\"2348.035156\"/>\n       <use xlink:href=\"#DejaVuSans-75\" x=\"2389.148438\"/>\n      </g>\n     </g>\n    </g>\n   </g>\n   <g id=\"text_11\">\n    <!-- 1901.7$ -->\n    <g style=\"fill: #ffffff\" transform=\"translate(43.268892 56.058863) scale(0.1 -0.1)\">\n     <defs>\n      <path id=\"DejaVuSans-31\" d=\"M 794 531 \nL 1825 531 \nL 1825 4091 \nL 703 3866 \nL 703 4441 \nL 1819 4666 \nL 2450 4666 \nL 2450 531 \nL 3481 531 \nL 3481 0 \nL 794 0 \nL 794 531 \nz\n\" transform=\"scale(0.015625)\"/>\n      <path id=\"DejaVuSans-39\" d=\"M 703 97 \nL 703 672 \nQ 941 559 1184 500 \nQ 1428 441 1663 441 \nQ 2288 441 2617 861 \nQ 2947 1281 2994 2138 \nQ 2813 1869 2534 1725 \nQ 2256 1581 1919 1581 \nQ 1219 1581 811 2004 \nQ 403 2428 403 3163 \nQ 403 3881 828 4315 \nQ 1253 4750 1959 4750 \nQ 2769 4750 3195 4129 \nQ 3622 3509 3622 2328 \nQ 3622 1225 3098 567 \nQ 2575 -91 1691 -91 \nQ 1453 -91 1209 -44 \nQ 966 3 703 97 \nz\nM 1959 2075 \nQ 2384 2075 2632 2365 \nQ 2881 2656 2881 3163 \nQ 2881 3666 2632 3958 \nQ 2384 4250 1959 4250 \nQ 1534 4250 1286 3958 \nQ 1038 3666 1038 3163 \nQ 1038 2656 1286 2365 \nQ 1534 2075 1959 2075 \nz\n\" transform=\"scale(0.015625)\"/>\n      <path id=\"DejaVuSans-37\" d=\"M 525 4666 \nL 3525 4666 \nL 3525 4397 \nL 1831 0 \nL 1172 0 \nL 2766 4134 \nL 525 4134 \nL 525 4666 \nz\n\" transform=\"scale(0.015625)\"/>\n      <path id=\"DejaVuSans-24\" d=\"M 2163 -941 \nL 1850 -941 \nL 1847 0 \nQ 1519 6 1191 76 \nQ 863 147 531 288 \nL 531 850 \nQ 850 650 1176 548 \nQ 1503 447 1850 444 \nL 1850 1869 \nQ 1159 1981 845 2250 \nQ 531 2519 531 2988 \nQ 531 3497 872 3790 \nQ 1213 4084 1850 4128 \nL 1850 4863 \nL 2163 4863 \nL 2163 4138 \nQ 2453 4125 2725 4076 \nQ 2997 4028 3256 3944 \nL 3256 3397 \nQ 2997 3528 2723 3600 \nQ 2450 3672 2163 3684 \nL 2163 2350 \nQ 2872 2241 3206 1959 \nQ 3541 1678 3541 1191 \nQ 3541 663 3186 358 \nQ 2831 53 2163 6 \nL 2163 -941 \nz\nM 1850 2406 \nL 1850 3688 \nQ 1488 3647 1297 3481 \nQ 1106 3316 1106 3041 \nQ 1106 2772 1282 2622 \nQ 1459 2472 1850 2406 \nz\nM 2163 1806 \nL 2163 453 \nQ 2559 506 2761 678 \nQ 2963 850 2963 1131 \nQ 2963 1406 2770 1568 \nQ 2578 1731 2163 1806 \nz\n\" transform=\"scale(0.015625)\"/>\n     </defs>\n     <use xlink:href=\"#DejaVuSans-31\"/>\n     <use xlink:href=\"#DejaVuSans-39\" x=\"63.623047\"/>\n     <use xlink:href=\"#DejaVuSans-30\" x=\"127.246094\"/>\n     <use xlink:href=\"#DejaVuSans-31\" x=\"190.869141\"/>\n     <use xlink:href=\"#DejaVuSans-2e\" x=\"254.492188\"/>\n     <use xlink:href=\"#DejaVuSans-37\" x=\"286.279297\"/>\n     <use xlink:href=\"#DejaVuSans-24\" x=\"349.902344\"/>\n    </g>\n   </g>\n   <g id=\"text_12\">\n    <!-- 1659.9$ -->\n    <g style=\"fill: #ffffff\" transform=\"translate(108.055534 91.001392) scale(0.1 -0.1)\">\n     <defs>\n      <path id=\"DejaVuSans-36\" d=\"M 2113 2584 \nQ 1688 2584 1439 2293 \nQ 1191 2003 1191 1497 \nQ 1191 994 1439 701 \nQ 1688 409 2113 409 \nQ 2538 409 2786 701 \nQ 3034 994 3034 1497 \nQ 3034 2003 2786 2293 \nQ 2538 2584 2113 2584 \nz\nM 3366 4563 \nL 3366 3988 \nQ 3128 4100 2886 4159 \nQ 2644 4219 2406 4219 \nQ 1781 4219 1451 3797 \nQ 1122 3375 1075 2522 \nQ 1259 2794 1537 2939 \nQ 1816 3084 2150 3084 \nQ 2853 3084 3261 2657 \nQ 3669 2231 3669 1497 \nQ 3669 778 3244 343 \nQ 2819 -91 2113 -91 \nQ 1303 -91 875 529 \nQ 447 1150 447 2328 \nQ 447 3434 972 4092 \nQ 1497 4750 2381 4750 \nQ 2619 4750 2861 4703 \nQ 3103 4656 3366 4563 \nz\n\" transform=\"scale(0.015625)\"/>\n      <path id=\"DejaVuSans-35\" d=\"M 691 4666 \nL 3169 4666 \nL 3169 4134 \nL 1269 4134 \nL 1269 2991 \nQ 1406 3038 1543 3061 \nQ 1681 3084 1819 3084 \nQ 2600 3084 3056 2656 \nQ 3513 2228 3513 1497 \nQ 3513 744 3044 326 \nQ 2575 -91 1722 -91 \nQ 1428 -91 1123 -41 \nQ 819 9 494 109 \nL 494 744 \nQ 775 591 1075 516 \nQ 1375 441 1709 441 \nQ 2250 441 2565 725 \nQ 2881 1009 2881 1497 \nQ 2881 1984 2565 2268 \nQ 2250 2553 1709 2553 \nQ 1456 2553 1204 2497 \nQ 953 2441 691 2322 \nL 691 4666 \nz\n\" transform=\"scale(0.015625)\"/>\n     </defs>\n     <use xlink:href=\"#DejaVuSans-31\"/>\n     <use xlink:href=\"#DejaVuSans-36\" x=\"63.623047\"/>\n     <use xlink:href=\"#DejaVuSans-35\" x=\"127.246094\"/>\n     <use xlink:href=\"#DejaVuSans-39\" x=\"190.869141\"/>\n     <use xlink:href=\"#DejaVuSans-2e\" x=\"254.492188\"/>\n     <use xlink:href=\"#DejaVuSans-39\" x=\"286.279297\"/>\n     <use xlink:href=\"#DejaVuSans-24\" x=\"349.902344\"/>\n    </g>\n   </g>\n   <g id=\"text_13\">\n    <!-- 1038.0$ -->\n    <g style=\"fill: #ffffff\" transform=\"translate(172.842176 180.872189) scale(0.1 -0.1)\">\n     <defs>\n      <path id=\"DejaVuSans-38\" d=\"M 2034 2216 \nQ 1584 2216 1326 1975 \nQ 1069 1734 1069 1313 \nQ 1069 891 1326 650 \nQ 1584 409 2034 409 \nQ 2484 409 2743 651 \nQ 3003 894 3003 1313 \nQ 3003 1734 2745 1975 \nQ 2488 2216 2034 2216 \nz\nM 1403 2484 \nQ 997 2584 770 2862 \nQ 544 3141 544 3541 \nQ 544 4100 942 4425 \nQ 1341 4750 2034 4750 \nQ 2731 4750 3128 4425 \nQ 3525 4100 3525 3541 \nQ 3525 3141 3298 2862 \nQ 3072 2584 2669 2484 \nQ 3125 2378 3379 2068 \nQ 3634 1759 3634 1313 \nQ 3634 634 3220 271 \nQ 2806 -91 2034 -91 \nQ 1263 -91 848 271 \nQ 434 634 434 1313 \nQ 434 1759 690 2068 \nQ 947 2378 1403 2484 \nz\nM 1172 3481 \nQ 1172 3119 1398 2916 \nQ 1625 2713 2034 2713 \nQ 2441 2713 2670 2916 \nQ 2900 3119 2900 3481 \nQ 2900 3844 2670 4047 \nQ 2441 4250 2034 4250 \nQ 1625 4250 1398 4047 \nQ 1172 3844 1172 3481 \nz\n\" transform=\"scale(0.015625)\"/>\n     </defs>\n     <use xlink:href=\"#DejaVuSans-31\"/>\n     <use xlink:href=\"#DejaVuSans-30\" x=\"63.623047\"/>\n     <use xlink:href=\"#DejaVuSans-33\" x=\"127.246094\"/>\n     <use xlink:href=\"#DejaVuSans-38\" x=\"190.869141\"/>\n     <use xlink:href=\"#DejaVuSans-2e\" x=\"254.492188\"/>\n     <use xlink:href=\"#DejaVuSans-30\" x=\"286.279297\"/>\n     <use xlink:href=\"#DejaVuSans-24\" x=\"349.902344\"/>\n    </g>\n   </g>\n   <g id=\"text_14\">\n    <!-- 1037.0$ -->\n    <g style=\"fill: #ffffff\" transform=\"translate(237.628818 181.016699) scale(0.1 -0.1)\">\n     <use xlink:href=\"#DejaVuSans-31\"/>\n     <use xlink:href=\"#DejaVuSans-30\" x=\"63.623047\"/>\n     <use xlink:href=\"#DejaVuSans-33\" x=\"127.246094\"/>\n     <use xlink:href=\"#DejaVuSans-37\" x=\"190.869141\"/>\n     <use xlink:href=\"#DejaVuSans-2e\" x=\"254.492188\"/>\n     <use xlink:href=\"#DejaVuSans-30\" x=\"286.279297\"/>\n     <use xlink:href=\"#DejaVuSans-24\" x=\"349.902344\"/>\n    </g>\n   </g>\n   <g id=\"text_15\">\n    <!-- 915.6$ -->\n    <g style=\"fill: #ffffff\" transform=\"translate(305.59671 198.560219) scale(0.1 -0.1)\">\n     <use xlink:href=\"#DejaVuSans-39\"/>\n     <use xlink:href=\"#DejaVuSans-31\" x=\"63.623047\"/>\n     <use xlink:href=\"#DejaVuSans-35\" x=\"127.246094\"/>\n     <use xlink:href=\"#DejaVuSans-2e\" x=\"190.869141\"/>\n     <use xlink:href=\"#DejaVuSans-36\" x=\"222.65625\"/>\n     <use xlink:href=\"#DejaVuSans-24\" x=\"286.279297\"/>\n    </g>\n   </g>\n   <g id=\"text_16\">\n    <!-- 863.7$ -->\n    <g style=\"fill: #ffffff\" transform=\"translate(370.383352 206.06029) scale(0.1 -0.1)\">\n     <use xlink:href=\"#DejaVuSans-38\"/>\n     <use xlink:href=\"#DejaVuSans-36\" x=\"63.623047\"/>\n     <use xlink:href=\"#DejaVuSans-33\" x=\"127.246094\"/>\n     <use xlink:href=\"#DejaVuSans-2e\" x=\"190.869141\"/>\n     <use xlink:href=\"#DejaVuSans-37\" x=\"222.65625\"/>\n     <use xlink:href=\"#DejaVuSans-24\" x=\"286.279297\"/>\n    </g>\n   </g>\n   <g id=\"text_17\">\n    <!-- 759.9$ -->\n    <g style=\"fill: #ffffff\" transform=\"translate(435.169994 221.060433) scale(0.1 -0.1)\">\n     <use xlink:href=\"#DejaVuSans-37\"/>\n     <use xlink:href=\"#DejaVuSans-35\" x=\"63.623047\"/>\n     <use xlink:href=\"#DejaVuSans-39\" x=\"127.246094\"/>\n     <use xlink:href=\"#DejaVuSans-2e\" x=\"190.869141\"/>\n     <use xlink:href=\"#DejaVuSans-39\" x=\"222.65625\"/>\n     <use xlink:href=\"#DejaVuSans-24\" x=\"286.279297\"/>\n    </g>\n   </g>\n   <g id=\"text_18\">\n    <!-- 684.1$ -->\n    <g style=\"fill: #ffffff\" transform=\"translate(499.956636 232.014295) scale(0.1 -0.1)\">\n     <defs>\n      <path id=\"DejaVuSans-34\" d=\"M 2419 4116 \nL 825 1625 \nL 2419 1625 \nL 2419 4116 \nz\nM 2253 4666 \nL 3047 4666 \nL 3047 1625 \nL 3713 1625 \nL 3713 1100 \nL 3047 1100 \nL 3047 0 \nL 2419 0 \nL 2419 1100 \nL 313 1100 \nL 313 1709 \nL 2253 4666 \nz\n\" transform=\"scale(0.015625)\"/>\n     </defs>\n     <use xlink:href=\"#DejaVuSans-36\"/>\n     <use xlink:href=\"#DejaVuSans-38\" x=\"63.623047\"/>\n     <use xlink:href=\"#DejaVuSans-34\" x=\"127.246094\"/>\n     <use xlink:href=\"#DejaVuSans-2e\" x=\"190.869141\"/>\n     <use xlink:href=\"#DejaVuSans-31\" x=\"222.65625\"/>\n     <use xlink:href=\"#DejaVuSans-24\" x=\"286.279297\"/>\n    </g>\n   </g>\n   <g id=\"text_19\">\n    <!-- 656.1$ -->\n    <g style=\"fill: #ffffff\" transform=\"translate(564.743277 236.060576) scale(0.1 -0.1)\">\n     <use xlink:href=\"#DejaVuSans-36\"/>\n     <use xlink:href=\"#DejaVuSans-35\" x=\"63.623047\"/>\n     <use xlink:href=\"#DejaVuSans-36\" x=\"127.246094\"/>\n     <use xlink:href=\"#DejaVuSans-2e\" x=\"190.869141\"/>\n     <use xlink:href=\"#DejaVuSans-31\" x=\"222.65625\"/>\n     <use xlink:href=\"#DejaVuSans-24\" x=\"286.279297\"/>\n    </g>\n   </g>\n   <g id=\"text_20\">\n    <!-- 656.1$ -->\n    <g style=\"fill: #ffffff\" transform=\"translate(629.529919 236.060576) scale(0.1 -0.1)\">\n     <use xlink:href=\"#DejaVuSans-36\"/>\n     <use xlink:href=\"#DejaVuSans-35\" x=\"63.623047\"/>\n     <use xlink:href=\"#DejaVuSans-36\" x=\"127.246094\"/>\n     <use xlink:href=\"#DejaVuSans-2e\" x=\"190.869141\"/>\n     <use xlink:href=\"#DejaVuSans-31\" x=\"222.65625\"/>\n     <use xlink:href=\"#DejaVuSans-24\" x=\"286.279297\"/>\n    </g>\n   </g>\n   <g id=\"text_21\">\n    <!-- Teuerste Weine auf der karte -->\n    <g transform=\"translate(269.75625 16.318125) scale(0.12 -0.12)\">\n     <defs>\n      <path id=\"DejaVuSans-57\" d=\"M 213 4666 \nL 850 4666 \nL 1831 722 \nL 2809 4666 \nL 3519 4666 \nL 4500 722 \nL 5478 4666 \nL 6119 4666 \nL 4947 0 \nL 4153 0 \nL 3169 4050 \nL 2175 0 \nL 1381 0 \nL 213 4666 \nz\n\" transform=\"scale(0.015625)\"/>\n      <path id=\"DejaVuSans-66\" d=\"M 2375 4863 \nL 2375 4384 \nL 1825 4384 \nQ 1516 4384 1395 4259 \nQ 1275 4134 1275 3809 \nL 1275 3500 \nL 2222 3500 \nL 2222 3053 \nL 1275 3053 \nL 1275 0 \nL 697 0 \nL 697 3053 \nL 147 3053 \nL 147 3500 \nL 697 3500 \nL 697 3744 \nQ 697 4328 969 4595 \nQ 1241 4863 1831 4863 \nL 2375 4863 \nz\n\" transform=\"scale(0.015625)\"/>\n      <path id=\"DejaVuSans-6b\" d=\"M 581 4863 \nL 1159 4863 \nL 1159 1991 \nL 2875 3500 \nL 3609 3500 \nL 1753 1863 \nL 3688 0 \nL 2938 0 \nL 1159 1709 \nL 1159 0 \nL 581 0 \nL 581 4863 \nz\n\" transform=\"scale(0.015625)\"/>\n     </defs>\n     <use xlink:href=\"#DejaVuSans-54\"/>\n     <use xlink:href=\"#DejaVuSans-65\" x=\"44.083984\"/>\n     <use xlink:href=\"#DejaVuSans-75\" x=\"105.607422\"/>\n     <use xlink:href=\"#DejaVuSans-65\" x=\"168.986328\"/>\n     <use xlink:href=\"#DejaVuSans-72\" x=\"230.509766\"/>\n     <use xlink:href=\"#DejaVuSans-73\" x=\"271.623047\"/>\n     <use xlink:href=\"#DejaVuSans-74\" x=\"323.722656\"/>\n     <use xlink:href=\"#DejaVuSans-65\" x=\"362.931641\"/>\n     <use xlink:href=\"#DejaVuSans-20\" x=\"424.455078\"/>\n     <use xlink:href=\"#DejaVuSans-57\" x=\"456.242188\"/>\n     <use xlink:href=\"#DejaVuSans-65\" x=\"549.244141\"/>\n     <use xlink:href=\"#DejaVuSans-69\" x=\"610.767578\"/>\n     <use xlink:href=\"#DejaVuSans-6e\" x=\"638.550781\"/>\n     <use xlink:href=\"#DejaVuSans-65\" x=\"701.929688\"/>\n     <use xlink:href=\"#DejaVuSans-20\" x=\"763.453125\"/>\n     <use xlink:href=\"#DejaVuSans-61\" x=\"795.240234\"/>\n     <use xlink:href=\"#DejaVuSans-75\" x=\"856.519531\"/>\n     <use xlink:href=\"#DejaVuSans-66\" x=\"919.898438\"/>\n     <use xlink:href=\"#DejaVuSans-20\" x=\"955.103516\"/>\n     <use xlink:href=\"#DejaVuSans-64\" x=\"986.890625\"/>\n     <use xlink:href=\"#DejaVuSans-65\" x=\"1050.367188\"/>\n     <use xlink:href=\"#DejaVuSans-72\" x=\"1111.890625\"/>\n     <use xlink:href=\"#DejaVuSans-20\" x=\"1153.003906\"/>\n     <use xlink:href=\"#DejaVuSans-6b\" x=\"1184.791016\"/>\n     <use xlink:href=\"#DejaVuSans-61\" x=\"1240.951172\"/>\n     <use xlink:href=\"#DejaVuSans-72\" x=\"1302.230469\"/>\n     <use xlink:href=\"#DejaVuSans-74\" x=\"1343.34375\"/>\n     <use xlink:href=\"#DejaVuSans-65\" x=\"1382.552734\"/>\n    </g>\n   </g>\n  </g>\n </g>\n <defs>\n  <clipPath id=\"pf581160d80\">\n   <rect x=\"7.2\" y=\"22.318125\" width=\"698.4\" height=\"288.555492\"/>\n  </clipPath>\n </defs>\n</svg>\n"
          },
          "metadata": {}
        }
      ]
    },
    {
      "cell_type": "markdown",
      "source": [
        "Na variável country temos ao todo 6 países diferentes, onde a França representa 70% do conjunto, seguido pela Itália com 10% e Espanha com 8%"
      ],
      "metadata": {
        "id": "ZCLsQ42y0qfo"
      }
    },
    {
      "cell_type": "code",
      "source": [
        "print(df_products_raw.country.value_counts())"
      ],
      "metadata": {
        "colab": {
          "base_uri": "https://localhost:8080/"
        },
        "id": "vaRsmIK9ZeMt",
        "outputId": "5f74b47a-fe76-4ca2-b9a5-61469a2b7614"
      },
      "execution_count": 23,
      "outputs": [
        {
          "output_type": "stream",
          "name": "stdout",
          "text": [
            "country\n",
            "France       154\n",
            "Italy         23\n",
            "Spain         18\n",
            "Portugal      15\n",
            "Argentina      8\n",
            "Chile          1\n",
            "Name: count, dtype: int64\n"
          ]
        }
      ]
    },
    {
      "cell_type": "code",
      "source": [
        "f, ax = plt.subplots(figsize=(16, 8))\n",
        "sns.countplot(x=df_products_raw.country, order=df_products_raw.country.value_counts().index);\n",
        "plt.xticks(rotation=45)\n",
        "plt.show();"
      ],
      "metadata": {
        "colab": {
          "base_uri": "https://localhost:8080/",
          "height": 715
        },
        "id": "pWnkSUfp_Or5",
        "outputId": "71489ebc-9eef-4657-cff0-2e99fcf80558"
      },
      "execution_count": 24,
      "outputs": [
        {
          "output_type": "display_data",
          "data": {
            "text/plain": [
              "<Figure size 1600x800 with 1 Axes>"
            ],
            "image/svg+xml": "<?xml version=\"1.0\" encoding=\"utf-8\" standalone=\"no\"?>\n<!DOCTYPE svg PUBLIC \"-//W3C//DTD SVG 1.1//EN\"\n  \"http://www.w3.org/Graphics/SVG/1.1/DTD/svg11.dtd\">\n<svg xmlns:xlink=\"http://www.w3.org/1999/xlink\" width=\"946.965625pt\" height=\"519.934041pt\" viewBox=\"0 0 946.965625 519.934041\" xmlns=\"http://www.w3.org/2000/svg\" version=\"1.1\">\n <metadata>\n  <rdf:RDF xmlns:dc=\"http://purl.org/dc/elements/1.1/\" xmlns:cc=\"http://creativecommons.org/ns#\" xmlns:rdf=\"http://www.w3.org/1999/02/22-rdf-syntax-ns#\">\n   <cc:Work>\n    <dc:type rdf:resource=\"http://purl.org/dc/dcmitype/StillImage\"/>\n    <dc:date>2024-12-01T17:53:45.784916</dc:date>\n    <dc:format>image/svg+xml</dc:format>\n    <dc:creator>\n     <cc:Agent>\n      <dc:title>Matplotlib v3.8.0, https://matplotlib.org/</dc:title>\n     </cc:Agent>\n    </dc:creator>\n   </cc:Work>\n  </rdf:RDF>\n </metadata>\n <defs>\n  <style type=\"text/css\">*{stroke-linejoin: round; stroke-linecap: butt}</style>\n </defs>\n <g id=\"figure_1\">\n  <g id=\"patch_1\">\n   <path d=\"M 0 519.934041 \nL 946.965625 519.934041 \nL 946.965625 0 \nL 0 0 \nz\n\" style=\"fill: #ffffff\"/>\n  </g>\n  <g id=\"axes_1\">\n   <g id=\"patch_2\">\n    <path d=\"M 46.965625 450.72 \nL 939.765625 450.72 \nL 939.765625 7.2 \nL 46.965625 7.2 \nz\n\" style=\"fill: #ffffff\"/>\n   </g>\n   <g id=\"patch_3\">\n    <path d=\"M 61.845625 450.72 \nL 180.885625 450.72 \nL 180.885625 28.32 \nL 61.845625 28.32 \nz\n\" clip-path=\"url(#pc975672005)\" style=\"fill: #3274a1\"/>\n   </g>\n   <g id=\"patch_4\">\n    <path d=\"M 210.645625 450.72 \nL 329.685625 450.72 \nL 329.685625 387.634286 \nL 210.645625 387.634286 \nz\n\" clip-path=\"url(#pc975672005)\" style=\"fill: #3274a1\"/>\n   </g>\n   <g id=\"patch_5\">\n    <path d=\"M 359.445625 450.72 \nL 478.485625 450.72 \nL 478.485625 401.348571 \nL 359.445625 401.348571 \nz\n\" clip-path=\"url(#pc975672005)\" style=\"fill: #3274a1\"/>\n   </g>\n   <g id=\"patch_6\">\n    <path d=\"M 508.245625 450.72 \nL 627.285625 450.72 \nL 627.285625 409.577143 \nL 508.245625 409.577143 \nz\n\" clip-path=\"url(#pc975672005)\" style=\"fill: #3274a1\"/>\n   </g>\n   <g id=\"patch_7\">\n    <path d=\"M 657.045625 450.72 \nL 776.085625 450.72 \nL 776.085625 428.777143 \nL 657.045625 428.777143 \nz\n\" clip-path=\"url(#pc975672005)\" style=\"fill: #3274a1\"/>\n   </g>\n   <g id=\"patch_8\">\n    <path d=\"M 805.845625 450.72 \nL 924.885625 450.72 \nL 924.885625 447.977143 \nL 805.845625 447.977143 \nz\n\" clip-path=\"url(#pc975672005)\" style=\"fill: #3274a1\"/>\n   </g>\n   <g id=\"matplotlib.axis_1\">\n    <g id=\"xtick_1\">\n     <g id=\"line2d_1\">\n      <defs>\n       <path id=\"m3809228851\" d=\"M 0 0 \nL 0 3.5 \n\" style=\"stroke: #000000; stroke-width: 0.8\"/>\n      </defs>\n      <g>\n       <use xlink:href=\"#m3809228851\" x=\"121.365625\" y=\"450.72\" style=\"stroke: #000000; stroke-width: 0.8\"/>\n      </g>\n     </g>\n     <g id=\"text_1\">\n      <!-- France -->\n      <g transform=\"translate(111.55949 486.607522) rotate(-45) scale(0.1 -0.1)\">\n       <defs>\n        <path id=\"DejaVuSans-46\" d=\"M 628 4666 \nL 3309 4666 \nL 3309 4134 \nL 1259 4134 \nL 1259 2759 \nL 3109 2759 \nL 3109 2228 \nL 1259 2228 \nL 1259 0 \nL 628 0 \nL 628 4666 \nz\n\" transform=\"scale(0.015625)\"/>\n        <path id=\"DejaVuSans-72\" d=\"M 2631 2963 \nQ 2534 3019 2420 3045 \nQ 2306 3072 2169 3072 \nQ 1681 3072 1420 2755 \nQ 1159 2438 1159 1844 \nL 1159 0 \nL 581 0 \nL 581 3500 \nL 1159 3500 \nL 1159 2956 \nQ 1341 3275 1631 3429 \nQ 1922 3584 2338 3584 \nQ 2397 3584 2469 3576 \nQ 2541 3569 2628 3553 \nL 2631 2963 \nz\n\" transform=\"scale(0.015625)\"/>\n        <path id=\"DejaVuSans-61\" d=\"M 2194 1759 \nQ 1497 1759 1228 1600 \nQ 959 1441 959 1056 \nQ 959 750 1161 570 \nQ 1363 391 1709 391 \nQ 2188 391 2477 730 \nQ 2766 1069 2766 1631 \nL 2766 1759 \nL 2194 1759 \nz\nM 3341 1997 \nL 3341 0 \nL 2766 0 \nL 2766 531 \nQ 2569 213 2275 61 \nQ 1981 -91 1556 -91 \nQ 1019 -91 701 211 \nQ 384 513 384 1019 \nQ 384 1609 779 1909 \nQ 1175 2209 1959 2209 \nL 2766 2209 \nL 2766 2266 \nQ 2766 2663 2505 2880 \nQ 2244 3097 1772 3097 \nQ 1472 3097 1187 3025 \nQ 903 2953 641 2809 \nL 641 3341 \nQ 956 3463 1253 3523 \nQ 1550 3584 1831 3584 \nQ 2591 3584 2966 3190 \nQ 3341 2797 3341 1997 \nz\n\" transform=\"scale(0.015625)\"/>\n        <path id=\"DejaVuSans-6e\" d=\"M 3513 2113 \nL 3513 0 \nL 2938 0 \nL 2938 2094 \nQ 2938 2591 2744 2837 \nQ 2550 3084 2163 3084 \nQ 1697 3084 1428 2787 \nQ 1159 2491 1159 1978 \nL 1159 0 \nL 581 0 \nL 581 3500 \nL 1159 3500 \nL 1159 2956 \nQ 1366 3272 1645 3428 \nQ 1925 3584 2291 3584 \nQ 2894 3584 3203 3211 \nQ 3513 2838 3513 2113 \nz\n\" transform=\"scale(0.015625)\"/>\n        <path id=\"DejaVuSans-63\" d=\"M 3122 3366 \nL 3122 2828 \nQ 2878 2963 2633 3030 \nQ 2388 3097 2138 3097 \nQ 1578 3097 1268 2742 \nQ 959 2388 959 1747 \nQ 959 1106 1268 751 \nQ 1578 397 2138 397 \nQ 2388 397 2633 464 \nQ 2878 531 3122 666 \nL 3122 134 \nQ 2881 22 2623 -34 \nQ 2366 -91 2075 -91 \nQ 1284 -91 818 406 \nQ 353 903 353 1747 \nQ 353 2603 823 3093 \nQ 1294 3584 2113 3584 \nQ 2378 3584 2631 3529 \nQ 2884 3475 3122 3366 \nz\n\" transform=\"scale(0.015625)\"/>\n        <path id=\"DejaVuSans-65\" d=\"M 3597 1894 \nL 3597 1613 \nL 953 1613 \nQ 991 1019 1311 708 \nQ 1631 397 2203 397 \nQ 2534 397 2845 478 \nQ 3156 559 3463 722 \nL 3463 178 \nQ 3153 47 2828 -22 \nQ 2503 -91 2169 -91 \nQ 1331 -91 842 396 \nQ 353 884 353 1716 \nQ 353 2575 817 3079 \nQ 1281 3584 2069 3584 \nQ 2775 3584 3186 3129 \nQ 3597 2675 3597 1894 \nz\nM 3022 2063 \nQ 3016 2534 2758 2815 \nQ 2500 3097 2075 3097 \nQ 1594 3097 1305 2825 \nQ 1016 2553 972 2059 \nL 3022 2063 \nz\n\" transform=\"scale(0.015625)\"/>\n       </defs>\n       <use xlink:href=\"#DejaVuSans-46\"/>\n       <use xlink:href=\"#DejaVuSans-72\" x=\"50.269531\"/>\n       <use xlink:href=\"#DejaVuSans-61\" x=\"91.382812\"/>\n       <use xlink:href=\"#DejaVuSans-6e\" x=\"152.662109\"/>\n       <use xlink:href=\"#DejaVuSans-63\" x=\"216.041016\"/>\n       <use xlink:href=\"#DejaVuSans-65\" x=\"271.021484\"/>\n      </g>\n     </g>\n    </g>\n    <g id=\"xtick_2\">\n     <g id=\"line2d_2\">\n      <g>\n       <use xlink:href=\"#m3809228851\" x=\"270.165625\" y=\"450.72\" style=\"stroke: #000000; stroke-width: 0.8\"/>\n      </g>\n     </g>\n     <g id=\"text_2\">\n      <!-- Italy -->\n      <g transform=\"translate(264.446346 478.433809) rotate(-45) scale(0.1 -0.1)\">\n       <defs>\n        <path id=\"DejaVuSans-49\" d=\"M 628 4666 \nL 1259 4666 \nL 1259 0 \nL 628 0 \nL 628 4666 \nz\n\" transform=\"scale(0.015625)\"/>\n        <path id=\"DejaVuSans-74\" d=\"M 1172 4494 \nL 1172 3500 \nL 2356 3500 \nL 2356 3053 \nL 1172 3053 \nL 1172 1153 \nQ 1172 725 1289 603 \nQ 1406 481 1766 481 \nL 2356 481 \nL 2356 0 \nL 1766 0 \nQ 1100 0 847 248 \nQ 594 497 594 1153 \nL 594 3053 \nL 172 3053 \nL 172 3500 \nL 594 3500 \nL 594 4494 \nL 1172 4494 \nz\n\" transform=\"scale(0.015625)\"/>\n        <path id=\"DejaVuSans-6c\" d=\"M 603 4863 \nL 1178 4863 \nL 1178 0 \nL 603 0 \nL 603 4863 \nz\n\" transform=\"scale(0.015625)\"/>\n        <path id=\"DejaVuSans-79\" d=\"M 2059 -325 \nQ 1816 -950 1584 -1140 \nQ 1353 -1331 966 -1331 \nL 506 -1331 \nL 506 -850 \nL 844 -850 \nQ 1081 -850 1212 -737 \nQ 1344 -625 1503 -206 \nL 1606 56 \nL 191 3500 \nL 800 3500 \nL 1894 763 \nL 2988 3500 \nL 3597 3500 \nL 2059 -325 \nz\n\" transform=\"scale(0.015625)\"/>\n       </defs>\n       <use xlink:href=\"#DejaVuSans-49\"/>\n       <use xlink:href=\"#DejaVuSans-74\" x=\"29.492188\"/>\n       <use xlink:href=\"#DejaVuSans-61\" x=\"68.701172\"/>\n       <use xlink:href=\"#DejaVuSans-6c\" x=\"129.980469\"/>\n       <use xlink:href=\"#DejaVuSans-79\" x=\"157.763672\"/>\n      </g>\n     </g>\n    </g>\n    <g id=\"xtick_3\">\n     <g id=\"line2d_3\">\n      <g>\n       <use xlink:href=\"#m3809228851\" x=\"418.965625\" y=\"450.72\" style=\"stroke: #000000; stroke-width: 0.8\"/>\n      </g>\n     </g>\n     <g id=\"text_3\">\n      <!-- Spain -->\n      <g transform=\"translate(411.038295 482.849912) rotate(-45) scale(0.1 -0.1)\">\n       <defs>\n        <path id=\"DejaVuSans-53\" d=\"M 3425 4513 \nL 3425 3897 \nQ 3066 4069 2747 4153 \nQ 2428 4238 2131 4238 \nQ 1616 4238 1336 4038 \nQ 1056 3838 1056 3469 \nQ 1056 3159 1242 3001 \nQ 1428 2844 1947 2747 \nL 2328 2669 \nQ 3034 2534 3370 2195 \nQ 3706 1856 3706 1288 \nQ 3706 609 3251 259 \nQ 2797 -91 1919 -91 \nQ 1588 -91 1214 -16 \nQ 841 59 441 206 \nL 441 856 \nQ 825 641 1194 531 \nQ 1563 422 1919 422 \nQ 2459 422 2753 634 \nQ 3047 847 3047 1241 \nQ 3047 1584 2836 1778 \nQ 2625 1972 2144 2069 \nL 1759 2144 \nQ 1053 2284 737 2584 \nQ 422 2884 422 3419 \nQ 422 4038 858 4394 \nQ 1294 4750 2059 4750 \nQ 2388 4750 2728 4690 \nQ 3069 4631 3425 4513 \nz\n\" transform=\"scale(0.015625)\"/>\n        <path id=\"DejaVuSans-70\" d=\"M 1159 525 \nL 1159 -1331 \nL 581 -1331 \nL 581 3500 \nL 1159 3500 \nL 1159 2969 \nQ 1341 3281 1617 3432 \nQ 1894 3584 2278 3584 \nQ 2916 3584 3314 3078 \nQ 3713 2572 3713 1747 \nQ 3713 922 3314 415 \nQ 2916 -91 2278 -91 \nQ 1894 -91 1617 61 \nQ 1341 213 1159 525 \nz\nM 3116 1747 \nQ 3116 2381 2855 2742 \nQ 2594 3103 2138 3103 \nQ 1681 3103 1420 2742 \nQ 1159 2381 1159 1747 \nQ 1159 1113 1420 752 \nQ 1681 391 2138 391 \nQ 2594 391 2855 752 \nQ 3116 1113 3116 1747 \nz\n\" transform=\"scale(0.015625)\"/>\n        <path id=\"DejaVuSans-69\" d=\"M 603 3500 \nL 1178 3500 \nL 1178 0 \nL 603 0 \nL 603 3500 \nz\nM 603 4863 \nL 1178 4863 \nL 1178 4134 \nL 603 4134 \nL 603 4863 \nz\n\" transform=\"scale(0.015625)\"/>\n       </defs>\n       <use xlink:href=\"#DejaVuSans-53\"/>\n       <use xlink:href=\"#DejaVuSans-70\" x=\"63.476562\"/>\n       <use xlink:href=\"#DejaVuSans-61\" x=\"126.953125\"/>\n       <use xlink:href=\"#DejaVuSans-69\" x=\"188.232422\"/>\n       <use xlink:href=\"#DejaVuSans-6e\" x=\"216.015625\"/>\n      </g>\n     </g>\n    </g>\n    <g id=\"xtick_4\">\n     <g id=\"line2d_4\">\n      <g>\n       <use xlink:href=\"#m3809228851\" x=\"567.765625\" y=\"450.72\" style=\"stroke: #000000; stroke-width: 0.8\"/>\n      </g>\n     </g>\n     <g id=\"text_4\">\n      <!-- Portugal -->\n      <g transform=\"translate(555.076373 492.373757) rotate(-45) scale(0.1 -0.1)\">\n       <defs>\n        <path id=\"DejaVuSans-50\" d=\"M 1259 4147 \nL 1259 2394 \nL 2053 2394 \nQ 2494 2394 2734 2622 \nQ 2975 2850 2975 3272 \nQ 2975 3691 2734 3919 \nQ 2494 4147 2053 4147 \nL 1259 4147 \nz\nM 628 4666 \nL 2053 4666 \nQ 2838 4666 3239 4311 \nQ 3641 3956 3641 3272 \nQ 3641 2581 3239 2228 \nQ 2838 1875 2053 1875 \nL 1259 1875 \nL 1259 0 \nL 628 0 \nL 628 4666 \nz\n\" transform=\"scale(0.015625)\"/>\n        <path id=\"DejaVuSans-6f\" d=\"M 1959 3097 \nQ 1497 3097 1228 2736 \nQ 959 2375 959 1747 \nQ 959 1119 1226 758 \nQ 1494 397 1959 397 \nQ 2419 397 2687 759 \nQ 2956 1122 2956 1747 \nQ 2956 2369 2687 2733 \nQ 2419 3097 1959 3097 \nz\nM 1959 3584 \nQ 2709 3584 3137 3096 \nQ 3566 2609 3566 1747 \nQ 3566 888 3137 398 \nQ 2709 -91 1959 -91 \nQ 1206 -91 779 398 \nQ 353 888 353 1747 \nQ 353 2609 779 3096 \nQ 1206 3584 1959 3584 \nz\n\" transform=\"scale(0.015625)\"/>\n        <path id=\"DejaVuSans-75\" d=\"M 544 1381 \nL 544 3500 \nL 1119 3500 \nL 1119 1403 \nQ 1119 906 1312 657 \nQ 1506 409 1894 409 \nQ 2359 409 2629 706 \nQ 2900 1003 2900 1516 \nL 2900 3500 \nL 3475 3500 \nL 3475 0 \nL 2900 0 \nL 2900 538 \nQ 2691 219 2414 64 \nQ 2138 -91 1772 -91 \nQ 1169 -91 856 284 \nQ 544 659 544 1381 \nz\nM 1991 3584 \nL 1991 3584 \nz\n\" transform=\"scale(0.015625)\"/>\n        <path id=\"DejaVuSans-67\" d=\"M 2906 1791 \nQ 2906 2416 2648 2759 \nQ 2391 3103 1925 3103 \nQ 1463 3103 1205 2759 \nQ 947 2416 947 1791 \nQ 947 1169 1205 825 \nQ 1463 481 1925 481 \nQ 2391 481 2648 825 \nQ 2906 1169 2906 1791 \nz\nM 3481 434 \nQ 3481 -459 3084 -895 \nQ 2688 -1331 1869 -1331 \nQ 1566 -1331 1297 -1286 \nQ 1028 -1241 775 -1147 \nL 775 -588 \nQ 1028 -725 1275 -790 \nQ 1522 -856 1778 -856 \nQ 2344 -856 2625 -561 \nQ 2906 -266 2906 331 \nL 2906 616 \nQ 2728 306 2450 153 \nQ 2172 0 1784 0 \nQ 1141 0 747 490 \nQ 353 981 353 1791 \nQ 353 2603 747 3093 \nQ 1141 3584 1784 3584 \nQ 2172 3584 2450 3431 \nQ 2728 3278 2906 2969 \nL 2906 3500 \nL 3481 3500 \nL 3481 434 \nz\n\" transform=\"scale(0.015625)\"/>\n       </defs>\n       <use xlink:href=\"#DejaVuSans-50\"/>\n       <use xlink:href=\"#DejaVuSans-6f\" x=\"56.677734\"/>\n       <use xlink:href=\"#DejaVuSans-72\" x=\"117.859375\"/>\n       <use xlink:href=\"#DejaVuSans-74\" x=\"158.972656\"/>\n       <use xlink:href=\"#DejaVuSans-75\" x=\"198.181641\"/>\n       <use xlink:href=\"#DejaVuSans-67\" x=\"261.560547\"/>\n       <use xlink:href=\"#DejaVuSans-61\" x=\"325.037109\"/>\n       <use xlink:href=\"#DejaVuSans-6c\" x=\"386.316406\"/>\n      </g>\n     </g>\n    </g>\n    <g id=\"xtick_5\">\n     <g id=\"line2d_5\">\n      <g>\n       <use xlink:href=\"#m3809228851\" x=\"716.565625\" y=\"450.72\" style=\"stroke: #000000; stroke-width: 0.8\"/>\n      </g>\n     </g>\n     <g id=\"text_5\">\n      <!-- Argentina -->\n      <g transform=\"translate(701.270574 497.585354) rotate(-45) scale(0.1 -0.1)\">\n       <defs>\n        <path id=\"DejaVuSans-41\" d=\"M 2188 4044 \nL 1331 1722 \nL 3047 1722 \nL 2188 4044 \nz\nM 1831 4666 \nL 2547 4666 \nL 4325 0 \nL 3669 0 \nL 3244 1197 \nL 1141 1197 \nL 716 0 \nL 50 0 \nL 1831 4666 \nz\n\" transform=\"scale(0.015625)\"/>\n       </defs>\n       <use xlink:href=\"#DejaVuSans-41\"/>\n       <use xlink:href=\"#DejaVuSans-72\" x=\"68.408203\"/>\n       <use xlink:href=\"#DejaVuSans-67\" x=\"107.771484\"/>\n       <use xlink:href=\"#DejaVuSans-65\" x=\"171.248047\"/>\n       <use xlink:href=\"#DejaVuSans-6e\" x=\"232.771484\"/>\n       <use xlink:href=\"#DejaVuSans-74\" x=\"296.150391\"/>\n       <use xlink:href=\"#DejaVuSans-69\" x=\"335.359375\"/>\n       <use xlink:href=\"#DejaVuSans-6e\" x=\"363.142578\"/>\n       <use xlink:href=\"#DejaVuSans-61\" x=\"426.521484\"/>\n      </g>\n     </g>\n    </g>\n    <g id=\"xtick_6\">\n     <g id=\"line2d_6\">\n      <g>\n       <use xlink:href=\"#m3809228851\" x=\"865.365625\" y=\"450.72\" style=\"stroke: #000000; stroke-width: 0.8\"/>\n      </g>\n     </g>\n     <g id=\"text_6\">\n      <!-- Chile -->\n      <g transform=\"translate(858.467467 480.791568) rotate(-45) scale(0.1 -0.1)\">\n       <defs>\n        <path id=\"DejaVuSans-43\" d=\"M 4122 4306 \nL 4122 3641 \nQ 3803 3938 3442 4084 \nQ 3081 4231 2675 4231 \nQ 1875 4231 1450 3742 \nQ 1025 3253 1025 2328 \nQ 1025 1406 1450 917 \nQ 1875 428 2675 428 \nQ 3081 428 3442 575 \nQ 3803 722 4122 1019 \nL 4122 359 \nQ 3791 134 3420 21 \nQ 3050 -91 2638 -91 \nQ 1578 -91 968 557 \nQ 359 1206 359 2328 \nQ 359 3453 968 4101 \nQ 1578 4750 2638 4750 \nQ 3056 4750 3426 4639 \nQ 3797 4528 4122 4306 \nz\n\" transform=\"scale(0.015625)\"/>\n        <path id=\"DejaVuSans-68\" d=\"M 3513 2113 \nL 3513 0 \nL 2938 0 \nL 2938 2094 \nQ 2938 2591 2744 2837 \nQ 2550 3084 2163 3084 \nQ 1697 3084 1428 2787 \nQ 1159 2491 1159 1978 \nL 1159 0 \nL 581 0 \nL 581 4863 \nL 1159 4863 \nL 1159 2956 \nQ 1366 3272 1645 3428 \nQ 1925 3584 2291 3584 \nQ 2894 3584 3203 3211 \nQ 3513 2838 3513 2113 \nz\n\" transform=\"scale(0.015625)\"/>\n       </defs>\n       <use xlink:href=\"#DejaVuSans-43\"/>\n       <use xlink:href=\"#DejaVuSans-68\" x=\"69.824219\"/>\n       <use xlink:href=\"#DejaVuSans-69\" x=\"133.203125\"/>\n       <use xlink:href=\"#DejaVuSans-6c\" x=\"160.986328\"/>\n       <use xlink:href=\"#DejaVuSans-65\" x=\"188.769531\"/>\n      </g>\n     </g>\n    </g>\n    <g id=\"text_7\">\n     <!-- country -->\n     <g transform=\"translate(474.244531 510.654353) scale(0.1 -0.1)\">\n      <use xlink:href=\"#DejaVuSans-63\"/>\n      <use xlink:href=\"#DejaVuSans-6f\" x=\"54.980469\"/>\n      <use xlink:href=\"#DejaVuSans-75\" x=\"116.162109\"/>\n      <use xlink:href=\"#DejaVuSans-6e\" x=\"179.541016\"/>\n      <use xlink:href=\"#DejaVuSans-74\" x=\"242.919922\"/>\n      <use xlink:href=\"#DejaVuSans-72\" x=\"282.128906\"/>\n      <use xlink:href=\"#DejaVuSans-79\" x=\"323.242188\"/>\n     </g>\n    </g>\n   </g>\n   <g id=\"matplotlib.axis_2\">\n    <g id=\"ytick_1\">\n     <g id=\"line2d_7\">\n      <defs>\n       <path id=\"m4c157d3f77\" d=\"M 0 0 \nL -3.5 0 \n\" style=\"stroke: #000000; stroke-width: 0.8\"/>\n      </defs>\n      <g>\n       <use xlink:href=\"#m4c157d3f77\" x=\"46.965625\" y=\"450.72\" style=\"stroke: #000000; stroke-width: 0.8\"/>\n      </g>\n     </g>\n     <g id=\"text_8\">\n      <!-- 0 -->\n      <g transform=\"translate(33.603125 454.519219) scale(0.1 -0.1)\">\n       <defs>\n        <path id=\"DejaVuSans-30\" d=\"M 2034 4250 \nQ 1547 4250 1301 3770 \nQ 1056 3291 1056 2328 \nQ 1056 1369 1301 889 \nQ 1547 409 2034 409 \nQ 2525 409 2770 889 \nQ 3016 1369 3016 2328 \nQ 3016 3291 2770 3770 \nQ 2525 4250 2034 4250 \nz\nM 2034 4750 \nQ 2819 4750 3233 4129 \nQ 3647 3509 3647 2328 \nQ 3647 1150 3233 529 \nQ 2819 -91 2034 -91 \nQ 1250 -91 836 529 \nQ 422 1150 422 2328 \nQ 422 3509 836 4129 \nQ 1250 4750 2034 4750 \nz\n\" transform=\"scale(0.015625)\"/>\n       </defs>\n       <use xlink:href=\"#DejaVuSans-30\"/>\n      </g>\n     </g>\n    </g>\n    <g id=\"ytick_2\">\n     <g id=\"line2d_8\">\n      <g>\n       <use xlink:href=\"#m4c157d3f77\" x=\"46.965625\" y=\"395.862857\" style=\"stroke: #000000; stroke-width: 0.8\"/>\n      </g>\n     </g>\n     <g id=\"text_9\">\n      <!-- 20 -->\n      <g transform=\"translate(27.240625 399.662076) scale(0.1 -0.1)\">\n       <defs>\n        <path id=\"DejaVuSans-32\" d=\"M 1228 531 \nL 3431 531 \nL 3431 0 \nL 469 0 \nL 469 531 \nQ 828 903 1448 1529 \nQ 2069 2156 2228 2338 \nQ 2531 2678 2651 2914 \nQ 2772 3150 2772 3378 \nQ 2772 3750 2511 3984 \nQ 2250 4219 1831 4219 \nQ 1534 4219 1204 4116 \nQ 875 4013 500 3803 \nL 500 4441 \nQ 881 4594 1212 4672 \nQ 1544 4750 1819 4750 \nQ 2544 4750 2975 4387 \nQ 3406 4025 3406 3419 \nQ 3406 3131 3298 2873 \nQ 3191 2616 2906 2266 \nQ 2828 2175 2409 1742 \nQ 1991 1309 1228 531 \nz\n\" transform=\"scale(0.015625)\"/>\n       </defs>\n       <use xlink:href=\"#DejaVuSans-32\"/>\n       <use xlink:href=\"#DejaVuSans-30\" x=\"63.623047\"/>\n      </g>\n     </g>\n    </g>\n    <g id=\"ytick_3\">\n     <g id=\"line2d_9\">\n      <g>\n       <use xlink:href=\"#m4c157d3f77\" x=\"46.965625\" y=\"341.005714\" style=\"stroke: #000000; stroke-width: 0.8\"/>\n      </g>\n     </g>\n     <g id=\"text_10\">\n      <!-- 40 -->\n      <g transform=\"translate(27.240625 344.804933) scale(0.1 -0.1)\">\n       <defs>\n        <path id=\"DejaVuSans-34\" d=\"M 2419 4116 \nL 825 1625 \nL 2419 1625 \nL 2419 4116 \nz\nM 2253 4666 \nL 3047 4666 \nL 3047 1625 \nL 3713 1625 \nL 3713 1100 \nL 3047 1100 \nL 3047 0 \nL 2419 0 \nL 2419 1100 \nL 313 1100 \nL 313 1709 \nL 2253 4666 \nz\n\" transform=\"scale(0.015625)\"/>\n       </defs>\n       <use xlink:href=\"#DejaVuSans-34\"/>\n       <use xlink:href=\"#DejaVuSans-30\" x=\"63.623047\"/>\n      </g>\n     </g>\n    </g>\n    <g id=\"ytick_4\">\n     <g id=\"line2d_10\">\n      <g>\n       <use xlink:href=\"#m4c157d3f77\" x=\"46.965625\" y=\"286.148571\" style=\"stroke: #000000; stroke-width: 0.8\"/>\n      </g>\n     </g>\n     <g id=\"text_11\">\n      <!-- 60 -->\n      <g transform=\"translate(27.240625 289.94779) scale(0.1 -0.1)\">\n       <defs>\n        <path id=\"DejaVuSans-36\" d=\"M 2113 2584 \nQ 1688 2584 1439 2293 \nQ 1191 2003 1191 1497 \nQ 1191 994 1439 701 \nQ 1688 409 2113 409 \nQ 2538 409 2786 701 \nQ 3034 994 3034 1497 \nQ 3034 2003 2786 2293 \nQ 2538 2584 2113 2584 \nz\nM 3366 4563 \nL 3366 3988 \nQ 3128 4100 2886 4159 \nQ 2644 4219 2406 4219 \nQ 1781 4219 1451 3797 \nQ 1122 3375 1075 2522 \nQ 1259 2794 1537 2939 \nQ 1816 3084 2150 3084 \nQ 2853 3084 3261 2657 \nQ 3669 2231 3669 1497 \nQ 3669 778 3244 343 \nQ 2819 -91 2113 -91 \nQ 1303 -91 875 529 \nQ 447 1150 447 2328 \nQ 447 3434 972 4092 \nQ 1497 4750 2381 4750 \nQ 2619 4750 2861 4703 \nQ 3103 4656 3366 4563 \nz\n\" transform=\"scale(0.015625)\"/>\n       </defs>\n       <use xlink:href=\"#DejaVuSans-36\"/>\n       <use xlink:href=\"#DejaVuSans-30\" x=\"63.623047\"/>\n      </g>\n     </g>\n    </g>\n    <g id=\"ytick_5\">\n     <g id=\"line2d_11\">\n      <g>\n       <use xlink:href=\"#m4c157d3f77\" x=\"46.965625\" y=\"231.291429\" style=\"stroke: #000000; stroke-width: 0.8\"/>\n      </g>\n     </g>\n     <g id=\"text_12\">\n      <!-- 80 -->\n      <g transform=\"translate(27.240625 235.090647) scale(0.1 -0.1)\">\n       <defs>\n        <path id=\"DejaVuSans-38\" d=\"M 2034 2216 \nQ 1584 2216 1326 1975 \nQ 1069 1734 1069 1313 \nQ 1069 891 1326 650 \nQ 1584 409 2034 409 \nQ 2484 409 2743 651 \nQ 3003 894 3003 1313 \nQ 3003 1734 2745 1975 \nQ 2488 2216 2034 2216 \nz\nM 1403 2484 \nQ 997 2584 770 2862 \nQ 544 3141 544 3541 \nQ 544 4100 942 4425 \nQ 1341 4750 2034 4750 \nQ 2731 4750 3128 4425 \nQ 3525 4100 3525 3541 \nQ 3525 3141 3298 2862 \nQ 3072 2584 2669 2484 \nQ 3125 2378 3379 2068 \nQ 3634 1759 3634 1313 \nQ 3634 634 3220 271 \nQ 2806 -91 2034 -91 \nQ 1263 -91 848 271 \nQ 434 634 434 1313 \nQ 434 1759 690 2068 \nQ 947 2378 1403 2484 \nz\nM 1172 3481 \nQ 1172 3119 1398 2916 \nQ 1625 2713 2034 2713 \nQ 2441 2713 2670 2916 \nQ 2900 3119 2900 3481 \nQ 2900 3844 2670 4047 \nQ 2441 4250 2034 4250 \nQ 1625 4250 1398 4047 \nQ 1172 3844 1172 3481 \nz\n\" transform=\"scale(0.015625)\"/>\n       </defs>\n       <use xlink:href=\"#DejaVuSans-38\"/>\n       <use xlink:href=\"#DejaVuSans-30\" x=\"63.623047\"/>\n      </g>\n     </g>\n    </g>\n    <g id=\"ytick_6\">\n     <g id=\"line2d_12\">\n      <g>\n       <use xlink:href=\"#m4c157d3f77\" x=\"46.965625\" y=\"176.434286\" style=\"stroke: #000000; stroke-width: 0.8\"/>\n      </g>\n     </g>\n     <g id=\"text_13\">\n      <!-- 100 -->\n      <g transform=\"translate(20.878125 180.233504) scale(0.1 -0.1)\">\n       <defs>\n        <path id=\"DejaVuSans-31\" d=\"M 794 531 \nL 1825 531 \nL 1825 4091 \nL 703 3866 \nL 703 4441 \nL 1819 4666 \nL 2450 4666 \nL 2450 531 \nL 3481 531 \nL 3481 0 \nL 794 0 \nL 794 531 \nz\n\" transform=\"scale(0.015625)\"/>\n       </defs>\n       <use xlink:href=\"#DejaVuSans-31\"/>\n       <use xlink:href=\"#DejaVuSans-30\" x=\"63.623047\"/>\n       <use xlink:href=\"#DejaVuSans-30\" x=\"127.246094\"/>\n      </g>\n     </g>\n    </g>\n    <g id=\"ytick_7\">\n     <g id=\"line2d_13\">\n      <g>\n       <use xlink:href=\"#m4c157d3f77\" x=\"46.965625\" y=\"121.577143\" style=\"stroke: #000000; stroke-width: 0.8\"/>\n      </g>\n     </g>\n     <g id=\"text_14\">\n      <!-- 120 -->\n      <g transform=\"translate(20.878125 125.376362) scale(0.1 -0.1)\">\n       <use xlink:href=\"#DejaVuSans-31\"/>\n       <use xlink:href=\"#DejaVuSans-32\" x=\"63.623047\"/>\n       <use xlink:href=\"#DejaVuSans-30\" x=\"127.246094\"/>\n      </g>\n     </g>\n    </g>\n    <g id=\"ytick_8\">\n     <g id=\"line2d_14\">\n      <g>\n       <use xlink:href=\"#m4c157d3f77\" x=\"46.965625\" y=\"66.72\" style=\"stroke: #000000; stroke-width: 0.8\"/>\n      </g>\n     </g>\n     <g id=\"text_15\">\n      <!-- 140 -->\n      <g transform=\"translate(20.878125 70.519219) scale(0.1 -0.1)\">\n       <use xlink:href=\"#DejaVuSans-31\"/>\n       <use xlink:href=\"#DejaVuSans-34\" x=\"63.623047\"/>\n       <use xlink:href=\"#DejaVuSans-30\" x=\"127.246094\"/>\n      </g>\n     </g>\n    </g>\n    <g id=\"ytick_9\">\n     <g id=\"line2d_15\">\n      <g>\n       <use xlink:href=\"#m4c157d3f77\" x=\"46.965625\" y=\"11.862857\" style=\"stroke: #000000; stroke-width: 0.8\"/>\n      </g>\n     </g>\n     <g id=\"text_16\">\n      <!-- 160 -->\n      <g transform=\"translate(20.878125 15.662076) scale(0.1 -0.1)\">\n       <use xlink:href=\"#DejaVuSans-31\"/>\n       <use xlink:href=\"#DejaVuSans-36\" x=\"63.623047\"/>\n       <use xlink:href=\"#DejaVuSans-30\" x=\"127.246094\"/>\n      </g>\n     </g>\n    </g>\n    <g id=\"text_17\">\n     <!-- count -->\n     <g transform=\"translate(14.798438 243.06625) rotate(-90) scale(0.1 -0.1)\">\n      <use xlink:href=\"#DejaVuSans-63\"/>\n      <use xlink:href=\"#DejaVuSans-6f\" x=\"54.980469\"/>\n      <use xlink:href=\"#DejaVuSans-75\" x=\"116.162109\"/>\n      <use xlink:href=\"#DejaVuSans-6e\" x=\"179.541016\"/>\n      <use xlink:href=\"#DejaVuSans-74\" x=\"242.919922\"/>\n     </g>\n    </g>\n   </g>\n   <g id=\"patch_9\">\n    <path d=\"M 46.965625 450.72 \nL 46.965625 7.2 \n\" style=\"fill: none; stroke: #000000; stroke-width: 0.8; stroke-linejoin: miter; stroke-linecap: square\"/>\n   </g>\n   <g id=\"patch_10\">\n    <path d=\"M 939.765625 450.72 \nL 939.765625 7.2 \n\" style=\"fill: none; stroke: #000000; stroke-width: 0.8; stroke-linejoin: miter; stroke-linecap: square\"/>\n   </g>\n   <g id=\"patch_11\">\n    <path d=\"M 46.965625 450.72 \nL 939.765625 450.72 \n\" style=\"fill: none; stroke: #000000; stroke-width: 0.8; stroke-linejoin: miter; stroke-linecap: square\"/>\n   </g>\n   <g id=\"patch_12\">\n    <path d=\"M 46.965625 7.2 \nL 939.765625 7.2 \n\" style=\"fill: none; stroke: #000000; stroke-width: 0.8; stroke-linejoin: miter; stroke-linecap: square\"/>\n   </g>\n  </g>\n </g>\n <defs>\n  <clipPath id=\"pc975672005\">\n   <rect x=\"46.965625\" y=\"7.2\" width=\"892.8\" height=\"443.52\"/>\n  </clipPath>\n </defs>\n</svg>\n"
          },
          "metadata": {}
        }
      ]
    },
    {
      "cell_type": "markdown",
      "source": [
        "Na variável region temos Burgundy representando 32% do conjunto, seguido por Bordeaux 21% e Rhone 6%"
      ],
      "metadata": {
        "id": "CMMk2rt4gAwc"
      }
    },
    {
      "cell_type": "code",
      "source": [
        "\n",
        "# Create a copy of the original DataFrame\n",
        "df_region_analysis = df_products_raw.copy()\n",
        "region_values_list = df_region_analysis['region'].tolist()\n",
        "\n",
        "data = {\n",
        "    'producer': region_values_list\n",
        "}\n",
        "\n",
        "# Zähle die Anzahl der Produzenten\n",
        "producer_counts = df_region_analysis['region'].value_counts()\n",
        "\n",
        "# Berechne den Prozentsatz\n",
        "producer_percentages = (producer_counts / producer_counts.sum()) * 100\n",
        "\n",
        "# Erstelle ein neues DataFrame für die Tabelle\n",
        "producer_table = pd.DataFrame({\n",
        "    'Region': producer_counts.index,\n",
        "    'Anzahl': producer_counts.values,\n",
        "    'Prozent (%)': producer_percentages.values\n",
        "})\n",
        "\n",
        "# Erstelle eine Tabelle mit Plotly\n",
        "table = go.Table(\n",
        "    header=dict(\n",
        "        values=[\"<b>Region</b>\", \"<b>Anzahl</b>\", \"<b>Prozent (%)</b>\"],\n",
        "        fill_color='paleturquoise',\n",
        "        align='left'\n",
        "    ),\n",
        "    cells=dict(\n",
        "        values=[\n",
        "            producer_table['Region'],\n",
        "            producer_table['Anzahl'],\n",
        "            producer_table['Prozent (%)'].round(2)\n",
        "        ],\n",
        "        fill_color='lavender',\n",
        "        align='left'\n",
        "    )\n",
        ")\n",
        "\n",
        "# Erstelle das Layout und zeige die Tabelle\n",
        "fig = go.Figure(data=[table])\n",
        "fig.update_layout(\n",
        "    title=\"Region: Anzahl von Weine  pro Region.\",\n",
        "    autosize=True,\n",
        "    width=900,\n",
        "    height=800,\n",
        "    annotations=[\n",
        "        dict(\n",
        "            text=\"Na variável region temos Burgundy representando 32% do conjunto, seguido por Bordeaux 21% e Rhone 6%\",\n",
        "            x=0.5,  # Horizontale Position (0 = links, 1 = rechts)\n",
        "            y=0.1,  # Vertikale Position unterhalb der Tabelle (negative Werte)\n",
        "            xref=\"paper\",\n",
        "            yref=\"paper\",\n",
        "            showarrow=True,\n",
        "            font=dict(size=16)\n",
        "        )\n",
        "    ]\n",
        ")\n",
        "fig.show()"
      ],
      "metadata": {
        "colab": {
          "base_uri": "https://localhost:8080/",
          "height": 817
        },
        "id": "oiuoKlhcauRj",
        "outputId": "e078f541-5fcc-48f2-ac75-78ae1af1638e"
      },
      "execution_count": 25,
      "outputs": [
        {
          "output_type": "display_data",
          "data": {
            "text/html": [
              "<html>\n",
              "<head><meta charset=\"utf-8\" /></head>\n",
              "<body>\n",
              "    <div>            <script src=\"https://cdnjs.cloudflare.com/ajax/libs/mathjax/2.7.5/MathJax.js?config=TeX-AMS-MML_SVG\"></script><script type=\"text/javascript\">if (window.MathJax && window.MathJax.Hub && window.MathJax.Hub.Config) {window.MathJax.Hub.Config({SVG: {font: \"STIX-Web\"}});}</script>                <script type=\"text/javascript\">window.PlotlyConfig = {MathJaxConfig: 'local'};</script>\n",
              "        <script charset=\"utf-8\" src=\"https://cdn.plot.ly/plotly-2.35.2.min.js\"></script>                <div id=\"884ac3df-2a81-441d-8a29-d53d9723b9db\" class=\"plotly-graph-div\" style=\"height:800px; width:900px;\"></div>            <script type=\"text/javascript\">                                    window.PLOTLYENV=window.PLOTLYENV || {};                                    if (document.getElementById(\"884ac3df-2a81-441d-8a29-d53d9723b9db\")) {                    Plotly.newPlot(                        \"884ac3df-2a81-441d-8a29-d53d9723b9db\",                        [{\"cells\":{\"align\":\"left\",\"fill\":{\"color\":\"lavender\"},\"values\":[[\"Burgundy\",\"Bordeaux\",\"Rhone\",\"Champagne\",\"Alentejo\",\"Rioja\",\"Toscana\",\"Mendoza\",\"Douro\",\"Provence\",\"Ribera del Duero\",\"Loire Valley\",\"Piedmont\",\"Sud Ouest\",\"Campania\",\"Navarra\",\"Veneto\",\"Puglia\",\"Alsace\",\"Penedès\",\"Maipo\"],[70,47,13,9,8,8,8,8,7,5,5,5,5,4,4,4,3,3,1,1,1],[31.96,21.46,5.94,4.11,3.65,3.65,3.65,3.65,3.2,2.28,2.28,2.28,2.28,1.83,1.83,1.83,1.37,1.37,0.46,0.46,0.46]]},\"header\":{\"align\":\"left\",\"fill\":{\"color\":\"paleturquoise\"},\"values\":[\"\\u003cb\\u003eRegion\\u003c\\u002fb\\u003e\",\"\\u003cb\\u003eAnzahl\\u003c\\u002fb\\u003e\",\"\\u003cb\\u003eProzent (%)\\u003c\\u002fb\\u003e\"]},\"type\":\"table\"}],                        {\"template\":{\"data\":{\"histogram2dcontour\":[{\"type\":\"histogram2dcontour\",\"colorbar\":{\"outlinewidth\":0,\"ticks\":\"\"},\"colorscale\":[[0.0,\"#0d0887\"],[0.1111111111111111,\"#46039f\"],[0.2222222222222222,\"#7201a8\"],[0.3333333333333333,\"#9c179e\"],[0.4444444444444444,\"#bd3786\"],[0.5555555555555556,\"#d8576b\"],[0.6666666666666666,\"#ed7953\"],[0.7777777777777778,\"#fb9f3a\"],[0.8888888888888888,\"#fdca26\"],[1.0,\"#f0f921\"]]}],\"choropleth\":[{\"type\":\"choropleth\",\"colorbar\":{\"outlinewidth\":0,\"ticks\":\"\"}}],\"histogram2d\":[{\"type\":\"histogram2d\",\"colorbar\":{\"outlinewidth\":0,\"ticks\":\"\"},\"colorscale\":[[0.0,\"#0d0887\"],[0.1111111111111111,\"#46039f\"],[0.2222222222222222,\"#7201a8\"],[0.3333333333333333,\"#9c179e\"],[0.4444444444444444,\"#bd3786\"],[0.5555555555555556,\"#d8576b\"],[0.6666666666666666,\"#ed7953\"],[0.7777777777777778,\"#fb9f3a\"],[0.8888888888888888,\"#fdca26\"],[1.0,\"#f0f921\"]]}],\"heatmap\":[{\"type\":\"heatmap\",\"colorbar\":{\"outlinewidth\":0,\"ticks\":\"\"},\"colorscale\":[[0.0,\"#0d0887\"],[0.1111111111111111,\"#46039f\"],[0.2222222222222222,\"#7201a8\"],[0.3333333333333333,\"#9c179e\"],[0.4444444444444444,\"#bd3786\"],[0.5555555555555556,\"#d8576b\"],[0.6666666666666666,\"#ed7953\"],[0.7777777777777778,\"#fb9f3a\"],[0.8888888888888888,\"#fdca26\"],[1.0,\"#f0f921\"]]}],\"heatmapgl\":[{\"type\":\"heatmapgl\",\"colorbar\":{\"outlinewidth\":0,\"ticks\":\"\"},\"colorscale\":[[0.0,\"#0d0887\"],[0.1111111111111111,\"#46039f\"],[0.2222222222222222,\"#7201a8\"],[0.3333333333333333,\"#9c179e\"],[0.4444444444444444,\"#bd3786\"],[0.5555555555555556,\"#d8576b\"],[0.6666666666666666,\"#ed7953\"],[0.7777777777777778,\"#fb9f3a\"],[0.8888888888888888,\"#fdca26\"],[1.0,\"#f0f921\"]]}],\"contourcarpet\":[{\"type\":\"contourcarpet\",\"colorbar\":{\"outlinewidth\":0,\"ticks\":\"\"}}],\"contour\":[{\"type\":\"contour\",\"colorbar\":{\"outlinewidth\":0,\"ticks\":\"\"},\"colorscale\":[[0.0,\"#0d0887\"],[0.1111111111111111,\"#46039f\"],[0.2222222222222222,\"#7201a8\"],[0.3333333333333333,\"#9c179e\"],[0.4444444444444444,\"#bd3786\"],[0.5555555555555556,\"#d8576b\"],[0.6666666666666666,\"#ed7953\"],[0.7777777777777778,\"#fb9f3a\"],[0.8888888888888888,\"#fdca26\"],[1.0,\"#f0f921\"]]}],\"surface\":[{\"type\":\"surface\",\"colorbar\":{\"outlinewidth\":0,\"ticks\":\"\"},\"colorscale\":[[0.0,\"#0d0887\"],[0.1111111111111111,\"#46039f\"],[0.2222222222222222,\"#7201a8\"],[0.3333333333333333,\"#9c179e\"],[0.4444444444444444,\"#bd3786\"],[0.5555555555555556,\"#d8576b\"],[0.6666666666666666,\"#ed7953\"],[0.7777777777777778,\"#fb9f3a\"],[0.8888888888888888,\"#fdca26\"],[1.0,\"#f0f921\"]]}],\"mesh3d\":[{\"type\":\"mesh3d\",\"colorbar\":{\"outlinewidth\":0,\"ticks\":\"\"}}],\"scatter\":[{\"fillpattern\":{\"fillmode\":\"overlay\",\"size\":10,\"solidity\":0.2},\"type\":\"scatter\"}],\"parcoords\":[{\"type\":\"parcoords\",\"line\":{\"colorbar\":{\"outlinewidth\":0,\"ticks\":\"\"}}}],\"scatterpolargl\":[{\"type\":\"scatterpolargl\",\"marker\":{\"colorbar\":{\"outlinewidth\":0,\"ticks\":\"\"}}}],\"bar\":[{\"error_x\":{\"color\":\"#2a3f5f\"},\"error_y\":{\"color\":\"#2a3f5f\"},\"marker\":{\"line\":{\"color\":\"#E5ECF6\",\"width\":0.5},\"pattern\":{\"fillmode\":\"overlay\",\"size\":10,\"solidity\":0.2}},\"type\":\"bar\"}],\"scattergeo\":[{\"type\":\"scattergeo\",\"marker\":{\"colorbar\":{\"outlinewidth\":0,\"ticks\":\"\"}}}],\"scatterpolar\":[{\"type\":\"scatterpolar\",\"marker\":{\"colorbar\":{\"outlinewidth\":0,\"ticks\":\"\"}}}],\"histogram\":[{\"marker\":{\"pattern\":{\"fillmode\":\"overlay\",\"size\":10,\"solidity\":0.2}},\"type\":\"histogram\"}],\"scattergl\":[{\"type\":\"scattergl\",\"marker\":{\"colorbar\":{\"outlinewidth\":0,\"ticks\":\"\"}}}],\"scatter3d\":[{\"type\":\"scatter3d\",\"line\":{\"colorbar\":{\"outlinewidth\":0,\"ticks\":\"\"}},\"marker\":{\"colorbar\":{\"outlinewidth\":0,\"ticks\":\"\"}}}],\"scattermapbox\":[{\"type\":\"scattermapbox\",\"marker\":{\"colorbar\":{\"outlinewidth\":0,\"ticks\":\"\"}}}],\"scatterternary\":[{\"type\":\"scatterternary\",\"marker\":{\"colorbar\":{\"outlinewidth\":0,\"ticks\":\"\"}}}],\"scattercarpet\":[{\"type\":\"scattercarpet\",\"marker\":{\"colorbar\":{\"outlinewidth\":0,\"ticks\":\"\"}}}],\"carpet\":[{\"aaxis\":{\"endlinecolor\":\"#2a3f5f\",\"gridcolor\":\"white\",\"linecolor\":\"white\",\"minorgridcolor\":\"white\",\"startlinecolor\":\"#2a3f5f\"},\"baxis\":{\"endlinecolor\":\"#2a3f5f\",\"gridcolor\":\"white\",\"linecolor\":\"white\",\"minorgridcolor\":\"white\",\"startlinecolor\":\"#2a3f5f\"},\"type\":\"carpet\"}],\"table\":[{\"cells\":{\"fill\":{\"color\":\"#EBF0F8\"},\"line\":{\"color\":\"white\"}},\"header\":{\"fill\":{\"color\":\"#C8D4E3\"},\"line\":{\"color\":\"white\"}},\"type\":\"table\"}],\"barpolar\":[{\"marker\":{\"line\":{\"color\":\"#E5ECF6\",\"width\":0.5},\"pattern\":{\"fillmode\":\"overlay\",\"size\":10,\"solidity\":0.2}},\"type\":\"barpolar\"}],\"pie\":[{\"automargin\":true,\"type\":\"pie\"}]},\"layout\":{\"autotypenumbers\":\"strict\",\"colorway\":[\"#636efa\",\"#EF553B\",\"#00cc96\",\"#ab63fa\",\"#FFA15A\",\"#19d3f3\",\"#FF6692\",\"#B6E880\",\"#FF97FF\",\"#FECB52\"],\"font\":{\"color\":\"#2a3f5f\"},\"hovermode\":\"closest\",\"hoverlabel\":{\"align\":\"left\"},\"paper_bgcolor\":\"white\",\"plot_bgcolor\":\"#E5ECF6\",\"polar\":{\"bgcolor\":\"#E5ECF6\",\"angularaxis\":{\"gridcolor\":\"white\",\"linecolor\":\"white\",\"ticks\":\"\"},\"radialaxis\":{\"gridcolor\":\"white\",\"linecolor\":\"white\",\"ticks\":\"\"}},\"ternary\":{\"bgcolor\":\"#E5ECF6\",\"aaxis\":{\"gridcolor\":\"white\",\"linecolor\":\"white\",\"ticks\":\"\"},\"baxis\":{\"gridcolor\":\"white\",\"linecolor\":\"white\",\"ticks\":\"\"},\"caxis\":{\"gridcolor\":\"white\",\"linecolor\":\"white\",\"ticks\":\"\"}},\"coloraxis\":{\"colorbar\":{\"outlinewidth\":0,\"ticks\":\"\"}},\"colorscale\":{\"sequential\":[[0.0,\"#0d0887\"],[0.1111111111111111,\"#46039f\"],[0.2222222222222222,\"#7201a8\"],[0.3333333333333333,\"#9c179e\"],[0.4444444444444444,\"#bd3786\"],[0.5555555555555556,\"#d8576b\"],[0.6666666666666666,\"#ed7953\"],[0.7777777777777778,\"#fb9f3a\"],[0.8888888888888888,\"#fdca26\"],[1.0,\"#f0f921\"]],\"sequentialminus\":[[0.0,\"#0d0887\"],[0.1111111111111111,\"#46039f\"],[0.2222222222222222,\"#7201a8\"],[0.3333333333333333,\"#9c179e\"],[0.4444444444444444,\"#bd3786\"],[0.5555555555555556,\"#d8576b\"],[0.6666666666666666,\"#ed7953\"],[0.7777777777777778,\"#fb9f3a\"],[0.8888888888888888,\"#fdca26\"],[1.0,\"#f0f921\"]],\"diverging\":[[0,\"#8e0152\"],[0.1,\"#c51b7d\"],[0.2,\"#de77ae\"],[0.3,\"#f1b6da\"],[0.4,\"#fde0ef\"],[0.5,\"#f7f7f7\"],[0.6,\"#e6f5d0\"],[0.7,\"#b8e186\"],[0.8,\"#7fbc41\"],[0.9,\"#4d9221\"],[1,\"#276419\"]]},\"xaxis\":{\"gridcolor\":\"white\",\"linecolor\":\"white\",\"ticks\":\"\",\"title\":{\"standoff\":15},\"zerolinecolor\":\"white\",\"automargin\":true,\"zerolinewidth\":2},\"yaxis\":{\"gridcolor\":\"white\",\"linecolor\":\"white\",\"ticks\":\"\",\"title\":{\"standoff\":15},\"zerolinecolor\":\"white\",\"automargin\":true,\"zerolinewidth\":2},\"scene\":{\"xaxis\":{\"backgroundcolor\":\"#E5ECF6\",\"gridcolor\":\"white\",\"linecolor\":\"white\",\"showbackground\":true,\"ticks\":\"\",\"zerolinecolor\":\"white\",\"gridwidth\":2},\"yaxis\":{\"backgroundcolor\":\"#E5ECF6\",\"gridcolor\":\"white\",\"linecolor\":\"white\",\"showbackground\":true,\"ticks\":\"\",\"zerolinecolor\":\"white\",\"gridwidth\":2},\"zaxis\":{\"backgroundcolor\":\"#E5ECF6\",\"gridcolor\":\"white\",\"linecolor\":\"white\",\"showbackground\":true,\"ticks\":\"\",\"zerolinecolor\":\"white\",\"gridwidth\":2}},\"shapedefaults\":{\"line\":{\"color\":\"#2a3f5f\"}},\"annotationdefaults\":{\"arrowcolor\":\"#2a3f5f\",\"arrowhead\":0,\"arrowwidth\":1},\"geo\":{\"bgcolor\":\"white\",\"landcolor\":\"#E5ECF6\",\"subunitcolor\":\"white\",\"showland\":true,\"showlakes\":true,\"lakecolor\":\"white\"},\"title\":{\"x\":0.05},\"mapbox\":{\"style\":\"light\"}}},\"title\":{\"text\":\"Region: Anzahl von Weine  pro Region.\"},\"autosize\":true,\"width\":900,\"height\":800,\"annotations\":[{\"font\":{\"size\":16},\"showarrow\":true,\"text\":\"Na variável region temos Burgundy representando 32% do conjunto, seguido por Bordeaux 21% e Rhone 6%\",\"x\":0.5,\"xref\":\"paper\",\"y\":0.1,\"yref\":\"paper\"}]},                        {\"responsive\": true}                    ).then(function(){\n",
              "                            \n",
              "var gd = document.getElementById('884ac3df-2a81-441d-8a29-d53d9723b9db');\n",
              "var x = new MutationObserver(function (mutations, observer) {{\n",
              "        var display = window.getComputedStyle(gd).display;\n",
              "        if (!display || display === 'none') {{\n",
              "            console.log([gd, 'removed!']);\n",
              "            Plotly.purge(gd);\n",
              "            observer.disconnect();\n",
              "        }}\n",
              "}});\n",
              "\n",
              "// Listen for the removal of the full notebook cells\n",
              "var notebookContainer = gd.closest('#notebook-container');\n",
              "if (notebookContainer) {{\n",
              "    x.observe(notebookContainer, {childList: true});\n",
              "}}\n",
              "\n",
              "// Listen for the clearing of the current output cell\n",
              "var outputEl = gd.closest('.output');\n",
              "if (outputEl) {{\n",
              "    x.observe(outputEl, {childList: true});\n",
              "}}\n",
              "\n",
              "                        })                };                            </script>        </div>\n",
              "</body>\n",
              "</html>"
            ]
          },
          "metadata": {}
        }
      ]
    },
    {
      "cell_type": "code",
      "source": [
        "# quantidade de vinhos por regiao\n",
        "#df_products_raw.region.value_counts(ascending=False)\n",
        "\n",
        "# Kopiere das ursprüngliche DataFrame\n",
        "df_region_analysis = df_products_raw.copy()\n",
        "\n",
        "# Gruppiere nach Region und berechne den Median für price_usd\n",
        "median_price_per_region = df_region_analysis.groupby(\"region\")['price_usd'].count()\n",
        "\n",
        "# Erstelle ein neues DataFrame für die Tabelle und sortiere es absteigend nach Medianpreis\n",
        "median_table = pd.DataFrame({\n",
        "    'Region': median_price_per_region.index,\n",
        "    'Anzahl': median_price_per_region.values\n",
        "}).sort_values(by=\"Anzahl\", ascending=False).reset_index(drop=True)\n",
        "\n",
        "# Erstelle eine Tabelle mit Plotly\n",
        "table = go.Table(\n",
        "    header=dict(\n",
        "        values=[\"<b>Region</b>\", \"<b>Anzahl Weine</b>\"],\n",
        "        fill_color='paleturquoise',\n",
        "        align='left'\n",
        "    ),\n",
        "    cells=dict(\n",
        "        values=[\n",
        "            median_table['Region'],\n",
        "            median_table['Anzahl'].round(2)\n",
        "        ],\n",
        "        fill_color='lavender',\n",
        "        align='left'\n",
        "    )\n",
        ")\n",
        "\n",
        "# Erstelle das Layout und zeige die Tabelle\n",
        "fig = go.Figure(data=[table])\n",
        "fig.update_layout(\n",
        "    title=\"Region: Anzhal von Weine pro Region .\",\n",
        "    autosize=True,\n",
        "    width=900,\n",
        "    height=800,\n",
        "    annotations=[\n",
        "        dict(\n",
        "            text=\"Die Regionen sind basierend auf dem Medianpreis sortiert – beginnend mit dem höchsten Wert.\",\n",
        "            x=0.5,  # Horizontale Position (0 = links, 1 = rechts)\n",
        "            y=-0.2,  # Vertikale Position unterhalb der Tabelle\n",
        "            xref=\"paper\",\n",
        "            yref=\"paper\",\n",
        "            showarrow=False,\n",
        "            font=dict(size=14)\n",
        "        )\n",
        "    ]\n",
        ")\n",
        "fig.show()\n"
      ],
      "metadata": {
        "colab": {
          "base_uri": "https://localhost:8080/",
          "height": 817
        },
        "id": "9O_lOpZhHk5n",
        "outputId": "d2f4be48-8985-42bf-bbe4-5555f96e76b3"
      },
      "execution_count": 26,
      "outputs": [
        {
          "output_type": "display_data",
          "data": {
            "text/html": [
              "<html>\n",
              "<head><meta charset=\"utf-8\" /></head>\n",
              "<body>\n",
              "    <div>            <script src=\"https://cdnjs.cloudflare.com/ajax/libs/mathjax/2.7.5/MathJax.js?config=TeX-AMS-MML_SVG\"></script><script type=\"text/javascript\">if (window.MathJax && window.MathJax.Hub && window.MathJax.Hub.Config) {window.MathJax.Hub.Config({SVG: {font: \"STIX-Web\"}});}</script>                <script type=\"text/javascript\">window.PlotlyConfig = {MathJaxConfig: 'local'};</script>\n",
              "        <script charset=\"utf-8\" src=\"https://cdn.plot.ly/plotly-2.35.2.min.js\"></script>                <div id=\"4b1877cd-6fd0-4075-b27d-8619af9c41cc\" class=\"plotly-graph-div\" style=\"height:800px; width:900px;\"></div>            <script type=\"text/javascript\">                                    window.PLOTLYENV=window.PLOTLYENV || {};                                    if (document.getElementById(\"4b1877cd-6fd0-4075-b27d-8619af9c41cc\")) {                    Plotly.newPlot(                        \"4b1877cd-6fd0-4075-b27d-8619af9c41cc\",                        [{\"cells\":{\"align\":\"left\",\"fill\":{\"color\":\"lavender\"},\"values\":[[\"Burgundy\",\"Bordeaux\",\"Rhone\",\"Champagne\",\"Alentejo\",\"Toscana\",\"Mendoza\",\"Rioja\",\"Douro\",\"Loire Valley\",\"Ribera del Duero\",\"Piedmont\",\"Provence\",\"Sud Ouest\",\"Navarra\",\"Campania\",\"Puglia\",\"Veneto\",\"Penedès\",\"Alsace\",\"Maipo\"],[70,47,13,9,8,8,8,8,7,5,5,5,5,4,4,4,3,3,1,1,1]]},\"header\":{\"align\":\"left\",\"fill\":{\"color\":\"paleturquoise\"},\"values\":[\"\\u003cb\\u003eRegion\\u003c\\u002fb\\u003e\",\"\\u003cb\\u003eAnzahl Weine\\u003c\\u002fb\\u003e\"]},\"type\":\"table\"}],                        {\"template\":{\"data\":{\"histogram2dcontour\":[{\"type\":\"histogram2dcontour\",\"colorbar\":{\"outlinewidth\":0,\"ticks\":\"\"},\"colorscale\":[[0.0,\"#0d0887\"],[0.1111111111111111,\"#46039f\"],[0.2222222222222222,\"#7201a8\"],[0.3333333333333333,\"#9c179e\"],[0.4444444444444444,\"#bd3786\"],[0.5555555555555556,\"#d8576b\"],[0.6666666666666666,\"#ed7953\"],[0.7777777777777778,\"#fb9f3a\"],[0.8888888888888888,\"#fdca26\"],[1.0,\"#f0f921\"]]}],\"choropleth\":[{\"type\":\"choropleth\",\"colorbar\":{\"outlinewidth\":0,\"ticks\":\"\"}}],\"histogram2d\":[{\"type\":\"histogram2d\",\"colorbar\":{\"outlinewidth\":0,\"ticks\":\"\"},\"colorscale\":[[0.0,\"#0d0887\"],[0.1111111111111111,\"#46039f\"],[0.2222222222222222,\"#7201a8\"],[0.3333333333333333,\"#9c179e\"],[0.4444444444444444,\"#bd3786\"],[0.5555555555555556,\"#d8576b\"],[0.6666666666666666,\"#ed7953\"],[0.7777777777777778,\"#fb9f3a\"],[0.8888888888888888,\"#fdca26\"],[1.0,\"#f0f921\"]]}],\"heatmap\":[{\"type\":\"heatmap\",\"colorbar\":{\"outlinewidth\":0,\"ticks\":\"\"},\"colorscale\":[[0.0,\"#0d0887\"],[0.1111111111111111,\"#46039f\"],[0.2222222222222222,\"#7201a8\"],[0.3333333333333333,\"#9c179e\"],[0.4444444444444444,\"#bd3786\"],[0.5555555555555556,\"#d8576b\"],[0.6666666666666666,\"#ed7953\"],[0.7777777777777778,\"#fb9f3a\"],[0.8888888888888888,\"#fdca26\"],[1.0,\"#f0f921\"]]}],\"heatmapgl\":[{\"type\":\"heatmapgl\",\"colorbar\":{\"outlinewidth\":0,\"ticks\":\"\"},\"colorscale\":[[0.0,\"#0d0887\"],[0.1111111111111111,\"#46039f\"],[0.2222222222222222,\"#7201a8\"],[0.3333333333333333,\"#9c179e\"],[0.4444444444444444,\"#bd3786\"],[0.5555555555555556,\"#d8576b\"],[0.6666666666666666,\"#ed7953\"],[0.7777777777777778,\"#fb9f3a\"],[0.8888888888888888,\"#fdca26\"],[1.0,\"#f0f921\"]]}],\"contourcarpet\":[{\"type\":\"contourcarpet\",\"colorbar\":{\"outlinewidth\":0,\"ticks\":\"\"}}],\"contour\":[{\"type\":\"contour\",\"colorbar\":{\"outlinewidth\":0,\"ticks\":\"\"},\"colorscale\":[[0.0,\"#0d0887\"],[0.1111111111111111,\"#46039f\"],[0.2222222222222222,\"#7201a8\"],[0.3333333333333333,\"#9c179e\"],[0.4444444444444444,\"#bd3786\"],[0.5555555555555556,\"#d8576b\"],[0.6666666666666666,\"#ed7953\"],[0.7777777777777778,\"#fb9f3a\"],[0.8888888888888888,\"#fdca26\"],[1.0,\"#f0f921\"]]}],\"surface\":[{\"type\":\"surface\",\"colorbar\":{\"outlinewidth\":0,\"ticks\":\"\"},\"colorscale\":[[0.0,\"#0d0887\"],[0.1111111111111111,\"#46039f\"],[0.2222222222222222,\"#7201a8\"],[0.3333333333333333,\"#9c179e\"],[0.4444444444444444,\"#bd3786\"],[0.5555555555555556,\"#d8576b\"],[0.6666666666666666,\"#ed7953\"],[0.7777777777777778,\"#fb9f3a\"],[0.8888888888888888,\"#fdca26\"],[1.0,\"#f0f921\"]]}],\"mesh3d\":[{\"type\":\"mesh3d\",\"colorbar\":{\"outlinewidth\":0,\"ticks\":\"\"}}],\"scatter\":[{\"fillpattern\":{\"fillmode\":\"overlay\",\"size\":10,\"solidity\":0.2},\"type\":\"scatter\"}],\"parcoords\":[{\"type\":\"parcoords\",\"line\":{\"colorbar\":{\"outlinewidth\":0,\"ticks\":\"\"}}}],\"scatterpolargl\":[{\"type\":\"scatterpolargl\",\"marker\":{\"colorbar\":{\"outlinewidth\":0,\"ticks\":\"\"}}}],\"bar\":[{\"error_x\":{\"color\":\"#2a3f5f\"},\"error_y\":{\"color\":\"#2a3f5f\"},\"marker\":{\"line\":{\"color\":\"#E5ECF6\",\"width\":0.5},\"pattern\":{\"fillmode\":\"overlay\",\"size\":10,\"solidity\":0.2}},\"type\":\"bar\"}],\"scattergeo\":[{\"type\":\"scattergeo\",\"marker\":{\"colorbar\":{\"outlinewidth\":0,\"ticks\":\"\"}}}],\"scatterpolar\":[{\"type\":\"scatterpolar\",\"marker\":{\"colorbar\":{\"outlinewidth\":0,\"ticks\":\"\"}}}],\"histogram\":[{\"marker\":{\"pattern\":{\"fillmode\":\"overlay\",\"size\":10,\"solidity\":0.2}},\"type\":\"histogram\"}],\"scattergl\":[{\"type\":\"scattergl\",\"marker\":{\"colorbar\":{\"outlinewidth\":0,\"ticks\":\"\"}}}],\"scatter3d\":[{\"type\":\"scatter3d\",\"line\":{\"colorbar\":{\"outlinewidth\":0,\"ticks\":\"\"}},\"marker\":{\"colorbar\":{\"outlinewidth\":0,\"ticks\":\"\"}}}],\"scattermapbox\":[{\"type\":\"scattermapbox\",\"marker\":{\"colorbar\":{\"outlinewidth\":0,\"ticks\":\"\"}}}],\"scatterternary\":[{\"type\":\"scatterternary\",\"marker\":{\"colorbar\":{\"outlinewidth\":0,\"ticks\":\"\"}}}],\"scattercarpet\":[{\"type\":\"scattercarpet\",\"marker\":{\"colorbar\":{\"outlinewidth\":0,\"ticks\":\"\"}}}],\"carpet\":[{\"aaxis\":{\"endlinecolor\":\"#2a3f5f\",\"gridcolor\":\"white\",\"linecolor\":\"white\",\"minorgridcolor\":\"white\",\"startlinecolor\":\"#2a3f5f\"},\"baxis\":{\"endlinecolor\":\"#2a3f5f\",\"gridcolor\":\"white\",\"linecolor\":\"white\",\"minorgridcolor\":\"white\",\"startlinecolor\":\"#2a3f5f\"},\"type\":\"carpet\"}],\"table\":[{\"cells\":{\"fill\":{\"color\":\"#EBF0F8\"},\"line\":{\"color\":\"white\"}},\"header\":{\"fill\":{\"color\":\"#C8D4E3\"},\"line\":{\"color\":\"white\"}},\"type\":\"table\"}],\"barpolar\":[{\"marker\":{\"line\":{\"color\":\"#E5ECF6\",\"width\":0.5},\"pattern\":{\"fillmode\":\"overlay\",\"size\":10,\"solidity\":0.2}},\"type\":\"barpolar\"}],\"pie\":[{\"automargin\":true,\"type\":\"pie\"}]},\"layout\":{\"autotypenumbers\":\"strict\",\"colorway\":[\"#636efa\",\"#EF553B\",\"#00cc96\",\"#ab63fa\",\"#FFA15A\",\"#19d3f3\",\"#FF6692\",\"#B6E880\",\"#FF97FF\",\"#FECB52\"],\"font\":{\"color\":\"#2a3f5f\"},\"hovermode\":\"closest\",\"hoverlabel\":{\"align\":\"left\"},\"paper_bgcolor\":\"white\",\"plot_bgcolor\":\"#E5ECF6\",\"polar\":{\"bgcolor\":\"#E5ECF6\",\"angularaxis\":{\"gridcolor\":\"white\",\"linecolor\":\"white\",\"ticks\":\"\"},\"radialaxis\":{\"gridcolor\":\"white\",\"linecolor\":\"white\",\"ticks\":\"\"}},\"ternary\":{\"bgcolor\":\"#E5ECF6\",\"aaxis\":{\"gridcolor\":\"white\",\"linecolor\":\"white\",\"ticks\":\"\"},\"baxis\":{\"gridcolor\":\"white\",\"linecolor\":\"white\",\"ticks\":\"\"},\"caxis\":{\"gridcolor\":\"white\",\"linecolor\":\"white\",\"ticks\":\"\"}},\"coloraxis\":{\"colorbar\":{\"outlinewidth\":0,\"ticks\":\"\"}},\"colorscale\":{\"sequential\":[[0.0,\"#0d0887\"],[0.1111111111111111,\"#46039f\"],[0.2222222222222222,\"#7201a8\"],[0.3333333333333333,\"#9c179e\"],[0.4444444444444444,\"#bd3786\"],[0.5555555555555556,\"#d8576b\"],[0.6666666666666666,\"#ed7953\"],[0.7777777777777778,\"#fb9f3a\"],[0.8888888888888888,\"#fdca26\"],[1.0,\"#f0f921\"]],\"sequentialminus\":[[0.0,\"#0d0887\"],[0.1111111111111111,\"#46039f\"],[0.2222222222222222,\"#7201a8\"],[0.3333333333333333,\"#9c179e\"],[0.4444444444444444,\"#bd3786\"],[0.5555555555555556,\"#d8576b\"],[0.6666666666666666,\"#ed7953\"],[0.7777777777777778,\"#fb9f3a\"],[0.8888888888888888,\"#fdca26\"],[1.0,\"#f0f921\"]],\"diverging\":[[0,\"#8e0152\"],[0.1,\"#c51b7d\"],[0.2,\"#de77ae\"],[0.3,\"#f1b6da\"],[0.4,\"#fde0ef\"],[0.5,\"#f7f7f7\"],[0.6,\"#e6f5d0\"],[0.7,\"#b8e186\"],[0.8,\"#7fbc41\"],[0.9,\"#4d9221\"],[1,\"#276419\"]]},\"xaxis\":{\"gridcolor\":\"white\",\"linecolor\":\"white\",\"ticks\":\"\",\"title\":{\"standoff\":15},\"zerolinecolor\":\"white\",\"automargin\":true,\"zerolinewidth\":2},\"yaxis\":{\"gridcolor\":\"white\",\"linecolor\":\"white\",\"ticks\":\"\",\"title\":{\"standoff\":15},\"zerolinecolor\":\"white\",\"automargin\":true,\"zerolinewidth\":2},\"scene\":{\"xaxis\":{\"backgroundcolor\":\"#E5ECF6\",\"gridcolor\":\"white\",\"linecolor\":\"white\",\"showbackground\":true,\"ticks\":\"\",\"zerolinecolor\":\"white\",\"gridwidth\":2},\"yaxis\":{\"backgroundcolor\":\"#E5ECF6\",\"gridcolor\":\"white\",\"linecolor\":\"white\",\"showbackground\":true,\"ticks\":\"\",\"zerolinecolor\":\"white\",\"gridwidth\":2},\"zaxis\":{\"backgroundcolor\":\"#E5ECF6\",\"gridcolor\":\"white\",\"linecolor\":\"white\",\"showbackground\":true,\"ticks\":\"\",\"zerolinecolor\":\"white\",\"gridwidth\":2}},\"shapedefaults\":{\"line\":{\"color\":\"#2a3f5f\"}},\"annotationdefaults\":{\"arrowcolor\":\"#2a3f5f\",\"arrowhead\":0,\"arrowwidth\":1},\"geo\":{\"bgcolor\":\"white\",\"landcolor\":\"#E5ECF6\",\"subunitcolor\":\"white\",\"showland\":true,\"showlakes\":true,\"lakecolor\":\"white\"},\"title\":{\"x\":0.05},\"mapbox\":{\"style\":\"light\"}}},\"title\":{\"text\":\"Region: Anzhal von Weine pro Region .\"},\"autosize\":true,\"width\":900,\"height\":800,\"annotations\":[{\"font\":{\"size\":14},\"showarrow\":false,\"text\":\"Die Regionen sind basierend auf dem Medianpreis sortiert – beginnend mit dem höchsten Wert.\",\"x\":0.5,\"xref\":\"paper\",\"y\":-0.2,\"yref\":\"paper\"}]},                        {\"responsive\": true}                    ).then(function(){\n",
              "                            \n",
              "var gd = document.getElementById('4b1877cd-6fd0-4075-b27d-8619af9c41cc');\n",
              "var x = new MutationObserver(function (mutations, observer) {{\n",
              "        var display = window.getComputedStyle(gd).display;\n",
              "        if (!display || display === 'none') {{\n",
              "            console.log([gd, 'removed!']);\n",
              "            Plotly.purge(gd);\n",
              "            observer.disconnect();\n",
              "        }}\n",
              "}});\n",
              "\n",
              "// Listen for the removal of the full notebook cells\n",
              "var notebookContainer = gd.closest('#notebook-container');\n",
              "if (notebookContainer) {{\n",
              "    x.observe(notebookContainer, {childList: true});\n",
              "}}\n",
              "\n",
              "// Listen for the clearing of the current output cell\n",
              "var outputEl = gd.closest('.output');\n",
              "if (outputEl) {{\n",
              "    x.observe(outputEl, {childList: true});\n",
              "}}\n",
              "\n",
              "                        })                };                            </script>        </div>\n",
              "</body>\n",
              "</html>"
            ]
          },
          "metadata": {}
        }
      ]
    },
    {
      "cell_type": "code",
      "source": [
        "f, ax = plt.subplots(figsize=(16, 8))\n",
        "sns.countplot(x=df_products_raw.region, order=df_products_raw.region.value_counts().index);\n",
        "plt.xticks(rotation=45)\n",
        "plt.show();"
      ],
      "metadata": {
        "colab": {
          "base_uri": "https://localhost:8080/",
          "height": 749
        },
        "id": "c83i7Rn6BBex",
        "outputId": "39e8184a-de96-441a-e217-368e90a3efd6"
      },
      "execution_count": 27,
      "outputs": [
        {
          "output_type": "display_data",
          "data": {
            "text/plain": [
              "<Figure size 1600x800 with 1 Axes>"
            ],
            "image/svg+xml": "<?xml version=\"1.0\" encoding=\"utf-8\" standalone=\"no\"?>\n<!DOCTYPE svg PUBLIC \"-//W3C//DTD SVG 1.1//EN\"\n  \"http://www.w3.org/Graphics/SVG/1.1/DTD/svg11.dtd\">\n<svg xmlns:xlink=\"http://www.w3.org/1999/xlink\" width=\"940.603125pt\" height=\"545.04959pt\" viewBox=\"0 0 940.603125 545.04959\" xmlns=\"http://www.w3.org/2000/svg\" version=\"1.1\">\n <metadata>\n  <rdf:RDF xmlns:dc=\"http://purl.org/dc/elements/1.1/\" xmlns:cc=\"http://creativecommons.org/ns#\" xmlns:rdf=\"http://www.w3.org/1999/02/22-rdf-syntax-ns#\">\n   <cc:Work>\n    <dc:type rdf:resource=\"http://purl.org/dc/dcmitype/StillImage\"/>\n    <dc:date>2024-12-01T17:53:46.096725</dc:date>\n    <dc:format>image/svg+xml</dc:format>\n    <dc:creator>\n     <cc:Agent>\n      <dc:title>Matplotlib v3.8.0, https://matplotlib.org/</dc:title>\n     </cc:Agent>\n    </dc:creator>\n   </cc:Work>\n  </rdf:RDF>\n </metadata>\n <defs>\n  <style type=\"text/css\">*{stroke-linejoin: round; stroke-linecap: butt}</style>\n </defs>\n <g id=\"figure_1\">\n  <g id=\"patch_1\">\n   <path d=\"M 0 545.04959 \nL 940.603125 545.04959 \nL 940.603125 0 \nL 0 0 \nz\n\" style=\"fill: #ffffff\"/>\n  </g>\n  <g id=\"axes_1\">\n   <g id=\"patch_2\">\n    <path d=\"M 40.603125 450.72 \nL 933.403125 450.72 \nL 933.403125 7.2 \nL 40.603125 7.2 \nz\n\" style=\"fill: #ffffff\"/>\n   </g>\n   <g id=\"patch_3\">\n    <path d=\"M 44.854554 450.72 \nL 78.865982 450.72 \nL 78.865982 28.32 \nL 44.854554 28.32 \nz\n\" clip-path=\"url(#p0bd7986c9e)\" style=\"fill: #3274a1\"/>\n   </g>\n   <g id=\"patch_4\">\n    <path d=\"M 87.368839 450.72 \nL 121.380268 450.72 \nL 121.380268 167.108571 \nL 87.368839 167.108571 \nz\n\" clip-path=\"url(#p0bd7986c9e)\" style=\"fill: #3274a1\"/>\n   </g>\n   <g id=\"patch_5\">\n    <path d=\"M 129.883125 450.72 \nL 163.894554 450.72 \nL 163.894554 372.274286 \nL 129.883125 372.274286 \nz\n\" clip-path=\"url(#p0bd7986c9e)\" style=\"fill: #3274a1\"/>\n   </g>\n   <g id=\"patch_6\">\n    <path d=\"M 172.397411 450.72 \nL 206.408839 450.72 \nL 206.408839 396.411429 \nL 172.397411 396.411429 \nz\n\" clip-path=\"url(#p0bd7986c9e)\" style=\"fill: #3274a1\"/>\n   </g>\n   <g id=\"patch_7\">\n    <path d=\"M 214.911696 450.72 \nL 248.923125 450.72 \nL 248.923125 402.445714 \nL 214.911696 402.445714 \nz\n\" clip-path=\"url(#p0bd7986c9e)\" style=\"fill: #3274a1\"/>\n   </g>\n   <g id=\"patch_8\">\n    <path d=\"M 257.425982 450.72 \nL 291.437411 450.72 \nL 291.437411 402.445714 \nL 257.425982 402.445714 \nz\n\" clip-path=\"url(#p0bd7986c9e)\" style=\"fill: #3274a1\"/>\n   </g>\n   <g id=\"patch_9\">\n    <path d=\"M 299.940268 450.72 \nL 333.951696 450.72 \nL 333.951696 402.445714 \nL 299.940268 402.445714 \nz\n\" clip-path=\"url(#p0bd7986c9e)\" style=\"fill: #3274a1\"/>\n   </g>\n   <g id=\"patch_10\">\n    <path d=\"M 342.454554 450.72 \nL 376.465982 450.72 \nL 376.465982 402.445714 \nL 342.454554 402.445714 \nz\n\" clip-path=\"url(#p0bd7986c9e)\" style=\"fill: #3274a1\"/>\n   </g>\n   <g id=\"patch_11\">\n    <path d=\"M 384.968839 450.72 \nL 418.980268 450.72 \nL 418.980268 408.48 \nL 384.968839 408.48 \nz\n\" clip-path=\"url(#p0bd7986c9e)\" style=\"fill: #3274a1\"/>\n   </g>\n   <g id=\"patch_12\">\n    <path d=\"M 427.483125 450.72 \nL 461.494554 450.72 \nL 461.494554 420.548571 \nL 427.483125 420.548571 \nz\n\" clip-path=\"url(#p0bd7986c9e)\" style=\"fill: #3274a1\"/>\n   </g>\n   <g id=\"patch_13\">\n    <path d=\"M 469.997411 450.72 \nL 504.008839 450.72 \nL 504.008839 420.548571 \nL 469.997411 420.548571 \nz\n\" clip-path=\"url(#p0bd7986c9e)\" style=\"fill: #3274a1\"/>\n   </g>\n   <g id=\"patch_14\">\n    <path d=\"M 512.511696 450.72 \nL 546.523125 450.72 \nL 546.523125 420.548571 \nL 512.511696 420.548571 \nz\n\" clip-path=\"url(#p0bd7986c9e)\" style=\"fill: #3274a1\"/>\n   </g>\n   <g id=\"patch_15\">\n    <path d=\"M 555.025982 450.72 \nL 589.037411 450.72 \nL 589.037411 420.548571 \nL 555.025982 420.548571 \nz\n\" clip-path=\"url(#p0bd7986c9e)\" style=\"fill: #3274a1\"/>\n   </g>\n   <g id=\"patch_16\">\n    <path d=\"M 597.540268 450.72 \nL 631.551696 450.72 \nL 631.551696 426.582857 \nL 597.540268 426.582857 \nz\n\" clip-path=\"url(#p0bd7986c9e)\" style=\"fill: #3274a1\"/>\n   </g>\n   <g id=\"patch_17\">\n    <path d=\"M 640.054554 450.72 \nL 674.065982 450.72 \nL 674.065982 426.582857 \nL 640.054554 426.582857 \nz\n\" clip-path=\"url(#p0bd7986c9e)\" style=\"fill: #3274a1\"/>\n   </g>\n   <g id=\"patch_18\">\n    <path d=\"M 682.568839 450.72 \nL 716.580268 450.72 \nL 716.580268 426.582857 \nL 682.568839 426.582857 \nz\n\" clip-path=\"url(#p0bd7986c9e)\" style=\"fill: #3274a1\"/>\n   </g>\n   <g id=\"patch_19\">\n    <path d=\"M 725.083125 450.72 \nL 759.094554 450.72 \nL 759.094554 432.617143 \nL 725.083125 432.617143 \nz\n\" clip-path=\"url(#p0bd7986c9e)\" style=\"fill: #3274a1\"/>\n   </g>\n   <g id=\"patch_20\">\n    <path d=\"M 767.597411 450.72 \nL 801.608839 450.72 \nL 801.608839 432.617143 \nL 767.597411 432.617143 \nz\n\" clip-path=\"url(#p0bd7986c9e)\" style=\"fill: #3274a1\"/>\n   </g>\n   <g id=\"patch_21\">\n    <path d=\"M 810.111696 450.72 \nL 844.123125 450.72 \nL 844.123125 444.685714 \nL 810.111696 444.685714 \nz\n\" clip-path=\"url(#p0bd7986c9e)\" style=\"fill: #3274a1\"/>\n   </g>\n   <g id=\"patch_22\">\n    <path d=\"M 852.625982 450.72 \nL 886.637411 450.72 \nL 886.637411 444.685714 \nL 852.625982 444.685714 \nz\n\" clip-path=\"url(#p0bd7986c9e)\" style=\"fill: #3274a1\"/>\n   </g>\n   <g id=\"patch_23\">\n    <path d=\"M 895.140268 450.72 \nL 929.151696 450.72 \nL 929.151696 444.685714 \nL 895.140268 444.685714 \nz\n\" clip-path=\"url(#p0bd7986c9e)\" style=\"fill: #3274a1\"/>\n   </g>\n   <g id=\"matplotlib.axis_1\">\n    <g id=\"xtick_1\">\n     <g id=\"line2d_1\">\n      <defs>\n       <path id=\"mdb60f7e60f\" d=\"M 0 0 \nL 0 3.5 \n\" style=\"stroke: #000000; stroke-width: 0.8\"/>\n      </defs>\n      <g>\n       <use xlink:href=\"#mdb60f7e60f\" x=\"61.860268\" y=\"450.72\" style=\"stroke: #000000; stroke-width: 0.8\"/>\n      </g>\n     </g>\n     <g id=\"text_1\">\n      <!-- Burgundy -->\n      <g transform=\"translate(46.690618 497.334553) rotate(-45) scale(0.1 -0.1)\">\n       <defs>\n        <path id=\"DejaVuSans-42\" d=\"M 1259 2228 \nL 1259 519 \nL 2272 519 \nQ 2781 519 3026 730 \nQ 3272 941 3272 1375 \nQ 3272 1813 3026 2020 \nQ 2781 2228 2272 2228 \nL 1259 2228 \nz\nM 1259 4147 \nL 1259 2741 \nL 2194 2741 \nQ 2656 2741 2882 2914 \nQ 3109 3088 3109 3444 \nQ 3109 3797 2882 3972 \nQ 2656 4147 2194 4147 \nL 1259 4147 \nz\nM 628 4666 \nL 2241 4666 \nQ 2963 4666 3353 4366 \nQ 3744 4066 3744 3513 \nQ 3744 3084 3544 2831 \nQ 3344 2578 2956 2516 \nQ 3422 2416 3680 2098 \nQ 3938 1781 3938 1306 \nQ 3938 681 3513 340 \nQ 3088 0 2303 0 \nL 628 0 \nL 628 4666 \nz\n\" transform=\"scale(0.015625)\"/>\n        <path id=\"DejaVuSans-75\" d=\"M 544 1381 \nL 544 3500 \nL 1119 3500 \nL 1119 1403 \nQ 1119 906 1312 657 \nQ 1506 409 1894 409 \nQ 2359 409 2629 706 \nQ 2900 1003 2900 1516 \nL 2900 3500 \nL 3475 3500 \nL 3475 0 \nL 2900 0 \nL 2900 538 \nQ 2691 219 2414 64 \nQ 2138 -91 1772 -91 \nQ 1169 -91 856 284 \nQ 544 659 544 1381 \nz\nM 1991 3584 \nL 1991 3584 \nz\n\" transform=\"scale(0.015625)\"/>\n        <path id=\"DejaVuSans-72\" d=\"M 2631 2963 \nQ 2534 3019 2420 3045 \nQ 2306 3072 2169 3072 \nQ 1681 3072 1420 2755 \nQ 1159 2438 1159 1844 \nL 1159 0 \nL 581 0 \nL 581 3500 \nL 1159 3500 \nL 1159 2956 \nQ 1341 3275 1631 3429 \nQ 1922 3584 2338 3584 \nQ 2397 3584 2469 3576 \nQ 2541 3569 2628 3553 \nL 2631 2963 \nz\n\" transform=\"scale(0.015625)\"/>\n        <path id=\"DejaVuSans-67\" d=\"M 2906 1791 \nQ 2906 2416 2648 2759 \nQ 2391 3103 1925 3103 \nQ 1463 3103 1205 2759 \nQ 947 2416 947 1791 \nQ 947 1169 1205 825 \nQ 1463 481 1925 481 \nQ 2391 481 2648 825 \nQ 2906 1169 2906 1791 \nz\nM 3481 434 \nQ 3481 -459 3084 -895 \nQ 2688 -1331 1869 -1331 \nQ 1566 -1331 1297 -1286 \nQ 1028 -1241 775 -1147 \nL 775 -588 \nQ 1028 -725 1275 -790 \nQ 1522 -856 1778 -856 \nQ 2344 -856 2625 -561 \nQ 2906 -266 2906 331 \nL 2906 616 \nQ 2728 306 2450 153 \nQ 2172 0 1784 0 \nQ 1141 0 747 490 \nQ 353 981 353 1791 \nQ 353 2603 747 3093 \nQ 1141 3584 1784 3584 \nQ 2172 3584 2450 3431 \nQ 2728 3278 2906 2969 \nL 2906 3500 \nL 3481 3500 \nL 3481 434 \nz\n\" transform=\"scale(0.015625)\"/>\n        <path id=\"DejaVuSans-6e\" d=\"M 3513 2113 \nL 3513 0 \nL 2938 0 \nL 2938 2094 \nQ 2938 2591 2744 2837 \nQ 2550 3084 2163 3084 \nQ 1697 3084 1428 2787 \nQ 1159 2491 1159 1978 \nL 1159 0 \nL 581 0 \nL 581 3500 \nL 1159 3500 \nL 1159 2956 \nQ 1366 3272 1645 3428 \nQ 1925 3584 2291 3584 \nQ 2894 3584 3203 3211 \nQ 3513 2838 3513 2113 \nz\n\" transform=\"scale(0.015625)\"/>\n        <path id=\"DejaVuSans-64\" d=\"M 2906 2969 \nL 2906 4863 \nL 3481 4863 \nL 3481 0 \nL 2906 0 \nL 2906 525 \nQ 2725 213 2448 61 \nQ 2172 -91 1784 -91 \nQ 1150 -91 751 415 \nQ 353 922 353 1747 \nQ 353 2572 751 3078 \nQ 1150 3584 1784 3584 \nQ 2172 3584 2448 3432 \nQ 2725 3281 2906 2969 \nz\nM 947 1747 \nQ 947 1113 1208 752 \nQ 1469 391 1925 391 \nQ 2381 391 2643 752 \nQ 2906 1113 2906 1747 \nQ 2906 2381 2643 2742 \nQ 2381 3103 1925 3103 \nQ 1469 3103 1208 2742 \nQ 947 2381 947 1747 \nz\n\" transform=\"scale(0.015625)\"/>\n        <path id=\"DejaVuSans-79\" d=\"M 2059 -325 \nQ 1816 -950 1584 -1140 \nQ 1353 -1331 966 -1331 \nL 506 -1331 \nL 506 -850 \nL 844 -850 \nQ 1081 -850 1212 -737 \nQ 1344 -625 1503 -206 \nL 1606 56 \nL 191 3500 \nL 800 3500 \nL 1894 763 \nL 2988 3500 \nL 3597 3500 \nL 2059 -325 \nz\n\" transform=\"scale(0.015625)\"/>\n       </defs>\n       <use xlink:href=\"#DejaVuSans-42\"/>\n       <use xlink:href=\"#DejaVuSans-75\" x=\"68.603516\"/>\n       <use xlink:href=\"#DejaVuSans-72\" x=\"131.982422\"/>\n       <use xlink:href=\"#DejaVuSans-67\" x=\"171.345703\"/>\n       <use xlink:href=\"#DejaVuSans-75\" x=\"234.822266\"/>\n       <use xlink:href=\"#DejaVuSans-6e\" x=\"298.201172\"/>\n       <use xlink:href=\"#DejaVuSans-64\" x=\"361.580078\"/>\n       <use xlink:href=\"#DejaVuSans-79\" x=\"425.056641\"/>\n      </g>\n     </g>\n    </g>\n    <g id=\"xtick_2\">\n     <g id=\"line2d_2\">\n      <g>\n       <use xlink:href=\"#mdb60f7e60f\" x=\"104.374554\" y=\"450.72\" style=\"stroke: #000000; stroke-width: 0.8\"/>\n      </g>\n     </g>\n     <g id=\"text_2\">\n      <!-- Bordeaux -->\n      <g transform=\"translate(89.425322 496.893716) rotate(-45) scale(0.1 -0.1)\">\n       <defs>\n        <path id=\"DejaVuSans-6f\" d=\"M 1959 3097 \nQ 1497 3097 1228 2736 \nQ 959 2375 959 1747 \nQ 959 1119 1226 758 \nQ 1494 397 1959 397 \nQ 2419 397 2687 759 \nQ 2956 1122 2956 1747 \nQ 2956 2369 2687 2733 \nQ 2419 3097 1959 3097 \nz\nM 1959 3584 \nQ 2709 3584 3137 3096 \nQ 3566 2609 3566 1747 \nQ 3566 888 3137 398 \nQ 2709 -91 1959 -91 \nQ 1206 -91 779 398 \nQ 353 888 353 1747 \nQ 353 2609 779 3096 \nQ 1206 3584 1959 3584 \nz\n\" transform=\"scale(0.015625)\"/>\n        <path id=\"DejaVuSans-65\" d=\"M 3597 1894 \nL 3597 1613 \nL 953 1613 \nQ 991 1019 1311 708 \nQ 1631 397 2203 397 \nQ 2534 397 2845 478 \nQ 3156 559 3463 722 \nL 3463 178 \nQ 3153 47 2828 -22 \nQ 2503 -91 2169 -91 \nQ 1331 -91 842 396 \nQ 353 884 353 1716 \nQ 353 2575 817 3079 \nQ 1281 3584 2069 3584 \nQ 2775 3584 3186 3129 \nQ 3597 2675 3597 1894 \nz\nM 3022 2063 \nQ 3016 2534 2758 2815 \nQ 2500 3097 2075 3097 \nQ 1594 3097 1305 2825 \nQ 1016 2553 972 2059 \nL 3022 2063 \nz\n\" transform=\"scale(0.015625)\"/>\n        <path id=\"DejaVuSans-61\" d=\"M 2194 1759 \nQ 1497 1759 1228 1600 \nQ 959 1441 959 1056 \nQ 959 750 1161 570 \nQ 1363 391 1709 391 \nQ 2188 391 2477 730 \nQ 2766 1069 2766 1631 \nL 2766 1759 \nL 2194 1759 \nz\nM 3341 1997 \nL 3341 0 \nL 2766 0 \nL 2766 531 \nQ 2569 213 2275 61 \nQ 1981 -91 1556 -91 \nQ 1019 -91 701 211 \nQ 384 513 384 1019 \nQ 384 1609 779 1909 \nQ 1175 2209 1959 2209 \nL 2766 2209 \nL 2766 2266 \nQ 2766 2663 2505 2880 \nQ 2244 3097 1772 3097 \nQ 1472 3097 1187 3025 \nQ 903 2953 641 2809 \nL 641 3341 \nQ 956 3463 1253 3523 \nQ 1550 3584 1831 3584 \nQ 2591 3584 2966 3190 \nQ 3341 2797 3341 1997 \nz\n\" transform=\"scale(0.015625)\"/>\n        <path id=\"DejaVuSans-78\" d=\"M 3513 3500 \nL 2247 1797 \nL 3578 0 \nL 2900 0 \nL 1881 1375 \nL 863 0 \nL 184 0 \nL 1544 1831 \nL 300 3500 \nL 978 3500 \nL 1906 2253 \nL 2834 3500 \nL 3513 3500 \nz\n\" transform=\"scale(0.015625)\"/>\n       </defs>\n       <use xlink:href=\"#DejaVuSans-42\"/>\n       <use xlink:href=\"#DejaVuSans-6f\" x=\"68.603516\"/>\n       <use xlink:href=\"#DejaVuSans-72\" x=\"129.785156\"/>\n       <use xlink:href=\"#DejaVuSans-64\" x=\"169.148438\"/>\n       <use xlink:href=\"#DejaVuSans-65\" x=\"232.625\"/>\n       <use xlink:href=\"#DejaVuSans-61\" x=\"294.148438\"/>\n       <use xlink:href=\"#DejaVuSans-75\" x=\"355.427734\"/>\n       <use xlink:href=\"#DejaVuSans-78\" x=\"418.806641\"/>\n      </g>\n     </g>\n    </g>\n    <g id=\"xtick_3\">\n     <g id=\"line2d_3\">\n      <g>\n       <use xlink:href=\"#mdb60f7e60f\" x=\"146.888839\" y=\"450.72\" style=\"stroke: #000000; stroke-width: 0.8\"/>\n      </g>\n     </g>\n     <g id=\"text_3\">\n      <!-- Rhone -->\n      <g transform=\"translate(137.563316 485.646298) rotate(-45) scale(0.1 -0.1)\">\n       <defs>\n        <path id=\"DejaVuSans-52\" d=\"M 2841 2188 \nQ 3044 2119 3236 1894 \nQ 3428 1669 3622 1275 \nL 4263 0 \nL 3584 0 \nL 2988 1197 \nQ 2756 1666 2539 1819 \nQ 2322 1972 1947 1972 \nL 1259 1972 \nL 1259 0 \nL 628 0 \nL 628 4666 \nL 2053 4666 \nQ 2853 4666 3247 4331 \nQ 3641 3997 3641 3322 \nQ 3641 2881 3436 2590 \nQ 3231 2300 2841 2188 \nz\nM 1259 4147 \nL 1259 2491 \nL 2053 2491 \nQ 2509 2491 2742 2702 \nQ 2975 2913 2975 3322 \nQ 2975 3731 2742 3939 \nQ 2509 4147 2053 4147 \nL 1259 4147 \nz\n\" transform=\"scale(0.015625)\"/>\n        <path id=\"DejaVuSans-68\" d=\"M 3513 2113 \nL 3513 0 \nL 2938 0 \nL 2938 2094 \nQ 2938 2591 2744 2837 \nQ 2550 3084 2163 3084 \nQ 1697 3084 1428 2787 \nQ 1159 2491 1159 1978 \nL 1159 0 \nL 581 0 \nL 581 4863 \nL 1159 4863 \nL 1159 2956 \nQ 1366 3272 1645 3428 \nQ 1925 3584 2291 3584 \nQ 2894 3584 3203 3211 \nQ 3513 2838 3513 2113 \nz\n\" transform=\"scale(0.015625)\"/>\n       </defs>\n       <use xlink:href=\"#DejaVuSans-52\"/>\n       <use xlink:href=\"#DejaVuSans-68\" x=\"69.482422\"/>\n       <use xlink:href=\"#DejaVuSans-6f\" x=\"132.861328\"/>\n       <use xlink:href=\"#DejaVuSans-6e\" x=\"194.042969\"/>\n       <use xlink:href=\"#DejaVuSans-65\" x=\"257.421875\"/>\n      </g>\n     </g>\n    </g>\n    <g id=\"xtick_4\">\n     <g id=\"line2d_4\">\n      <g>\n       <use xlink:href=\"#mdb60f7e60f\" x=\"189.403125\" y=\"450.72\" style=\"stroke: #000000; stroke-width: 0.8\"/>\n      </g>\n     </g>\n     <g id=\"text_4\">\n      <!-- Champagne -->\n      <g transform=\"translate(169.96266 505.876182) rotate(-45) scale(0.1 -0.1)\">\n       <defs>\n        <path id=\"DejaVuSans-43\" d=\"M 4122 4306 \nL 4122 3641 \nQ 3803 3938 3442 4084 \nQ 3081 4231 2675 4231 \nQ 1875 4231 1450 3742 \nQ 1025 3253 1025 2328 \nQ 1025 1406 1450 917 \nQ 1875 428 2675 428 \nQ 3081 428 3442 575 \nQ 3803 722 4122 1019 \nL 4122 359 \nQ 3791 134 3420 21 \nQ 3050 -91 2638 -91 \nQ 1578 -91 968 557 \nQ 359 1206 359 2328 \nQ 359 3453 968 4101 \nQ 1578 4750 2638 4750 \nQ 3056 4750 3426 4639 \nQ 3797 4528 4122 4306 \nz\n\" transform=\"scale(0.015625)\"/>\n        <path id=\"DejaVuSans-6d\" d=\"M 3328 2828 \nQ 3544 3216 3844 3400 \nQ 4144 3584 4550 3584 \nQ 5097 3584 5394 3201 \nQ 5691 2819 5691 2113 \nL 5691 0 \nL 5113 0 \nL 5113 2094 \nQ 5113 2597 4934 2840 \nQ 4756 3084 4391 3084 \nQ 3944 3084 3684 2787 \nQ 3425 2491 3425 1978 \nL 3425 0 \nL 2847 0 \nL 2847 2094 \nQ 2847 2600 2669 2842 \nQ 2491 3084 2119 3084 \nQ 1678 3084 1418 2786 \nQ 1159 2488 1159 1978 \nL 1159 0 \nL 581 0 \nL 581 3500 \nL 1159 3500 \nL 1159 2956 \nQ 1356 3278 1631 3431 \nQ 1906 3584 2284 3584 \nQ 2666 3584 2933 3390 \nQ 3200 3197 3328 2828 \nz\n\" transform=\"scale(0.015625)\"/>\n        <path id=\"DejaVuSans-70\" d=\"M 1159 525 \nL 1159 -1331 \nL 581 -1331 \nL 581 3500 \nL 1159 3500 \nL 1159 2969 \nQ 1341 3281 1617 3432 \nQ 1894 3584 2278 3584 \nQ 2916 3584 3314 3078 \nQ 3713 2572 3713 1747 \nQ 3713 922 3314 415 \nQ 2916 -91 2278 -91 \nQ 1894 -91 1617 61 \nQ 1341 213 1159 525 \nz\nM 3116 1747 \nQ 3116 2381 2855 2742 \nQ 2594 3103 2138 3103 \nQ 1681 3103 1420 2742 \nQ 1159 2381 1159 1747 \nQ 1159 1113 1420 752 \nQ 1681 391 2138 391 \nQ 2594 391 2855 752 \nQ 3116 1113 3116 1747 \nz\n\" transform=\"scale(0.015625)\"/>\n       </defs>\n       <use xlink:href=\"#DejaVuSans-43\"/>\n       <use xlink:href=\"#DejaVuSans-68\" x=\"69.824219\"/>\n       <use xlink:href=\"#DejaVuSans-61\" x=\"133.203125\"/>\n       <use xlink:href=\"#DejaVuSans-6d\" x=\"194.482422\"/>\n       <use xlink:href=\"#DejaVuSans-70\" x=\"291.894531\"/>\n       <use xlink:href=\"#DejaVuSans-61\" x=\"355.371094\"/>\n       <use xlink:href=\"#DejaVuSans-67\" x=\"416.650391\"/>\n       <use xlink:href=\"#DejaVuSans-6e\" x=\"480.126953\"/>\n       <use xlink:href=\"#DejaVuSans-65\" x=\"543.505859\"/>\n      </g>\n     </g>\n    </g>\n    <g id=\"xtick_5\">\n     <g id=\"line2d_5\">\n      <g>\n       <use xlink:href=\"#mdb60f7e60f\" x=\"231.917411\" y=\"450.72\" style=\"stroke: #000000; stroke-width: 0.8\"/>\n      </g>\n     </g>\n     <g id=\"text_5\">\n      <!-- Alentejo -->\n      <g transform=\"translate(219.344721 492.140632) rotate(-45) scale(0.1 -0.1)\">\n       <defs>\n        <path id=\"DejaVuSans-41\" d=\"M 2188 4044 \nL 1331 1722 \nL 3047 1722 \nL 2188 4044 \nz\nM 1831 4666 \nL 2547 4666 \nL 4325 0 \nL 3669 0 \nL 3244 1197 \nL 1141 1197 \nL 716 0 \nL 50 0 \nL 1831 4666 \nz\n\" transform=\"scale(0.015625)\"/>\n        <path id=\"DejaVuSans-6c\" d=\"M 603 4863 \nL 1178 4863 \nL 1178 0 \nL 603 0 \nL 603 4863 \nz\n\" transform=\"scale(0.015625)\"/>\n        <path id=\"DejaVuSans-74\" d=\"M 1172 4494 \nL 1172 3500 \nL 2356 3500 \nL 2356 3053 \nL 1172 3053 \nL 1172 1153 \nQ 1172 725 1289 603 \nQ 1406 481 1766 481 \nL 2356 481 \nL 2356 0 \nL 1766 0 \nQ 1100 0 847 248 \nQ 594 497 594 1153 \nL 594 3053 \nL 172 3053 \nL 172 3500 \nL 594 3500 \nL 594 4494 \nL 1172 4494 \nz\n\" transform=\"scale(0.015625)\"/>\n        <path id=\"DejaVuSans-6a\" d=\"M 603 3500 \nL 1178 3500 \nL 1178 -63 \nQ 1178 -731 923 -1031 \nQ 669 -1331 103 -1331 \nL -116 -1331 \nL -116 -844 \nL 38 -844 \nQ 366 -844 484 -692 \nQ 603 -541 603 -63 \nL 603 3500 \nz\nM 603 4863 \nL 1178 4863 \nL 1178 4134 \nL 603 4134 \nL 603 4863 \nz\n\" transform=\"scale(0.015625)\"/>\n       </defs>\n       <use xlink:href=\"#DejaVuSans-41\"/>\n       <use xlink:href=\"#DejaVuSans-6c\" x=\"68.408203\"/>\n       <use xlink:href=\"#DejaVuSans-65\" x=\"96.191406\"/>\n       <use xlink:href=\"#DejaVuSans-6e\" x=\"157.714844\"/>\n       <use xlink:href=\"#DejaVuSans-74\" x=\"221.09375\"/>\n       <use xlink:href=\"#DejaVuSans-65\" x=\"260.302734\"/>\n       <use xlink:href=\"#DejaVuSans-6a\" x=\"321.826172\"/>\n       <use xlink:href=\"#DejaVuSans-6f\" x=\"349.609375\"/>\n      </g>\n     </g>\n    </g>\n    <g id=\"xtick_6\">\n     <g id=\"line2d_6\">\n      <g>\n       <use xlink:href=\"#mdb60f7e60f\" x=\"274.431696\" y=\"450.72\" style=\"stroke: #000000; stroke-width: 0.8\"/>\n      </g>\n     </g>\n     <g id=\"text_6\">\n      <!-- Rioja -->\n      <g transform=\"translate(267.63187 480.594904) rotate(-45) scale(0.1 -0.1)\">\n       <defs>\n        <path id=\"DejaVuSans-69\" d=\"M 603 3500 \nL 1178 3500 \nL 1178 0 \nL 603 0 \nL 603 3500 \nz\nM 603 4863 \nL 1178 4863 \nL 1178 4134 \nL 603 4134 \nL 603 4863 \nz\n\" transform=\"scale(0.015625)\"/>\n       </defs>\n       <use xlink:href=\"#DejaVuSans-52\"/>\n       <use xlink:href=\"#DejaVuSans-69\" x=\"69.482422\"/>\n       <use xlink:href=\"#DejaVuSans-6f\" x=\"97.265625\"/>\n       <use xlink:href=\"#DejaVuSans-6a\" x=\"158.447266\"/>\n       <use xlink:href=\"#DejaVuSans-61\" x=\"186.230469\"/>\n      </g>\n     </g>\n    </g>\n    <g id=\"xtick_7\">\n     <g id=\"line2d_7\">\n      <g>\n       <use xlink:href=\"#mdb60f7e60f\" x=\"316.945982\" y=\"450.72\" style=\"stroke: #000000; stroke-width: 0.8\"/>\n      </g>\n     </g>\n     <g id=\"text_7\">\n      <!-- Toscana -->\n      <g transform=\"translate(304.815786 491.255644) rotate(-45) scale(0.1 -0.1)\">\n       <defs>\n        <path id=\"DejaVuSans-54\" d=\"M -19 4666 \nL 3928 4666 \nL 3928 4134 \nL 2272 4134 \nL 2272 0 \nL 1638 0 \nL 1638 4134 \nL -19 4134 \nL -19 4666 \nz\n\" transform=\"scale(0.015625)\"/>\n        <path id=\"DejaVuSans-73\" d=\"M 2834 3397 \nL 2834 2853 \nQ 2591 2978 2328 3040 \nQ 2066 3103 1784 3103 \nQ 1356 3103 1142 2972 \nQ 928 2841 928 2578 \nQ 928 2378 1081 2264 \nQ 1234 2150 1697 2047 \nL 1894 2003 \nQ 2506 1872 2764 1633 \nQ 3022 1394 3022 966 \nQ 3022 478 2636 193 \nQ 2250 -91 1575 -91 \nQ 1294 -91 989 -36 \nQ 684 19 347 128 \nL 347 722 \nQ 666 556 975 473 \nQ 1284 391 1588 391 \nQ 1994 391 2212 530 \nQ 2431 669 2431 922 \nQ 2431 1156 2273 1281 \nQ 2116 1406 1581 1522 \nL 1381 1569 \nQ 847 1681 609 1914 \nQ 372 2147 372 2553 \nQ 372 3047 722 3315 \nQ 1072 3584 1716 3584 \nQ 2034 3584 2315 3537 \nQ 2597 3491 2834 3397 \nz\n\" transform=\"scale(0.015625)\"/>\n        <path id=\"DejaVuSans-63\" d=\"M 3122 3366 \nL 3122 2828 \nQ 2878 2963 2633 3030 \nQ 2388 3097 2138 3097 \nQ 1578 3097 1268 2742 \nQ 959 2388 959 1747 \nQ 959 1106 1268 751 \nQ 1578 397 2138 397 \nQ 2388 397 2633 464 \nQ 2878 531 3122 666 \nL 3122 134 \nQ 2881 22 2623 -34 \nQ 2366 -91 2075 -91 \nQ 1284 -91 818 406 \nQ 353 903 353 1747 \nQ 353 2603 823 3093 \nQ 1294 3584 2113 3584 \nQ 2378 3584 2631 3529 \nQ 2884 3475 3122 3366 \nz\n\" transform=\"scale(0.015625)\"/>\n       </defs>\n       <use xlink:href=\"#DejaVuSans-54\"/>\n       <use xlink:href=\"#DejaVuSans-6f\" x=\"44.083984\"/>\n       <use xlink:href=\"#DejaVuSans-73\" x=\"105.265625\"/>\n       <use xlink:href=\"#DejaVuSans-63\" x=\"157.365234\"/>\n       <use xlink:href=\"#DejaVuSans-61\" x=\"212.345703\"/>\n       <use xlink:href=\"#DejaVuSans-6e\" x=\"273.625\"/>\n       <use xlink:href=\"#DejaVuSans-61\" x=\"337.003906\"/>\n      </g>\n     </g>\n    </g>\n    <g id=\"xtick_8\">\n     <g id=\"line2d_8\">\n      <g>\n       <use xlink:href=\"#mdb60f7e60f\" x=\"359.460268\" y=\"450.72\" style=\"stroke: #000000; stroke-width: 0.8\"/>\n      </g>\n     </g>\n     <g id=\"text_8\">\n      <!-- Mendoza -->\n      <g transform=\"translate(345.514796 494.886195) rotate(-45) scale(0.1 -0.1)\">\n       <defs>\n        <path id=\"DejaVuSans-4d\" d=\"M 628 4666 \nL 1569 4666 \nL 2759 1491 \nL 3956 4666 \nL 4897 4666 \nL 4897 0 \nL 4281 0 \nL 4281 4097 \nL 3078 897 \nL 2444 897 \nL 1241 4097 \nL 1241 0 \nL 628 0 \nL 628 4666 \nz\n\" transform=\"scale(0.015625)\"/>\n        <path id=\"DejaVuSans-7a\" d=\"M 353 3500 \nL 3084 3500 \nL 3084 2975 \nL 922 459 \nL 3084 459 \nL 3084 0 \nL 275 0 \nL 275 525 \nL 2438 3041 \nL 353 3041 \nL 353 3500 \nz\n\" transform=\"scale(0.015625)\"/>\n       </defs>\n       <use xlink:href=\"#DejaVuSans-4d\"/>\n       <use xlink:href=\"#DejaVuSans-65\" x=\"86.279297\"/>\n       <use xlink:href=\"#DejaVuSans-6e\" x=\"147.802734\"/>\n       <use xlink:href=\"#DejaVuSans-64\" x=\"211.181641\"/>\n       <use xlink:href=\"#DejaVuSans-6f\" x=\"274.658203\"/>\n       <use xlink:href=\"#DejaVuSans-7a\" x=\"335.839844\"/>\n       <use xlink:href=\"#DejaVuSans-61\" x=\"388.330078\"/>\n      </g>\n     </g>\n    </g>\n    <g id=\"xtick_9\">\n     <g id=\"line2d_9\">\n      <g>\n       <use xlink:href=\"#mdb60f7e60f\" x=\"401.974554\" y=\"450.72\" style=\"stroke: #000000; stroke-width: 0.8\"/>\n      </g>\n     </g>\n     <g id=\"text_9\">\n      <!-- Douro -->\n      <g transform=\"translate(393.262225 484.41991) rotate(-45) scale(0.1 -0.1)\">\n       <defs>\n        <path id=\"DejaVuSans-44\" d=\"M 1259 4147 \nL 1259 519 \nL 2022 519 \nQ 2988 519 3436 956 \nQ 3884 1394 3884 2338 \nQ 3884 3275 3436 3711 \nQ 2988 4147 2022 4147 \nL 1259 4147 \nz\nM 628 4666 \nL 1925 4666 \nQ 3281 4666 3915 4102 \nQ 4550 3538 4550 2338 \nQ 4550 1131 3912 565 \nQ 3275 0 1925 0 \nL 628 0 \nL 628 4666 \nz\n\" transform=\"scale(0.015625)\"/>\n       </defs>\n       <use xlink:href=\"#DejaVuSans-44\"/>\n       <use xlink:href=\"#DejaVuSans-6f\" x=\"77.001953\"/>\n       <use xlink:href=\"#DejaVuSans-75\" x=\"138.183594\"/>\n       <use xlink:href=\"#DejaVuSans-72\" x=\"201.5625\"/>\n       <use xlink:href=\"#DejaVuSans-6f\" x=\"240.425781\"/>\n      </g>\n     </g>\n    </g>\n    <g id=\"xtick_10\">\n     <g id=\"line2d_10\">\n      <g>\n       <use xlink:href=\"#mdb60f7e60f\" x=\"444.488839\" y=\"450.72\" style=\"stroke: #000000; stroke-width: 0.8\"/>\n      </g>\n     </g>\n     <g id=\"text_10\">\n      <!-- Provence -->\n      <g transform=\"translate(430.20473 495.563471) rotate(-45) scale(0.1 -0.1)\">\n       <defs>\n        <path id=\"DejaVuSans-50\" d=\"M 1259 4147 \nL 1259 2394 \nL 2053 2394 \nQ 2494 2394 2734 2622 \nQ 2975 2850 2975 3272 \nQ 2975 3691 2734 3919 \nQ 2494 4147 2053 4147 \nL 1259 4147 \nz\nM 628 4666 \nL 2053 4666 \nQ 2838 4666 3239 4311 \nQ 3641 3956 3641 3272 \nQ 3641 2581 3239 2228 \nQ 2838 1875 2053 1875 \nL 1259 1875 \nL 1259 0 \nL 628 0 \nL 628 4666 \nz\n\" transform=\"scale(0.015625)\"/>\n        <path id=\"DejaVuSans-76\" d=\"M 191 3500 \nL 800 3500 \nL 1894 563 \nL 2988 3500 \nL 3597 3500 \nL 2284 0 \nL 1503 0 \nL 191 3500 \nz\n\" transform=\"scale(0.015625)\"/>\n       </defs>\n       <use xlink:href=\"#DejaVuSans-50\"/>\n       <use xlink:href=\"#DejaVuSans-72\" x=\"58.552734\"/>\n       <use xlink:href=\"#DejaVuSans-6f\" x=\"97.416016\"/>\n       <use xlink:href=\"#DejaVuSans-76\" x=\"158.597656\"/>\n       <use xlink:href=\"#DejaVuSans-65\" x=\"217.777344\"/>\n       <use xlink:href=\"#DejaVuSans-6e\" x=\"279.300781\"/>\n       <use xlink:href=\"#DejaVuSans-63\" x=\"342.679688\"/>\n       <use xlink:href=\"#DejaVuSans-65\" x=\"397.660156\"/>\n      </g>\n     </g>\n    </g>\n    <g id=\"xtick_11\">\n     <g id=\"line2d_11\">\n      <g>\n       <use xlink:href=\"#mdb60f7e60f\" x=\"487.003125\" y=\"450.72\" style=\"stroke: #000000; stroke-width: 0.8\"/>\n      </g>\n     </g>\n     <g id=\"text_11\">\n      <!-- Ribera del Duero -->\n      <g transform=\"translate(459.150299 522.700903) rotate(-45) scale(0.1 -0.1)\">\n       <defs>\n        <path id=\"DejaVuSans-62\" d=\"M 3116 1747 \nQ 3116 2381 2855 2742 \nQ 2594 3103 2138 3103 \nQ 1681 3103 1420 2742 \nQ 1159 2381 1159 1747 \nQ 1159 1113 1420 752 \nQ 1681 391 2138 391 \nQ 2594 391 2855 752 \nQ 3116 1113 3116 1747 \nz\nM 1159 2969 \nQ 1341 3281 1617 3432 \nQ 1894 3584 2278 3584 \nQ 2916 3584 3314 3078 \nQ 3713 2572 3713 1747 \nQ 3713 922 3314 415 \nQ 2916 -91 2278 -91 \nQ 1894 -91 1617 61 \nQ 1341 213 1159 525 \nL 1159 0 \nL 581 0 \nL 581 4863 \nL 1159 4863 \nL 1159 2969 \nz\n\" transform=\"scale(0.015625)\"/>\n        <path id=\"DejaVuSans-20\" transform=\"scale(0.015625)\"/>\n       </defs>\n       <use xlink:href=\"#DejaVuSans-52\"/>\n       <use xlink:href=\"#DejaVuSans-69\" x=\"69.482422\"/>\n       <use xlink:href=\"#DejaVuSans-62\" x=\"97.265625\"/>\n       <use xlink:href=\"#DejaVuSans-65\" x=\"160.742188\"/>\n       <use xlink:href=\"#DejaVuSans-72\" x=\"222.265625\"/>\n       <use xlink:href=\"#DejaVuSans-61\" x=\"263.378906\"/>\n       <use xlink:href=\"#DejaVuSans-20\" x=\"324.658203\"/>\n       <use xlink:href=\"#DejaVuSans-64\" x=\"356.445312\"/>\n       <use xlink:href=\"#DejaVuSans-65\" x=\"419.921875\"/>\n       <use xlink:href=\"#DejaVuSans-6c\" x=\"481.445312\"/>\n       <use xlink:href=\"#DejaVuSans-20\" x=\"509.228516\"/>\n       <use xlink:href=\"#DejaVuSans-44\" x=\"541.015625\"/>\n       <use xlink:href=\"#DejaVuSans-75\" x=\"618.017578\"/>\n       <use xlink:href=\"#DejaVuSans-65\" x=\"681.396484\"/>\n       <use xlink:href=\"#DejaVuSans-72\" x=\"742.919922\"/>\n       <use xlink:href=\"#DejaVuSans-6f\" x=\"781.783203\"/>\n      </g>\n     </g>\n    </g>\n    <g id=\"xtick_12\">\n     <g id=\"line2d_12\">\n      <g>\n       <use xlink:href=\"#mdb60f7e60f\" x=\"529.517411\" y=\"450.72\" style=\"stroke: #000000; stroke-width: 0.8\"/>\n      </g>\n     </g>\n     <g id=\"text_12\">\n      <!-- Loire Valley -->\n      <g transform=\"translate(511.198373 503.633327) rotate(-45) scale(0.1 -0.1)\">\n       <defs>\n        <path id=\"DejaVuSans-4c\" d=\"M 628 4666 \nL 1259 4666 \nL 1259 531 \nL 3531 531 \nL 3531 0 \nL 628 0 \nL 628 4666 \nz\n\" transform=\"scale(0.015625)\"/>\n        <path id=\"DejaVuSans-56\" d=\"M 1831 0 \nL 50 4666 \nL 709 4666 \nL 2188 738 \nL 3669 4666 \nL 4325 4666 \nL 2547 0 \nL 1831 0 \nz\n\" transform=\"scale(0.015625)\"/>\n       </defs>\n       <use xlink:href=\"#DejaVuSans-4c\"/>\n       <use xlink:href=\"#DejaVuSans-6f\" x=\"53.962891\"/>\n       <use xlink:href=\"#DejaVuSans-69\" x=\"115.144531\"/>\n       <use xlink:href=\"#DejaVuSans-72\" x=\"142.927734\"/>\n       <use xlink:href=\"#DejaVuSans-65\" x=\"181.791016\"/>\n       <use xlink:href=\"#DejaVuSans-20\" x=\"243.314453\"/>\n       <use xlink:href=\"#DejaVuSans-56\" x=\"275.101562\"/>\n       <use xlink:href=\"#DejaVuSans-61\" x=\"335.759766\"/>\n       <use xlink:href=\"#DejaVuSans-6c\" x=\"397.039062\"/>\n       <use xlink:href=\"#DejaVuSans-6c\" x=\"424.822266\"/>\n       <use xlink:href=\"#DejaVuSans-65\" x=\"452.605469\"/>\n       <use xlink:href=\"#DejaVuSans-79\" x=\"514.128906\"/>\n      </g>\n     </g>\n    </g>\n    <g id=\"xtick_13\">\n     <g id=\"line2d_13\">\n      <g>\n       <use xlink:href=\"#mdb60f7e60f\" x=\"572.031696\" y=\"450.72\" style=\"stroke: #000000; stroke-width: 0.8\"/>\n      </g>\n     </g>\n     <g id=\"text_13\">\n      <!-- Piedmont -->\n      <g transform=\"translate(557.294597 496.469452) rotate(-45) scale(0.1 -0.1)\">\n       <use xlink:href=\"#DejaVuSans-50\"/>\n       <use xlink:href=\"#DejaVuSans-69\" x=\"58.052734\"/>\n       <use xlink:href=\"#DejaVuSans-65\" x=\"85.835938\"/>\n       <use xlink:href=\"#DejaVuSans-64\" x=\"147.359375\"/>\n       <use xlink:href=\"#DejaVuSans-6d\" x=\"210.835938\"/>\n       <use xlink:href=\"#DejaVuSans-6f\" x=\"308.248047\"/>\n       <use xlink:href=\"#DejaVuSans-6e\" x=\"369.429688\"/>\n       <use xlink:href=\"#DejaVuSans-74\" x=\"432.808594\"/>\n      </g>\n     </g>\n    </g>\n    <g id=\"xtick_14\">\n     <g id=\"line2d_14\">\n      <g>\n       <use xlink:href=\"#mdb60f7e60f\" x=\"614.545982\" y=\"450.72\" style=\"stroke: #000000; stroke-width: 0.8\"/>\n      </g>\n     </g>\n     <g id=\"text_14\">\n      <!-- Sud Ouest -->\n      <g transform=\"translate(598.216787 499.653642) rotate(-45) scale(0.1 -0.1)\">\n       <defs>\n        <path id=\"DejaVuSans-53\" d=\"M 3425 4513 \nL 3425 3897 \nQ 3066 4069 2747 4153 \nQ 2428 4238 2131 4238 \nQ 1616 4238 1336 4038 \nQ 1056 3838 1056 3469 \nQ 1056 3159 1242 3001 \nQ 1428 2844 1947 2747 \nL 2328 2669 \nQ 3034 2534 3370 2195 \nQ 3706 1856 3706 1288 \nQ 3706 609 3251 259 \nQ 2797 -91 1919 -91 \nQ 1588 -91 1214 -16 \nQ 841 59 441 206 \nL 441 856 \nQ 825 641 1194 531 \nQ 1563 422 1919 422 \nQ 2459 422 2753 634 \nQ 3047 847 3047 1241 \nQ 3047 1584 2836 1778 \nQ 2625 1972 2144 2069 \nL 1759 2144 \nQ 1053 2284 737 2584 \nQ 422 2884 422 3419 \nQ 422 4038 858 4394 \nQ 1294 4750 2059 4750 \nQ 2388 4750 2728 4690 \nQ 3069 4631 3425 4513 \nz\n\" transform=\"scale(0.015625)\"/>\n        <path id=\"DejaVuSans-4f\" d=\"M 2522 4238 \nQ 1834 4238 1429 3725 \nQ 1025 3213 1025 2328 \nQ 1025 1447 1429 934 \nQ 1834 422 2522 422 \nQ 3209 422 3611 934 \nQ 4013 1447 4013 2328 \nQ 4013 3213 3611 3725 \nQ 3209 4238 2522 4238 \nz\nM 2522 4750 \nQ 3503 4750 4090 4092 \nQ 4678 3434 4678 2328 \nQ 4678 1225 4090 567 \nQ 3503 -91 2522 -91 \nQ 1538 -91 948 565 \nQ 359 1222 359 2328 \nQ 359 3434 948 4092 \nQ 1538 4750 2522 4750 \nz\n\" transform=\"scale(0.015625)\"/>\n       </defs>\n       <use xlink:href=\"#DejaVuSans-53\"/>\n       <use xlink:href=\"#DejaVuSans-75\" x=\"63.476562\"/>\n       <use xlink:href=\"#DejaVuSans-64\" x=\"126.855469\"/>\n       <use xlink:href=\"#DejaVuSans-20\" x=\"190.332031\"/>\n       <use xlink:href=\"#DejaVuSans-4f\" x=\"222.119141\"/>\n       <use xlink:href=\"#DejaVuSans-75\" x=\"300.830078\"/>\n       <use xlink:href=\"#DejaVuSans-65\" x=\"364.208984\"/>\n       <use xlink:href=\"#DejaVuSans-73\" x=\"425.732422\"/>\n       <use xlink:href=\"#DejaVuSans-74\" x=\"477.832031\"/>\n      </g>\n     </g>\n    </g>\n    <g id=\"xtick_15\">\n     <g id=\"line2d_15\">\n      <g>\n       <use xlink:href=\"#mdb60f7e60f\" x=\"657.060268\" y=\"450.72\" style=\"stroke: #000000; stroke-width: 0.8\"/>\n      </g>\n     </g>\n     <g id=\"text_15\">\n      <!-- Campania -->\n      <g transform=\"translate(641.131583 498.852622) rotate(-45) scale(0.1 -0.1)\">\n       <use xlink:href=\"#DejaVuSans-43\"/>\n       <use xlink:href=\"#DejaVuSans-61\" x=\"69.824219\"/>\n       <use xlink:href=\"#DejaVuSans-6d\" x=\"131.103516\"/>\n       <use xlink:href=\"#DejaVuSans-70\" x=\"228.515625\"/>\n       <use xlink:href=\"#DejaVuSans-61\" x=\"291.992188\"/>\n       <use xlink:href=\"#DejaVuSans-6e\" x=\"353.271484\"/>\n       <use xlink:href=\"#DejaVuSans-69\" x=\"416.650391\"/>\n       <use xlink:href=\"#DejaVuSans-61\" x=\"444.433594\"/>\n      </g>\n     </g>\n    </g>\n    <g id=\"xtick_16\">\n     <g id=\"line2d_16\">\n      <g>\n       <use xlink:href=\"#mdb60f7e60f\" x=\"699.574554\" y=\"450.72\" style=\"stroke: #000000; stroke-width: 0.8\"/>\n      </g>\n     </g>\n     <g id=\"text_16\">\n      <!-- Navarra -->\n      <g transform=\"translate(687.443253 491.257854) rotate(-45) scale(0.1 -0.1)\">\n       <defs>\n        <path id=\"DejaVuSans-4e\" d=\"M 628 4666 \nL 1478 4666 \nL 3547 763 \nL 3547 4666 \nL 4159 4666 \nL 4159 0 \nL 3309 0 \nL 1241 3903 \nL 1241 0 \nL 628 0 \nL 628 4666 \nz\n\" transform=\"scale(0.015625)\"/>\n       </defs>\n       <use xlink:href=\"#DejaVuSans-4e\"/>\n       <use xlink:href=\"#DejaVuSans-61\" x=\"74.804688\"/>\n       <use xlink:href=\"#DejaVuSans-76\" x=\"136.083984\"/>\n       <use xlink:href=\"#DejaVuSans-61\" x=\"195.263672\"/>\n       <use xlink:href=\"#DejaVuSans-72\" x=\"256.542969\"/>\n       <use xlink:href=\"#DejaVuSans-72\" x=\"295.90625\"/>\n       <use xlink:href=\"#DejaVuSans-61\" x=\"337.019531\"/>\n      </g>\n     </g>\n    </g>\n    <g id=\"xtick_17\">\n     <g id=\"line2d_17\">\n      <g>\n       <use xlink:href=\"#mdb60f7e60f\" x=\"742.088839\" y=\"450.72\" style=\"stroke: #000000; stroke-width: 0.8\"/>\n      </g>\n     </g>\n     <g id=\"text_17\">\n      <!-- Veneto -->\n      <g transform=\"translate(731.754584 487.663762) rotate(-45) scale(0.1 -0.1)\">\n       <use xlink:href=\"#DejaVuSans-56\"/>\n       <use xlink:href=\"#DejaVuSans-65\" x=\"60.658203\"/>\n       <use xlink:href=\"#DejaVuSans-6e\" x=\"122.181641\"/>\n       <use xlink:href=\"#DejaVuSans-65\" x=\"185.560547\"/>\n       <use xlink:href=\"#DejaVuSans-74\" x=\"247.083984\"/>\n       <use xlink:href=\"#DejaVuSans-6f\" x=\"286.292969\"/>\n      </g>\n     </g>\n    </g>\n    <g id=\"xtick_18\">\n     <g id=\"line2d_18\">\n      <g>\n       <use xlink:href=\"#mdb60f7e60f\" x=\"784.603125\" y=\"450.72\" style=\"stroke: #000000; stroke-width: 0.8\"/>\n      </g>\n     </g>\n     <g id=\"text_18\">\n      <!-- Puglia -->\n      <g transform=\"translate(775.868147 484.465209) rotate(-45) scale(0.1 -0.1)\">\n       <use xlink:href=\"#DejaVuSans-50\"/>\n       <use xlink:href=\"#DejaVuSans-75\" x=\"58.552734\"/>\n       <use xlink:href=\"#DejaVuSans-67\" x=\"121.931641\"/>\n       <use xlink:href=\"#DejaVuSans-6c\" x=\"185.408203\"/>\n       <use xlink:href=\"#DejaVuSans-69\" x=\"213.191406\"/>\n       <use xlink:href=\"#DejaVuSans-61\" x=\"240.974609\"/>\n      </g>\n     </g>\n    </g>\n    <g id=\"xtick_19\">\n     <g id=\"line2d_19\">\n      <g>\n       <use xlink:href=\"#mdb60f7e60f\" x=\"827.117411\" y=\"450.72\" style=\"stroke: #000000; stroke-width: 0.8\"/>\n      </g>\n     </g>\n     <g id=\"text_19\">\n      <!-- Alsace -->\n      <g transform=\"translate(817.539981 486.150112) rotate(-45) scale(0.1 -0.1)\">\n       <use xlink:href=\"#DejaVuSans-41\"/>\n       <use xlink:href=\"#DejaVuSans-6c\" x=\"68.408203\"/>\n       <use xlink:href=\"#DejaVuSans-73\" x=\"96.191406\"/>\n       <use xlink:href=\"#DejaVuSans-61\" x=\"148.291016\"/>\n       <use xlink:href=\"#DejaVuSans-63\" x=\"209.570312\"/>\n       <use xlink:href=\"#DejaVuSans-65\" x=\"264.550781\"/>\n      </g>\n     </g>\n    </g>\n    <g id=\"xtick_20\">\n     <g id=\"line2d_20\">\n      <g>\n       <use xlink:href=\"#mdb60f7e60f\" x=\"869.631696\" y=\"450.72\" style=\"stroke: #000000; stroke-width: 0.8\"/>\n      </g>\n     </g>\n     <g id=\"text_20\">\n      <!-- Penedès -->\n      <g transform=\"translate(856.725893 492.806859) rotate(-45) scale(0.1 -0.1)\">\n       <defs>\n        <path id=\"DejaVuSans-e8\" d=\"M 3597 1894 \nL 3597 1613 \nL 953 1613 \nQ 991 1019 1311 708 \nQ 1631 397 2203 397 \nQ 2534 397 2845 478 \nQ 3156 559 3463 722 \nL 3463 178 \nQ 3153 47 2828 -22 \nQ 2503 -91 2169 -91 \nQ 1331 -91 842 396 \nQ 353 884 353 1716 \nQ 353 2575 817 3079 \nQ 1281 3584 2069 3584 \nQ 2775 3584 3186 3129 \nQ 3597 2675 3597 1894 \nz\nM 3022 2063 \nQ 3016 2534 2758 2815 \nQ 2500 3097 2075 3097 \nQ 1594 3097 1305 2825 \nQ 1016 2553 972 2059 \nL 3022 2063 \nz\nM 1579 5119 \nL 2460 3950 \nL 1982 3950 \nL 963 5119 \nL 1579 5119 \nz\n\" transform=\"scale(0.015625)\"/>\n       </defs>\n       <use xlink:href=\"#DejaVuSans-50\"/>\n       <use xlink:href=\"#DejaVuSans-65\" x=\"56.677734\"/>\n       <use xlink:href=\"#DejaVuSans-6e\" x=\"118.201172\"/>\n       <use xlink:href=\"#DejaVuSans-65\" x=\"181.580078\"/>\n       <use xlink:href=\"#DejaVuSans-64\" x=\"243.103516\"/>\n       <use xlink:href=\"#DejaVuSans-e8\" x=\"306.580078\"/>\n       <use xlink:href=\"#DejaVuSans-73\" x=\"368.103516\"/>\n      </g>\n     </g>\n    </g>\n    <g id=\"xtick_21\">\n     <g id=\"line2d_21\">\n      <g>\n       <use xlink:href=\"#mdb60f7e60f\" x=\"912.145982\" y=\"450.72\" style=\"stroke: #000000; stroke-width: 0.8\"/>\n      </g>\n     </g>\n     <g id=\"text_21\">\n      <!-- Maipo -->\n      <g transform=\"translate(903.490001 484.307215) rotate(-45) scale(0.1 -0.1)\">\n       <use xlink:href=\"#DejaVuSans-4d\"/>\n       <use xlink:href=\"#DejaVuSans-61\" x=\"86.279297\"/>\n       <use xlink:href=\"#DejaVuSans-69\" x=\"147.558594\"/>\n       <use xlink:href=\"#DejaVuSans-70\" x=\"175.341797\"/>\n       <use xlink:href=\"#DejaVuSans-6f\" x=\"238.818359\"/>\n      </g>\n     </g>\n    </g>\n    <g id=\"text_22\">\n     <!-- region -->\n     <g transform=\"translate(471.192187 535.769902) scale(0.1 -0.1)\">\n      <use xlink:href=\"#DejaVuSans-72\"/>\n      <use xlink:href=\"#DejaVuSans-65\" x=\"38.863281\"/>\n      <use xlink:href=\"#DejaVuSans-67\" x=\"100.386719\"/>\n      <use xlink:href=\"#DejaVuSans-69\" x=\"163.863281\"/>\n      <use xlink:href=\"#DejaVuSans-6f\" x=\"191.646484\"/>\n      <use xlink:href=\"#DejaVuSans-6e\" x=\"252.828125\"/>\n     </g>\n    </g>\n   </g>\n   <g id=\"matplotlib.axis_2\">\n    <g id=\"ytick_1\">\n     <g id=\"line2d_22\">\n      <defs>\n       <path id=\"mb8009fdf0c\" d=\"M 0 0 \nL -3.5 0 \n\" style=\"stroke: #000000; stroke-width: 0.8\"/>\n      </defs>\n      <g>\n       <use xlink:href=\"#mb8009fdf0c\" x=\"40.603125\" y=\"450.72\" style=\"stroke: #000000; stroke-width: 0.8\"/>\n      </g>\n     </g>\n     <g id=\"text_23\">\n      <!-- 0 -->\n      <g transform=\"translate(27.240625 454.519219) scale(0.1 -0.1)\">\n       <defs>\n        <path id=\"DejaVuSans-30\" d=\"M 2034 4250 \nQ 1547 4250 1301 3770 \nQ 1056 3291 1056 2328 \nQ 1056 1369 1301 889 \nQ 1547 409 2034 409 \nQ 2525 409 2770 889 \nQ 3016 1369 3016 2328 \nQ 3016 3291 2770 3770 \nQ 2525 4250 2034 4250 \nz\nM 2034 4750 \nQ 2819 4750 3233 4129 \nQ 3647 3509 3647 2328 \nQ 3647 1150 3233 529 \nQ 2819 -91 2034 -91 \nQ 1250 -91 836 529 \nQ 422 1150 422 2328 \nQ 422 3509 836 4129 \nQ 1250 4750 2034 4750 \nz\n\" transform=\"scale(0.015625)\"/>\n       </defs>\n       <use xlink:href=\"#DejaVuSans-30\"/>\n      </g>\n     </g>\n    </g>\n    <g id=\"ytick_2\">\n     <g id=\"line2d_23\">\n      <g>\n       <use xlink:href=\"#mb8009fdf0c\" x=\"40.603125\" y=\"390.377143\" style=\"stroke: #000000; stroke-width: 0.8\"/>\n      </g>\n     </g>\n     <g id=\"text_24\">\n      <!-- 10 -->\n      <g transform=\"translate(20.878125 394.176362) scale(0.1 -0.1)\">\n       <defs>\n        <path id=\"DejaVuSans-31\" d=\"M 794 531 \nL 1825 531 \nL 1825 4091 \nL 703 3866 \nL 703 4441 \nL 1819 4666 \nL 2450 4666 \nL 2450 531 \nL 3481 531 \nL 3481 0 \nL 794 0 \nL 794 531 \nz\n\" transform=\"scale(0.015625)\"/>\n       </defs>\n       <use xlink:href=\"#DejaVuSans-31\"/>\n       <use xlink:href=\"#DejaVuSans-30\" x=\"63.623047\"/>\n      </g>\n     </g>\n    </g>\n    <g id=\"ytick_3\">\n     <g id=\"line2d_24\">\n      <g>\n       <use xlink:href=\"#mb8009fdf0c\" x=\"40.603125\" y=\"330.034286\" style=\"stroke: #000000; stroke-width: 0.8\"/>\n      </g>\n     </g>\n     <g id=\"text_25\">\n      <!-- 20 -->\n      <g transform=\"translate(20.878125 333.833504) scale(0.1 -0.1)\">\n       <defs>\n        <path id=\"DejaVuSans-32\" d=\"M 1228 531 \nL 3431 531 \nL 3431 0 \nL 469 0 \nL 469 531 \nQ 828 903 1448 1529 \nQ 2069 2156 2228 2338 \nQ 2531 2678 2651 2914 \nQ 2772 3150 2772 3378 \nQ 2772 3750 2511 3984 \nQ 2250 4219 1831 4219 \nQ 1534 4219 1204 4116 \nQ 875 4013 500 3803 \nL 500 4441 \nQ 881 4594 1212 4672 \nQ 1544 4750 1819 4750 \nQ 2544 4750 2975 4387 \nQ 3406 4025 3406 3419 \nQ 3406 3131 3298 2873 \nQ 3191 2616 2906 2266 \nQ 2828 2175 2409 1742 \nQ 1991 1309 1228 531 \nz\n\" transform=\"scale(0.015625)\"/>\n       </defs>\n       <use xlink:href=\"#DejaVuSans-32\"/>\n       <use xlink:href=\"#DejaVuSans-30\" x=\"63.623047\"/>\n      </g>\n     </g>\n    </g>\n    <g id=\"ytick_4\">\n     <g id=\"line2d_25\">\n      <g>\n       <use xlink:href=\"#mb8009fdf0c\" x=\"40.603125\" y=\"269.691429\" style=\"stroke: #000000; stroke-width: 0.8\"/>\n      </g>\n     </g>\n     <g id=\"text_26\">\n      <!-- 30 -->\n      <g transform=\"translate(20.878125 273.490647) scale(0.1 -0.1)\">\n       <defs>\n        <path id=\"DejaVuSans-33\" d=\"M 2597 2516 \nQ 3050 2419 3304 2112 \nQ 3559 1806 3559 1356 \nQ 3559 666 3084 287 \nQ 2609 -91 1734 -91 \nQ 1441 -91 1130 -33 \nQ 819 25 488 141 \nL 488 750 \nQ 750 597 1062 519 \nQ 1375 441 1716 441 \nQ 2309 441 2620 675 \nQ 2931 909 2931 1356 \nQ 2931 1769 2642 2001 \nQ 2353 2234 1838 2234 \nL 1294 2234 \nL 1294 2753 \nL 1863 2753 \nQ 2328 2753 2575 2939 \nQ 2822 3125 2822 3475 \nQ 2822 3834 2567 4026 \nQ 2313 4219 1838 4219 \nQ 1578 4219 1281 4162 \nQ 984 4106 628 3988 \nL 628 4550 \nQ 988 4650 1302 4700 \nQ 1616 4750 1894 4750 \nQ 2613 4750 3031 4423 \nQ 3450 4097 3450 3541 \nQ 3450 3153 3228 2886 \nQ 3006 2619 2597 2516 \nz\n\" transform=\"scale(0.015625)\"/>\n       </defs>\n       <use xlink:href=\"#DejaVuSans-33\"/>\n       <use xlink:href=\"#DejaVuSans-30\" x=\"63.623047\"/>\n      </g>\n     </g>\n    </g>\n    <g id=\"ytick_5\">\n     <g id=\"line2d_26\">\n      <g>\n       <use xlink:href=\"#mb8009fdf0c\" x=\"40.603125\" y=\"209.348571\" style=\"stroke: #000000; stroke-width: 0.8\"/>\n      </g>\n     </g>\n     <g id=\"text_27\">\n      <!-- 40 -->\n      <g transform=\"translate(20.878125 213.14779) scale(0.1 -0.1)\">\n       <defs>\n        <path id=\"DejaVuSans-34\" d=\"M 2419 4116 \nL 825 1625 \nL 2419 1625 \nL 2419 4116 \nz\nM 2253 4666 \nL 3047 4666 \nL 3047 1625 \nL 3713 1625 \nL 3713 1100 \nL 3047 1100 \nL 3047 0 \nL 2419 0 \nL 2419 1100 \nL 313 1100 \nL 313 1709 \nL 2253 4666 \nz\n\" transform=\"scale(0.015625)\"/>\n       </defs>\n       <use xlink:href=\"#DejaVuSans-34\"/>\n       <use xlink:href=\"#DejaVuSans-30\" x=\"63.623047\"/>\n      </g>\n     </g>\n    </g>\n    <g id=\"ytick_6\">\n     <g id=\"line2d_27\">\n      <g>\n       <use xlink:href=\"#mb8009fdf0c\" x=\"40.603125\" y=\"149.005714\" style=\"stroke: #000000; stroke-width: 0.8\"/>\n      </g>\n     </g>\n     <g id=\"text_28\">\n      <!-- 50 -->\n      <g transform=\"translate(20.878125 152.804933) scale(0.1 -0.1)\">\n       <defs>\n        <path id=\"DejaVuSans-35\" d=\"M 691 4666 \nL 3169 4666 \nL 3169 4134 \nL 1269 4134 \nL 1269 2991 \nQ 1406 3038 1543 3061 \nQ 1681 3084 1819 3084 \nQ 2600 3084 3056 2656 \nQ 3513 2228 3513 1497 \nQ 3513 744 3044 326 \nQ 2575 -91 1722 -91 \nQ 1428 -91 1123 -41 \nQ 819 9 494 109 \nL 494 744 \nQ 775 591 1075 516 \nQ 1375 441 1709 441 \nQ 2250 441 2565 725 \nQ 2881 1009 2881 1497 \nQ 2881 1984 2565 2268 \nQ 2250 2553 1709 2553 \nQ 1456 2553 1204 2497 \nQ 953 2441 691 2322 \nL 691 4666 \nz\n\" transform=\"scale(0.015625)\"/>\n       </defs>\n       <use xlink:href=\"#DejaVuSans-35\"/>\n       <use xlink:href=\"#DejaVuSans-30\" x=\"63.623047\"/>\n      </g>\n     </g>\n    </g>\n    <g id=\"ytick_7\">\n     <g id=\"line2d_28\">\n      <g>\n       <use xlink:href=\"#mb8009fdf0c\" x=\"40.603125\" y=\"88.662857\" style=\"stroke: #000000; stroke-width: 0.8\"/>\n      </g>\n     </g>\n     <g id=\"text_29\">\n      <!-- 60 -->\n      <g transform=\"translate(20.878125 92.462076) scale(0.1 -0.1)\">\n       <defs>\n        <path id=\"DejaVuSans-36\" d=\"M 2113 2584 \nQ 1688 2584 1439 2293 \nQ 1191 2003 1191 1497 \nQ 1191 994 1439 701 \nQ 1688 409 2113 409 \nQ 2538 409 2786 701 \nQ 3034 994 3034 1497 \nQ 3034 2003 2786 2293 \nQ 2538 2584 2113 2584 \nz\nM 3366 4563 \nL 3366 3988 \nQ 3128 4100 2886 4159 \nQ 2644 4219 2406 4219 \nQ 1781 4219 1451 3797 \nQ 1122 3375 1075 2522 \nQ 1259 2794 1537 2939 \nQ 1816 3084 2150 3084 \nQ 2853 3084 3261 2657 \nQ 3669 2231 3669 1497 \nQ 3669 778 3244 343 \nQ 2819 -91 2113 -91 \nQ 1303 -91 875 529 \nQ 447 1150 447 2328 \nQ 447 3434 972 4092 \nQ 1497 4750 2381 4750 \nQ 2619 4750 2861 4703 \nQ 3103 4656 3366 4563 \nz\n\" transform=\"scale(0.015625)\"/>\n       </defs>\n       <use xlink:href=\"#DejaVuSans-36\"/>\n       <use xlink:href=\"#DejaVuSans-30\" x=\"63.623047\"/>\n      </g>\n     </g>\n    </g>\n    <g id=\"ytick_8\">\n     <g id=\"line2d_29\">\n      <g>\n       <use xlink:href=\"#mb8009fdf0c\" x=\"40.603125\" y=\"28.32\" style=\"stroke: #000000; stroke-width: 0.8\"/>\n      </g>\n     </g>\n     <g id=\"text_30\">\n      <!-- 70 -->\n      <g transform=\"translate(20.878125 32.119219) scale(0.1 -0.1)\">\n       <defs>\n        <path id=\"DejaVuSans-37\" d=\"M 525 4666 \nL 3525 4666 \nL 3525 4397 \nL 1831 0 \nL 1172 0 \nL 2766 4134 \nL 525 4134 \nL 525 4666 \nz\n\" transform=\"scale(0.015625)\"/>\n       </defs>\n       <use xlink:href=\"#DejaVuSans-37\"/>\n       <use xlink:href=\"#DejaVuSans-30\" x=\"63.623047\"/>\n      </g>\n     </g>\n    </g>\n    <g id=\"text_31\">\n     <!-- count -->\n     <g transform=\"translate(14.798438 243.06625) rotate(-90) scale(0.1 -0.1)\">\n      <use xlink:href=\"#DejaVuSans-63\"/>\n      <use xlink:href=\"#DejaVuSans-6f\" x=\"54.980469\"/>\n      <use xlink:href=\"#DejaVuSans-75\" x=\"116.162109\"/>\n      <use xlink:href=\"#DejaVuSans-6e\" x=\"179.541016\"/>\n      <use xlink:href=\"#DejaVuSans-74\" x=\"242.919922\"/>\n     </g>\n    </g>\n   </g>\n   <g id=\"patch_24\">\n    <path d=\"M 40.603125 450.72 \nL 40.603125 7.2 \n\" style=\"fill: none; stroke: #000000; stroke-width: 0.8; stroke-linejoin: miter; stroke-linecap: square\"/>\n   </g>\n   <g id=\"patch_25\">\n    <path d=\"M 933.403125 450.72 \nL 933.403125 7.2 \n\" style=\"fill: none; stroke: #000000; stroke-width: 0.8; stroke-linejoin: miter; stroke-linecap: square\"/>\n   </g>\n   <g id=\"patch_26\">\n    <path d=\"M 40.603125 450.72 \nL 933.403125 450.72 \n\" style=\"fill: none; stroke: #000000; stroke-width: 0.8; stroke-linejoin: miter; stroke-linecap: square\"/>\n   </g>\n   <g id=\"patch_27\">\n    <path d=\"M 40.603125 7.2 \nL 933.403125 7.2 \n\" style=\"fill: none; stroke: #000000; stroke-width: 0.8; stroke-linejoin: miter; stroke-linecap: square\"/>\n   </g>\n  </g>\n </g>\n <defs>\n  <clipPath id=\"p0bd7986c9e\">\n   <rect x=\"40.603125\" y=\"7.2\" width=\"892.8\" height=\"443.52\"/>\n  </clipPath>\n </defs>\n</svg>\n"
          },
          "metadata": {}
        }
      ]
    },
    {
      "cell_type": "code",
      "source": [
        "# preço  região\n",
        "f, ax = plt.subplots(figsize=(16, 8))\n",
        "sns.scatterplot(x=df_products_raw.region, y=df_products_raw.price_usd)\n",
        "plt.xticks(rotation=90)\n",
        "plt.show();"
      ],
      "metadata": {
        "colab": {
          "base_uri": "https://localhost:8080/",
          "height": 773
        },
        "id": "r6cyQ8ztOE-b",
        "outputId": "f616ca42-a256-4367-f1ef-676d88207895"
      },
      "execution_count": 28,
      "outputs": [
        {
          "output_type": "display_data",
          "data": {
            "text/plain": [
              "<Figure size 1600x800 with 1 Axes>"
            ],
            "image/svg+xml": "<?xml version=\"1.0\" encoding=\"utf-8\" standalone=\"no\"?>\n<!DOCTYPE svg PUBLIC \"-//W3C//DTD SVG 1.1//EN\"\n  \"http://www.w3.org/Graphics/SVG/1.1/DTD/svg11.dtd\">\n<svg xmlns:xlink=\"http://www.w3.org/1999/xlink\" width=\"953.60625pt\" height=\"562.896562pt\" viewBox=\"0 0 953.60625 562.896562\" xmlns=\"http://www.w3.org/2000/svg\" version=\"1.1\">\n <metadata>\n  <rdf:RDF xmlns:dc=\"http://purl.org/dc/elements/1.1/\" xmlns:cc=\"http://creativecommons.org/ns#\" xmlns:rdf=\"http://www.w3.org/1999/02/22-rdf-syntax-ns#\">\n   <cc:Work>\n    <dc:type rdf:resource=\"http://purl.org/dc/dcmitype/StillImage\"/>\n    <dc:date>2024-12-01T17:53:46.388645</dc:date>\n    <dc:format>image/svg+xml</dc:format>\n    <dc:creator>\n     <cc:Agent>\n      <dc:title>Matplotlib v3.8.0, https://matplotlib.org/</dc:title>\n     </cc:Agent>\n    </dc:creator>\n   </cc:Work>\n  </rdf:RDF>\n </metadata>\n <defs>\n  <style type=\"text/css\">*{stroke-linejoin: round; stroke-linecap: butt}</style>\n </defs>\n <g id=\"figure_1\">\n  <g id=\"patch_1\">\n   <path d=\"M 0 562.896562 \nL 953.60625 562.896562 \nL 953.60625 0 \nL 0 0 \nz\n\" style=\"fill: #ffffff\"/>\n  </g>\n  <g id=\"axes_1\">\n   <g id=\"patch_2\">\n    <path d=\"M 53.60625 450.72 \nL 946.40625 450.72 \nL 946.40625 7.2 \nL 53.60625 7.2 \nz\n\" style=\"fill: #ffffff\"/>\n   </g>\n   <g id=\"PathCollection_1\">\n    <defs>\n     <path id=\"m3d4111ca0d\" d=\"M 0 3 \nC 0.795609 3 1.55874 2.683901 2.12132 2.12132 \nC 2.683901 1.55874 3 0.795609 3 0 \nC 3 -0.795609 2.683901 -1.55874 2.12132 -2.12132 \nC 1.55874 -2.683901 0.795609 -3 0 -3 \nC -0.795609 -3 -1.55874 -2.683901 -2.12132 -2.12132 \nC -2.683901 -1.55874 -3 -0.795609 -3 0 \nC -3 0.795609 -2.683901 1.55874 -2.12132 2.12132 \nC -1.55874 2.683901 -0.795609 3 0 3 \nz\n\" style=\"stroke: #ffffff; stroke-width: 0.48\"/>\n    </defs>\n    <g clip-path=\"url(#p17a89772a8)\">\n     <use xlink:href=\"#m3d4111ca0d\" x=\"94.188068\" y=\"419.988942\" style=\"fill: #1f77b4; stroke: #ffffff; stroke-width: 0.48\"/>\n     <use xlink:href=\"#m3d4111ca0d\" x=\"94.188068\" y=\"414.481851\" style=\"fill: #1f77b4; stroke: #ffffff; stroke-width: 0.48\"/>\n     <use xlink:href=\"#m3d4111ca0d\" x=\"94.188068\" y=\"403.422931\" style=\"fill: #1f77b4; stroke: #ffffff; stroke-width: 0.48\"/>\n     <use xlink:href=\"#m3d4111ca0d\" x=\"94.188068\" y=\"399.353862\" style=\"fill: #1f77b4; stroke: #ffffff; stroke-width: 0.48\"/>\n     <use xlink:href=\"#m3d4111ca0d\" x=\"94.188068\" y=\"375.448615\" style=\"fill: #1f77b4; stroke: #ffffff; stroke-width: 0.48\"/>\n     <use xlink:href=\"#m3d4111ca0d\" x=\"94.188068\" y=\"408.201424\" style=\"fill: #1f77b4; stroke: #ffffff; stroke-width: 0.48\"/>\n     <use xlink:href=\"#m3d4111ca0d\" x=\"94.188068\" y=\"402.472772\" style=\"fill: #1f77b4; stroke: #ffffff; stroke-width: 0.48\"/>\n     <use xlink:href=\"#m3d4111ca0d\" x=\"94.188068\" y=\"388.297073\" style=\"fill: #1f77b4; stroke: #ffffff; stroke-width: 0.48\"/>\n     <use xlink:href=\"#m3d4111ca0d\" x=\"94.188068\" y=\"377.240283\" style=\"fill: #1f77b4; stroke: #ffffff; stroke-width: 0.48\"/>\n     <use xlink:href=\"#m3d4111ca0d\" x=\"134.769886\" y=\"415.58753\" style=\"fill: #1f77b4; stroke: #ffffff; stroke-width: 0.48\"/>\n     <use xlink:href=\"#m3d4111ca0d\" x=\"175.351705\" y=\"423.129156\" style=\"fill: #1f77b4; stroke: #ffffff; stroke-width: 0.48\"/>\n     <use xlink:href=\"#m3d4111ca0d\" x=\"175.351705\" y=\"417.421807\" style=\"fill: #1f77b4; stroke: #ffffff; stroke-width: 0.48\"/>\n     <use xlink:href=\"#m3d4111ca0d\" x=\"175.351705\" y=\"366.381621\" style=\"fill: #1f77b4; stroke: #ffffff; stroke-width: 0.48\"/>\n     <use xlink:href=\"#m3d4111ca0d\" x=\"175.351705\" y=\"412.62414\" style=\"fill: #1f77b4; stroke: #ffffff; stroke-width: 0.48\"/>\n     <use xlink:href=\"#m3d4111ca0d\" x=\"175.351705\" y=\"403.557147\" style=\"fill: #1f77b4; stroke: #ffffff; stroke-width: 0.48\"/>\n     <use xlink:href=\"#m3d4111ca0d\" x=\"215.933523\" y=\"428.259165\" style=\"fill: #1f77b4; stroke: #ffffff; stroke-width: 0.48\"/>\n     <use xlink:href=\"#m3d4111ca0d\" x=\"215.933523\" y=\"427.507133\" style=\"fill: #1f77b4; stroke: #ffffff; stroke-width: 0.48\"/>\n     <use xlink:href=\"#m3d4111ca0d\" x=\"215.933523\" y=\"422.000042\" style=\"fill: #1f77b4; stroke: #ffffff; stroke-width: 0.48\"/>\n     <use xlink:href=\"#m3d4111ca0d\" x=\"215.933523\" y=\"426.623016\" style=\"fill: #1f77b4; stroke: #ffffff; stroke-width: 0.48\"/>\n     <use xlink:href=\"#m3d4111ca0d\" x=\"215.933523\" y=\"427.882084\" style=\"fill: #1f77b4; stroke: #ffffff; stroke-width: 0.48\"/>\n     <use xlink:href=\"#m3d4111ca0d\" x=\"256.515341\" y=\"421.469572\" style=\"fill: #1f77b4; stroke: #ffffff; stroke-width: 0.48\"/>\n     <use xlink:href=\"#m3d4111ca0d\" x=\"256.515341\" y=\"427.351614\" style=\"fill: #1f77b4; stroke: #ffffff; stroke-width: 0.48\"/>\n     <use xlink:href=\"#m3d4111ca0d\" x=\"256.515341\" y=\"422.575251\" style=\"fill: #1f77b4; stroke: #ffffff; stroke-width: 0.48\"/>\n     <use xlink:href=\"#m3d4111ca0d\" x=\"256.515341\" y=\"418.152535\" style=\"fill: #1f77b4; stroke: #ffffff; stroke-width: 0.48\"/>\n     <use xlink:href=\"#m3d4111ca0d\" x=\"297.097159\" y=\"428.834374\" style=\"fill: #1f77b4; stroke: #ffffff; stroke-width: 0.48\"/>\n     <use xlink:href=\"#m3d4111ca0d\" x=\"297.097159\" y=\"427.507133\" style=\"fill: #1f77b4; stroke: #ffffff; stroke-width: 0.48\"/>\n     <use xlink:href=\"#m3d4111ca0d\" x=\"297.097159\" y=\"426.024373\" style=\"fill: #1f77b4; stroke: #ffffff; stroke-width: 0.48\"/>\n     <use xlink:href=\"#m3d4111ca0d\" x=\"297.097159\" y=\"423.813015\" style=\"fill: #1f77b4; stroke: #ffffff; stroke-width: 0.48\"/>\n     <use xlink:href=\"#m3d4111ca0d\" x=\"297.097159\" y=\"423.305979\" style=\"fill: #1f77b4; stroke: #ffffff; stroke-width: 0.48\"/>\n     <use xlink:href=\"#m3d4111ca0d\" x=\"297.097159\" y=\"423.305979\" style=\"fill: #1f77b4; stroke: #ffffff; stroke-width: 0.48\"/>\n     <use xlink:href=\"#m3d4111ca0d\" x=\"297.097159\" y=\"415.58753\" style=\"fill: #1f77b4; stroke: #ffffff; stroke-width: 0.48\"/>\n     <use xlink:href=\"#m3d4111ca0d\" x=\"297.097159\" y=\"413.729819\" style=\"fill: #1f77b4; stroke: #ffffff; stroke-width: 0.48\"/>\n     <use xlink:href=\"#m3d4111ca0d\" x=\"297.097159\" y=\"412.247059\" style=\"fill: #1f77b4; stroke: #ffffff; stroke-width: 0.48\"/>\n     <use xlink:href=\"#m3d4111ca0d\" x=\"297.097159\" y=\"412.247059\" style=\"fill: #1f77b4; stroke: #ffffff; stroke-width: 0.48\"/>\n     <use xlink:href=\"#m3d4111ca0d\" x=\"297.097159\" y=\"421.842392\" style=\"fill: #1f77b4; stroke: #ffffff; stroke-width: 0.48\"/>\n     <use xlink:href=\"#m3d4111ca0d\" x=\"297.097159\" y=\"409.682054\" style=\"fill: #1f77b4; stroke: #ffffff; stroke-width: 0.48\"/>\n     <use xlink:href=\"#m3d4111ca0d\" x=\"297.097159\" y=\"409.682054\" style=\"fill: #1f77b4; stroke: #ffffff; stroke-width: 0.48\"/>\n     <use xlink:href=\"#m3d4111ca0d\" x=\"297.097159\" y=\"399.353862\" style=\"fill: #1f77b4; stroke: #ffffff; stroke-width: 0.48\"/>\n     <use xlink:href=\"#m3d4111ca0d\" x=\"297.097159\" y=\"395.683179\" style=\"fill: #1f77b4; stroke: #ffffff; stroke-width: 0.48\"/>\n     <use xlink:href=\"#m3d4111ca0d\" x=\"297.097159\" y=\"417.046856\" style=\"fill: #1f77b4; stroke: #ffffff; stroke-width: 0.48\"/>\n     <use xlink:href=\"#m3d4111ca0d\" x=\"297.097159\" y=\"419.258214\" style=\"fill: #1f77b4; stroke: #ffffff; stroke-width: 0.48\"/>\n     <use xlink:href=\"#m3d4111ca0d\" x=\"297.097159\" y=\"407.095746\" style=\"fill: #1f77b4; stroke: #ffffff; stroke-width: 0.48\"/>\n     <use xlink:href=\"#m3d4111ca0d\" x=\"297.097159\" y=\"397.519586\" style=\"fill: #1f77b4; stroke: #ffffff; stroke-width: 0.48\"/>\n     <use xlink:href=\"#m3d4111ca0d\" x=\"297.097159\" y=\"397.519586\" style=\"fill: #1f77b4; stroke: #ffffff; stroke-width: 0.48\"/>\n     <use xlink:href=\"#m3d4111ca0d\" x=\"297.097159\" y=\"397.519586\" style=\"fill: #1f77b4; stroke: #ffffff; stroke-width: 0.48\"/>\n     <use xlink:href=\"#m3d4111ca0d\" x=\"297.097159\" y=\"408.201424\" style=\"fill: #1f77b4; stroke: #ffffff; stroke-width: 0.48\"/>\n     <use xlink:href=\"#m3d4111ca0d\" x=\"297.097159\" y=\"399.353862\" style=\"fill: #1f77b4; stroke: #ffffff; stroke-width: 0.48\"/>\n     <use xlink:href=\"#m3d4111ca0d\" x=\"297.097159\" y=\"399.353862\" style=\"fill: #1f77b4; stroke: #ffffff; stroke-width: 0.48\"/>\n     <use xlink:href=\"#m3d4111ca0d\" x=\"297.097159\" y=\"395.79396\" style=\"fill: #1f77b4; stroke: #ffffff; stroke-width: 0.48\"/>\n     <use xlink:href=\"#m3d4111ca0d\" x=\"297.097159\" y=\"395.79396\" style=\"fill: #1f77b4; stroke: #ffffff; stroke-width: 0.48\"/>\n     <use xlink:href=\"#m3d4111ca0d\" x=\"297.097159\" y=\"381.198571\" style=\"fill: #1f77b4; stroke: #ffffff; stroke-width: 0.48\"/>\n     <use xlink:href=\"#m3d4111ca0d\" x=\"297.097159\" y=\"421.469572\" style=\"fill: #1f77b4; stroke: #ffffff; stroke-width: 0.48\"/>\n     <use xlink:href=\"#m3d4111ca0d\" x=\"297.097159\" y=\"417.421807\" style=\"fill: #1f77b4; stroke: #ffffff; stroke-width: 0.48\"/>\n     <use xlink:href=\"#m3d4111ca0d\" x=\"297.097159\" y=\"403.092719\" style=\"fill: #1f77b4; stroke: #ffffff; stroke-width: 0.48\"/>\n     <use xlink:href=\"#m3d4111ca0d\" x=\"297.097159\" y=\"403.047981\" style=\"fill: #1f77b4; stroke: #ffffff; stroke-width: 0.48\"/>\n     <use xlink:href=\"#m3d4111ca0d\" x=\"297.097159\" y=\"403.047981\" style=\"fill: #1f77b4; stroke: #ffffff; stroke-width: 0.48\"/>\n     <use xlink:href=\"#m3d4111ca0d\" x=\"297.097159\" y=\"384.626389\" style=\"fill: #1f77b4; stroke: #ffffff; stroke-width: 0.48\"/>\n     <use xlink:href=\"#m3d4111ca0d\" x=\"297.097159\" y=\"421.469572\" style=\"fill: #1f77b4; stroke: #ffffff; stroke-width: 0.48\"/>\n     <use xlink:href=\"#m3d4111ca0d\" x=\"297.097159\" y=\"421.469572\" style=\"fill: #1f77b4; stroke: #ffffff; stroke-width: 0.48\"/>\n     <use xlink:href=\"#m3d4111ca0d\" x=\"297.097159\" y=\"409.682054\" style=\"fill: #1f77b4; stroke: #ffffff; stroke-width: 0.48\"/>\n     <use xlink:href=\"#m3d4111ca0d\" x=\"297.097159\" y=\"405.990067\" style=\"fill: #1f77b4; stroke: #ffffff; stroke-width: 0.48\"/>\n     <use xlink:href=\"#m3d4111ca0d\" x=\"297.097159\" y=\"394.556196\" style=\"fill: #1f77b4; stroke: #ffffff; stroke-width: 0.48\"/>\n     <use xlink:href=\"#m3d4111ca0d\" x=\"297.097159\" y=\"419.633165\" style=\"fill: #1f77b4; stroke: #ffffff; stroke-width: 0.48\"/>\n     <use xlink:href=\"#m3d4111ca0d\" x=\"297.097159\" y=\"415.941177\" style=\"fill: #1f77b4; stroke: #ffffff; stroke-width: 0.48\"/>\n     <use xlink:href=\"#m3d4111ca0d\" x=\"297.097159\" y=\"424.411658\" style=\"fill: #1f77b4; stroke: #ffffff; stroke-width: 0.48\"/>\n     <use xlink:href=\"#m3d4111ca0d\" x=\"297.097159\" y=\"419.988942\" style=\"fill: #1f77b4; stroke: #ffffff; stroke-width: 0.48\"/>\n     <use xlink:href=\"#m3d4111ca0d\" x=\"297.097159\" y=\"419.988942\" style=\"fill: #1f77b4; stroke: #ffffff; stroke-width: 0.48\"/>\n     <use xlink:href=\"#m3d4111ca0d\" x=\"297.097159\" y=\"416.825294\" style=\"fill: #1f77b4; stroke: #ffffff; stroke-width: 0.48\"/>\n     <use xlink:href=\"#m3d4111ca0d\" x=\"297.097159\" y=\"415.941177\" style=\"fill: #1f77b4; stroke: #ffffff; stroke-width: 0.48\"/>\n     <use xlink:href=\"#m3d4111ca0d\" x=\"297.097159\" y=\"307.554813\" style=\"fill: #1f77b4; stroke: #ffffff; stroke-width: 0.48\"/>\n     <use xlink:href=\"#m3d4111ca0d\" x=\"297.097159\" y=\"397.675105\" style=\"fill: #1f77b4; stroke: #ffffff; stroke-width: 0.48\"/>\n     <use xlink:href=\"#m3d4111ca0d\" x=\"297.097159\" y=\"329.448961\" style=\"fill: #1f77b4; stroke: #ffffff; stroke-width: 0.48\"/>\n     <use xlink:href=\"#m3d4111ca0d\" x=\"297.097159\" y=\"395.683179\" style=\"fill: #1f77b4; stroke: #ffffff; stroke-width: 0.48\"/>\n     <use xlink:href=\"#m3d4111ca0d\" x=\"297.097159\" y=\"329.448961\" style=\"fill: #1f77b4; stroke: #ffffff; stroke-width: 0.48\"/>\n     <use xlink:href=\"#m3d4111ca0d\" x=\"297.097159\" y=\"329.448961\" style=\"fill: #1f77b4; stroke: #ffffff; stroke-width: 0.48\"/>\n     <use xlink:href=\"#m3d4111ca0d\" x=\"297.097159\" y=\"425.16369\" style=\"fill: #1f77b4; stroke: #ffffff; stroke-width: 0.48\"/>\n     <use xlink:href=\"#m3d4111ca0d\" x=\"297.097159\" y=\"425.16369\" style=\"fill: #1f77b4; stroke: #ffffff; stroke-width: 0.48\"/>\n     <use xlink:href=\"#m3d4111ca0d\" x=\"297.097159\" y=\"420.010246\" style=\"fill: #1f77b4; stroke: #ffffff; stroke-width: 0.48\"/>\n     <use xlink:href=\"#m3d4111ca0d\" x=\"297.097159\" y=\"420.010246\" style=\"fill: #1f77b4; stroke: #ffffff; stroke-width: 0.48\"/>\n     <use xlink:href=\"#m3d4111ca0d\" x=\"297.097159\" y=\"417.798888\" style=\"fill: #1f77b4; stroke: #ffffff; stroke-width: 0.48\"/>\n     <use xlink:href=\"#m3d4111ca0d\" x=\"297.097159\" y=\"408.201424\" style=\"fill: #1f77b4; stroke: #ffffff; stroke-width: 0.48\"/>\n     <use xlink:href=\"#m3d4111ca0d\" x=\"297.097159\" y=\"311.093412\" style=\"fill: #1f77b4; stroke: #ffffff; stroke-width: 0.48\"/>\n     <use xlink:href=\"#m3d4111ca0d\" x=\"297.097159\" y=\"381.198571\" style=\"fill: #1f77b4; stroke: #ffffff; stroke-width: 0.48\"/>\n     <use xlink:href=\"#m3d4111ca0d\" x=\"297.097159\" y=\"311.093412\" style=\"fill: #1f77b4; stroke: #ffffff; stroke-width: 0.48\"/>\n     <use xlink:href=\"#m3d4111ca0d\" x=\"297.097159\" y=\"378.765651\" style=\"fill: #1f77b4; stroke: #ffffff; stroke-width: 0.48\"/>\n     <use xlink:href=\"#m3d4111ca0d\" x=\"297.097159\" y=\"338.515955\" style=\"fill: #1f77b4; stroke: #ffffff; stroke-width: 0.48\"/>\n     <use xlink:href=\"#m3d4111ca0d\" x=\"297.097159\" y=\"338.515955\" style=\"fill: #1f77b4; stroke: #ffffff; stroke-width: 0.48\"/>\n     <use xlink:href=\"#m3d4111ca0d\" x=\"297.097159\" y=\"292.737863\" style=\"fill: #1f77b4; stroke: #ffffff; stroke-width: 0.48\"/>\n     <use xlink:href=\"#m3d4111ca0d\" x=\"297.097159\" y=\"292.737863\" style=\"fill: #1f77b4; stroke: #ffffff; stroke-width: 0.48\"/>\n     <use xlink:href=\"#m3d4111ca0d\" x=\"297.097159\" y=\"292.737863\" style=\"fill: #1f77b4; stroke: #ffffff; stroke-width: 0.48\"/>\n     <use xlink:href=\"#m3d4111ca0d\" x=\"297.097159\" y=\"292.737863\" style=\"fill: #1f77b4; stroke: #ffffff; stroke-width: 0.48\"/>\n     <use xlink:href=\"#m3d4111ca0d\" x=\"297.097159\" y=\"211.578045\" style=\"fill: #1f77b4; stroke: #ffffff; stroke-width: 0.48\"/>\n     <use xlink:href=\"#m3d4111ca0d\" x=\"297.097159\" y=\"237.451785\" style=\"fill: #1f77b4; stroke: #ffffff; stroke-width: 0.48\"/>\n     <use xlink:href=\"#m3d4111ca0d\" x=\"297.097159\" y=\"27.36\" style=\"fill: #1f77b4; stroke: #ffffff; stroke-width: 0.48\"/>\n     <use xlink:href=\"#m3d4111ca0d\" x=\"337.678977\" y=\"410.412782\" style=\"fill: #1f77b4; stroke: #ffffff; stroke-width: 0.48\"/>\n     <use xlink:href=\"#m3d4111ca0d\" x=\"337.678977\" y=\"424.058011\" style=\"fill: #1f77b4; stroke: #ffffff; stroke-width: 0.48\"/>\n     <use xlink:href=\"#m3d4111ca0d\" x=\"337.678977\" y=\"424.058011\" style=\"fill: #1f77b4; stroke: #ffffff; stroke-width: 0.48\"/>\n     <use xlink:href=\"#m3d4111ca0d\" x=\"337.678977\" y=\"426.422758\" style=\"fill: #1f77b4; stroke: #ffffff; stroke-width: 0.48\"/>\n     <use xlink:href=\"#m3d4111ca0d\" x=\"337.678977\" y=\"421.846653\" style=\"fill: #1f77b4; stroke: #ffffff; stroke-width: 0.48\"/>\n     <use xlink:href=\"#m3d4111ca0d\" x=\"337.678977\" y=\"421.808306\" style=\"fill: #1f77b4; stroke: #ffffff; stroke-width: 0.48\"/>\n     <use xlink:href=\"#m3d4111ca0d\" x=\"337.678977\" y=\"426.422758\" style=\"fill: #1f77b4; stroke: #ffffff; stroke-width: 0.48\"/>\n     <use xlink:href=\"#m3d4111ca0d\" x=\"337.678977\" y=\"422.952332\" style=\"fill: #1f77b4; stroke: #ffffff; stroke-width: 0.48\"/>\n     <use xlink:href=\"#m3d4111ca0d\" x=\"337.678977\" y=\"410.412782\" style=\"fill: #1f77b4; stroke: #ffffff; stroke-width: 0.48\"/>\n     <use xlink:href=\"#m3d4111ca0d\" x=\"337.678977\" y=\"426.623016\" style=\"fill: #1f77b4; stroke: #ffffff; stroke-width: 0.48\"/>\n     <use xlink:href=\"#m3d4111ca0d\" x=\"337.678977\" y=\"424.058011\" style=\"fill: #1f77b4; stroke: #ffffff; stroke-width: 0.48\"/>\n     <use xlink:href=\"#m3d4111ca0d\" x=\"337.678977\" y=\"420.740974\" style=\"fill: #1f77b4; stroke: #ffffff; stroke-width: 0.48\"/>\n     <use xlink:href=\"#m3d4111ca0d\" x=\"337.678977\" y=\"409.682054\" style=\"fill: #1f77b4; stroke: #ffffff; stroke-width: 0.48\"/>\n     <use xlink:href=\"#m3d4111ca0d\" x=\"378.260795\" y=\"426.269369\" style=\"fill: #1f77b4; stroke: #ffffff; stroke-width: 0.48\"/>\n     <use xlink:href=\"#m3d4111ca0d\" x=\"378.260795\" y=\"408.576375\" style=\"fill: #1f77b4; stroke: #ffffff; stroke-width: 0.48\"/>\n     <use xlink:href=\"#m3d4111ca0d\" x=\"378.260795\" y=\"421.473833\" style=\"fill: #1f77b4; stroke: #ffffff; stroke-width: 0.48\"/>\n     <use xlink:href=\"#m3d4111ca0d\" x=\"378.260795\" y=\"418.883263\" style=\"fill: #1f77b4; stroke: #ffffff; stroke-width: 0.48\"/>\n     <use xlink:href=\"#m3d4111ca0d\" x=\"378.260795\" y=\"418.883263\" style=\"fill: #1f77b4; stroke: #ffffff; stroke-width: 0.48\"/>\n     <use xlink:href=\"#m3d4111ca0d\" x=\"378.260795\" y=\"410.412782\" style=\"fill: #1f77b4; stroke: #ffffff; stroke-width: 0.48\"/>\n     <use xlink:href=\"#m3d4111ca0d\" x=\"378.260795\" y=\"369.92022\" style=\"fill: #1f77b4; stroke: #ffffff; stroke-width: 0.48\"/>\n     <use xlink:href=\"#m3d4111ca0d\" x=\"378.260795\" y=\"325.910362\" style=\"fill: #1f77b4; stroke: #ffffff; stroke-width: 0.48\"/>\n     <use xlink:href=\"#m3d4111ca0d\" x=\"378.260795\" y=\"325.910362\" style=\"fill: #1f77b4; stroke: #ffffff; stroke-width: 0.48\"/>\n     <use xlink:href=\"#m3d4111ca0d\" x=\"378.260795\" y=\"78.888048\" style=\"fill: #1f77b4; stroke: #ffffff; stroke-width: 0.48\"/>\n     <use xlink:href=\"#m3d4111ca0d\" x=\"378.260795\" y=\"407.824343\" style=\"fill: #1f77b4; stroke: #ffffff; stroke-width: 0.48\"/>\n     <use xlink:href=\"#m3d4111ca0d\" x=\"378.260795\" y=\"355.324831\" style=\"fill: #1f77b4; stroke: #ffffff; stroke-width: 0.48\"/>\n     <use xlink:href=\"#m3d4111ca0d\" x=\"378.260795\" y=\"409.682054\" style=\"fill: #1f77b4; stroke: #ffffff; stroke-width: 0.48\"/>\n     <use xlink:href=\"#m3d4111ca0d\" x=\"378.260795\" y=\"351.786233\" style=\"fill: #1f77b4; stroke: #ffffff; stroke-width: 0.48\"/>\n     <use xlink:href=\"#m3d4111ca0d\" x=\"378.260795\" y=\"417.046856\" style=\"fill: #1f77b4; stroke: #ffffff; stroke-width: 0.48\"/>\n     <use xlink:href=\"#m3d4111ca0d\" x=\"378.260795\" y=\"403.047981\" style=\"fill: #1f77b4; stroke: #ffffff; stroke-width: 0.48\"/>\n     <use xlink:href=\"#m3d4111ca0d\" x=\"378.260795\" y=\"415.564096\" style=\"fill: #1f77b4; stroke: #ffffff; stroke-width: 0.48\"/>\n     <use xlink:href=\"#m3d4111ca0d\" x=\"378.260795\" y=\"395.683179\" style=\"fill: #1f77b4; stroke: #ffffff; stroke-width: 0.48\"/>\n     <use xlink:href=\"#m3d4111ca0d\" x=\"378.260795\" y=\"413.729819\" style=\"fill: #1f77b4; stroke: #ffffff; stroke-width: 0.48\"/>\n     <use xlink:href=\"#m3d4111ca0d\" x=\"378.260795\" y=\"418.883263\" style=\"fill: #1f77b4; stroke: #ffffff; stroke-width: 0.48\"/>\n     <use xlink:href=\"#m3d4111ca0d\" x=\"378.260795\" y=\"403.092719\" style=\"fill: #1f77b4; stroke: #ffffff; stroke-width: 0.48\"/>\n     <use xlink:href=\"#m3d4111ca0d\" x=\"378.260795\" y=\"407.470696\" style=\"fill: #1f77b4; stroke: #ffffff; stroke-width: 0.48\"/>\n     <use xlink:href=\"#m3d4111ca0d\" x=\"378.260795\" y=\"407.470696\" style=\"fill: #1f77b4; stroke: #ffffff; stroke-width: 0.48\"/>\n     <use xlink:href=\"#m3d4111ca0d\" x=\"378.260795\" y=\"344.265911\" style=\"fill: #1f77b4; stroke: #ffffff; stroke-width: 0.48\"/>\n     <use xlink:href=\"#m3d4111ca0d\" x=\"378.260795\" y=\"401.190269\" style=\"fill: #1f77b4; stroke: #ffffff; stroke-width: 0.48\"/>\n     <use xlink:href=\"#m3d4111ca0d\" x=\"378.260795\" y=\"411.872108\" style=\"fill: #1f77b4; stroke: #ffffff; stroke-width: 0.48\"/>\n     <use xlink:href=\"#m3d4111ca0d\" x=\"378.260795\" y=\"425.140256\" style=\"fill: #1f77b4; stroke: #ffffff; stroke-width: 0.48\"/>\n     <use xlink:href=\"#m3d4111ca0d\" x=\"378.260795\" y=\"417.798888\" style=\"fill: #1f77b4; stroke: #ffffff; stroke-width: 0.48\"/>\n     <use xlink:href=\"#m3d4111ca0d\" x=\"378.260795\" y=\"399.353862\" style=\"fill: #1f77b4; stroke: #ffffff; stroke-width: 0.48\"/>\n     <use xlink:href=\"#m3d4111ca0d\" x=\"378.260795\" y=\"420.010246\" style=\"fill: #1f77b4; stroke: #ffffff; stroke-width: 0.48\"/>\n     <use xlink:href=\"#m3d4111ca0d\" x=\"378.260795\" y=\"411.893412\" style=\"fill: #1f77b4; stroke: #ffffff; stroke-width: 0.48\"/>\n     <use xlink:href=\"#m3d4111ca0d\" x=\"378.260795\" y=\"422.000042\" style=\"fill: #1f77b4; stroke: #ffffff; stroke-width: 0.48\"/>\n     <use xlink:href=\"#m3d4111ca0d\" x=\"378.260795\" y=\"411.518461\" style=\"fill: #1f77b4; stroke: #ffffff; stroke-width: 0.48\"/>\n     <use xlink:href=\"#m3d4111ca0d\" x=\"378.260795\" y=\"424.190096\" style=\"fill: #1f77b4; stroke: #ffffff; stroke-width: 0.48\"/>\n     <use xlink:href=\"#m3d4111ca0d\" x=\"378.260795\" y=\"384.626389\" style=\"fill: #1f77b4; stroke: #ffffff; stroke-width: 0.48\"/>\n     <use xlink:href=\"#m3d4111ca0d\" x=\"378.260795\" y=\"211.377787\" style=\"fill: #1f77b4; stroke: #ffffff; stroke-width: 0.48\"/>\n     <use xlink:href=\"#m3d4111ca0d\" x=\"378.260795\" y=\"270.624284\" style=\"fill: #1f77b4; stroke: #ffffff; stroke-width: 0.48\"/>\n     <use xlink:href=\"#m3d4111ca0d\" x=\"378.260795\" y=\"395.683179\" style=\"fill: #1f77b4; stroke: #ffffff; stroke-width: 0.48\"/>\n     <use xlink:href=\"#m3d4111ca0d\" x=\"378.260795\" y=\"286.768475\" style=\"fill: #1f77b4; stroke: #ffffff; stroke-width: 0.48\"/>\n     <use xlink:href=\"#m3d4111ca0d\" x=\"378.260795\" y=\"419.258214\" style=\"fill: #1f77b4; stroke: #ffffff; stroke-width: 0.48\"/>\n     <use xlink:href=\"#m3d4111ca0d\" x=\"378.260795\" y=\"427.351614\" style=\"fill: #1f77b4; stroke: #ffffff; stroke-width: 0.48\"/>\n     <use xlink:href=\"#m3d4111ca0d\" x=\"378.260795\" y=\"419.258214\" style=\"fill: #1f77b4; stroke: #ffffff; stroke-width: 0.48\"/>\n     <use xlink:href=\"#m3d4111ca0d\" x=\"378.260795\" y=\"417.046856\" style=\"fill: #1f77b4; stroke: #ffffff; stroke-width: 0.48\"/>\n     <use xlink:href=\"#m3d4111ca0d\" x=\"378.260795\" y=\"406.742099\" style=\"fill: #1f77b4; stroke: #ffffff; stroke-width: 0.48\"/>\n     <use xlink:href=\"#m3d4111ca0d\" x=\"378.260795\" y=\"427.132182\" style=\"fill: #1f77b4; stroke: #ffffff; stroke-width: 0.48\"/>\n     <use xlink:href=\"#m3d4111ca0d\" x=\"378.260795\" y=\"421.469572\" style=\"fill: #1f77b4; stroke: #ffffff; stroke-width: 0.48\"/>\n     <use xlink:href=\"#m3d4111ca0d\" x=\"378.260795\" y=\"421.469572\" style=\"fill: #1f77b4; stroke: #ffffff; stroke-width: 0.48\"/>\n     <use xlink:href=\"#m3d4111ca0d\" x=\"418.842614\" y=\"429.763229\" style=\"fill: #1f77b4; stroke: #ffffff; stroke-width: 0.48\"/>\n     <use xlink:href=\"#m3d4111ca0d\" x=\"418.842614\" y=\"428.987763\" style=\"fill: #1f77b4; stroke: #ffffff; stroke-width: 0.48\"/>\n     <use xlink:href=\"#m3d4111ca0d\" x=\"418.842614\" y=\"428.855678\" style=\"fill: #1f77b4; stroke: #ffffff; stroke-width: 0.48\"/>\n     <use xlink:href=\"#m3d4111ca0d\" x=\"459.424432\" y=\"425.140256\" style=\"fill: #1f77b4; stroke: #ffffff; stroke-width: 0.48\"/>\n     <use xlink:href=\"#m3d4111ca0d\" x=\"459.424432\" y=\"426.401454\" style=\"fill: #1f77b4; stroke: #ffffff; stroke-width: 0.48\"/>\n     <use xlink:href=\"#m3d4111ca0d\" x=\"459.424432\" y=\"424.058011\" style=\"fill: #1f77b4; stroke: #ffffff; stroke-width: 0.48\"/>\n     <use xlink:href=\"#m3d4111ca0d\" x=\"459.424432\" y=\"411.14138\" style=\"fill: #1f77b4; stroke: #ffffff; stroke-width: 0.48\"/>\n     <use xlink:href=\"#m3d4111ca0d\" x=\"459.424432\" y=\"384.958732\" style=\"fill: #1f77b4; stroke: #ffffff; stroke-width: 0.48\"/>\n     <use xlink:href=\"#m3d4111ca0d\" x=\"459.424432\" y=\"395.683179\" style=\"fill: #1f77b4; stroke: #ffffff; stroke-width: 0.48\"/>\n     <use xlink:href=\"#m3d4111ca0d\" x=\"459.424432\" y=\"329.448961\" style=\"fill: #1f77b4; stroke: #ffffff; stroke-width: 0.48\"/>\n     <use xlink:href=\"#m3d4111ca0d\" x=\"459.424432\" y=\"404.530741\" style=\"fill: #1f77b4; stroke: #ffffff; stroke-width: 0.48\"/>\n     <use xlink:href=\"#m3d4111ca0d\" x=\"500.00625\" y=\"426.422758\" style=\"fill: #1f77b4; stroke: #ffffff; stroke-width: 0.48\"/>\n     <use xlink:href=\"#m3d4111ca0d\" x=\"500.00625\" y=\"392.033799\" style=\"fill: #1f77b4; stroke: #ffffff; stroke-width: 0.48\"/>\n     <use xlink:href=\"#m3d4111ca0d\" x=\"500.00625\" y=\"392.033799\" style=\"fill: #1f77b4; stroke: #ffffff; stroke-width: 0.48\"/>\n     <use xlink:href=\"#m3d4111ca0d\" x=\"500.00625\" y=\"385.621287\" style=\"fill: #1f77b4; stroke: #ffffff; stroke-width: 0.48\"/>\n     <use xlink:href=\"#m3d4111ca0d\" x=\"500.00625\" y=\"385.621287\" style=\"fill: #1f77b4; stroke: #ffffff; stroke-width: 0.48\"/>\n     <use xlink:href=\"#m3d4111ca0d\" x=\"540.588068\" y=\"422.221604\" style=\"fill: #1f77b4; stroke: #ffffff; stroke-width: 0.48\"/>\n     <use xlink:href=\"#m3d4111ca0d\" x=\"540.588068\" y=\"422.221604\" style=\"fill: #1f77b4; stroke: #ffffff; stroke-width: 0.48\"/>\n     <use xlink:href=\"#m3d4111ca0d\" x=\"540.588068\" y=\"422.221604\" style=\"fill: #1f77b4; stroke: #ffffff; stroke-width: 0.48\"/>\n     <use xlink:href=\"#m3d4111ca0d\" x=\"540.588068\" y=\"422.221604\" style=\"fill: #1f77b4; stroke: #ffffff; stroke-width: 0.48\"/>\n     <use xlink:href=\"#m3d4111ca0d\" x=\"581.169886\" y=\"425.517337\" style=\"fill: #1f77b4; stroke: #ffffff; stroke-width: 0.48\"/>\n     <use xlink:href=\"#m3d4111ca0d\" x=\"581.169886\" y=\"428.103646\" style=\"fill: #1f77b4; stroke: #ffffff; stroke-width: 0.48\"/>\n     <use xlink:href=\"#m3d4111ca0d\" x=\"581.169886\" y=\"422.952332\" style=\"fill: #1f77b4; stroke: #ffffff; stroke-width: 0.48\"/>\n     <use xlink:href=\"#m3d4111ca0d\" x=\"621.751705\" y=\"430.56\" style=\"fill: #1f77b4; stroke: #ffffff; stroke-width: 0.48\"/>\n     <use xlink:href=\"#m3d4111ca0d\" x=\"662.333523\" y=\"427.375048\" style=\"fill: #1f77b4; stroke: #ffffff; stroke-width: 0.48\"/>\n     <use xlink:href=\"#m3d4111ca0d\" x=\"662.333523\" y=\"412.270494\" style=\"fill: #1f77b4; stroke: #ffffff; stroke-width: 0.48\"/>\n     <use xlink:href=\"#m3d4111ca0d\" x=\"662.333523\" y=\"426.997967\" style=\"fill: #1f77b4; stroke: #ffffff; stroke-width: 0.48\"/>\n     <use xlink:href=\"#m3d4111ca0d\" x=\"662.333523\" y=\"406.742099\" style=\"fill: #1f77b4; stroke: #ffffff; stroke-width: 0.48\"/>\n     <use xlink:href=\"#m3d4111ca0d\" x=\"702.915341\" y=\"423.327283\" style=\"fill: #1f77b4; stroke: #ffffff; stroke-width: 0.48\"/>\n     <use xlink:href=\"#m3d4111ca0d\" x=\"702.915341\" y=\"426.997967\" style=\"fill: #1f77b4; stroke: #ffffff; stroke-width: 0.48\"/>\n     <use xlink:href=\"#m3d4111ca0d\" x=\"702.915341\" y=\"426.997967\" style=\"fill: #1f77b4; stroke: #ffffff; stroke-width: 0.48\"/>\n     <use xlink:href=\"#m3d4111ca0d\" x=\"702.915341\" y=\"425.16369\" style=\"fill: #1f77b4; stroke: #ffffff; stroke-width: 0.48\"/>\n     <use xlink:href=\"#m3d4111ca0d\" x=\"702.915341\" y=\"416.316128\" style=\"fill: #1f77b4; stroke: #ffffff; stroke-width: 0.48\"/>\n     <use xlink:href=\"#m3d4111ca0d\" x=\"702.915341\" y=\"416.316128\" style=\"fill: #1f77b4; stroke: #ffffff; stroke-width: 0.48\"/>\n     <use xlink:href=\"#m3d4111ca0d\" x=\"702.915341\" y=\"411.893412\" style=\"fill: #1f77b4; stroke: #ffffff; stroke-width: 0.48\"/>\n     <use xlink:href=\"#m3d4111ca0d\" x=\"702.915341\" y=\"384.958732\" style=\"fill: #1f77b4; stroke: #ffffff; stroke-width: 0.48\"/>\n     <use xlink:href=\"#m3d4111ca0d\" x=\"743.497159\" y=\"416.693209\" style=\"fill: #1f77b4; stroke: #ffffff; stroke-width: 0.48\"/>\n     <use xlink:href=\"#m3d4111ca0d\" x=\"743.497159\" y=\"397.894537\" style=\"fill: #1f77b4; stroke: #ffffff; stroke-width: 0.48\"/>\n     <use xlink:href=\"#m3d4111ca0d\" x=\"743.497159\" y=\"355.324831\" style=\"fill: #1f77b4; stroke: #ffffff; stroke-width: 0.48\"/>\n     <use xlink:href=\"#m3d4111ca0d\" x=\"743.497159\" y=\"353.113474\" style=\"fill: #1f77b4; stroke: #ffffff; stroke-width: 0.48\"/>\n     <use xlink:href=\"#m3d4111ca0d\" x=\"743.497159\" y=\"248.508574\" style=\"fill: #1f77b4; stroke: #ffffff; stroke-width: 0.48\"/>\n     <use xlink:href=\"#m3d4111ca0d\" x=\"784.078977\" y=\"427.528437\" style=\"fill: #1f77b4; stroke: #ffffff; stroke-width: 0.48\"/>\n     <use xlink:href=\"#m3d4111ca0d\" x=\"784.078977\" y=\"417.783975\" style=\"fill: #1f77b4; stroke: #ffffff; stroke-width: 0.48\"/>\n     <use xlink:href=\"#m3d4111ca0d\" x=\"784.078977\" y=\"427.528437\" style=\"fill: #1f77b4; stroke: #ffffff; stroke-width: 0.48\"/>\n     <use xlink:href=\"#m3d4111ca0d\" x=\"784.078977\" y=\"423.105721\" style=\"fill: #1f77b4; stroke: #ffffff; stroke-width: 0.48\"/>\n     <use xlink:href=\"#m3d4111ca0d\" x=\"784.078977\" y=\"423.305979\" style=\"fill: #1f77b4; stroke: #ffffff; stroke-width: 0.48\"/>\n     <use xlink:href=\"#m3d4111ca0d\" x=\"784.078977\" y=\"425.16369\" style=\"fill: #1f77b4; stroke: #ffffff; stroke-width: 0.48\"/>\n     <use xlink:href=\"#m3d4111ca0d\" x=\"784.078977\" y=\"420.71754\" style=\"fill: #1f77b4; stroke: #ffffff; stroke-width: 0.48\"/>\n     <use xlink:href=\"#m3d4111ca0d\" x=\"824.660795\" y=\"428.834374\" style=\"fill: #1f77b4; stroke: #ffffff; stroke-width: 0.48\"/>\n     <use xlink:href=\"#m3d4111ca0d\" x=\"824.660795\" y=\"427.132182\" style=\"fill: #1f77b4; stroke: #ffffff; stroke-width: 0.48\"/>\n     <use xlink:href=\"#m3d4111ca0d\" x=\"824.660795\" y=\"421.469572\" style=\"fill: #1f77b4; stroke: #ffffff; stroke-width: 0.48\"/>\n     <use xlink:href=\"#m3d4111ca0d\" x=\"824.660795\" y=\"421.846653\" style=\"fill: #1f77b4; stroke: #ffffff; stroke-width: 0.48\"/>\n     <use xlink:href=\"#m3d4111ca0d\" x=\"824.660795\" y=\"421.846653\" style=\"fill: #1f77b4; stroke: #ffffff; stroke-width: 0.48\"/>\n     <use xlink:href=\"#m3d4111ca0d\" x=\"824.660795\" y=\"410.412782\" style=\"fill: #1f77b4; stroke: #ffffff; stroke-width: 0.48\"/>\n     <use xlink:href=\"#m3d4111ca0d\" x=\"824.660795\" y=\"410.412782\" style=\"fill: #1f77b4; stroke: #ffffff; stroke-width: 0.48\"/>\n     <use xlink:href=\"#m3d4111ca0d\" x=\"824.660795\" y=\"407.847778\" style=\"fill: #1f77b4; stroke: #ffffff; stroke-width: 0.48\"/>\n     <use xlink:href=\"#m3d4111ca0d\" x=\"865.242614\" y=\"300.036623\" style=\"fill: #1f77b4; stroke: #ffffff; stroke-width: 0.48\"/>\n     <use xlink:href=\"#m3d4111ca0d\" x=\"905.824432\" y=\"427.528437\" style=\"fill: #1f77b4; stroke: #ffffff; stroke-width: 0.48\"/>\n     <use xlink:href=\"#m3d4111ca0d\" x=\"905.824432\" y=\"427.351614\" style=\"fill: #1f77b4; stroke: #ffffff; stroke-width: 0.48\"/>\n     <use xlink:href=\"#m3d4111ca0d\" x=\"905.824432\" y=\"427.351614\" style=\"fill: #1f77b4; stroke: #ffffff; stroke-width: 0.48\"/>\n     <use xlink:href=\"#m3d4111ca0d\" x=\"905.824432\" y=\"423.836449\" style=\"fill: #1f77b4; stroke: #ffffff; stroke-width: 0.48\"/>\n     <use xlink:href=\"#m3d4111ca0d\" x=\"905.824432\" y=\"406.742099\" style=\"fill: #1f77b4; stroke: #ffffff; stroke-width: 0.48\"/>\n     <use xlink:href=\"#m3d4111ca0d\" x=\"905.824432\" y=\"412.62414\" style=\"fill: #1f77b4; stroke: #ffffff; stroke-width: 0.48\"/>\n     <use xlink:href=\"#m3d4111ca0d\" x=\"905.824432\" y=\"410.412782\" style=\"fill: #1f77b4; stroke: #ffffff; stroke-width: 0.48\"/>\n     <use xlink:href=\"#m3d4111ca0d\" x=\"905.824432\" y=\"395.683179\" style=\"fill: #1f77b4; stroke: #ffffff; stroke-width: 0.48\"/>\n    </g>\n   </g>\n   <g id=\"matplotlib.axis_1\">\n    <g id=\"xtick_1\">\n     <g id=\"line2d_1\">\n      <defs>\n       <path id=\"mc0ed4a2064\" d=\"M 0 0 \nL 0 3.5 \n\" style=\"stroke: #000000; stroke-width: 0.8\"/>\n      </defs>\n      <g>\n       <use xlink:href=\"#mc0ed4a2064\" x=\"94.188068\" y=\"450.72\" style=\"stroke: #000000; stroke-width: 0.8\"/>\n      </g>\n     </g>\n     <g id=\"text_1\">\n      <!-- Champagne -->\n      <g transform=\"translate(96.947443 518.224687) rotate(-90) scale(0.1 -0.1)\">\n       <defs>\n        <path id=\"DejaVuSans-43\" d=\"M 4122 4306 \nL 4122 3641 \nQ 3803 3938 3442 4084 \nQ 3081 4231 2675 4231 \nQ 1875 4231 1450 3742 \nQ 1025 3253 1025 2328 \nQ 1025 1406 1450 917 \nQ 1875 428 2675 428 \nQ 3081 428 3442 575 \nQ 3803 722 4122 1019 \nL 4122 359 \nQ 3791 134 3420 21 \nQ 3050 -91 2638 -91 \nQ 1578 -91 968 557 \nQ 359 1206 359 2328 \nQ 359 3453 968 4101 \nQ 1578 4750 2638 4750 \nQ 3056 4750 3426 4639 \nQ 3797 4528 4122 4306 \nz\n\" transform=\"scale(0.015625)\"/>\n        <path id=\"DejaVuSans-68\" d=\"M 3513 2113 \nL 3513 0 \nL 2938 0 \nL 2938 2094 \nQ 2938 2591 2744 2837 \nQ 2550 3084 2163 3084 \nQ 1697 3084 1428 2787 \nQ 1159 2491 1159 1978 \nL 1159 0 \nL 581 0 \nL 581 4863 \nL 1159 4863 \nL 1159 2956 \nQ 1366 3272 1645 3428 \nQ 1925 3584 2291 3584 \nQ 2894 3584 3203 3211 \nQ 3513 2838 3513 2113 \nz\n\" transform=\"scale(0.015625)\"/>\n        <path id=\"DejaVuSans-61\" d=\"M 2194 1759 \nQ 1497 1759 1228 1600 \nQ 959 1441 959 1056 \nQ 959 750 1161 570 \nQ 1363 391 1709 391 \nQ 2188 391 2477 730 \nQ 2766 1069 2766 1631 \nL 2766 1759 \nL 2194 1759 \nz\nM 3341 1997 \nL 3341 0 \nL 2766 0 \nL 2766 531 \nQ 2569 213 2275 61 \nQ 1981 -91 1556 -91 \nQ 1019 -91 701 211 \nQ 384 513 384 1019 \nQ 384 1609 779 1909 \nQ 1175 2209 1959 2209 \nL 2766 2209 \nL 2766 2266 \nQ 2766 2663 2505 2880 \nQ 2244 3097 1772 3097 \nQ 1472 3097 1187 3025 \nQ 903 2953 641 2809 \nL 641 3341 \nQ 956 3463 1253 3523 \nQ 1550 3584 1831 3584 \nQ 2591 3584 2966 3190 \nQ 3341 2797 3341 1997 \nz\n\" transform=\"scale(0.015625)\"/>\n        <path id=\"DejaVuSans-6d\" d=\"M 3328 2828 \nQ 3544 3216 3844 3400 \nQ 4144 3584 4550 3584 \nQ 5097 3584 5394 3201 \nQ 5691 2819 5691 2113 \nL 5691 0 \nL 5113 0 \nL 5113 2094 \nQ 5113 2597 4934 2840 \nQ 4756 3084 4391 3084 \nQ 3944 3084 3684 2787 \nQ 3425 2491 3425 1978 \nL 3425 0 \nL 2847 0 \nL 2847 2094 \nQ 2847 2600 2669 2842 \nQ 2491 3084 2119 3084 \nQ 1678 3084 1418 2786 \nQ 1159 2488 1159 1978 \nL 1159 0 \nL 581 0 \nL 581 3500 \nL 1159 3500 \nL 1159 2956 \nQ 1356 3278 1631 3431 \nQ 1906 3584 2284 3584 \nQ 2666 3584 2933 3390 \nQ 3200 3197 3328 2828 \nz\n\" transform=\"scale(0.015625)\"/>\n        <path id=\"DejaVuSans-70\" d=\"M 1159 525 \nL 1159 -1331 \nL 581 -1331 \nL 581 3500 \nL 1159 3500 \nL 1159 2969 \nQ 1341 3281 1617 3432 \nQ 1894 3584 2278 3584 \nQ 2916 3584 3314 3078 \nQ 3713 2572 3713 1747 \nQ 3713 922 3314 415 \nQ 2916 -91 2278 -91 \nQ 1894 -91 1617 61 \nQ 1341 213 1159 525 \nz\nM 3116 1747 \nQ 3116 2381 2855 2742 \nQ 2594 3103 2138 3103 \nQ 1681 3103 1420 2742 \nQ 1159 2381 1159 1747 \nQ 1159 1113 1420 752 \nQ 1681 391 2138 391 \nQ 2594 391 2855 752 \nQ 3116 1113 3116 1747 \nz\n\" transform=\"scale(0.015625)\"/>\n        <path id=\"DejaVuSans-67\" d=\"M 2906 1791 \nQ 2906 2416 2648 2759 \nQ 2391 3103 1925 3103 \nQ 1463 3103 1205 2759 \nQ 947 2416 947 1791 \nQ 947 1169 1205 825 \nQ 1463 481 1925 481 \nQ 2391 481 2648 825 \nQ 2906 1169 2906 1791 \nz\nM 3481 434 \nQ 3481 -459 3084 -895 \nQ 2688 -1331 1869 -1331 \nQ 1566 -1331 1297 -1286 \nQ 1028 -1241 775 -1147 \nL 775 -588 \nQ 1028 -725 1275 -790 \nQ 1522 -856 1778 -856 \nQ 2344 -856 2625 -561 \nQ 2906 -266 2906 331 \nL 2906 616 \nQ 2728 306 2450 153 \nQ 2172 0 1784 0 \nQ 1141 0 747 490 \nQ 353 981 353 1791 \nQ 353 2603 747 3093 \nQ 1141 3584 1784 3584 \nQ 2172 3584 2450 3431 \nQ 2728 3278 2906 2969 \nL 2906 3500 \nL 3481 3500 \nL 3481 434 \nz\n\" transform=\"scale(0.015625)\"/>\n        <path id=\"DejaVuSans-6e\" d=\"M 3513 2113 \nL 3513 0 \nL 2938 0 \nL 2938 2094 \nQ 2938 2591 2744 2837 \nQ 2550 3084 2163 3084 \nQ 1697 3084 1428 2787 \nQ 1159 2491 1159 1978 \nL 1159 0 \nL 581 0 \nL 581 3500 \nL 1159 3500 \nL 1159 2956 \nQ 1366 3272 1645 3428 \nQ 1925 3584 2291 3584 \nQ 2894 3584 3203 3211 \nQ 3513 2838 3513 2113 \nz\n\" transform=\"scale(0.015625)\"/>\n        <path id=\"DejaVuSans-65\" d=\"M 3597 1894 \nL 3597 1613 \nL 953 1613 \nQ 991 1019 1311 708 \nQ 1631 397 2203 397 \nQ 2534 397 2845 478 \nQ 3156 559 3463 722 \nL 3463 178 \nQ 3153 47 2828 -22 \nQ 2503 -91 2169 -91 \nQ 1331 -91 842 396 \nQ 353 884 353 1716 \nQ 353 2575 817 3079 \nQ 1281 3584 2069 3584 \nQ 2775 3584 3186 3129 \nQ 3597 2675 3597 1894 \nz\nM 3022 2063 \nQ 3016 2534 2758 2815 \nQ 2500 3097 2075 3097 \nQ 1594 3097 1305 2825 \nQ 1016 2553 972 2059 \nL 3022 2063 \nz\n\" transform=\"scale(0.015625)\"/>\n       </defs>\n       <use xlink:href=\"#DejaVuSans-43\"/>\n       <use xlink:href=\"#DejaVuSans-68\" x=\"69.824219\"/>\n       <use xlink:href=\"#DejaVuSans-61\" x=\"133.203125\"/>\n       <use xlink:href=\"#DejaVuSans-6d\" x=\"194.482422\"/>\n       <use xlink:href=\"#DejaVuSans-70\" x=\"291.894531\"/>\n       <use xlink:href=\"#DejaVuSans-61\" x=\"355.371094\"/>\n       <use xlink:href=\"#DejaVuSans-67\" x=\"416.650391\"/>\n       <use xlink:href=\"#DejaVuSans-6e\" x=\"480.126953\"/>\n       <use xlink:href=\"#DejaVuSans-65\" x=\"543.505859\"/>\n      </g>\n     </g>\n    </g>\n    <g id=\"xtick_2\">\n     <g id=\"line2d_2\">\n      <g>\n       <use xlink:href=\"#mc0ed4a2064\" x=\"134.769886\" y=\"450.72\" style=\"stroke: #000000; stroke-width: 0.8\"/>\n      </g>\n     </g>\n     <g id=\"text_2\">\n      <!-- Alsace -->\n      <g transform=\"translate(137.529261 490.327812) rotate(-90) scale(0.1 -0.1)\">\n       <defs>\n        <path id=\"DejaVuSans-41\" d=\"M 2188 4044 \nL 1331 1722 \nL 3047 1722 \nL 2188 4044 \nz\nM 1831 4666 \nL 2547 4666 \nL 4325 0 \nL 3669 0 \nL 3244 1197 \nL 1141 1197 \nL 716 0 \nL 50 0 \nL 1831 4666 \nz\n\" transform=\"scale(0.015625)\"/>\n        <path id=\"DejaVuSans-6c\" d=\"M 603 4863 \nL 1178 4863 \nL 1178 0 \nL 603 0 \nL 603 4863 \nz\n\" transform=\"scale(0.015625)\"/>\n        <path id=\"DejaVuSans-73\" d=\"M 2834 3397 \nL 2834 2853 \nQ 2591 2978 2328 3040 \nQ 2066 3103 1784 3103 \nQ 1356 3103 1142 2972 \nQ 928 2841 928 2578 \nQ 928 2378 1081 2264 \nQ 1234 2150 1697 2047 \nL 1894 2003 \nQ 2506 1872 2764 1633 \nQ 3022 1394 3022 966 \nQ 3022 478 2636 193 \nQ 2250 -91 1575 -91 \nQ 1294 -91 989 -36 \nQ 684 19 347 128 \nL 347 722 \nQ 666 556 975 473 \nQ 1284 391 1588 391 \nQ 1994 391 2212 530 \nQ 2431 669 2431 922 \nQ 2431 1156 2273 1281 \nQ 2116 1406 1581 1522 \nL 1381 1569 \nQ 847 1681 609 1914 \nQ 372 2147 372 2553 \nQ 372 3047 722 3315 \nQ 1072 3584 1716 3584 \nQ 2034 3584 2315 3537 \nQ 2597 3491 2834 3397 \nz\n\" transform=\"scale(0.015625)\"/>\n        <path id=\"DejaVuSans-63\" d=\"M 3122 3366 \nL 3122 2828 \nQ 2878 2963 2633 3030 \nQ 2388 3097 2138 3097 \nQ 1578 3097 1268 2742 \nQ 959 2388 959 1747 \nQ 959 1106 1268 751 \nQ 1578 397 2138 397 \nQ 2388 397 2633 464 \nQ 2878 531 3122 666 \nL 3122 134 \nQ 2881 22 2623 -34 \nQ 2366 -91 2075 -91 \nQ 1284 -91 818 406 \nQ 353 903 353 1747 \nQ 353 2603 823 3093 \nQ 1294 3584 2113 3584 \nQ 2378 3584 2631 3529 \nQ 2884 3475 3122 3366 \nz\n\" transform=\"scale(0.015625)\"/>\n       </defs>\n       <use xlink:href=\"#DejaVuSans-41\"/>\n       <use xlink:href=\"#DejaVuSans-6c\" x=\"68.408203\"/>\n       <use xlink:href=\"#DejaVuSans-73\" x=\"96.191406\"/>\n       <use xlink:href=\"#DejaVuSans-61\" x=\"148.291016\"/>\n       <use xlink:href=\"#DejaVuSans-63\" x=\"209.570312\"/>\n       <use xlink:href=\"#DejaVuSans-65\" x=\"264.550781\"/>\n      </g>\n     </g>\n    </g>\n    <g id=\"xtick_3\">\n     <g id=\"line2d_3\">\n      <g>\n       <use xlink:href=\"#mc0ed4a2064\" x=\"175.351705\" y=\"450.72\" style=\"stroke: #000000; stroke-width: 0.8\"/>\n      </g>\n     </g>\n     <g id=\"text_3\">\n      <!-- Loire Valley -->\n      <g transform=\"translate(178.11108 515.052812) rotate(-90) scale(0.1 -0.1)\">\n       <defs>\n        <path id=\"DejaVuSans-4c\" d=\"M 628 4666 \nL 1259 4666 \nL 1259 531 \nL 3531 531 \nL 3531 0 \nL 628 0 \nL 628 4666 \nz\n\" transform=\"scale(0.015625)\"/>\n        <path id=\"DejaVuSans-6f\" d=\"M 1959 3097 \nQ 1497 3097 1228 2736 \nQ 959 2375 959 1747 \nQ 959 1119 1226 758 \nQ 1494 397 1959 397 \nQ 2419 397 2687 759 \nQ 2956 1122 2956 1747 \nQ 2956 2369 2687 2733 \nQ 2419 3097 1959 3097 \nz\nM 1959 3584 \nQ 2709 3584 3137 3096 \nQ 3566 2609 3566 1747 \nQ 3566 888 3137 398 \nQ 2709 -91 1959 -91 \nQ 1206 -91 779 398 \nQ 353 888 353 1747 \nQ 353 2609 779 3096 \nQ 1206 3584 1959 3584 \nz\n\" transform=\"scale(0.015625)\"/>\n        <path id=\"DejaVuSans-69\" d=\"M 603 3500 \nL 1178 3500 \nL 1178 0 \nL 603 0 \nL 603 3500 \nz\nM 603 4863 \nL 1178 4863 \nL 1178 4134 \nL 603 4134 \nL 603 4863 \nz\n\" transform=\"scale(0.015625)\"/>\n        <path id=\"DejaVuSans-72\" d=\"M 2631 2963 \nQ 2534 3019 2420 3045 \nQ 2306 3072 2169 3072 \nQ 1681 3072 1420 2755 \nQ 1159 2438 1159 1844 \nL 1159 0 \nL 581 0 \nL 581 3500 \nL 1159 3500 \nL 1159 2956 \nQ 1341 3275 1631 3429 \nQ 1922 3584 2338 3584 \nQ 2397 3584 2469 3576 \nQ 2541 3569 2628 3553 \nL 2631 2963 \nz\n\" transform=\"scale(0.015625)\"/>\n        <path id=\"DejaVuSans-20\" transform=\"scale(0.015625)\"/>\n        <path id=\"DejaVuSans-56\" d=\"M 1831 0 \nL 50 4666 \nL 709 4666 \nL 2188 738 \nL 3669 4666 \nL 4325 4666 \nL 2547 0 \nL 1831 0 \nz\n\" transform=\"scale(0.015625)\"/>\n        <path id=\"DejaVuSans-79\" d=\"M 2059 -325 \nQ 1816 -950 1584 -1140 \nQ 1353 -1331 966 -1331 \nL 506 -1331 \nL 506 -850 \nL 844 -850 \nQ 1081 -850 1212 -737 \nQ 1344 -625 1503 -206 \nL 1606 56 \nL 191 3500 \nL 800 3500 \nL 1894 763 \nL 2988 3500 \nL 3597 3500 \nL 2059 -325 \nz\n\" transform=\"scale(0.015625)\"/>\n       </defs>\n       <use xlink:href=\"#DejaVuSans-4c\"/>\n       <use xlink:href=\"#DejaVuSans-6f\" x=\"53.962891\"/>\n       <use xlink:href=\"#DejaVuSans-69\" x=\"115.144531\"/>\n       <use xlink:href=\"#DejaVuSans-72\" x=\"142.927734\"/>\n       <use xlink:href=\"#DejaVuSans-65\" x=\"181.791016\"/>\n       <use xlink:href=\"#DejaVuSans-20\" x=\"243.314453\"/>\n       <use xlink:href=\"#DejaVuSans-56\" x=\"275.101562\"/>\n       <use xlink:href=\"#DejaVuSans-61\" x=\"335.759766\"/>\n       <use xlink:href=\"#DejaVuSans-6c\" x=\"397.039062\"/>\n       <use xlink:href=\"#DejaVuSans-6c\" x=\"424.822266\"/>\n       <use xlink:href=\"#DejaVuSans-65\" x=\"452.605469\"/>\n       <use xlink:href=\"#DejaVuSans-79\" x=\"514.128906\"/>\n      </g>\n     </g>\n    </g>\n    <g id=\"xtick_4\">\n     <g id=\"line2d_4\">\n      <g>\n       <use xlink:href=\"#mc0ed4a2064\" x=\"215.933523\" y=\"450.72\" style=\"stroke: #000000; stroke-width: 0.8\"/>\n      </g>\n     </g>\n     <g id=\"text_4\">\n      <!-- Provence -->\n      <g transform=\"translate(218.692898 503.640312) rotate(-90) scale(0.1 -0.1)\">\n       <defs>\n        <path id=\"DejaVuSans-50\" d=\"M 1259 4147 \nL 1259 2394 \nL 2053 2394 \nQ 2494 2394 2734 2622 \nQ 2975 2850 2975 3272 \nQ 2975 3691 2734 3919 \nQ 2494 4147 2053 4147 \nL 1259 4147 \nz\nM 628 4666 \nL 2053 4666 \nQ 2838 4666 3239 4311 \nQ 3641 3956 3641 3272 \nQ 3641 2581 3239 2228 \nQ 2838 1875 2053 1875 \nL 1259 1875 \nL 1259 0 \nL 628 0 \nL 628 4666 \nz\n\" transform=\"scale(0.015625)\"/>\n        <path id=\"DejaVuSans-76\" d=\"M 191 3500 \nL 800 3500 \nL 1894 563 \nL 2988 3500 \nL 3597 3500 \nL 2284 0 \nL 1503 0 \nL 191 3500 \nz\n\" transform=\"scale(0.015625)\"/>\n       </defs>\n       <use xlink:href=\"#DejaVuSans-50\"/>\n       <use xlink:href=\"#DejaVuSans-72\" x=\"58.552734\"/>\n       <use xlink:href=\"#DejaVuSans-6f\" x=\"97.416016\"/>\n       <use xlink:href=\"#DejaVuSans-76\" x=\"158.597656\"/>\n       <use xlink:href=\"#DejaVuSans-65\" x=\"217.777344\"/>\n       <use xlink:href=\"#DejaVuSans-6e\" x=\"279.300781\"/>\n       <use xlink:href=\"#DejaVuSans-63\" x=\"342.679688\"/>\n       <use xlink:href=\"#DejaVuSans-65\" x=\"397.660156\"/>\n      </g>\n     </g>\n    </g>\n    <g id=\"xtick_5\">\n     <g id=\"line2d_5\">\n      <g>\n       <use xlink:href=\"#mc0ed4a2064\" x=\"256.515341\" y=\"450.72\" style=\"stroke: #000000; stroke-width: 0.8\"/>\n      </g>\n     </g>\n     <g id=\"text_5\">\n      <!-- Sud Ouest -->\n      <g transform=\"translate(259.274716 509.424687) rotate(-90) scale(0.1 -0.1)\">\n       <defs>\n        <path id=\"DejaVuSans-53\" d=\"M 3425 4513 \nL 3425 3897 \nQ 3066 4069 2747 4153 \nQ 2428 4238 2131 4238 \nQ 1616 4238 1336 4038 \nQ 1056 3838 1056 3469 \nQ 1056 3159 1242 3001 \nQ 1428 2844 1947 2747 \nL 2328 2669 \nQ 3034 2534 3370 2195 \nQ 3706 1856 3706 1288 \nQ 3706 609 3251 259 \nQ 2797 -91 1919 -91 \nQ 1588 -91 1214 -16 \nQ 841 59 441 206 \nL 441 856 \nQ 825 641 1194 531 \nQ 1563 422 1919 422 \nQ 2459 422 2753 634 \nQ 3047 847 3047 1241 \nQ 3047 1584 2836 1778 \nQ 2625 1972 2144 2069 \nL 1759 2144 \nQ 1053 2284 737 2584 \nQ 422 2884 422 3419 \nQ 422 4038 858 4394 \nQ 1294 4750 2059 4750 \nQ 2388 4750 2728 4690 \nQ 3069 4631 3425 4513 \nz\n\" transform=\"scale(0.015625)\"/>\n        <path id=\"DejaVuSans-75\" d=\"M 544 1381 \nL 544 3500 \nL 1119 3500 \nL 1119 1403 \nQ 1119 906 1312 657 \nQ 1506 409 1894 409 \nQ 2359 409 2629 706 \nQ 2900 1003 2900 1516 \nL 2900 3500 \nL 3475 3500 \nL 3475 0 \nL 2900 0 \nL 2900 538 \nQ 2691 219 2414 64 \nQ 2138 -91 1772 -91 \nQ 1169 -91 856 284 \nQ 544 659 544 1381 \nz\nM 1991 3584 \nL 1991 3584 \nz\n\" transform=\"scale(0.015625)\"/>\n        <path id=\"DejaVuSans-64\" d=\"M 2906 2969 \nL 2906 4863 \nL 3481 4863 \nL 3481 0 \nL 2906 0 \nL 2906 525 \nQ 2725 213 2448 61 \nQ 2172 -91 1784 -91 \nQ 1150 -91 751 415 \nQ 353 922 353 1747 \nQ 353 2572 751 3078 \nQ 1150 3584 1784 3584 \nQ 2172 3584 2448 3432 \nQ 2725 3281 2906 2969 \nz\nM 947 1747 \nQ 947 1113 1208 752 \nQ 1469 391 1925 391 \nQ 2381 391 2643 752 \nQ 2906 1113 2906 1747 \nQ 2906 2381 2643 2742 \nQ 2381 3103 1925 3103 \nQ 1469 3103 1208 2742 \nQ 947 2381 947 1747 \nz\n\" transform=\"scale(0.015625)\"/>\n        <path id=\"DejaVuSans-4f\" d=\"M 2522 4238 \nQ 1834 4238 1429 3725 \nQ 1025 3213 1025 2328 \nQ 1025 1447 1429 934 \nQ 1834 422 2522 422 \nQ 3209 422 3611 934 \nQ 4013 1447 4013 2328 \nQ 4013 3213 3611 3725 \nQ 3209 4238 2522 4238 \nz\nM 2522 4750 \nQ 3503 4750 4090 4092 \nQ 4678 3434 4678 2328 \nQ 4678 1225 4090 567 \nQ 3503 -91 2522 -91 \nQ 1538 -91 948 565 \nQ 359 1222 359 2328 \nQ 359 3434 948 4092 \nQ 1538 4750 2522 4750 \nz\n\" transform=\"scale(0.015625)\"/>\n        <path id=\"DejaVuSans-74\" d=\"M 1172 4494 \nL 1172 3500 \nL 2356 3500 \nL 2356 3053 \nL 1172 3053 \nL 1172 1153 \nQ 1172 725 1289 603 \nQ 1406 481 1766 481 \nL 2356 481 \nL 2356 0 \nL 1766 0 \nQ 1100 0 847 248 \nQ 594 497 594 1153 \nL 594 3053 \nL 172 3053 \nL 172 3500 \nL 594 3500 \nL 594 4494 \nL 1172 4494 \nz\n\" transform=\"scale(0.015625)\"/>\n       </defs>\n       <use xlink:href=\"#DejaVuSans-53\"/>\n       <use xlink:href=\"#DejaVuSans-75\" x=\"63.476562\"/>\n       <use xlink:href=\"#DejaVuSans-64\" x=\"126.855469\"/>\n       <use xlink:href=\"#DejaVuSans-20\" x=\"190.332031\"/>\n       <use xlink:href=\"#DejaVuSans-4f\" x=\"222.119141\"/>\n       <use xlink:href=\"#DejaVuSans-75\" x=\"300.830078\"/>\n       <use xlink:href=\"#DejaVuSans-65\" x=\"364.208984\"/>\n       <use xlink:href=\"#DejaVuSans-73\" x=\"425.732422\"/>\n       <use xlink:href=\"#DejaVuSans-74\" x=\"477.832031\"/>\n      </g>\n     </g>\n    </g>\n    <g id=\"xtick_6\">\n     <g id=\"line2d_6\">\n      <g>\n       <use xlink:href=\"#mc0ed4a2064\" x=\"297.097159\" y=\"450.72\" style=\"stroke: #000000; stroke-width: 0.8\"/>\n      </g>\n     </g>\n     <g id=\"text_6\">\n      <!-- Burgundy -->\n      <g transform=\"translate(299.856534 506.145) rotate(-90) scale(0.1 -0.1)\">\n       <defs>\n        <path id=\"DejaVuSans-42\" d=\"M 1259 2228 \nL 1259 519 \nL 2272 519 \nQ 2781 519 3026 730 \nQ 3272 941 3272 1375 \nQ 3272 1813 3026 2020 \nQ 2781 2228 2272 2228 \nL 1259 2228 \nz\nM 1259 4147 \nL 1259 2741 \nL 2194 2741 \nQ 2656 2741 2882 2914 \nQ 3109 3088 3109 3444 \nQ 3109 3797 2882 3972 \nQ 2656 4147 2194 4147 \nL 1259 4147 \nz\nM 628 4666 \nL 2241 4666 \nQ 2963 4666 3353 4366 \nQ 3744 4066 3744 3513 \nQ 3744 3084 3544 2831 \nQ 3344 2578 2956 2516 \nQ 3422 2416 3680 2098 \nQ 3938 1781 3938 1306 \nQ 3938 681 3513 340 \nQ 3088 0 2303 0 \nL 628 0 \nL 628 4666 \nz\n\" transform=\"scale(0.015625)\"/>\n       </defs>\n       <use xlink:href=\"#DejaVuSans-42\"/>\n       <use xlink:href=\"#DejaVuSans-75\" x=\"68.603516\"/>\n       <use xlink:href=\"#DejaVuSans-72\" x=\"131.982422\"/>\n       <use xlink:href=\"#DejaVuSans-67\" x=\"171.345703\"/>\n       <use xlink:href=\"#DejaVuSans-75\" x=\"234.822266\"/>\n       <use xlink:href=\"#DejaVuSans-6e\" x=\"298.201172\"/>\n       <use xlink:href=\"#DejaVuSans-64\" x=\"361.580078\"/>\n       <use xlink:href=\"#DejaVuSans-79\" x=\"425.056641\"/>\n      </g>\n     </g>\n    </g>\n    <g id=\"xtick_7\">\n     <g id=\"line2d_7\">\n      <g>\n       <use xlink:href=\"#mc0ed4a2064\" x=\"337.678977\" y=\"450.72\" style=\"stroke: #000000; stroke-width: 0.8\"/>\n      </g>\n     </g>\n     <g id=\"text_7\">\n      <!-- Rhone -->\n      <g transform=\"translate(340.438352 489.615312) rotate(-90) scale(0.1 -0.1)\">\n       <defs>\n        <path id=\"DejaVuSans-52\" d=\"M 2841 2188 \nQ 3044 2119 3236 1894 \nQ 3428 1669 3622 1275 \nL 4263 0 \nL 3584 0 \nL 2988 1197 \nQ 2756 1666 2539 1819 \nQ 2322 1972 1947 1972 \nL 1259 1972 \nL 1259 0 \nL 628 0 \nL 628 4666 \nL 2053 4666 \nQ 2853 4666 3247 4331 \nQ 3641 3997 3641 3322 \nQ 3641 2881 3436 2590 \nQ 3231 2300 2841 2188 \nz\nM 1259 4147 \nL 1259 2491 \nL 2053 2491 \nQ 2509 2491 2742 2702 \nQ 2975 2913 2975 3322 \nQ 2975 3731 2742 3939 \nQ 2509 4147 2053 4147 \nL 1259 4147 \nz\n\" transform=\"scale(0.015625)\"/>\n       </defs>\n       <use xlink:href=\"#DejaVuSans-52\"/>\n       <use xlink:href=\"#DejaVuSans-68\" x=\"69.482422\"/>\n       <use xlink:href=\"#DejaVuSans-6f\" x=\"132.861328\"/>\n       <use xlink:href=\"#DejaVuSans-6e\" x=\"194.042969\"/>\n       <use xlink:href=\"#DejaVuSans-65\" x=\"257.421875\"/>\n      </g>\n     </g>\n    </g>\n    <g id=\"xtick_8\">\n     <g id=\"line2d_8\">\n      <g>\n       <use xlink:href=\"#mc0ed4a2064\" x=\"378.260795\" y=\"450.72\" style=\"stroke: #000000; stroke-width: 0.8\"/>\n      </g>\n     </g>\n     <g id=\"text_8\">\n      <!-- Bordeaux -->\n      <g transform=\"translate(381.02017 505.521562) rotate(-90) scale(0.1 -0.1)\">\n       <defs>\n        <path id=\"DejaVuSans-78\" d=\"M 3513 3500 \nL 2247 1797 \nL 3578 0 \nL 2900 0 \nL 1881 1375 \nL 863 0 \nL 184 0 \nL 1544 1831 \nL 300 3500 \nL 978 3500 \nL 1906 2253 \nL 2834 3500 \nL 3513 3500 \nz\n\" transform=\"scale(0.015625)\"/>\n       </defs>\n       <use xlink:href=\"#DejaVuSans-42\"/>\n       <use xlink:href=\"#DejaVuSans-6f\" x=\"68.603516\"/>\n       <use xlink:href=\"#DejaVuSans-72\" x=\"129.785156\"/>\n       <use xlink:href=\"#DejaVuSans-64\" x=\"169.148438\"/>\n       <use xlink:href=\"#DejaVuSans-65\" x=\"232.625\"/>\n       <use xlink:href=\"#DejaVuSans-61\" x=\"294.148438\"/>\n       <use xlink:href=\"#DejaVuSans-75\" x=\"355.427734\"/>\n       <use xlink:href=\"#DejaVuSans-78\" x=\"418.806641\"/>\n      </g>\n     </g>\n    </g>\n    <g id=\"xtick_9\">\n     <g id=\"line2d_9\">\n      <g>\n       <use xlink:href=\"#mc0ed4a2064\" x=\"418.842614\" y=\"450.72\" style=\"stroke: #000000; stroke-width: 0.8\"/>\n      </g>\n     </g>\n     <g id=\"text_9\">\n      <!-- Veneto -->\n      <g transform=\"translate(421.601989 492.468437) rotate(-90) scale(0.1 -0.1)\">\n       <use xlink:href=\"#DejaVuSans-56\"/>\n       <use xlink:href=\"#DejaVuSans-65\" x=\"60.658203\"/>\n       <use xlink:href=\"#DejaVuSans-6e\" x=\"122.181641\"/>\n       <use xlink:href=\"#DejaVuSans-65\" x=\"185.560547\"/>\n       <use xlink:href=\"#DejaVuSans-74\" x=\"247.083984\"/>\n       <use xlink:href=\"#DejaVuSans-6f\" x=\"286.292969\"/>\n      </g>\n     </g>\n    </g>\n    <g id=\"xtick_10\">\n     <g id=\"line2d_10\">\n      <g>\n       <use xlink:href=\"#mc0ed4a2064\" x=\"459.424432\" y=\"450.72\" style=\"stroke: #000000; stroke-width: 0.8\"/>\n      </g>\n     </g>\n     <g id=\"text_10\">\n      <!-- Toscana -->\n      <g transform=\"translate(462.183807 497.548125) rotate(-90) scale(0.1 -0.1)\">\n       <defs>\n        <path id=\"DejaVuSans-54\" d=\"M -19 4666 \nL 3928 4666 \nL 3928 4134 \nL 2272 4134 \nL 2272 0 \nL 1638 0 \nL 1638 4134 \nL -19 4134 \nL -19 4666 \nz\n\" transform=\"scale(0.015625)\"/>\n       </defs>\n       <use xlink:href=\"#DejaVuSans-54\"/>\n       <use xlink:href=\"#DejaVuSans-6f\" x=\"44.083984\"/>\n       <use xlink:href=\"#DejaVuSans-73\" x=\"105.265625\"/>\n       <use xlink:href=\"#DejaVuSans-63\" x=\"157.365234\"/>\n       <use xlink:href=\"#DejaVuSans-61\" x=\"212.345703\"/>\n       <use xlink:href=\"#DejaVuSans-6e\" x=\"273.625\"/>\n       <use xlink:href=\"#DejaVuSans-61\" x=\"337.003906\"/>\n      </g>\n     </g>\n    </g>\n    <g id=\"xtick_11\">\n     <g id=\"line2d_11\">\n      <g>\n       <use xlink:href=\"#mc0ed4a2064\" x=\"500.00625\" y=\"450.72\" style=\"stroke: #000000; stroke-width: 0.8\"/>\n      </g>\n     </g>\n     <g id=\"text_11\">\n      <!-- Piedmont -->\n      <g transform=\"translate(502.765625 504.921562) rotate(-90) scale(0.1 -0.1)\">\n       <use xlink:href=\"#DejaVuSans-50\"/>\n       <use xlink:href=\"#DejaVuSans-69\" x=\"58.052734\"/>\n       <use xlink:href=\"#DejaVuSans-65\" x=\"85.835938\"/>\n       <use xlink:href=\"#DejaVuSans-64\" x=\"147.359375\"/>\n       <use xlink:href=\"#DejaVuSans-6d\" x=\"210.835938\"/>\n       <use xlink:href=\"#DejaVuSans-6f\" x=\"308.248047\"/>\n       <use xlink:href=\"#DejaVuSans-6e\" x=\"369.429688\"/>\n       <use xlink:href=\"#DejaVuSans-74\" x=\"432.808594\"/>\n      </g>\n     </g>\n    </g>\n    <g id=\"xtick_12\">\n     <g id=\"line2d_12\">\n      <g>\n       <use xlink:href=\"#mc0ed4a2064\" x=\"540.588068\" y=\"450.72\" style=\"stroke: #000000; stroke-width: 0.8\"/>\n      </g>\n     </g>\n     <g id=\"text_12\">\n      <!-- Campania -->\n      <g transform=\"translate(543.347443 508.291875) rotate(-90) scale(0.1 -0.1)\">\n       <use xlink:href=\"#DejaVuSans-43\"/>\n       <use xlink:href=\"#DejaVuSans-61\" x=\"69.824219\"/>\n       <use xlink:href=\"#DejaVuSans-6d\" x=\"131.103516\"/>\n       <use xlink:href=\"#DejaVuSans-70\" x=\"228.515625\"/>\n       <use xlink:href=\"#DejaVuSans-61\" x=\"291.992188\"/>\n       <use xlink:href=\"#DejaVuSans-6e\" x=\"353.271484\"/>\n       <use xlink:href=\"#DejaVuSans-69\" x=\"416.650391\"/>\n       <use xlink:href=\"#DejaVuSans-61\" x=\"444.433594\"/>\n      </g>\n     </g>\n    </g>\n    <g id=\"xtick_13\">\n     <g id=\"line2d_13\">\n      <g>\n       <use xlink:href=\"#mc0ed4a2064\" x=\"581.169886\" y=\"450.72\" style=\"stroke: #000000; stroke-width: 0.8\"/>\n      </g>\n     </g>\n     <g id=\"text_13\">\n      <!-- Puglia -->\n      <g transform=\"translate(583.929261 487.945) rotate(-90) scale(0.1 -0.1)\">\n       <use xlink:href=\"#DejaVuSans-50\"/>\n       <use xlink:href=\"#DejaVuSans-75\" x=\"58.552734\"/>\n       <use xlink:href=\"#DejaVuSans-67\" x=\"121.931641\"/>\n       <use xlink:href=\"#DejaVuSans-6c\" x=\"185.408203\"/>\n       <use xlink:href=\"#DejaVuSans-69\" x=\"213.191406\"/>\n       <use xlink:href=\"#DejaVuSans-61\" x=\"240.974609\"/>\n      </g>\n     </g>\n    </g>\n    <g id=\"xtick_14\">\n     <g id=\"line2d_14\">\n      <g>\n       <use xlink:href=\"#mc0ed4a2064\" x=\"621.751705\" y=\"450.72\" style=\"stroke: #000000; stroke-width: 0.8\"/>\n      </g>\n     </g>\n     <g id=\"text_14\">\n      <!-- Penedès -->\n      <g transform=\"translate(624.51108 499.741875) rotate(-90) scale(0.1 -0.1)\">\n       <defs>\n        <path id=\"DejaVuSans-e8\" d=\"M 3597 1894 \nL 3597 1613 \nL 953 1613 \nQ 991 1019 1311 708 \nQ 1631 397 2203 397 \nQ 2534 397 2845 478 \nQ 3156 559 3463 722 \nL 3463 178 \nQ 3153 47 2828 -22 \nQ 2503 -91 2169 -91 \nQ 1331 -91 842 396 \nQ 353 884 353 1716 \nQ 353 2575 817 3079 \nQ 1281 3584 2069 3584 \nQ 2775 3584 3186 3129 \nQ 3597 2675 3597 1894 \nz\nM 3022 2063 \nQ 3016 2534 2758 2815 \nQ 2500 3097 2075 3097 \nQ 1594 3097 1305 2825 \nQ 1016 2553 972 2059 \nL 3022 2063 \nz\nM 1579 5119 \nL 2460 3950 \nL 1982 3950 \nL 963 5119 \nL 1579 5119 \nz\n\" transform=\"scale(0.015625)\"/>\n       </defs>\n       <use xlink:href=\"#DejaVuSans-50\"/>\n       <use xlink:href=\"#DejaVuSans-65\" x=\"56.677734\"/>\n       <use xlink:href=\"#DejaVuSans-6e\" x=\"118.201172\"/>\n       <use xlink:href=\"#DejaVuSans-65\" x=\"181.580078\"/>\n       <use xlink:href=\"#DejaVuSans-64\" x=\"243.103516\"/>\n       <use xlink:href=\"#DejaVuSans-e8\" x=\"306.580078\"/>\n       <use xlink:href=\"#DejaVuSans-73\" x=\"368.103516\"/>\n      </g>\n     </g>\n    </g>\n    <g id=\"xtick_15\">\n     <g id=\"line2d_15\">\n      <g>\n       <use xlink:href=\"#mc0ed4a2064\" x=\"662.333523\" y=\"450.72\" style=\"stroke: #000000; stroke-width: 0.8\"/>\n      </g>\n     </g>\n     <g id=\"text_15\">\n      <!-- Navarra -->\n      <g transform=\"translate(665.092898 497.55125) rotate(-90) scale(0.1 -0.1)\">\n       <defs>\n        <path id=\"DejaVuSans-4e\" d=\"M 628 4666 \nL 1478 4666 \nL 3547 763 \nL 3547 4666 \nL 4159 4666 \nL 4159 0 \nL 3309 0 \nL 1241 3903 \nL 1241 0 \nL 628 0 \nL 628 4666 \nz\n\" transform=\"scale(0.015625)\"/>\n       </defs>\n       <use xlink:href=\"#DejaVuSans-4e\"/>\n       <use xlink:href=\"#DejaVuSans-61\" x=\"74.804688\"/>\n       <use xlink:href=\"#DejaVuSans-76\" x=\"136.083984\"/>\n       <use xlink:href=\"#DejaVuSans-61\" x=\"195.263672\"/>\n       <use xlink:href=\"#DejaVuSans-72\" x=\"256.542969\"/>\n       <use xlink:href=\"#DejaVuSans-72\" x=\"295.90625\"/>\n       <use xlink:href=\"#DejaVuSans-61\" x=\"337.019531\"/>\n      </g>\n     </g>\n    </g>\n    <g id=\"xtick_16\">\n     <g id=\"line2d_16\">\n      <g>\n       <use xlink:href=\"#mc0ed4a2064\" x=\"702.915341\" y=\"450.72\" style=\"stroke: #000000; stroke-width: 0.8\"/>\n      </g>\n     </g>\n     <g id=\"text_16\">\n      <!-- Rioja -->\n      <g transform=\"translate(705.674716 482.471562) rotate(-90) scale(0.1 -0.1)\">\n       <defs>\n        <path id=\"DejaVuSans-6a\" d=\"M 603 3500 \nL 1178 3500 \nL 1178 -63 \nQ 1178 -731 923 -1031 \nQ 669 -1331 103 -1331 \nL -116 -1331 \nL -116 -844 \nL 38 -844 \nQ 366 -844 484 -692 \nQ 603 -541 603 -63 \nL 603 3500 \nz\nM 603 4863 \nL 1178 4863 \nL 1178 4134 \nL 603 4134 \nL 603 4863 \nz\n\" transform=\"scale(0.015625)\"/>\n       </defs>\n       <use xlink:href=\"#DejaVuSans-52\"/>\n       <use xlink:href=\"#DejaVuSans-69\" x=\"69.482422\"/>\n       <use xlink:href=\"#DejaVuSans-6f\" x=\"97.265625\"/>\n       <use xlink:href=\"#DejaVuSans-6a\" x=\"158.447266\"/>\n       <use xlink:href=\"#DejaVuSans-61\" x=\"186.230469\"/>\n      </g>\n     </g>\n    </g>\n    <g id=\"xtick_17\">\n     <g id=\"line2d_17\">\n      <g>\n       <use xlink:href=\"#mc0ed4a2064\" x=\"743.497159\" y=\"450.72\" style=\"stroke: #000000; stroke-width: 0.8\"/>\n      </g>\n     </g>\n     <g id=\"text_17\">\n      <!-- Ribera del Duero -->\n      <g transform=\"translate(746.256534 542.018437) rotate(-90) scale(0.1 -0.1)\">\n       <defs>\n        <path id=\"DejaVuSans-62\" d=\"M 3116 1747 \nQ 3116 2381 2855 2742 \nQ 2594 3103 2138 3103 \nQ 1681 3103 1420 2742 \nQ 1159 2381 1159 1747 \nQ 1159 1113 1420 752 \nQ 1681 391 2138 391 \nQ 2594 391 2855 752 \nQ 3116 1113 3116 1747 \nz\nM 1159 2969 \nQ 1341 3281 1617 3432 \nQ 1894 3584 2278 3584 \nQ 2916 3584 3314 3078 \nQ 3713 2572 3713 1747 \nQ 3713 922 3314 415 \nQ 2916 -91 2278 -91 \nQ 1894 -91 1617 61 \nQ 1341 213 1159 525 \nL 1159 0 \nL 581 0 \nL 581 4863 \nL 1159 4863 \nL 1159 2969 \nz\n\" transform=\"scale(0.015625)\"/>\n        <path id=\"DejaVuSans-44\" d=\"M 1259 4147 \nL 1259 519 \nL 2022 519 \nQ 2988 519 3436 956 \nQ 3884 1394 3884 2338 \nQ 3884 3275 3436 3711 \nQ 2988 4147 2022 4147 \nL 1259 4147 \nz\nM 628 4666 \nL 1925 4666 \nQ 3281 4666 3915 4102 \nQ 4550 3538 4550 2338 \nQ 4550 1131 3912 565 \nQ 3275 0 1925 0 \nL 628 0 \nL 628 4666 \nz\n\" transform=\"scale(0.015625)\"/>\n       </defs>\n       <use xlink:href=\"#DejaVuSans-52\"/>\n       <use xlink:href=\"#DejaVuSans-69\" x=\"69.482422\"/>\n       <use xlink:href=\"#DejaVuSans-62\" x=\"97.265625\"/>\n       <use xlink:href=\"#DejaVuSans-65\" x=\"160.742188\"/>\n       <use xlink:href=\"#DejaVuSans-72\" x=\"222.265625\"/>\n       <use xlink:href=\"#DejaVuSans-61\" x=\"263.378906\"/>\n       <use xlink:href=\"#DejaVuSans-20\" x=\"324.658203\"/>\n       <use xlink:href=\"#DejaVuSans-64\" x=\"356.445312\"/>\n       <use xlink:href=\"#DejaVuSans-65\" x=\"419.921875\"/>\n       <use xlink:href=\"#DejaVuSans-6c\" x=\"481.445312\"/>\n       <use xlink:href=\"#DejaVuSans-20\" x=\"509.228516\"/>\n       <use xlink:href=\"#DejaVuSans-44\" x=\"541.015625\"/>\n       <use xlink:href=\"#DejaVuSans-75\" x=\"618.017578\"/>\n       <use xlink:href=\"#DejaVuSans-65\" x=\"681.396484\"/>\n       <use xlink:href=\"#DejaVuSans-72\" x=\"742.919922\"/>\n       <use xlink:href=\"#DejaVuSans-6f\" x=\"781.783203\"/>\n      </g>\n     </g>\n    </g>\n    <g id=\"xtick_18\">\n     <g id=\"line2d_18\">\n      <g>\n       <use xlink:href=\"#mc0ed4a2064\" x=\"784.078977\" y=\"450.72\" style=\"stroke: #000000; stroke-width: 0.8\"/>\n      </g>\n     </g>\n     <g id=\"text_18\">\n      <!-- Douro -->\n      <g transform=\"translate(786.838352 487.880937) rotate(-90) scale(0.1 -0.1)\">\n       <use xlink:href=\"#DejaVuSans-44\"/>\n       <use xlink:href=\"#DejaVuSans-6f\" x=\"77.001953\"/>\n       <use xlink:href=\"#DejaVuSans-75\" x=\"138.183594\"/>\n       <use xlink:href=\"#DejaVuSans-72\" x=\"201.5625\"/>\n       <use xlink:href=\"#DejaVuSans-6f\" x=\"240.425781\"/>\n      </g>\n     </g>\n    </g>\n    <g id=\"xtick_19\">\n     <g id=\"line2d_19\">\n      <g>\n       <use xlink:href=\"#mc0ed4a2064\" x=\"824.660795\" y=\"450.72\" style=\"stroke: #000000; stroke-width: 0.8\"/>\n      </g>\n     </g>\n     <g id=\"text_19\">\n      <!-- Alentejo -->\n      <g transform=\"translate(827.42017 498.799687) rotate(-90) scale(0.1 -0.1)\">\n       <use xlink:href=\"#DejaVuSans-41\"/>\n       <use xlink:href=\"#DejaVuSans-6c\" x=\"68.408203\"/>\n       <use xlink:href=\"#DejaVuSans-65\" x=\"96.191406\"/>\n       <use xlink:href=\"#DejaVuSans-6e\" x=\"157.714844\"/>\n       <use xlink:href=\"#DejaVuSans-74\" x=\"221.09375\"/>\n       <use xlink:href=\"#DejaVuSans-65\" x=\"260.302734\"/>\n       <use xlink:href=\"#DejaVuSans-6a\" x=\"321.826172\"/>\n       <use xlink:href=\"#DejaVuSans-6f\" x=\"349.609375\"/>\n      </g>\n     </g>\n    </g>\n    <g id=\"xtick_20\">\n     <g id=\"line2d_20\">\n      <g>\n       <use xlink:href=\"#mc0ed4a2064\" x=\"865.242614\" y=\"450.72\" style=\"stroke: #000000; stroke-width: 0.8\"/>\n      </g>\n     </g>\n     <g id=\"text_20\">\n      <!-- Maipo -->\n      <g transform=\"translate(868.001989 487.721562) rotate(-90) scale(0.1 -0.1)\">\n       <defs>\n        <path id=\"DejaVuSans-4d\" d=\"M 628 4666 \nL 1569 4666 \nL 2759 1491 \nL 3956 4666 \nL 4897 4666 \nL 4897 0 \nL 4281 0 \nL 4281 4097 \nL 3078 897 \nL 2444 897 \nL 1241 4097 \nL 1241 0 \nL 628 0 \nL 628 4666 \nz\n\" transform=\"scale(0.015625)\"/>\n       </defs>\n       <use xlink:href=\"#DejaVuSans-4d\"/>\n       <use xlink:href=\"#DejaVuSans-61\" x=\"86.279297\"/>\n       <use xlink:href=\"#DejaVuSans-69\" x=\"147.558594\"/>\n       <use xlink:href=\"#DejaVuSans-70\" x=\"175.341797\"/>\n       <use xlink:href=\"#DejaVuSans-6f\" x=\"238.818359\"/>\n      </g>\n     </g>\n    </g>\n    <g id=\"xtick_21\">\n     <g id=\"line2d_21\">\n      <g>\n       <use xlink:href=\"#mc0ed4a2064\" x=\"905.824432\" y=\"450.72\" style=\"stroke: #000000; stroke-width: 0.8\"/>\n      </g>\n     </g>\n     <g id=\"text_21\">\n      <!-- Mendoza -->\n      <g transform=\"translate(908.583807 502.6825) rotate(-90) scale(0.1 -0.1)\">\n       <defs>\n        <path id=\"DejaVuSans-7a\" d=\"M 353 3500 \nL 3084 3500 \nL 3084 2975 \nL 922 459 \nL 3084 459 \nL 3084 0 \nL 275 0 \nL 275 525 \nL 2438 3041 \nL 353 3041 \nL 353 3500 \nz\n\" transform=\"scale(0.015625)\"/>\n       </defs>\n       <use xlink:href=\"#DejaVuSans-4d\"/>\n       <use xlink:href=\"#DejaVuSans-65\" x=\"86.279297\"/>\n       <use xlink:href=\"#DejaVuSans-6e\" x=\"147.802734\"/>\n       <use xlink:href=\"#DejaVuSans-64\" x=\"211.181641\"/>\n       <use xlink:href=\"#DejaVuSans-6f\" x=\"274.658203\"/>\n       <use xlink:href=\"#DejaVuSans-7a\" x=\"335.839844\"/>\n       <use xlink:href=\"#DejaVuSans-61\" x=\"388.330078\"/>\n      </g>\n     </g>\n    </g>\n    <g id=\"text_22\">\n     <!-- region -->\n     <g transform=\"translate(484.195312 553.616875) scale(0.1 -0.1)\">\n      <use xlink:href=\"#DejaVuSans-72\"/>\n      <use xlink:href=\"#DejaVuSans-65\" x=\"38.863281\"/>\n      <use xlink:href=\"#DejaVuSans-67\" x=\"100.386719\"/>\n      <use xlink:href=\"#DejaVuSans-69\" x=\"163.863281\"/>\n      <use xlink:href=\"#DejaVuSans-6f\" x=\"191.646484\"/>\n      <use xlink:href=\"#DejaVuSans-6e\" x=\"252.828125\"/>\n     </g>\n    </g>\n   </g>\n   <g id=\"matplotlib.axis_2\">\n    <g id=\"ytick_1\">\n     <g id=\"line2d_22\">\n      <defs>\n       <path id=\"m8ad4eab0d5\" d=\"M 0 0 \nL -3.5 0 \n\" style=\"stroke: #000000; stroke-width: 0.8\"/>\n      </defs>\n      <g>\n       <use xlink:href=\"#m8ad4eab0d5\" x=\"53.60625\" y=\"432.505058\" style=\"stroke: #000000; stroke-width: 0.8\"/>\n      </g>\n     </g>\n     <g id=\"text_23\">\n      <!-- 0 -->\n      <g transform=\"translate(40.24375 436.304276) scale(0.1 -0.1)\">\n       <defs>\n        <path id=\"DejaVuSans-30\" d=\"M 2034 4250 \nQ 1547 4250 1301 3770 \nQ 1056 3291 1056 2328 \nQ 1056 1369 1301 889 \nQ 1547 409 2034 409 \nQ 2525 409 2770 889 \nQ 3016 1369 3016 2328 \nQ 3016 3291 2770 3770 \nQ 2525 4250 2034 4250 \nz\nM 2034 4750 \nQ 2819 4750 3233 4129 \nQ 3647 3509 3647 2328 \nQ 3647 1150 3233 529 \nQ 2819 -91 2034 -91 \nQ 1250 -91 836 529 \nQ 422 1150 422 2328 \nQ 422 3509 836 4129 \nQ 1250 4750 2034 4750 \nz\n\" transform=\"scale(0.015625)\"/>\n       </defs>\n       <use xlink:href=\"#DejaVuSans-30\"/>\n      </g>\n     </g>\n    </g>\n    <g id=\"ytick_2\">\n     <g id=\"line2d_23\">\n      <g>\n       <use xlink:href=\"#m8ad4eab0d5\" x=\"53.60625\" y=\"379.244992\" style=\"stroke: #000000; stroke-width: 0.8\"/>\n      </g>\n     </g>\n     <g id=\"text_24\">\n      <!-- 250 -->\n      <g transform=\"translate(27.51875 383.044211) scale(0.1 -0.1)\">\n       <defs>\n        <path id=\"DejaVuSans-32\" d=\"M 1228 531 \nL 3431 531 \nL 3431 0 \nL 469 0 \nL 469 531 \nQ 828 903 1448 1529 \nQ 2069 2156 2228 2338 \nQ 2531 2678 2651 2914 \nQ 2772 3150 2772 3378 \nQ 2772 3750 2511 3984 \nQ 2250 4219 1831 4219 \nQ 1534 4219 1204 4116 \nQ 875 4013 500 3803 \nL 500 4441 \nQ 881 4594 1212 4672 \nQ 1544 4750 1819 4750 \nQ 2544 4750 2975 4387 \nQ 3406 4025 3406 3419 \nQ 3406 3131 3298 2873 \nQ 3191 2616 2906 2266 \nQ 2828 2175 2409 1742 \nQ 1991 1309 1228 531 \nz\n\" transform=\"scale(0.015625)\"/>\n        <path id=\"DejaVuSans-35\" d=\"M 691 4666 \nL 3169 4666 \nL 3169 4134 \nL 1269 4134 \nL 1269 2991 \nQ 1406 3038 1543 3061 \nQ 1681 3084 1819 3084 \nQ 2600 3084 3056 2656 \nQ 3513 2228 3513 1497 \nQ 3513 744 3044 326 \nQ 2575 -91 1722 -91 \nQ 1428 -91 1123 -41 \nQ 819 9 494 109 \nL 494 744 \nQ 775 591 1075 516 \nQ 1375 441 1709 441 \nQ 2250 441 2565 725 \nQ 2881 1009 2881 1497 \nQ 2881 1984 2565 2268 \nQ 2250 2553 1709 2553 \nQ 1456 2553 1204 2497 \nQ 953 2441 691 2322 \nL 691 4666 \nz\n\" transform=\"scale(0.015625)\"/>\n       </defs>\n       <use xlink:href=\"#DejaVuSans-32\"/>\n       <use xlink:href=\"#DejaVuSans-35\" x=\"63.623047\"/>\n       <use xlink:href=\"#DejaVuSans-30\" x=\"127.246094\"/>\n      </g>\n     </g>\n    </g>\n    <g id=\"ytick_3\">\n     <g id=\"line2d_24\">\n      <g>\n       <use xlink:href=\"#m8ad4eab0d5\" x=\"53.60625\" y=\"325.984927\" style=\"stroke: #000000; stroke-width: 0.8\"/>\n      </g>\n     </g>\n     <g id=\"text_25\">\n      <!-- 500 -->\n      <g transform=\"translate(27.51875 329.784145) scale(0.1 -0.1)\">\n       <use xlink:href=\"#DejaVuSans-35\"/>\n       <use xlink:href=\"#DejaVuSans-30\" x=\"63.623047\"/>\n       <use xlink:href=\"#DejaVuSans-30\" x=\"127.246094\"/>\n      </g>\n     </g>\n    </g>\n    <g id=\"ytick_4\">\n     <g id=\"line2d_25\">\n      <g>\n       <use xlink:href=\"#m8ad4eab0d5\" x=\"53.60625\" y=\"272.724861\" style=\"stroke: #000000; stroke-width: 0.8\"/>\n      </g>\n     </g>\n     <g id=\"text_26\">\n      <!-- 750 -->\n      <g transform=\"translate(27.51875 276.52408) scale(0.1 -0.1)\">\n       <defs>\n        <path id=\"DejaVuSans-37\" d=\"M 525 4666 \nL 3525 4666 \nL 3525 4397 \nL 1831 0 \nL 1172 0 \nL 2766 4134 \nL 525 4134 \nL 525 4666 \nz\n\" transform=\"scale(0.015625)\"/>\n       </defs>\n       <use xlink:href=\"#DejaVuSans-37\"/>\n       <use xlink:href=\"#DejaVuSans-35\" x=\"63.623047\"/>\n       <use xlink:href=\"#DejaVuSans-30\" x=\"127.246094\"/>\n      </g>\n     </g>\n    </g>\n    <g id=\"ytick_5\">\n     <g id=\"line2d_26\">\n      <g>\n       <use xlink:href=\"#m8ad4eab0d5\" x=\"53.60625\" y=\"219.464796\" style=\"stroke: #000000; stroke-width: 0.8\"/>\n      </g>\n     </g>\n     <g id=\"text_27\">\n      <!-- 1000 -->\n      <g transform=\"translate(21.15625 223.264014) scale(0.1 -0.1)\">\n       <defs>\n        <path id=\"DejaVuSans-31\" d=\"M 794 531 \nL 1825 531 \nL 1825 4091 \nL 703 3866 \nL 703 4441 \nL 1819 4666 \nL 2450 4666 \nL 2450 531 \nL 3481 531 \nL 3481 0 \nL 794 0 \nL 794 531 \nz\n\" transform=\"scale(0.015625)\"/>\n       </defs>\n       <use xlink:href=\"#DejaVuSans-31\"/>\n       <use xlink:href=\"#DejaVuSans-30\" x=\"63.623047\"/>\n       <use xlink:href=\"#DejaVuSans-30\" x=\"127.246094\"/>\n       <use xlink:href=\"#DejaVuSans-30\" x=\"190.869141\"/>\n      </g>\n     </g>\n    </g>\n    <g id=\"ytick_6\">\n     <g id=\"line2d_27\">\n      <g>\n       <use xlink:href=\"#m8ad4eab0d5\" x=\"53.60625\" y=\"166.20473\" style=\"stroke: #000000; stroke-width: 0.8\"/>\n      </g>\n     </g>\n     <g id=\"text_28\">\n      <!-- 1250 -->\n      <g transform=\"translate(21.15625 170.003949) scale(0.1 -0.1)\">\n       <use xlink:href=\"#DejaVuSans-31\"/>\n       <use xlink:href=\"#DejaVuSans-32\" x=\"63.623047\"/>\n       <use xlink:href=\"#DejaVuSans-35\" x=\"127.246094\"/>\n       <use xlink:href=\"#DejaVuSans-30\" x=\"190.869141\"/>\n      </g>\n     </g>\n    </g>\n    <g id=\"ytick_7\">\n     <g id=\"line2d_28\">\n      <g>\n       <use xlink:href=\"#m8ad4eab0d5\" x=\"53.60625\" y=\"112.944664\" style=\"stroke: #000000; stroke-width: 0.8\"/>\n      </g>\n     </g>\n     <g id=\"text_29\">\n      <!-- 1500 -->\n      <g transform=\"translate(21.15625 116.743883) scale(0.1 -0.1)\">\n       <use xlink:href=\"#DejaVuSans-31\"/>\n       <use xlink:href=\"#DejaVuSans-35\" x=\"63.623047\"/>\n       <use xlink:href=\"#DejaVuSans-30\" x=\"127.246094\"/>\n       <use xlink:href=\"#DejaVuSans-30\" x=\"190.869141\"/>\n      </g>\n     </g>\n    </g>\n    <g id=\"ytick_8\">\n     <g id=\"line2d_29\">\n      <g>\n       <use xlink:href=\"#m8ad4eab0d5\" x=\"53.60625\" y=\"59.684599\" style=\"stroke: #000000; stroke-width: 0.8\"/>\n      </g>\n     </g>\n     <g id=\"text_30\">\n      <!-- 1750 -->\n      <g transform=\"translate(21.15625 63.483818) scale(0.1 -0.1)\">\n       <use xlink:href=\"#DejaVuSans-31\"/>\n       <use xlink:href=\"#DejaVuSans-37\" x=\"63.623047\"/>\n       <use xlink:href=\"#DejaVuSans-35\" x=\"127.246094\"/>\n       <use xlink:href=\"#DejaVuSans-30\" x=\"190.869141\"/>\n      </g>\n     </g>\n    </g>\n    <g id=\"text_31\">\n     <!-- price_usd -->\n     <g transform=\"translate(14.798437 252.852187) rotate(-90) scale(0.1 -0.1)\">\n      <defs>\n       <path id=\"DejaVuSans-5f\" d=\"M 3263 -1063 \nL 3263 -1509 \nL -63 -1509 \nL -63 -1063 \nL 3263 -1063 \nz\n\" transform=\"scale(0.015625)\"/>\n      </defs>\n      <use xlink:href=\"#DejaVuSans-70\"/>\n      <use xlink:href=\"#DejaVuSans-72\" x=\"63.476562\"/>\n      <use xlink:href=\"#DejaVuSans-69\" x=\"104.589844\"/>\n      <use xlink:href=\"#DejaVuSans-63\" x=\"132.373047\"/>\n      <use xlink:href=\"#DejaVuSans-65\" x=\"187.353516\"/>\n      <use xlink:href=\"#DejaVuSans-5f\" x=\"248.876953\"/>\n      <use xlink:href=\"#DejaVuSans-75\" x=\"298.876953\"/>\n      <use xlink:href=\"#DejaVuSans-73\" x=\"362.255859\"/>\n      <use xlink:href=\"#DejaVuSans-64\" x=\"414.355469\"/>\n     </g>\n    </g>\n   </g>\n   <g id=\"patch_3\">\n    <path d=\"M 53.60625 450.72 \nL 53.60625 7.2 \n\" style=\"fill: none; stroke: #000000; stroke-width: 0.8; stroke-linejoin: miter; stroke-linecap: square\"/>\n   </g>\n   <g id=\"patch_4\">\n    <path d=\"M 946.40625 450.72 \nL 946.40625 7.2 \n\" style=\"fill: none; stroke: #000000; stroke-width: 0.8; stroke-linejoin: miter; stroke-linecap: square\"/>\n   </g>\n   <g id=\"patch_5\">\n    <path d=\"M 53.60625 450.72 \nL 946.40625 450.72 \n\" style=\"fill: none; stroke: #000000; stroke-width: 0.8; stroke-linejoin: miter; stroke-linecap: square\"/>\n   </g>\n   <g id=\"patch_6\">\n    <path d=\"M 53.60625 7.2 \nL 946.40625 7.2 \n\" style=\"fill: none; stroke: #000000; stroke-width: 0.8; stroke-linejoin: miter; stroke-linecap: square\"/>\n   </g>\n  </g>\n </g>\n <defs>\n  <clipPath id=\"p17a89772a8\">\n   <rect x=\"53.60625\" y=\"7.2\" width=\"892.8\" height=\"443.52\"/>\n  </clipPath>\n </defs>\n</svg>\n"
          },
          "metadata": {}
        }
      ]
    },
    {
      "cell_type": "markdown",
      "source": [],
      "metadata": {
        "id": "0Ll3__xq1WfS"
      }
    },
    {
      "cell_type": "code",
      "source": [
        "# boxplots de preço por safra\n",
        "data = pd.concat([df_products_raw.price_usd, df_products_raw.vintage], axis=1)\n",
        "f, ax = plt.subplots(figsize=(16, 8))\n",
        "fig = sns.boxplot(x=df_products_raw.vintage, y=df_products_raw.price_usd, data=data)\n",
        "fig.axis();\n",
        "plt.xticks(rotation=45);"
      ],
      "metadata": {
        "colab": {
          "base_uri": "https://localhost:8080/",
          "height": 693
        },
        "id": "OobKKgiOOo0y",
        "outputId": "f21837ca-5f71-4f35-ef40-1b80f716d8c0"
      },
      "execution_count": 29,
      "outputs": [
        {
          "output_type": "display_data",
          "data": {
            "text/plain": [
              "<Figure size 1600x800 with 1 Axes>"
            ],
            "image/svg+xml": "<?xml version=\"1.0\" encoding=\"utf-8\" standalone=\"no\"?>\n<!DOCTYPE svg PUBLIC \"-//W3C//DTD SVG 1.1//EN\"\n  \"http://www.w3.org/Graphics/SVG/1.1/DTD/svg11.dtd\">\n<svg xmlns:xlink=\"http://www.w3.org/1999/xlink\" width=\"953.60625pt\" height=\"503.43746pt\" viewBox=\"0 0 953.60625 503.43746\" xmlns=\"http://www.w3.org/2000/svg\" version=\"1.1\">\n <metadata>\n  <rdf:RDF xmlns:dc=\"http://purl.org/dc/elements/1.1/\" xmlns:cc=\"http://creativecommons.org/ns#\" xmlns:rdf=\"http://www.w3.org/1999/02/22-rdf-syntax-ns#\">\n   <cc:Work>\n    <dc:type rdf:resource=\"http://purl.org/dc/dcmitype/StillImage\"/>\n    <dc:date>2024-12-01T17:53:51.678934</dc:date>\n    <dc:format>image/svg+xml</dc:format>\n    <dc:creator>\n     <cc:Agent>\n      <dc:title>Matplotlib v3.8.0, https://matplotlib.org/</dc:title>\n     </cc:Agent>\n    </dc:creator>\n   </cc:Work>\n  </rdf:RDF>\n </metadata>\n <defs>\n  <style type=\"text/css\">*{stroke-linejoin: round; stroke-linecap: butt}</style>\n </defs>\n <g id=\"figure_1\">\n  <g id=\"patch_1\">\n   <path d=\"M 0 503.43746 \nL 953.60625 503.43746 \nL 953.60625 0 \nL 0 0 \nz\n\" style=\"fill: #ffffff\"/>\n  </g>\n  <g id=\"axes_1\">\n   <g id=\"patch_2\">\n    <path d=\"M 53.60625 450.72 \nL 946.40625 450.72 \nL 946.40625 7.2 \nL 53.60625 7.2 \nz\n\" style=\"fill: #ffffff\"/>\n   </g>\n   <g id=\"matplotlib.axis_1\">\n    <g id=\"xtick_1\">\n     <g id=\"line2d_1\">\n      <defs>\n       <path id=\"m12f542fd81\" d=\"M 0 0 \nL 0 3.5 \n\" style=\"stroke: #000000; stroke-width: 0.8\"/>\n      </defs>\n      <g>\n       <use xlink:href=\"#m12f542fd81\" x=\"79.865074\" y=\"450.72\" style=\"stroke: #000000; stroke-width: 0.8\"/>\n      </g>\n     </g>\n     <g id=\"text_1\">\n      <!-- 0 -->\n      <g transform=\"translate(79.566763 467.591874) rotate(-45) scale(0.1 -0.1)\">\n       <defs>\n        <path id=\"DejaVuSans-30\" d=\"M 2034 4250 \nQ 1547 4250 1301 3770 \nQ 1056 3291 1056 2328 \nQ 1056 1369 1301 889 \nQ 1547 409 2034 409 \nQ 2525 409 2770 889 \nQ 3016 1369 3016 2328 \nQ 3016 3291 2770 3770 \nQ 2525 4250 2034 4250 \nz\nM 2034 4750 \nQ 2819 4750 3233 4129 \nQ 3647 3509 3647 2328 \nQ 3647 1150 3233 529 \nQ 2819 -91 2034 -91 \nQ 1250 -91 836 529 \nQ 422 1150 422 2328 \nQ 422 3509 836 4129 \nQ 1250 4750 2034 4750 \nz\n\" transform=\"scale(0.015625)\"/>\n       </defs>\n       <use xlink:href=\"#DejaVuSans-30\"/>\n      </g>\n     </g>\n    </g>\n    <g id=\"xtick_2\">\n     <g id=\"line2d_2\">\n      <g>\n       <use xlink:href=\"#m12f542fd81\" x=\"132.382721\" y=\"450.72\" style=\"stroke: #000000; stroke-width: 0.8\"/>\n      </g>\n     </g>\n     <g id=\"text_2\">\n      <!-- 2002 -->\n      <g transform=\"translate(125.33596 481.088774) rotate(-45) scale(0.1 -0.1)\">\n       <defs>\n        <path id=\"DejaVuSans-32\" d=\"M 1228 531 \nL 3431 531 \nL 3431 0 \nL 469 0 \nL 469 531 \nQ 828 903 1448 1529 \nQ 2069 2156 2228 2338 \nQ 2531 2678 2651 2914 \nQ 2772 3150 2772 3378 \nQ 2772 3750 2511 3984 \nQ 2250 4219 1831 4219 \nQ 1534 4219 1204 4116 \nQ 875 4013 500 3803 \nL 500 4441 \nQ 881 4594 1212 4672 \nQ 1544 4750 1819 4750 \nQ 2544 4750 2975 4387 \nQ 3406 4025 3406 3419 \nQ 3406 3131 3298 2873 \nQ 3191 2616 2906 2266 \nQ 2828 2175 2409 1742 \nQ 1991 1309 1228 531 \nz\n\" transform=\"scale(0.015625)\"/>\n       </defs>\n       <use xlink:href=\"#DejaVuSans-32\"/>\n       <use xlink:href=\"#DejaVuSans-30\" x=\"63.623047\"/>\n       <use xlink:href=\"#DejaVuSans-30\" x=\"127.246094\"/>\n       <use xlink:href=\"#DejaVuSans-32\" x=\"190.869141\"/>\n      </g>\n     </g>\n    </g>\n    <g id=\"xtick_3\">\n     <g id=\"line2d_3\">\n      <g>\n       <use xlink:href=\"#m12f542fd81\" x=\"184.900368\" y=\"450.72\" style=\"stroke: #000000; stroke-width: 0.8\"/>\n      </g>\n     </g>\n     <g id=\"text_3\">\n      <!-- 2003 -->\n      <g transform=\"translate(177.853607 481.088774) rotate(-45) scale(0.1 -0.1)\">\n       <defs>\n        <path id=\"DejaVuSans-33\" d=\"M 2597 2516 \nQ 3050 2419 3304 2112 \nQ 3559 1806 3559 1356 \nQ 3559 666 3084 287 \nQ 2609 -91 1734 -91 \nQ 1441 -91 1130 -33 \nQ 819 25 488 141 \nL 488 750 \nQ 750 597 1062 519 \nQ 1375 441 1716 441 \nQ 2309 441 2620 675 \nQ 2931 909 2931 1356 \nQ 2931 1769 2642 2001 \nQ 2353 2234 1838 2234 \nL 1294 2234 \nL 1294 2753 \nL 1863 2753 \nQ 2328 2753 2575 2939 \nQ 2822 3125 2822 3475 \nQ 2822 3834 2567 4026 \nQ 2313 4219 1838 4219 \nQ 1578 4219 1281 4162 \nQ 984 4106 628 3988 \nL 628 4550 \nQ 988 4650 1302 4700 \nQ 1616 4750 1894 4750 \nQ 2613 4750 3031 4423 \nQ 3450 4097 3450 3541 \nQ 3450 3153 3228 2886 \nQ 3006 2619 2597 2516 \nz\n\" transform=\"scale(0.015625)\"/>\n       </defs>\n       <use xlink:href=\"#DejaVuSans-32\"/>\n       <use xlink:href=\"#DejaVuSans-30\" x=\"63.623047\"/>\n       <use xlink:href=\"#DejaVuSans-30\" x=\"127.246094\"/>\n       <use xlink:href=\"#DejaVuSans-33\" x=\"190.869141\"/>\n      </g>\n     </g>\n    </g>\n    <g id=\"xtick_4\">\n     <g id=\"line2d_4\">\n      <g>\n       <use xlink:href=\"#m12f542fd81\" x=\"237.418015\" y=\"450.72\" style=\"stroke: #000000; stroke-width: 0.8\"/>\n      </g>\n     </g>\n     <g id=\"text_4\">\n      <!-- 2004 -->\n      <g transform=\"translate(230.371254 481.088774) rotate(-45) scale(0.1 -0.1)\">\n       <defs>\n        <path id=\"DejaVuSans-34\" d=\"M 2419 4116 \nL 825 1625 \nL 2419 1625 \nL 2419 4116 \nz\nM 2253 4666 \nL 3047 4666 \nL 3047 1625 \nL 3713 1625 \nL 3713 1100 \nL 3047 1100 \nL 3047 0 \nL 2419 0 \nL 2419 1100 \nL 313 1100 \nL 313 1709 \nL 2253 4666 \nz\n\" transform=\"scale(0.015625)\"/>\n       </defs>\n       <use xlink:href=\"#DejaVuSans-32\"/>\n       <use xlink:href=\"#DejaVuSans-30\" x=\"63.623047\"/>\n       <use xlink:href=\"#DejaVuSans-30\" x=\"127.246094\"/>\n       <use xlink:href=\"#DejaVuSans-34\" x=\"190.869141\"/>\n      </g>\n     </g>\n    </g>\n    <g id=\"xtick_5\">\n     <g id=\"line2d_5\">\n      <g>\n       <use xlink:href=\"#m12f542fd81\" x=\"289.935662\" y=\"450.72\" style=\"stroke: #000000; stroke-width: 0.8\"/>\n      </g>\n     </g>\n     <g id=\"text_5\">\n      <!-- 2007 -->\n      <g transform=\"translate(282.888901 481.088774) rotate(-45) scale(0.1 -0.1)\">\n       <defs>\n        <path id=\"DejaVuSans-37\" d=\"M 525 4666 \nL 3525 4666 \nL 3525 4397 \nL 1831 0 \nL 1172 0 \nL 2766 4134 \nL 525 4134 \nL 525 4666 \nz\n\" transform=\"scale(0.015625)\"/>\n       </defs>\n       <use xlink:href=\"#DejaVuSans-32\"/>\n       <use xlink:href=\"#DejaVuSans-30\" x=\"63.623047\"/>\n       <use xlink:href=\"#DejaVuSans-30\" x=\"127.246094\"/>\n       <use xlink:href=\"#DejaVuSans-37\" x=\"190.869141\"/>\n      </g>\n     </g>\n    </g>\n    <g id=\"xtick_6\">\n     <g id=\"line2d_6\">\n      <g>\n       <use xlink:href=\"#m12f542fd81\" x=\"342.453309\" y=\"450.72\" style=\"stroke: #000000; stroke-width: 0.8\"/>\n      </g>\n     </g>\n     <g id=\"text_6\">\n      <!-- 2008 -->\n      <g transform=\"translate(335.406548 481.088774) rotate(-45) scale(0.1 -0.1)\">\n       <defs>\n        <path id=\"DejaVuSans-38\" d=\"M 2034 2216 \nQ 1584 2216 1326 1975 \nQ 1069 1734 1069 1313 \nQ 1069 891 1326 650 \nQ 1584 409 2034 409 \nQ 2484 409 2743 651 \nQ 3003 894 3003 1313 \nQ 3003 1734 2745 1975 \nQ 2488 2216 2034 2216 \nz\nM 1403 2484 \nQ 997 2584 770 2862 \nQ 544 3141 544 3541 \nQ 544 4100 942 4425 \nQ 1341 4750 2034 4750 \nQ 2731 4750 3128 4425 \nQ 3525 4100 3525 3541 \nQ 3525 3141 3298 2862 \nQ 3072 2584 2669 2484 \nQ 3125 2378 3379 2068 \nQ 3634 1759 3634 1313 \nQ 3634 634 3220 271 \nQ 2806 -91 2034 -91 \nQ 1263 -91 848 271 \nQ 434 634 434 1313 \nQ 434 1759 690 2068 \nQ 947 2378 1403 2484 \nz\nM 1172 3481 \nQ 1172 3119 1398 2916 \nQ 1625 2713 2034 2713 \nQ 2441 2713 2670 2916 \nQ 2900 3119 2900 3481 \nQ 2900 3844 2670 4047 \nQ 2441 4250 2034 4250 \nQ 1625 4250 1398 4047 \nQ 1172 3844 1172 3481 \nz\n\" transform=\"scale(0.015625)\"/>\n       </defs>\n       <use xlink:href=\"#DejaVuSans-32\"/>\n       <use xlink:href=\"#DejaVuSans-30\" x=\"63.623047\"/>\n       <use xlink:href=\"#DejaVuSans-30\" x=\"127.246094\"/>\n       <use xlink:href=\"#DejaVuSans-38\" x=\"190.869141\"/>\n      </g>\n     </g>\n    </g>\n    <g id=\"xtick_7\">\n     <g id=\"line2d_7\">\n      <g>\n       <use xlink:href=\"#m12f542fd81\" x=\"394.970956\" y=\"450.72\" style=\"stroke: #000000; stroke-width: 0.8\"/>\n      </g>\n     </g>\n     <g id=\"text_7\">\n      <!-- 2009 -->\n      <g transform=\"translate(387.924195 481.088774) rotate(-45) scale(0.1 -0.1)\">\n       <defs>\n        <path id=\"DejaVuSans-39\" d=\"M 703 97 \nL 703 672 \nQ 941 559 1184 500 \nQ 1428 441 1663 441 \nQ 2288 441 2617 861 \nQ 2947 1281 2994 2138 \nQ 2813 1869 2534 1725 \nQ 2256 1581 1919 1581 \nQ 1219 1581 811 2004 \nQ 403 2428 403 3163 \nQ 403 3881 828 4315 \nQ 1253 4750 1959 4750 \nQ 2769 4750 3195 4129 \nQ 3622 3509 3622 2328 \nQ 3622 1225 3098 567 \nQ 2575 -91 1691 -91 \nQ 1453 -91 1209 -44 \nQ 966 3 703 97 \nz\nM 1959 2075 \nQ 2384 2075 2632 2365 \nQ 2881 2656 2881 3163 \nQ 2881 3666 2632 3958 \nQ 2384 4250 1959 4250 \nQ 1534 4250 1286 3958 \nQ 1038 3666 1038 3163 \nQ 1038 2656 1286 2365 \nQ 1534 2075 1959 2075 \nz\n\" transform=\"scale(0.015625)\"/>\n       </defs>\n       <use xlink:href=\"#DejaVuSans-32\"/>\n       <use xlink:href=\"#DejaVuSans-30\" x=\"63.623047\"/>\n       <use xlink:href=\"#DejaVuSans-30\" x=\"127.246094\"/>\n       <use xlink:href=\"#DejaVuSans-39\" x=\"190.869141\"/>\n      </g>\n     </g>\n    </g>\n    <g id=\"xtick_8\">\n     <g id=\"line2d_8\">\n      <g>\n       <use xlink:href=\"#m12f542fd81\" x=\"447.488603\" y=\"450.72\" style=\"stroke: #000000; stroke-width: 0.8\"/>\n      </g>\n     </g>\n     <g id=\"text_8\">\n      <!-- 2010 -->\n      <g transform=\"translate(440.441842 481.088774) rotate(-45) scale(0.1 -0.1)\">\n       <defs>\n        <path id=\"DejaVuSans-31\" d=\"M 794 531 \nL 1825 531 \nL 1825 4091 \nL 703 3866 \nL 703 4441 \nL 1819 4666 \nL 2450 4666 \nL 2450 531 \nL 3481 531 \nL 3481 0 \nL 794 0 \nL 794 531 \nz\n\" transform=\"scale(0.015625)\"/>\n       </defs>\n       <use xlink:href=\"#DejaVuSans-32\"/>\n       <use xlink:href=\"#DejaVuSans-30\" x=\"63.623047\"/>\n       <use xlink:href=\"#DejaVuSans-31\" x=\"127.246094\"/>\n       <use xlink:href=\"#DejaVuSans-30\" x=\"190.869141\"/>\n      </g>\n     </g>\n    </g>\n    <g id=\"xtick_9\">\n     <g id=\"line2d_9\">\n      <g>\n       <use xlink:href=\"#m12f542fd81\" x=\"500.00625\" y=\"450.72\" style=\"stroke: #000000; stroke-width: 0.8\"/>\n      </g>\n     </g>\n     <g id=\"text_9\">\n      <!-- 2011 -->\n      <g transform=\"translate(492.959489 481.088774) rotate(-45) scale(0.1 -0.1)\">\n       <use xlink:href=\"#DejaVuSans-32\"/>\n       <use xlink:href=\"#DejaVuSans-30\" x=\"63.623047\"/>\n       <use xlink:href=\"#DejaVuSans-31\" x=\"127.246094\"/>\n       <use xlink:href=\"#DejaVuSans-31\" x=\"190.869141\"/>\n      </g>\n     </g>\n    </g>\n    <g id=\"xtick_10\">\n     <g id=\"line2d_10\">\n      <g>\n       <use xlink:href=\"#m12f542fd81\" x=\"552.523897\" y=\"450.72\" style=\"stroke: #000000; stroke-width: 0.8\"/>\n      </g>\n     </g>\n     <g id=\"text_10\">\n      <!-- 2012 -->\n      <g transform=\"translate(545.477136 481.088774) rotate(-45) scale(0.1 -0.1)\">\n       <use xlink:href=\"#DejaVuSans-32\"/>\n       <use xlink:href=\"#DejaVuSans-30\" x=\"63.623047\"/>\n       <use xlink:href=\"#DejaVuSans-31\" x=\"127.246094\"/>\n       <use xlink:href=\"#DejaVuSans-32\" x=\"190.869141\"/>\n      </g>\n     </g>\n    </g>\n    <g id=\"xtick_11\">\n     <g id=\"line2d_11\">\n      <g>\n       <use xlink:href=\"#m12f542fd81\" x=\"605.041544\" y=\"450.72\" style=\"stroke: #000000; stroke-width: 0.8\"/>\n      </g>\n     </g>\n     <g id=\"text_11\">\n      <!-- 2013 -->\n      <g transform=\"translate(597.994783 481.088774) rotate(-45) scale(0.1 -0.1)\">\n       <use xlink:href=\"#DejaVuSans-32\"/>\n       <use xlink:href=\"#DejaVuSans-30\" x=\"63.623047\"/>\n       <use xlink:href=\"#DejaVuSans-31\" x=\"127.246094\"/>\n       <use xlink:href=\"#DejaVuSans-33\" x=\"190.869141\"/>\n      </g>\n     </g>\n    </g>\n    <g id=\"xtick_12\">\n     <g id=\"line2d_12\">\n      <g>\n       <use xlink:href=\"#m12f542fd81\" x=\"657.559191\" y=\"450.72\" style=\"stroke: #000000; stroke-width: 0.8\"/>\n      </g>\n     </g>\n     <g id=\"text_12\">\n      <!-- 2014 -->\n      <g transform=\"translate(650.51243 481.088774) rotate(-45) scale(0.1 -0.1)\">\n       <use xlink:href=\"#DejaVuSans-32\"/>\n       <use xlink:href=\"#DejaVuSans-30\" x=\"63.623047\"/>\n       <use xlink:href=\"#DejaVuSans-31\" x=\"127.246094\"/>\n       <use xlink:href=\"#DejaVuSans-34\" x=\"190.869141\"/>\n      </g>\n     </g>\n    </g>\n    <g id=\"xtick_13\">\n     <g id=\"line2d_13\">\n      <g>\n       <use xlink:href=\"#m12f542fd81\" x=\"710.076838\" y=\"450.72\" style=\"stroke: #000000; stroke-width: 0.8\"/>\n      </g>\n     </g>\n     <g id=\"text_13\">\n      <!-- 2015 -->\n      <g transform=\"translate(703.030077 481.088774) rotate(-45) scale(0.1 -0.1)\">\n       <defs>\n        <path id=\"DejaVuSans-35\" d=\"M 691 4666 \nL 3169 4666 \nL 3169 4134 \nL 1269 4134 \nL 1269 2991 \nQ 1406 3038 1543 3061 \nQ 1681 3084 1819 3084 \nQ 2600 3084 3056 2656 \nQ 3513 2228 3513 1497 \nQ 3513 744 3044 326 \nQ 2575 -91 1722 -91 \nQ 1428 -91 1123 -41 \nQ 819 9 494 109 \nL 494 744 \nQ 775 591 1075 516 \nQ 1375 441 1709 441 \nQ 2250 441 2565 725 \nQ 2881 1009 2881 1497 \nQ 2881 1984 2565 2268 \nQ 2250 2553 1709 2553 \nQ 1456 2553 1204 2497 \nQ 953 2441 691 2322 \nL 691 4666 \nz\n\" transform=\"scale(0.015625)\"/>\n       </defs>\n       <use xlink:href=\"#DejaVuSans-32\"/>\n       <use xlink:href=\"#DejaVuSans-30\" x=\"63.623047\"/>\n       <use xlink:href=\"#DejaVuSans-31\" x=\"127.246094\"/>\n       <use xlink:href=\"#DejaVuSans-35\" x=\"190.869141\"/>\n      </g>\n     </g>\n    </g>\n    <g id=\"xtick_14\">\n     <g id=\"line2d_14\">\n      <g>\n       <use xlink:href=\"#m12f542fd81\" x=\"762.594485\" y=\"450.72\" style=\"stroke: #000000; stroke-width: 0.8\"/>\n      </g>\n     </g>\n     <g id=\"text_14\">\n      <!-- 2016 -->\n      <g transform=\"translate(755.547724 481.088774) rotate(-45) scale(0.1 -0.1)\">\n       <defs>\n        <path id=\"DejaVuSans-36\" d=\"M 2113 2584 \nQ 1688 2584 1439 2293 \nQ 1191 2003 1191 1497 \nQ 1191 994 1439 701 \nQ 1688 409 2113 409 \nQ 2538 409 2786 701 \nQ 3034 994 3034 1497 \nQ 3034 2003 2786 2293 \nQ 2538 2584 2113 2584 \nz\nM 3366 4563 \nL 3366 3988 \nQ 3128 4100 2886 4159 \nQ 2644 4219 2406 4219 \nQ 1781 4219 1451 3797 \nQ 1122 3375 1075 2522 \nQ 1259 2794 1537 2939 \nQ 1816 3084 2150 3084 \nQ 2853 3084 3261 2657 \nQ 3669 2231 3669 1497 \nQ 3669 778 3244 343 \nQ 2819 -91 2113 -91 \nQ 1303 -91 875 529 \nQ 447 1150 447 2328 \nQ 447 3434 972 4092 \nQ 1497 4750 2381 4750 \nQ 2619 4750 2861 4703 \nQ 3103 4656 3366 4563 \nz\n\" transform=\"scale(0.015625)\"/>\n       </defs>\n       <use xlink:href=\"#DejaVuSans-32\"/>\n       <use xlink:href=\"#DejaVuSans-30\" x=\"63.623047\"/>\n       <use xlink:href=\"#DejaVuSans-31\" x=\"127.246094\"/>\n       <use xlink:href=\"#DejaVuSans-36\" x=\"190.869141\"/>\n      </g>\n     </g>\n    </g>\n    <g id=\"xtick_15\">\n     <g id=\"line2d_15\">\n      <g>\n       <use xlink:href=\"#m12f542fd81\" x=\"815.112132\" y=\"450.72\" style=\"stroke: #000000; stroke-width: 0.8\"/>\n      </g>\n     </g>\n     <g id=\"text_15\">\n      <!-- 2017 -->\n      <g transform=\"translate(808.065371 481.088774) rotate(-45) scale(0.1 -0.1)\">\n       <use xlink:href=\"#DejaVuSans-32\"/>\n       <use xlink:href=\"#DejaVuSans-30\" x=\"63.623047\"/>\n       <use xlink:href=\"#DejaVuSans-31\" x=\"127.246094\"/>\n       <use xlink:href=\"#DejaVuSans-37\" x=\"190.869141\"/>\n      </g>\n     </g>\n    </g>\n    <g id=\"xtick_16\">\n     <g id=\"line2d_16\">\n      <g>\n       <use xlink:href=\"#m12f542fd81\" x=\"867.629779\" y=\"450.72\" style=\"stroke: #000000; stroke-width: 0.8\"/>\n      </g>\n     </g>\n     <g id=\"text_16\">\n      <!-- 2018 -->\n      <g transform=\"translate(860.583018 481.088774) rotate(-45) scale(0.1 -0.1)\">\n       <use xlink:href=\"#DejaVuSans-32\"/>\n       <use xlink:href=\"#DejaVuSans-30\" x=\"63.623047\"/>\n       <use xlink:href=\"#DejaVuSans-31\" x=\"127.246094\"/>\n       <use xlink:href=\"#DejaVuSans-38\" x=\"190.869141\"/>\n      </g>\n     </g>\n    </g>\n    <g id=\"xtick_17\">\n     <g id=\"line2d_17\">\n      <g>\n       <use xlink:href=\"#m12f542fd81\" x=\"920.147426\" y=\"450.72\" style=\"stroke: #000000; stroke-width: 0.8\"/>\n      </g>\n     </g>\n     <g id=\"text_17\">\n      <!-- 2019 -->\n      <g transform=\"translate(913.100665 481.088774) rotate(-45) scale(0.1 -0.1)\">\n       <use xlink:href=\"#DejaVuSans-32\"/>\n       <use xlink:href=\"#DejaVuSans-30\" x=\"63.623047\"/>\n       <use xlink:href=\"#DejaVuSans-31\" x=\"127.246094\"/>\n       <use xlink:href=\"#DejaVuSans-39\" x=\"190.869141\"/>\n      </g>\n     </g>\n    </g>\n    <g id=\"text_18\">\n     <!-- vintage -->\n     <g transform=\"translate(481.214062 494.157773) scale(0.1 -0.1)\">\n      <defs>\n       <path id=\"DejaVuSans-76\" d=\"M 191 3500 \nL 800 3500 \nL 1894 563 \nL 2988 3500 \nL 3597 3500 \nL 2284 0 \nL 1503 0 \nL 191 3500 \nz\n\" transform=\"scale(0.015625)\"/>\n       <path id=\"DejaVuSans-69\" d=\"M 603 3500 \nL 1178 3500 \nL 1178 0 \nL 603 0 \nL 603 3500 \nz\nM 603 4863 \nL 1178 4863 \nL 1178 4134 \nL 603 4134 \nL 603 4863 \nz\n\" transform=\"scale(0.015625)\"/>\n       <path id=\"DejaVuSans-6e\" d=\"M 3513 2113 \nL 3513 0 \nL 2938 0 \nL 2938 2094 \nQ 2938 2591 2744 2837 \nQ 2550 3084 2163 3084 \nQ 1697 3084 1428 2787 \nQ 1159 2491 1159 1978 \nL 1159 0 \nL 581 0 \nL 581 3500 \nL 1159 3500 \nL 1159 2956 \nQ 1366 3272 1645 3428 \nQ 1925 3584 2291 3584 \nQ 2894 3584 3203 3211 \nQ 3513 2838 3513 2113 \nz\n\" transform=\"scale(0.015625)\"/>\n       <path id=\"DejaVuSans-74\" d=\"M 1172 4494 \nL 1172 3500 \nL 2356 3500 \nL 2356 3053 \nL 1172 3053 \nL 1172 1153 \nQ 1172 725 1289 603 \nQ 1406 481 1766 481 \nL 2356 481 \nL 2356 0 \nL 1766 0 \nQ 1100 0 847 248 \nQ 594 497 594 1153 \nL 594 3053 \nL 172 3053 \nL 172 3500 \nL 594 3500 \nL 594 4494 \nL 1172 4494 \nz\n\" transform=\"scale(0.015625)\"/>\n       <path id=\"DejaVuSans-61\" d=\"M 2194 1759 \nQ 1497 1759 1228 1600 \nQ 959 1441 959 1056 \nQ 959 750 1161 570 \nQ 1363 391 1709 391 \nQ 2188 391 2477 730 \nQ 2766 1069 2766 1631 \nL 2766 1759 \nL 2194 1759 \nz\nM 3341 1997 \nL 3341 0 \nL 2766 0 \nL 2766 531 \nQ 2569 213 2275 61 \nQ 1981 -91 1556 -91 \nQ 1019 -91 701 211 \nQ 384 513 384 1019 \nQ 384 1609 779 1909 \nQ 1175 2209 1959 2209 \nL 2766 2209 \nL 2766 2266 \nQ 2766 2663 2505 2880 \nQ 2244 3097 1772 3097 \nQ 1472 3097 1187 3025 \nQ 903 2953 641 2809 \nL 641 3341 \nQ 956 3463 1253 3523 \nQ 1550 3584 1831 3584 \nQ 2591 3584 2966 3190 \nQ 3341 2797 3341 1997 \nz\n\" transform=\"scale(0.015625)\"/>\n       <path id=\"DejaVuSans-67\" d=\"M 2906 1791 \nQ 2906 2416 2648 2759 \nQ 2391 3103 1925 3103 \nQ 1463 3103 1205 2759 \nQ 947 2416 947 1791 \nQ 947 1169 1205 825 \nQ 1463 481 1925 481 \nQ 2391 481 2648 825 \nQ 2906 1169 2906 1791 \nz\nM 3481 434 \nQ 3481 -459 3084 -895 \nQ 2688 -1331 1869 -1331 \nQ 1566 -1331 1297 -1286 \nQ 1028 -1241 775 -1147 \nL 775 -588 \nQ 1028 -725 1275 -790 \nQ 1522 -856 1778 -856 \nQ 2344 -856 2625 -561 \nQ 2906 -266 2906 331 \nL 2906 616 \nQ 2728 306 2450 153 \nQ 2172 0 1784 0 \nQ 1141 0 747 490 \nQ 353 981 353 1791 \nQ 353 2603 747 3093 \nQ 1141 3584 1784 3584 \nQ 2172 3584 2450 3431 \nQ 2728 3278 2906 2969 \nL 2906 3500 \nL 3481 3500 \nL 3481 434 \nz\n\" transform=\"scale(0.015625)\"/>\n       <path id=\"DejaVuSans-65\" d=\"M 3597 1894 \nL 3597 1613 \nL 953 1613 \nQ 991 1019 1311 708 \nQ 1631 397 2203 397 \nQ 2534 397 2845 478 \nQ 3156 559 3463 722 \nL 3463 178 \nQ 3153 47 2828 -22 \nQ 2503 -91 2169 -91 \nQ 1331 -91 842 396 \nQ 353 884 353 1716 \nQ 353 2575 817 3079 \nQ 1281 3584 2069 3584 \nQ 2775 3584 3186 3129 \nQ 3597 2675 3597 1894 \nz\nM 3022 2063 \nQ 3016 2534 2758 2815 \nQ 2500 3097 2075 3097 \nQ 1594 3097 1305 2825 \nQ 1016 2553 972 2059 \nL 3022 2063 \nz\n\" transform=\"scale(0.015625)\"/>\n      </defs>\n      <use xlink:href=\"#DejaVuSans-76\"/>\n      <use xlink:href=\"#DejaVuSans-69\" x=\"59.179688\"/>\n      <use xlink:href=\"#DejaVuSans-6e\" x=\"86.962891\"/>\n      <use xlink:href=\"#DejaVuSans-74\" x=\"150.341797\"/>\n      <use xlink:href=\"#DejaVuSans-61\" x=\"189.550781\"/>\n      <use xlink:href=\"#DejaVuSans-67\" x=\"250.830078\"/>\n      <use xlink:href=\"#DejaVuSans-65\" x=\"314.306641\"/>\n     </g>\n    </g>\n   </g>\n   <g id=\"matplotlib.axis_2\">\n    <g id=\"ytick_1\">\n     <g id=\"line2d_18\">\n      <defs>\n       <path id=\"mc122b132bd\" d=\"M 0 0 \nL -3.5 0 \n\" style=\"stroke: #000000; stroke-width: 0.8\"/>\n      </defs>\n      <g>\n       <use xlink:href=\"#mc122b132bd\" x=\"53.60625\" y=\"432.505058\" style=\"stroke: #000000; stroke-width: 0.8\"/>\n      </g>\n     </g>\n     <g id=\"text_19\">\n      <!-- 0 -->\n      <g transform=\"translate(40.24375 436.304276) scale(0.1 -0.1)\">\n       <use xlink:href=\"#DejaVuSans-30\"/>\n      </g>\n     </g>\n    </g>\n    <g id=\"ytick_2\">\n     <g id=\"line2d_19\">\n      <g>\n       <use xlink:href=\"#mc122b132bd\" x=\"53.60625\" y=\"379.244992\" style=\"stroke: #000000; stroke-width: 0.8\"/>\n      </g>\n     </g>\n     <g id=\"text_20\">\n      <!-- 250 -->\n      <g transform=\"translate(27.51875 383.044211) scale(0.1 -0.1)\">\n       <use xlink:href=\"#DejaVuSans-32\"/>\n       <use xlink:href=\"#DejaVuSans-35\" x=\"63.623047\"/>\n       <use xlink:href=\"#DejaVuSans-30\" x=\"127.246094\"/>\n      </g>\n     </g>\n    </g>\n    <g id=\"ytick_3\">\n     <g id=\"line2d_20\">\n      <g>\n       <use xlink:href=\"#mc122b132bd\" x=\"53.60625\" y=\"325.984927\" style=\"stroke: #000000; stroke-width: 0.8\"/>\n      </g>\n     </g>\n     <g id=\"text_21\">\n      <!-- 500 -->\n      <g transform=\"translate(27.51875 329.784145) scale(0.1 -0.1)\">\n       <use xlink:href=\"#DejaVuSans-35\"/>\n       <use xlink:href=\"#DejaVuSans-30\" x=\"63.623047\"/>\n       <use xlink:href=\"#DejaVuSans-30\" x=\"127.246094\"/>\n      </g>\n     </g>\n    </g>\n    <g id=\"ytick_4\">\n     <g id=\"line2d_21\">\n      <g>\n       <use xlink:href=\"#mc122b132bd\" x=\"53.60625\" y=\"272.724861\" style=\"stroke: #000000; stroke-width: 0.8\"/>\n      </g>\n     </g>\n     <g id=\"text_22\">\n      <!-- 750 -->\n      <g transform=\"translate(27.51875 276.52408) scale(0.1 -0.1)\">\n       <use xlink:href=\"#DejaVuSans-37\"/>\n       <use xlink:href=\"#DejaVuSans-35\" x=\"63.623047\"/>\n       <use xlink:href=\"#DejaVuSans-30\" x=\"127.246094\"/>\n      </g>\n     </g>\n    </g>\n    <g id=\"ytick_5\">\n     <g id=\"line2d_22\">\n      <g>\n       <use xlink:href=\"#mc122b132bd\" x=\"53.60625\" y=\"219.464796\" style=\"stroke: #000000; stroke-width: 0.8\"/>\n      </g>\n     </g>\n     <g id=\"text_23\">\n      <!-- 1000 -->\n      <g transform=\"translate(21.15625 223.264014) scale(0.1 -0.1)\">\n       <use xlink:href=\"#DejaVuSans-31\"/>\n       <use xlink:href=\"#DejaVuSans-30\" x=\"63.623047\"/>\n       <use xlink:href=\"#DejaVuSans-30\" x=\"127.246094\"/>\n       <use xlink:href=\"#DejaVuSans-30\" x=\"190.869141\"/>\n      </g>\n     </g>\n    </g>\n    <g id=\"ytick_6\">\n     <g id=\"line2d_23\">\n      <g>\n       <use xlink:href=\"#mc122b132bd\" x=\"53.60625\" y=\"166.20473\" style=\"stroke: #000000; stroke-width: 0.8\"/>\n      </g>\n     </g>\n     <g id=\"text_24\">\n      <!-- 1250 -->\n      <g transform=\"translate(21.15625 170.003949) scale(0.1 -0.1)\">\n       <use xlink:href=\"#DejaVuSans-31\"/>\n       <use xlink:href=\"#DejaVuSans-32\" x=\"63.623047\"/>\n       <use xlink:href=\"#DejaVuSans-35\" x=\"127.246094\"/>\n       <use xlink:href=\"#DejaVuSans-30\" x=\"190.869141\"/>\n      </g>\n     </g>\n    </g>\n    <g id=\"ytick_7\">\n     <g id=\"line2d_24\">\n      <g>\n       <use xlink:href=\"#mc122b132bd\" x=\"53.60625\" y=\"112.944664\" style=\"stroke: #000000; stroke-width: 0.8\"/>\n      </g>\n     </g>\n     <g id=\"text_25\">\n      <!-- 1500 -->\n      <g transform=\"translate(21.15625 116.743883) scale(0.1 -0.1)\">\n       <use xlink:href=\"#DejaVuSans-31\"/>\n       <use xlink:href=\"#DejaVuSans-35\" x=\"63.623047\"/>\n       <use xlink:href=\"#DejaVuSans-30\" x=\"127.246094\"/>\n       <use xlink:href=\"#DejaVuSans-30\" x=\"190.869141\"/>\n      </g>\n     </g>\n    </g>\n    <g id=\"ytick_8\">\n     <g id=\"line2d_25\">\n      <g>\n       <use xlink:href=\"#mc122b132bd\" x=\"53.60625\" y=\"59.684599\" style=\"stroke: #000000; stroke-width: 0.8\"/>\n      </g>\n     </g>\n     <g id=\"text_26\">\n      <!-- 1750 -->\n      <g transform=\"translate(21.15625 63.483818) scale(0.1 -0.1)\">\n       <use xlink:href=\"#DejaVuSans-31\"/>\n       <use xlink:href=\"#DejaVuSans-37\" x=\"63.623047\"/>\n       <use xlink:href=\"#DejaVuSans-35\" x=\"127.246094\"/>\n       <use xlink:href=\"#DejaVuSans-30\" x=\"190.869141\"/>\n      </g>\n     </g>\n    </g>\n    <g id=\"text_27\">\n     <!-- price_usd -->\n     <g transform=\"translate(14.798437 252.852187) rotate(-90) scale(0.1 -0.1)\">\n      <defs>\n       <path id=\"DejaVuSans-70\" d=\"M 1159 525 \nL 1159 -1331 \nL 581 -1331 \nL 581 3500 \nL 1159 3500 \nL 1159 2969 \nQ 1341 3281 1617 3432 \nQ 1894 3584 2278 3584 \nQ 2916 3584 3314 3078 \nQ 3713 2572 3713 1747 \nQ 3713 922 3314 415 \nQ 2916 -91 2278 -91 \nQ 1894 -91 1617 61 \nQ 1341 213 1159 525 \nz\nM 3116 1747 \nQ 3116 2381 2855 2742 \nQ 2594 3103 2138 3103 \nQ 1681 3103 1420 2742 \nQ 1159 2381 1159 1747 \nQ 1159 1113 1420 752 \nQ 1681 391 2138 391 \nQ 2594 391 2855 752 \nQ 3116 1113 3116 1747 \nz\n\" transform=\"scale(0.015625)\"/>\n       <path id=\"DejaVuSans-72\" d=\"M 2631 2963 \nQ 2534 3019 2420 3045 \nQ 2306 3072 2169 3072 \nQ 1681 3072 1420 2755 \nQ 1159 2438 1159 1844 \nL 1159 0 \nL 581 0 \nL 581 3500 \nL 1159 3500 \nL 1159 2956 \nQ 1341 3275 1631 3429 \nQ 1922 3584 2338 3584 \nQ 2397 3584 2469 3576 \nQ 2541 3569 2628 3553 \nL 2631 2963 \nz\n\" transform=\"scale(0.015625)\"/>\n       <path id=\"DejaVuSans-63\" d=\"M 3122 3366 \nL 3122 2828 \nQ 2878 2963 2633 3030 \nQ 2388 3097 2138 3097 \nQ 1578 3097 1268 2742 \nQ 959 2388 959 1747 \nQ 959 1106 1268 751 \nQ 1578 397 2138 397 \nQ 2388 397 2633 464 \nQ 2878 531 3122 666 \nL 3122 134 \nQ 2881 22 2623 -34 \nQ 2366 -91 2075 -91 \nQ 1284 -91 818 406 \nQ 353 903 353 1747 \nQ 353 2603 823 3093 \nQ 1294 3584 2113 3584 \nQ 2378 3584 2631 3529 \nQ 2884 3475 3122 3366 \nz\n\" transform=\"scale(0.015625)\"/>\n       <path id=\"DejaVuSans-5f\" d=\"M 3263 -1063 \nL 3263 -1509 \nL -63 -1509 \nL -63 -1063 \nL 3263 -1063 \nz\n\" transform=\"scale(0.015625)\"/>\n       <path id=\"DejaVuSans-75\" d=\"M 544 1381 \nL 544 3500 \nL 1119 3500 \nL 1119 1403 \nQ 1119 906 1312 657 \nQ 1506 409 1894 409 \nQ 2359 409 2629 706 \nQ 2900 1003 2900 1516 \nL 2900 3500 \nL 3475 3500 \nL 3475 0 \nL 2900 0 \nL 2900 538 \nQ 2691 219 2414 64 \nQ 2138 -91 1772 -91 \nQ 1169 -91 856 284 \nQ 544 659 544 1381 \nz\nM 1991 3584 \nL 1991 3584 \nz\n\" transform=\"scale(0.015625)\"/>\n       <path id=\"DejaVuSans-73\" d=\"M 2834 3397 \nL 2834 2853 \nQ 2591 2978 2328 3040 \nQ 2066 3103 1784 3103 \nQ 1356 3103 1142 2972 \nQ 928 2841 928 2578 \nQ 928 2378 1081 2264 \nQ 1234 2150 1697 2047 \nL 1894 2003 \nQ 2506 1872 2764 1633 \nQ 3022 1394 3022 966 \nQ 3022 478 2636 193 \nQ 2250 -91 1575 -91 \nQ 1294 -91 989 -36 \nQ 684 19 347 128 \nL 347 722 \nQ 666 556 975 473 \nQ 1284 391 1588 391 \nQ 1994 391 2212 530 \nQ 2431 669 2431 922 \nQ 2431 1156 2273 1281 \nQ 2116 1406 1581 1522 \nL 1381 1569 \nQ 847 1681 609 1914 \nQ 372 2147 372 2553 \nQ 372 3047 722 3315 \nQ 1072 3584 1716 3584 \nQ 2034 3584 2315 3537 \nQ 2597 3491 2834 3397 \nz\n\" transform=\"scale(0.015625)\"/>\n       <path id=\"DejaVuSans-64\" d=\"M 2906 2969 \nL 2906 4863 \nL 3481 4863 \nL 3481 0 \nL 2906 0 \nL 2906 525 \nQ 2725 213 2448 61 \nQ 2172 -91 1784 -91 \nQ 1150 -91 751 415 \nQ 353 922 353 1747 \nQ 353 2572 751 3078 \nQ 1150 3584 1784 3584 \nQ 2172 3584 2448 3432 \nQ 2725 3281 2906 2969 \nz\nM 947 1747 \nQ 947 1113 1208 752 \nQ 1469 391 1925 391 \nQ 2381 391 2643 752 \nQ 2906 1113 2906 1747 \nQ 2906 2381 2643 2742 \nQ 2381 3103 1925 3103 \nQ 1469 3103 1208 2742 \nQ 947 2381 947 1747 \nz\n\" transform=\"scale(0.015625)\"/>\n      </defs>\n      <use xlink:href=\"#DejaVuSans-70\"/>\n      <use xlink:href=\"#DejaVuSans-72\" x=\"63.476562\"/>\n      <use xlink:href=\"#DejaVuSans-69\" x=\"104.589844\"/>\n      <use xlink:href=\"#DejaVuSans-63\" x=\"132.373047\"/>\n      <use xlink:href=\"#DejaVuSans-65\" x=\"187.353516\"/>\n      <use xlink:href=\"#DejaVuSans-5f\" x=\"248.876953\"/>\n      <use xlink:href=\"#DejaVuSans-75\" x=\"298.876953\"/>\n      <use xlink:href=\"#DejaVuSans-73\" x=\"362.255859\"/>\n      <use xlink:href=\"#DejaVuSans-64\" x=\"414.355469\"/>\n     </g>\n    </g>\n   </g>\n   <g id=\"patch_3\">\n    <path d=\"M 58.858015 429.18163 \nL 100.872132 429.18163 \nL 100.872132 412.911745 \nL 58.858015 412.911745 \nL 58.858015 429.18163 \nz\n\" clip-path=\"url(#pe6fa651531)\" style=\"fill: #3274a1; stroke: #3f3f3f; stroke-linejoin: miter\"/>\n   </g>\n   <g id=\"line2d_26\">\n    <path d=\"M 79.865074 429.18163 \nL 79.865074 430.56 \n\" clip-path=\"url(#pe6fa651531)\" style=\"fill: none; stroke: #3f3f3f\"/>\n   </g>\n   <g id=\"line2d_27\">\n    <path d=\"M 79.865074 412.911745 \nL 79.865074 402.472772 \n\" clip-path=\"url(#pe6fa651531)\" style=\"fill: none; stroke: #3f3f3f\"/>\n   </g>\n   <g id=\"line2d_28\">\n    <path d=\"M 69.361544 430.56 \nL 90.368603 430.56 \n\" clip-path=\"url(#pe6fa651531)\" style=\"fill: none; stroke: #3f3f3f; stroke-linecap: square\"/>\n   </g>\n   <g id=\"line2d_29\">\n    <path d=\"M 69.361544 402.472772 \nL 90.368603 402.472772 \n\" clip-path=\"url(#pe6fa651531)\" style=\"fill: none; stroke: #3f3f3f; stroke-linecap: square\"/>\n   </g>\n   <g id=\"line2d_30\"/>\n   <g id=\"patch_4\">\n    <path d=\"M 111.375662 78.888048 \nL 153.389779 78.888048 \nL 153.389779 78.888048 \nL 111.375662 78.888048 \nL 111.375662 78.888048 \nz\n\" clip-path=\"url(#pe6fa651531)\" style=\"fill: #3274a1; stroke: #3f3f3f; stroke-linejoin: miter\"/>\n   </g>\n   <g id=\"line2d_31\">\n    <path d=\"M 132.382721 78.888048 \nL 132.382721 78.888048 \n\" clip-path=\"url(#pe6fa651531)\" style=\"fill: none; stroke: #3f3f3f\"/>\n   </g>\n   <g id=\"line2d_32\">\n    <path d=\"M 132.382721 78.888048 \nL 132.382721 78.888048 \n\" clip-path=\"url(#pe6fa651531)\" style=\"fill: none; stroke: #3f3f3f\"/>\n   </g>\n   <g id=\"line2d_33\">\n    <path d=\"M 121.879191 78.888048 \nL 142.88625 78.888048 \n\" clip-path=\"url(#pe6fa651531)\" style=\"fill: none; stroke: #3f3f3f; stroke-linecap: square\"/>\n   </g>\n   <g id=\"line2d_34\">\n    <path d=\"M 121.879191 78.888048 \nL 142.88625 78.888048 \n\" clip-path=\"url(#pe6fa651531)\" style=\"fill: none; stroke: #3f3f3f; stroke-linecap: square\"/>\n   </g>\n   <g id=\"line2d_35\"/>\n   <g id=\"patch_5\">\n    <path d=\"M 163.893309 416.858316 \nL 205.907426 416.858316 \nL 205.907426 410.411717 \nL 163.893309 410.411717 \nL 163.893309 416.858316 \nz\n\" clip-path=\"url(#pe6fa651531)\" style=\"fill: #3274a1; stroke: #3f3f3f; stroke-linejoin: miter\"/>\n   </g>\n   <g id=\"line2d_36\">\n    <path d=\"M 184.900368 416.858316 \nL 184.900368 421.469572 \n\" clip-path=\"url(#pe6fa651531)\" style=\"fill: none; stroke: #3f3f3f\"/>\n   </g>\n   <g id=\"line2d_37\">\n    <path d=\"M 184.900368 410.411717 \nL 184.900368 408.576375 \n\" clip-path=\"url(#pe6fa651531)\" style=\"fill: none; stroke: #3f3f3f\"/>\n   </g>\n   <g id=\"line2d_38\">\n    <path d=\"M 174.396838 421.469572 \nL 195.403897 421.469572 \n\" clip-path=\"url(#pe6fa651531)\" style=\"fill: none; stroke: #3f3f3f; stroke-linecap: square\"/>\n   </g>\n   <g id=\"line2d_39\">\n    <path d=\"M 174.396838 408.576375 \nL 195.403897 408.576375 \n\" clip-path=\"url(#pe6fa651531)\" style=\"fill: none; stroke: #3f3f3f; stroke-linecap: square\"/>\n   </g>\n   <g id=\"line2d_40\"/>\n   <g id=\"patch_6\">\n    <path d=\"M 216.410956 419.163944 \nL 258.425074 419.163944 \nL 258.425074 414.552687 \nL 216.410956 414.552687 \nL 216.410956 419.163944 \nz\n\" clip-path=\"url(#pe6fa651531)\" style=\"fill: #3274a1; stroke: #3f3f3f; stroke-linejoin: miter\"/>\n   </g>\n   <g id=\"line2d_41\">\n    <path d=\"M 237.418015 419.163944 \nL 237.418015 421.469572 \n\" clip-path=\"url(#pe6fa651531)\" style=\"fill: none; stroke: #3f3f3f\"/>\n   </g>\n   <g id=\"line2d_42\">\n    <path d=\"M 237.418015 414.552687 \nL 237.418015 412.247059 \n\" clip-path=\"url(#pe6fa651531)\" style=\"fill: none; stroke: #3f3f3f\"/>\n   </g>\n   <g id=\"line2d_43\">\n    <path d=\"M 226.914485 421.469572 \nL 247.921544 421.469572 \n\" clip-path=\"url(#pe6fa651531)\" style=\"fill: none; stroke: #3f3f3f; stroke-linecap: square\"/>\n   </g>\n   <g id=\"line2d_44\">\n    <path d=\"M 226.914485 412.247059 \nL 247.921544 412.247059 \n\" clip-path=\"url(#pe6fa651531)\" style=\"fill: none; stroke: #3f3f3f; stroke-linecap: square\"/>\n   </g>\n   <g id=\"line2d_45\"/>\n   <g id=\"patch_7\">\n    <path d=\"M 268.928603 211.578045 \nL 310.942721 211.578045 \nL 310.942721 211.578045 \nL 268.928603 211.578045 \nL 268.928603 211.578045 \nz\n\" clip-path=\"url(#pe6fa651531)\" style=\"fill: #3274a1; stroke: #3f3f3f; stroke-linejoin: miter\"/>\n   </g>\n   <g id=\"line2d_46\">\n    <path d=\"M 289.935662 211.578045 \nL 289.935662 211.578045 \n\" clip-path=\"url(#pe6fa651531)\" style=\"fill: none; stroke: #3f3f3f\"/>\n   </g>\n   <g id=\"line2d_47\">\n    <path d=\"M 289.935662 211.578045 \nL 289.935662 211.578045 \n\" clip-path=\"url(#pe6fa651531)\" style=\"fill: none; stroke: #3f3f3f\"/>\n   </g>\n   <g id=\"line2d_48\">\n    <path d=\"M 279.432132 211.578045 \nL 300.439191 211.578045 \n\" clip-path=\"url(#pe6fa651531)\" style=\"fill: none; stroke: #3f3f3f; stroke-linecap: square\"/>\n   </g>\n   <g id=\"line2d_49\">\n    <path d=\"M 279.432132 211.578045 \nL 300.439191 211.578045 \n\" clip-path=\"url(#pe6fa651531)\" style=\"fill: none; stroke: #3f3f3f; stroke-linecap: square\"/>\n   </g>\n   <g id=\"line2d_50\"/>\n   <g id=\"patch_8\">\n    <path d=\"M 321.44625 411.529113 \nL 363.460368 411.529113 \nL 363.460368 403.412279 \nL 321.44625 403.412279 \nL 321.44625 411.529113 \nz\n\" clip-path=\"url(#pe6fa651531)\" style=\"fill: #3274a1; stroke: #3f3f3f; stroke-linejoin: miter\"/>\n   </g>\n   <g id=\"line2d_51\">\n    <path d=\"M 342.453309 411.529113 \nL 342.453309 415.58753 \n\" clip-path=\"url(#pe6fa651531)\" style=\"fill: none; stroke: #3f3f3f\"/>\n   </g>\n   <g id=\"line2d_52\">\n    <path d=\"M 342.453309 403.412279 \nL 342.453309 399.353862 \n\" clip-path=\"url(#pe6fa651531)\" style=\"fill: none; stroke: #3f3f3f\"/>\n   </g>\n   <g id=\"line2d_53\">\n    <path d=\"M 331.949779 415.58753 \nL 352.956838 415.58753 \n\" clip-path=\"url(#pe6fa651531)\" style=\"fill: none; stroke: #3f3f3f; stroke-linecap: square\"/>\n   </g>\n   <g id=\"line2d_54\">\n    <path d=\"M 331.949779 399.353862 \nL 352.956838 399.353862 \n\" clip-path=\"url(#pe6fa651531)\" style=\"fill: none; stroke: #3f3f3f; stroke-linecap: square\"/>\n   </g>\n   <g id=\"line2d_55\"/>\n   <g id=\"patch_9\">\n    <path d=\"M 373.963897 396.429352 \nL 415.978015 396.429352 \nL 415.978015 382.442194 \nL 373.963897 382.442194 \nL 373.963897 396.429352 \nz\n\" clip-path=\"url(#pe6fa651531)\" style=\"fill: #3274a1; stroke: #3f3f3f; stroke-linejoin: miter\"/>\n   </g>\n   <g id=\"line2d_56\">\n    <path d=\"M 394.970956 396.429352 \nL 394.970956 403.422931 \n\" clip-path=\"url(#pe6fa651531)\" style=\"fill: none; stroke: #3f3f3f\"/>\n   </g>\n   <g id=\"line2d_57\">\n    <path d=\"M 394.970956 382.442194 \nL 394.970956 375.448615 \n\" clip-path=\"url(#pe6fa651531)\" style=\"fill: none; stroke: #3f3f3f\"/>\n   </g>\n   <g id=\"line2d_58\">\n    <path d=\"M 384.467426 403.422931 \nL 405.474485 403.422931 \n\" clip-path=\"url(#pe6fa651531)\" style=\"fill: none; stroke: #3f3f3f; stroke-linecap: square\"/>\n   </g>\n   <g id=\"line2d_59\">\n    <path d=\"M 384.467426 375.448615 \nL 405.474485 375.448615 \n\" clip-path=\"url(#pe6fa651531)\" style=\"fill: none; stroke: #3f3f3f; stroke-linecap: square\"/>\n   </g>\n   <g id=\"line2d_60\"/>\n   <g id=\"patch_10\">\n    <path d=\"M 426.481544 353.737149 \nL 468.495662 353.737149 \nL 468.495662 258.830908 \nL 426.481544 258.830908 \nL 426.481544 353.737149 \nz\n\" clip-path=\"url(#pe6fa651531)\" style=\"fill: #3274a1; stroke: #3f3f3f; stroke-linejoin: miter\"/>\n   </g>\n   <g id=\"line2d_61\">\n    <path d=\"M 447.488603 353.737149 \nL 447.488603 401.190269 \n\" clip-path=\"url(#pe6fa651531)\" style=\"fill: none; stroke: #3f3f3f\"/>\n   </g>\n   <g id=\"line2d_62\">\n    <path d=\"M 447.488603 258.830908 \nL 447.488603 211.377787 \n\" clip-path=\"url(#pe6fa651531)\" style=\"fill: none; stroke: #3f3f3f\"/>\n   </g>\n   <g id=\"line2d_63\">\n    <path d=\"M 436.985074 401.190269 \nL 457.992132 401.190269 \n\" clip-path=\"url(#pe6fa651531)\" style=\"fill: none; stroke: #3f3f3f; stroke-linecap: square\"/>\n   </g>\n   <g id=\"line2d_64\">\n    <path d=\"M 436.985074 211.377787 \nL 457.992132 211.377787 \n\" clip-path=\"url(#pe6fa651531)\" style=\"fill: none; stroke: #3f3f3f; stroke-linecap: square\"/>\n   </g>\n   <g id=\"line2d_65\"/>\n   <g id=\"patch_11\">\n    <path d=\"M 478.999191 411.507277 \nL 521.013309 411.507277 \nL 521.013309 352.670882 \nL 478.999191 352.670882 \nL 478.999191 411.507277 \nz\n\" clip-path=\"url(#pe6fa651531)\" style=\"fill: #3274a1; stroke: #3f3f3f; stroke-linejoin: miter\"/>\n   </g>\n   <g id=\"line2d_66\">\n    <path d=\"M 500.00625 411.507277 \nL 500.00625 421.846653 \n\" clip-path=\"url(#pe6fa651531)\" style=\"fill: none; stroke: #3f3f3f\"/>\n   </g>\n   <g id=\"line2d_67\">\n    <path d=\"M 500.00625 352.670882 \nL 500.00625 325.910362 \n\" clip-path=\"url(#pe6fa651531)\" style=\"fill: none; stroke: #3f3f3f\"/>\n   </g>\n   <g id=\"line2d_68\">\n    <path d=\"M 489.502721 421.846653 \nL 510.509779 421.846653 \n\" clip-path=\"url(#pe6fa651531)\" style=\"fill: none; stroke: #3f3f3f; stroke-linecap: square\"/>\n   </g>\n   <g id=\"line2d_69\">\n    <path d=\"M 489.502721 325.910362 \nL 510.509779 325.910362 \n\" clip-path=\"url(#pe6fa651531)\" style=\"fill: none; stroke: #3f3f3f; stroke-linecap: square\"/>\n   </g>\n   <g id=\"line2d_70\"/>\n   <g id=\"patch_12\">\n    <path d=\"M 531.516838 407.470696 \nL 573.530956 407.470696 \nL 573.530956 369.92022 \nL 531.516838 369.92022 \nL 531.516838 407.470696 \nz\n\" clip-path=\"url(#pe6fa651531)\" style=\"fill: #3274a1; stroke: #3f3f3f; stroke-linejoin: miter\"/>\n   </g>\n   <g id=\"line2d_71\">\n    <path d=\"M 552.523897 407.470696 \nL 552.523897 421.808306 \n\" clip-path=\"url(#pe6fa651531)\" style=\"fill: none; stroke: #3f3f3f\"/>\n   </g>\n   <g id=\"line2d_72\">\n    <path d=\"M 552.523897 369.92022 \nL 552.523897 325.910362 \n\" clip-path=\"url(#pe6fa651531)\" style=\"fill: none; stroke: #3f3f3f\"/>\n   </g>\n   <g id=\"line2d_73\">\n    <path d=\"M 542.020368 421.808306 \nL 563.027426 421.808306 \n\" clip-path=\"url(#pe6fa651531)\" style=\"fill: none; stroke: #3f3f3f; stroke-linecap: square\"/>\n   </g>\n   <g id=\"line2d_74\">\n    <path d=\"M 542.020368 325.910362 \nL 563.027426 325.910362 \n\" clip-path=\"url(#pe6fa651531)\" style=\"fill: none; stroke: #3f3f3f; stroke-linecap: square\"/>\n   </g>\n   <g id=\"line2d_75\"/>\n   <g id=\"patch_13\">\n    <path d=\"M 584.034485 415.026169 \nL 626.048603 415.026169 \nL 626.048603 380.004481 \nL 584.034485 380.004481 \nL 584.034485 415.026169 \nz\n\" clip-path=\"url(#pe6fa651531)\" style=\"fill: #3274a1; stroke: #3f3f3f; stroke-linejoin: miter\"/>\n   </g>\n   <g id=\"line2d_76\">\n    <path d=\"M 605.041544 415.026169 \nL 605.041544 422.000042 \n\" clip-path=\"url(#pe6fa651531)\" style=\"fill: none; stroke: #3f3f3f\"/>\n   </g>\n   <g id=\"line2d_77\">\n    <path d=\"M 605.041544 380.004481 \nL 605.041544 329.448961 \n\" clip-path=\"url(#pe6fa651531)\" style=\"fill: none; stroke: #3f3f3f\"/>\n   </g>\n   <g id=\"line2d_78\">\n    <path d=\"M 594.538015 422.000042 \nL 615.545074 422.000042 \n\" clip-path=\"url(#pe6fa651531)\" style=\"fill: none; stroke: #3f3f3f; stroke-linecap: square\"/>\n   </g>\n   <g id=\"line2d_79\">\n    <path d=\"M 594.538015 329.448961 \nL 615.545074 329.448961 \n\" clip-path=\"url(#pe6fa651531)\" style=\"fill: none; stroke: #3f3f3f; stroke-linecap: square\"/>\n   </g>\n   <g id=\"line2d_80\"/>\n   <g id=\"patch_14\">\n    <path d=\"M 636.552132 414.094118 \nL 678.56625 414.094118 \nL 678.56625 393.858489 \nL 636.552132 393.858489 \nL 636.552132 414.094118 \nz\n\" clip-path=\"url(#pe6fa651531)\" style=\"fill: #3274a1; stroke: #3f3f3f; stroke-linejoin: miter\"/>\n   </g>\n   <g id=\"line2d_81\">\n    <path d=\"M 657.559191 414.094118 \nL 657.559191 427.882084 \n\" clip-path=\"url(#pe6fa651531)\" style=\"fill: none; stroke: #3f3f3f\"/>\n   </g>\n   <g id=\"line2d_82\">\n    <path d=\"M 657.559191 393.858489 \nL 657.559191 385.621287 \n\" clip-path=\"url(#pe6fa651531)\" style=\"fill: none; stroke: #3f3f3f\"/>\n   </g>\n   <g id=\"line2d_83\">\n    <path d=\"M 647.055662 427.882084 \nL 668.062721 427.882084 \n\" clip-path=\"url(#pe6fa651531)\" style=\"fill: none; stroke: #3f3f3f; stroke-linecap: square\"/>\n   </g>\n   <g id=\"line2d_84\">\n    <path d=\"M 647.055662 385.621287 \nL 668.062721 385.621287 \n\" clip-path=\"url(#pe6fa651531)\" style=\"fill: none; stroke: #3f3f3f; stroke-linecap: square\"/>\n   </g>\n   <g id=\"line2d_85\">\n    <defs>\n     <path id=\"m81ee8553db\" d=\"M 0 3 \nC 0.795609 3 1.55874 2.683901 2.12132 2.12132 \nC 2.683901 1.55874 3 0.795609 3 0 \nC 3 -0.795609 2.683901 -1.55874 2.12132 -2.12132 \nC 1.55874 -2.683901 0.795609 -3 0 -3 \nC -0.795609 -3 -1.55874 -2.683901 -2.12132 -2.12132 \nC -2.683901 -1.55874 -3 -0.795609 -3 0 \nC -3 0.795609 -2.683901 1.55874 -2.12132 2.12132 \nC -1.55874 2.683901 -0.795609 3 0 3 \nz\n\" style=\"stroke: #3f3f3f\"/>\n    </defs>\n    <g clip-path=\"url(#pe6fa651531)\">\n     <use xlink:href=\"#m81ee8553db\" x=\"657.559191\" y=\"292.737863\" style=\"fill-opacity: 0; stroke: #3f3f3f\"/>\n     <use xlink:href=\"#m81ee8553db\" x=\"657.559191\" y=\"344.265911\" style=\"fill-opacity: 0; stroke: #3f3f3f\"/>\n     <use xlink:href=\"#m81ee8553db\" x=\"657.559191\" y=\"270.624284\" style=\"fill-opacity: 0; stroke: #3f3f3f\"/>\n    </g>\n   </g>\n   <g id=\"patch_15\">\n    <path d=\"M 689.069779 421.658113 \nL 731.083897 421.658113 \nL 731.083897 393.858489 \nL 689.069779 393.858489 \nL 689.069779 421.658113 \nz\n\" clip-path=\"url(#pe6fa651531)\" style=\"fill: #3274a1; stroke: #3f3f3f; stroke-linejoin: miter\"/>\n   </g>\n   <g id=\"line2d_86\">\n    <path d=\"M 710.076838 421.658113 \nL 710.076838 426.422758 \n\" clip-path=\"url(#pe6fa651531)\" style=\"fill: none; stroke: #3f3f3f\"/>\n   </g>\n   <g id=\"line2d_87\">\n    <path d=\"M 710.076838 393.858489 \nL 710.076838 384.626389 \n\" clip-path=\"url(#pe6fa651531)\" style=\"fill: none; stroke: #3f3f3f\"/>\n   </g>\n   <g id=\"line2d_88\">\n    <path d=\"M 699.573309 426.422758 \nL 720.580368 426.422758 \n\" clip-path=\"url(#pe6fa651531)\" style=\"fill: none; stroke: #3f3f3f; stroke-linecap: square\"/>\n   </g>\n   <g id=\"line2d_89\">\n    <path d=\"M 699.573309 384.626389 \nL 720.580368 384.626389 \n\" clip-path=\"url(#pe6fa651531)\" style=\"fill: none; stroke: #3f3f3f; stroke-linecap: square\"/>\n   </g>\n   <g id=\"line2d_90\">\n    <g clip-path=\"url(#pe6fa651531)\">\n     <use xlink:href=\"#m81ee8553db\" x=\"710.076838\" y=\"292.737863\" style=\"fill-opacity: 0; stroke: #3f3f3f\"/>\n    </g>\n   </g>\n   <g id=\"patch_16\">\n    <path d=\"M 741.587426 423.305979 \nL 783.601544 423.305979 \nL 783.601544 410.412782 \nL 741.587426 410.412782 \nL 741.587426 423.305979 \nz\n\" clip-path=\"url(#pe6fa651531)\" style=\"fill: #3274a1; stroke: #3f3f3f; stroke-linejoin: miter\"/>\n   </g>\n   <g id=\"line2d_91\">\n    <path d=\"M 762.594485 423.305979 \nL 762.594485 427.351614 \n\" clip-path=\"url(#pe6fa651531)\" style=\"fill: none; stroke: #3f3f3f\"/>\n   </g>\n   <g id=\"line2d_92\">\n    <path d=\"M 762.594485 410.412782 \nL 762.594485 407.847778 \n\" clip-path=\"url(#pe6fa651531)\" style=\"fill: none; stroke: #3f3f3f\"/>\n   </g>\n   <g id=\"line2d_93\">\n    <path d=\"M 752.090956 427.351614 \nL 773.098015 427.351614 \n\" clip-path=\"url(#pe6fa651531)\" style=\"fill: none; stroke: #3f3f3f; stroke-linecap: square\"/>\n   </g>\n   <g id=\"line2d_94\">\n    <path d=\"M 752.090956 407.847778 \nL 773.098015 407.847778 \n\" clip-path=\"url(#pe6fa651531)\" style=\"fill: none; stroke: #3f3f3f; stroke-linecap: square\"/>\n   </g>\n   <g id=\"line2d_95\">\n    <g clip-path=\"url(#pe6fa651531)\">\n     <use xlink:href=\"#m81ee8553db\" x=\"762.594485\" y=\"338.515955\" style=\"fill-opacity: 0; stroke: #3f3f3f\"/>\n     <use xlink:href=\"#m81ee8553db\" x=\"762.594485\" y=\"292.737863\" style=\"fill-opacity: 0; stroke: #3f3f3f\"/>\n     <use xlink:href=\"#m81ee8553db\" x=\"762.594485\" y=\"384.958732\" style=\"fill-opacity: 0; stroke: #3f3f3f\"/>\n    </g>\n   </g>\n   <g id=\"patch_17\">\n    <path d=\"M 794.105074 423.813015 \nL 836.119191 423.813015 \nL 836.119191 395.683179 \nL 794.105074 395.683179 \nL 794.105074 423.813015 \nz\n\" clip-path=\"url(#pe6fa651531)\" style=\"fill: #3274a1; stroke: #3f3f3f; stroke-linejoin: miter\"/>\n   </g>\n   <g id=\"line2d_96\">\n    <path d=\"M 815.112132 423.813015 \nL 815.112132 428.103646 \n\" clip-path=\"url(#pe6fa651531)\" style=\"fill: none; stroke: #3f3f3f\"/>\n   </g>\n   <g id=\"line2d_97\">\n    <path d=\"M 815.112132 395.683179 \nL 815.112132 378.765651 \n\" clip-path=\"url(#pe6fa651531)\" style=\"fill: none; stroke: #3f3f3f\"/>\n   </g>\n   <g id=\"line2d_98\">\n    <path d=\"M 804.608603 428.103646 \nL 825.615662 428.103646 \n\" clip-path=\"url(#pe6fa651531)\" style=\"fill: none; stroke: #3f3f3f; stroke-linecap: square\"/>\n   </g>\n   <g id=\"line2d_99\">\n    <path d=\"M 804.608603 378.765651 \nL 825.615662 378.765651 \n\" clip-path=\"url(#pe6fa651531)\" style=\"fill: none; stroke: #3f3f3f; stroke-linecap: square\"/>\n   </g>\n   <g id=\"line2d_100\">\n    <g clip-path=\"url(#pe6fa651531)\">\n     <use xlink:href=\"#m81ee8553db\" x=\"815.112132\" y=\"329.448961\" style=\"fill-opacity: 0; stroke: #3f3f3f\"/>\n     <use xlink:href=\"#m81ee8553db\" x=\"815.112132\" y=\"311.093412\" style=\"fill-opacity: 0; stroke: #3f3f3f\"/>\n     <use xlink:href=\"#m81ee8553db\" x=\"815.112132\" y=\"311.093412\" style=\"fill-opacity: 0; stroke: #3f3f3f\"/>\n     <use xlink:href=\"#m81ee8553db\" x=\"815.112132\" y=\"338.515955\" style=\"fill-opacity: 0; stroke: #3f3f3f\"/>\n     <use xlink:href=\"#m81ee8553db\" x=\"815.112132\" y=\"292.737863\" style=\"fill-opacity: 0; stroke: #3f3f3f\"/>\n     <use xlink:href=\"#m81ee8553db\" x=\"815.112132\" y=\"237.451785\" style=\"fill-opacity: 0; stroke: #3f3f3f\"/>\n     <use xlink:href=\"#m81ee8553db\" x=\"815.112132\" y=\"27.36\" style=\"fill-opacity: 0; stroke: #3f3f3f\"/>\n     <use xlink:href=\"#m81ee8553db\" x=\"815.112132\" y=\"286.768475\" style=\"fill-opacity: 0; stroke: #3f3f3f\"/>\n     <use xlink:href=\"#m81ee8553db\" x=\"815.112132\" y=\"300.036623\" style=\"fill-opacity: 0; stroke: #3f3f3f\"/>\n    </g>\n   </g>\n   <g id=\"patch_18\">\n    <path d=\"M 846.622721 421.842392 \nL 888.636838 421.842392 \nL 888.636838 397.894537 \nL 846.622721 397.894537 \nL 846.622721 421.842392 \nz\n\" clip-path=\"url(#pe6fa651531)\" style=\"fill: #3274a1; stroke: #3f3f3f; stroke-linejoin: miter\"/>\n   </g>\n   <g id=\"line2d_101\">\n    <path d=\"M 867.629779 421.842392 \nL 867.629779 427.528437 \n\" clip-path=\"url(#pe6fa651531)\" style=\"fill: none; stroke: #3f3f3f\"/>\n   </g>\n   <g id=\"line2d_102\">\n    <path d=\"M 867.629779 397.894537 \nL 867.629779 366.381621 \n\" clip-path=\"url(#pe6fa651531)\" style=\"fill: none; stroke: #3f3f3f\"/>\n   </g>\n   <g id=\"line2d_103\">\n    <path d=\"M 857.12625 427.528437 \nL 878.133309 427.528437 \n\" clip-path=\"url(#pe6fa651531)\" style=\"fill: none; stroke: #3f3f3f; stroke-linecap: square\"/>\n   </g>\n   <g id=\"line2d_104\">\n    <path d=\"M 857.12625 366.381621 \nL 878.133309 366.381621 \n\" clip-path=\"url(#pe6fa651531)\" style=\"fill: none; stroke: #3f3f3f; stroke-linecap: square\"/>\n   </g>\n   <g id=\"line2d_105\">\n    <g clip-path=\"url(#pe6fa651531)\">\n     <use xlink:href=\"#m81ee8553db\" x=\"867.629779\" y=\"307.554813\" style=\"fill-opacity: 0; stroke: #3f3f3f\"/>\n     <use xlink:href=\"#m81ee8553db\" x=\"867.629779\" y=\"329.448961\" style=\"fill-opacity: 0; stroke: #3f3f3f\"/>\n     <use xlink:href=\"#m81ee8553db\" x=\"867.629779\" y=\"329.448961\" style=\"fill-opacity: 0; stroke: #3f3f3f\"/>\n     <use xlink:href=\"#m81ee8553db\" x=\"867.629779\" y=\"355.324831\" style=\"fill-opacity: 0; stroke: #3f3f3f\"/>\n     <use xlink:href=\"#m81ee8553db\" x=\"867.629779\" y=\"353.113474\" style=\"fill-opacity: 0; stroke: #3f3f3f\"/>\n     <use xlink:href=\"#m81ee8553db\" x=\"867.629779\" y=\"248.508574\" style=\"fill-opacity: 0; stroke: #3f3f3f\"/>\n    </g>\n   </g>\n   <g id=\"patch_19\">\n    <path d=\"M 899.140368 427.711119 \nL 941.154485 427.711119 \nL 941.154485 423.08495 \nL 899.140368 423.08495 \nL 899.140368 427.711119 \nz\n\" clip-path=\"url(#pe6fa651531)\" style=\"fill: #3274a1; stroke: #3f3f3f; stroke-linejoin: miter\"/>\n   </g>\n   <g id=\"line2d_106\">\n    <path d=\"M 920.147426 427.711119 \nL 920.147426 428.834374 \n\" clip-path=\"url(#pe6fa651531)\" style=\"fill: none; stroke: #3f3f3f\"/>\n   </g>\n   <g id=\"line2d_107\">\n    <path d=\"M 920.147426 423.08495 \nL 920.147426 419.258214 \n\" clip-path=\"url(#pe6fa651531)\" style=\"fill: none; stroke: #3f3f3f\"/>\n   </g>\n   <g id=\"line2d_108\">\n    <path d=\"M 909.643897 428.834374 \nL 930.650956 428.834374 \n\" clip-path=\"url(#pe6fa651531)\" style=\"fill: none; stroke: #3f3f3f; stroke-linecap: square\"/>\n   </g>\n   <g id=\"line2d_109\">\n    <path d=\"M 909.643897 419.258214 \nL 930.650956 419.258214 \n\" clip-path=\"url(#pe6fa651531)\" style=\"fill: none; stroke: #3f3f3f; stroke-linecap: square\"/>\n   </g>\n   <g id=\"line2d_110\"/>\n   <g id=\"line2d_111\">\n    <path d=\"M 58.858015 424.42231 \nL 100.872132 424.42231 \n\" clip-path=\"url(#pe6fa651531)\" style=\"fill: none; stroke: #3f3f3f\"/>\n   </g>\n   <g id=\"line2d_112\">\n    <path d=\"M 111.375662 78.888048 \nL 153.389779 78.888048 \n\" clip-path=\"url(#pe6fa651531)\" style=\"fill: none; stroke: #3f3f3f\"/>\n   </g>\n   <g id=\"line2d_113\">\n    <path d=\"M 163.893309 412.247059 \nL 205.907426 412.247059 \n\" clip-path=\"url(#pe6fa651531)\" style=\"fill: none; stroke: #3f3f3f\"/>\n   </g>\n   <g id=\"line2d_114\">\n    <path d=\"M 216.410956 416.858316 \nL 258.425074 416.858316 \n\" clip-path=\"url(#pe6fa651531)\" style=\"fill: none; stroke: #3f3f3f\"/>\n   </g>\n   <g id=\"line2d_115\">\n    <path d=\"M 268.928603 211.578045 \nL 310.942721 211.578045 \n\" clip-path=\"url(#pe6fa651531)\" style=\"fill: none; stroke: #3f3f3f\"/>\n   </g>\n   <g id=\"line2d_116\">\n    <path d=\"M 321.44625 407.470696 \nL 363.460368 407.470696 \n\" clip-path=\"url(#pe6fa651531)\" style=\"fill: none; stroke: #3f3f3f\"/>\n   </g>\n   <g id=\"line2d_117\">\n    <path d=\"M 373.963897 389.435773 \nL 415.978015 389.435773 \n\" clip-path=\"url(#pe6fa651531)\" style=\"fill: none; stroke: #3f3f3f\"/>\n   </g>\n   <g id=\"line2d_118\">\n    <path d=\"M 426.481544 306.284028 \nL 468.495662 306.284028 \n\" clip-path=\"url(#pe6fa651531)\" style=\"fill: none; stroke: #3f3f3f\"/>\n   </g>\n   <g id=\"line2d_119\">\n    <path d=\"M 478.999191 382.868807 \nL 521.013309 382.868807 \n\" clip-path=\"url(#pe6fa651531)\" style=\"fill: none; stroke: #3f3f3f\"/>\n   </g>\n   <g id=\"line2d_120\">\n    <path d=\"M 531.516838 403.047981 \nL 573.530956 403.047981 \n\" clip-path=\"url(#pe6fa651531)\" style=\"fill: none; stroke: #3f3f3f\"/>\n   </g>\n   <g id=\"line2d_121\">\n    <path d=\"M 584.034485 391.990126 \nL 626.048603 391.990126 \n\" clip-path=\"url(#pe6fa651531)\" style=\"fill: none; stroke: #3f3f3f\"/>\n   </g>\n   <g id=\"line2d_122\">\n    <path d=\"M 636.552132 407.470696 \nL 678.56625 407.470696 \n\" clip-path=\"url(#pe6fa651531)\" style=\"fill: none; stroke: #3f3f3f\"/>\n   </g>\n   <g id=\"line2d_123\">\n    <path d=\"M 689.069779 413.729819 \nL 731.083897 413.729819 \n\" clip-path=\"url(#pe6fa651531)\" style=\"fill: none; stroke: #3f3f3f\"/>\n   </g>\n   <g id=\"line2d_124\">\n    <path d=\"M 741.587426 417.046856 \nL 783.601544 417.046856 \n\" clip-path=\"url(#pe6fa651531)\" style=\"fill: none; stroke: #3f3f3f\"/>\n   </g>\n   <g id=\"line2d_125\">\n    <path d=\"M 794.105074 416.316128 \nL 836.119191 416.316128 \n\" clip-path=\"url(#pe6fa651531)\" style=\"fill: none; stroke: #3f3f3f\"/>\n   </g>\n   <g id=\"line2d_126\">\n    <path d=\"M 846.622721 415.941177 \nL 888.636838 415.941177 \n\" clip-path=\"url(#pe6fa651531)\" style=\"fill: none; stroke: #3f3f3f\"/>\n   </g>\n   <g id=\"line2d_127\">\n    <path d=\"M 899.140368 427.065075 \nL 941.154485 427.065075 \n\" clip-path=\"url(#pe6fa651531)\" style=\"fill: none; stroke: #3f3f3f\"/>\n   </g>\n   <g id=\"patch_20\">\n    <path d=\"M 53.60625 450.72 \nL 53.60625 7.2 \n\" style=\"fill: none; stroke: #000000; stroke-width: 0.8; stroke-linejoin: miter; stroke-linecap: square\"/>\n   </g>\n   <g id=\"patch_21\">\n    <path d=\"M 946.40625 450.72 \nL 946.40625 7.2 \n\" style=\"fill: none; stroke: #000000; stroke-width: 0.8; stroke-linejoin: miter; stroke-linecap: square\"/>\n   </g>\n   <g id=\"patch_22\">\n    <path d=\"M 53.60625 450.72 \nL 946.40625 450.72 \n\" style=\"fill: none; stroke: #000000; stroke-width: 0.8; stroke-linejoin: miter; stroke-linecap: square\"/>\n   </g>\n   <g id=\"patch_23\">\n    <path d=\"M 53.60625 7.2 \nL 946.40625 7.2 \n\" style=\"fill: none; stroke: #000000; stroke-width: 0.8; stroke-linejoin: miter; stroke-linecap: square\"/>\n   </g>\n  </g>\n </g>\n <defs>\n  <clipPath id=\"pe6fa651531\">\n   <rect x=\"53.60625\" y=\"7.2\" width=\"892.8\" height=\"443.52\"/>\n  </clipPath>\n </defs>\n</svg>\n"
          },
          "metadata": {}
        }
      ]
    },
    {
      "cell_type": "code",
      "source": [
        "# Berechnung der Korrelationsmatrix\n",
        "corr = df_products_raw.corr(numeric_only=True)\n",
        "\n",
        "# Auswahl der 4 Variablen mit der höchsten Korrelation zu 'price_usd'\n",
        "cols = corr.nlargest(4, 'price_usd')['price_usd'].index\n",
        "cm = np.corrcoef(df_products_raw[cols].values.T)\n",
        "\n",
        "# Heatmap erstellen\n",
        "f, ax = plt.subplots(figsize=(7, 4))  # Größe des Plots anpassen\n",
        "sns.set(font_scale=1.25)  # Schriftgröße anpassen\n",
        "\n",
        "# Blau-Weiße Farbpalette für die Heatmap\n",
        "hm = sns.heatmap(\n",
        "    cm,\n",
        "    cbar=True,\n",
        "    annot=True,  # Werte in den Zellen anzeigen\n",
        "    square=True,\n",
        "    fmt='.2f',  # Format der Werte auf zwei Nachkommastellen\n",
        "    annot_kws={'size': 10},  # Schriftgröße der Annotationen\n",
        "    yticklabels=cols.values,  # Y-Achsen-Beschriftung\n",
        "    xticklabels=cols.values,  # X-Achsen-Beschriftung\n",
        "    cmap=\"Blues\"  # Farbpalette auf Blau setzen\n",
        ")\n",
        "\n",
        "# Layout anpassen\n",
        "plt.tight_layout()\n",
        "\n",
        "# Zeige den Plot an\n",
        "plt.show()\n"
      ],
      "metadata": {
        "colab": {
          "base_uri": "https://localhost:8080/",
          "height": 382
        },
        "id": "282KEvZ1JTKZ",
        "outputId": "5fab2d61-d986-45c9-f9cb-c0976811ef2a"
      },
      "execution_count": 30,
      "outputs": [
        {
          "output_type": "display_data",
          "data": {
            "text/plain": [
              "<Figure size 700x400 with 2 Axes>"
            ],
            "image/svg+xml": "<?xml version=\"1.0\" encoding=\"utf-8\" standalone=\"no\"?>\n<!DOCTYPE svg PUBLIC \"-//W3C//DTD SVG 1.1//EN\"\n  \"http://www.w3.org/Graphics/SVG/1.1/DTD/svg11.dtd\">\n<svg xmlns:xlink=\"http://www.w3.org/1999/xlink\" width=\"330.972734pt\" height=\"269.598926pt\" viewBox=\"0 0 330.972734 269.598926\" xmlns=\"http://www.w3.org/2000/svg\" version=\"1.1\">\n <metadata>\n  <rdf:RDF xmlns:dc=\"http://purl.org/dc/elements/1.1/\" xmlns:cc=\"http://creativecommons.org/ns#\" xmlns:rdf=\"http://www.w3.org/1999/02/22-rdf-syntax-ns#\">\n   <cc:Work>\n    <dc:type rdf:resource=\"http://purl.org/dc/dcmitype/StillImage\"/>\n    <dc:date>2024-12-01T17:53:51.971380</dc:date>\n    <dc:format>image/svg+xml</dc:format>\n    <dc:creator>\n     <cc:Agent>\n      <dc:title>Matplotlib v3.8.0, https://matplotlib.org/</dc:title>\n     </cc:Agent>\n    </dc:creator>\n   </cc:Work>\n  </rdf:RDF>\n </metadata>\n <defs>\n  <style type=\"text/css\">*{stroke-linejoin: round; stroke-linecap: butt}</style>\n </defs>\n <g id=\"figure_1\">\n  <g id=\"patch_1\">\n   <path d=\"M 0 269.598926 \nL 330.972734 269.598926 \nL 330.972734 0 \nL 0 0 \nz\n\" style=\"fill: #ffffff\"/>\n  </g>\n  <g id=\"axes_1\">\n   <g id=\"patch_2\">\n    <path d=\"M 24.15625 245.442676 \nL 257.175 245.442676 \nL 257.175 12.423926 \nL 24.15625 12.423926 \nz\n\" style=\"fill: #ffffff\"/>\n   </g>\n   <g id=\"QuadMesh_1\">\n    <path d=\"M 24.15625 12.423926 \nL 101.829167 12.423926 \nL 101.829167 90.096842 \nL 24.15625 90.096842 \nL 24.15625 12.423926 \n\" clip-path=\"url(#p215d394904)\" style=\"fill: #08306b\"/>\n    <path d=\"M 101.829167 12.423926 \nL 179.502083 12.423926 \nL 179.502083 90.096842 \nL 101.829167 90.096842 \nL 101.829167 12.423926 \n\" clip-path=\"url(#p215d394904)\" style=\"fill: #08306b\"/>\n    <path d=\"M 179.502083 12.423926 \nL 257.175 12.423926 \nL 257.175 90.096842 \nL 179.502083 90.096842 \nL 179.502083 12.423926 \n\" clip-path=\"url(#p215d394904)\" style=\"fill: #f7fbff\"/>\n    <path d=\"M 24.15625 90.096842 \nL 101.829167 90.096842 \nL 101.829167 167.769759 \nL 24.15625 167.769759 \nL 24.15625 90.096842 \n\" clip-path=\"url(#p215d394904)\" style=\"fill: #08306b\"/>\n    <path d=\"M 101.829167 90.096842 \nL 179.502083 90.096842 \nL 179.502083 167.769759 \nL 101.829167 167.769759 \nL 101.829167 90.096842 \n\" clip-path=\"url(#p215d394904)\" style=\"fill: #08306b\"/>\n    <path d=\"M 179.502083 90.096842 \nL 257.175 90.096842 \nL 257.175 167.769759 \nL 179.502083 167.769759 \nL 179.502083 90.096842 \n\" clip-path=\"url(#p215d394904)\" style=\"fill: #f7fbff\"/>\n    <path d=\"M 24.15625 167.769759 \nL 101.829167 167.769759 \nL 101.829167 245.442676 \nL 24.15625 245.442676 \nL 24.15625 167.769759 \n\" clip-path=\"url(#p215d394904)\" style=\"fill: #f7fbff\"/>\n    <path d=\"M 101.829167 167.769759 \nL 179.502083 167.769759 \nL 179.502083 245.442676 \nL 101.829167 245.442676 \nL 101.829167 167.769759 \n\" clip-path=\"url(#p215d394904)\" style=\"fill: #f7fbff\"/>\n    <path d=\"M 179.502083 167.769759 \nL 257.175 167.769759 \nL 257.175 245.442676 \nL 179.502083 245.442676 \nL 179.502083 167.769759 \n\" clip-path=\"url(#p215d394904)\" style=\"fill: #08306b\"/>\n   </g>\n   <g id=\"matplotlib.axis_1\">\n    <g id=\"xtick_1\">\n     <g id=\"line2d_1\">\n      <defs>\n       <path id=\"m35400fe86d\" d=\"M 0 0 \nL 0 3.5 \n\" style=\"stroke: #000000; stroke-width: 0.8\"/>\n      </defs>\n      <g>\n       <use xlink:href=\"#m35400fe86d\" x=\"62.992708\" y=\"245.442676\" style=\"stroke: #000000; stroke-width: 0.8\"/>\n      </g>\n     </g>\n     <g id=\"text_1\">\n      <!-- price_usd -->\n      <g transform=\"translate(39.100521 260.041113) scale(0.1 -0.1)\">\n       <defs>\n        <path id=\"DejaVuSans-70\" d=\"M 1159 525 \nL 1159 -1331 \nL 581 -1331 \nL 581 3500 \nL 1159 3500 \nL 1159 2969 \nQ 1341 3281 1617 3432 \nQ 1894 3584 2278 3584 \nQ 2916 3584 3314 3078 \nQ 3713 2572 3713 1747 \nQ 3713 922 3314 415 \nQ 2916 -91 2278 -91 \nQ 1894 -91 1617 61 \nQ 1341 213 1159 525 \nz\nM 3116 1747 \nQ 3116 2381 2855 2742 \nQ 2594 3103 2138 3103 \nQ 1681 3103 1420 2742 \nQ 1159 2381 1159 1747 \nQ 1159 1113 1420 752 \nQ 1681 391 2138 391 \nQ 2594 391 2855 752 \nQ 3116 1113 3116 1747 \nz\n\" transform=\"scale(0.015625)\"/>\n        <path id=\"DejaVuSans-72\" d=\"M 2631 2963 \nQ 2534 3019 2420 3045 \nQ 2306 3072 2169 3072 \nQ 1681 3072 1420 2755 \nQ 1159 2438 1159 1844 \nL 1159 0 \nL 581 0 \nL 581 3500 \nL 1159 3500 \nL 1159 2956 \nQ 1341 3275 1631 3429 \nQ 1922 3584 2338 3584 \nQ 2397 3584 2469 3576 \nQ 2541 3569 2628 3553 \nL 2631 2963 \nz\n\" transform=\"scale(0.015625)\"/>\n        <path id=\"DejaVuSans-69\" d=\"M 603 3500 \nL 1178 3500 \nL 1178 0 \nL 603 0 \nL 603 3500 \nz\nM 603 4863 \nL 1178 4863 \nL 1178 4134 \nL 603 4134 \nL 603 4863 \nz\n\" transform=\"scale(0.015625)\"/>\n        <path id=\"DejaVuSans-63\" d=\"M 3122 3366 \nL 3122 2828 \nQ 2878 2963 2633 3030 \nQ 2388 3097 2138 3097 \nQ 1578 3097 1268 2742 \nQ 959 2388 959 1747 \nQ 959 1106 1268 751 \nQ 1578 397 2138 397 \nQ 2388 397 2633 464 \nQ 2878 531 3122 666 \nL 3122 134 \nQ 2881 22 2623 -34 \nQ 2366 -91 2075 -91 \nQ 1284 -91 818 406 \nQ 353 903 353 1747 \nQ 353 2603 823 3093 \nQ 1294 3584 2113 3584 \nQ 2378 3584 2631 3529 \nQ 2884 3475 3122 3366 \nz\n\" transform=\"scale(0.015625)\"/>\n        <path id=\"DejaVuSans-65\" d=\"M 3597 1894 \nL 3597 1613 \nL 953 1613 \nQ 991 1019 1311 708 \nQ 1631 397 2203 397 \nQ 2534 397 2845 478 \nQ 3156 559 3463 722 \nL 3463 178 \nQ 3153 47 2828 -22 \nQ 2503 -91 2169 -91 \nQ 1331 -91 842 396 \nQ 353 884 353 1716 \nQ 353 2575 817 3079 \nQ 1281 3584 2069 3584 \nQ 2775 3584 3186 3129 \nQ 3597 2675 3597 1894 \nz\nM 3022 2063 \nQ 3016 2534 2758 2815 \nQ 2500 3097 2075 3097 \nQ 1594 3097 1305 2825 \nQ 1016 2553 972 2059 \nL 3022 2063 \nz\n\" transform=\"scale(0.015625)\"/>\n        <path id=\"DejaVuSans-5f\" d=\"M 3263 -1063 \nL 3263 -1509 \nL -63 -1509 \nL -63 -1063 \nL 3263 -1063 \nz\n\" transform=\"scale(0.015625)\"/>\n        <path id=\"DejaVuSans-75\" d=\"M 544 1381 \nL 544 3500 \nL 1119 3500 \nL 1119 1403 \nQ 1119 906 1312 657 \nQ 1506 409 1894 409 \nQ 2359 409 2629 706 \nQ 2900 1003 2900 1516 \nL 2900 3500 \nL 3475 3500 \nL 3475 0 \nL 2900 0 \nL 2900 538 \nQ 2691 219 2414 64 \nQ 2138 -91 1772 -91 \nQ 1169 -91 856 284 \nQ 544 659 544 1381 \nz\nM 1991 3584 \nL 1991 3584 \nz\n\" transform=\"scale(0.015625)\"/>\n        <path id=\"DejaVuSans-73\" d=\"M 2834 3397 \nL 2834 2853 \nQ 2591 2978 2328 3040 \nQ 2066 3103 1784 3103 \nQ 1356 3103 1142 2972 \nQ 928 2841 928 2578 \nQ 928 2378 1081 2264 \nQ 1234 2150 1697 2047 \nL 1894 2003 \nQ 2506 1872 2764 1633 \nQ 3022 1394 3022 966 \nQ 3022 478 2636 193 \nQ 2250 -91 1575 -91 \nQ 1294 -91 989 -36 \nQ 684 19 347 128 \nL 347 722 \nQ 666 556 975 473 \nQ 1284 391 1588 391 \nQ 1994 391 2212 530 \nQ 2431 669 2431 922 \nQ 2431 1156 2273 1281 \nQ 2116 1406 1581 1522 \nL 1381 1569 \nQ 847 1681 609 1914 \nQ 372 2147 372 2553 \nQ 372 3047 722 3315 \nQ 1072 3584 1716 3584 \nQ 2034 3584 2315 3537 \nQ 2597 3491 2834 3397 \nz\n\" transform=\"scale(0.015625)\"/>\n        <path id=\"DejaVuSans-64\" d=\"M 2906 2969 \nL 2906 4863 \nL 3481 4863 \nL 3481 0 \nL 2906 0 \nL 2906 525 \nQ 2725 213 2448 61 \nQ 2172 -91 1784 -91 \nQ 1150 -91 751 415 \nQ 353 922 353 1747 \nQ 353 2572 751 3078 \nQ 1150 3584 1784 3584 \nQ 2172 3584 2448 3432 \nQ 2725 3281 2906 2969 \nz\nM 947 1747 \nQ 947 1113 1208 752 \nQ 1469 391 1925 391 \nQ 2381 391 2643 752 \nQ 2906 1113 2906 1747 \nQ 2906 2381 2643 2742 \nQ 2381 3103 1925 3103 \nQ 1469 3103 1208 2742 \nQ 947 2381 947 1747 \nz\n\" transform=\"scale(0.015625)\"/>\n       </defs>\n       <use xlink:href=\"#DejaVuSans-70\"/>\n       <use xlink:href=\"#DejaVuSans-72\" x=\"63.476562\"/>\n       <use xlink:href=\"#DejaVuSans-69\" x=\"104.589844\"/>\n       <use xlink:href=\"#DejaVuSans-63\" x=\"132.373047\"/>\n       <use xlink:href=\"#DejaVuSans-65\" x=\"187.353516\"/>\n       <use xlink:href=\"#DejaVuSans-5f\" x=\"248.876953\"/>\n       <use xlink:href=\"#DejaVuSans-75\" x=\"298.876953\"/>\n       <use xlink:href=\"#DejaVuSans-73\" x=\"362.255859\"/>\n       <use xlink:href=\"#DejaVuSans-64\" x=\"414.355469\"/>\n      </g>\n     </g>\n    </g>\n    <g id=\"xtick_2\">\n     <g id=\"line2d_2\">\n      <g>\n       <use xlink:href=\"#m35400fe86d\" x=\"140.665625\" y=\"245.442676\" style=\"stroke: #000000; stroke-width: 0.8\"/>\n      </g>\n     </g>\n     <g id=\"text_2\">\n      <!-- price_brl -->\n      <g transform=\"translate(119.102344 260.041113) scale(0.1 -0.1)\">\n       <defs>\n        <path id=\"DejaVuSans-62\" d=\"M 3116 1747 \nQ 3116 2381 2855 2742 \nQ 2594 3103 2138 3103 \nQ 1681 3103 1420 2742 \nQ 1159 2381 1159 1747 \nQ 1159 1113 1420 752 \nQ 1681 391 2138 391 \nQ 2594 391 2855 752 \nQ 3116 1113 3116 1747 \nz\nM 1159 2969 \nQ 1341 3281 1617 3432 \nQ 1894 3584 2278 3584 \nQ 2916 3584 3314 3078 \nQ 3713 2572 3713 1747 \nQ 3713 922 3314 415 \nQ 2916 -91 2278 -91 \nQ 1894 -91 1617 61 \nQ 1341 213 1159 525 \nL 1159 0 \nL 581 0 \nL 581 4863 \nL 1159 4863 \nL 1159 2969 \nz\n\" transform=\"scale(0.015625)\"/>\n        <path id=\"DejaVuSans-6c\" d=\"M 603 4863 \nL 1178 4863 \nL 1178 0 \nL 603 0 \nL 603 4863 \nz\n\" transform=\"scale(0.015625)\"/>\n       </defs>\n       <use xlink:href=\"#DejaVuSans-70\"/>\n       <use xlink:href=\"#DejaVuSans-72\" x=\"63.476562\"/>\n       <use xlink:href=\"#DejaVuSans-69\" x=\"104.589844\"/>\n       <use xlink:href=\"#DejaVuSans-63\" x=\"132.373047\"/>\n       <use xlink:href=\"#DejaVuSans-65\" x=\"187.353516\"/>\n       <use xlink:href=\"#DejaVuSans-5f\" x=\"248.876953\"/>\n       <use xlink:href=\"#DejaVuSans-62\" x=\"298.876953\"/>\n       <use xlink:href=\"#DejaVuSans-72\" x=\"362.353516\"/>\n       <use xlink:href=\"#DejaVuSans-6c\" x=\"403.466797\"/>\n      </g>\n     </g>\n    </g>\n    <g id=\"xtick_3\">\n     <g id=\"line2d_3\">\n      <g>\n       <use xlink:href=\"#m35400fe86d\" x=\"218.338542\" y=\"245.442676\" style=\"stroke: #000000; stroke-width: 0.8\"/>\n      </g>\n     </g>\n     <g id=\"text_3\">\n      <!-- vintage -->\n      <g transform=\"translate(199.546354 260.041113) scale(0.1 -0.1)\">\n       <defs>\n        <path id=\"DejaVuSans-76\" d=\"M 191 3500 \nL 800 3500 \nL 1894 563 \nL 2988 3500 \nL 3597 3500 \nL 2284 0 \nL 1503 0 \nL 191 3500 \nz\n\" transform=\"scale(0.015625)\"/>\n        <path id=\"DejaVuSans-6e\" d=\"M 3513 2113 \nL 3513 0 \nL 2938 0 \nL 2938 2094 \nQ 2938 2591 2744 2837 \nQ 2550 3084 2163 3084 \nQ 1697 3084 1428 2787 \nQ 1159 2491 1159 1978 \nL 1159 0 \nL 581 0 \nL 581 3500 \nL 1159 3500 \nL 1159 2956 \nQ 1366 3272 1645 3428 \nQ 1925 3584 2291 3584 \nQ 2894 3584 3203 3211 \nQ 3513 2838 3513 2113 \nz\n\" transform=\"scale(0.015625)\"/>\n        <path id=\"DejaVuSans-74\" d=\"M 1172 4494 \nL 1172 3500 \nL 2356 3500 \nL 2356 3053 \nL 1172 3053 \nL 1172 1153 \nQ 1172 725 1289 603 \nQ 1406 481 1766 481 \nL 2356 481 \nL 2356 0 \nL 1766 0 \nQ 1100 0 847 248 \nQ 594 497 594 1153 \nL 594 3053 \nL 172 3053 \nL 172 3500 \nL 594 3500 \nL 594 4494 \nL 1172 4494 \nz\n\" transform=\"scale(0.015625)\"/>\n        <path id=\"DejaVuSans-61\" d=\"M 2194 1759 \nQ 1497 1759 1228 1600 \nQ 959 1441 959 1056 \nQ 959 750 1161 570 \nQ 1363 391 1709 391 \nQ 2188 391 2477 730 \nQ 2766 1069 2766 1631 \nL 2766 1759 \nL 2194 1759 \nz\nM 3341 1997 \nL 3341 0 \nL 2766 0 \nL 2766 531 \nQ 2569 213 2275 61 \nQ 1981 -91 1556 -91 \nQ 1019 -91 701 211 \nQ 384 513 384 1019 \nQ 384 1609 779 1909 \nQ 1175 2209 1959 2209 \nL 2766 2209 \nL 2766 2266 \nQ 2766 2663 2505 2880 \nQ 2244 3097 1772 3097 \nQ 1472 3097 1187 3025 \nQ 903 2953 641 2809 \nL 641 3341 \nQ 956 3463 1253 3523 \nQ 1550 3584 1831 3584 \nQ 2591 3584 2966 3190 \nQ 3341 2797 3341 1997 \nz\n\" transform=\"scale(0.015625)\"/>\n        <path id=\"DejaVuSans-67\" d=\"M 2906 1791 \nQ 2906 2416 2648 2759 \nQ 2391 3103 1925 3103 \nQ 1463 3103 1205 2759 \nQ 947 2416 947 1791 \nQ 947 1169 1205 825 \nQ 1463 481 1925 481 \nQ 2391 481 2648 825 \nQ 2906 1169 2906 1791 \nz\nM 3481 434 \nQ 3481 -459 3084 -895 \nQ 2688 -1331 1869 -1331 \nQ 1566 -1331 1297 -1286 \nQ 1028 -1241 775 -1147 \nL 775 -588 \nQ 1028 -725 1275 -790 \nQ 1522 -856 1778 -856 \nQ 2344 -856 2625 -561 \nQ 2906 -266 2906 331 \nL 2906 616 \nQ 2728 306 2450 153 \nQ 2172 0 1784 0 \nQ 1141 0 747 490 \nQ 353 981 353 1791 \nQ 353 2603 747 3093 \nQ 1141 3584 1784 3584 \nQ 2172 3584 2450 3431 \nQ 2728 3278 2906 2969 \nL 2906 3500 \nL 3481 3500 \nL 3481 434 \nz\n\" transform=\"scale(0.015625)\"/>\n       </defs>\n       <use xlink:href=\"#DejaVuSans-76\"/>\n       <use xlink:href=\"#DejaVuSans-69\" x=\"59.179688\"/>\n       <use xlink:href=\"#DejaVuSans-6e\" x=\"86.962891\"/>\n       <use xlink:href=\"#DejaVuSans-74\" x=\"150.341797\"/>\n       <use xlink:href=\"#DejaVuSans-61\" x=\"189.550781\"/>\n       <use xlink:href=\"#DejaVuSans-67\" x=\"250.830078\"/>\n       <use xlink:href=\"#DejaVuSans-65\" x=\"314.306641\"/>\n      </g>\n     </g>\n    </g>\n   </g>\n   <g id=\"matplotlib.axis_2\">\n    <g id=\"ytick_1\">\n     <g id=\"line2d_4\">\n      <defs>\n       <path id=\"mbc15f1d3cd\" d=\"M 0 0 \nL -3.5 0 \n\" style=\"stroke: #000000; stroke-width: 0.8\"/>\n      </defs>\n      <g>\n       <use xlink:href=\"#mbc15f1d3cd\" x=\"24.15625\" y=\"51.260384\" style=\"stroke: #000000; stroke-width: 0.8\"/>\n      </g>\n     </g>\n     <g id=\"text_4\">\n      <!-- price_usd -->\n      <g transform=\"translate(14.798438 75.152572) rotate(-90) scale(0.1 -0.1)\">\n       <use xlink:href=\"#DejaVuSans-70\"/>\n       <use xlink:href=\"#DejaVuSans-72\" x=\"63.476562\"/>\n       <use xlink:href=\"#DejaVuSans-69\" x=\"104.589844\"/>\n       <use xlink:href=\"#DejaVuSans-63\" x=\"132.373047\"/>\n       <use xlink:href=\"#DejaVuSans-65\" x=\"187.353516\"/>\n       <use xlink:href=\"#DejaVuSans-5f\" x=\"248.876953\"/>\n       <use xlink:href=\"#DejaVuSans-75\" x=\"298.876953\"/>\n       <use xlink:href=\"#DejaVuSans-73\" x=\"362.255859\"/>\n       <use xlink:href=\"#DejaVuSans-64\" x=\"414.355469\"/>\n      </g>\n     </g>\n    </g>\n    <g id=\"ytick_2\">\n     <g id=\"line2d_5\">\n      <g>\n       <use xlink:href=\"#mbc15f1d3cd\" x=\"24.15625\" y=\"128.933301\" style=\"stroke: #000000; stroke-width: 0.8\"/>\n      </g>\n     </g>\n     <g id=\"text_5\">\n      <!-- price_brl -->\n      <g transform=\"translate(14.798438 150.496582) rotate(-90) scale(0.1 -0.1)\">\n       <use xlink:href=\"#DejaVuSans-70\"/>\n       <use xlink:href=\"#DejaVuSans-72\" x=\"63.476562\"/>\n       <use xlink:href=\"#DejaVuSans-69\" x=\"104.589844\"/>\n       <use xlink:href=\"#DejaVuSans-63\" x=\"132.373047\"/>\n       <use xlink:href=\"#DejaVuSans-65\" x=\"187.353516\"/>\n       <use xlink:href=\"#DejaVuSans-5f\" x=\"248.876953\"/>\n       <use xlink:href=\"#DejaVuSans-62\" x=\"298.876953\"/>\n       <use xlink:href=\"#DejaVuSans-72\" x=\"362.353516\"/>\n       <use xlink:href=\"#DejaVuSans-6c\" x=\"403.466797\"/>\n      </g>\n     </g>\n    </g>\n    <g id=\"ytick_3\">\n     <g id=\"line2d_6\">\n      <g>\n       <use xlink:href=\"#mbc15f1d3cd\" x=\"24.15625\" y=\"206.606217\" style=\"stroke: #000000; stroke-width: 0.8\"/>\n      </g>\n     </g>\n     <g id=\"text_6\">\n      <!-- vintage -->\n      <g transform=\"translate(15.076563 225.398405) rotate(-90) scale(0.1 -0.1)\">\n       <use xlink:href=\"#DejaVuSans-76\"/>\n       <use xlink:href=\"#DejaVuSans-69\" x=\"59.179688\"/>\n       <use xlink:href=\"#DejaVuSans-6e\" x=\"86.962891\"/>\n       <use xlink:href=\"#DejaVuSans-74\" x=\"150.341797\"/>\n       <use xlink:href=\"#DejaVuSans-61\" x=\"189.550781\"/>\n       <use xlink:href=\"#DejaVuSans-67\" x=\"250.830078\"/>\n       <use xlink:href=\"#DejaVuSans-65\" x=\"314.306641\"/>\n      </g>\n     </g>\n    </g>\n   </g>\n   <g id=\"text_7\">\n    <!-- 1.00 -->\n    <g style=\"fill: #ffffff\" transform=\"translate(51.859896 54.019759) scale(0.1 -0.1)\">\n     <defs>\n      <path id=\"DejaVuSans-31\" d=\"M 794 531 \nL 1825 531 \nL 1825 4091 \nL 703 3866 \nL 703 4441 \nL 1819 4666 \nL 2450 4666 \nL 2450 531 \nL 3481 531 \nL 3481 0 \nL 794 0 \nL 794 531 \nz\n\" transform=\"scale(0.015625)\"/>\n      <path id=\"DejaVuSans-2e\" d=\"M 684 794 \nL 1344 794 \nL 1344 0 \nL 684 0 \nL 684 794 \nz\n\" transform=\"scale(0.015625)\"/>\n      <path id=\"DejaVuSans-30\" d=\"M 2034 4250 \nQ 1547 4250 1301 3770 \nQ 1056 3291 1056 2328 \nQ 1056 1369 1301 889 \nQ 1547 409 2034 409 \nQ 2525 409 2770 889 \nQ 3016 1369 3016 2328 \nQ 3016 3291 2770 3770 \nQ 2525 4250 2034 4250 \nz\nM 2034 4750 \nQ 2819 4750 3233 4129 \nQ 3647 3509 3647 2328 \nQ 3647 1150 3233 529 \nQ 2819 -91 2034 -91 \nQ 1250 -91 836 529 \nQ 422 1150 422 2328 \nQ 422 3509 836 4129 \nQ 1250 4750 2034 4750 \nz\n\" transform=\"scale(0.015625)\"/>\n     </defs>\n     <use xlink:href=\"#DejaVuSans-31\"/>\n     <use xlink:href=\"#DejaVuSans-2e\" x=\"63.623047\"/>\n     <use xlink:href=\"#DejaVuSans-30\" x=\"95.410156\"/>\n     <use xlink:href=\"#DejaVuSans-30\" x=\"159.033203\"/>\n    </g>\n   </g>\n   <g id=\"text_8\">\n    <!-- 1.00 -->\n    <g style=\"fill: #ffffff\" transform=\"translate(129.532813 54.019759) scale(0.1 -0.1)\">\n     <use xlink:href=\"#DejaVuSans-31\"/>\n     <use xlink:href=\"#DejaVuSans-2e\" x=\"63.623047\"/>\n     <use xlink:href=\"#DejaVuSans-30\" x=\"95.410156\"/>\n     <use xlink:href=\"#DejaVuSans-30\" x=\"159.033203\"/>\n    </g>\n   </g>\n   <g id=\"text_9\">\n    <!-- 0.09 -->\n    <g style=\"fill: #262626\" transform=\"translate(207.205729 54.019759) scale(0.1 -0.1)\">\n     <defs>\n      <path id=\"DejaVuSans-39\" d=\"M 703 97 \nL 703 672 \nQ 941 559 1184 500 \nQ 1428 441 1663 441 \nQ 2288 441 2617 861 \nQ 2947 1281 2994 2138 \nQ 2813 1869 2534 1725 \nQ 2256 1581 1919 1581 \nQ 1219 1581 811 2004 \nQ 403 2428 403 3163 \nQ 403 3881 828 4315 \nQ 1253 4750 1959 4750 \nQ 2769 4750 3195 4129 \nQ 3622 3509 3622 2328 \nQ 3622 1225 3098 567 \nQ 2575 -91 1691 -91 \nQ 1453 -91 1209 -44 \nQ 966 3 703 97 \nz\nM 1959 2075 \nQ 2384 2075 2632 2365 \nQ 2881 2656 2881 3163 \nQ 2881 3666 2632 3958 \nQ 2384 4250 1959 4250 \nQ 1534 4250 1286 3958 \nQ 1038 3666 1038 3163 \nQ 1038 2656 1286 2365 \nQ 1534 2075 1959 2075 \nz\n\" transform=\"scale(0.015625)\"/>\n     </defs>\n     <use xlink:href=\"#DejaVuSans-30\"/>\n     <use xlink:href=\"#DejaVuSans-2e\" x=\"63.623047\"/>\n     <use xlink:href=\"#DejaVuSans-30\" x=\"95.410156\"/>\n     <use xlink:href=\"#DejaVuSans-39\" x=\"159.033203\"/>\n    </g>\n   </g>\n   <g id=\"text_10\">\n    <!-- 1.00 -->\n    <g style=\"fill: #ffffff\" transform=\"translate(51.859896 131.692676) scale(0.1 -0.1)\">\n     <use xlink:href=\"#DejaVuSans-31\"/>\n     <use xlink:href=\"#DejaVuSans-2e\" x=\"63.623047\"/>\n     <use xlink:href=\"#DejaVuSans-30\" x=\"95.410156\"/>\n     <use xlink:href=\"#DejaVuSans-30\" x=\"159.033203\"/>\n    </g>\n   </g>\n   <g id=\"text_11\">\n    <!-- 1.00 -->\n    <g style=\"fill: #ffffff\" transform=\"translate(129.532813 131.692676) scale(0.1 -0.1)\">\n     <use xlink:href=\"#DejaVuSans-31\"/>\n     <use xlink:href=\"#DejaVuSans-2e\" x=\"63.623047\"/>\n     <use xlink:href=\"#DejaVuSans-30\" x=\"95.410156\"/>\n     <use xlink:href=\"#DejaVuSans-30\" x=\"159.033203\"/>\n    </g>\n   </g>\n   <g id=\"text_12\">\n    <!-- 0.09 -->\n    <g style=\"fill: #262626\" transform=\"translate(207.205729 131.692676) scale(0.1 -0.1)\">\n     <use xlink:href=\"#DejaVuSans-30\"/>\n     <use xlink:href=\"#DejaVuSans-2e\" x=\"63.623047\"/>\n     <use xlink:href=\"#DejaVuSans-30\" x=\"95.410156\"/>\n     <use xlink:href=\"#DejaVuSans-39\" x=\"159.033203\"/>\n    </g>\n   </g>\n   <g id=\"text_13\">\n    <!-- 0.09 -->\n    <g style=\"fill: #262626\" transform=\"translate(51.859896 209.365592) scale(0.1 -0.1)\">\n     <use xlink:href=\"#DejaVuSans-30\"/>\n     <use xlink:href=\"#DejaVuSans-2e\" x=\"63.623047\"/>\n     <use xlink:href=\"#DejaVuSans-30\" x=\"95.410156\"/>\n     <use xlink:href=\"#DejaVuSans-39\" x=\"159.033203\"/>\n    </g>\n   </g>\n   <g id=\"text_14\">\n    <!-- 0.09 -->\n    <g style=\"fill: #262626\" transform=\"translate(129.532813 209.365592) scale(0.1 -0.1)\">\n     <use xlink:href=\"#DejaVuSans-30\"/>\n     <use xlink:href=\"#DejaVuSans-2e\" x=\"63.623047\"/>\n     <use xlink:href=\"#DejaVuSans-30\" x=\"95.410156\"/>\n     <use xlink:href=\"#DejaVuSans-39\" x=\"159.033203\"/>\n    </g>\n   </g>\n   <g id=\"text_15\">\n    <!-- 1.00 -->\n    <g style=\"fill: #ffffff\" transform=\"translate(207.205729 209.365592) scale(0.1 -0.1)\">\n     <use xlink:href=\"#DejaVuSans-31\"/>\n     <use xlink:href=\"#DejaVuSans-2e\" x=\"63.623047\"/>\n     <use xlink:href=\"#DejaVuSans-30\" x=\"95.410156\"/>\n     <use xlink:href=\"#DejaVuSans-30\" x=\"159.033203\"/>\n    </g>\n   </g>\n  </g>\n  <g id=\"axes_2\">\n   <g id=\"patch_3\">\n    <path d=\"M 280.755 245.442676 \nL 292.405937 245.442676 \nL 292.405937 12.423926 \nL 280.755 12.423926 \nz\n\" style=\"fill: #eaeaf2\"/>\n   </g>\n   <g id=\"matplotlib.axis_3\"/>\n   <g id=\"matplotlib.axis_4\">\n    <g id=\"ytick_4\">\n     <g id=\"line2d_7\">\n      <defs>\n       <path id=\"m469dbb0a1e\" d=\"M 0 0 \nL 6 0 \n\" style=\"stroke: #262626; stroke-width: 1.25\"/>\n      </defs>\n      <g>\n       <use xlink:href=\"#m469dbb0a1e\" x=\"292.405937\" y=\"216.50774\" style=\"fill: #262626; stroke: #262626; stroke-width: 1.25\"/>\n      </g>\n     </g>\n     <g id=\"text_16\">\n      <!-- 0.2 -->\n      <g style=\"fill: #262626\" transform=\"translate(301.905937 221.731666) scale(0.1375 -0.1375)\">\n       <defs>\n        <path id=\"DejaVuSans-32\" d=\"M 1228 531 \nL 3431 531 \nL 3431 0 \nL 469 0 \nL 469 531 \nQ 828 903 1448 1529 \nQ 2069 2156 2228 2338 \nQ 2531 2678 2651 2914 \nQ 2772 3150 2772 3378 \nQ 2772 3750 2511 3984 \nQ 2250 4219 1831 4219 \nQ 1534 4219 1204 4116 \nQ 875 4013 500 3803 \nL 500 4441 \nQ 881 4594 1212 4672 \nQ 1544 4750 1819 4750 \nQ 2544 4750 2975 4387 \nQ 3406 4025 3406 3419 \nQ 3406 3131 3298 2873 \nQ 3191 2616 2906 2266 \nQ 2828 2175 2409 1742 \nQ 1991 1309 1228 531 \nz\n\" transform=\"scale(0.015625)\"/>\n       </defs>\n       <use xlink:href=\"#DejaVuSans-30\"/>\n       <use xlink:href=\"#DejaVuSans-2e\" x=\"63.623047\"/>\n       <use xlink:href=\"#DejaVuSans-32\" x=\"95.410156\"/>\n      </g>\n     </g>\n    </g>\n    <g id=\"ytick_5\">\n     <g id=\"line2d_8\">\n      <g>\n       <use xlink:href=\"#m469dbb0a1e\" x=\"292.405937\" y=\"165.486787\" style=\"fill: #262626; stroke: #262626; stroke-width: 1.25\"/>\n      </g>\n     </g>\n     <g id=\"text_17\">\n      <!-- 0.4 -->\n      <g style=\"fill: #262626\" transform=\"translate(301.905937 170.710712) scale(0.1375 -0.1375)\">\n       <defs>\n        <path id=\"DejaVuSans-34\" d=\"M 2419 4116 \nL 825 1625 \nL 2419 1625 \nL 2419 4116 \nz\nM 2253 4666 \nL 3047 4666 \nL 3047 1625 \nL 3713 1625 \nL 3713 1100 \nL 3047 1100 \nL 3047 0 \nL 2419 0 \nL 2419 1100 \nL 313 1100 \nL 313 1709 \nL 2253 4666 \nz\n\" transform=\"scale(0.015625)\"/>\n       </defs>\n       <use xlink:href=\"#DejaVuSans-30\"/>\n       <use xlink:href=\"#DejaVuSans-2e\" x=\"63.623047\"/>\n       <use xlink:href=\"#DejaVuSans-34\" x=\"95.410156\"/>\n      </g>\n     </g>\n    </g>\n    <g id=\"ytick_6\">\n     <g id=\"line2d_9\">\n      <g>\n       <use xlink:href=\"#m469dbb0a1e\" x=\"292.405937\" y=\"114.465833\" style=\"fill: #262626; stroke: #262626; stroke-width: 1.25\"/>\n      </g>\n     </g>\n     <g id=\"text_18\">\n      <!-- 0.6 -->\n      <g style=\"fill: #262626\" transform=\"translate(301.905937 119.689759) scale(0.1375 -0.1375)\">\n       <defs>\n        <path id=\"DejaVuSans-36\" d=\"M 2113 2584 \nQ 1688 2584 1439 2293 \nQ 1191 2003 1191 1497 \nQ 1191 994 1439 701 \nQ 1688 409 2113 409 \nQ 2538 409 2786 701 \nQ 3034 994 3034 1497 \nQ 3034 2003 2786 2293 \nQ 2538 2584 2113 2584 \nz\nM 3366 4563 \nL 3366 3988 \nQ 3128 4100 2886 4159 \nQ 2644 4219 2406 4219 \nQ 1781 4219 1451 3797 \nQ 1122 3375 1075 2522 \nQ 1259 2794 1537 2939 \nQ 1816 3084 2150 3084 \nQ 2853 3084 3261 2657 \nQ 3669 2231 3669 1497 \nQ 3669 778 3244 343 \nQ 2819 -91 2113 -91 \nQ 1303 -91 875 529 \nQ 447 1150 447 2328 \nQ 447 3434 972 4092 \nQ 1497 4750 2381 4750 \nQ 2619 4750 2861 4703 \nQ 3103 4656 3366 4563 \nz\n\" transform=\"scale(0.015625)\"/>\n       </defs>\n       <use xlink:href=\"#DejaVuSans-30\"/>\n       <use xlink:href=\"#DejaVuSans-2e\" x=\"63.623047\"/>\n       <use xlink:href=\"#DejaVuSans-36\" x=\"95.410156\"/>\n      </g>\n     </g>\n    </g>\n    <g id=\"ytick_7\">\n     <g id=\"line2d_10\">\n      <g>\n       <use xlink:href=\"#m469dbb0a1e\" x=\"292.405937\" y=\"63.444879\" style=\"fill: #262626; stroke: #262626; stroke-width: 1.25\"/>\n      </g>\n     </g>\n     <g id=\"text_19\">\n      <!-- 0.8 -->\n      <g style=\"fill: #262626\" transform=\"translate(301.905937 68.668805) scale(0.1375 -0.1375)\">\n       <defs>\n        <path id=\"DejaVuSans-38\" d=\"M 2034 2216 \nQ 1584 2216 1326 1975 \nQ 1069 1734 1069 1313 \nQ 1069 891 1326 650 \nQ 1584 409 2034 409 \nQ 2484 409 2743 651 \nQ 3003 894 3003 1313 \nQ 3003 1734 2745 1975 \nQ 2488 2216 2034 2216 \nz\nM 1403 2484 \nQ 997 2584 770 2862 \nQ 544 3141 544 3541 \nQ 544 4100 942 4425 \nQ 1341 4750 2034 4750 \nQ 2731 4750 3128 4425 \nQ 3525 4100 3525 3541 \nQ 3525 3141 3298 2862 \nQ 3072 2584 2669 2484 \nQ 3125 2378 3379 2068 \nQ 3634 1759 3634 1313 \nQ 3634 634 3220 271 \nQ 2806 -91 2034 -91 \nQ 1263 -91 848 271 \nQ 434 634 434 1313 \nQ 434 1759 690 2068 \nQ 947 2378 1403 2484 \nz\nM 1172 3481 \nQ 1172 3119 1398 2916 \nQ 1625 2713 2034 2713 \nQ 2441 2713 2670 2916 \nQ 2900 3119 2900 3481 \nQ 2900 3844 2670 4047 \nQ 2441 4250 2034 4250 \nQ 1625 4250 1398 4047 \nQ 1172 3844 1172 3481 \nz\n\" transform=\"scale(0.015625)\"/>\n       </defs>\n       <use xlink:href=\"#DejaVuSans-30\"/>\n       <use xlink:href=\"#DejaVuSans-2e\" x=\"63.623047\"/>\n       <use xlink:href=\"#DejaVuSans-38\" x=\"95.410156\"/>\n      </g>\n     </g>\n    </g>\n    <g id=\"ytick_8\">\n     <g id=\"line2d_11\">\n      <g>\n       <use xlink:href=\"#m469dbb0a1e\" x=\"292.405937\" y=\"12.423926\" style=\"fill: #262626; stroke: #262626; stroke-width: 1.25\"/>\n      </g>\n     </g>\n     <g id=\"text_20\">\n      <!-- 1.0 -->\n      <g style=\"fill: #262626\" transform=\"translate(301.905937 17.647852) scale(0.1375 -0.1375)\">\n       <use xlink:href=\"#DejaVuSans-31\"/>\n       <use xlink:href=\"#DejaVuSans-2e\" x=\"63.623047\"/>\n       <use xlink:href=\"#DejaVuSans-30\" x=\"95.410156\"/>\n      </g>\n     </g>\n    </g>\n   </g>\n   <image xlink:href=\"data:image/png;base64,\niVBORw0KGgoAAAANSUhEUgAAABAAAAFDCAYAAAAzno6MAAABZUlEQVR4nO2bQW7EMAwD2cL//24PBZI9ZH9AAWSEyd0CNRZlOUF+/v7vW8ZzvOXSueVFOOZ6/XrLpWMKAKJ2QHQV2BAHdiENsSIFM4BrJiAC8QkQVyAgbuiJA2ZyA6TPxvyMBEQgPgqACEQgfhV4T8WAAUQgAlEVEC+TIm1dOle8EoG4A6LL4EozKLi9r4DoPRMQXTunFVR8YwFi3Av5EWeHG80A7i4UVKJdSP6IE59Q8mejC7HhzpRmUHAu2Cnk7wv5SqSl7bCzt34HA1pankFBJdop5HtivqVtgOgJaIAYt3PBgAHEijcYCyDmO9L7IebvTAvOxnhHKoD4fjMVQIynMKEg3dIaGIQVABE3jigAIm6cUXCZQxIQqcSRAA0/A6UZFEC0U3j/LgBxB8T4LmxgAMQNAThcKyDGzbQBonyI3sdzW8EEg3AKEwq8ABQSEDsUrIBovgaqgEghxVPIKwAiECXpA5klG0Js1BYxAAAAAElFTkSuQmCC\" id=\"imagefa0572fab9\" transform=\"scale(1 -1) translate(0 -232.56)\" x=\"280.8\" y=\"-12.24\" width=\"11.52\" height=\"232.56\"/>\n   <g id=\"LineCollection_1\"/>\n   <g id=\"patch_4\">\n    <path d=\"M 280.755 245.442676 \nL 286.580469 245.442676 \nL 292.405937 245.442676 \nL 292.405937 12.423926 \nL 286.580469 12.423926 \nL 280.755 12.423926 \nL 280.755 245.442676 \nz\n\" style=\"fill: none\"/>\n   </g>\n  </g>\n </g>\n <defs>\n  <clipPath id=\"p215d394904\">\n   <rect x=\"24.15625\" y=\"12.423926\" width=\"233.01875\" height=\"233.01875\"/>\n  </clipPath>\n </defs>\n</svg>\n"
          },
          "metadata": {}
        }
      ]
    },
    {
      "cell_type": "markdown",
      "source": [
        "No relatório gerado acima percebe-se que:\n",
        "- o conjunto é formado por 219 registros e 9 atributos\n",
        "- pelas primeiras e últimas entradas do dataset ele parece estar bem preenchido e sem anormalidades\n",
        "- não há dados ausentes\n",
        "- não há dados duplicados\n",
        "- existe 1 coluna numérica e as demais são categóricas, o que merece um checagem uma vez que por ter variáveis de preço elas podem não estar no tipo de variável correta\n",
        "- foram detectados 4 atributos com alta cardinalidade, ou seja, com muitos valores distintos, o que é condizente com os atributos em questão (`name`, `producer`, `price_brl` e `price_usd`)\n",
        "- foram detectas correlações fortes entre `item_id` e `producer`, `country` e `item_id`, `region` e `item_id`, `vintage` e `kind`, `producer` e `kind`\n",
        "- as variáveis `item_id`, `vintage`, `price_brl` e `price_usd` estão como tipo `string` mas não é o tipo mais adequado para elas\n",
        "- na variável `country` temos ao todo 6 países diferentes, onde a França representa 70% do conjunto, seguido pela Itália com 10% e Espanha com 8%\n",
        "- na variável `region` temos Burgundy representando 32% do conjunto, seguido por Bordeaux 21% e Rhone 6%\n",
        "- na variável `vintage` temos ao todo 17 safras diferentes, sendo a safra de 2018 representando 30% do conjunto, seguido por 2017 com 22%, e tanto 2015 como 2014, cada um com 8.7% de representação\n",
        "- ainda sobre o atributo `vintage` nota-se a presença do acrônimo NV que significa _Non-Vintage_, será necessário alterar esse valor para 0 para poder alterar todo o atributo em tipo `int`.\n",
        "- na variável `kind` temos o vinho tinto representando 60% do conjunto, seguido pelo branco com 31.5% e o espumante com 4.6%\n",
        "- na variável `producer` temos ao todo 58 produtores diferentes, sendo o mais presente nesse conjunto o Domaine Ponsot com 5.5%, seguido por La Chablisienne com 4.6% e Domaine Matrot com 4.1%"
      ],
      "metadata": {
        "id": "dPBFwEFHTsxk"
      }
    },
    {
      "cell_type": "markdown",
      "source": [
        "\n",
        "# **Jetzt, da wir das Problem und unseren Lagerbestand besser verstanden haben, ist es an der Zeit, einen Blick auf die Verkaufsdaten zu werfen.**"
      ],
      "metadata": {
        "id": "XY9scHN19h55"
      }
    }
  ]
}
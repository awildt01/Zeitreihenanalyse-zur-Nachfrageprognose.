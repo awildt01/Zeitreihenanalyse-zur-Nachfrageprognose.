{
  "nbformat": 4,
  "nbformat_minor": 0,
  "metadata": {
    "colab": {
      "provenance": [],
      "toc_visible": true,
      "authorship_tag": "ABX9TyMPZIJrYBPbV5KMdnXc32hk",
      "include_colab_link": true
    },
    "kernelspec": {
      "name": "python3",
      "display_name": "Python 3"
    },
    "language_info": {
      "name": "python"
    }
  },
  "cells": [
    {
      "cell_type": "markdown",
      "metadata": {
        "id": "view-in-github",
        "colab_type": "text"
      },
      "source": [
        "<a href=\"https://colab.research.google.com/github/awildt01/Zeitreihenanalyse-zur-Nachfrageprognose./blob/main/Zeitreihenanalyse_zur_Nachfrageprognose.ipynb\" target=\"_parent\"><img src=\"https://colab.research.google.com/assets/colab-badge.svg\" alt=\"Open In Colab\"/></a>"
      ]
    },
    {
      "cell_type": "markdown",
      "source": [
        "#Über das Projekt"
      ],
      "metadata": {
        "id": "uzEvYPXBreRJ"
      }
    },
    {
      "cell_type": "markdown",
      "source": [
        "<p align=center>\n",
        "<img src=\"https://www.slimstock.com/wp-content/uploads/2023/04/demand-forecasting-cartoon-magnifying.webp\" width=\"70%\"></p>"
      ],
      "metadata": {
        "id": "A_GRh_dksoyp"
      }
    },
    {
      "cell_type": "markdown",
      "source": [
        "<div>\n",
        "  <a href = \"https://github.com/raffaloffredo/data_science_portfolio\"><img src=\"https://img.shields.io/badge/GitHub-100000?style=for-the-badge&logo=github&logoColor=white\" target=\"_blank\"></a>\n",
        "  <a href=\"https://www.linkedin.com/in/raffaela-loffredo/?locale=en_US\" target=\"_blank\"><img src=\"https://img.shields.io/badge/-LinkedIn-%230077B5?style=for-the-badge&logo=linkedin&logoColor=white\" target=\"_blank\"></a>\n",
        "  <a href=\"https://sites.google.com/view/loffredo/\" target=\"_blank\"><img src=\"\thttps://img.shields.io/badge/website-000000?style=for-the-badge&logo=About.me&logoColor=white\" target=\"_blank\"></a>\n",
        "  <a href=\"https://instagram.com/loffredo.ds\" target=\"_blank\"><img src=\"https://img.shields.io/badge/-Instagram-%23E4405F?style=for-the-badge&logo=instagram&logoColor=white\" target=\"_blank\"></a>\n",
        "  <a href=\"https://medium.com/@loffredo.ds\" target=\"_blank\"><img src=\"https://img.shields.io/badge/Medium-12100E?style=for-the-badge&logo=medium&logoColor=white\"></a>\n",
        "</div>"
      ],
      "metadata": {
        "id": "zEZG-_hLgGNA"
      }
    },
    {
      "cell_type": "markdown",
      "source": [
        "## Nachfrageprognose"
      ],
      "metadata": {
        "id": "uq5k-IiJt3za"
      }
    },
    {
      "cell_type": "markdown",
      "source": [
        "Nachfrageprognose (Demand Forecasting) ist ein zentraler Bereich der Datenanalyse und besonders relevant für das Management von Lagerbeständen Sie hilft Unternehmen, die zukünftige Nachfrage nach ihren Produkten vorherzusagen und damit die Lieferkette sowie Bestandsverwaltung effizient zu gestalten. Das Ziel ist es, Engpässe zu vermeiden, die Lagerhaltungskosten zu optimieren und letztendlich die Kundenzufriedenheit zu verbessern."
      ],
      "metadata": {
        "id": "De3Pw6NCuU9t"
      }
    },
    {
      "cell_type": "markdown",
      "source": [
        "In dieser Studie basieren wir auf den Anforderungen, [echten Stellenangebot, das auf LinkedIn veröffentlicht wurde](https://www.linkedin.com/jobs/view/2435754417). Der Vertrag umfasste die Präsentation einer Lösung zur Umsatzprognose, die das Lagermanagement des Unternehmens unterstützen soll. Es wird auch darauf hingewiesen, dass die besonderen Herausforderungen der Weinbranche berücksichtigt werden.\n",
        "<br/>\n",
        "<br/>\n",
        "\n",
        "<p align=center>\n",
        "<img src=\"https://github.com/rafaelnduarte/sigmoidal_data/blob/master/Screen%20Shot%202021-04-01%20at%2012.04.22.png?raw=true\" width=\"70%\"></p>\n",
        "<br/>"
      ],
      "metadata": {
        "id": "utYkzvbH1a9c"
      }
    },
    {
      "cell_type": "markdown",
      "source": [
        "## Bedeutung der Nachfrageprognose im Einzelhandel"
      ],
      "metadata": {
        "id": "nltjGxNR4g4k"
      }
    },
    {
      "cell_type": "markdown",
      "source": [
        "Im Einzelhandel, insbesondere für Produkte wie Wein, ist es entscheidend, die Nachfrage genau zu prognostizieren, da Wein eine begrenzte Haltbarkeit und hohe Lagerkosten haben kann. Fehlerhafte Prognosen können zu Über- oder Unterbeständen führen, die entweder zu Lagerkosten oder zu verpassten Verkaufschancen führen. Eine genaue Nachfrageprognose kann helfen:\n",
        "\n",
        "- **Lagerhaltung zu optimieren:** Unternehmen können ihre Bestände effizient verwalten und vermeiden Überbestände oder Ausverkäufe.\n",
        "- **Lieferkettenprozesse zu verbessern:** Unternehmen können rechtzeitig Nachbestellungen durchführen, um Engpässe zu vermeiden.\n",
        "- **Verkaufsaktionen zu planen:** Wenn die Prognosen auf einen Anstieg der Nachfrage hinweisen, können gezielte Marketingaktionen vorbereitet werden."
      ],
      "metadata": {
        "id": "zx-HkJuG4m_0"
      }
    },
    {
      "cell_type": "markdown",
      "source": [
        "## Herausforderung der Nachfrageprognose im Weinmarkt"
      ],
      "metadata": {
        "id": "evn1gxMl8A_N"
      }
    },
    {
      "cell_type": "markdown",
      "source": [
        "Die Weinbranche ist einzigartig, da die Nachfrage durch Faktoren wie Bewertungen, Jahrgänge und sogar Wettereinflüsse beeinflusst wird. Zudem kann die Nachfrage volatil sein, da seltene oder spezielle Weine eine unregelmäßige Nachfrage aufweisen können. Solche Variablen erhöhen die Komplexität, weshalb maschinelles Lernen und Deep Learning hier wertvoll sein können.\n",
        "\n",
        "Weinbestände unterliegen spezifischen Einflüssen, wie etwa saisonaler Nachfrage zu Feiertagen, Kundenpräferenzen nach Jahrgang oder Weinart sowie äußeren Faktoren wie Wetterbedingungen. Diese Variablen lassen sich in maschinelle Lernmodelle integrieren, um die Prognosegenauigkeit weiter zu verbessern."
      ],
      "metadata": {
        "id": "03HaHHQe8Iz1"
      }
    },
    {
      "cell_type": "markdown",
      "source": [
        "# Ziel"
      ],
      "metadata": {
        "id": "iqIk1BR5_dEE"
      }
    },
    {
      "cell_type": "markdown",
      "source": [
        "Im Wesentlichen entwickelt das Unternehmen eine auf maschinellem Lernen basierende Lösung, um Weinhandlungen dabei zu helfen, ihre Bestände besser zu verwalten. Dazu gehört ein Modell, das die Nachfrage auf der Grundlage historischer Verkaufsdaten prognostiziert.\n",
        "\n",
        "Ihr spezifischer Bedarf besteht darin, den Teil der Verkaufsprognose zu verfeinern, der die einzigartigen Herausforderungen der Weinwelt und die spezifischen Anforderungen ihres Produkts berücksichtigt."
      ],
      "metadata": {
        "id": "T7orDSMLD3V7"
      }
    },
    {
      "cell_type": "markdown",
      "source": [
        "Entwickelt einen auf maschinellem Lernen basierenden Algorithmus, um die Nachfrage nach Wein in einem auf dieses Produkt spezialisierten Geschäft vorherzusagen."
      ],
      "metadata": {
        "id": "D5wUVHht95eq"
      }
    },
    {
      "cell_type": "markdown",
      "source": [
        "- Führen eine explorative Analyse der Daten durch, um den Datensatz zu verstehen und das Vorhandensein von Anomalien zu überprüfen, die geeignete Behandlungen erfordern.\n",
        "- Erstellen eines Modelle für maschinelles Lernen mit verschiedenen Arten von maschinellem Lernen.\n",
        "- Bewerten eines Modells, um das Modell zu finden, das die beste Leistung erbringt."
      ],
      "metadata": {
        "id": "r4HmXko9_kVM"
      }
    },
    {
      "cell_type": "markdown",
      "source": [
        "Nachdem Sie die Bedeutung und den Wert dieser Art von Arbeit verstanden haben, ist es an der Zeit, besser zu verstehen, wie sie funktioniert und worauf Sie achten müssen, um eine gründliche Arbeit zu leisten.\n",
        "\n",
        "Bedenken wir zunächst, dass es sich um ein **Zeitreihenproblem** handelt, das alle Details umfasst, die diese Art von Problem mit sich bringt, wie Saisonalität, Aufmerksamkeit dafür, ob die Reihe stationär ist usw."
      ],
      "metadata": {
        "id": "oYkmrKQ8WdnD"
      }
    },
    {
      "cell_type": "markdown",
      "source": [
        "## Zeitreihen"
      ],
      "metadata": {
        "id": "Nty8697s8cLN"
      }
    },
    {
      "cell_type": "markdown",
      "source": [
        "Die Zeitreihenanalyse ist ein fundamentaler Bestandteil der Datenanalyse, der sich mit der Untersuchung von Datensätzen beschäftigt, die sequentielle Informationen über Zeitintervalle hinweg aufzeichnen. Diese Art der Analyse ermöglicht es, Muster, Trends und zyklische Variationen in den Daten zu identifizieren, zu verstehen und vorherzusagen. Die Bedeutung der Zeitreihenanalyse erstreckt sich über zahlreiche Anwendungsbereiche, von der Wettervorhersage und Finanzmarktanalyse bis hin zur Vorhersage von Verbrauchertrends und der Optimierung von Betriebsabläufen in der Industrie. Durch die Fähigkeit, zukünftige Ereignisse auf Basis historischer Daten vorherzusagen, ermöglicht die Zeitreihenanalyse Entscheidungsträgern in Unternehmen und Organisationen, informierte Strategien zu entwickeln und Risiken zu minimieren.[Link](https://gpt5.blog/zeitreihenanalyse-time-series-analysis/)"
      ],
      "metadata": {
        "id": "yIPaRN1rAlmG"
      }
    },
    {
      "cell_type": "markdown",
      "source": [
        "## Wozu dient die Zeitreihenanalyse?"
      ],
      "metadata": {
        "id": "GXljjgLMI7yz"
      }
    },
    {
      "cell_type": "markdown",
      "source": [
        "Die Zeitreihenanalyse dient einer Vielzahl von Zwecken, darunter:\n",
        "\n",
        "- Vorhersage zukünftiger Ereignisse durch Erkennen von Mustern in historischen Daten (z.B. Aktienkursvorhersagen).\n",
        "- Identifikation von Trends, die Entscheidungsträgern helfen können, informierte Entscheidungen zu treffen (z.B. in der Wirtschaft).\n",
        "- Verständnis der zyklischen Variationen von Zeitreihendaten (z.B. Saisonalität von Verkaufszahlen)."
      ],
      "metadata": {
        "id": "ecvaARY3JCVr"
      }
    },
    {
      "cell_type": "markdown",
      "source": [
        "## Grundbegriffe der Zeitreihenanalyse"
      ],
      "metadata": {
        "id": "AGr8nhF1JT4j"
      }
    },
    {
      "cell_type": "markdown",
      "source": [
        "**Zeitreihe:** Eine Sequenz von Datenpunkten, die in aufeinanderfolgender zeitlicher Reihenfolge gemessen und aufgezeichnet werden.\n",
        "\n",
        "Um die Zeitreihenanalyse effektiv zu nutzen, ist es wichtig, mit einigen grundlegenden Begriffen vertraut zu sein:\n",
        "\n",
        "- **Datenpunkt:** Ein einzelner Wert oder eine Beobachtung in der Zeitreihe.\n",
        "- **Zeitstempel:** Der spezifische Zeitpunkt, zu dem ein Datenpunkt erfasst wurde.\n",
        "- **Trend:**  Die allgemeine Richtung, in die sich die Zeitreihe über einen längeren Zeitraum hinweg bewegt."
      ],
      "metadata": {
        "id": "cDuoauQyJdJb"
      }
    },
    {
      "cell_type": "markdown",
      "source": [
        "## Stationarität in der Zeitreihenanalyse verstehen"
      ],
      "metadata": {
        "id": "4l77ZdDrJ_dj"
      }
    },
    {
      "cell_type": "markdown",
      "source": [
        "**Stationär:** Eine Zeitreihe ist stationär, wenn ihre statistischen Eigenschaften (wie Mittelwert und Varianz) über die Zeit konstant bleiben.\n",
        "\n",
        "Die Stationarität ist ein Schlüsselkonzept in der Zeitreihenanalyse, da viele Analysemethoden davon ausgehen, dass die Zeitreihe stationär ist, oder Maßnahmen erfordern, um eine nicht-stationäre Zeitreihe in eine stationäre umzuwandeln. Es gibt zwei Haupttypen der Stationarität:\n",
        "\n",
        "- **Schwach stationär:** Nur der Mittelwert und die Varianz der Zeitreihe bleiben über die Zeit konstant.\n",
        "- **Stark stationär**: Alle statistischen Eigenschaften der Zeitreihe bleiben über die Zeit konstant."
      ],
      "metadata": {
        "id": "xml2KBexKFrz"
      }
    },
    {
      "cell_type": "markdown",
      "source": [
        "## Verschiedene Arten von Zeitreihen"
      ],
      "metadata": {
        "id": "ZZb-hpzEKXiC"
      }
    },
    {
      "cell_type": "markdown",
      "source": [
        "Es gibt verschiedene Arten von Zeitreihen, die auf spezifische Weise analysiert und interpretiert werden müssen:"
      ],
      "metadata": {
        "id": "bbr9th8pKdLz"
      }
    },
    {
      "cell_type": "markdown",
      "source": [
        "\n",
        "Art der Zeitreihe\n",
        "\n",
        "* **Trend Zeitreihe:**    Eine Zeitreihe, die eine langfristige Zunahme  oder Abnahme aufweist.\n",
        "\n",
        "* **Saisonale Zeitreihe:**\t        Eine Zeitreihe mit regelmäßigen Mustern, die sich in einem festen Zeitrahmen wiederholen, z.B. jährlich.\n",
        "\n",
        "     \n",
        "* **Zyklische Zeitreihe**\t      Zeitreihen mit Mustern, die sich nicht nach einem festen Zeitrahmen wiederholen und oft mit der Wirtschaftslage in Verbindung stehen.\n",
        "\n",
        "\n",
        "* **Rauschen**  Rauschen ist die zufällige Variation von Daten, die nicht durch andere Komponenten erklärt werden kann.\n",
        "\n"
      ],
      "metadata": {
        "id": "d_nJd4oQKi57"
      }
    },
    {
      "cell_type": "markdown",
      "source": [
        "# Was ist Autokorrelation in einer Zeitreihe?"
      ],
      "metadata": {
        "id": "8w-QJ03bnvjf"
      }
    },
    {
      "cell_type": "markdown",
      "source": [
        "Autokorrelation ist das Maß für die Korrelation zwischen einer Zeitreihe und einer verschobenen Version ihrer selbst.\n",
        "\n",
        "Mit anderen Worten: Es handelt sich um das Maß für die Ähnlichkeit zwischen Daten zu unterschiedlichen Zeitpunkten.\n",
        "\n",
        "Wenn Sie beispielsweise die Temperatur von heute mit der Temperatur von gestern korrelieren, werden Sie feststellen, dass eine positive Korrelation besteht.\n"
      ],
      "metadata": {
        "id": "4_SCFld-n_Gv"
      }
    },
    {
      "cell_type": "markdown",
      "source": [
        "<p align=center>\n",
        "<img src=\"https://mariofilho.com/img/guia_ts/4.png\" width=\"70%\"></p>"
      ],
      "metadata": {
        "id": "hH-VtfhUoOJ4"
      }
    },
    {
      "cell_type": "markdown",
      "source": [
        "Mit anderen Worten: Wenn die Temperatur gestern hoch war, ist die Temperatur heute tendenziell auch hoch. Denken Sie daran, dass Korrelation keine Kausalität bedeutet: Die Temperatur von gestern hat nicht die Temperatur von heute verursacht, aber sie hängen zusammen.\n",
        "\n",
        "In der Grafik sehen Sie, dass die höchste Autokorrelation mit dem Vortag besteht (Verzögerung 1) und im Vergleich zu weiter entfernten Tagen abnimmt.\n",
        "\n",
        "Wenn die Daten völlig zufällig sind, das heißt, ein Wert keine Beziehung zum vorherigen Wert hat, ist die Autokorrelation Null. Ein Beispiel für eine Autokorrelation, die sehr nahe bei Null liegt, ist die Korrelation zwischen den Renditen aufeinanderfolgender Tage des Dax  Index."
      ],
      "metadata": {
        "id": "e0xbXquBoiRn"
      }
    },
    {
      "cell_type": "markdown",
      "source": [
        "<p align=center>\n",
        "<img src=\"https://mariofilho.com/img/guia_ts/5.png\" width=\"70%\"></p>"
      ],
      "metadata": {
        "id": "qQlC1qDCo5GP"
      }
    },
    {
      "cell_type": "markdown",
      "source": [
        "Achten Sie auf die Y-Achse, die in diesem Fall von -0,25 bis 0,25 reicht, um die Autokorrelation besser darzustellen. Die schwarzen Balken zeigen an, ob die Autokorrelation den Test der statistischen Signifikanz besteht.\n",
        "\n",
        "Mit anderen Worten: Zahlen dazwischen zeigen an, dass die gemessene Autokorrelation statistisch gesehen nicht von Null abweicht, wir sehen lediglich Abweichungen von Null aufgrund von Rauschen. Im Allgemeinen steht die Rückkehr eines Tages in keinem Zusammenhang mit der Rückkehr des Vortages.\n",
        "\n",
        "Im Falle einer negativen Autokorrelation können wir an eine Reihe von körperlichen Übungen denken. Wenn Sie heute 10 km laufen, werden Sie morgen wahrscheinlich müder sein und nicht mehr so ​​weit laufen können. Je mehr Sie an einem Tag (vorheriger Zeitraum) laufen, desto weniger können Sie am nächsten Tag (aktueller Zeitraum) laufen."
      ],
      "metadata": {
        "id": "ZlcdVSNNwQuv"
      }
    },
    {
      "cell_type": "markdown",
      "source": [
        "https://mariofilho.com/guia-rapido-para-iniciantes-em-series-temporais-time-series/\n",
        "\n",
        "\n",
        "https://app.studysmarter.de/studyset/21210735/summary/71661205"
      ],
      "metadata": {
        "id": "1d8RRKgbPHtg"
      }
    }
  ]
}
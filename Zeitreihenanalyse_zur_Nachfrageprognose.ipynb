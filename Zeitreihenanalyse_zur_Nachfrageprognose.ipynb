{
  "nbformat": 4,
  "nbformat_minor": 0,
  "metadata": {
    "colab": {
      "provenance": [],
      "gpuType": "T4",
      "toc_visible": true,
      "authorship_tag": "ABX9TyOnBxh3lczmLyK0TWNtWUWA",
      "include_colab_link": true
    },
    "kernelspec": {
      "name": "python3",
      "display_name": "Python 3"
    },
    "language_info": {
      "name": "python"
    }
  },
  "cells": [
    {
      "cell_type": "markdown",
      "metadata": {
        "id": "view-in-github",
        "colab_type": "text"
      },
      "source": [
        "<a href=\"https://colab.research.google.com/github/awildt01/Zeitreihenanalyse-zur-Nachfrageprognose./blob/main/Zeitreihenanalyse_zur_Nachfrageprognose.ipynb\" target=\"_parent\"><img src=\"https://colab.research.google.com/assets/colab-badge.svg\" alt=\"Open In Colab\"/></a>"
      ]
    },
    {
      "cell_type": "markdown",
      "source": [
        "#Über das Projekt"
      ],
      "metadata": {
        "id": "uzEvYPXBreRJ"
      }
    },
    {
      "cell_type": "markdown",
      "source": [
        "<p align=center>\n",
        "<img src=\"https://www.slimstock.com/wp-content/uploads/2023/04/demand-forecasting-cartoon-magnifying.webp\" width=\"70%\"></p>"
      ],
      "metadata": {
        "id": "A_GRh_dksoyp"
      }
    },
    {
      "cell_type": "markdown",
      "source": [
        "<div>\n",
        "  <a href = \"https://github.com/raffaloffredo/data_science_portfolio\"><img src=\"https://img.shields.io/badge/GitHub-100000?style=for-the-badge&logo=github&logoColor=white\" target=\"_blank\"></a>\n",
        "  <a href=\"https://www.linkedin.com/in/raffaela-loffredo/?locale=en_US\" target=\"_blank\"><img src=\"https://img.shields.io/badge/-LinkedIn-%230077B5?style=for-the-badge&logo=linkedin&logoColor=white\" target=\"_blank\"></a>\n",
        "  <a href=\"https://sites.google.com/view/loffredo/\" target=\"_blank\"><img src=\"\thttps://img.shields.io/badge/website-000000?style=for-the-badge&logo=About.me&logoColor=white\" target=\"_blank\"></a>\n",
        "  <a href=\"https://instagram.com/loffredo.ds\" target=\"_blank\"><img src=\"https://img.shields.io/badge/-Instagram-%23E4405F?style=for-the-badge&logo=instagram&logoColor=white\" target=\"_blank\"></a>\n",
        "  <a href=\"https://medium.com/@loffredo.ds\" target=\"_blank\"><img src=\"https://img.shields.io/badge/Medium-12100E?style=for-the-badge&logo=medium&logoColor=white\"></a>\n",
        "</div>"
      ],
      "metadata": {
        "id": "zEZG-_hLgGNA"
      }
    },
    {
      "cell_type": "markdown",
      "source": [
        "## Nachfrageprognose"
      ],
      "metadata": {
        "id": "uq5k-IiJt3za"
      }
    },
    {
      "cell_type": "markdown",
      "source": [
        "Nachfrageprognose (Demand Forecasting) ist ein zentraler Bereich der Datenanalyse und besonders relevant für das Management von Lagerbeständen Sie hilft Unternehmen, die zukünftige Nachfrage nach ihren Produkten vorherzusagen und damit die Lieferkette sowie Bestandsverwaltung effizient zu gestalten. Das Ziel ist es, Engpässe zu vermeiden, die Lagerhaltungskosten zu optimieren und letztendlich die Kundenzufriedenheit zu verbessern."
      ],
      "metadata": {
        "id": "De3Pw6NCuU9t"
      }
    },
    {
      "cell_type": "markdown",
      "source": [
        "In dieser Studie basieren wir auf den Anforderungen, [echten Stellenangebot, das auf LinkedIn veröffentlicht wurde](https://www.linkedin.com/jobs/view/2435754417). Der Vertrag umfasste die Präsentation einer Lösung zur Umsatzprognose, die das Lagermanagement des Unternehmens unterstützen soll. Es wird auch darauf hingewiesen, dass die besonderen Herausforderungen der Weinbranche berücksichtigt werden.\n",
        "<br/>\n",
        "<br/>\n",
        "\n",
        "<p align=center>\n",
        "<img src=\"https://github.com/rafaelnduarte/sigmoidal_data/blob/master/Screen%20Shot%202021-04-01%20at%2012.04.22.png?raw=true\" width=\"70%\"></p>\n",
        "<br/>"
      ],
      "metadata": {
        "id": "utYkzvbH1a9c"
      }
    },
    {
      "cell_type": "markdown",
      "source": [
        "## Bedeutung der Nachfrageprognose im Einzelhandel"
      ],
      "metadata": {
        "id": "nltjGxNR4g4k"
      }
    },
    {
      "cell_type": "markdown",
      "source": [
        "Im Einzelhandel, insbesondere für Produkte wie Wein, ist es entscheidend, die Nachfrage genau zu prognostizieren, da Wein eine begrenzte Haltbarkeit und hohe Lagerkosten haben kann. Fehlerhafte Prognosen können zu Über- oder Unterbeständen führen, die entweder zu Lagerkosten oder zu verpassten Verkaufschancen führen. Eine genaue Nachfrageprognose kann helfen:\n",
        "\n",
        "- **Wettbewerb**\n",
        "Es ist sehr wichtig, die Konkurrenz in Ihrem Umfeld genau zu beobachten. Wenn Sie regional für ein Publikum in Ihrer Region verkaufen oder online tätig sind, ist es wichtig, Ihren Kontext, Ihre Wettbewerber und deren Angebote genau zu verstehen. Ob es sich um neue starke Wettbewerber handelt oder um eine neue Lösung, die Ihre Kunden dazu bringt, zwischen Ihnen und ihnen zu wählen – es ist entscheidend, das Modell so anzupassen, dass es Ihnen hilft, diese Veränderungen zu verstehen und sich darauf vorzubereiten.\n",
        "\n",
        "- **Lagerhaltung zu optimieren:** Unternehmen können ihre Bestände effizient verwalten und vermeiden Überbestände oder Ausverkäufe.\n",
        "- **Lieferkettenprozesse zu verbessern:** Unternehmen können rechtzeitig Nachbestellungen durchführen, um Engpässe zu vermeiden.\n",
        "- **Verkaufsaktionen zu planen:** Wenn die Prognosen auf einen Anstieg der Nachfrage hinweisen, können gezielte Marketingaktionen vorbereitet werden.\n",
        "\n",
        "- **Geografie**\n",
        "Hier, wie bereits im Wettbewerbsteil erwähnt, ist es wichtig, den geografischen Kontext zu verstehen, selbst wenn Sie online arbeiten. Dabei sollten Sie die logistischen Herausforderungen in Bezug auf Lagerhaltung und Produktlieferung, Schwierigkeiten mit Transportunternehmen und damit verbundene Kosten berücksichtigen. Es ist entscheidend, den Zeitaufwand für den Erhalt Ihres Bestands und die Lieferung Ihrer Verkäufe zu verstehen, da all diese Faktoren auch eine wichtige Rolle bei der Prognose spielen."
      ],
      "metadata": {
        "id": "zx-HkJuG4m_0"
      }
    },
    {
      "cell_type": "markdown",
      "source": [
        "## Herausforderung der Nachfrageprognose im Weinmarkt"
      ],
      "metadata": {
        "id": "evn1gxMl8A_N"
      }
    },
    {
      "cell_type": "markdown",
      "source": [
        "Die Weinbranche ist einzigartig, da die Nachfrage durch Faktoren wie Bewertungen, Jahrgänge und sogar Wettereinflüsse beeinflusst wird. Zudem kann die Nachfrage volatil sein, da seltene oder spezielle Weine eine unregelmäßige Nachfrage aufweisen können. Solche Variablen erhöhen die Komplexität, weshalb maschinelles Lernen und Deep Learning hier wertvoll sein können.\n",
        "\n",
        "Weinbestände unterliegen spezifischen Einflüssen, wie etwa saisonaler Nachfrage zu Feiertagen, Kundenpräferenzen nach Jahrgang oder Weinart sowie äußeren Faktoren wie Wetterbedingungen. Diese Variablen lassen sich in maschinelle Lernmodelle integrieren, um die Prognosegenauigkeit weiter zu verbessern."
      ],
      "metadata": {
        "id": "03HaHHQe8Iz1"
      }
    },
    {
      "cell_type": "markdown",
      "source": [
        "# Datenbeschaffung"
      ],
      "metadata": {
        "id": "vkUd8RqZlHXC"
      }
    },
    {
      "cell_type": "markdown",
      "source": [
        "\n",
        "Die in diesem Projekt verwendeten Daten wurden von [Rafael Duarte](https://www.linkedin.com/in/rafael-n-duarte/?source=user_about----------------------95e660a7ce9---------------), einem Datenwissenschaftler und Weinliebhaber, bereitgestellt. Er erstellte diesen Datensatz aufgrund der Schwierigkeit, Verkaufsdaten in diesem Sektor zu finden. Er hebt hervor:\n",
        "\n",
        "- Die Weinkarte, also die Produkte, sind echt und basieren auf dem tatsächlichen Angebot eines Wein-E-Commerce in Brasilien. Namen, Jahrgänge und Werte sind zu 100 % echt und wurden in US-Dollar umgerechnet, um eine internationale Anziehungskraft zu erreichen.\n",
        "- Der Verkaufsdatensatz basiert auf einem Kaggle-Wettbewerb. Dieser Datensatz umfasste ursprünglich 5 Jahre tägliche Verkäufe, verteilt auf 10 Geschäfte, mit einem Katalog von 50 Produkten. Er wurde jedoch geändert und umfasst nun 3 Jahre tägliche Verkäufe, verteilt auf 3 Geschäfte mit 219 verschiedenen Produkten auf Lager.\n",
        "\n",
        "Die Daten sind in zwei Dateien aufgeteilt: eine enthält die historischen Verkaufsdaten, die andere Informationen über die Weine. Beide Dateien wurden in der Cloud gespeichert, falls sie nicht verfügbar sind oder Änderungen in der Zukunft vorgenommen werden. Diese gespeicherten Dateien werden im Code verwendet, um die Integrität der Studie zu gewährleisten.\n",
        "\n",
        "Es ist zu beachten, dass es sich um einen Datensatz mit synthetischen Daten handelt, der zwar auf echten Daten basiert, aber dennoch Probleme aufweisen kann, die bei echten Daten nicht auftreten würden. Dies sollte während der gesamten Analyse berücksichtigt werden."
      ],
      "metadata": {
        "id": "eNjK73BxlOML"
      }
    },
    {
      "cell_type": "markdown",
      "source": [
        "# Business Understanding"
      ],
      "metadata": {
        "id": "t7bFmuwcY8Pk"
      }
    },
    {
      "cell_type": "markdown",
      "source": [
        "Weine sind lebendige Getränke, die sich ständig weiterentwickeln und optimale Bedingungen benötigen, um ihre Qualität und Charakter zu bewahren. Ohne diese Bedingungen können sie verderben.\n",
        "\n",
        "Deshalb ist besondere Sorgfalt bei Lagerung und Transport erforderlich, um Bestände zu sichern und Verluste zu vermeiden. Dies unterstreicht die Bedeutung dieses Projekts, da es den Gewinn des Unternehmens möglicherweise stärker beeinflussen kann als andere Bereiche.\n",
        "\n",
        "Es ist wichtig, Sonnenlicht zu vermeiden. Die Lagerung sollte in einer Umgebung mit spezifischer, aber nicht übermäßiger Luftfeuchtigkeit und einer konstanten Temperatur erfolgen. Dabei ist es entscheidender, die Temperatur stabil zu halten, als eine exakte Zieltemperatur zu erreichen. In der Regel liegt die empfohlene Temperatur zwischen 10 und 15 Grad, je nach Weinsorte.\n",
        "\n",
        "Bewegungen, Erschütterungen und Vibrationen sollten ebenfalls vermieden werden, um die Flüssigkeit nicht zu stören. Dies zeigt, wie wichtig eine optimale Bestandsverwaltung ist, bei der die Weine so wenig wie möglich bewegt werden. Nach Möglichkeit wird empfohlen, Weine horizontal zu lagern – ein Aspekt, der auch bei der Planung der Lagerräume berücksichtigt werden sollte.\n",
        "\n",
        "Darüber hinaus ist es wichtig, die Rotation der Bestände zu optimieren, damit der Wein möglichst wenig Zeit an einem Ort verbringt, an dem er verderben könnte, und dennoch in ausgezeichnetem Zustand an die Kunden geliefert wird.\n",
        "\n",
        "Obwohl einige Weine mit der Zeit an Qualität gewinnen, ist die Mehrheit für den sofortigen Konsum gedacht – meist innerhalb von 1 bis 3 Jahren nach der Markteinführung. Daher ist es entscheidend, Weine nicht übermäßig lange auf Lager zu halten."
      ],
      "metadata": {
        "id": "Inf3MH_FaTyE"
      }
    },
    {
      "cell_type": "markdown",
      "source": [
        "# Ziel"
      ],
      "metadata": {
        "id": "iqIk1BR5_dEE"
      }
    },
    {
      "cell_type": "markdown",
      "source": [
        "Im Wesentlichen entwickelt das Unternehmen eine auf maschinellem Lernen basierende Lösung, um Weinhandlungen dabei zu helfen, ihre Bestände besser zu verwalten. Dazu gehört ein Modell, das die Nachfrage auf der Grundlage historischer Verkaufsdaten prognostiziert.\n",
        "\n",
        "Ihr spezifischer Bedarf besteht darin, den Teil der Verkaufsprognose zu verfeinern, der die einzigartigen Herausforderungen der Weinwelt und die spezifischen Anforderungen ihres Produkts berücksichtigt."
      ],
      "metadata": {
        "id": "T7orDSMLD3V7"
      }
    },
    {
      "cell_type": "markdown",
      "source": [
        "Entwickelt einen auf maschinellem Lernen basierenden Algorithmus, um die Nachfrage nach Wein in einem auf dieses Produkt spezialisierten Geschäft vorherzusagen."
      ],
      "metadata": {
        "id": "D5wUVHht95eq"
      }
    },
    {
      "cell_type": "markdown",
      "source": [
        "- Führen eine explorative Analyse der Daten durch, um den Datensatz zu verstehen und das Vorhandensein von Anomalien zu überprüfen, die geeignete Behandlungen erfordern.\n",
        "- Erstellen eines Modelle für maschinelles Lernen mit verschiedenen Arten von maschinellem Lernen.\n",
        "- Bewerten eines Modells, um das Modell zu finden, das die beste Leistung erbringt."
      ],
      "metadata": {
        "id": "r4HmXko9_kVM"
      }
    },
    {
      "cell_type": "markdown",
      "source": [
        "Einige Fragen, die diese Art von Arbeit beantworten kann:\n",
        "\n",
        "- Wie schnell werden die Produkte verkauft?\n",
        "- Welche Artikel brauchen länger, um verkauft zu werden?\n",
        "- Wie viele Tage Vorrat sind noch verfügbar?\n",
        "- Wo befinden sich Ihre Kunden im Vergleich zu den Orten, von denen aus Sie die Produkte versenden?\n",
        "- Rentabilität pro Bestellung, durchschnittliche Versandkosten und durchschnittlicher Betrag, den Kunden ausgeben.\n",
        "- Täglicher Status der Bestellungen.\n",
        "- Wie verhält sich die aktuelle Nachfrage im Vergleich zu früheren Perioden?\n",
        "- Wie beeinflussen verschiedene Monate und Jahreszeiten Ihre Verkäufe?\n",
        "- Bestverkaufte Produkte des Geschäfts und deren Anteil am Geschäftserfolg."
      ],
      "metadata": {
        "id": "HRVJgNaicDVH"
      }
    },
    {
      "cell_type": "markdown",
      "source": [
        "Nachdem Sie die Bedeutung und den Wert dieser Art von Arbeit verstanden haben, ist es an der Zeit, besser zu verstehen, wie sie funktioniert und worauf Sie achten müssen, um eine gründliche Arbeit zu leisten.\n",
        "\n",
        "Bedenken wir zunächst, dass es sich um ein **Zeitreihenproblem** handelt, das alle Details umfasst, die diese Art von Problem mit sich bringt, wie Saisonalität, Aufmerksamkeit dafür, ob die Reihe stationär ist usw."
      ],
      "metadata": {
        "id": "oYkmrKQ8WdnD"
      }
    },
    {
      "cell_type": "markdown",
      "source": [
        "## Zeitreihen"
      ],
      "metadata": {
        "id": "Nty8697s8cLN"
      }
    },
    {
      "cell_type": "markdown",
      "source": [
        "Die Zeitreihenanalyse ist ein fundamentaler Bestandteil der Datenanalyse, der sich mit der Untersuchung von Datensätzen beschäftigt, die sequentielle Informationen über Zeitintervalle hinweg aufzeichnen. Diese Art der Analyse ermöglicht es, Muster, Trends und zyklische Variationen in den Daten zu identifizieren, zu verstehen und vorherzusagen. Die Bedeutung der Zeitreihenanalyse erstreckt sich über zahlreiche Anwendungsbereiche, von der Wettervorhersage und Finanzmarktanalyse bis hin zur Vorhersage von Verbrauchertrends und der Optimierung von Betriebsabläufen in der Industrie. Durch die Fähigkeit, zukünftige Ereignisse auf Basis historischer Daten vorherzusagen, ermöglicht die Zeitreihenanalyse Entscheidungsträgern in Unternehmen und Organisationen, informierte Strategien zu entwickeln und Risiken zu minimieren.[Link](https://gpt5.blog/zeitreihenanalyse-time-series-analysis/)"
      ],
      "metadata": {
        "id": "yIPaRN1rAlmG"
      }
    },
    {
      "cell_type": "markdown",
      "source": [
        "## Wozu dient die Zeitreihenanalyse?"
      ],
      "metadata": {
        "id": "GXljjgLMI7yz"
      }
    },
    {
      "cell_type": "markdown",
      "source": [
        "Die Zeitreihenanalyse dient einer Vielzahl von Zwecken, darunter:\n",
        "\n",
        "- Vorhersage zukünftiger Ereignisse durch Erkennen von Mustern in historischen Daten (z.B. Aktienkursvorhersagen).\n",
        "- Identifikation von Trends, die Entscheidungsträgern helfen können, informierte Entscheidungen zu treffen (z.B. in der Wirtschaft).\n",
        "- Verständnis der zyklischen Variationen von Zeitreihendaten (z.B. Saisonalität von Verkaufszahlen)."
      ],
      "metadata": {
        "id": "ecvaARY3JCVr"
      }
    },
    {
      "cell_type": "markdown",
      "source": [
        "## Grundbegriffe der Zeitreihenanalyse"
      ],
      "metadata": {
        "id": "AGr8nhF1JT4j"
      }
    },
    {
      "cell_type": "markdown",
      "source": [
        "**Zeitreihe:** Eine Sequenz von Datenpunkten, die in aufeinanderfolgender zeitlicher Reihenfolge gemessen und aufgezeichnet werden.\n",
        "\n",
        "Um die Zeitreihenanalyse effektiv zu nutzen, ist es wichtig, mit einigen grundlegenden Begriffen vertraut zu sein:\n",
        "\n",
        "- **Datenpunkt:** Ein einzelner Wert oder eine Beobachtung in der Zeitreihe.\n",
        "- **Zeitstempel:** Der spezifische Zeitpunkt, zu dem ein Datenpunkt erfasst wurde.\n",
        "- **Trend:**  Die allgemeine Richtung, in die sich die Zeitreihe über einen längeren Zeitraum hinweg bewegt."
      ],
      "metadata": {
        "id": "cDuoauQyJdJb"
      }
    },
    {
      "cell_type": "markdown",
      "source": [
        "## Stationarität in der Zeitreihenanalyse verstehen"
      ],
      "metadata": {
        "id": "4l77ZdDrJ_dj"
      }
    },
    {
      "cell_type": "markdown",
      "source": [
        "**Stationär:** Eine Zeitreihe ist stationär, wenn ihre statistischen Eigenschaften (wie Mittelwert und Varianz) über die Zeit konstant bleiben.\n",
        "\n",
        "Die Stationarität ist ein Schlüsselkonzept in der Zeitreihenanalyse, da viele Analysemethoden davon ausgehen, dass die Zeitreihe stationär ist, oder Maßnahmen erfordern, um eine nicht-stationäre Zeitreihe in eine stationäre umzuwandeln. Es gibt zwei Haupttypen der Stationarität:\n",
        "\n",
        "- **Schwach stationär:** Nur der Mittelwert und die Varianz der Zeitreihe bleiben über die Zeit konstant.\n",
        "- **Stark stationär**: Alle statistischen Eigenschaften der Zeitreihe bleiben über die Zeit konstant."
      ],
      "metadata": {
        "id": "xml2KBexKFrz"
      }
    },
    {
      "cell_type": "markdown",
      "source": [
        "## Verschiedene Arten von Zeitreihen"
      ],
      "metadata": {
        "id": "ZZb-hpzEKXiC"
      }
    },
    {
      "cell_type": "markdown",
      "source": [
        "Es gibt verschiedene Arten von Zeitreihen, die auf spezifische Weise analysiert und interpretiert werden müssen:"
      ],
      "metadata": {
        "id": "bbr9th8pKdLz"
      }
    },
    {
      "cell_type": "markdown",
      "source": [
        "\n",
        "Art der Zeitreihe\n",
        "\n",
        "* **Trend Zeitreihe:**    Eine Zeitreihe, die eine langfristige Zunahme  oder Abnahme aufweist.\n",
        "\n",
        "* **Saisonale Zeitreihe:**\t        Eine Zeitreihe mit regelmäßigen Mustern, die sich in einem festen Zeitrahmen wiederholen, z.B. jährlich.\n",
        "\n",
        "     \n",
        "* **Zyklische Zeitreihe**\t      Zeitreihen mit Mustern, die sich nicht nach einem festen Zeitrahmen wiederholen und oft mit der Wirtschaftslage in Verbindung stehen.\n",
        "\n",
        "\n",
        "* **Rauschen**  Rauschen ist die zufällige Variation von Daten, die nicht durch andere Komponenten erklärt werden kann.\n",
        "\n"
      ],
      "metadata": {
        "id": "d_nJd4oQKi57"
      }
    },
    {
      "cell_type": "markdown",
      "source": [
        "# Was ist Autokorrelation in einer Zeitreihe?"
      ],
      "metadata": {
        "id": "8w-QJ03bnvjf"
      }
    },
    {
      "cell_type": "markdown",
      "source": [
        "Autokorrelation ist das Maß für die Korrelation zwischen einer Zeitreihe und einer verschobenen Version ihrer selbst.\n",
        "\n",
        "Mit anderen Worten: Es handelt sich um das Maß für die Ähnlichkeit zwischen Daten zu unterschiedlichen Zeitpunkten.\n",
        "\n",
        "Wenn Sie beispielsweise die Temperatur von heute mit der Temperatur von gestern korrelieren, werden Sie feststellen, dass eine positive Korrelation besteht.\n"
      ],
      "metadata": {
        "id": "4_SCFld-n_Gv"
      }
    },
    {
      "cell_type": "markdown",
      "source": [
        "<p align=center>\n",
        "<img src=\"https://mariofilho.com/img/guia_ts/4.png\" width=\"70%\"></p>"
      ],
      "metadata": {
        "id": "hH-VtfhUoOJ4"
      }
    },
    {
      "cell_type": "markdown",
      "source": [
        "Mit anderen Worten: Wenn die Temperatur gestern hoch war, ist die Temperatur heute tendenziell auch hoch. Denken Sie daran, dass Korrelation keine Kausalität bedeutet: Die Temperatur von gestern hat nicht die Temperatur von heute verursacht, aber sie hängen zusammen.\n",
        "\n",
        "In der Grafik sehen Sie, dass die höchste Autokorrelation mit dem Vortag besteht (Verzögerung 1) und im Vergleich zu weiter entfernten Tagen abnimmt.\n",
        "\n",
        "Wenn die Daten völlig zufällig sind, das heißt, ein Wert keine Beziehung zum vorherigen Wert hat, ist die Autokorrelation Null. Ein Beispiel für eine Autokorrelation, die sehr nahe bei Null liegt, ist die Korrelation zwischen den Renditen aufeinanderfolgender Tage des Dax  Index."
      ],
      "metadata": {
        "id": "e0xbXquBoiRn"
      }
    },
    {
      "cell_type": "markdown",
      "source": [
        "<p align=center>\n",
        "<img src=\"https://mariofilho.com/img/guia_ts/5.png\" width=\"70%\"></p>"
      ],
      "metadata": {
        "id": "qQlC1qDCo5GP"
      }
    },
    {
      "cell_type": "markdown",
      "source": [
        "Achten Sie auf die Y-Achse, die in diesem Fall von -0,25 bis 0,25 reicht, um die Autokorrelation besser darzustellen. Die schwarzen Balken zeigen an, ob die Autokorrelation den Test der statistischen Signifikanz besteht.\n",
        "\n",
        "Mit anderen Worten: Zahlen dazwischen zeigen an, dass die gemessene Autokorrelation statistisch gesehen nicht von Null abweicht, wir sehen lediglich Abweichungen von Null aufgrund von Rauschen. Im Allgemeinen steht die Rückkehr eines Tages in keinem Zusammenhang mit der Rückkehr des Vortages.\n",
        "\n",
        "Im Falle einer negativen Autokorrelation können wir an eine Reihe von körperlichen Übungen denken. Wenn Sie heute 10 km laufen, werden Sie morgen wahrscheinlich müder sein und nicht mehr so ​​weit laufen können. Je mehr Sie an einem Tag (vorheriger Zeitraum) laufen, desto weniger können Sie am nächsten Tag (aktueller Zeitraum) laufen."
      ],
      "metadata": {
        "id": "ZlcdVSNNwQuv"
      }
    },
    {
      "cell_type": "markdown",
      "source": [
        "https://mariofilho.com/guia-rapido-para-iniciantes-em-series-temporais-time-series/\n",
        "\n",
        "\n",
        "https://app.studysmarter.de/studyset/21210735/summary/71661205"
      ],
      "metadata": {
        "id": "1d8RRKgbPHtg"
      }
    },
    {
      "cell_type": "markdown",
      "source": [
        "**produtos.csv**\n",
        "- country: país de origem do vinho\n",
        "- item_id: número de identificação do item\n",
        "- kind: tipo do vinho:\n",
        "\n",
        "  - sparkling: espumante\n",
        "  - rose sparkling: espumante rosé\n",
        "  - white: branco\n",
        "  - rosé: rosé\n",
        "  - red: tinto\n",
        "- name: nome do vinho\n",
        "-  price_brl: preço em reais\n",
        "- price_usd: preço em dólar americano\n",
        "- producer: nome do produtor do vinho\n",
        "- region: região de produção do vinho\n",
        "- vintage: ano da safra\n",
        "\n",
        "Deutsch\n",
        "\n",
        "- country: Herkunftsland des Weins\n",
        "- item_id: Identifikationsnummer des Artikels\n",
        "- kind: Weintyp:\n",
        "  - sparkling: Schaumwein\n",
        "  - rose sparkling: Rosé-Schaumwein\n",
        "  - white: Weißwein\n",
        "  - rosé: Roséwein\n",
        "  - red: Rotwein\n",
        "- name: Name des Weins\n",
        "- price_brl: Preis in brasilianischen Reais\n",
        "- price_usd: Preis in US-Dollar\n",
        "- producer: Name des Produzenten des Weins\n",
        "- region: Produktionsregion des Weins\n",
        "- vintage: Jahrgang des Weins"
      ],
      "metadata": {
        "id": "jJzcCLx-g6TV"
      }
    },
    {
      "cell_type": "markdown",
      "source": [
        "**vendas.csv**\n",
        "\n",
        "- date: data da venda\n",
        "- item: número de identificação do item\n",
        "- store: loja\n",
        "- sales: quantidade vendida\n",
        "\n",
        "\n",
        "Deutsch\n",
        "\n",
        "- date: Verkaufsdatum\n",
        "- item: Identifikationsnummer des Artikels\n",
        "- store: Geschäft\n",
        "- sales: Verkaufsmenge"
      ],
      "metadata": {
        "id": "Z2BnXyFEiwHm"
      }
    },
    {
      "cell_type": "code",
      "source": [
        "# importando as bibliotecas\n",
        "import pandas as pd\n",
        "import numpy as np\n",
        "import plotly.graph_objects as go\n",
        "from plotly.subplots import make_subplots\n",
        "import matplotlib.pyplot as plt\n",
        "import seaborn as sns\n",
        "\n",
        "\n",
        "import warnings                   # notificações\n",
        "warnings.filterwarnings('ignore') # configurar notificações para serem ignoradas\n",
        "\n",
        "# configurações adicionais\n",
        "#plt.style.use('ggplot')\n",
        "# sns.set_style('dark')\n",
        "\n",
        "import matplotlib.pyplot as plt\n",
        "import numpy as np\n",
        "from matplotlib import rcParams\n",
        "\n",
        "\n",
        "\n",
        "# configurar a visualização\n",
        "%matplotlib inline\n",
        "%config InlineBackend.figure_format = 'svg'\n",
        "\n",
        "# configurar a visualização\n",
        "%matplotlib inline\n",
        "%config InlineBackend.figure_format = 'svg'\n",
        "\n",
        "# configurando parâmetros das fontes\n",
        "plt.rcParams['font.family'] = 'sans-serif'"
      ],
      "metadata": {
        "id": "pXHTSSDQMYcP"
      },
      "execution_count": 1,
      "outputs": []
    },
    {
      "cell_type": "code",
      "source": [
        "# importar os conjuntos de dados e atribuí-los em variáveis\n",
        "df_products_raw = pd.read_csv('https://www.dropbox.com/scl/fi/t8wr73843nxvcw949twi3/products.csv?rlkey=qrms57xtev2rzqzpxuqoc9yif&dl=1')\n",
        "df_sales_raw   = pd.read_csv('https://www.dropbox.com/scl/fi/hlrspaogkay44qe45bbf4/sales.csv?rlkey=j9rlkn2r97j3swfpg9irckvgm&dl=1')\n",
        "\n",
        "print (df_products_raw.shape)"
      ],
      "metadata": {
        "id": "ru6Xdd2RNDLX",
        "colab": {
          "base_uri": "https://localhost:8080/"
        },
        "outputId": "20696831-e0a6-4ac1-d9e2-3c27f3ba7c87"
      },
      "execution_count": 2,
      "outputs": [
        {
          "output_type": "stream",
          "name": "stdout",
          "text": [
            "(219, 9)\n"
          ]
        }
      ]
    },
    {
      "cell_type": "code",
      "source": [
        "df_products_raw.head()"
      ],
      "metadata": {
        "colab": {
          "base_uri": "https://localhost:8080/",
          "height": 206
        },
        "id": "T2BkvzcXNJN3",
        "outputId": "458c2daf-5e38-4cc6-f007-31418e4b17d0"
      },
      "execution_count": 3,
      "outputs": [
        {
          "output_type": "execute_result",
          "data": {
            "text/plain": [
              "   item_id                                          name     producer country  \\\n",
              "0        1              Philipponnat Royale Reserve Brut  Philipponat  France   \n",
              "1        2              Philipponnat Royale Reserve Rosé  Philipponat  France   \n",
              "2        3  Philipponnat Cuvée 1522 Grand Cru Extra Brut  Philipponat  France   \n",
              "3        4          Philipponnat Cuvée 1522 1er Cru Rosé  Philipponat  France   \n",
              "4        5            Philipponnat Clos Des Goisses Brut  Philipponat  France   \n",
              "\n",
              "      region vintage            kind price_brl price_usd  \n",
              "0  Champagne      NV       sparkling    339.60     58.75  \n",
              "1  Champagne      NV  rose sparkling    489.00     84.60  \n",
              "2  Champagne    2009       sparkling    789.00    136.51  \n",
              "3  Champagne    2008  rose sparkling    899.40    155.61  \n",
              "4  Champagne    2009       sparkling  1,548.00    267.82  "
            ],
            "text/html": [
              "\n",
              "  <div id=\"df-9c4bd5e4-6b85-4320-9b07-861d9ea7c86b\" class=\"colab-df-container\">\n",
              "    <div>\n",
              "<style scoped>\n",
              "    .dataframe tbody tr th:only-of-type {\n",
              "        vertical-align: middle;\n",
              "    }\n",
              "\n",
              "    .dataframe tbody tr th {\n",
              "        vertical-align: top;\n",
              "    }\n",
              "\n",
              "    .dataframe thead th {\n",
              "        text-align: right;\n",
              "    }\n",
              "</style>\n",
              "<table border=\"1\" class=\"dataframe\">\n",
              "  <thead>\n",
              "    <tr style=\"text-align: right;\">\n",
              "      <th></th>\n",
              "      <th>item_id</th>\n",
              "      <th>name</th>\n",
              "      <th>producer</th>\n",
              "      <th>country</th>\n",
              "      <th>region</th>\n",
              "      <th>vintage</th>\n",
              "      <th>kind</th>\n",
              "      <th>price_brl</th>\n",
              "      <th>price_usd</th>\n",
              "    </tr>\n",
              "  </thead>\n",
              "  <tbody>\n",
              "    <tr>\n",
              "      <th>0</th>\n",
              "      <td>1</td>\n",
              "      <td>Philipponnat Royale Reserve Brut</td>\n",
              "      <td>Philipponat</td>\n",
              "      <td>France</td>\n",
              "      <td>Champagne</td>\n",
              "      <td>NV</td>\n",
              "      <td>sparkling</td>\n",
              "      <td>339.60</td>\n",
              "      <td>58.75</td>\n",
              "    </tr>\n",
              "    <tr>\n",
              "      <th>1</th>\n",
              "      <td>2</td>\n",
              "      <td>Philipponnat Royale Reserve Rosé</td>\n",
              "      <td>Philipponat</td>\n",
              "      <td>France</td>\n",
              "      <td>Champagne</td>\n",
              "      <td>NV</td>\n",
              "      <td>rose sparkling</td>\n",
              "      <td>489.00</td>\n",
              "      <td>84.60</td>\n",
              "    </tr>\n",
              "    <tr>\n",
              "      <th>2</th>\n",
              "      <td>3</td>\n",
              "      <td>Philipponnat Cuvée 1522 Grand Cru Extra Brut</td>\n",
              "      <td>Philipponat</td>\n",
              "      <td>France</td>\n",
              "      <td>Champagne</td>\n",
              "      <td>2009</td>\n",
              "      <td>sparkling</td>\n",
              "      <td>789.00</td>\n",
              "      <td>136.51</td>\n",
              "    </tr>\n",
              "    <tr>\n",
              "      <th>3</th>\n",
              "      <td>4</td>\n",
              "      <td>Philipponnat Cuvée 1522 1er Cru Rosé</td>\n",
              "      <td>Philipponat</td>\n",
              "      <td>France</td>\n",
              "      <td>Champagne</td>\n",
              "      <td>2008</td>\n",
              "      <td>rose sparkling</td>\n",
              "      <td>899.40</td>\n",
              "      <td>155.61</td>\n",
              "    </tr>\n",
              "    <tr>\n",
              "      <th>4</th>\n",
              "      <td>5</td>\n",
              "      <td>Philipponnat Clos Des Goisses Brut</td>\n",
              "      <td>Philipponat</td>\n",
              "      <td>France</td>\n",
              "      <td>Champagne</td>\n",
              "      <td>2009</td>\n",
              "      <td>sparkling</td>\n",
              "      <td>1,548.00</td>\n",
              "      <td>267.82</td>\n",
              "    </tr>\n",
              "  </tbody>\n",
              "</table>\n",
              "</div>\n",
              "    <div class=\"colab-df-buttons\">\n",
              "\n",
              "  <div class=\"colab-df-container\">\n",
              "    <button class=\"colab-df-convert\" onclick=\"convertToInteractive('df-9c4bd5e4-6b85-4320-9b07-861d9ea7c86b')\"\n",
              "            title=\"Convert this dataframe to an interactive table.\"\n",
              "            style=\"display:none;\">\n",
              "\n",
              "  <svg xmlns=\"http://www.w3.org/2000/svg\" height=\"24px\" viewBox=\"0 -960 960 960\">\n",
              "    <path d=\"M120-120v-720h720v720H120Zm60-500h600v-160H180v160Zm220 220h160v-160H400v160Zm0 220h160v-160H400v160ZM180-400h160v-160H180v160Zm440 0h160v-160H620v160ZM180-180h160v-160H180v160Zm440 0h160v-160H620v160Z\"/>\n",
              "  </svg>\n",
              "    </button>\n",
              "\n",
              "  <style>\n",
              "    .colab-df-container {\n",
              "      display:flex;\n",
              "      gap: 12px;\n",
              "    }\n",
              "\n",
              "    .colab-df-convert {\n",
              "      background-color: #E8F0FE;\n",
              "      border: none;\n",
              "      border-radius: 50%;\n",
              "      cursor: pointer;\n",
              "      display: none;\n",
              "      fill: #1967D2;\n",
              "      height: 32px;\n",
              "      padding: 0 0 0 0;\n",
              "      width: 32px;\n",
              "    }\n",
              "\n",
              "    .colab-df-convert:hover {\n",
              "      background-color: #E2EBFA;\n",
              "      box-shadow: 0px 1px 2px rgba(60, 64, 67, 0.3), 0px 1px 3px 1px rgba(60, 64, 67, 0.15);\n",
              "      fill: #174EA6;\n",
              "    }\n",
              "\n",
              "    .colab-df-buttons div {\n",
              "      margin-bottom: 4px;\n",
              "    }\n",
              "\n",
              "    [theme=dark] .colab-df-convert {\n",
              "      background-color: #3B4455;\n",
              "      fill: #D2E3FC;\n",
              "    }\n",
              "\n",
              "    [theme=dark] .colab-df-convert:hover {\n",
              "      background-color: #434B5C;\n",
              "      box-shadow: 0px 1px 3px 1px rgba(0, 0, 0, 0.15);\n",
              "      filter: drop-shadow(0px 1px 2px rgba(0, 0, 0, 0.3));\n",
              "      fill: #FFFFFF;\n",
              "    }\n",
              "  </style>\n",
              "\n",
              "    <script>\n",
              "      const buttonEl =\n",
              "        document.querySelector('#df-9c4bd5e4-6b85-4320-9b07-861d9ea7c86b button.colab-df-convert');\n",
              "      buttonEl.style.display =\n",
              "        google.colab.kernel.accessAllowed ? 'block' : 'none';\n",
              "\n",
              "      async function convertToInteractive(key) {\n",
              "        const element = document.querySelector('#df-9c4bd5e4-6b85-4320-9b07-861d9ea7c86b');\n",
              "        const dataTable =\n",
              "          await google.colab.kernel.invokeFunction('convertToInteractive',\n",
              "                                                    [key], {});\n",
              "        if (!dataTable) return;\n",
              "\n",
              "        const docLinkHtml = 'Like what you see? Visit the ' +\n",
              "          '<a target=\"_blank\" href=https://colab.research.google.com/notebooks/data_table.ipynb>data table notebook</a>'\n",
              "          + ' to learn more about interactive tables.';\n",
              "        element.innerHTML = '';\n",
              "        dataTable['output_type'] = 'display_data';\n",
              "        await google.colab.output.renderOutput(dataTable, element);\n",
              "        const docLink = document.createElement('div');\n",
              "        docLink.innerHTML = docLinkHtml;\n",
              "        element.appendChild(docLink);\n",
              "      }\n",
              "    </script>\n",
              "  </div>\n",
              "\n",
              "\n",
              "<div id=\"df-c0e4555c-57ab-4315-8d7d-10ef4679a34f\">\n",
              "  <button class=\"colab-df-quickchart\" onclick=\"quickchart('df-c0e4555c-57ab-4315-8d7d-10ef4679a34f')\"\n",
              "            title=\"Suggest charts\"\n",
              "            style=\"display:none;\">\n",
              "\n",
              "<svg xmlns=\"http://www.w3.org/2000/svg\" height=\"24px\"viewBox=\"0 0 24 24\"\n",
              "     width=\"24px\">\n",
              "    <g>\n",
              "        <path d=\"M19 3H5c-1.1 0-2 .9-2 2v14c0 1.1.9 2 2 2h14c1.1 0 2-.9 2-2V5c0-1.1-.9-2-2-2zM9 17H7v-7h2v7zm4 0h-2V7h2v10zm4 0h-2v-4h2v4z\"/>\n",
              "    </g>\n",
              "</svg>\n",
              "  </button>\n",
              "\n",
              "<style>\n",
              "  .colab-df-quickchart {\n",
              "      --bg-color: #E8F0FE;\n",
              "      --fill-color: #1967D2;\n",
              "      --hover-bg-color: #E2EBFA;\n",
              "      --hover-fill-color: #174EA6;\n",
              "      --disabled-fill-color: #AAA;\n",
              "      --disabled-bg-color: #DDD;\n",
              "  }\n",
              "\n",
              "  [theme=dark] .colab-df-quickchart {\n",
              "      --bg-color: #3B4455;\n",
              "      --fill-color: #D2E3FC;\n",
              "      --hover-bg-color: #434B5C;\n",
              "      --hover-fill-color: #FFFFFF;\n",
              "      --disabled-bg-color: #3B4455;\n",
              "      --disabled-fill-color: #666;\n",
              "  }\n",
              "\n",
              "  .colab-df-quickchart {\n",
              "    background-color: var(--bg-color);\n",
              "    border: none;\n",
              "    border-radius: 50%;\n",
              "    cursor: pointer;\n",
              "    display: none;\n",
              "    fill: var(--fill-color);\n",
              "    height: 32px;\n",
              "    padding: 0;\n",
              "    width: 32px;\n",
              "  }\n",
              "\n",
              "  .colab-df-quickchart:hover {\n",
              "    background-color: var(--hover-bg-color);\n",
              "    box-shadow: 0 1px 2px rgba(60, 64, 67, 0.3), 0 1px 3px 1px rgba(60, 64, 67, 0.15);\n",
              "    fill: var(--button-hover-fill-color);\n",
              "  }\n",
              "\n",
              "  .colab-df-quickchart-complete:disabled,\n",
              "  .colab-df-quickchart-complete:disabled:hover {\n",
              "    background-color: var(--disabled-bg-color);\n",
              "    fill: var(--disabled-fill-color);\n",
              "    box-shadow: none;\n",
              "  }\n",
              "\n",
              "  .colab-df-spinner {\n",
              "    border: 2px solid var(--fill-color);\n",
              "    border-color: transparent;\n",
              "    border-bottom-color: var(--fill-color);\n",
              "    animation:\n",
              "      spin 1s steps(1) infinite;\n",
              "  }\n",
              "\n",
              "  @keyframes spin {\n",
              "    0% {\n",
              "      border-color: transparent;\n",
              "      border-bottom-color: var(--fill-color);\n",
              "      border-left-color: var(--fill-color);\n",
              "    }\n",
              "    20% {\n",
              "      border-color: transparent;\n",
              "      border-left-color: var(--fill-color);\n",
              "      border-top-color: var(--fill-color);\n",
              "    }\n",
              "    30% {\n",
              "      border-color: transparent;\n",
              "      border-left-color: var(--fill-color);\n",
              "      border-top-color: var(--fill-color);\n",
              "      border-right-color: var(--fill-color);\n",
              "    }\n",
              "    40% {\n",
              "      border-color: transparent;\n",
              "      border-right-color: var(--fill-color);\n",
              "      border-top-color: var(--fill-color);\n",
              "    }\n",
              "    60% {\n",
              "      border-color: transparent;\n",
              "      border-right-color: var(--fill-color);\n",
              "    }\n",
              "    80% {\n",
              "      border-color: transparent;\n",
              "      border-right-color: var(--fill-color);\n",
              "      border-bottom-color: var(--fill-color);\n",
              "    }\n",
              "    90% {\n",
              "      border-color: transparent;\n",
              "      border-bottom-color: var(--fill-color);\n",
              "    }\n",
              "  }\n",
              "</style>\n",
              "\n",
              "  <script>\n",
              "    async function quickchart(key) {\n",
              "      const quickchartButtonEl =\n",
              "        document.querySelector('#' + key + ' button');\n",
              "      quickchartButtonEl.disabled = true;  // To prevent multiple clicks.\n",
              "      quickchartButtonEl.classList.add('colab-df-spinner');\n",
              "      try {\n",
              "        const charts = await google.colab.kernel.invokeFunction(\n",
              "            'suggestCharts', [key], {});\n",
              "      } catch (error) {\n",
              "        console.error('Error during call to suggestCharts:', error);\n",
              "      }\n",
              "      quickchartButtonEl.classList.remove('colab-df-spinner');\n",
              "      quickchartButtonEl.classList.add('colab-df-quickchart-complete');\n",
              "    }\n",
              "    (() => {\n",
              "      let quickchartButtonEl =\n",
              "        document.querySelector('#df-c0e4555c-57ab-4315-8d7d-10ef4679a34f button');\n",
              "      quickchartButtonEl.style.display =\n",
              "        google.colab.kernel.accessAllowed ? 'block' : 'none';\n",
              "    })();\n",
              "  </script>\n",
              "</div>\n",
              "\n",
              "    </div>\n",
              "  </div>\n"
            ],
            "application/vnd.google.colaboratory.intrinsic+json": {
              "type": "dataframe",
              "variable_name": "df_products_raw",
              "summary": "{\n  \"name\": \"df_products_raw\",\n  \"rows\": 219,\n  \"fields\": [\n    {\n      \"column\": \"item_id\",\n      \"properties\": {\n        \"dtype\": \"number\",\n        \"std\": 63,\n        \"min\": 1,\n        \"max\": 219,\n        \"num_unique_values\": 219,\n        \"samples\": [\n          155,\n          94,\n          217\n        ],\n        \"semantic_type\": \"\",\n        \"description\": \"\"\n      }\n    },\n    {\n      \"column\": \"name\",\n      \"properties\": {\n        \"dtype\": \"string\",\n        \"num_unique_values\": 188,\n        \"samples\": [\n          \"Achaval-Ferrer Quimera\",\n          \"Aalto - 1.5L (Magnum)\",\n          \"Mirabeau Etoile\"\n        ],\n        \"semantic_type\": \"\",\n        \"description\": \"\"\n      }\n    },\n    {\n      \"column\": \"producer\",\n      \"properties\": {\n        \"dtype\": \"category\",\n        \"num_unique_values\": 58,\n        \"samples\": [\n          \"Philipponat\",\n          \"Mirabeau\",\n          \"Chateau Ducru Beaucaillou\"\n        ],\n        \"semantic_type\": \"\",\n        \"description\": \"\"\n      }\n    },\n    {\n      \"column\": \"country\",\n      \"properties\": {\n        \"dtype\": \"category\",\n        \"num_unique_values\": 6,\n        \"samples\": [\n          \"France\",\n          \"Italy\",\n          \"Argentina\"\n        ],\n        \"semantic_type\": \"\",\n        \"description\": \"\"\n      }\n    },\n    {\n      \"column\": \"region\",\n      \"properties\": {\n        \"dtype\": \"category\",\n        \"num_unique_values\": 21,\n        \"samples\": [\n          \"Champagne\",\n          \"Douro\",\n          \"Rioja\"\n        ],\n        \"semantic_type\": \"\",\n        \"description\": \"\"\n      }\n    },\n    {\n      \"column\": \"vintage\",\n      \"properties\": {\n        \"dtype\": \"category\",\n        \"num_unique_values\": 17,\n        \"samples\": [\n          \"NV\",\n          \"2009\",\n          \"2018\"\n        ],\n        \"semantic_type\": \"\",\n        \"description\": \"\"\n      }\n    },\n    {\n      \"column\": \"kind\",\n      \"properties\": {\n        \"dtype\": \"category\",\n        \"num_unique_values\": 5,\n        \"samples\": [\n          \"rose sparkling\",\n          \"red\",\n          \"white\"\n        ],\n        \"semantic_type\": \"\",\n        \"description\": \"\"\n      }\n    },\n    {\n      \"column\": \"price_brl\",\n      \"properties\": {\n        \"dtype\": \"string\",\n        \"num_unique_values\": 123,\n        \"samples\": [\n          \"159.60\",\n          \"449.40\",\n          \"425.40\"\n        ],\n        \"semantic_type\": \"\",\n        \"description\": \"\"\n      }\n    },\n    {\n      \"column\": \"price_usd\",\n      \"properties\": {\n        \"dtype\": \"string\",\n        \"num_unique_values\": 121,\n        \"samples\": [\n          \"60.42\",\n          \"73.60\",\n          \"267.82\"\n        ],\n        \"semantic_type\": \"\",\n        \"description\": \"\"\n      }\n    }\n  ]\n}"
            }
          },
          "metadata": {},
          "execution_count": 3
        }
      ]
    },
    {
      "cell_type": "markdown",
      "source": [
        "# Datenvorbereitung für die Analyse"
      ],
      "metadata": {
        "id": "u4Ie_55440se"
      }
    },
    {
      "cell_type": "markdown",
      "source": [
        "Der erste Schritt in unserer Analyse besteht darin, die Daten für die Verarbeitung vorzubereiten.\n",
        "\n",
        "Ein erster Blick auf die Preisdaten zeigt, dass einige Werte Kommata enthalten, was von Python nicht korrekt interpretiert werden kann. Um mit dieser Variablen besser arbeiten zu können und sie in einen numerischen Datentyp (Float) umzuwandeln, müssen wir die Kommata entfernen."
      ],
      "metadata": {
        "id": "g_wpPTSc9oit"
      }
    },
    {
      "cell_type": "code",
      "source": [
        "# limpando as vírgulas\n",
        "df_products_raw.replace(',','', regex=True, inplace=True)\n",
        "df_products_raw.head()"
      ],
      "metadata": {
        "colab": {
          "base_uri": "https://localhost:8080/",
          "height": 206
        },
        "id": "GGm4O49e93l2",
        "outputId": "10f708f7-98c3-4e3f-88eb-f3130ab3a706"
      },
      "execution_count": 4,
      "outputs": [
        {
          "output_type": "execute_result",
          "data": {
            "text/plain": [
              "   item_id                                          name     producer country  \\\n",
              "0        1              Philipponnat Royale Reserve Brut  Philipponat  France   \n",
              "1        2              Philipponnat Royale Reserve Rosé  Philipponat  France   \n",
              "2        3  Philipponnat Cuvée 1522 Grand Cru Extra Brut  Philipponat  France   \n",
              "3        4          Philipponnat Cuvée 1522 1er Cru Rosé  Philipponat  France   \n",
              "4        5            Philipponnat Clos Des Goisses Brut  Philipponat  France   \n",
              "\n",
              "      region vintage            kind price_brl price_usd  \n",
              "0  Champagne      NV       sparkling    339.60     58.75  \n",
              "1  Champagne      NV  rose sparkling    489.00     84.60  \n",
              "2  Champagne    2009       sparkling    789.00    136.51  \n",
              "3  Champagne    2008  rose sparkling    899.40    155.61  \n",
              "4  Champagne    2009       sparkling   1548.00    267.82  "
            ],
            "text/html": [
              "\n",
              "  <div id=\"df-5951caec-972d-49ba-b9b9-b6ee27643a00\" class=\"colab-df-container\">\n",
              "    <div>\n",
              "<style scoped>\n",
              "    .dataframe tbody tr th:only-of-type {\n",
              "        vertical-align: middle;\n",
              "    }\n",
              "\n",
              "    .dataframe tbody tr th {\n",
              "        vertical-align: top;\n",
              "    }\n",
              "\n",
              "    .dataframe thead th {\n",
              "        text-align: right;\n",
              "    }\n",
              "</style>\n",
              "<table border=\"1\" class=\"dataframe\">\n",
              "  <thead>\n",
              "    <tr style=\"text-align: right;\">\n",
              "      <th></th>\n",
              "      <th>item_id</th>\n",
              "      <th>name</th>\n",
              "      <th>producer</th>\n",
              "      <th>country</th>\n",
              "      <th>region</th>\n",
              "      <th>vintage</th>\n",
              "      <th>kind</th>\n",
              "      <th>price_brl</th>\n",
              "      <th>price_usd</th>\n",
              "    </tr>\n",
              "  </thead>\n",
              "  <tbody>\n",
              "    <tr>\n",
              "      <th>0</th>\n",
              "      <td>1</td>\n",
              "      <td>Philipponnat Royale Reserve Brut</td>\n",
              "      <td>Philipponat</td>\n",
              "      <td>France</td>\n",
              "      <td>Champagne</td>\n",
              "      <td>NV</td>\n",
              "      <td>sparkling</td>\n",
              "      <td>339.60</td>\n",
              "      <td>58.75</td>\n",
              "    </tr>\n",
              "    <tr>\n",
              "      <th>1</th>\n",
              "      <td>2</td>\n",
              "      <td>Philipponnat Royale Reserve Rosé</td>\n",
              "      <td>Philipponat</td>\n",
              "      <td>France</td>\n",
              "      <td>Champagne</td>\n",
              "      <td>NV</td>\n",
              "      <td>rose sparkling</td>\n",
              "      <td>489.00</td>\n",
              "      <td>84.60</td>\n",
              "    </tr>\n",
              "    <tr>\n",
              "      <th>2</th>\n",
              "      <td>3</td>\n",
              "      <td>Philipponnat Cuvée 1522 Grand Cru Extra Brut</td>\n",
              "      <td>Philipponat</td>\n",
              "      <td>France</td>\n",
              "      <td>Champagne</td>\n",
              "      <td>2009</td>\n",
              "      <td>sparkling</td>\n",
              "      <td>789.00</td>\n",
              "      <td>136.51</td>\n",
              "    </tr>\n",
              "    <tr>\n",
              "      <th>3</th>\n",
              "      <td>4</td>\n",
              "      <td>Philipponnat Cuvée 1522 1er Cru Rosé</td>\n",
              "      <td>Philipponat</td>\n",
              "      <td>France</td>\n",
              "      <td>Champagne</td>\n",
              "      <td>2008</td>\n",
              "      <td>rose sparkling</td>\n",
              "      <td>899.40</td>\n",
              "      <td>155.61</td>\n",
              "    </tr>\n",
              "    <tr>\n",
              "      <th>4</th>\n",
              "      <td>5</td>\n",
              "      <td>Philipponnat Clos Des Goisses Brut</td>\n",
              "      <td>Philipponat</td>\n",
              "      <td>France</td>\n",
              "      <td>Champagne</td>\n",
              "      <td>2009</td>\n",
              "      <td>sparkling</td>\n",
              "      <td>1548.00</td>\n",
              "      <td>267.82</td>\n",
              "    </tr>\n",
              "  </tbody>\n",
              "</table>\n",
              "</div>\n",
              "    <div class=\"colab-df-buttons\">\n",
              "\n",
              "  <div class=\"colab-df-container\">\n",
              "    <button class=\"colab-df-convert\" onclick=\"convertToInteractive('df-5951caec-972d-49ba-b9b9-b6ee27643a00')\"\n",
              "            title=\"Convert this dataframe to an interactive table.\"\n",
              "            style=\"display:none;\">\n",
              "\n",
              "  <svg xmlns=\"http://www.w3.org/2000/svg\" height=\"24px\" viewBox=\"0 -960 960 960\">\n",
              "    <path d=\"M120-120v-720h720v720H120Zm60-500h600v-160H180v160Zm220 220h160v-160H400v160Zm0 220h160v-160H400v160ZM180-400h160v-160H180v160Zm440 0h160v-160H620v160ZM180-180h160v-160H180v160Zm440 0h160v-160H620v160Z\"/>\n",
              "  </svg>\n",
              "    </button>\n",
              "\n",
              "  <style>\n",
              "    .colab-df-container {\n",
              "      display:flex;\n",
              "      gap: 12px;\n",
              "    }\n",
              "\n",
              "    .colab-df-convert {\n",
              "      background-color: #E8F0FE;\n",
              "      border: none;\n",
              "      border-radius: 50%;\n",
              "      cursor: pointer;\n",
              "      display: none;\n",
              "      fill: #1967D2;\n",
              "      height: 32px;\n",
              "      padding: 0 0 0 0;\n",
              "      width: 32px;\n",
              "    }\n",
              "\n",
              "    .colab-df-convert:hover {\n",
              "      background-color: #E2EBFA;\n",
              "      box-shadow: 0px 1px 2px rgba(60, 64, 67, 0.3), 0px 1px 3px 1px rgba(60, 64, 67, 0.15);\n",
              "      fill: #174EA6;\n",
              "    }\n",
              "\n",
              "    .colab-df-buttons div {\n",
              "      margin-bottom: 4px;\n",
              "    }\n",
              "\n",
              "    [theme=dark] .colab-df-convert {\n",
              "      background-color: #3B4455;\n",
              "      fill: #D2E3FC;\n",
              "    }\n",
              "\n",
              "    [theme=dark] .colab-df-convert:hover {\n",
              "      background-color: #434B5C;\n",
              "      box-shadow: 0px 1px 3px 1px rgba(0, 0, 0, 0.15);\n",
              "      filter: drop-shadow(0px 1px 2px rgba(0, 0, 0, 0.3));\n",
              "      fill: #FFFFFF;\n",
              "    }\n",
              "  </style>\n",
              "\n",
              "    <script>\n",
              "      const buttonEl =\n",
              "        document.querySelector('#df-5951caec-972d-49ba-b9b9-b6ee27643a00 button.colab-df-convert');\n",
              "      buttonEl.style.display =\n",
              "        google.colab.kernel.accessAllowed ? 'block' : 'none';\n",
              "\n",
              "      async function convertToInteractive(key) {\n",
              "        const element = document.querySelector('#df-5951caec-972d-49ba-b9b9-b6ee27643a00');\n",
              "        const dataTable =\n",
              "          await google.colab.kernel.invokeFunction('convertToInteractive',\n",
              "                                                    [key], {});\n",
              "        if (!dataTable) return;\n",
              "\n",
              "        const docLinkHtml = 'Like what you see? Visit the ' +\n",
              "          '<a target=\"_blank\" href=https://colab.research.google.com/notebooks/data_table.ipynb>data table notebook</a>'\n",
              "          + ' to learn more about interactive tables.';\n",
              "        element.innerHTML = '';\n",
              "        dataTable['output_type'] = 'display_data';\n",
              "        await google.colab.output.renderOutput(dataTable, element);\n",
              "        const docLink = document.createElement('div');\n",
              "        docLink.innerHTML = docLinkHtml;\n",
              "        element.appendChild(docLink);\n",
              "      }\n",
              "    </script>\n",
              "  </div>\n",
              "\n",
              "\n",
              "<div id=\"df-97620c60-0fc9-4dc3-8b1a-c1ffe99e5176\">\n",
              "  <button class=\"colab-df-quickchart\" onclick=\"quickchart('df-97620c60-0fc9-4dc3-8b1a-c1ffe99e5176')\"\n",
              "            title=\"Suggest charts\"\n",
              "            style=\"display:none;\">\n",
              "\n",
              "<svg xmlns=\"http://www.w3.org/2000/svg\" height=\"24px\"viewBox=\"0 0 24 24\"\n",
              "     width=\"24px\">\n",
              "    <g>\n",
              "        <path d=\"M19 3H5c-1.1 0-2 .9-2 2v14c0 1.1.9 2 2 2h14c1.1 0 2-.9 2-2V5c0-1.1-.9-2-2-2zM9 17H7v-7h2v7zm4 0h-2V7h2v10zm4 0h-2v-4h2v4z\"/>\n",
              "    </g>\n",
              "</svg>\n",
              "  </button>\n",
              "\n",
              "<style>\n",
              "  .colab-df-quickchart {\n",
              "      --bg-color: #E8F0FE;\n",
              "      --fill-color: #1967D2;\n",
              "      --hover-bg-color: #E2EBFA;\n",
              "      --hover-fill-color: #174EA6;\n",
              "      --disabled-fill-color: #AAA;\n",
              "      --disabled-bg-color: #DDD;\n",
              "  }\n",
              "\n",
              "  [theme=dark] .colab-df-quickchart {\n",
              "      --bg-color: #3B4455;\n",
              "      --fill-color: #D2E3FC;\n",
              "      --hover-bg-color: #434B5C;\n",
              "      --hover-fill-color: #FFFFFF;\n",
              "      --disabled-bg-color: #3B4455;\n",
              "      --disabled-fill-color: #666;\n",
              "  }\n",
              "\n",
              "  .colab-df-quickchart {\n",
              "    background-color: var(--bg-color);\n",
              "    border: none;\n",
              "    border-radius: 50%;\n",
              "    cursor: pointer;\n",
              "    display: none;\n",
              "    fill: var(--fill-color);\n",
              "    height: 32px;\n",
              "    padding: 0;\n",
              "    width: 32px;\n",
              "  }\n",
              "\n",
              "  .colab-df-quickchart:hover {\n",
              "    background-color: var(--hover-bg-color);\n",
              "    box-shadow: 0 1px 2px rgba(60, 64, 67, 0.3), 0 1px 3px 1px rgba(60, 64, 67, 0.15);\n",
              "    fill: var(--button-hover-fill-color);\n",
              "  }\n",
              "\n",
              "  .colab-df-quickchart-complete:disabled,\n",
              "  .colab-df-quickchart-complete:disabled:hover {\n",
              "    background-color: var(--disabled-bg-color);\n",
              "    fill: var(--disabled-fill-color);\n",
              "    box-shadow: none;\n",
              "  }\n",
              "\n",
              "  .colab-df-spinner {\n",
              "    border: 2px solid var(--fill-color);\n",
              "    border-color: transparent;\n",
              "    border-bottom-color: var(--fill-color);\n",
              "    animation:\n",
              "      spin 1s steps(1) infinite;\n",
              "  }\n",
              "\n",
              "  @keyframes spin {\n",
              "    0% {\n",
              "      border-color: transparent;\n",
              "      border-bottom-color: var(--fill-color);\n",
              "      border-left-color: var(--fill-color);\n",
              "    }\n",
              "    20% {\n",
              "      border-color: transparent;\n",
              "      border-left-color: var(--fill-color);\n",
              "      border-top-color: var(--fill-color);\n",
              "    }\n",
              "    30% {\n",
              "      border-color: transparent;\n",
              "      border-left-color: var(--fill-color);\n",
              "      border-top-color: var(--fill-color);\n",
              "      border-right-color: var(--fill-color);\n",
              "    }\n",
              "    40% {\n",
              "      border-color: transparent;\n",
              "      border-right-color: var(--fill-color);\n",
              "      border-top-color: var(--fill-color);\n",
              "    }\n",
              "    60% {\n",
              "      border-color: transparent;\n",
              "      border-right-color: var(--fill-color);\n",
              "    }\n",
              "    80% {\n",
              "      border-color: transparent;\n",
              "      border-right-color: var(--fill-color);\n",
              "      border-bottom-color: var(--fill-color);\n",
              "    }\n",
              "    90% {\n",
              "      border-color: transparent;\n",
              "      border-bottom-color: var(--fill-color);\n",
              "    }\n",
              "  }\n",
              "</style>\n",
              "\n",
              "  <script>\n",
              "    async function quickchart(key) {\n",
              "      const quickchartButtonEl =\n",
              "        document.querySelector('#' + key + ' button');\n",
              "      quickchartButtonEl.disabled = true;  // To prevent multiple clicks.\n",
              "      quickchartButtonEl.classList.add('colab-df-spinner');\n",
              "      try {\n",
              "        const charts = await google.colab.kernel.invokeFunction(\n",
              "            'suggestCharts', [key], {});\n",
              "      } catch (error) {\n",
              "        console.error('Error during call to suggestCharts:', error);\n",
              "      }\n",
              "      quickchartButtonEl.classList.remove('colab-df-spinner');\n",
              "      quickchartButtonEl.classList.add('colab-df-quickchart-complete');\n",
              "    }\n",
              "    (() => {\n",
              "      let quickchartButtonEl =\n",
              "        document.querySelector('#df-97620c60-0fc9-4dc3-8b1a-c1ffe99e5176 button');\n",
              "      quickchartButtonEl.style.display =\n",
              "        google.colab.kernel.accessAllowed ? 'block' : 'none';\n",
              "    })();\n",
              "  </script>\n",
              "</div>\n",
              "\n",
              "    </div>\n",
              "  </div>\n"
            ],
            "application/vnd.google.colaboratory.intrinsic+json": {
              "type": "dataframe",
              "variable_name": "df_products_raw",
              "summary": "{\n  \"name\": \"df_products_raw\",\n  \"rows\": 219,\n  \"fields\": [\n    {\n      \"column\": \"item_id\",\n      \"properties\": {\n        \"dtype\": \"number\",\n        \"std\": 63,\n        \"min\": 1,\n        \"max\": 219,\n        \"num_unique_values\": 219,\n        \"samples\": [\n          155,\n          94,\n          217\n        ],\n        \"semantic_type\": \"\",\n        \"description\": \"\"\n      }\n    },\n    {\n      \"column\": \"name\",\n      \"properties\": {\n        \"dtype\": \"string\",\n        \"num_unique_values\": 188,\n        \"samples\": [\n          \"Achaval-Ferrer Quimera\",\n          \"Aalto - 1.5L (Magnum)\",\n          \"Mirabeau Etoile\"\n        ],\n        \"semantic_type\": \"\",\n        \"description\": \"\"\n      }\n    },\n    {\n      \"column\": \"producer\",\n      \"properties\": {\n        \"dtype\": \"category\",\n        \"num_unique_values\": 58,\n        \"samples\": [\n          \"Philipponat\",\n          \"Mirabeau\",\n          \"Chateau Ducru Beaucaillou\"\n        ],\n        \"semantic_type\": \"\",\n        \"description\": \"\"\n      }\n    },\n    {\n      \"column\": \"country\",\n      \"properties\": {\n        \"dtype\": \"category\",\n        \"num_unique_values\": 6,\n        \"samples\": [\n          \"France\",\n          \"Italy\",\n          \"Argentina\"\n        ],\n        \"semantic_type\": \"\",\n        \"description\": \"\"\n      }\n    },\n    {\n      \"column\": \"region\",\n      \"properties\": {\n        \"dtype\": \"category\",\n        \"num_unique_values\": 21,\n        \"samples\": [\n          \"Champagne\",\n          \"Douro\",\n          \"Rioja\"\n        ],\n        \"semantic_type\": \"\",\n        \"description\": \"\"\n      }\n    },\n    {\n      \"column\": \"vintage\",\n      \"properties\": {\n        \"dtype\": \"category\",\n        \"num_unique_values\": 17,\n        \"samples\": [\n          \"NV\",\n          \"2009\",\n          \"2018\"\n        ],\n        \"semantic_type\": \"\",\n        \"description\": \"\"\n      }\n    },\n    {\n      \"column\": \"kind\",\n      \"properties\": {\n        \"dtype\": \"category\",\n        \"num_unique_values\": 5,\n        \"samples\": [\n          \"rose sparkling\",\n          \"red\",\n          \"white\"\n        ],\n        \"semantic_type\": \"\",\n        \"description\": \"\"\n      }\n    },\n    {\n      \"column\": \"price_brl\",\n      \"properties\": {\n        \"dtype\": \"string\",\n        \"num_unique_values\": 121,\n        \"samples\": [\n          \"349.20\",\n          \"425.40\",\n          \"1548.00\"\n        ],\n        \"semantic_type\": \"\",\n        \"description\": \"\"\n      }\n    },\n    {\n      \"column\": \"price_usd\",\n      \"properties\": {\n        \"dtype\": \"string\",\n        \"num_unique_values\": 121,\n        \"samples\": [\n          \"60.42\",\n          \"73.60\",\n          \"267.82\"\n        ],\n        \"semantic_type\": \"\",\n        \"description\": \"\"\n      }\n    }\n  ]\n}"
            }
          },
          "metadata": {},
          "execution_count": 4
        }
      ]
    },
    {
      "cell_type": "markdown",
      "source": [
        "# Datenüberprüfung und Anpassungen"
      ],
      "metadata": {
        "id": "Z9N5QcjdBLPe"
      }
    },
    {
      "cell_type": "markdown",
      "source": [
        "Es ist außerdem wichtig sicherzustellen, dass keine fehlenden Daten vorliegen und dass alle Informationen im benötigten Format vorliegen. In diesem Schritt werde ich einige Datentypen anpassen.\n",
        "\n",
        "Zunächst werde ich die ID-Werte in Strings umwandeln. Dadurch verhindern wir, dass ein Algorithmus später die Größe der Zahl in der ID mit Bedeutung verknüpft oder diese berücksichtigt. Die ID dient lediglich zur Identifikation der Produkte. Der Wein mit der ID 1 ist weder besser noch schlechter als der mit der ID 219 – die ID hat keinen Einfluss auf die Qualität.\n",
        "\n",
        "Zusätzlich werden die monetären Werte in das Float-Format umgewandelt, damit sie korrekt verarbeitet werden können."
      ],
      "metadata": {
        "id": "G6oV3Ta791c-"
      }
    },
    {
      "cell_type": "code",
      "source": [
        "df_products_raw.info()"
      ],
      "metadata": {
        "colab": {
          "base_uri": "https://localhost:8080/"
        },
        "id": "3TMR7usvBZfm",
        "outputId": "2aaa5b77-4c6d-4154-e2a9-8a4eddc936a0"
      },
      "execution_count": 5,
      "outputs": [
        {
          "output_type": "stream",
          "name": "stdout",
          "text": [
            "<class 'pandas.core.frame.DataFrame'>\n",
            "RangeIndex: 219 entries, 0 to 218\n",
            "Data columns (total 9 columns):\n",
            " #   Column     Non-Null Count  Dtype \n",
            "---  ------     --------------  ----- \n",
            " 0   item_id    219 non-null    int64 \n",
            " 1   name       219 non-null    object\n",
            " 2   producer   219 non-null    object\n",
            " 3   country    219 non-null    object\n",
            " 4   region     219 non-null    object\n",
            " 5   vintage    219 non-null    object\n",
            " 6   kind       219 non-null    object\n",
            " 7   price_brl  219 non-null    object\n",
            " 8   price_usd  219 non-null    object\n",
            "dtypes: int64(1), object(8)\n",
            "memory usage: 15.5+ KB\n"
          ]
        }
      ]
    },
    {
      "cell_type": "code",
      "source": [
        "# transformando as colunas\n",
        "df_products_raw.item_id = df_products_raw.item_id.astype(str)\n",
        "df_products_raw.price_brl = pd.to_numeric(df_products_raw.price_brl)\n",
        "df_products_raw.price_usd = pd.to_numeric(df_products_raw.price_usd)"
      ],
      "metadata": {
        "id": "DgRh2e-LBxF2"
      },
      "execution_count": 6,
      "outputs": []
    },
    {
      "cell_type": "code",
      "source": [
        "# verificando o conjunto de dados\n",
        "df_products_raw.info()"
      ],
      "metadata": {
        "colab": {
          "base_uri": "https://localhost:8080/"
        },
        "id": "XwVaf5mMDG1e",
        "outputId": "6e699da5-f685-458b-9b79-a01b0c833c32"
      },
      "execution_count": 7,
      "outputs": [
        {
          "output_type": "stream",
          "name": "stdout",
          "text": [
            "<class 'pandas.core.frame.DataFrame'>\n",
            "RangeIndex: 219 entries, 0 to 218\n",
            "Data columns (total 9 columns):\n",
            " #   Column     Non-Null Count  Dtype  \n",
            "---  ------     --------------  -----  \n",
            " 0   item_id    219 non-null    object \n",
            " 1   name       219 non-null    object \n",
            " 2   producer   219 non-null    object \n",
            " 3   country    219 non-null    object \n",
            " 4   region     219 non-null    object \n",
            " 5   vintage    219 non-null    object \n",
            " 6   kind       219 non-null    object \n",
            " 7   price_brl  219 non-null    float64\n",
            " 8   price_usd  219 non-null    float64\n",
            "dtypes: float64(2), object(7)\n",
            "memory usage: 15.5+ KB\n"
          ]
        }
      ]
    },
    {
      "cell_type": "markdown",
      "source": [
        "Ein weiterer Schritt in der Datenbereinigung besteht darin, die Werte der Variable Vintage (Jahrgang) anzupassen. Für die Zeilen, in denen „NV“ (Non-Vintage) steht, werde ich diesen Wert durch 0 ersetzen. Dies ermöglicht es uns, die Variable in ein numerisches Format umzuwandeln und somit besser mit den Daten zu arbeiten."
      ],
      "metadata": {
        "id": "YxiwKwmaDAs_"
      }
    },
    {
      "cell_type": "code",
      "source": [
        "# limpando os dados\n",
        "df_products_raw.vintage = df_products_raw.vintage.replace('NV', '0')\n",
        "df_products_raw.vintage = pd.to_numeric(df_products_raw.vintage)\n",
        "df_products_raw.head()"
      ],
      "metadata": {
        "colab": {
          "base_uri": "https://localhost:8080/",
          "height": 206
        },
        "id": "Kd0QkibvFuvv",
        "outputId": "4d75b438-2850-44d3-bb14-5b1aacac8178"
      },
      "execution_count": 8,
      "outputs": [
        {
          "output_type": "execute_result",
          "data": {
            "text/plain": [
              "  item_id                                          name     producer country  \\\n",
              "0       1              Philipponnat Royale Reserve Brut  Philipponat  France   \n",
              "1       2              Philipponnat Royale Reserve Rosé  Philipponat  France   \n",
              "2       3  Philipponnat Cuvée 1522 Grand Cru Extra Brut  Philipponat  France   \n",
              "3       4          Philipponnat Cuvée 1522 1er Cru Rosé  Philipponat  France   \n",
              "4       5            Philipponnat Clos Des Goisses Brut  Philipponat  France   \n",
              "\n",
              "      region  vintage            kind  price_brl  price_usd  \n",
              "0  Champagne        0       sparkling      339.6      58.75  \n",
              "1  Champagne        0  rose sparkling      489.0      84.60  \n",
              "2  Champagne     2009       sparkling      789.0     136.51  \n",
              "3  Champagne     2008  rose sparkling      899.4     155.61  \n",
              "4  Champagne     2009       sparkling     1548.0     267.82  "
            ],
            "text/html": [
              "\n",
              "  <div id=\"df-03e3681a-dd3b-4486-9210-6c1044f4bad1\" class=\"colab-df-container\">\n",
              "    <div>\n",
              "<style scoped>\n",
              "    .dataframe tbody tr th:only-of-type {\n",
              "        vertical-align: middle;\n",
              "    }\n",
              "\n",
              "    .dataframe tbody tr th {\n",
              "        vertical-align: top;\n",
              "    }\n",
              "\n",
              "    .dataframe thead th {\n",
              "        text-align: right;\n",
              "    }\n",
              "</style>\n",
              "<table border=\"1\" class=\"dataframe\">\n",
              "  <thead>\n",
              "    <tr style=\"text-align: right;\">\n",
              "      <th></th>\n",
              "      <th>item_id</th>\n",
              "      <th>name</th>\n",
              "      <th>producer</th>\n",
              "      <th>country</th>\n",
              "      <th>region</th>\n",
              "      <th>vintage</th>\n",
              "      <th>kind</th>\n",
              "      <th>price_brl</th>\n",
              "      <th>price_usd</th>\n",
              "    </tr>\n",
              "  </thead>\n",
              "  <tbody>\n",
              "    <tr>\n",
              "      <th>0</th>\n",
              "      <td>1</td>\n",
              "      <td>Philipponnat Royale Reserve Brut</td>\n",
              "      <td>Philipponat</td>\n",
              "      <td>France</td>\n",
              "      <td>Champagne</td>\n",
              "      <td>0</td>\n",
              "      <td>sparkling</td>\n",
              "      <td>339.6</td>\n",
              "      <td>58.75</td>\n",
              "    </tr>\n",
              "    <tr>\n",
              "      <th>1</th>\n",
              "      <td>2</td>\n",
              "      <td>Philipponnat Royale Reserve Rosé</td>\n",
              "      <td>Philipponat</td>\n",
              "      <td>France</td>\n",
              "      <td>Champagne</td>\n",
              "      <td>0</td>\n",
              "      <td>rose sparkling</td>\n",
              "      <td>489.0</td>\n",
              "      <td>84.60</td>\n",
              "    </tr>\n",
              "    <tr>\n",
              "      <th>2</th>\n",
              "      <td>3</td>\n",
              "      <td>Philipponnat Cuvée 1522 Grand Cru Extra Brut</td>\n",
              "      <td>Philipponat</td>\n",
              "      <td>France</td>\n",
              "      <td>Champagne</td>\n",
              "      <td>2009</td>\n",
              "      <td>sparkling</td>\n",
              "      <td>789.0</td>\n",
              "      <td>136.51</td>\n",
              "    </tr>\n",
              "    <tr>\n",
              "      <th>3</th>\n",
              "      <td>4</td>\n",
              "      <td>Philipponnat Cuvée 1522 1er Cru Rosé</td>\n",
              "      <td>Philipponat</td>\n",
              "      <td>France</td>\n",
              "      <td>Champagne</td>\n",
              "      <td>2008</td>\n",
              "      <td>rose sparkling</td>\n",
              "      <td>899.4</td>\n",
              "      <td>155.61</td>\n",
              "    </tr>\n",
              "    <tr>\n",
              "      <th>4</th>\n",
              "      <td>5</td>\n",
              "      <td>Philipponnat Clos Des Goisses Brut</td>\n",
              "      <td>Philipponat</td>\n",
              "      <td>France</td>\n",
              "      <td>Champagne</td>\n",
              "      <td>2009</td>\n",
              "      <td>sparkling</td>\n",
              "      <td>1548.0</td>\n",
              "      <td>267.82</td>\n",
              "    </tr>\n",
              "  </tbody>\n",
              "</table>\n",
              "</div>\n",
              "    <div class=\"colab-df-buttons\">\n",
              "\n",
              "  <div class=\"colab-df-container\">\n",
              "    <button class=\"colab-df-convert\" onclick=\"convertToInteractive('df-03e3681a-dd3b-4486-9210-6c1044f4bad1')\"\n",
              "            title=\"Convert this dataframe to an interactive table.\"\n",
              "            style=\"display:none;\">\n",
              "\n",
              "  <svg xmlns=\"http://www.w3.org/2000/svg\" height=\"24px\" viewBox=\"0 -960 960 960\">\n",
              "    <path d=\"M120-120v-720h720v720H120Zm60-500h600v-160H180v160Zm220 220h160v-160H400v160Zm0 220h160v-160H400v160ZM180-400h160v-160H180v160Zm440 0h160v-160H620v160ZM180-180h160v-160H180v160Zm440 0h160v-160H620v160Z\"/>\n",
              "  </svg>\n",
              "    </button>\n",
              "\n",
              "  <style>\n",
              "    .colab-df-container {\n",
              "      display:flex;\n",
              "      gap: 12px;\n",
              "    }\n",
              "\n",
              "    .colab-df-convert {\n",
              "      background-color: #E8F0FE;\n",
              "      border: none;\n",
              "      border-radius: 50%;\n",
              "      cursor: pointer;\n",
              "      display: none;\n",
              "      fill: #1967D2;\n",
              "      height: 32px;\n",
              "      padding: 0 0 0 0;\n",
              "      width: 32px;\n",
              "    }\n",
              "\n",
              "    .colab-df-convert:hover {\n",
              "      background-color: #E2EBFA;\n",
              "      box-shadow: 0px 1px 2px rgba(60, 64, 67, 0.3), 0px 1px 3px 1px rgba(60, 64, 67, 0.15);\n",
              "      fill: #174EA6;\n",
              "    }\n",
              "\n",
              "    .colab-df-buttons div {\n",
              "      margin-bottom: 4px;\n",
              "    }\n",
              "\n",
              "    [theme=dark] .colab-df-convert {\n",
              "      background-color: #3B4455;\n",
              "      fill: #D2E3FC;\n",
              "    }\n",
              "\n",
              "    [theme=dark] .colab-df-convert:hover {\n",
              "      background-color: #434B5C;\n",
              "      box-shadow: 0px 1px 3px 1px rgba(0, 0, 0, 0.15);\n",
              "      filter: drop-shadow(0px 1px 2px rgba(0, 0, 0, 0.3));\n",
              "      fill: #FFFFFF;\n",
              "    }\n",
              "  </style>\n",
              "\n",
              "    <script>\n",
              "      const buttonEl =\n",
              "        document.querySelector('#df-03e3681a-dd3b-4486-9210-6c1044f4bad1 button.colab-df-convert');\n",
              "      buttonEl.style.display =\n",
              "        google.colab.kernel.accessAllowed ? 'block' : 'none';\n",
              "\n",
              "      async function convertToInteractive(key) {\n",
              "        const element = document.querySelector('#df-03e3681a-dd3b-4486-9210-6c1044f4bad1');\n",
              "        const dataTable =\n",
              "          await google.colab.kernel.invokeFunction('convertToInteractive',\n",
              "                                                    [key], {});\n",
              "        if (!dataTable) return;\n",
              "\n",
              "        const docLinkHtml = 'Like what you see? Visit the ' +\n",
              "          '<a target=\"_blank\" href=https://colab.research.google.com/notebooks/data_table.ipynb>data table notebook</a>'\n",
              "          + ' to learn more about interactive tables.';\n",
              "        element.innerHTML = '';\n",
              "        dataTable['output_type'] = 'display_data';\n",
              "        await google.colab.output.renderOutput(dataTable, element);\n",
              "        const docLink = document.createElement('div');\n",
              "        docLink.innerHTML = docLinkHtml;\n",
              "        element.appendChild(docLink);\n",
              "      }\n",
              "    </script>\n",
              "  </div>\n",
              "\n",
              "\n",
              "<div id=\"df-2c86bb7b-79f3-4295-b111-5d215b832dfc\">\n",
              "  <button class=\"colab-df-quickchart\" onclick=\"quickchart('df-2c86bb7b-79f3-4295-b111-5d215b832dfc')\"\n",
              "            title=\"Suggest charts\"\n",
              "            style=\"display:none;\">\n",
              "\n",
              "<svg xmlns=\"http://www.w3.org/2000/svg\" height=\"24px\"viewBox=\"0 0 24 24\"\n",
              "     width=\"24px\">\n",
              "    <g>\n",
              "        <path d=\"M19 3H5c-1.1 0-2 .9-2 2v14c0 1.1.9 2 2 2h14c1.1 0 2-.9 2-2V5c0-1.1-.9-2-2-2zM9 17H7v-7h2v7zm4 0h-2V7h2v10zm4 0h-2v-4h2v4z\"/>\n",
              "    </g>\n",
              "</svg>\n",
              "  </button>\n",
              "\n",
              "<style>\n",
              "  .colab-df-quickchart {\n",
              "      --bg-color: #E8F0FE;\n",
              "      --fill-color: #1967D2;\n",
              "      --hover-bg-color: #E2EBFA;\n",
              "      --hover-fill-color: #174EA6;\n",
              "      --disabled-fill-color: #AAA;\n",
              "      --disabled-bg-color: #DDD;\n",
              "  }\n",
              "\n",
              "  [theme=dark] .colab-df-quickchart {\n",
              "      --bg-color: #3B4455;\n",
              "      --fill-color: #D2E3FC;\n",
              "      --hover-bg-color: #434B5C;\n",
              "      --hover-fill-color: #FFFFFF;\n",
              "      --disabled-bg-color: #3B4455;\n",
              "      --disabled-fill-color: #666;\n",
              "  }\n",
              "\n",
              "  .colab-df-quickchart {\n",
              "    background-color: var(--bg-color);\n",
              "    border: none;\n",
              "    border-radius: 50%;\n",
              "    cursor: pointer;\n",
              "    display: none;\n",
              "    fill: var(--fill-color);\n",
              "    height: 32px;\n",
              "    padding: 0;\n",
              "    width: 32px;\n",
              "  }\n",
              "\n",
              "  .colab-df-quickchart:hover {\n",
              "    background-color: var(--hover-bg-color);\n",
              "    box-shadow: 0 1px 2px rgba(60, 64, 67, 0.3), 0 1px 3px 1px rgba(60, 64, 67, 0.15);\n",
              "    fill: var(--button-hover-fill-color);\n",
              "  }\n",
              "\n",
              "  .colab-df-quickchart-complete:disabled,\n",
              "  .colab-df-quickchart-complete:disabled:hover {\n",
              "    background-color: var(--disabled-bg-color);\n",
              "    fill: var(--disabled-fill-color);\n",
              "    box-shadow: none;\n",
              "  }\n",
              "\n",
              "  .colab-df-spinner {\n",
              "    border: 2px solid var(--fill-color);\n",
              "    border-color: transparent;\n",
              "    border-bottom-color: var(--fill-color);\n",
              "    animation:\n",
              "      spin 1s steps(1) infinite;\n",
              "  }\n",
              "\n",
              "  @keyframes spin {\n",
              "    0% {\n",
              "      border-color: transparent;\n",
              "      border-bottom-color: var(--fill-color);\n",
              "      border-left-color: var(--fill-color);\n",
              "    }\n",
              "    20% {\n",
              "      border-color: transparent;\n",
              "      border-left-color: var(--fill-color);\n",
              "      border-top-color: var(--fill-color);\n",
              "    }\n",
              "    30% {\n",
              "      border-color: transparent;\n",
              "      border-left-color: var(--fill-color);\n",
              "      border-top-color: var(--fill-color);\n",
              "      border-right-color: var(--fill-color);\n",
              "    }\n",
              "    40% {\n",
              "      border-color: transparent;\n",
              "      border-right-color: var(--fill-color);\n",
              "      border-top-color: var(--fill-color);\n",
              "    }\n",
              "    60% {\n",
              "      border-color: transparent;\n",
              "      border-right-color: var(--fill-color);\n",
              "    }\n",
              "    80% {\n",
              "      border-color: transparent;\n",
              "      border-right-color: var(--fill-color);\n",
              "      border-bottom-color: var(--fill-color);\n",
              "    }\n",
              "    90% {\n",
              "      border-color: transparent;\n",
              "      border-bottom-color: var(--fill-color);\n",
              "    }\n",
              "  }\n",
              "</style>\n",
              "\n",
              "  <script>\n",
              "    async function quickchart(key) {\n",
              "      const quickchartButtonEl =\n",
              "        document.querySelector('#' + key + ' button');\n",
              "      quickchartButtonEl.disabled = true;  // To prevent multiple clicks.\n",
              "      quickchartButtonEl.classList.add('colab-df-spinner');\n",
              "      try {\n",
              "        const charts = await google.colab.kernel.invokeFunction(\n",
              "            'suggestCharts', [key], {});\n",
              "      } catch (error) {\n",
              "        console.error('Error during call to suggestCharts:', error);\n",
              "      }\n",
              "      quickchartButtonEl.classList.remove('colab-df-spinner');\n",
              "      quickchartButtonEl.classList.add('colab-df-quickchart-complete');\n",
              "    }\n",
              "    (() => {\n",
              "      let quickchartButtonEl =\n",
              "        document.querySelector('#df-2c86bb7b-79f3-4295-b111-5d215b832dfc button');\n",
              "      quickchartButtonEl.style.display =\n",
              "        google.colab.kernel.accessAllowed ? 'block' : 'none';\n",
              "    })();\n",
              "  </script>\n",
              "</div>\n",
              "\n",
              "    </div>\n",
              "  </div>\n"
            ],
            "application/vnd.google.colaboratory.intrinsic+json": {
              "type": "dataframe",
              "variable_name": "df_products_raw",
              "summary": "{\n  \"name\": \"df_products_raw\",\n  \"rows\": 219,\n  \"fields\": [\n    {\n      \"column\": \"item_id\",\n      \"properties\": {\n        \"dtype\": \"string\",\n        \"num_unique_values\": 219,\n        \"samples\": [\n          \"155\",\n          \"94\",\n          \"217\"\n        ],\n        \"semantic_type\": \"\",\n        \"description\": \"\"\n      }\n    },\n    {\n      \"column\": \"name\",\n      \"properties\": {\n        \"dtype\": \"string\",\n        \"num_unique_values\": 188,\n        \"samples\": [\n          \"Achaval-Ferrer Quimera\",\n          \"Aalto - 1.5L (Magnum)\",\n          \"Mirabeau Etoile\"\n        ],\n        \"semantic_type\": \"\",\n        \"description\": \"\"\n      }\n    },\n    {\n      \"column\": \"producer\",\n      \"properties\": {\n        \"dtype\": \"category\",\n        \"num_unique_values\": 58,\n        \"samples\": [\n          \"Philipponat\",\n          \"Mirabeau\",\n          \"Chateau Ducru Beaucaillou\"\n        ],\n        \"semantic_type\": \"\",\n        \"description\": \"\"\n      }\n    },\n    {\n      \"column\": \"country\",\n      \"properties\": {\n        \"dtype\": \"category\",\n        \"num_unique_values\": 6,\n        \"samples\": [\n          \"France\",\n          \"Italy\",\n          \"Argentina\"\n        ],\n        \"semantic_type\": \"\",\n        \"description\": \"\"\n      }\n    },\n    {\n      \"column\": \"region\",\n      \"properties\": {\n        \"dtype\": \"category\",\n        \"num_unique_values\": 21,\n        \"samples\": [\n          \"Champagne\",\n          \"Douro\",\n          \"Rioja\"\n        ],\n        \"semantic_type\": \"\",\n        \"description\": \"\"\n      }\n    },\n    {\n      \"column\": \"vintage\",\n      \"properties\": {\n        \"dtype\": \"number\",\n        \"std\": 379,\n        \"min\": 0,\n        \"max\": 2019,\n        \"num_unique_values\": 17,\n        \"samples\": [\n          0,\n          2009,\n          2018\n        ],\n        \"semantic_type\": \"\",\n        \"description\": \"\"\n      }\n    },\n    {\n      \"column\": \"kind\",\n      \"properties\": {\n        \"dtype\": \"category\",\n        \"num_unique_values\": 5,\n        \"samples\": [\n          \"rose sparkling\",\n          \"red\",\n          \"white\"\n        ],\n        \"semantic_type\": \"\",\n        \"description\": \"\"\n      }\n    },\n    {\n      \"column\": \"price_brl\",\n      \"properties\": {\n        \"dtype\": \"number\",\n        \"std\": 1409.5882168469232,\n        \"min\": 52.8,\n        \"max\": 10992.0,\n        \"num_unique_values\": 121,\n        \"samples\": [\n          349.2,\n          425.4,\n          1548.0\n        ],\n        \"semantic_type\": \"\",\n        \"description\": \"\"\n      }\n    },\n    {\n      \"column\": \"price_usd\",\n      \"properties\": {\n        \"dtype\": \"number\",\n        \"std\": 243.87378010122805,\n        \"min\": 9.13,\n        \"max\": 1901.73,\n        \"num_unique_values\": 121,\n        \"samples\": [\n          60.42,\n          73.6,\n          267.82\n        ],\n        \"semantic_type\": \"\",\n        \"description\": \"\"\n      }\n    }\n  ]\n}"
            }
          },
          "metadata": {},
          "execution_count": 8
        }
      ]
    },
    {
      "cell_type": "code",
      "source": [
        "# salvando o conjunto limpo\n",
        "df_products_raw.to_csv('products_clean.csv', index=0)"
      ],
      "metadata": {
        "id": "SjpBscsHGA83"
      },
      "execution_count": 9,
      "outputs": []
    },
    {
      "cell_type": "markdown",
      "source": [
        "# Datenanalyse\n",
        "\n",
        "\n",
        "\n"
      ],
      "metadata": {
        "id": "u2pUhMj5LSQ4"
      }
    },
    {
      "cell_type": "markdown",
      "source": [
        "Jetzt, da unsere Daten das gewünschte Format haben, wird die Analyse deutlich effizienter und verständlicher! Im ersten Schritt werden wir gezielte Abfragen durchführen, um unser Datenset besser zu verstehen und wichtige Erkenntnisse daraus zu ziehen.\n",
        "\n",
        "Der Fokus der Analyse liegt auf den Produkten (Weinen) und deren Eigenschaften, wie zum Beispiel:\n",
        "\n",
        "- **Produzenten:** Wer sind die wichtigsten Hersteller?\n",
        "- **Herkunftsregion:** Aus welchen Regionen kommen die Weine?\n",
        "- **Ursprungsland:** Welche Länder dominieren die Weinliste?\n",
        "- **Weintyp:** Welche Arten von Weinen (Rot, Weiß, Rosé, etc.) sind enthalten?\n",
        "- **Jahrgänge:** Welche Jahrgänge sind vertreten, und wie verteilen sie sich?\n",
        "- **Preise:** Wie variieren die Preise zwischen den verschiedenen Weinen?\n",
        "\n",
        "Diese erste Analyse dient dazu, grundlegende Muster und Trends in den Daten zu identifizieren, bevor wir uns tiefergehenden Untersuchungen widmen.\n",
        "\n"
      ],
      "metadata": {
        "id": "iOWcTBn8LScP"
      }
    },
    {
      "cell_type": "code",
      "source": [
        "# verificando a quantidade de produtores Länder und Jahgänge\n",
        "# Überprüfung der Anzahl von Produzenten,Weinen Ländern und Jahrgängen.\n",
        "print(\"Anzahl der Weine in der Weinkarte: \", (len(df_products_raw.value_counts())))\n",
        "print(\"Anzahl der Produzenten in der Weinkarte: \", (len(df_products_raw.producer.value_counts())))\n",
        "print(\"Anzahl der Länder in der Weinkarte: \", (len(df_products_raw.country.value_counts())))\n",
        "print(\"Anzahl der Jahrgänge in der Weinkarte: \", (len(df_products_raw.vintage.value_counts())))\n",
        "print(\"Anzahl der Weintyp in der Weinkarte: \", (len(df_products_raw.kind.value_counts())))\n",
        "print(\"Anzahl der Region in der Weinkarte: \", (len(df_products_raw.region.value_counts())),\"\\n\")"
      ],
      "metadata": {
        "colab": {
          "base_uri": "https://localhost:8080/"
        },
        "id": "Y_8AFh4eOjof",
        "outputId": "c829122f-f7ed-47cf-b1fd-8325e53e460e"
      },
      "execution_count": 10,
      "outputs": [
        {
          "output_type": "stream",
          "name": "stdout",
          "text": [
            "Anzahl der Weine in der Weinkarte:  219\n",
            "Anzahl der Produzenten in der Weinkarte:  58\n",
            "Anzahl der Länder in der Weinkarte:  6\n",
            "Anzahl der Jahrgänge in der Weinkarte:  17\n",
            "Anzahl der Weintyp in der Weinkarte:  5\n",
            "Anzahl der Region in der Weinkarte:  21 \n",
            "\n"
          ]
        }
      ]
    },
    {
      "cell_type": "code",
      "source": [
        "countrys = df_products_raw['country'].value_counts()[:]\n",
        "countrys"
      ],
      "metadata": {
        "colab": {
          "base_uri": "https://localhost:8080/",
          "height": 303
        },
        "id": "YMyIkdgZ5HGr",
        "outputId": "6792be59-ddba-4963-e1a2-0301ec8b5793"
      },
      "execution_count": 11,
      "outputs": [
        {
          "output_type": "execute_result",
          "data": {
            "text/plain": [
              "country\n",
              "France       154\n",
              "Italy         23\n",
              "Spain         18\n",
              "Portugal      15\n",
              "Argentina      8\n",
              "Chile          1\n",
              "Name: count, dtype: int64"
            ],
            "text/html": [
              "<div>\n",
              "<style scoped>\n",
              "    .dataframe tbody tr th:only-of-type {\n",
              "        vertical-align: middle;\n",
              "    }\n",
              "\n",
              "    .dataframe tbody tr th {\n",
              "        vertical-align: top;\n",
              "    }\n",
              "\n",
              "    .dataframe thead th {\n",
              "        text-align: right;\n",
              "    }\n",
              "</style>\n",
              "<table border=\"1\" class=\"dataframe\">\n",
              "  <thead>\n",
              "    <tr style=\"text-align: right;\">\n",
              "      <th></th>\n",
              "      <th>count</th>\n",
              "    </tr>\n",
              "    <tr>\n",
              "      <th>country</th>\n",
              "      <th></th>\n",
              "    </tr>\n",
              "  </thead>\n",
              "  <tbody>\n",
              "    <tr>\n",
              "      <th>France</th>\n",
              "      <td>154</td>\n",
              "    </tr>\n",
              "    <tr>\n",
              "      <th>Italy</th>\n",
              "      <td>23</td>\n",
              "    </tr>\n",
              "    <tr>\n",
              "      <th>Spain</th>\n",
              "      <td>18</td>\n",
              "    </tr>\n",
              "    <tr>\n",
              "      <th>Portugal</th>\n",
              "      <td>15</td>\n",
              "    </tr>\n",
              "    <tr>\n",
              "      <th>Argentina</th>\n",
              "      <td>8</td>\n",
              "    </tr>\n",
              "    <tr>\n",
              "      <th>Chile</th>\n",
              "      <td>1</td>\n",
              "    </tr>\n",
              "  </tbody>\n",
              "</table>\n",
              "</div><br><label><b>dtype:</b> int64</label>"
            ]
          },
          "metadata": {},
          "execution_count": 11
        }
      ]
    },
    {
      "cell_type": "code",
      "source": [
        "# Zähle die Anzahl der Produzenten\n",
        "df_produzent_analysis = df_products_raw.copy()\n",
        "\n",
        "country_counts = df_produzent_analysis['country'].value_counts()[:]\n",
        "\n",
        "\n",
        "country_percentages = (country_counts / country_counts.sum()) * 100\n",
        "\n",
        "labels=country_percentages.index.to_list()[:10]\n",
        "value_percent=country_percentages.values.tolist()[:10]\n",
        "gerundete_werte = np.round(value_percent, 1)\n",
        "\n",
        "fig, ax = plt.subplots(figsize=(10,8))\n",
        "\n",
        "# ajustes para construir o gráfico\n",
        "x = np.arange(len(labels))\n",
        "width_bar = 0.30\n",
        "\n",
        "# bar Grafik\n",
        "rects2 = ax.bar(x,gerundete_werte,width_bar)\n",
        "\n",
        "# axes\n",
        "ax.set_xticks(x)\n",
        "ax.set_xticklabels(labels,color=\"#787878\");\n",
        "\n",
        "# # remover grids e eixos\n",
        "ax.spines['right'].set_visible(False)\n",
        "ax.spines['left'].set_visible(False)\n",
        "ax.spines['top'].set_visible(False)\n",
        "ax.spines['bottom'].set_visible(False)\n",
        "\n",
        "# # remover eixo y\n",
        "plt.gca().axes.get_yaxis().set_visible(False)\n",
        "plt.title('Länder und Prozentsatz')\n",
        "\n",
        "# remover xticks do eixo x\n",
        "plt.tick_params(\n",
        "    axis='both',\n",
        "    which='both',\n",
        "    bottom=False,\n",
        "    top=False,\n",
        "    labelbottom=True)\n",
        "\n",
        "plt.xticks(rotation=80)\n",
        "\n",
        "# Funktion zum Hinzufügen der Werte als Text in die Balken\n",
        "def autolabel(rects):\n",
        "    for rect in rects:\n",
        "        height = rect.get_height()  # Höhe des Balkens (entspricht dem Wert)\n",
        "        ax.annotate(\n",
        "                    '{}%'.format(height), # Der Wert wird als Text angezeigt\n",
        "                    xy=(rect.get_x() ,  height), # Position des Textes relativ zum Balken\n",
        "                    xytext=(18,-20),  # Versatz (Offset) des Textes\n",
        "                    textcoords=\"offset points\",# Textkoordinaten sind relativ zum Punkt\n",
        "                    ha='center',# Zentrieren des Textes\n",
        "                    #va='bottom',\n",
        "                    #fontsize=10,\n",
        "                    color=\"White\", # Textfarbe\n",
        "                    )\n",
        "\n",
        "# plotar labels dentro das barras\n",
        "autolabel(rects2)\n",
        "\n",
        "# plotar gráfico\n",
        "fig.tight_layout()\n",
        "plt.show()"
      ],
      "metadata": {
        "colab": {
          "base_uri": "https://localhost:8080/",
          "height": 779
        },
        "id": "pWnkSUfp_Or5",
        "outputId": "378acc8f-d0f4-431a-90b6-4c71e90e4ab1"
      },
      "execution_count": 15,
      "outputs": [
        {
          "output_type": "display_data",
          "data": {
            "text/plain": [
              "<Figure size 1000x800 with 1 Axes>"
            ],
            "image/svg+xml": "<?xml version=\"1.0\" encoding=\"utf-8\" standalone=\"no\"?>\n<!DOCTYPE svg PUBLIC \"-//W3C//DTD SVG 1.1//EN\"\n  \"http://www.w3.org/Graphics/SVG/1.1/DTD/svg11.dtd\">\n<svg xmlns:xlink=\"http://www.w3.org/1999/xlink\" width=\"712.8pt\" height=\"567.6794pt\" viewBox=\"0 0 712.8 567.6794\" xmlns=\"http://www.w3.org/2000/svg\" version=\"1.1\">\n <metadata>\n  <rdf:RDF xmlns:dc=\"http://purl.org/dc/elements/1.1/\" xmlns:cc=\"http://creativecommons.org/ns#\" xmlns:rdf=\"http://www.w3.org/1999/02/22-rdf-syntax-ns#\">\n   <cc:Work>\n    <dc:type rdf:resource=\"http://purl.org/dc/dcmitype/StillImage\"/>\n    <dc:date>2024-12-02T20:08:17.139315</dc:date>\n    <dc:format>image/svg+xml</dc:format>\n    <dc:creator>\n     <cc:Agent>\n      <dc:title>Matplotlib v3.8.0, https://matplotlib.org/</dc:title>\n     </cc:Agent>\n    </dc:creator>\n   </cc:Work>\n  </rdf:RDF>\n </metadata>\n <defs>\n  <style type=\"text/css\">*{stroke-linejoin: round; stroke-linecap: butt}</style>\n </defs>\n <g id=\"figure_1\">\n  <g id=\"patch_1\">\n   <path d=\"M 0 567.6794 \nL 712.8 567.6794 \nL 712.8 0 \nL 0 0 \nz\n\" style=\"fill: #ffffff\"/>\n  </g>\n  <g id=\"axes_1\">\n   <g id=\"patch_2\">\n    <path d=\"M 7.2 503.760196 \nL 705.6 503.760196 \nL 705.6 22.318125 \nL 7.2 22.318125 \nz\n\" style=\"fill: #ffffff\"/>\n   </g>\n   <g id=\"patch_3\">\n    <path d=\"M 38.945455 503.760196 \nL 74.883705 503.760196 \nL 74.883705 45.243938 \nL 38.945455 45.243938 \nz\n\" clip-path=\"url(#pc3173492a6)\" style=\"fill: #1f77b4\"/>\n   </g>\n   <g id=\"patch_4\">\n    <path d=\"M 158.739623 503.760196 \nL 194.677873 503.760196 \nL 194.677873 435.27626 \nL 158.739623 435.27626 \nz\n\" clip-path=\"url(#pc3173492a6)\" style=\"fill: #1f77b4\"/>\n   </g>\n   <g id=\"patch_5\">\n    <path d=\"M 278.533791 503.760196 \nL 314.472041 503.760196 \nL 314.472041 450.277503 \nL 278.533791 450.277503 \nz\n\" clip-path=\"url(#pc3173492a6)\" style=\"fill: #1f77b4\"/>\n   </g>\n   <g id=\"patch_6\">\n    <path d=\"M 398.327959 503.760196 \nL 434.266209 503.760196 \nL 434.266209 459.408695 \nL 398.327959 459.408695 \nz\n\" clip-path=\"url(#pc3173492a6)\" style=\"fill: #1f77b4\"/>\n   </g>\n   <g id=\"patch_7\">\n    <path d=\"M 518.122127 503.760196 \nL 554.060377 503.760196 \nL 554.060377 479.627762 \nL 518.122127 479.627762 \nz\n\" clip-path=\"url(#pc3173492a6)\" style=\"fill: #1f77b4\"/>\n   </g>\n   <g id=\"patch_8\">\n    <path d=\"M 637.916295 503.760196 \nL 673.854545 503.760196 \nL 673.854545 500.499057 \nL 637.916295 500.499057 \nz\n\" clip-path=\"url(#pc3173492a6)\" style=\"fill: #1f77b4\"/>\n   </g>\n   <g id=\"matplotlib.axis_1\">\n    <g id=\"xtick_1\">\n     <g id=\"text_1\">\n      <!-- France -->\n      <g style=\"fill: #787878\" transform=\"translate(56.744726 544.829125) rotate(-80) scale(0.1 -0.1)\">\n       <defs>\n        <path id=\"DejaVuSans-46\" d=\"M 628 4666 \nL 3309 4666 \nL 3309 4134 \nL 1259 4134 \nL 1259 2759 \nL 3109 2759 \nL 3109 2228 \nL 1259 2228 \nL 1259 0 \nL 628 0 \nL 628 4666 \nz\n\" transform=\"scale(0.015625)\"/>\n        <path id=\"DejaVuSans-72\" d=\"M 2631 2963 \nQ 2534 3019 2420 3045 \nQ 2306 3072 2169 3072 \nQ 1681 3072 1420 2755 \nQ 1159 2438 1159 1844 \nL 1159 0 \nL 581 0 \nL 581 3500 \nL 1159 3500 \nL 1159 2956 \nQ 1341 3275 1631 3429 \nQ 1922 3584 2338 3584 \nQ 2397 3584 2469 3576 \nQ 2541 3569 2628 3553 \nL 2631 2963 \nz\n\" transform=\"scale(0.015625)\"/>\n        <path id=\"DejaVuSans-61\" d=\"M 2194 1759 \nQ 1497 1759 1228 1600 \nQ 959 1441 959 1056 \nQ 959 750 1161 570 \nQ 1363 391 1709 391 \nQ 2188 391 2477 730 \nQ 2766 1069 2766 1631 \nL 2766 1759 \nL 2194 1759 \nz\nM 3341 1997 \nL 3341 0 \nL 2766 0 \nL 2766 531 \nQ 2569 213 2275 61 \nQ 1981 -91 1556 -91 \nQ 1019 -91 701 211 \nQ 384 513 384 1019 \nQ 384 1609 779 1909 \nQ 1175 2209 1959 2209 \nL 2766 2209 \nL 2766 2266 \nQ 2766 2663 2505 2880 \nQ 2244 3097 1772 3097 \nQ 1472 3097 1187 3025 \nQ 903 2953 641 2809 \nL 641 3341 \nQ 956 3463 1253 3523 \nQ 1550 3584 1831 3584 \nQ 2591 3584 2966 3190 \nQ 3341 2797 3341 1997 \nz\n\" transform=\"scale(0.015625)\"/>\n        <path id=\"DejaVuSans-6e\" d=\"M 3513 2113 \nL 3513 0 \nL 2938 0 \nL 2938 2094 \nQ 2938 2591 2744 2837 \nQ 2550 3084 2163 3084 \nQ 1697 3084 1428 2787 \nQ 1159 2491 1159 1978 \nL 1159 0 \nL 581 0 \nL 581 3500 \nL 1159 3500 \nL 1159 2956 \nQ 1366 3272 1645 3428 \nQ 1925 3584 2291 3584 \nQ 2894 3584 3203 3211 \nQ 3513 2838 3513 2113 \nz\n\" transform=\"scale(0.015625)\"/>\n        <path id=\"DejaVuSans-63\" d=\"M 3122 3366 \nL 3122 2828 \nQ 2878 2963 2633 3030 \nQ 2388 3097 2138 3097 \nQ 1578 3097 1268 2742 \nQ 959 2388 959 1747 \nQ 959 1106 1268 751 \nQ 1578 397 2138 397 \nQ 2388 397 2633 464 \nQ 2878 531 3122 666 \nL 3122 134 \nQ 2881 22 2623 -34 \nQ 2366 -91 2075 -91 \nQ 1284 -91 818 406 \nQ 353 903 353 1747 \nQ 353 2603 823 3093 \nQ 1294 3584 2113 3584 \nQ 2378 3584 2631 3529 \nQ 2884 3475 3122 3366 \nz\n\" transform=\"scale(0.015625)\"/>\n        <path id=\"DejaVuSans-65\" d=\"M 3597 1894 \nL 3597 1613 \nL 953 1613 \nQ 991 1019 1311 708 \nQ 1631 397 2203 397 \nQ 2534 397 2845 478 \nQ 3156 559 3463 722 \nL 3463 178 \nQ 3153 47 2828 -22 \nQ 2503 -91 2169 -91 \nQ 1331 -91 842 396 \nQ 353 884 353 1716 \nQ 353 2575 817 3079 \nQ 1281 3584 2069 3584 \nQ 2775 3584 3186 3129 \nQ 3597 2675 3597 1894 \nz\nM 3022 2063 \nQ 3016 2534 2758 2815 \nQ 2500 3097 2075 3097 \nQ 1594 3097 1305 2825 \nQ 1016 2553 972 2059 \nL 3022 2063 \nz\n\" transform=\"scale(0.015625)\"/>\n       </defs>\n       <use xlink:href=\"#DejaVuSans-46\"/>\n       <use xlink:href=\"#DejaVuSans-72\" x=\"50.269531\"/>\n       <use xlink:href=\"#DejaVuSans-61\" x=\"91.382812\"/>\n       <use xlink:href=\"#DejaVuSans-6e\" x=\"152.662109\"/>\n       <use xlink:href=\"#DejaVuSans-63\" x=\"216.041016\"/>\n       <use xlink:href=\"#DejaVuSans-65\" x=\"271.021484\"/>\n      </g>\n     </g>\n    </g>\n    <g id=\"xtick_2\">\n     <g id=\"text_2\">\n      <!-- Italy -->\n      <g style=\"fill: #787878\" transform=\"translate(177.542526 533.445363) rotate(-80) scale(0.1 -0.1)\">\n       <defs>\n        <path id=\"DejaVuSans-49\" d=\"M 628 4666 \nL 1259 4666 \nL 1259 0 \nL 628 0 \nL 628 4666 \nz\n\" transform=\"scale(0.015625)\"/>\n        <path id=\"DejaVuSans-74\" d=\"M 1172 4494 \nL 1172 3500 \nL 2356 3500 \nL 2356 3053 \nL 1172 3053 \nL 1172 1153 \nQ 1172 725 1289 603 \nQ 1406 481 1766 481 \nL 2356 481 \nL 2356 0 \nL 1766 0 \nQ 1100 0 847 248 \nQ 594 497 594 1153 \nL 594 3053 \nL 172 3053 \nL 172 3500 \nL 594 3500 \nL 594 4494 \nL 1172 4494 \nz\n\" transform=\"scale(0.015625)\"/>\n        <path id=\"DejaVuSans-6c\" d=\"M 603 4863 \nL 1178 4863 \nL 1178 0 \nL 603 0 \nL 603 4863 \nz\n\" transform=\"scale(0.015625)\"/>\n        <path id=\"DejaVuSans-79\" d=\"M 2059 -325 \nQ 1816 -950 1584 -1140 \nQ 1353 -1331 966 -1331 \nL 506 -1331 \nL 506 -850 \nL 844 -850 \nQ 1081 -850 1212 -737 \nQ 1344 -625 1503 -206 \nL 1606 56 \nL 191 3500 \nL 800 3500 \nL 1894 763 \nL 2988 3500 \nL 3597 3500 \nL 2059 -325 \nz\n\" transform=\"scale(0.015625)\"/>\n       </defs>\n       <use xlink:href=\"#DejaVuSans-49\"/>\n       <use xlink:href=\"#DejaVuSans-74\" x=\"29.492188\"/>\n       <use xlink:href=\"#DejaVuSans-61\" x=\"68.701172\"/>\n       <use xlink:href=\"#DejaVuSans-6c\" x=\"129.980469\"/>\n       <use xlink:href=\"#DejaVuSans-79\" x=\"157.763672\"/>\n      </g>\n     </g>\n    </g>\n    <g id=\"xtick_3\">\n     <g id=\"text_3\">\n      <!-- Spain -->\n      <g style=\"fill: #787878\" transform=\"translate(296.794451 539.595795) rotate(-80) scale(0.1 -0.1)\">\n       <defs>\n        <path id=\"DejaVuSans-53\" d=\"M 3425 4513 \nL 3425 3897 \nQ 3066 4069 2747 4153 \nQ 2428 4238 2131 4238 \nQ 1616 4238 1336 4038 \nQ 1056 3838 1056 3469 \nQ 1056 3159 1242 3001 \nQ 1428 2844 1947 2747 \nL 2328 2669 \nQ 3034 2534 3370 2195 \nQ 3706 1856 3706 1288 \nQ 3706 609 3251 259 \nQ 2797 -91 1919 -91 \nQ 1588 -91 1214 -16 \nQ 841 59 441 206 \nL 441 856 \nQ 825 641 1194 531 \nQ 1563 422 1919 422 \nQ 2459 422 2753 634 \nQ 3047 847 3047 1241 \nQ 3047 1584 2836 1778 \nQ 2625 1972 2144 2069 \nL 1759 2144 \nQ 1053 2284 737 2584 \nQ 422 2884 422 3419 \nQ 422 4038 858 4394 \nQ 1294 4750 2059 4750 \nQ 2388 4750 2728 4690 \nQ 3069 4631 3425 4513 \nz\n\" transform=\"scale(0.015625)\"/>\n        <path id=\"DejaVuSans-70\" d=\"M 1159 525 \nL 1159 -1331 \nL 581 -1331 \nL 581 3500 \nL 1159 3500 \nL 1159 2969 \nQ 1341 3281 1617 3432 \nQ 1894 3584 2278 3584 \nQ 2916 3584 3314 3078 \nQ 3713 2572 3713 1747 \nQ 3713 922 3314 415 \nQ 2916 -91 2278 -91 \nQ 1894 -91 1617 61 \nQ 1341 213 1159 525 \nz\nM 3116 1747 \nQ 3116 2381 2855 2742 \nQ 2594 3103 2138 3103 \nQ 1681 3103 1420 2742 \nQ 1159 2381 1159 1747 \nQ 1159 1113 1420 752 \nQ 1681 391 2138 391 \nQ 2594 391 2855 752 \nQ 3116 1113 3116 1747 \nz\n\" transform=\"scale(0.015625)\"/>\n        <path id=\"DejaVuSans-69\" d=\"M 603 3500 \nL 1178 3500 \nL 1178 0 \nL 603 0 \nL 603 3500 \nz\nM 603 4863 \nL 1178 4863 \nL 1178 4134 \nL 603 4134 \nL 603 4863 \nz\n\" transform=\"scale(0.015625)\"/>\n       </defs>\n       <use xlink:href=\"#DejaVuSans-53\"/>\n       <use xlink:href=\"#DejaVuSans-70\" x=\"63.476562\"/>\n       <use xlink:href=\"#DejaVuSans-61\" x=\"126.953125\"/>\n       <use xlink:href=\"#DejaVuSans-69\" x=\"188.232422\"/>\n       <use xlink:href=\"#DejaVuSans-6e\" x=\"216.015625\"/>\n      </g>\n     </g>\n    </g>\n    <g id=\"xtick_4\">\n     <g id=\"text_4\">\n      <!-- Portugal -->\n      <g style=\"fill: #787878\" transform=\"translate(415.419207 552.859925) rotate(-80) scale(0.1 -0.1)\">\n       <defs>\n        <path id=\"DejaVuSans-50\" d=\"M 1259 4147 \nL 1259 2394 \nL 2053 2394 \nQ 2494 2394 2734 2622 \nQ 2975 2850 2975 3272 \nQ 2975 3691 2734 3919 \nQ 2494 4147 2053 4147 \nL 1259 4147 \nz\nM 628 4666 \nL 2053 4666 \nQ 2838 4666 3239 4311 \nQ 3641 3956 3641 3272 \nQ 3641 2581 3239 2228 \nQ 2838 1875 2053 1875 \nL 1259 1875 \nL 1259 0 \nL 628 0 \nL 628 4666 \nz\n\" transform=\"scale(0.015625)\"/>\n        <path id=\"DejaVuSans-6f\" d=\"M 1959 3097 \nQ 1497 3097 1228 2736 \nQ 959 2375 959 1747 \nQ 959 1119 1226 758 \nQ 1494 397 1959 397 \nQ 2419 397 2687 759 \nQ 2956 1122 2956 1747 \nQ 2956 2369 2687 2733 \nQ 2419 3097 1959 3097 \nz\nM 1959 3584 \nQ 2709 3584 3137 3096 \nQ 3566 2609 3566 1747 \nQ 3566 888 3137 398 \nQ 2709 -91 1959 -91 \nQ 1206 -91 779 398 \nQ 353 888 353 1747 \nQ 353 2609 779 3096 \nQ 1206 3584 1959 3584 \nz\n\" transform=\"scale(0.015625)\"/>\n        <path id=\"DejaVuSans-75\" d=\"M 544 1381 \nL 544 3500 \nL 1119 3500 \nL 1119 1403 \nQ 1119 906 1312 657 \nQ 1506 409 1894 409 \nQ 2359 409 2629 706 \nQ 2900 1003 2900 1516 \nL 2900 3500 \nL 3475 3500 \nL 3475 0 \nL 2900 0 \nL 2900 538 \nQ 2691 219 2414 64 \nQ 2138 -91 1772 -91 \nQ 1169 -91 856 284 \nQ 544 659 544 1381 \nz\nM 1991 3584 \nL 1991 3584 \nz\n\" transform=\"scale(0.015625)\"/>\n        <path id=\"DejaVuSans-67\" d=\"M 2906 1791 \nQ 2906 2416 2648 2759 \nQ 2391 3103 1925 3103 \nQ 1463 3103 1205 2759 \nQ 947 2416 947 1791 \nQ 947 1169 1205 825 \nQ 1463 481 1925 481 \nQ 2391 481 2648 825 \nQ 2906 1169 2906 1791 \nz\nM 3481 434 \nQ 3481 -459 3084 -895 \nQ 2688 -1331 1869 -1331 \nQ 1566 -1331 1297 -1286 \nQ 1028 -1241 775 -1147 \nL 775 -588 \nQ 1028 -725 1275 -790 \nQ 1522 -856 1778 -856 \nQ 2344 -856 2625 -561 \nQ 2906 -266 2906 331 \nL 2906 616 \nQ 2728 306 2450 153 \nQ 2172 0 1784 0 \nQ 1141 0 747 490 \nQ 353 981 353 1791 \nQ 353 2603 747 3093 \nQ 1141 3584 1784 3584 \nQ 2172 3584 2450 3431 \nQ 2728 3278 2906 2969 \nL 2906 3500 \nL 3481 3500 \nL 3481 434 \nz\n\" transform=\"scale(0.015625)\"/>\n       </defs>\n       <use xlink:href=\"#DejaVuSans-50\"/>\n       <use xlink:href=\"#DejaVuSans-6f\" x=\"56.677734\"/>\n       <use xlink:href=\"#DejaVuSans-72\" x=\"117.859375\"/>\n       <use xlink:href=\"#DejaVuSans-74\" x=\"158.972656\"/>\n       <use xlink:href=\"#DejaVuSans-75\" x=\"198.181641\"/>\n       <use xlink:href=\"#DejaVuSans-67\" x=\"261.560547\"/>\n       <use xlink:href=\"#DejaVuSans-61\" x=\"325.037109\"/>\n       <use xlink:href=\"#DejaVuSans-6c\" x=\"386.316406\"/>\n      </g>\n     </g>\n    </g>\n    <g id=\"xtick_5\">\n     <g id=\"text_5\">\n      <!-- Argentina -->\n      <g style=\"fill: #787878\" transform=\"translate(534.573454 560.118266) rotate(-80) scale(0.1 -0.1)\">\n       <defs>\n        <path id=\"DejaVuSans-41\" d=\"M 2188 4044 \nL 1331 1722 \nL 3047 1722 \nL 2188 4044 \nz\nM 1831 4666 \nL 2547 4666 \nL 4325 0 \nL 3669 0 \nL 3244 1197 \nL 1141 1197 \nL 716 0 \nL 50 0 \nL 1831 4666 \nz\n\" transform=\"scale(0.015625)\"/>\n       </defs>\n       <use xlink:href=\"#DejaVuSans-41\"/>\n       <use xlink:href=\"#DejaVuSans-72\" x=\"68.408203\"/>\n       <use xlink:href=\"#DejaVuSans-67\" x=\"107.771484\"/>\n       <use xlink:href=\"#DejaVuSans-65\" x=\"171.248047\"/>\n       <use xlink:href=\"#DejaVuSans-6e\" x=\"232.771484\"/>\n       <use xlink:href=\"#DejaVuSans-74\" x=\"296.150391\"/>\n       <use xlink:href=\"#DejaVuSans-69\" x=\"335.359375\"/>\n       <use xlink:href=\"#DejaVuSans-6e\" x=\"363.142578\"/>\n       <use xlink:href=\"#DejaVuSans-61\" x=\"426.521484\"/>\n      </g>\n     </g>\n    </g>\n    <g id=\"xtick_6\">\n     <g id=\"text_6\">\n      <!-- Chile -->\n      <g style=\"fill: #787878\" transform=\"translate(656.429694 536.729082) rotate(-80) scale(0.1 -0.1)\">\n       <defs>\n        <path id=\"DejaVuSans-43\" d=\"M 4122 4306 \nL 4122 3641 \nQ 3803 3938 3442 4084 \nQ 3081 4231 2675 4231 \nQ 1875 4231 1450 3742 \nQ 1025 3253 1025 2328 \nQ 1025 1406 1450 917 \nQ 1875 428 2675 428 \nQ 3081 428 3442 575 \nQ 3803 722 4122 1019 \nL 4122 359 \nQ 3791 134 3420 21 \nQ 3050 -91 2638 -91 \nQ 1578 -91 968 557 \nQ 359 1206 359 2328 \nQ 359 3453 968 4101 \nQ 1578 4750 2638 4750 \nQ 3056 4750 3426 4639 \nQ 3797 4528 4122 4306 \nz\n\" transform=\"scale(0.015625)\"/>\n        <path id=\"DejaVuSans-68\" d=\"M 3513 2113 \nL 3513 0 \nL 2938 0 \nL 2938 2094 \nQ 2938 2591 2744 2837 \nQ 2550 3084 2163 3084 \nQ 1697 3084 1428 2787 \nQ 1159 2491 1159 1978 \nL 1159 0 \nL 581 0 \nL 581 4863 \nL 1159 4863 \nL 1159 2956 \nQ 1366 3272 1645 3428 \nQ 1925 3584 2291 3584 \nQ 2894 3584 3203 3211 \nQ 3513 2838 3513 2113 \nz\n\" transform=\"scale(0.015625)\"/>\n       </defs>\n       <use xlink:href=\"#DejaVuSans-43\"/>\n       <use xlink:href=\"#DejaVuSans-68\" x=\"69.824219\"/>\n       <use xlink:href=\"#DejaVuSans-69\" x=\"133.203125\"/>\n       <use xlink:href=\"#DejaVuSans-6c\" x=\"160.986328\"/>\n       <use xlink:href=\"#DejaVuSans-65\" x=\"188.769531\"/>\n      </g>\n     </g>\n    </g>\n   </g>\n   <g id=\"text_7\">\n    <!-- 70.3% -->\n    <g style=\"fill: #ffffff\" transform=\"translate(41.061861 65.243938) scale(0.1 -0.1)\">\n     <defs>\n      <path id=\"DejaVuSans-37\" d=\"M 525 4666 \nL 3525 4666 \nL 3525 4397 \nL 1831 0 \nL 1172 0 \nL 2766 4134 \nL 525 4134 \nL 525 4666 \nz\n\" transform=\"scale(0.015625)\"/>\n      <path id=\"DejaVuSans-30\" d=\"M 2034 4250 \nQ 1547 4250 1301 3770 \nQ 1056 3291 1056 2328 \nQ 1056 1369 1301 889 \nQ 1547 409 2034 409 \nQ 2525 409 2770 889 \nQ 3016 1369 3016 2328 \nQ 3016 3291 2770 3770 \nQ 2525 4250 2034 4250 \nz\nM 2034 4750 \nQ 2819 4750 3233 4129 \nQ 3647 3509 3647 2328 \nQ 3647 1150 3233 529 \nQ 2819 -91 2034 -91 \nQ 1250 -91 836 529 \nQ 422 1150 422 2328 \nQ 422 3509 836 4129 \nQ 1250 4750 2034 4750 \nz\n\" transform=\"scale(0.015625)\"/>\n      <path id=\"DejaVuSans-2e\" d=\"M 684 794 \nL 1344 794 \nL 1344 0 \nL 684 0 \nL 684 794 \nz\n\" transform=\"scale(0.015625)\"/>\n      <path id=\"DejaVuSans-33\" d=\"M 2597 2516 \nQ 3050 2419 3304 2112 \nQ 3559 1806 3559 1356 \nQ 3559 666 3084 287 \nQ 2609 -91 1734 -91 \nQ 1441 -91 1130 -33 \nQ 819 25 488 141 \nL 488 750 \nQ 750 597 1062 519 \nQ 1375 441 1716 441 \nQ 2309 441 2620 675 \nQ 2931 909 2931 1356 \nQ 2931 1769 2642 2001 \nQ 2353 2234 1838 2234 \nL 1294 2234 \nL 1294 2753 \nL 1863 2753 \nQ 2328 2753 2575 2939 \nQ 2822 3125 2822 3475 \nQ 2822 3834 2567 4026 \nQ 2313 4219 1838 4219 \nQ 1578 4219 1281 4162 \nQ 984 4106 628 3988 \nL 628 4550 \nQ 988 4650 1302 4700 \nQ 1616 4750 1894 4750 \nQ 2613 4750 3031 4423 \nQ 3450 4097 3450 3541 \nQ 3450 3153 3228 2886 \nQ 3006 2619 2597 2516 \nz\n\" transform=\"scale(0.015625)\"/>\n      <path id=\"DejaVuSans-25\" d=\"M 4653 2053 \nQ 4381 2053 4226 1822 \nQ 4072 1591 4072 1178 \nQ 4072 772 4226 539 \nQ 4381 306 4653 306 \nQ 4919 306 5073 539 \nQ 5228 772 5228 1178 \nQ 5228 1588 5073 1820 \nQ 4919 2053 4653 2053 \nz\nM 4653 2450 \nQ 5147 2450 5437 2106 \nQ 5728 1763 5728 1178 \nQ 5728 594 5436 251 \nQ 5144 -91 4653 -91 \nQ 4153 -91 3862 251 \nQ 3572 594 3572 1178 \nQ 3572 1766 3864 2108 \nQ 4156 2450 4653 2450 \nz\nM 1428 4353 \nQ 1159 4353 1004 4120 \nQ 850 3888 850 3481 \nQ 850 3069 1003 2837 \nQ 1156 2606 1428 2606 \nQ 1700 2606 1854 2837 \nQ 2009 3069 2009 3481 \nQ 2009 3884 1853 4118 \nQ 1697 4353 1428 4353 \nz\nM 4250 4750 \nL 4750 4750 \nL 1831 -91 \nL 1331 -91 \nL 4250 4750 \nz\nM 1428 4750 \nQ 1922 4750 2215 4408 \nQ 2509 4066 2509 3481 \nQ 2509 2891 2217 2550 \nQ 1925 2209 1428 2209 \nQ 931 2209 642 2551 \nQ 353 2894 353 3481 \nQ 353 4063 643 4406 \nQ 934 4750 1428 4750 \nz\n\" transform=\"scale(0.015625)\"/>\n     </defs>\n     <use xlink:href=\"#DejaVuSans-37\"/>\n     <use xlink:href=\"#DejaVuSans-30\" x=\"63.623047\"/>\n     <use xlink:href=\"#DejaVuSans-2e\" x=\"127.246094\"/>\n     <use xlink:href=\"#DejaVuSans-33\" x=\"159.033203\"/>\n     <use xlink:href=\"#DejaVuSans-25\" x=\"222.65625\"/>\n    </g>\n   </g>\n   <g id=\"text_8\">\n    <!-- 10.5% -->\n    <g style=\"fill: #ffffff\" transform=\"translate(160.856029 455.27626) scale(0.1 -0.1)\">\n     <defs>\n      <path id=\"DejaVuSans-31\" d=\"M 794 531 \nL 1825 531 \nL 1825 4091 \nL 703 3866 \nL 703 4441 \nL 1819 4666 \nL 2450 4666 \nL 2450 531 \nL 3481 531 \nL 3481 0 \nL 794 0 \nL 794 531 \nz\n\" transform=\"scale(0.015625)\"/>\n      <path id=\"DejaVuSans-35\" d=\"M 691 4666 \nL 3169 4666 \nL 3169 4134 \nL 1269 4134 \nL 1269 2991 \nQ 1406 3038 1543 3061 \nQ 1681 3084 1819 3084 \nQ 2600 3084 3056 2656 \nQ 3513 2228 3513 1497 \nQ 3513 744 3044 326 \nQ 2575 -91 1722 -91 \nQ 1428 -91 1123 -41 \nQ 819 9 494 109 \nL 494 744 \nQ 775 591 1075 516 \nQ 1375 441 1709 441 \nQ 2250 441 2565 725 \nQ 2881 1009 2881 1497 \nQ 2881 1984 2565 2268 \nQ 2250 2553 1709 2553 \nQ 1456 2553 1204 2497 \nQ 953 2441 691 2322 \nL 691 4666 \nz\n\" transform=\"scale(0.015625)\"/>\n     </defs>\n     <use xlink:href=\"#DejaVuSans-31\"/>\n     <use xlink:href=\"#DejaVuSans-30\" x=\"63.623047\"/>\n     <use xlink:href=\"#DejaVuSans-2e\" x=\"127.246094\"/>\n     <use xlink:href=\"#DejaVuSans-35\" x=\"159.033203\"/>\n     <use xlink:href=\"#DejaVuSans-25\" x=\"222.65625\"/>\n    </g>\n   </g>\n   <g id=\"text_9\">\n    <!-- 8.2% -->\n    <g style=\"fill: #ffffff\" transform=\"translate(283.831447 470.277503) scale(0.1 -0.1)\">\n     <defs>\n      <path id=\"DejaVuSans-38\" d=\"M 2034 2216 \nQ 1584 2216 1326 1975 \nQ 1069 1734 1069 1313 \nQ 1069 891 1326 650 \nQ 1584 409 2034 409 \nQ 2484 409 2743 651 \nQ 3003 894 3003 1313 \nQ 3003 1734 2745 1975 \nQ 2488 2216 2034 2216 \nz\nM 1403 2484 \nQ 997 2584 770 2862 \nQ 544 3141 544 3541 \nQ 544 4100 942 4425 \nQ 1341 4750 2034 4750 \nQ 2731 4750 3128 4425 \nQ 3525 4100 3525 3541 \nQ 3525 3141 3298 2862 \nQ 3072 2584 2669 2484 \nQ 3125 2378 3379 2068 \nQ 3634 1759 3634 1313 \nQ 3634 634 3220 271 \nQ 2806 -91 2034 -91 \nQ 1263 -91 848 271 \nQ 434 634 434 1313 \nQ 434 1759 690 2068 \nQ 947 2378 1403 2484 \nz\nM 1172 3481 \nQ 1172 3119 1398 2916 \nQ 1625 2713 2034 2713 \nQ 2441 2713 2670 2916 \nQ 2900 3119 2900 3481 \nQ 2900 3844 2670 4047 \nQ 2441 4250 2034 4250 \nQ 1625 4250 1398 4047 \nQ 1172 3844 1172 3481 \nz\n\" transform=\"scale(0.015625)\"/>\n      <path id=\"DejaVuSans-32\" d=\"M 1228 531 \nL 3431 531 \nL 3431 0 \nL 469 0 \nL 469 531 \nQ 828 903 1448 1529 \nQ 2069 2156 2228 2338 \nQ 2531 2678 2651 2914 \nQ 2772 3150 2772 3378 \nQ 2772 3750 2511 3984 \nQ 2250 4219 1831 4219 \nQ 1534 4219 1204 4116 \nQ 875 4013 500 3803 \nL 500 4441 \nQ 881 4594 1212 4672 \nQ 1544 4750 1819 4750 \nQ 2544 4750 2975 4387 \nQ 3406 4025 3406 3419 \nQ 3406 3131 3298 2873 \nQ 3191 2616 2906 2266 \nQ 2828 2175 2409 1742 \nQ 1991 1309 1228 531 \nz\n\" transform=\"scale(0.015625)\"/>\n     </defs>\n     <use xlink:href=\"#DejaVuSans-38\"/>\n     <use xlink:href=\"#DejaVuSans-2e\" x=\"63.623047\"/>\n     <use xlink:href=\"#DejaVuSans-32\" x=\"95.410156\"/>\n     <use xlink:href=\"#DejaVuSans-25\" x=\"159.033203\"/>\n    </g>\n   </g>\n   <g id=\"text_10\">\n    <!-- 6.8% -->\n    <g style=\"fill: #ffffff\" transform=\"translate(403.625615 479.408695) scale(0.1 -0.1)\">\n     <defs>\n      <path id=\"DejaVuSans-36\" d=\"M 2113 2584 \nQ 1688 2584 1439 2293 \nQ 1191 2003 1191 1497 \nQ 1191 994 1439 701 \nQ 1688 409 2113 409 \nQ 2538 409 2786 701 \nQ 3034 994 3034 1497 \nQ 3034 2003 2786 2293 \nQ 2538 2584 2113 2584 \nz\nM 3366 4563 \nL 3366 3988 \nQ 3128 4100 2886 4159 \nQ 2644 4219 2406 4219 \nQ 1781 4219 1451 3797 \nQ 1122 3375 1075 2522 \nQ 1259 2794 1537 2939 \nQ 1816 3084 2150 3084 \nQ 2853 3084 3261 2657 \nQ 3669 2231 3669 1497 \nQ 3669 778 3244 343 \nQ 2819 -91 2113 -91 \nQ 1303 -91 875 529 \nQ 447 1150 447 2328 \nQ 447 3434 972 4092 \nQ 1497 4750 2381 4750 \nQ 2619 4750 2861 4703 \nQ 3103 4656 3366 4563 \nz\n\" transform=\"scale(0.015625)\"/>\n     </defs>\n     <use xlink:href=\"#DejaVuSans-36\"/>\n     <use xlink:href=\"#DejaVuSans-2e\" x=\"63.623047\"/>\n     <use xlink:href=\"#DejaVuSans-38\" x=\"95.410156\"/>\n     <use xlink:href=\"#DejaVuSans-25\" x=\"159.033203\"/>\n    </g>\n   </g>\n   <g id=\"text_11\">\n    <!-- 3.7% -->\n    <g style=\"fill: #ffffff\" transform=\"translate(523.419783 499.627762) scale(0.1 -0.1)\">\n     <use xlink:href=\"#DejaVuSans-33\"/>\n     <use xlink:href=\"#DejaVuSans-2e\" x=\"63.623047\"/>\n     <use xlink:href=\"#DejaVuSans-37\" x=\"95.410156\"/>\n     <use xlink:href=\"#DejaVuSans-25\" x=\"159.033203\"/>\n    </g>\n   </g>\n   <g id=\"text_12\">\n    <!-- 0.5% -->\n    <g style=\"fill: #ffffff\" transform=\"translate(643.213951 520.499057) scale(0.1 -0.1)\">\n     <use xlink:href=\"#DejaVuSans-30\"/>\n     <use xlink:href=\"#DejaVuSans-2e\" x=\"63.623047\"/>\n     <use xlink:href=\"#DejaVuSans-35\" x=\"95.410156\"/>\n     <use xlink:href=\"#DejaVuSans-25\" x=\"159.033203\"/>\n    </g>\n   </g>\n   <g id=\"text_13\">\n    <!-- Länder und Prozentsatz -->\n    <g transform=\"translate(285.567187 16.318125) scale(0.12 -0.12)\">\n     <defs>\n      <path id=\"DejaVuSans-4c\" d=\"M 628 4666 \nL 1259 4666 \nL 1259 531 \nL 3531 531 \nL 3531 0 \nL 628 0 \nL 628 4666 \nz\n\" transform=\"scale(0.015625)\"/>\n      <path id=\"DejaVuSans-e4\" d=\"M 2194 1759 \nQ 1497 1759 1228 1600 \nQ 959 1441 959 1056 \nQ 959 750 1161 570 \nQ 1363 391 1709 391 \nQ 2188 391 2477 730 \nQ 2766 1069 2766 1631 \nL 2766 1759 \nL 2194 1759 \nz\nM 3341 1997 \nL 3341 0 \nL 2766 0 \nL 2766 531 \nQ 2569 213 2275 61 \nQ 1981 -91 1556 -91 \nQ 1019 -91 701 211 \nQ 384 513 384 1019 \nQ 384 1609 779 1909 \nQ 1175 2209 1959 2209 \nL 2766 2209 \nL 2766 2266 \nQ 2766 2663 2505 2880 \nQ 2244 3097 1772 3097 \nQ 1472 3097 1187 3025 \nQ 903 2953 641 2809 \nL 641 3341 \nQ 956 3463 1253 3523 \nQ 1550 3584 1831 3584 \nQ 2591 3584 2966 3190 \nQ 3341 2797 3341 1997 \nz\nM 2150 4850 \nL 2784 4850 \nL 2784 4219 \nL 2150 4219 \nL 2150 4850 \nz\nM 928 4850 \nL 1562 4850 \nL 1562 4219 \nL 928 4219 \nL 928 4850 \nz\n\" transform=\"scale(0.015625)\"/>\n      <path id=\"DejaVuSans-64\" d=\"M 2906 2969 \nL 2906 4863 \nL 3481 4863 \nL 3481 0 \nL 2906 0 \nL 2906 525 \nQ 2725 213 2448 61 \nQ 2172 -91 1784 -91 \nQ 1150 -91 751 415 \nQ 353 922 353 1747 \nQ 353 2572 751 3078 \nQ 1150 3584 1784 3584 \nQ 2172 3584 2448 3432 \nQ 2725 3281 2906 2969 \nz\nM 947 1747 \nQ 947 1113 1208 752 \nQ 1469 391 1925 391 \nQ 2381 391 2643 752 \nQ 2906 1113 2906 1747 \nQ 2906 2381 2643 2742 \nQ 2381 3103 1925 3103 \nQ 1469 3103 1208 2742 \nQ 947 2381 947 1747 \nz\n\" transform=\"scale(0.015625)\"/>\n      <path id=\"DejaVuSans-20\" transform=\"scale(0.015625)\"/>\n      <path id=\"DejaVuSans-7a\" d=\"M 353 3500 \nL 3084 3500 \nL 3084 2975 \nL 922 459 \nL 3084 459 \nL 3084 0 \nL 275 0 \nL 275 525 \nL 2438 3041 \nL 353 3041 \nL 353 3500 \nz\n\" transform=\"scale(0.015625)\"/>\n      <path id=\"DejaVuSans-73\" d=\"M 2834 3397 \nL 2834 2853 \nQ 2591 2978 2328 3040 \nQ 2066 3103 1784 3103 \nQ 1356 3103 1142 2972 \nQ 928 2841 928 2578 \nQ 928 2378 1081 2264 \nQ 1234 2150 1697 2047 \nL 1894 2003 \nQ 2506 1872 2764 1633 \nQ 3022 1394 3022 966 \nQ 3022 478 2636 193 \nQ 2250 -91 1575 -91 \nQ 1294 -91 989 -36 \nQ 684 19 347 128 \nL 347 722 \nQ 666 556 975 473 \nQ 1284 391 1588 391 \nQ 1994 391 2212 530 \nQ 2431 669 2431 922 \nQ 2431 1156 2273 1281 \nQ 2116 1406 1581 1522 \nL 1381 1569 \nQ 847 1681 609 1914 \nQ 372 2147 372 2553 \nQ 372 3047 722 3315 \nQ 1072 3584 1716 3584 \nQ 2034 3584 2315 3537 \nQ 2597 3491 2834 3397 \nz\n\" transform=\"scale(0.015625)\"/>\n     </defs>\n     <use xlink:href=\"#DejaVuSans-4c\"/>\n     <use xlink:href=\"#DejaVuSans-e4\" x=\"55.712891\"/>\n     <use xlink:href=\"#DejaVuSans-6e\" x=\"116.992188\"/>\n     <use xlink:href=\"#DejaVuSans-64\" x=\"180.371094\"/>\n     <use xlink:href=\"#DejaVuSans-65\" x=\"243.847656\"/>\n     <use xlink:href=\"#DejaVuSans-72\" x=\"305.371094\"/>\n     <use xlink:href=\"#DejaVuSans-20\" x=\"346.484375\"/>\n     <use xlink:href=\"#DejaVuSans-75\" x=\"378.271484\"/>\n     <use xlink:href=\"#DejaVuSans-6e\" x=\"441.650391\"/>\n     <use xlink:href=\"#DejaVuSans-64\" x=\"505.029297\"/>\n     <use xlink:href=\"#DejaVuSans-20\" x=\"568.505859\"/>\n     <use xlink:href=\"#DejaVuSans-50\" x=\"600.292969\"/>\n     <use xlink:href=\"#DejaVuSans-72\" x=\"658.845703\"/>\n     <use xlink:href=\"#DejaVuSans-6f\" x=\"697.708984\"/>\n     <use xlink:href=\"#DejaVuSans-7a\" x=\"758.890625\"/>\n     <use xlink:href=\"#DejaVuSans-65\" x=\"811.380859\"/>\n     <use xlink:href=\"#DejaVuSans-6e\" x=\"872.904297\"/>\n     <use xlink:href=\"#DejaVuSans-74\" x=\"936.283203\"/>\n     <use xlink:href=\"#DejaVuSans-73\" x=\"975.492188\"/>\n     <use xlink:href=\"#DejaVuSans-61\" x=\"1027.591797\"/>\n     <use xlink:href=\"#DejaVuSans-74\" x=\"1088.871094\"/>\n     <use xlink:href=\"#DejaVuSans-7a\" x=\"1128.080078\"/>\n    </g>\n   </g>\n  </g>\n </g>\n <defs>\n  <clipPath id=\"pc3173492a6\">\n   <rect x=\"7.2\" y=\"22.318125\" width=\"698.4\" height=\"481.442071\"/>\n  </clipPath>\n </defs>\n</svg>\n"
          },
          "metadata": {}
        }
      ]
    },
    {
      "cell_type": "markdown",
      "source": [
        "**- Produzenten**\n",
        "\n",
        "**- Produtores**"
      ],
      "metadata": {
        "id": "BwYe7yCGKUO7"
      }
    },
    {
      "cell_type": "markdown",
      "source": [
        "Na variável producer temos ao todo **58 produtores** diferentes, sendo o mais presente nesse conjunto o **Domaine Ponsot com 5.5%**, seguido por La **Chablisienne com 4.6%** e **Domaine Matrot com 4.1%**.\n",
        "\n",
        "In der Variable producer gibt es insgesamt **58 verschiedene Produzenten**. Der am häufigsten vertretene Produzent in diesem Datensatz ist Domaine **Ponsot mit 5,5 %**, gefolgt von **La Chablisienne mit 4,6 %** und **Domaine Matrot mit 4,1 %**. Um die Daten besser darzustellen, werde ich zunächst eine Tabelle und eine Grafik erstellen."
      ],
      "metadata": {
        "id": "S8xFKGhX3ZtZ"
      }
    },
    {
      "cell_type": "code",
      "source": [
        "# 1 Version\n",
        "# producer_counts = df_products_raw['producer'].value_counts()\n",
        "#for producer, count in producer_counts.items():\n",
        "    #percent = (count / producer_counts.sum()) * 100\n",
        "    #print(f\"{producer}: {count} ({percent:.2f}%)\")\n",
        "\n",
        "# Daten für Produzenten\n",
        "df_produzent_analysis = df_products_raw.copy()\n",
        "producer_values_list = df_produzent_analysis['producer'].tolist()\n",
        "\n",
        "# Zähle die Anzahl der Produzenten\n",
        "producer_counts = df_produzent_analysis['producer'].value_counts()[:]\n",
        "\n",
        "# Berechne den Prozentsatz\n",
        "producer_percentages = (producer_counts / producer_counts.sum()) * 100\n",
        "\n",
        "# Erstelle ein neues DataFrame für die Tabelle\n",
        "producer_table = pd.DataFrame({\n",
        "    'Produzent': producer_counts.index,\n",
        "    'Anzahl': producer_counts.values,\n",
        "    'Prozent (%)': producer_percentages.values\n",
        "})\n",
        "\n",
        "# Erstelle eine Tabelle mit Plotly\n",
        "table = go.Table(\n",
        "    header=dict(\n",
        "        values=[\"<b>Produzent</b>\", \"<b>Anzahl</b>\", \"<b>Prozent (%)</b>\"],\n",
        "        fill_color='paleturquoise',\n",
        "        align='left'\n",
        "    ),\n",
        "    cells=dict(\n",
        "        values=[\n",
        "            producer_table['Produzent'],\n",
        "            producer_table['Anzahl'],\n",
        "            producer_table['Prozent (%)'].round(2)\n",
        "        ],\n",
        "        fill_color='lavender',\n",
        "        align='left'\n",
        "    )\n",
        ")\n",
        "\n",
        "# Erstelle das Layout und zeige die Tabelle\n",
        "fig = go.Figure(data=[table])\n",
        "fig.update_layout(\n",
        "    title=\"Produzenten: Anzahl und Prozentsatz\",\n",
        "    autosize=True,\n",
        "    width=1000,\n",
        "    height=1000,\n",
        "    annotations=[\n",
        "        dict(\n",
        "            text=\"Diese Tabelle zeigt die Anzahl und den Prozentsatz der Produzenten.\",\n",
        "            x=0.5,  # Horizontale Position (0 = links, 1 = rechts)\n",
        "            y= -0.9,  # Vertikale Position unterhalb der Tabelle (negative Werte)\n",
        "            xref=\"paper\",\n",
        "            yref=\"paper\",\n",
        "            showarrow=False,\n",
        "            font=dict(size=12)\n",
        "        )\n",
        "    ]\n",
        ")\n",
        "fig.show()"
      ],
      "metadata": {
        "id": "_XzvHE9-dZ6f"
      },
      "execution_count": null,
      "outputs": []
    },
    {
      "cell_type": "markdown",
      "source": [
        "**Produzenten Grafik**"
      ],
      "metadata": {
        "id": "RSVygkr-Ffjq"
      }
    },
    {
      "cell_type": "code",
      "source": [
        "# Zähle die Anzahl der Produzenten\n",
        "producer_counts = df_produzent_analysis['producer'].value_counts()[:]\n",
        "\n",
        "#\n",
        "producer_percentages = (producer_counts / producer_counts.sum()) * 100\n",
        "\n",
        "#\n",
        "labels=producer_percentages.index.to_list()[:10]\n",
        "value_percent=producer_percentages.values.tolist()[:10]\n",
        "gerundete_werte = np.round(value_percent, 1)\n",
        "\n",
        "#\n",
        "fig, ax = plt.subplots(figsize=(12,8))\n",
        "\n",
        "# ajustes para construir o gráfico\n",
        "x = np.arange(len(labels))\n",
        "width_bar = 0.50\n",
        "\n",
        "# Bar Grafik\n",
        "rects2 = ax.bar(x,gerundete_werte,width_bar)\n",
        "\n",
        "# axes\n",
        "ax.set_xticks(x)\n",
        "ax.set_xticklabels(labels,color=\"#787878\");\n",
        "\n",
        "# remover grids e eixos\n",
        "ax.spines['right'].set_visible(False)\n",
        "ax.spines['left'].set_visible(False)\n",
        "ax.spines['top'].set_visible(False)\n",
        "ax.spines['bottom'].set_visible(False)\n",
        "\n",
        "# # remover eixo y\n",
        "plt.gca().axes.get_yaxis().set_visible(False)\n",
        "plt.title('Produzenten und Prozentsatz')\n",
        "\n",
        "# # remover xticks do eixo x\n",
        "plt.tick_params(\n",
        "    axis='both',\n",
        "    which='both',\n",
        "    bottom=False,\n",
        "    top=False,\n",
        "    labelbottom=True)\n",
        "\n",
        "plt.xticks(rotation=80)\n",
        "\n",
        "\n",
        "def autolabel(rects):\n",
        "    for rect in rects:\n",
        "        height = rect.get_height()\n",
        "        ax.annotate(\n",
        "                    '{}%'.format(height),\n",
        "                    xy=(rect.get_x() ,  height),\n",
        "                    xytext=(18,-20),  # offset\n",
        "                    textcoords=\"offset points\",\n",
        "                    ha='center',\n",
        "                    #va='bottom',\n",
        "                    #fontsize=10,\n",
        "                    color=\"White\",\n",
        "                    )\n",
        "\n",
        "# plotar labels dentro das barras\n",
        "#autolabel(rects1)\n",
        "autolabel(rects2)\n",
        "\n",
        "# plotar gráfico\n",
        "fig.tight_layout()\n",
        "plt.show()\n"
      ],
      "metadata": {
        "id": "or5c5awu0pUy"
      },
      "execution_count": null,
      "outputs": []
    },
    {
      "cell_type": "code",
      "source": [
        "# f, ax = plt.subplots(figsize=(16, 8))\n",
        "# sns.countplot(x=df_products_raw.producer, order=df_products_raw.producer.value_counts().index);\n",
        "# plt.xticks(rotation=90)\n",
        "# plt.show();"
      ],
      "metadata": {
        "id": "_e2-4fyzQfnp"
      },
      "execution_count": null,
      "outputs": []
    },
    {
      "cell_type": "code",
      "source": [
        "# import matplotlib.pyplot as plt\n",
        "# import numpy as np\n",
        "# from matplotlib import rcParams\n",
        "\n",
        "# # configurar a visualização\n",
        "# %matplotlib inline\n",
        "# %config InlineBackend.figure_format = 'svg'\n",
        "\n",
        "# configurando parâmetros das fontes\n",
        "# plt.rcParams['font.family'] = 'sans-serif'\n",
        "\n",
        "\n",
        "# labels =['Fortemente/contra','Contra','Neutro','Favorafel','Fortemente/a favor']\n",
        "# antes = [22,15,20,54,23]\n",
        "# depois = [16,6,12,29,10]\n",
        "\n",
        "\n",
        "# # configurando parâmetros das fontes\n",
        "# plt.rcParams['font.family'] = 'sans-serif'\n",
        "\n",
        "\n",
        "# labels =['Fortemente/contra','Contra','Neutro','Favorafel','Fortemente/a favor']\n",
        "# antes = [22,15,20,54,23]\n",
        "# depois = [16,6,12,29,10]\n",
        "\n",
        "# fig, ax = plt.subplots(figsize=(10,8))\n",
        "\n",
        "# # ajustes para construir o gráfico\n",
        "# x = np.arange(len(labels))\n",
        "# width_bar = 0.25\n",
        "\n",
        "# # bar Grafik\n",
        "# rects2 = ax.bar(x,depois,width_bar)\n",
        "\n",
        "# # axes\n",
        "# ax.set_xticks(x)\n",
        "# ax.set_xticklabels(labels,color=\"#787878\");\n",
        "\n",
        "# # remover grids e eixos\n",
        "# ax.spines['right'].set_visible(False)\n",
        "# ax.spines['left'].set_visible(False)\n",
        "# ax.spines['top'].set_visible(False)\n",
        "# ax.spines['bottom'].set_visible(False)\n",
        "\n",
        "# # # remover eixo y\n",
        "# plt.gca().axes.get_yaxis().set_visible(False)\n",
        "# plt.title('title')\n",
        "\n",
        "# # # remover xticks do eixo x\n",
        "# plt.tick_params(\n",
        "#     axis='both',\n",
        "#     which='both',\n",
        "#     bottom=False,\n",
        "#     top=False,\n",
        "#     labelbottom=True)\n",
        "\n",
        "\n",
        "# def autolabel(rects):\n",
        "#     for rect in rects:\n",
        "#         height = rect.get_height()\n",
        "#         ax.annotate(\n",
        "#                     '{}%'.format(height),\n",
        "#                     xy=(rect.get_x() ,  height),\n",
        "#                     xytext=(18, -20),  # offset\n",
        "#                     textcoords=\"offset points\",\n",
        "#                     ha='center',\n",
        "#                     #va='bottom',\n",
        "#                     #fontsize=10,\n",
        "#                     color=\"White\",\n",
        "#                     )\n",
        "\n",
        "# # plotar labels dentro das barras\n",
        "# #autolabel(rects1)\n",
        "# autolabel(rects2)\n",
        "\n",
        "# # plotar gráfico\n",
        "# fig.tight_layout()\n",
        "# plt.show()\n"
      ],
      "metadata": {
        "id": "6uTDWFi7oTXQ"
      },
      "execution_count": null,
      "outputs": []
    },
    {
      "cell_type": "markdown",
      "source": [
        "**-Vintage**\n",
        "\n",
        "**-Safras**"
      ],
      "metadata": {
        "id": "pkyYm6mXLeCD"
      }
    },
    {
      "cell_type": "markdown",
      "source": [
        "Na variável vintage **temos ao todo 17 safras diferentes, sendo a safra de 2018 representando 30% do conjunto, seguido por 2017 com 22%**, e tanto 2015 como 2014, cada um com 8.7% de representação.\n",
        "<br>\n",
        "Ainda sobre o atributo vintage nota-se a presença do acrônimo NV que significa Non-Vintage, será necessário alterar esse valor para 0 para poder alterar todo o atributo em tipo int.\n",
        "\n",
        "In der Variable vintage gibt es insgesamt **17 verschiedene Jahrgänge**. **Der Jahrgang 2018 macht 30 % des Datensatzes** aus, gefolgt von 2017 mit 22 % sowie 2015 und 2014, die jeweils 8,7 % der Daten repräsentieren.\n",
        "\n",
        "Außerdem fällt im Attribut vintage das Kürzel NV auf, das für Non-Vintage (ohne Jahrgang) steht. Es wird notwendig sein, diesen Wert in 0 zu ändern, um das gesamte Attribut in den Datentyp int umwandeln zu können."
      ],
      "metadata": {
        "id": "lZPvIU1m1hao"
      }
    },
    {
      "cell_type": "code",
      "source": [
        "# 1 Version\n",
        "# f, ax = plt.subplots(figsize=(16, 8))\n",
        "# sns.countplot(x=df_products_raw.vintage, order=df_products_raw.vintage.value_counts().index);\n",
        "# plt.xticks(rotation=45)\n",
        "# plt.show();\n",
        "\n",
        "\n",
        "# Zähle die Anzahl der Produzenten\n",
        "producer_counts = df_produzent_analysis['vintage'].value_counts()[:]\n",
        "\n",
        "#Label=producer_counts.index.to_list()\n",
        "#Wert = producer_counts.values\n",
        "#Wert = Wert.tolist()\n",
        "\n",
        "producer_percentages = (producer_counts / producer_counts.sum()) * 100\n",
        "\n",
        "labels=producer_percentages.index.to_list()[:10]\n",
        "value_percent=producer_percentages.values.tolist()[:10]\n",
        "gerundete_werte = np.round(value_percent, 1)\n",
        "\n",
        "fig, ax = plt.subplots(figsize=(12,8))\n",
        "\n",
        "# ajustes para construir o gráfico\n",
        "x = np.arange(len(labels))\n",
        "width_bar = 0.50\n",
        "\n",
        "# bar Grafik\n",
        "rects2 = ax.bar(x,gerundete_werte,width_bar)\n",
        "\n",
        "# axes\n",
        "ax.set_xticks(x)\n",
        "ax.set_xticklabels(labels,color=\"#787878\");\n",
        "\n",
        "# # remover grids e eixos\n",
        "ax.spines['right'].set_visible(False)\n",
        "ax.spines['left'].set_visible(False)\n",
        "ax.spines['top'].set_visible(False)\n",
        "ax.spines['bottom'].set_visible(False)\n",
        "\n",
        "# # remover eixo y\n",
        "plt.gca().axes.get_yaxis().set_visible(False)\n",
        "plt.title('Vintage und Prozentsatz')\n",
        "\n",
        "# remover xticks do eixo x\n",
        "plt.tick_params(\n",
        "    axis='both',\n",
        "    which='both',\n",
        "    bottom=False,\n",
        "    top=False,\n",
        "    labelbottom=True)\n",
        "\n",
        "plt.xticks(rotation=80)\n",
        "\n",
        "# Funktion zum Hinzufügen der Werte als Text in die Balken\n",
        "def autolabel(rects):\n",
        "    for rect in rects:\n",
        "        height = rect.get_height() # Höhe des Balkens (entspricht dem Wert)\n",
        "        ax.annotate(\n",
        "                    '{}%'.format(height), # Der Wert wird als Text angezeigt\n",
        "                    xy=(rect.get_x() ,  height), # Position des Textes relativ zum Balken\n",
        "                    xytext=(18,-20),  # Versatz (Offset) des Textes\n",
        "                    textcoords=\"offset points\",# Textkoordinaten sind relativ zum Punkt\n",
        "                    ha='center',# Zentrieren des Textes\n",
        "                    #va='bottom',\n",
        "                    #fontsize=10,\n",
        "                    color=\"White\", # Textfarbe\n",
        "                    )\n",
        "\n",
        "# plotar labels dentro das barras\n",
        "#autolabel(rects1)\n",
        "autolabel(rects2)\n",
        "\n",
        "# plotar gráfico\n",
        "fig.tight_layout()\n",
        "plt.show()\n"
      ],
      "metadata": {
        "id": "tflLqQhoRdoy"
      },
      "execution_count": null,
      "outputs": []
    },
    {
      "cell_type": "markdown",
      "source": [
        "**- Variable Preis:**\n",
        "\n",
        "**- Preco:**"
      ],
      "metadata": {
        "id": "EPlwWWyl7oyF"
      }
    },
    {
      "cell_type": "code",
      "source": [
        "print(df_products_raw.price_usd.describe(), \"\\n\")\n",
        "print(\"Der teuerste Wein kostet: USD $\", df_products_raw.price_usd.max())\n",
        "print(\"Der günstigste Wein kostet: USD $\", df_products_raw.price_usd.min())\n",
        "print(\"Der Durchschnittspreis der Weine beträgt: USD $\", df_products_raw.price_usd.mean())"
      ],
      "metadata": {
        "id": "9Z_46i1kXq27"
      },
      "execution_count": null,
      "outputs": []
    },
    {
      "cell_type": "code",
      "source": [
        "# vinho mais caro da carta\n",
        "df_products_raw[df_products_raw.price_usd == 1901.73]"
      ],
      "metadata": {
        "id": "O4sM8uTCYTqD"
      },
      "execution_count": null,
      "outputs": []
    },
    {
      "cell_type": "code",
      "source": [
        "# vinho mais barato da carte\n",
        "df_products_raw[df_products_raw.price_usd == 9.13]"
      ],
      "metadata": {
        "id": "P3clsVR1LhZU"
      },
      "execution_count": null,
      "outputs": []
    },
    {
      "cell_type": "markdown",
      "source": [
        "Boxplott Wein für Preis"
      ],
      "metadata": {
        "id": "qMm5I_2WJqMM"
      }
    },
    {
      "cell_type": "code",
      "source": [
        "#producer_counts.value_counts()\n",
        "#verificar os vinhos mais caros\n",
        "# f, ax = plt.subplots(figsize=(16, 8))\n",
        "# sns.barplot(x=df_products_raw.name, y=df_products_raw.price_usd, order=df_products_raw.sort_values('price_usd', ascending=False).name.iloc[0:25])\n",
        "# plt.xticks(rotation=89)\n",
        "# plt.show();\n",
        "\n",
        "\n",
        "# Die 10 teuersten Weine werden nach ihrem Preis absteigend sortiert und extrahiert\n",
        "name = df_products_raw.sort_values('price_usd', ascending=False).name.iloc[0:10]\n",
        "name = name.to_list()  # Konvertieren der Namen in eine Liste\n",
        "\n",
        "# Die Preise der 10 teuersten Weine werden ebenfalls extrahiert\n",
        "price = df_products_raw.sort_values('price_usd', ascending=False).price_usd.iloc[0:10]\n",
        "price = price.to_list()  # Konvertieren der Preise in eine Liste\n",
        "\n",
        "# Die extrahierten Preise werden für die Darstellung als Barplot verwendet\n",
        "value_price = price\n",
        "labels = name  # Die entsprechenden Labels (Weinnamen) werden gesetzt\n",
        "gerundete_werte = np.round(value_price, 1)  # Rundung der Preise auf eine Dezimalstelle\n",
        "\n",
        "# Erstellung der Plotfigur und Festlegen der Größe\n",
        "fig, ax = plt.subplots(figsize=(10, 10))\n",
        "\n",
        "# Einstellungen für die Balken im Diagramm\n",
        "x = np.arange(len(labels))  # Positionen für die x-Achse\n",
        "width_bar = 0.80  # Breite der Balken\n",
        "\n",
        "# Erstellung der Balken für das Diagramm\n",
        "rects2 = ax.bar(x, gerundete_werte, width_bar)\n",
        "\n",
        "# Hinzufügen von Labels auf der x-Achse (Weinnamen)\n",
        "ax.set_xticks(x)\n",
        "ax.set_xticklabels(labels, color=\"#787878\")  # Schriftfarbe der x-Achsen-Beschriftung\n",
        "\n",
        "# Entfernen der Achsenlinien (Grids) für ein saubereres Layout\n",
        "ax.spines['right'].set_visible(False)\n",
        "ax.spines['left'].set_visible(False)\n",
        "ax.spines['top'].set_visible(False)\n",
        "ax.spines['bottom'].set_visible(False)\n",
        "\n",
        "# Entfernen der y-Achse\n",
        "plt.gca().axes.get_yaxis().set_visible(False)\n",
        "\n",
        "# Hinzufügen eines Titels für das Diagramm\n",
        "plt.title('Teuerste Weine auf der Karte')\n",
        "\n",
        "# Entfernen der Ticks von der x-Achse (bis auf die Labels)\n",
        "plt.tick_params(\n",
        "    axis='both',\n",
        "    which='both',\n",
        "    bottom=False,\n",
        "    top=False,\n",
        "    labelbottom=True\n",
        ")\n",
        "\n",
        "# Rotation der Labels auf der x-Achse, um Überlappungen zu vermeiden\n",
        "plt.xticks(rotation=85)\n",
        "\n",
        "# Funktion zum Hinzufügen der Werte als Text in die Balken\n",
        "def autolabel(rects):\n",
        "    for rect in rects:\n",
        "        height = rect.get_height()  # Höhe des Balkens (entspricht dem Wert)\n",
        "        ax.annotate(\n",
        "            '{}$'.format(height),  # Der Wert wird als Text angezeigt\n",
        "            xy=(rect.get_x(), height),  # Position des Textes relativ zum Balken\n",
        "            xytext=(25, -20),  # Versatz (Offset) des Textes\n",
        "            textcoords=\"offset points\",  # Textkoordinaten sind relativ zum Punkt\n",
        "            ha='center',  # Zentrieren des Textes\n",
        "            color=\"White\",  # Textfarbe\n",
        "        )\n",
        "\n",
        "# Aufrufen der Funktion, um die Labels innerhalb der Balken anzuzeigen\n",
        "autolabel(rects2)\n",
        "\n",
        "# Optimierung des Layouts, um Platzprobleme zu vermeiden\n",
        "fig.tight_layout()\n",
        "\n",
        "# Zeigen des fertigen Diagramms\n",
        "plt.show()\n",
        "\n",
        "\n",
        "\n"
      ],
      "metadata": {
        "id": "vX3v2bIOL9my"
      },
      "execution_count": null,
      "outputs": []
    },
    {
      "cell_type": "code",
      "source": [
        "# preis\n",
        "preis = df_products_raw.price_usd\n",
        "\n",
        "# Subplots 1x1 für die Grafiken.\n",
        "fig = make_subplots(rows=1, cols=1)\n",
        "\n",
        "# Boxplot für 'price_usd', horizontal mit `x`.\n",
        "fig.add_trace(\n",
        "    go.Box(x=preis, name='Preis (USD)', marker_color='#0068B5', opacity=0.9),\n",
        "    row=1, col=1\n",
        ")\n",
        "\n",
        "# Layout mit Figurgröße, Titel, Hintergrund Weiß\n",
        "fig.update_layout(\n",
        "    height=500,  # Anpassung der Höhe\n",
        "    width=1200,   # Anpassung der Breite\n",
        "    title_text=\"Boxplot von Preis (USD)\",\n",
        "    template='plotly_white',\n",
        "    showlegend=False\n",
        ")\n",
        "\n",
        "# Zeige die Figur\n",
        "fig.show()\n"
      ],
      "metadata": {
        "id": "trbusoS4V5pE"
      },
      "execution_count": null,
      "outputs": []
    },
    {
      "cell_type": "markdown",
      "source": [
        "**Medianer Preis pro Region**"
      ],
      "metadata": {
        "id": "zUpMEpKkZ3vV"
      }
    },
    {
      "cell_type": "code",
      "source": [
        "\n",
        "# Create a copy of the original DataFrame\n",
        "df_region_analysis = df_products_raw.copy()\n",
        "region_values_list = df_region_analysis['region'].tolist()\n",
        "\n",
        "data = {\n",
        "    'producer': region_values_list\n",
        "}\n",
        "\n",
        "# Zähle die Anzahl der Produzenten\n",
        "producer_counts = df_region_analysis['region'].value_counts()\n",
        "\n",
        "# Berechne den Prozentsatz\n",
        "producer_percentages = (producer_counts / producer_counts.sum()) * 100\n",
        "\n",
        "# Erstelle ein neues DataFrame für die Tabelle\n",
        "producer_table = pd.DataFrame({\n",
        "    'Region': producer_counts.index,\n",
        "    'Anzahl': producer_counts.values,\n",
        "    'Prozent (%)': producer_percentages.values\n",
        "})\n",
        "\n",
        "# Erstelle eine Tabelle mit Plotly\n",
        "table = go.Table(\n",
        "    header=dict(\n",
        "        values=[\"<b>Region</b>\", \"<b>Anzahl</b>\", \"<b>Prozent (%)</b>\"],\n",
        "        fill_color='paleturquoise',\n",
        "        align='left'\n",
        "    ),\n",
        "    cells=dict(\n",
        "        values=[\n",
        "            producer_table['Region'],\n",
        "            producer_table['Anzahl'],\n",
        "            producer_table['Prozent (%)'].round(2)\n",
        "        ],\n",
        "        fill_color='lavender',\n",
        "        align='left'\n",
        "    )\n",
        ")\n",
        "\n",
        "# Erstelle das Layout und zeige die Tabelle\n",
        "fig = go.Figure(data=[table])\n",
        "fig.update_layout(\n",
        "    title=\"Region: Anzahl von Weine  pro Region.\",\n",
        "    autosize=True,\n",
        "    width=900,\n",
        "    height=800,\n",
        "    annotations=[\n",
        "        dict(\n",
        "            text=\"Na variável region temos Burgundy representando 32% do conjunto, seguido por Bordeaux 21% e Rhone 6%\",\n",
        "            x=0.5,  # Horizontale Position (0 = links, 1 = rechts)\n",
        "            y=0.1,  # Vertikale Position unterhalb der Tabelle (negative Werte)\n",
        "            xref=\"paper\",\n",
        "            yref=\"paper\",\n",
        "            showarrow=True,\n",
        "            font=dict(size=16)\n",
        "        )\n",
        "    ]\n",
        ")\n",
        "fig.show()"
      ],
      "metadata": {
        "id": "oiuoKlhcauRj"
      },
      "execution_count": null,
      "outputs": []
    },
    {
      "cell_type": "code",
      "source": [
        "# f, ax = plt.subplots(figsize=(16, 8))\n",
        "# sns.countplot(x=df_products_raw.region, order=df_products_raw.region.value_counts().index);\n",
        "# plt.xticks(rotation=45)\n",
        "# plt.show();\n",
        "\n",
        "\n",
        "# Zähle die Anzahl der Produzenten\n",
        "region_counts = df_produzent_analysis['region'].value_counts()[:]\n",
        "\n",
        "#\n",
        "region_percentages = (region_counts / region_counts.sum()) * 100\n",
        "\n",
        "#\n",
        "labels=region_percentages.index.to_list()[:10]\n",
        "value_percent=region_percentages.values.tolist()[:10]\n",
        "gerundete_werte = np.round(value_percent, 1)\n",
        "\n",
        "#\n",
        "fig, ax = plt.subplots(figsize=(12,8))\n",
        "\n",
        "# ajustes para construir o gráfico\n",
        "x = np.arange(len(labels))\n",
        "width_bar = 0.50\n",
        "\n",
        "# Bar Grafik\n",
        "rects2 = ax.bar(x,gerundete_werte,width_bar)\n",
        "\n",
        "# axes\n",
        "ax.set_xticks(x)\n",
        "ax.set_xticklabels(labels,color=\"#787878\");\n",
        "\n",
        "# remover grids e eixos\n",
        "ax.spines['right'].set_visible(False)\n",
        "ax.spines['left'].set_visible(False)\n",
        "ax.spines['top'].set_visible(False)\n",
        "ax.spines['bottom'].set_visible(False)\n",
        "\n",
        "# # remover eixo y\n",
        "plt.gca().axes.get_yaxis().set_visible(False)\n",
        "plt.title('Region und Prozentanzahl')\n",
        "\n",
        "# # remover xticks do eixo x\n",
        "plt.tick_params(\n",
        "    axis='both',\n",
        "    which='both',\n",
        "    bottom=False,\n",
        "    top=False,\n",
        "    labelbottom=True)\n",
        "\n",
        "plt.xticks(rotation=80)\n",
        "\n",
        "\n",
        "def autolabel(rects):\n",
        "    for rect in rects:\n",
        "        height = rect.get_height()\n",
        "        ax.annotate(\n",
        "                    '{}%'.format(height),\n",
        "                    xy=(rect.get_x() ,  height),\n",
        "                    xytext=(18,-20),  # offset\n",
        "                    textcoords=\"offset points\",\n",
        "                    ha='center',\n",
        "                    #va='bottom',\n",
        "                    #fontsize=10,\n",
        "                    color=\"White\",\n",
        "                    )\n",
        "\n",
        "# plotar labels dentro das barras\n",
        "#autolabel(rects1)\n",
        "autolabel(rects2)\n",
        "\n",
        "# plotar gráfico\n",
        "fig.tight_layout()\n",
        "plt.show()"
      ],
      "metadata": {
        "id": "c83i7Rn6BBex"
      },
      "execution_count": null,
      "outputs": []
    },
    {
      "cell_type": "code",
      "source": [
        "#grouped_df = df_products_raw.groupby(\"region\")\n",
        "#mean_df = grouped_df.mean('price_usd')\n",
        "#mean_df = mean_df.reset_index()\n",
        "\n",
        "# print(round(mean_df,2))\n",
        "#round(mean_df.sort_values('price_usd', ascending=False),2)\n",
        "\n",
        "# Kopiere das ursprüngliche DataFrame\n",
        "df_region_analysis = df_products_raw.copy()\n",
        "\n",
        "# Gruppiere nach Region und berechne den Median für price_usd\n",
        "median_price_per_region = df_region_analysis.groupby(\"region\")['price_usd'].median()\n",
        "\n",
        "# Erstelle ein neues DataFrame für die Tabelle und sortiere es absteigend nach Medianpreis\n",
        "median_table = pd.DataFrame({\n",
        "    'Region': median_price_per_region.index,\n",
        "    'Medianer Preis (USD)': median_price_per_region.values\n",
        "}).sort_values(by=\"Medianer Preis (USD)\", ascending=False).reset_index(drop=True)\n",
        "\n",
        "# Erstelle eine Tabelle mit Plotly\n",
        "table = go.Table(\n",
        "    header=dict(\n",
        "        values=[\"<b>Region</b>\", \"<b>Medianpreis (USD)</b>\"],\n",
        "        fill_color='paleturquoise',\n",
        "        align='left'\n",
        "    ),\n",
        "    cells=dict(\n",
        "        values=[\n",
        "            median_table['Region'],\n",
        "            median_table[\"Medianer Preis (USD)\"].round(2)\n",
        "        ],\n",
        "        fill_color='lavender',\n",
        "        align='left'\n",
        "    )\n",
        ")\n",
        "\n",
        "# Erstelle das Layout und zeige die Tabelle\n",
        "fig = go.Figure(data=[table])\n",
        "fig.update_layout(\n",
        "    title=\"Region: Medianpreis pro Region (absteigend sortiert, in USD).\",\n",
        "    autosize=True,\n",
        "    width=900,\n",
        "    height=800,\n",
        "    annotations=[\n",
        "        dict(\n",
        "            text=\"Die Regionen sind basierend auf dem Medianpreis sortiert – beginnend mit dem höchsten Wert.\",\n",
        "            x=0.5,  # Horizontale Position (0 = links, 1 = rechts)\n",
        "            y=-0.2,  # Vertikale Position unterhalb der Tabelle\n",
        "            xref=\"paper\",\n",
        "            yref=\"paper\",\n",
        "            showarrow=False,\n",
        "            font=dict(size=14)\n",
        "        )\n",
        "    ]\n",
        ")\n",
        "fig.show()\n",
        "\n"
      ],
      "metadata": {
        "id": "U1yc8J8SS_Pc"
      },
      "execution_count": null,
      "outputs": []
    },
    {
      "cell_type": "code",
      "source": [
        "# preço  região\n",
        "f, ax = plt.subplots(figsize=(16, 8))\n",
        "\n",
        "# Entfernen der Achsenlinien (Grids) für ein saubereres Layout\n",
        "ax.spines['right'].set_visible(False)\n",
        "ax.spines['left'].set_visible(False)\n",
        "ax.spines['top'].set_visible(False)\n",
        "ax.spines['bottom'].set_visible(False)\n",
        "\n",
        "# Entfernen der Ticks von der x-Achse (bis auf die Labels)\n",
        "plt.tick_params(\n",
        "    axis='both',\n",
        "    which='both',\n",
        "    bottom=False,\n",
        "    top=False,\n",
        "    labelbottom=True\n",
        ")\n",
        "sns.scatterplot(x=df_products_raw.region, y=df_products_raw.price_usd)\n",
        "plt.xticks(rotation=90)\n",
        "plt.show();"
      ],
      "metadata": {
        "id": "r6cyQ8ztOE-b"
      },
      "execution_count": null,
      "outputs": []
    },
    {
      "cell_type": "code",
      "source": [
        "# boxplots de preço por safra\n",
        "data = pd.concat([df_products_raw.price_usd, df_products_raw.vintage], axis=1)\n",
        "f, ax = plt.subplots(figsize=(16, 8))\n",
        "\n",
        "# Entfernen der Achsenlinien (Grids) für ein saubereres Layout\n",
        "ax.spines['right'].set_visible(False)\n",
        "ax.spines['left'].set_visible(False)\n",
        "ax.spines['top'].set_visible(False)\n",
        "ax.spines['bottom'].set_visible(False)\n",
        "\n",
        "# Entfernen der Ticks von der x-Achse (bis auf die Labels)\n",
        "plt.tick_params(\n",
        "    axis='both',\n",
        "    which='both',\n",
        "    bottom=False,\n",
        "    top=False,\n",
        "    labelbottom=True\n",
        ")\n",
        "fig = sns.boxplot(x=df_products_raw.vintage, y=df_products_raw.price_usd, data=data)\n",
        "fig.axis();\n",
        "plt.xticks(rotation=45);"
      ],
      "metadata": {
        "id": "OobKKgiOOo0y"
      },
      "execution_count": null,
      "outputs": []
    },
    {
      "cell_type": "markdown",
      "source": [],
      "metadata": {
        "id": "0Ll3__xq1WfS"
      }
    },
    {
      "cell_type": "markdown",
      "source": [
        "Na variável country temos ao todo 6 países diferentes, onde a França representa 70% do conjunto, seguido pela Itália com 10% e Espanha com 8%"
      ],
      "metadata": {
        "id": "ZCLsQ42y0qfo"
      }
    },
    {
      "cell_type": "markdown",
      "source": [
        "Na variável region temos Burgundy representando 32% do conjunto, seguido por Bordeaux 21% e Rhone 6%"
      ],
      "metadata": {
        "id": "CMMk2rt4gAwc"
      }
    },
    {
      "cell_type": "code",
      "source": [
        "print(df_products_raw.country.value_counts())"
      ],
      "metadata": {
        "id": "vaRsmIK9ZeMt"
      },
      "execution_count": null,
      "outputs": []
    },
    {
      "cell_type": "code",
      "source": [
        "# Berechnung der Korrelationsmatrix\n",
        "corr = df_products_raw.corr(numeric_only=True)\n",
        "\n",
        "# Auswahl der 4 Variablen mit der höchsten Korrelation zu 'price_usd'\n",
        "cols = corr.nlargest(4, 'price_usd')['price_usd'].index\n",
        "cm = np.corrcoef(df_products_raw[cols].values.T)\n",
        "\n",
        "# Heatmap erstellen\n",
        "f, ax = plt.subplots(figsize=(7, 4))  # Größe des Plots anpassen\n",
        "sns.set(font_scale=1.25)  # Schriftgröße anpassen\n",
        "\n",
        "# Blau-Weiße Farbpalette für die Heatmap\n",
        "hm = sns.heatmap(\n",
        "    cm,\n",
        "    cbar=True,\n",
        "    annot=True,  # Werte in den Zellen anzeigen\n",
        "    square=True,\n",
        "    fmt='.2f',  # Format der Werte auf zwei Nachkommastellen\n",
        "    annot_kws={'size': 10},  # Schriftgröße der Annotationen\n",
        "    yticklabels=cols.values,  # Y-Achsen-Beschriftung\n",
        "    xticklabels=cols.values,  # X-Achsen-Beschriftung\n",
        "    cmap=\"Blues\"  # Farbpalette auf Blau setzen\n",
        ")\n",
        "\n",
        "# Layout anpassen\n",
        "plt.tight_layout()\n",
        "\n",
        "# Zeige den Plot an\n",
        "plt.show()\n"
      ],
      "metadata": {
        "id": "282KEvZ1JTKZ"
      },
      "execution_count": null,
      "outputs": []
    },
    {
      "cell_type": "markdown",
      "source": [
        "No relatório gerado acima percebe-se que:\n",
        "- o conjunto é formado por 219 registros e 9 atributos\n",
        "- pelas primeiras e últimas entradas do dataset ele parece estar bem preenchido e sem anormalidades\n",
        "- não há dados ausentes\n",
        "- não há dados duplicados\n",
        "- existe 1 coluna numérica e as demais são categóricas, o que merece um checagem uma vez que por ter variáveis de preço elas podem não estar no tipo de variável correta\n",
        "- foram detectados 4 atributos com alta cardinalidade, ou seja, com muitos valores distintos, o que é condizente com os atributos em questão (`name`, `producer`, `price_brl` e `price_usd`)\n",
        "- foram detectas correlações fortes entre `item_id` e `producer`, `country` e `item_id`, `region` e `item_id`, `vintage` e `kind`, `producer` e `kind`\n",
        "- as variáveis `item_id`, `vintage`, `price_brl` e `price_usd` estão como tipo `string` mas não é o tipo mais adequado para elas\n",
        "- na variável `country` temos ao todo 6 países diferentes, onde a França representa 70% do conjunto, seguido pela Itália com 10% e Espanha com 8%\n",
        "- na variável `region` temos Burgundy representando 32% do conjunto, seguido por Bordeaux 21% e Rhone 6%\n",
        "- na variável `vintage` temos ao todo 17 safras diferentes, sendo a safra de 2018 representando 30% do conjunto, seguido por 2017 com 22%, e tanto 2015 como 2014, cada um com 8.7% de representação\n",
        "- ainda sobre o atributo `vintage` nota-se a presença do acrônimo NV que significa _Non-Vintage_, será necessário alterar esse valor para 0 para poder alterar todo o atributo em tipo `int`.\n",
        "- na variável `kind` temos o vinho tinto representando 60% do conjunto, seguido pelo branco com 31.5% e o espumante com 4.6%\n",
        "- na variável `producer` temos ao todo 58 produtores diferentes, sendo o mais presente nesse conjunto o Domaine Ponsot com 5.5%, seguido por La Chablisienne com 4.6% e Domaine Matrot com 4.1%"
      ],
      "metadata": {
        "id": "dPBFwEFHTsxk"
      }
    },
    {
      "cell_type": "markdown",
      "source": [
        "\n",
        "# **Jetzt, da wir das Problem und unseren Lagerbestand besser verstanden haben, ist es an der Zeit, einen Blick auf die Verkaufsdaten zu werfen.**"
      ],
      "metadata": {
        "id": "XY9scHN19h55"
      }
    }
  ]
}
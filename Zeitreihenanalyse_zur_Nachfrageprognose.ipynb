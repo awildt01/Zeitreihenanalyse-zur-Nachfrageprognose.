{
  "nbformat": 4,
  "nbformat_minor": 0,
  "metadata": {
    "colab": {
      "provenance": [],
      "authorship_tag": "ABX9TyOeY3z7srdGiartwAZ97ZHD",
      "include_colab_link": true
    },
    "kernelspec": {
      "name": "python3",
      "display_name": "Python 3"
    },
    "language_info": {
      "name": "python"
    }
  },
  "cells": [
    {
      "cell_type": "markdown",
      "metadata": {
        "id": "view-in-github",
        "colab_type": "text"
      },
      "source": [
        "<a href=\"https://colab.research.google.com/github/awildt01/Zeitreihenanalyse-zur-Nachfrageprognose./blob/main/Zeitreihenanalyse_zur_Nachfrageprognose.ipynb\" target=\"_parent\"><img src=\"https://colab.research.google.com/assets/colab-badge.svg\" alt=\"Open In Colab\"/></a>"
      ]
    },
    {
      "cell_type": "markdown",
      "source": [
        "#Über das Projekt"
      ],
      "metadata": {
        "id": "uzEvYPXBreRJ"
      }
    },
    {
      "cell_type": "markdown",
      "source": [
        "<p align=center>\n",
        "<img src=\"https://www.slimstock.com/wp-content/uploads/2023/04/demand-forecasting-cartoon-magnifying.webp\" width=\"70%\"></p>"
      ],
      "metadata": {
        "id": "A_GRh_dksoyp"
      }
    },
    {
      "cell_type": "markdown",
      "source": [
        "<div>\n",
        "  <a href = \"https://github.com/raffaloffredo/data_science_portfolio\"><img src=\"https://img.shields.io/badge/GitHub-100000?style=for-the-badge&logo=github&logoColor=white\" target=\"_blank\"></a>\n",
        "  <a href=\"https://www.linkedin.com/in/raffaela-loffredo/?locale=en_US\" target=\"_blank\"><img src=\"https://img.shields.io/badge/-LinkedIn-%230077B5?style=for-the-badge&logo=linkedin&logoColor=white\" target=\"_blank\"></a>\n",
        "  <a href=\"https://sites.google.com/view/loffredo/\" target=\"_blank\"><img src=\"\thttps://img.shields.io/badge/website-000000?style=for-the-badge&logo=About.me&logoColor=white\" target=\"_blank\"></a>\n",
        "  <a href=\"https://instagram.com/loffredo.ds\" target=\"_blank\"><img src=\"https://img.shields.io/badge/-Instagram-%23E4405F?style=for-the-badge&logo=instagram&logoColor=white\" target=\"_blank\"></a>\n",
        "  <a href=\"https://medium.com/@loffredo.ds\" target=\"_blank\"><img src=\"https://img.shields.io/badge/Medium-12100E?style=for-the-badge&logo=medium&logoColor=white\"></a>\n",
        "</div>"
      ],
      "metadata": {
        "id": "zEZG-_hLgGNA"
      }
    },
    {
      "cell_type": "markdown",
      "source": [
        "## Nachfrageprognose"
      ],
      "metadata": {
        "id": "uq5k-IiJt3za"
      }
    },
    {
      "cell_type": "markdown",
      "source": [
        "Nachfrageprognose (Demand Forecasting) ist ein zentraler Bereich der Datenanalyse und besonders relevant für das Management von Lagerbeständen Sie hilft Unternehmen, die zukünftige Nachfrage nach ihren Produkten vorherzusagen und damit die Lieferkette sowie Bestandsverwaltung effizient zu gestalten. Das Ziel ist es, Engpässe zu vermeiden, die Lagerhaltungskosten zu optimieren und letztendlich die Kundenzufriedenheit zu verbessern."
      ],
      "metadata": {
        "id": "De3Pw6NCuU9t"
      }
    },
    {
      "cell_type": "markdown",
      "source": [
        "In dieser Studie basieren wir auf den Anforderungen, [echten Stellenangebot, das auf LinkedIn veröffentlicht wurde](https://www.linkedin.com/jobs/view/2435754417). Der Vertrag umfasste die Präsentation einer Lösung zur Umsatzprognose, die das Lagermanagement des Unternehmens unterstützen soll. Es wird auch darauf hingewiesen, dass die besonderen Herausforderungen der Weinbranche berücksichtigt werden.\n",
        "<br/>\n",
        "<br/>\n",
        "\n",
        "<p align=center>\n",
        "<img src=\"https://github.com/rafaelnduarte/sigmoidal_data/blob/master/Screen%20Shot%202021-04-01%20at%2012.04.22.png?raw=true\" width=\"70%\"></p>\n",
        "<br/>"
      ],
      "metadata": {
        "id": "utYkzvbH1a9c"
      }
    },
    {
      "cell_type": "markdown",
      "source": [
        "## Bedeutung der Nachfrageprognose im Einzelhandel"
      ],
      "metadata": {
        "id": "nltjGxNR4g4k"
      }
    },
    {
      "cell_type": "markdown",
      "source": [
        "Im Einzelhandel, insbesondere für Produkte wie Wein, ist es entscheidend, die Nachfrage genau zu prognostizieren, da Wein eine begrenzte Haltbarkeit und hohe Lagerkosten haben kann. Fehlerhafte Prognosen können zu Über- oder Unterbeständen führen, die entweder zu Lagerkosten oder zu verpassten Verkaufschancen führen. Eine genaue Nachfrageprognose kann helfen:\n",
        "\n",
        "- **Wettbewerb**\n",
        "Es ist sehr wichtig, die Konkurrenz in Ihrem Umfeld genau zu beobachten. Wenn Sie regional für ein Publikum in Ihrer Region verkaufen oder online tätig sind, ist es wichtig, Ihren Kontext, Ihre Wettbewerber und deren Angebote genau zu verstehen. Ob es sich um neue starke Wettbewerber handelt oder um eine neue Lösung, die Ihre Kunden dazu bringt, zwischen Ihnen und ihnen zu wählen – es ist entscheidend, das Modell so anzupassen, dass es Ihnen hilft, diese Veränderungen zu verstehen und sich darauf vorzubereiten.\n",
        "\n",
        "- **Lagerhaltung zu optimieren:** Unternehmen können ihre Bestände effizient verwalten und vermeiden Überbestände oder Ausverkäufe.\n",
        "- **Lieferkettenprozesse zu verbessern:** Unternehmen können rechtzeitig Nachbestellungen durchführen, um Engpässe zu vermeiden.\n",
        "- **Verkaufsaktionen zu planen:** Wenn die Prognosen auf einen Anstieg der Nachfrage hinweisen, können gezielte Marketingaktionen vorbereitet werden.\n",
        "\n",
        "- **Geografie**\n",
        "Hier, wie bereits im Wettbewerbsteil erwähnt, ist es wichtig, den geografischen Kontext zu verstehen, selbst wenn Sie online arbeiten. Dabei sollten Sie die logistischen Herausforderungen in Bezug auf Lagerhaltung und Produktlieferung, Schwierigkeiten mit Transportunternehmen und damit verbundene Kosten berücksichtigen. Es ist entscheidend, den Zeitaufwand für den Erhalt Ihres Bestands und die Lieferung Ihrer Verkäufe zu verstehen, da all diese Faktoren auch eine wichtige Rolle bei der Prognose spielen."
      ],
      "metadata": {
        "id": "zx-HkJuG4m_0"
      }
    },
    {
      "cell_type": "markdown",
      "source": [
        "## Herausforderung der Nachfrageprognose im Weinmarkt"
      ],
      "metadata": {
        "id": "evn1gxMl8A_N"
      }
    },
    {
      "cell_type": "markdown",
      "source": [
        "Die Weinbranche ist einzigartig, da die Nachfrage durch Faktoren wie Bewertungen, Jahrgänge und sogar Wettereinflüsse beeinflusst wird. Zudem kann die Nachfrage volatil sein, da seltene oder spezielle Weine eine unregelmäßige Nachfrage aufweisen können. Solche Variablen erhöhen die Komplexität, weshalb maschinelles Lernen und Deep Learning hier wertvoll sein können.\n",
        "\n",
        "Weinbestände unterliegen spezifischen Einflüssen, wie etwa saisonaler Nachfrage zu Feiertagen, Kundenpräferenzen nach Jahrgang oder Weinart sowie äußeren Faktoren wie Wetterbedingungen. Diese Variablen lassen sich in maschinelle Lernmodelle integrieren, um die Prognosegenauigkeit weiter zu verbessern."
      ],
      "metadata": {
        "id": "03HaHHQe8Iz1"
      }
    },
    {
      "cell_type": "markdown",
      "source": [
        "# Datenbeschaffung"
      ],
      "metadata": {
        "id": "vkUd8RqZlHXC"
      }
    },
    {
      "cell_type": "markdown",
      "source": [
        "\n",
        "Die in diesem Projekt verwendeten Daten wurden von [Rafael Duarte](https://www.linkedin.com/in/rafael-n-duarte/?source=user_about----------------------95e660a7ce9---------------), einem Datenwissenschaftler und Weinliebhaber, bereitgestellt. Er erstellte diesen Datensatz aufgrund der Schwierigkeit, Verkaufsdaten in diesem Sektor zu finden. Er hebt hervor:\n",
        "\n",
        "- Die Weinkarte, also die Produkte, sind echt und basieren auf dem tatsächlichen Angebot eines Wein-E-Commerce in Brasilien. Namen, Jahrgänge und Werte sind zu 100 % echt und wurden in US-Dollar umgerechnet, um eine internationale Anziehungskraft zu erreichen.\n",
        "- Der Verkaufsdatensatz basiert auf einem Kaggle-Wettbewerb. Dieser Datensatz umfasste ursprünglich 5 Jahre tägliche Verkäufe, verteilt auf 10 Geschäfte, mit einem Katalog von 50 Produkten. Er wurde jedoch geändert und umfasst nun 3 Jahre tägliche Verkäufe, verteilt auf 3 Geschäfte mit 219 verschiedenen Produkten auf Lager.\n",
        "\n",
        "Die Daten sind in zwei Dateien aufgeteilt: eine enthält die historischen Verkaufsdaten, die andere Informationen über die Weine. Beide Dateien wurden in der Cloud gespeichert, falls sie nicht verfügbar sind oder Änderungen in der Zukunft vorgenommen werden. Diese gespeicherten Dateien werden im Code verwendet, um die Integrität der Studie zu gewährleisten.\n",
        "\n",
        "Es ist zu beachten, dass es sich um einen Datensatz mit synthetischen Daten handelt, der zwar auf echten Daten basiert, aber dennoch Probleme aufweisen kann, die bei echten Daten nicht auftreten würden. Dies sollte während der gesamten Analyse berücksichtigt werden."
      ],
      "metadata": {
        "id": "eNjK73BxlOML"
      }
    },
    {
      "cell_type": "markdown",
      "source": [
        "# Business Understanding"
      ],
      "metadata": {
        "id": "t7bFmuwcY8Pk"
      }
    },
    {
      "cell_type": "markdown",
      "source": [
        "Weine sind lebendige Getränke, die sich ständig weiterentwickeln und optimale Bedingungen benötigen, um ihre Qualität und Charakter zu bewahren. Ohne diese Bedingungen können sie verderben.\n",
        "\n",
        "Deshalb ist besondere Sorgfalt bei Lagerung und Transport erforderlich, um Bestände zu sichern und Verluste zu vermeiden. Dies unterstreicht die Bedeutung dieses Projekts, da es den Gewinn des Unternehmens möglicherweise stärker beeinflussen kann als andere Bereiche.\n",
        "\n",
        "Es ist wichtig, Sonnenlicht zu vermeiden. Die Lagerung sollte in einer Umgebung mit spezifischer, aber nicht übermäßiger Luftfeuchtigkeit und einer konstanten Temperatur erfolgen. Dabei ist es entscheidender, die Temperatur stabil zu halten, als eine exakte Zieltemperatur zu erreichen. In der Regel liegt die empfohlene Temperatur zwischen 10 und 15 Grad, je nach Weinsorte.\n",
        "\n",
        "Bewegungen, Erschütterungen und Vibrationen sollten ebenfalls vermieden werden, um die Flüssigkeit nicht zu stören. Dies zeigt, wie wichtig eine optimale Bestandsverwaltung ist, bei der die Weine so wenig wie möglich bewegt werden. Nach Möglichkeit wird empfohlen, Weine horizontal zu lagern – ein Aspekt, der auch bei der Planung der Lagerräume berücksichtigt werden sollte.\n",
        "\n",
        "Darüber hinaus ist es wichtig, die Rotation der Bestände zu optimieren, damit der Wein möglichst wenig Zeit an einem Ort verbringt, an dem er verderben könnte, und dennoch in ausgezeichnetem Zustand an die Kunden geliefert wird.\n",
        "\n",
        "Obwohl einige Weine mit der Zeit an Qualität gewinnen, ist die Mehrheit für den sofortigen Konsum gedacht – meist innerhalb von 1 bis 3 Jahren nach der Markteinführung. Daher ist es entscheidend, Weine nicht übermäßig lange auf Lager zu halten."
      ],
      "metadata": {
        "id": "Inf3MH_FaTyE"
      }
    },
    {
      "cell_type": "markdown",
      "source": [
        "# Ziel"
      ],
      "metadata": {
        "id": "iqIk1BR5_dEE"
      }
    },
    {
      "cell_type": "markdown",
      "source": [
        "Im Wesentlichen entwickelt das Unternehmen eine auf maschinellem Lernen basierende Lösung, um Weinhandlungen dabei zu helfen, ihre Bestände besser zu verwalten. Dazu gehört ein Modell, das die Nachfrage auf der Grundlage historischer Verkaufsdaten prognostiziert.\n",
        "\n",
        "Ihr spezifischer Bedarf besteht darin, den Teil der Verkaufsprognose zu verfeinern, der die einzigartigen Herausforderungen der Weinwelt und die spezifischen Anforderungen ihres Produkts berücksichtigt."
      ],
      "metadata": {
        "id": "T7orDSMLD3V7"
      }
    },
    {
      "cell_type": "markdown",
      "source": [
        "Entwickelt einen auf maschinellem Lernen basierenden Algorithmus, um die Nachfrage nach Wein in einem auf dieses Produkt spezialisierten Geschäft vorherzusagen."
      ],
      "metadata": {
        "id": "D5wUVHht95eq"
      }
    },
    {
      "cell_type": "markdown",
      "source": [
        "- Führen eine explorative Analyse der Daten durch, um den Datensatz zu verstehen und das Vorhandensein von Anomalien zu überprüfen, die geeignete Behandlungen erfordern.\n",
        "- Erstellen eines Modelle für maschinelles Lernen mit verschiedenen Arten von maschinellem Lernen.\n",
        "- Bewerten eines Modells, um das Modell zu finden, das die beste Leistung erbringt."
      ],
      "metadata": {
        "id": "r4HmXko9_kVM"
      }
    },
    {
      "cell_type": "markdown",
      "source": [
        "Einige Fragen, die diese Art von Arbeit beantworten kann:\n",
        "\n",
        "- Wie schnell werden die Produkte verkauft?\n",
        "- Welche Artikel brauchen länger, um verkauft zu werden?\n",
        "- Wie viele Tage Vorrat sind noch verfügbar?\n",
        "- Wo befinden sich Ihre Kunden im Vergleich zu den Orten, von denen aus Sie die Produkte versenden?\n",
        "- Rentabilität pro Bestellung, durchschnittliche Versandkosten und durchschnittlicher Betrag, den Kunden ausgeben.\n",
        "- Täglicher Status der Bestellungen.\n",
        "- Wie verhält sich die aktuelle Nachfrage im Vergleich zu früheren Perioden?\n",
        "- Wie beeinflussen verschiedene Monate und Jahreszeiten Ihre Verkäufe?\n",
        "- Bestverkaufte Produkte des Geschäfts und deren Anteil am Geschäftserfolg."
      ],
      "metadata": {
        "id": "HRVJgNaicDVH"
      }
    },
    {
      "cell_type": "markdown",
      "source": [
        "Nachdem Sie die Bedeutung und den Wert dieser Art von Arbeit verstanden haben, ist es an der Zeit, besser zu verstehen, wie sie funktioniert und worauf Sie achten müssen, um eine gründliche Arbeit zu leisten.\n",
        "\n",
        "Bedenken wir zunächst, dass es sich um ein **Zeitreihenproblem** handelt, das alle Details umfasst, die diese Art von Problem mit sich bringt, wie Saisonalität, Aufmerksamkeit dafür, ob die Reihe stationär ist usw."
      ],
      "metadata": {
        "id": "oYkmrKQ8WdnD"
      }
    },
    {
      "cell_type": "markdown",
      "source": [
        "## Zeitreihen"
      ],
      "metadata": {
        "id": "Nty8697s8cLN"
      }
    },
    {
      "cell_type": "markdown",
      "source": [
        "Die Zeitreihenanalyse ist ein fundamentaler Bestandteil der Datenanalyse, der sich mit der Untersuchung von Datensätzen beschäftigt, die sequentielle Informationen über Zeitintervalle hinweg aufzeichnen. Diese Art der Analyse ermöglicht es, Muster, Trends und zyklische Variationen in den Daten zu identifizieren, zu verstehen und vorherzusagen. Die Bedeutung der Zeitreihenanalyse erstreckt sich über zahlreiche Anwendungsbereiche, von der Wettervorhersage und Finanzmarktanalyse bis hin zur Vorhersage von Verbrauchertrends und der Optimierung von Betriebsabläufen in der Industrie. Durch die Fähigkeit, zukünftige Ereignisse auf Basis historischer Daten vorherzusagen, ermöglicht die Zeitreihenanalyse Entscheidungsträgern in Unternehmen und Organisationen, informierte Strategien zu entwickeln und Risiken zu minimieren.[Link](https://gpt5.blog/zeitreihenanalyse-time-series-analysis/)"
      ],
      "metadata": {
        "id": "yIPaRN1rAlmG"
      }
    },
    {
      "cell_type": "markdown",
      "source": [
        "## Wozu dient die Zeitreihenanalyse?"
      ],
      "metadata": {
        "id": "GXljjgLMI7yz"
      }
    },
    {
      "cell_type": "markdown",
      "source": [
        "Die Zeitreihenanalyse dient einer Vielzahl von Zwecken, darunter:\n",
        "\n",
        "- Vorhersage zukünftiger Ereignisse durch Erkennen von Mustern in historischen Daten (z.B. Aktienkursvorhersagen).\n",
        "- Identifikation von Trends, die Entscheidungsträgern helfen können, informierte Entscheidungen zu treffen (z.B. in der Wirtschaft).\n",
        "- Verständnis der zyklischen Variationen von Zeitreihendaten (z.B. Saisonalität von Verkaufszahlen)."
      ],
      "metadata": {
        "id": "ecvaARY3JCVr"
      }
    },
    {
      "cell_type": "markdown",
      "source": [
        "## Grundbegriffe der Zeitreihenanalyse"
      ],
      "metadata": {
        "id": "AGr8nhF1JT4j"
      }
    },
    {
      "cell_type": "markdown",
      "source": [
        "**Zeitreihe:** Eine Sequenz von Datenpunkten, die in aufeinanderfolgender zeitlicher Reihenfolge gemessen und aufgezeichnet werden.\n",
        "\n",
        "Um die Zeitreihenanalyse effektiv zu nutzen, ist es wichtig, mit einigen grundlegenden Begriffen vertraut zu sein:\n",
        "\n",
        "- **Datenpunkt:** Ein einzelner Wert oder eine Beobachtung in der Zeitreihe.\n",
        "- **Zeitstempel:** Der spezifische Zeitpunkt, zu dem ein Datenpunkt erfasst wurde.\n",
        "- **Trend:**  Die allgemeine Richtung, in die sich die Zeitreihe über einen längeren Zeitraum hinweg bewegt."
      ],
      "metadata": {
        "id": "cDuoauQyJdJb"
      }
    },
    {
      "cell_type": "markdown",
      "source": [
        "## Stationarität in der Zeitreihenanalyse verstehen"
      ],
      "metadata": {
        "id": "4l77ZdDrJ_dj"
      }
    },
    {
      "cell_type": "markdown",
      "source": [
        "**Stationär:** Eine Zeitreihe ist stationär, wenn ihre statistischen Eigenschaften (wie Mittelwert und Varianz) über die Zeit konstant bleiben.\n",
        "\n",
        "Die Stationarität ist ein Schlüsselkonzept in der Zeitreihenanalyse, da viele Analysemethoden davon ausgehen, dass die Zeitreihe stationär ist, oder Maßnahmen erfordern, um eine nicht-stationäre Zeitreihe in eine stationäre umzuwandeln. Es gibt zwei Haupttypen der Stationarität:\n",
        "\n",
        "- **Schwach stationär:** Nur der Mittelwert und die Varianz der Zeitreihe bleiben über die Zeit konstant.\n",
        "- **Stark stationär**: Alle statistischen Eigenschaften der Zeitreihe bleiben über die Zeit konstant."
      ],
      "metadata": {
        "id": "xml2KBexKFrz"
      }
    },
    {
      "cell_type": "markdown",
      "source": [
        "## Verschiedene Arten von Zeitreihen"
      ],
      "metadata": {
        "id": "ZZb-hpzEKXiC"
      }
    },
    {
      "cell_type": "markdown",
      "source": [
        "Es gibt verschiedene Arten von Zeitreihen, die auf spezifische Weise analysiert und interpretiert werden müssen:"
      ],
      "metadata": {
        "id": "bbr9th8pKdLz"
      }
    },
    {
      "cell_type": "markdown",
      "source": [
        "\n",
        "Art der Zeitreihe\n",
        "\n",
        "* **Trend Zeitreihe:**    Eine Zeitreihe, die eine langfristige Zunahme  oder Abnahme aufweist.\n",
        "\n",
        "* **Saisonale Zeitreihe:**\t        Eine Zeitreihe mit regelmäßigen Mustern, die sich in einem festen Zeitrahmen wiederholen, z.B. jährlich.\n",
        "\n",
        "     \n",
        "* **Zyklische Zeitreihe**\t      Zeitreihen mit Mustern, die sich nicht nach einem festen Zeitrahmen wiederholen und oft mit der Wirtschaftslage in Verbindung stehen.\n",
        "\n",
        "\n",
        "* **Rauschen**  Rauschen ist die zufällige Variation von Daten, die nicht durch andere Komponenten erklärt werden kann.\n",
        "\n"
      ],
      "metadata": {
        "id": "d_nJd4oQKi57"
      }
    },
    {
      "cell_type": "markdown",
      "source": [
        "# Was ist Autokorrelation in einer Zeitreihe?"
      ],
      "metadata": {
        "id": "8w-QJ03bnvjf"
      }
    },
    {
      "cell_type": "markdown",
      "source": [
        "Autokorrelation ist das Maß für die Korrelation zwischen einer Zeitreihe und einer verschobenen Version ihrer selbst.\n",
        "\n",
        "Mit anderen Worten: Es handelt sich um das Maß für die Ähnlichkeit zwischen Daten zu unterschiedlichen Zeitpunkten.\n",
        "\n",
        "Wenn Sie beispielsweise die Temperatur von heute mit der Temperatur von gestern korrelieren, werden Sie feststellen, dass eine positive Korrelation besteht.\n"
      ],
      "metadata": {
        "id": "4_SCFld-n_Gv"
      }
    },
    {
      "cell_type": "markdown",
      "source": [
        "<p align=center>\n",
        "<img src=\"https://mariofilho.com/img/guia_ts/4.png\" width=\"70%\"></p>"
      ],
      "metadata": {
        "id": "hH-VtfhUoOJ4"
      }
    },
    {
      "cell_type": "markdown",
      "source": [
        "Mit anderen Worten: Wenn die Temperatur gestern hoch war, ist die Temperatur heute tendenziell auch hoch. Denken Sie daran, dass Korrelation keine Kausalität bedeutet: Die Temperatur von gestern hat nicht die Temperatur von heute verursacht, aber sie hängen zusammen.\n",
        "\n",
        "In der Grafik sehen Sie, dass die höchste Autokorrelation mit dem Vortag besteht (Verzögerung 1) und im Vergleich zu weiter entfernten Tagen abnimmt.\n",
        "\n",
        "Wenn die Daten völlig zufällig sind, das heißt, ein Wert keine Beziehung zum vorherigen Wert hat, ist die Autokorrelation Null. Ein Beispiel für eine Autokorrelation, die sehr nahe bei Null liegt, ist die Korrelation zwischen den Renditen aufeinanderfolgender Tage des Dax  Index."
      ],
      "metadata": {
        "id": "e0xbXquBoiRn"
      }
    },
    {
      "cell_type": "markdown",
      "source": [
        "<p align=center>\n",
        "<img src=\"https://mariofilho.com/img/guia_ts/5.png\" width=\"70%\"></p>"
      ],
      "metadata": {
        "id": "qQlC1qDCo5GP"
      }
    },
    {
      "cell_type": "markdown",
      "source": [
        "Achten Sie auf die Y-Achse, die in diesem Fall von -0,25 bis 0,25 reicht, um die Autokorrelation besser darzustellen. Die schwarzen Balken zeigen an, ob die Autokorrelation den Test der statistischen Signifikanz besteht.\n",
        "\n",
        "Mit anderen Worten: Zahlen dazwischen zeigen an, dass die gemessene Autokorrelation statistisch gesehen nicht von Null abweicht, wir sehen lediglich Abweichungen von Null aufgrund von Rauschen. Im Allgemeinen steht die Rückkehr eines Tages in keinem Zusammenhang mit der Rückkehr des Vortages.\n",
        "\n",
        "Im Falle einer negativen Autokorrelation können wir an eine Reihe von körperlichen Übungen denken. Wenn Sie heute 10 km laufen, werden Sie morgen wahrscheinlich müder sein und nicht mehr so ​​weit laufen können. Je mehr Sie an einem Tag (vorheriger Zeitraum) laufen, desto weniger können Sie am nächsten Tag (aktueller Zeitraum) laufen."
      ],
      "metadata": {
        "id": "ZlcdVSNNwQuv"
      }
    },
    {
      "cell_type": "markdown",
      "source": [
        "https://mariofilho.com/guia-rapido-para-iniciantes-em-series-temporais-time-series/\n",
        "\n",
        "\n",
        "https://app.studysmarter.de/studyset/21210735/summary/71661205"
      ],
      "metadata": {
        "id": "1d8RRKgbPHtg"
      }
    },
    {
      "cell_type": "markdown",
      "source": [
        "**produtos.csv**\n",
        "- country: país de origem do vinho\n",
        "- item_id: número de identificação do item\n",
        "- kind: tipo do vinho:\n",
        "-sparkling: espumante\n",
        "-rose sparkling: espumante rosé\n",
        "-white: branco\n",
        "-rosé: rosé\n",
        "-red: tinto\n",
        "- name: nome do vinho\n",
        "-  price_brl: preço em reais\n",
        "- price_usd: preço em dólar americano\n",
        "- producer: nome do produtor do vinho\n",
        "- region: região de produção do vinho\n",
        "- vintage: ano da safra\n",
        "\n",
        "Deutsch\n",
        "\n",
        "- country: Herkunftsland des Weins\n",
        "- item_id: Identifikationsnummer des Artikels\n",
        "- kind: Weintyp:\n",
        "- sparkling: Schaumwein\n",
        "- rose sparkling: Rosé-Schaumwein\n",
        "- white: Weißwein\n",
        "- rosé: Roséwein\n",
        "- red: Rotwein\n",
        "- name: Name des Weins\n",
        "- price_brl: Preis in brasilianischen Reais\n",
        "- price_usd: Preis in US-Dollar\n",
        "- producer: Name des Produzenten des Weins\n",
        "- region: Produktionsregion des Weins\n",
        "- vintage: Jahrgang des Weins"
      ],
      "metadata": {
        "id": "jJzcCLx-g6TV"
      }
    },
    {
      "cell_type": "markdown",
      "source": [
        "**vendas.csv**\n",
        "\n",
        "- date: data da venda\n",
        "- item: número de identificação do item\n",
        "- store: loja\n",
        "- sales: quantidade vendida\n",
        "\n",
        "\n",
        "Deutsch\n",
        "\n",
        "- date: Verkaufsdatum\n",
        "- item: Identifikationsnummer des Artikels\n",
        "- store: Geschäft\n",
        "- sales: Verkaufsmenge"
      ],
      "metadata": {
        "id": "Z2BnXyFEiwHm"
      }
    },
    {
      "cell_type": "code",
      "source": [
        "# importando as bibliotecas\n",
        "import pandas as pd\n",
        "import numpy as np\n",
        "import matplotlib.pyplot as plt\n",
        "import seaborn as sns\n",
        "\n",
        "\n",
        "import warnings                   # notificações\n",
        "warnings.filterwarnings('ignore') # configurar notificações para serem ignoradas\n",
        "\n",
        "# configurações adicionais\n",
        "plt.style.use('ggplot')\n",
        "sns.set_style('dark')"
      ],
      "metadata": {
        "id": "pXHTSSDQMYcP"
      },
      "execution_count": 1,
      "outputs": []
    },
    {
      "cell_type": "code",
      "source": [
        "# importar os conjuntos de dados e atribuí-los em variáveis\n",
        "df_products_raw = pd.read_csv('https://www.dropbox.com/scl/fi/t8wr73843nxvcw949twi3/products.csv?rlkey=qrms57xtev2rzqzpxuqoc9yif&dl=1')\n",
        "df_sales_raw   = pd.read_csv('https://www.dropbox.com/scl/fi/hlrspaogkay44qe45bbf4/sales.csv?rlkey=j9rlkn2r97j3swfpg9irckvgm&dl=1')\n",
        "\n",
        "print (df_products_raw.shape)"
      ],
      "metadata": {
        "id": "ru6Xdd2RNDLX",
        "colab": {
          "base_uri": "https://localhost:8080/"
        },
        "outputId": "766b18fe-08b9-47a6-d1ed-beed55407e0f"
      },
      "execution_count": 2,
      "outputs": [
        {
          "output_type": "stream",
          "name": "stdout",
          "text": [
            "(219, 9)\n"
          ]
        }
      ]
    },
    {
      "cell_type": "code",
      "source": [
        "df_products_raw.head()"
      ],
      "metadata": {
        "colab": {
          "base_uri": "https://localhost:8080/",
          "height": 206
        },
        "id": "T2BkvzcXNJN3",
        "outputId": "4824e81e-b071-480c-b41c-79a2dfd43f43"
      },
      "execution_count": 3,
      "outputs": [
        {
          "output_type": "execute_result",
          "data": {
            "text/plain": [
              "   item_id                                          name     producer country  \\\n",
              "0        1              Philipponnat Royale Reserve Brut  Philipponat  France   \n",
              "1        2              Philipponnat Royale Reserve Rosé  Philipponat  France   \n",
              "2        3  Philipponnat Cuvée 1522 Grand Cru Extra Brut  Philipponat  France   \n",
              "3        4          Philipponnat Cuvée 1522 1er Cru Rosé  Philipponat  France   \n",
              "4        5            Philipponnat Clos Des Goisses Brut  Philipponat  France   \n",
              "\n",
              "      region vintage            kind price_brl price_usd  \n",
              "0  Champagne      NV       sparkling    339.60     58.75  \n",
              "1  Champagne      NV  rose sparkling    489.00     84.60  \n",
              "2  Champagne    2009       sparkling    789.00    136.51  \n",
              "3  Champagne    2008  rose sparkling    899.40    155.61  \n",
              "4  Champagne    2009       sparkling  1,548.00    267.82  "
            ],
            "text/html": [
              "\n",
              "  <div id=\"df-cfc19ff6-eaaa-4c1f-998c-cf7dd9236a60\" class=\"colab-df-container\">\n",
              "    <div>\n",
              "<style scoped>\n",
              "    .dataframe tbody tr th:only-of-type {\n",
              "        vertical-align: middle;\n",
              "    }\n",
              "\n",
              "    .dataframe tbody tr th {\n",
              "        vertical-align: top;\n",
              "    }\n",
              "\n",
              "    .dataframe thead th {\n",
              "        text-align: right;\n",
              "    }\n",
              "</style>\n",
              "<table border=\"1\" class=\"dataframe\">\n",
              "  <thead>\n",
              "    <tr style=\"text-align: right;\">\n",
              "      <th></th>\n",
              "      <th>item_id</th>\n",
              "      <th>name</th>\n",
              "      <th>producer</th>\n",
              "      <th>country</th>\n",
              "      <th>region</th>\n",
              "      <th>vintage</th>\n",
              "      <th>kind</th>\n",
              "      <th>price_brl</th>\n",
              "      <th>price_usd</th>\n",
              "    </tr>\n",
              "  </thead>\n",
              "  <tbody>\n",
              "    <tr>\n",
              "      <th>0</th>\n",
              "      <td>1</td>\n",
              "      <td>Philipponnat Royale Reserve Brut</td>\n",
              "      <td>Philipponat</td>\n",
              "      <td>France</td>\n",
              "      <td>Champagne</td>\n",
              "      <td>NV</td>\n",
              "      <td>sparkling</td>\n",
              "      <td>339.60</td>\n",
              "      <td>58.75</td>\n",
              "    </tr>\n",
              "    <tr>\n",
              "      <th>1</th>\n",
              "      <td>2</td>\n",
              "      <td>Philipponnat Royale Reserve Rosé</td>\n",
              "      <td>Philipponat</td>\n",
              "      <td>France</td>\n",
              "      <td>Champagne</td>\n",
              "      <td>NV</td>\n",
              "      <td>rose sparkling</td>\n",
              "      <td>489.00</td>\n",
              "      <td>84.60</td>\n",
              "    </tr>\n",
              "    <tr>\n",
              "      <th>2</th>\n",
              "      <td>3</td>\n",
              "      <td>Philipponnat Cuvée 1522 Grand Cru Extra Brut</td>\n",
              "      <td>Philipponat</td>\n",
              "      <td>France</td>\n",
              "      <td>Champagne</td>\n",
              "      <td>2009</td>\n",
              "      <td>sparkling</td>\n",
              "      <td>789.00</td>\n",
              "      <td>136.51</td>\n",
              "    </tr>\n",
              "    <tr>\n",
              "      <th>3</th>\n",
              "      <td>4</td>\n",
              "      <td>Philipponnat Cuvée 1522 1er Cru Rosé</td>\n",
              "      <td>Philipponat</td>\n",
              "      <td>France</td>\n",
              "      <td>Champagne</td>\n",
              "      <td>2008</td>\n",
              "      <td>rose sparkling</td>\n",
              "      <td>899.40</td>\n",
              "      <td>155.61</td>\n",
              "    </tr>\n",
              "    <tr>\n",
              "      <th>4</th>\n",
              "      <td>5</td>\n",
              "      <td>Philipponnat Clos Des Goisses Brut</td>\n",
              "      <td>Philipponat</td>\n",
              "      <td>France</td>\n",
              "      <td>Champagne</td>\n",
              "      <td>2009</td>\n",
              "      <td>sparkling</td>\n",
              "      <td>1,548.00</td>\n",
              "      <td>267.82</td>\n",
              "    </tr>\n",
              "  </tbody>\n",
              "</table>\n",
              "</div>\n",
              "    <div class=\"colab-df-buttons\">\n",
              "\n",
              "  <div class=\"colab-df-container\">\n",
              "    <button class=\"colab-df-convert\" onclick=\"convertToInteractive('df-cfc19ff6-eaaa-4c1f-998c-cf7dd9236a60')\"\n",
              "            title=\"Convert this dataframe to an interactive table.\"\n",
              "            style=\"display:none;\">\n",
              "\n",
              "  <svg xmlns=\"http://www.w3.org/2000/svg\" height=\"24px\" viewBox=\"0 -960 960 960\">\n",
              "    <path d=\"M120-120v-720h720v720H120Zm60-500h600v-160H180v160Zm220 220h160v-160H400v160Zm0 220h160v-160H400v160ZM180-400h160v-160H180v160Zm440 0h160v-160H620v160ZM180-180h160v-160H180v160Zm440 0h160v-160H620v160Z\"/>\n",
              "  </svg>\n",
              "    </button>\n",
              "\n",
              "  <style>\n",
              "    .colab-df-container {\n",
              "      display:flex;\n",
              "      gap: 12px;\n",
              "    }\n",
              "\n",
              "    .colab-df-convert {\n",
              "      background-color: #E8F0FE;\n",
              "      border: none;\n",
              "      border-radius: 50%;\n",
              "      cursor: pointer;\n",
              "      display: none;\n",
              "      fill: #1967D2;\n",
              "      height: 32px;\n",
              "      padding: 0 0 0 0;\n",
              "      width: 32px;\n",
              "    }\n",
              "\n",
              "    .colab-df-convert:hover {\n",
              "      background-color: #E2EBFA;\n",
              "      box-shadow: 0px 1px 2px rgba(60, 64, 67, 0.3), 0px 1px 3px 1px rgba(60, 64, 67, 0.15);\n",
              "      fill: #174EA6;\n",
              "    }\n",
              "\n",
              "    .colab-df-buttons div {\n",
              "      margin-bottom: 4px;\n",
              "    }\n",
              "\n",
              "    [theme=dark] .colab-df-convert {\n",
              "      background-color: #3B4455;\n",
              "      fill: #D2E3FC;\n",
              "    }\n",
              "\n",
              "    [theme=dark] .colab-df-convert:hover {\n",
              "      background-color: #434B5C;\n",
              "      box-shadow: 0px 1px 3px 1px rgba(0, 0, 0, 0.15);\n",
              "      filter: drop-shadow(0px 1px 2px rgba(0, 0, 0, 0.3));\n",
              "      fill: #FFFFFF;\n",
              "    }\n",
              "  </style>\n",
              "\n",
              "    <script>\n",
              "      const buttonEl =\n",
              "        document.querySelector('#df-cfc19ff6-eaaa-4c1f-998c-cf7dd9236a60 button.colab-df-convert');\n",
              "      buttonEl.style.display =\n",
              "        google.colab.kernel.accessAllowed ? 'block' : 'none';\n",
              "\n",
              "      async function convertToInteractive(key) {\n",
              "        const element = document.querySelector('#df-cfc19ff6-eaaa-4c1f-998c-cf7dd9236a60');\n",
              "        const dataTable =\n",
              "          await google.colab.kernel.invokeFunction('convertToInteractive',\n",
              "                                                    [key], {});\n",
              "        if (!dataTable) return;\n",
              "\n",
              "        const docLinkHtml = 'Like what you see? Visit the ' +\n",
              "          '<a target=\"_blank\" href=https://colab.research.google.com/notebooks/data_table.ipynb>data table notebook</a>'\n",
              "          + ' to learn more about interactive tables.';\n",
              "        element.innerHTML = '';\n",
              "        dataTable['output_type'] = 'display_data';\n",
              "        await google.colab.output.renderOutput(dataTable, element);\n",
              "        const docLink = document.createElement('div');\n",
              "        docLink.innerHTML = docLinkHtml;\n",
              "        element.appendChild(docLink);\n",
              "      }\n",
              "    </script>\n",
              "  </div>\n",
              "\n",
              "\n",
              "<div id=\"df-881455be-e4dc-4768-a896-7749ddf3ec1a\">\n",
              "  <button class=\"colab-df-quickchart\" onclick=\"quickchart('df-881455be-e4dc-4768-a896-7749ddf3ec1a')\"\n",
              "            title=\"Suggest charts\"\n",
              "            style=\"display:none;\">\n",
              "\n",
              "<svg xmlns=\"http://www.w3.org/2000/svg\" height=\"24px\"viewBox=\"0 0 24 24\"\n",
              "     width=\"24px\">\n",
              "    <g>\n",
              "        <path d=\"M19 3H5c-1.1 0-2 .9-2 2v14c0 1.1.9 2 2 2h14c1.1 0 2-.9 2-2V5c0-1.1-.9-2-2-2zM9 17H7v-7h2v7zm4 0h-2V7h2v10zm4 0h-2v-4h2v4z\"/>\n",
              "    </g>\n",
              "</svg>\n",
              "  </button>\n",
              "\n",
              "<style>\n",
              "  .colab-df-quickchart {\n",
              "      --bg-color: #E8F0FE;\n",
              "      --fill-color: #1967D2;\n",
              "      --hover-bg-color: #E2EBFA;\n",
              "      --hover-fill-color: #174EA6;\n",
              "      --disabled-fill-color: #AAA;\n",
              "      --disabled-bg-color: #DDD;\n",
              "  }\n",
              "\n",
              "  [theme=dark] .colab-df-quickchart {\n",
              "      --bg-color: #3B4455;\n",
              "      --fill-color: #D2E3FC;\n",
              "      --hover-bg-color: #434B5C;\n",
              "      --hover-fill-color: #FFFFFF;\n",
              "      --disabled-bg-color: #3B4455;\n",
              "      --disabled-fill-color: #666;\n",
              "  }\n",
              "\n",
              "  .colab-df-quickchart {\n",
              "    background-color: var(--bg-color);\n",
              "    border: none;\n",
              "    border-radius: 50%;\n",
              "    cursor: pointer;\n",
              "    display: none;\n",
              "    fill: var(--fill-color);\n",
              "    height: 32px;\n",
              "    padding: 0;\n",
              "    width: 32px;\n",
              "  }\n",
              "\n",
              "  .colab-df-quickchart:hover {\n",
              "    background-color: var(--hover-bg-color);\n",
              "    box-shadow: 0 1px 2px rgba(60, 64, 67, 0.3), 0 1px 3px 1px rgba(60, 64, 67, 0.15);\n",
              "    fill: var(--button-hover-fill-color);\n",
              "  }\n",
              "\n",
              "  .colab-df-quickchart-complete:disabled,\n",
              "  .colab-df-quickchart-complete:disabled:hover {\n",
              "    background-color: var(--disabled-bg-color);\n",
              "    fill: var(--disabled-fill-color);\n",
              "    box-shadow: none;\n",
              "  }\n",
              "\n",
              "  .colab-df-spinner {\n",
              "    border: 2px solid var(--fill-color);\n",
              "    border-color: transparent;\n",
              "    border-bottom-color: var(--fill-color);\n",
              "    animation:\n",
              "      spin 1s steps(1) infinite;\n",
              "  }\n",
              "\n",
              "  @keyframes spin {\n",
              "    0% {\n",
              "      border-color: transparent;\n",
              "      border-bottom-color: var(--fill-color);\n",
              "      border-left-color: var(--fill-color);\n",
              "    }\n",
              "    20% {\n",
              "      border-color: transparent;\n",
              "      border-left-color: var(--fill-color);\n",
              "      border-top-color: var(--fill-color);\n",
              "    }\n",
              "    30% {\n",
              "      border-color: transparent;\n",
              "      border-left-color: var(--fill-color);\n",
              "      border-top-color: var(--fill-color);\n",
              "      border-right-color: var(--fill-color);\n",
              "    }\n",
              "    40% {\n",
              "      border-color: transparent;\n",
              "      border-right-color: var(--fill-color);\n",
              "      border-top-color: var(--fill-color);\n",
              "    }\n",
              "    60% {\n",
              "      border-color: transparent;\n",
              "      border-right-color: var(--fill-color);\n",
              "    }\n",
              "    80% {\n",
              "      border-color: transparent;\n",
              "      border-right-color: var(--fill-color);\n",
              "      border-bottom-color: var(--fill-color);\n",
              "    }\n",
              "    90% {\n",
              "      border-color: transparent;\n",
              "      border-bottom-color: var(--fill-color);\n",
              "    }\n",
              "  }\n",
              "</style>\n",
              "\n",
              "  <script>\n",
              "    async function quickchart(key) {\n",
              "      const quickchartButtonEl =\n",
              "        document.querySelector('#' + key + ' button');\n",
              "      quickchartButtonEl.disabled = true;  // To prevent multiple clicks.\n",
              "      quickchartButtonEl.classList.add('colab-df-spinner');\n",
              "      try {\n",
              "        const charts = await google.colab.kernel.invokeFunction(\n",
              "            'suggestCharts', [key], {});\n",
              "      } catch (error) {\n",
              "        console.error('Error during call to suggestCharts:', error);\n",
              "      }\n",
              "      quickchartButtonEl.classList.remove('colab-df-spinner');\n",
              "      quickchartButtonEl.classList.add('colab-df-quickchart-complete');\n",
              "    }\n",
              "    (() => {\n",
              "      let quickchartButtonEl =\n",
              "        document.querySelector('#df-881455be-e4dc-4768-a896-7749ddf3ec1a button');\n",
              "      quickchartButtonEl.style.display =\n",
              "        google.colab.kernel.accessAllowed ? 'block' : 'none';\n",
              "    })();\n",
              "  </script>\n",
              "</div>\n",
              "\n",
              "    </div>\n",
              "  </div>\n"
            ],
            "application/vnd.google.colaboratory.intrinsic+json": {
              "type": "dataframe",
              "variable_name": "df_products_raw",
              "summary": "{\n  \"name\": \"df_products_raw\",\n  \"rows\": 219,\n  \"fields\": [\n    {\n      \"column\": \"item_id\",\n      \"properties\": {\n        \"dtype\": \"number\",\n        \"std\": 63,\n        \"min\": 1,\n        \"max\": 219,\n        \"num_unique_values\": 219,\n        \"samples\": [\n          155,\n          94,\n          217\n        ],\n        \"semantic_type\": \"\",\n        \"description\": \"\"\n      }\n    },\n    {\n      \"column\": \"name\",\n      \"properties\": {\n        \"dtype\": \"string\",\n        \"num_unique_values\": 188,\n        \"samples\": [\n          \"Achaval-Ferrer Quimera\",\n          \"Aalto - 1.5L (Magnum)\",\n          \"Mirabeau Etoile\"\n        ],\n        \"semantic_type\": \"\",\n        \"description\": \"\"\n      }\n    },\n    {\n      \"column\": \"producer\",\n      \"properties\": {\n        \"dtype\": \"category\",\n        \"num_unique_values\": 58,\n        \"samples\": [\n          \"Philipponat\",\n          \"Mirabeau\",\n          \"Chateau Ducru Beaucaillou\"\n        ],\n        \"semantic_type\": \"\",\n        \"description\": \"\"\n      }\n    },\n    {\n      \"column\": \"country\",\n      \"properties\": {\n        \"dtype\": \"category\",\n        \"num_unique_values\": 6,\n        \"samples\": [\n          \"France\",\n          \"Italy\",\n          \"Argentina\"\n        ],\n        \"semantic_type\": \"\",\n        \"description\": \"\"\n      }\n    },\n    {\n      \"column\": \"region\",\n      \"properties\": {\n        \"dtype\": \"category\",\n        \"num_unique_values\": 21,\n        \"samples\": [\n          \"Champagne\",\n          \"Douro\",\n          \"Rioja\"\n        ],\n        \"semantic_type\": \"\",\n        \"description\": \"\"\n      }\n    },\n    {\n      \"column\": \"vintage\",\n      \"properties\": {\n        \"dtype\": \"category\",\n        \"num_unique_values\": 17,\n        \"samples\": [\n          \"NV\",\n          \"2009\",\n          \"2018\"\n        ],\n        \"semantic_type\": \"\",\n        \"description\": \"\"\n      }\n    },\n    {\n      \"column\": \"kind\",\n      \"properties\": {\n        \"dtype\": \"category\",\n        \"num_unique_values\": 5,\n        \"samples\": [\n          \"rose sparkling\",\n          \"red\",\n          \"white\"\n        ],\n        \"semantic_type\": \"\",\n        \"description\": \"\"\n      }\n    },\n    {\n      \"column\": \"price_brl\",\n      \"properties\": {\n        \"dtype\": \"string\",\n        \"num_unique_values\": 123,\n        \"samples\": [\n          \"159.60\",\n          \"449.40\",\n          \"425.40\"\n        ],\n        \"semantic_type\": \"\",\n        \"description\": \"\"\n      }\n    },\n    {\n      \"column\": \"price_usd\",\n      \"properties\": {\n        \"dtype\": \"string\",\n        \"num_unique_values\": 121,\n        \"samples\": [\n          \"60.42\",\n          \"73.60\",\n          \"267.82\"\n        ],\n        \"semantic_type\": \"\",\n        \"description\": \"\"\n      }\n    }\n  ]\n}"
            }
          },
          "metadata": {},
          "execution_count": 3
        }
      ]
    },
    {
      "cell_type": "markdown",
      "source": [
        "# Datenvorbereitung für die Analyse"
      ],
      "metadata": {
        "id": "u4Ie_55440se"
      }
    },
    {
      "cell_type": "markdown",
      "source": [
        "Der erste Schritt in unserer Analyse besteht darin, die Daten für die Verarbeitung vorzubereiten.\n",
        "\n",
        "Ein erster Blick auf die Preisdaten zeigt, dass einige Werte Kommata enthalten, was von Python nicht korrekt interpretiert werden kann. Um mit dieser Variablen besser arbeiten zu können und sie in einen numerischen Datentyp (Float) umzuwandeln, müssen wir die Kommata entfernen."
      ],
      "metadata": {
        "id": "g_wpPTSc9oit"
      }
    },
    {
      "cell_type": "code",
      "source": [
        "# limpando as vírgulas\n",
        "df_products_raw.replace(',','', regex=True, inplace=True)\n",
        "df_products_raw.head()"
      ],
      "metadata": {
        "colab": {
          "base_uri": "https://localhost:8080/",
          "height": 206
        },
        "id": "GGm4O49e93l2",
        "outputId": "0275fffe-c642-4b0a-bc0d-3447538bda19"
      },
      "execution_count": 4,
      "outputs": [
        {
          "output_type": "execute_result",
          "data": {
            "text/plain": [
              "   item_id                                          name     producer country  \\\n",
              "0        1              Philipponnat Royale Reserve Brut  Philipponat  France   \n",
              "1        2              Philipponnat Royale Reserve Rosé  Philipponat  France   \n",
              "2        3  Philipponnat Cuvée 1522 Grand Cru Extra Brut  Philipponat  France   \n",
              "3        4          Philipponnat Cuvée 1522 1er Cru Rosé  Philipponat  France   \n",
              "4        5            Philipponnat Clos Des Goisses Brut  Philipponat  France   \n",
              "\n",
              "      region vintage            kind price_brl price_usd  \n",
              "0  Champagne      NV       sparkling    339.60     58.75  \n",
              "1  Champagne      NV  rose sparkling    489.00     84.60  \n",
              "2  Champagne    2009       sparkling    789.00    136.51  \n",
              "3  Champagne    2008  rose sparkling    899.40    155.61  \n",
              "4  Champagne    2009       sparkling   1548.00    267.82  "
            ],
            "text/html": [
              "\n",
              "  <div id=\"df-ba760844-93c6-4d7b-9435-e9fbe996cbea\" class=\"colab-df-container\">\n",
              "    <div>\n",
              "<style scoped>\n",
              "    .dataframe tbody tr th:only-of-type {\n",
              "        vertical-align: middle;\n",
              "    }\n",
              "\n",
              "    .dataframe tbody tr th {\n",
              "        vertical-align: top;\n",
              "    }\n",
              "\n",
              "    .dataframe thead th {\n",
              "        text-align: right;\n",
              "    }\n",
              "</style>\n",
              "<table border=\"1\" class=\"dataframe\">\n",
              "  <thead>\n",
              "    <tr style=\"text-align: right;\">\n",
              "      <th></th>\n",
              "      <th>item_id</th>\n",
              "      <th>name</th>\n",
              "      <th>producer</th>\n",
              "      <th>country</th>\n",
              "      <th>region</th>\n",
              "      <th>vintage</th>\n",
              "      <th>kind</th>\n",
              "      <th>price_brl</th>\n",
              "      <th>price_usd</th>\n",
              "    </tr>\n",
              "  </thead>\n",
              "  <tbody>\n",
              "    <tr>\n",
              "      <th>0</th>\n",
              "      <td>1</td>\n",
              "      <td>Philipponnat Royale Reserve Brut</td>\n",
              "      <td>Philipponat</td>\n",
              "      <td>France</td>\n",
              "      <td>Champagne</td>\n",
              "      <td>NV</td>\n",
              "      <td>sparkling</td>\n",
              "      <td>339.60</td>\n",
              "      <td>58.75</td>\n",
              "    </tr>\n",
              "    <tr>\n",
              "      <th>1</th>\n",
              "      <td>2</td>\n",
              "      <td>Philipponnat Royale Reserve Rosé</td>\n",
              "      <td>Philipponat</td>\n",
              "      <td>France</td>\n",
              "      <td>Champagne</td>\n",
              "      <td>NV</td>\n",
              "      <td>rose sparkling</td>\n",
              "      <td>489.00</td>\n",
              "      <td>84.60</td>\n",
              "    </tr>\n",
              "    <tr>\n",
              "      <th>2</th>\n",
              "      <td>3</td>\n",
              "      <td>Philipponnat Cuvée 1522 Grand Cru Extra Brut</td>\n",
              "      <td>Philipponat</td>\n",
              "      <td>France</td>\n",
              "      <td>Champagne</td>\n",
              "      <td>2009</td>\n",
              "      <td>sparkling</td>\n",
              "      <td>789.00</td>\n",
              "      <td>136.51</td>\n",
              "    </tr>\n",
              "    <tr>\n",
              "      <th>3</th>\n",
              "      <td>4</td>\n",
              "      <td>Philipponnat Cuvée 1522 1er Cru Rosé</td>\n",
              "      <td>Philipponat</td>\n",
              "      <td>France</td>\n",
              "      <td>Champagne</td>\n",
              "      <td>2008</td>\n",
              "      <td>rose sparkling</td>\n",
              "      <td>899.40</td>\n",
              "      <td>155.61</td>\n",
              "    </tr>\n",
              "    <tr>\n",
              "      <th>4</th>\n",
              "      <td>5</td>\n",
              "      <td>Philipponnat Clos Des Goisses Brut</td>\n",
              "      <td>Philipponat</td>\n",
              "      <td>France</td>\n",
              "      <td>Champagne</td>\n",
              "      <td>2009</td>\n",
              "      <td>sparkling</td>\n",
              "      <td>1548.00</td>\n",
              "      <td>267.82</td>\n",
              "    </tr>\n",
              "  </tbody>\n",
              "</table>\n",
              "</div>\n",
              "    <div class=\"colab-df-buttons\">\n",
              "\n",
              "  <div class=\"colab-df-container\">\n",
              "    <button class=\"colab-df-convert\" onclick=\"convertToInteractive('df-ba760844-93c6-4d7b-9435-e9fbe996cbea')\"\n",
              "            title=\"Convert this dataframe to an interactive table.\"\n",
              "            style=\"display:none;\">\n",
              "\n",
              "  <svg xmlns=\"http://www.w3.org/2000/svg\" height=\"24px\" viewBox=\"0 -960 960 960\">\n",
              "    <path d=\"M120-120v-720h720v720H120Zm60-500h600v-160H180v160Zm220 220h160v-160H400v160Zm0 220h160v-160H400v160ZM180-400h160v-160H180v160Zm440 0h160v-160H620v160ZM180-180h160v-160H180v160Zm440 0h160v-160H620v160Z\"/>\n",
              "  </svg>\n",
              "    </button>\n",
              "\n",
              "  <style>\n",
              "    .colab-df-container {\n",
              "      display:flex;\n",
              "      gap: 12px;\n",
              "    }\n",
              "\n",
              "    .colab-df-convert {\n",
              "      background-color: #E8F0FE;\n",
              "      border: none;\n",
              "      border-radius: 50%;\n",
              "      cursor: pointer;\n",
              "      display: none;\n",
              "      fill: #1967D2;\n",
              "      height: 32px;\n",
              "      padding: 0 0 0 0;\n",
              "      width: 32px;\n",
              "    }\n",
              "\n",
              "    .colab-df-convert:hover {\n",
              "      background-color: #E2EBFA;\n",
              "      box-shadow: 0px 1px 2px rgba(60, 64, 67, 0.3), 0px 1px 3px 1px rgba(60, 64, 67, 0.15);\n",
              "      fill: #174EA6;\n",
              "    }\n",
              "\n",
              "    .colab-df-buttons div {\n",
              "      margin-bottom: 4px;\n",
              "    }\n",
              "\n",
              "    [theme=dark] .colab-df-convert {\n",
              "      background-color: #3B4455;\n",
              "      fill: #D2E3FC;\n",
              "    }\n",
              "\n",
              "    [theme=dark] .colab-df-convert:hover {\n",
              "      background-color: #434B5C;\n",
              "      box-shadow: 0px 1px 3px 1px rgba(0, 0, 0, 0.15);\n",
              "      filter: drop-shadow(0px 1px 2px rgba(0, 0, 0, 0.3));\n",
              "      fill: #FFFFFF;\n",
              "    }\n",
              "  </style>\n",
              "\n",
              "    <script>\n",
              "      const buttonEl =\n",
              "        document.querySelector('#df-ba760844-93c6-4d7b-9435-e9fbe996cbea button.colab-df-convert');\n",
              "      buttonEl.style.display =\n",
              "        google.colab.kernel.accessAllowed ? 'block' : 'none';\n",
              "\n",
              "      async function convertToInteractive(key) {\n",
              "        const element = document.querySelector('#df-ba760844-93c6-4d7b-9435-e9fbe996cbea');\n",
              "        const dataTable =\n",
              "          await google.colab.kernel.invokeFunction('convertToInteractive',\n",
              "                                                    [key], {});\n",
              "        if (!dataTable) return;\n",
              "\n",
              "        const docLinkHtml = 'Like what you see? Visit the ' +\n",
              "          '<a target=\"_blank\" href=https://colab.research.google.com/notebooks/data_table.ipynb>data table notebook</a>'\n",
              "          + ' to learn more about interactive tables.';\n",
              "        element.innerHTML = '';\n",
              "        dataTable['output_type'] = 'display_data';\n",
              "        await google.colab.output.renderOutput(dataTable, element);\n",
              "        const docLink = document.createElement('div');\n",
              "        docLink.innerHTML = docLinkHtml;\n",
              "        element.appendChild(docLink);\n",
              "      }\n",
              "    </script>\n",
              "  </div>\n",
              "\n",
              "\n",
              "<div id=\"df-939547bf-9788-46f2-8b58-94e8be53392d\">\n",
              "  <button class=\"colab-df-quickchart\" onclick=\"quickchart('df-939547bf-9788-46f2-8b58-94e8be53392d')\"\n",
              "            title=\"Suggest charts\"\n",
              "            style=\"display:none;\">\n",
              "\n",
              "<svg xmlns=\"http://www.w3.org/2000/svg\" height=\"24px\"viewBox=\"0 0 24 24\"\n",
              "     width=\"24px\">\n",
              "    <g>\n",
              "        <path d=\"M19 3H5c-1.1 0-2 .9-2 2v14c0 1.1.9 2 2 2h14c1.1 0 2-.9 2-2V5c0-1.1-.9-2-2-2zM9 17H7v-7h2v7zm4 0h-2V7h2v10zm4 0h-2v-4h2v4z\"/>\n",
              "    </g>\n",
              "</svg>\n",
              "  </button>\n",
              "\n",
              "<style>\n",
              "  .colab-df-quickchart {\n",
              "      --bg-color: #E8F0FE;\n",
              "      --fill-color: #1967D2;\n",
              "      --hover-bg-color: #E2EBFA;\n",
              "      --hover-fill-color: #174EA6;\n",
              "      --disabled-fill-color: #AAA;\n",
              "      --disabled-bg-color: #DDD;\n",
              "  }\n",
              "\n",
              "  [theme=dark] .colab-df-quickchart {\n",
              "      --bg-color: #3B4455;\n",
              "      --fill-color: #D2E3FC;\n",
              "      --hover-bg-color: #434B5C;\n",
              "      --hover-fill-color: #FFFFFF;\n",
              "      --disabled-bg-color: #3B4455;\n",
              "      --disabled-fill-color: #666;\n",
              "  }\n",
              "\n",
              "  .colab-df-quickchart {\n",
              "    background-color: var(--bg-color);\n",
              "    border: none;\n",
              "    border-radius: 50%;\n",
              "    cursor: pointer;\n",
              "    display: none;\n",
              "    fill: var(--fill-color);\n",
              "    height: 32px;\n",
              "    padding: 0;\n",
              "    width: 32px;\n",
              "  }\n",
              "\n",
              "  .colab-df-quickchart:hover {\n",
              "    background-color: var(--hover-bg-color);\n",
              "    box-shadow: 0 1px 2px rgba(60, 64, 67, 0.3), 0 1px 3px 1px rgba(60, 64, 67, 0.15);\n",
              "    fill: var(--button-hover-fill-color);\n",
              "  }\n",
              "\n",
              "  .colab-df-quickchart-complete:disabled,\n",
              "  .colab-df-quickchart-complete:disabled:hover {\n",
              "    background-color: var(--disabled-bg-color);\n",
              "    fill: var(--disabled-fill-color);\n",
              "    box-shadow: none;\n",
              "  }\n",
              "\n",
              "  .colab-df-spinner {\n",
              "    border: 2px solid var(--fill-color);\n",
              "    border-color: transparent;\n",
              "    border-bottom-color: var(--fill-color);\n",
              "    animation:\n",
              "      spin 1s steps(1) infinite;\n",
              "  }\n",
              "\n",
              "  @keyframes spin {\n",
              "    0% {\n",
              "      border-color: transparent;\n",
              "      border-bottom-color: var(--fill-color);\n",
              "      border-left-color: var(--fill-color);\n",
              "    }\n",
              "    20% {\n",
              "      border-color: transparent;\n",
              "      border-left-color: var(--fill-color);\n",
              "      border-top-color: var(--fill-color);\n",
              "    }\n",
              "    30% {\n",
              "      border-color: transparent;\n",
              "      border-left-color: var(--fill-color);\n",
              "      border-top-color: var(--fill-color);\n",
              "      border-right-color: var(--fill-color);\n",
              "    }\n",
              "    40% {\n",
              "      border-color: transparent;\n",
              "      border-right-color: var(--fill-color);\n",
              "      border-top-color: var(--fill-color);\n",
              "    }\n",
              "    60% {\n",
              "      border-color: transparent;\n",
              "      border-right-color: var(--fill-color);\n",
              "    }\n",
              "    80% {\n",
              "      border-color: transparent;\n",
              "      border-right-color: var(--fill-color);\n",
              "      border-bottom-color: var(--fill-color);\n",
              "    }\n",
              "    90% {\n",
              "      border-color: transparent;\n",
              "      border-bottom-color: var(--fill-color);\n",
              "    }\n",
              "  }\n",
              "</style>\n",
              "\n",
              "  <script>\n",
              "    async function quickchart(key) {\n",
              "      const quickchartButtonEl =\n",
              "        document.querySelector('#' + key + ' button');\n",
              "      quickchartButtonEl.disabled = true;  // To prevent multiple clicks.\n",
              "      quickchartButtonEl.classList.add('colab-df-spinner');\n",
              "      try {\n",
              "        const charts = await google.colab.kernel.invokeFunction(\n",
              "            'suggestCharts', [key], {});\n",
              "      } catch (error) {\n",
              "        console.error('Error during call to suggestCharts:', error);\n",
              "      }\n",
              "      quickchartButtonEl.classList.remove('colab-df-spinner');\n",
              "      quickchartButtonEl.classList.add('colab-df-quickchart-complete');\n",
              "    }\n",
              "    (() => {\n",
              "      let quickchartButtonEl =\n",
              "        document.querySelector('#df-939547bf-9788-46f2-8b58-94e8be53392d button');\n",
              "      quickchartButtonEl.style.display =\n",
              "        google.colab.kernel.accessAllowed ? 'block' : 'none';\n",
              "    })();\n",
              "  </script>\n",
              "</div>\n",
              "\n",
              "    </div>\n",
              "  </div>\n"
            ],
            "application/vnd.google.colaboratory.intrinsic+json": {
              "type": "dataframe",
              "variable_name": "df_products_raw",
              "summary": "{\n  \"name\": \"df_products_raw\",\n  \"rows\": 219,\n  \"fields\": [\n    {\n      \"column\": \"item_id\",\n      \"properties\": {\n        \"dtype\": \"number\",\n        \"std\": 63,\n        \"min\": 1,\n        \"max\": 219,\n        \"num_unique_values\": 219,\n        \"samples\": [\n          155,\n          94,\n          217\n        ],\n        \"semantic_type\": \"\",\n        \"description\": \"\"\n      }\n    },\n    {\n      \"column\": \"name\",\n      \"properties\": {\n        \"dtype\": \"string\",\n        \"num_unique_values\": 188,\n        \"samples\": [\n          \"Achaval-Ferrer Quimera\",\n          \"Aalto - 1.5L (Magnum)\",\n          \"Mirabeau Etoile\"\n        ],\n        \"semantic_type\": \"\",\n        \"description\": \"\"\n      }\n    },\n    {\n      \"column\": \"producer\",\n      \"properties\": {\n        \"dtype\": \"category\",\n        \"num_unique_values\": 58,\n        \"samples\": [\n          \"Philipponat\",\n          \"Mirabeau\",\n          \"Chateau Ducru Beaucaillou\"\n        ],\n        \"semantic_type\": \"\",\n        \"description\": \"\"\n      }\n    },\n    {\n      \"column\": \"country\",\n      \"properties\": {\n        \"dtype\": \"category\",\n        \"num_unique_values\": 6,\n        \"samples\": [\n          \"France\",\n          \"Italy\",\n          \"Argentina\"\n        ],\n        \"semantic_type\": \"\",\n        \"description\": \"\"\n      }\n    },\n    {\n      \"column\": \"region\",\n      \"properties\": {\n        \"dtype\": \"category\",\n        \"num_unique_values\": 21,\n        \"samples\": [\n          \"Champagne\",\n          \"Douro\",\n          \"Rioja\"\n        ],\n        \"semantic_type\": \"\",\n        \"description\": \"\"\n      }\n    },\n    {\n      \"column\": \"vintage\",\n      \"properties\": {\n        \"dtype\": \"category\",\n        \"num_unique_values\": 17,\n        \"samples\": [\n          \"NV\",\n          \"2009\",\n          \"2018\"\n        ],\n        \"semantic_type\": \"\",\n        \"description\": \"\"\n      }\n    },\n    {\n      \"column\": \"kind\",\n      \"properties\": {\n        \"dtype\": \"category\",\n        \"num_unique_values\": 5,\n        \"samples\": [\n          \"rose sparkling\",\n          \"red\",\n          \"white\"\n        ],\n        \"semantic_type\": \"\",\n        \"description\": \"\"\n      }\n    },\n    {\n      \"column\": \"price_brl\",\n      \"properties\": {\n        \"dtype\": \"string\",\n        \"num_unique_values\": 121,\n        \"samples\": [\n          \"349.20\",\n          \"425.40\",\n          \"1548.00\"\n        ],\n        \"semantic_type\": \"\",\n        \"description\": \"\"\n      }\n    },\n    {\n      \"column\": \"price_usd\",\n      \"properties\": {\n        \"dtype\": \"string\",\n        \"num_unique_values\": 121,\n        \"samples\": [\n          \"60.42\",\n          \"73.60\",\n          \"267.82\"\n        ],\n        \"semantic_type\": \"\",\n        \"description\": \"\"\n      }\n    }\n  ]\n}"
            }
          },
          "metadata": {},
          "execution_count": 4
        }
      ]
    },
    {
      "cell_type": "markdown",
      "source": [
        "# Datenüberprüfung und Anpassungen"
      ],
      "metadata": {
        "id": "Z9N5QcjdBLPe"
      }
    },
    {
      "cell_type": "markdown",
      "source": [
        "Es ist außerdem wichtig sicherzustellen, dass keine fehlenden Daten vorliegen und dass alle Informationen im benötigten Format vorliegen. In diesem Schritt werde ich einige Datentypen anpassen.\n",
        "\n",
        "Zunächst werde ich die ID-Werte in Strings umwandeln. Dadurch verhindern wir, dass ein Algorithmus später die Größe der Zahl in der ID mit Bedeutung verknüpft oder diese berücksichtigt. Die ID dient lediglich zur Identifikation der Produkte. Der Wein mit der ID 1 ist weder besser noch schlechter als der mit der ID 219 – die ID hat keinen Einfluss auf die Qualität.\n",
        "\n",
        "Zusätzlich werden die monetären Werte in das Float-Format umgewandelt, damit sie korrekt verarbeitet werden können."
      ],
      "metadata": {
        "id": "G6oV3Ta791c-"
      }
    },
    {
      "cell_type": "code",
      "source": [
        "df_products_raw.info()"
      ],
      "metadata": {
        "colab": {
          "base_uri": "https://localhost:8080/"
        },
        "id": "3TMR7usvBZfm",
        "outputId": "94e7e1e5-9458-4279-eae6-fff071613cab"
      },
      "execution_count": 5,
      "outputs": [
        {
          "output_type": "stream",
          "name": "stdout",
          "text": [
            "<class 'pandas.core.frame.DataFrame'>\n",
            "RangeIndex: 219 entries, 0 to 218\n",
            "Data columns (total 9 columns):\n",
            " #   Column     Non-Null Count  Dtype \n",
            "---  ------     --------------  ----- \n",
            " 0   item_id    219 non-null    int64 \n",
            " 1   name       219 non-null    object\n",
            " 2   producer   219 non-null    object\n",
            " 3   country    219 non-null    object\n",
            " 4   region     219 non-null    object\n",
            " 5   vintage    219 non-null    object\n",
            " 6   kind       219 non-null    object\n",
            " 7   price_brl  219 non-null    object\n",
            " 8   price_usd  219 non-null    object\n",
            "dtypes: int64(1), object(8)\n",
            "memory usage: 15.5+ KB\n"
          ]
        }
      ]
    },
    {
      "cell_type": "code",
      "source": [
        "# transformando as colunas\n",
        "df_products_raw.item_id = df_products_raw.item_id.astype(str)\n",
        "df_products_raw.price_brl = pd.to_numeric(df_products_raw.price_brl)\n",
        "df_products_raw.price_usd = pd.to_numeric(df_products_raw.price_usd)"
      ],
      "metadata": {
        "id": "DgRh2e-LBxF2"
      },
      "execution_count": 6,
      "outputs": []
    },
    {
      "cell_type": "code",
      "source": [
        "# verificando o conjunto de dados\n",
        "df_products_raw.info()"
      ],
      "metadata": {
        "colab": {
          "base_uri": "https://localhost:8080/"
        },
        "id": "XwVaf5mMDG1e",
        "outputId": "3236ebe6-93c1-4353-8ef6-00eba262d900"
      },
      "execution_count": 7,
      "outputs": [
        {
          "output_type": "stream",
          "name": "stdout",
          "text": [
            "<class 'pandas.core.frame.DataFrame'>\n",
            "RangeIndex: 219 entries, 0 to 218\n",
            "Data columns (total 9 columns):\n",
            " #   Column     Non-Null Count  Dtype  \n",
            "---  ------     --------------  -----  \n",
            " 0   item_id    219 non-null    object \n",
            " 1   name       219 non-null    object \n",
            " 2   producer   219 non-null    object \n",
            " 3   country    219 non-null    object \n",
            " 4   region     219 non-null    object \n",
            " 5   vintage    219 non-null    object \n",
            " 6   kind       219 non-null    object \n",
            " 7   price_brl  219 non-null    float64\n",
            " 8   price_usd  219 non-null    float64\n",
            "dtypes: float64(2), object(7)\n",
            "memory usage: 15.5+ KB\n"
          ]
        }
      ]
    },
    {
      "cell_type": "markdown",
      "source": [
        "Ein weiterer Schritt in der Datenbereinigung besteht darin, die Werte der Variable Vintage (Jahrgang) anzupassen. Für die Zeilen, in denen „NV“ (Non-Vintage) steht, werde ich diesen Wert durch 0 ersetzen. Dies ermöglicht es uns, die Variable in ein numerisches Format umzuwandeln und somit besser mit den Daten zu arbeiten."
      ],
      "metadata": {
        "id": "YxiwKwmaDAs_"
      }
    },
    {
      "cell_type": "code",
      "source": [
        "# limpando os dados\n",
        "df_products_raw.vintage = df_products_raw.vintage.replace('NV', '0')\n",
        "df_products_raw.vintage = pd.to_numeric(df_products_raw.vintage)\n",
        "df_products_raw.head()"
      ],
      "metadata": {
        "colab": {
          "base_uri": "https://localhost:8080/",
          "height": 206
        },
        "id": "Kd0QkibvFuvv",
        "outputId": "6fddbfb6-4c66-4191-c024-aee87d855209"
      },
      "execution_count": 8,
      "outputs": [
        {
          "output_type": "execute_result",
          "data": {
            "text/plain": [
              "  item_id                                          name     producer country  \\\n",
              "0       1              Philipponnat Royale Reserve Brut  Philipponat  France   \n",
              "1       2              Philipponnat Royale Reserve Rosé  Philipponat  France   \n",
              "2       3  Philipponnat Cuvée 1522 Grand Cru Extra Brut  Philipponat  France   \n",
              "3       4          Philipponnat Cuvée 1522 1er Cru Rosé  Philipponat  France   \n",
              "4       5            Philipponnat Clos Des Goisses Brut  Philipponat  France   \n",
              "\n",
              "      region  vintage            kind  price_brl  price_usd  \n",
              "0  Champagne        0       sparkling      339.6      58.75  \n",
              "1  Champagne        0  rose sparkling      489.0      84.60  \n",
              "2  Champagne     2009       sparkling      789.0     136.51  \n",
              "3  Champagne     2008  rose sparkling      899.4     155.61  \n",
              "4  Champagne     2009       sparkling     1548.0     267.82  "
            ],
            "text/html": [
              "\n",
              "  <div id=\"df-f77a7f1c-8670-4c29-ad80-4fa63c54acf1\" class=\"colab-df-container\">\n",
              "    <div>\n",
              "<style scoped>\n",
              "    .dataframe tbody tr th:only-of-type {\n",
              "        vertical-align: middle;\n",
              "    }\n",
              "\n",
              "    .dataframe tbody tr th {\n",
              "        vertical-align: top;\n",
              "    }\n",
              "\n",
              "    .dataframe thead th {\n",
              "        text-align: right;\n",
              "    }\n",
              "</style>\n",
              "<table border=\"1\" class=\"dataframe\">\n",
              "  <thead>\n",
              "    <tr style=\"text-align: right;\">\n",
              "      <th></th>\n",
              "      <th>item_id</th>\n",
              "      <th>name</th>\n",
              "      <th>producer</th>\n",
              "      <th>country</th>\n",
              "      <th>region</th>\n",
              "      <th>vintage</th>\n",
              "      <th>kind</th>\n",
              "      <th>price_brl</th>\n",
              "      <th>price_usd</th>\n",
              "    </tr>\n",
              "  </thead>\n",
              "  <tbody>\n",
              "    <tr>\n",
              "      <th>0</th>\n",
              "      <td>1</td>\n",
              "      <td>Philipponnat Royale Reserve Brut</td>\n",
              "      <td>Philipponat</td>\n",
              "      <td>France</td>\n",
              "      <td>Champagne</td>\n",
              "      <td>0</td>\n",
              "      <td>sparkling</td>\n",
              "      <td>339.6</td>\n",
              "      <td>58.75</td>\n",
              "    </tr>\n",
              "    <tr>\n",
              "      <th>1</th>\n",
              "      <td>2</td>\n",
              "      <td>Philipponnat Royale Reserve Rosé</td>\n",
              "      <td>Philipponat</td>\n",
              "      <td>France</td>\n",
              "      <td>Champagne</td>\n",
              "      <td>0</td>\n",
              "      <td>rose sparkling</td>\n",
              "      <td>489.0</td>\n",
              "      <td>84.60</td>\n",
              "    </tr>\n",
              "    <tr>\n",
              "      <th>2</th>\n",
              "      <td>3</td>\n",
              "      <td>Philipponnat Cuvée 1522 Grand Cru Extra Brut</td>\n",
              "      <td>Philipponat</td>\n",
              "      <td>France</td>\n",
              "      <td>Champagne</td>\n",
              "      <td>2009</td>\n",
              "      <td>sparkling</td>\n",
              "      <td>789.0</td>\n",
              "      <td>136.51</td>\n",
              "    </tr>\n",
              "    <tr>\n",
              "      <th>3</th>\n",
              "      <td>4</td>\n",
              "      <td>Philipponnat Cuvée 1522 1er Cru Rosé</td>\n",
              "      <td>Philipponat</td>\n",
              "      <td>France</td>\n",
              "      <td>Champagne</td>\n",
              "      <td>2008</td>\n",
              "      <td>rose sparkling</td>\n",
              "      <td>899.4</td>\n",
              "      <td>155.61</td>\n",
              "    </tr>\n",
              "    <tr>\n",
              "      <th>4</th>\n",
              "      <td>5</td>\n",
              "      <td>Philipponnat Clos Des Goisses Brut</td>\n",
              "      <td>Philipponat</td>\n",
              "      <td>France</td>\n",
              "      <td>Champagne</td>\n",
              "      <td>2009</td>\n",
              "      <td>sparkling</td>\n",
              "      <td>1548.0</td>\n",
              "      <td>267.82</td>\n",
              "    </tr>\n",
              "  </tbody>\n",
              "</table>\n",
              "</div>\n",
              "    <div class=\"colab-df-buttons\">\n",
              "\n",
              "  <div class=\"colab-df-container\">\n",
              "    <button class=\"colab-df-convert\" onclick=\"convertToInteractive('df-f77a7f1c-8670-4c29-ad80-4fa63c54acf1')\"\n",
              "            title=\"Convert this dataframe to an interactive table.\"\n",
              "            style=\"display:none;\">\n",
              "\n",
              "  <svg xmlns=\"http://www.w3.org/2000/svg\" height=\"24px\" viewBox=\"0 -960 960 960\">\n",
              "    <path d=\"M120-120v-720h720v720H120Zm60-500h600v-160H180v160Zm220 220h160v-160H400v160Zm0 220h160v-160H400v160ZM180-400h160v-160H180v160Zm440 0h160v-160H620v160ZM180-180h160v-160H180v160Zm440 0h160v-160H620v160Z\"/>\n",
              "  </svg>\n",
              "    </button>\n",
              "\n",
              "  <style>\n",
              "    .colab-df-container {\n",
              "      display:flex;\n",
              "      gap: 12px;\n",
              "    }\n",
              "\n",
              "    .colab-df-convert {\n",
              "      background-color: #E8F0FE;\n",
              "      border: none;\n",
              "      border-radius: 50%;\n",
              "      cursor: pointer;\n",
              "      display: none;\n",
              "      fill: #1967D2;\n",
              "      height: 32px;\n",
              "      padding: 0 0 0 0;\n",
              "      width: 32px;\n",
              "    }\n",
              "\n",
              "    .colab-df-convert:hover {\n",
              "      background-color: #E2EBFA;\n",
              "      box-shadow: 0px 1px 2px rgba(60, 64, 67, 0.3), 0px 1px 3px 1px rgba(60, 64, 67, 0.15);\n",
              "      fill: #174EA6;\n",
              "    }\n",
              "\n",
              "    .colab-df-buttons div {\n",
              "      margin-bottom: 4px;\n",
              "    }\n",
              "\n",
              "    [theme=dark] .colab-df-convert {\n",
              "      background-color: #3B4455;\n",
              "      fill: #D2E3FC;\n",
              "    }\n",
              "\n",
              "    [theme=dark] .colab-df-convert:hover {\n",
              "      background-color: #434B5C;\n",
              "      box-shadow: 0px 1px 3px 1px rgba(0, 0, 0, 0.15);\n",
              "      filter: drop-shadow(0px 1px 2px rgba(0, 0, 0, 0.3));\n",
              "      fill: #FFFFFF;\n",
              "    }\n",
              "  </style>\n",
              "\n",
              "    <script>\n",
              "      const buttonEl =\n",
              "        document.querySelector('#df-f77a7f1c-8670-4c29-ad80-4fa63c54acf1 button.colab-df-convert');\n",
              "      buttonEl.style.display =\n",
              "        google.colab.kernel.accessAllowed ? 'block' : 'none';\n",
              "\n",
              "      async function convertToInteractive(key) {\n",
              "        const element = document.querySelector('#df-f77a7f1c-8670-4c29-ad80-4fa63c54acf1');\n",
              "        const dataTable =\n",
              "          await google.colab.kernel.invokeFunction('convertToInteractive',\n",
              "                                                    [key], {});\n",
              "        if (!dataTable) return;\n",
              "\n",
              "        const docLinkHtml = 'Like what you see? Visit the ' +\n",
              "          '<a target=\"_blank\" href=https://colab.research.google.com/notebooks/data_table.ipynb>data table notebook</a>'\n",
              "          + ' to learn more about interactive tables.';\n",
              "        element.innerHTML = '';\n",
              "        dataTable['output_type'] = 'display_data';\n",
              "        await google.colab.output.renderOutput(dataTable, element);\n",
              "        const docLink = document.createElement('div');\n",
              "        docLink.innerHTML = docLinkHtml;\n",
              "        element.appendChild(docLink);\n",
              "      }\n",
              "    </script>\n",
              "  </div>\n",
              "\n",
              "\n",
              "<div id=\"df-54626858-fa28-4d55-87c0-2c3409cedc10\">\n",
              "  <button class=\"colab-df-quickchart\" onclick=\"quickchart('df-54626858-fa28-4d55-87c0-2c3409cedc10')\"\n",
              "            title=\"Suggest charts\"\n",
              "            style=\"display:none;\">\n",
              "\n",
              "<svg xmlns=\"http://www.w3.org/2000/svg\" height=\"24px\"viewBox=\"0 0 24 24\"\n",
              "     width=\"24px\">\n",
              "    <g>\n",
              "        <path d=\"M19 3H5c-1.1 0-2 .9-2 2v14c0 1.1.9 2 2 2h14c1.1 0 2-.9 2-2V5c0-1.1-.9-2-2-2zM9 17H7v-7h2v7zm4 0h-2V7h2v10zm4 0h-2v-4h2v4z\"/>\n",
              "    </g>\n",
              "</svg>\n",
              "  </button>\n",
              "\n",
              "<style>\n",
              "  .colab-df-quickchart {\n",
              "      --bg-color: #E8F0FE;\n",
              "      --fill-color: #1967D2;\n",
              "      --hover-bg-color: #E2EBFA;\n",
              "      --hover-fill-color: #174EA6;\n",
              "      --disabled-fill-color: #AAA;\n",
              "      --disabled-bg-color: #DDD;\n",
              "  }\n",
              "\n",
              "  [theme=dark] .colab-df-quickchart {\n",
              "      --bg-color: #3B4455;\n",
              "      --fill-color: #D2E3FC;\n",
              "      --hover-bg-color: #434B5C;\n",
              "      --hover-fill-color: #FFFFFF;\n",
              "      --disabled-bg-color: #3B4455;\n",
              "      --disabled-fill-color: #666;\n",
              "  }\n",
              "\n",
              "  .colab-df-quickchart {\n",
              "    background-color: var(--bg-color);\n",
              "    border: none;\n",
              "    border-radius: 50%;\n",
              "    cursor: pointer;\n",
              "    display: none;\n",
              "    fill: var(--fill-color);\n",
              "    height: 32px;\n",
              "    padding: 0;\n",
              "    width: 32px;\n",
              "  }\n",
              "\n",
              "  .colab-df-quickchart:hover {\n",
              "    background-color: var(--hover-bg-color);\n",
              "    box-shadow: 0 1px 2px rgba(60, 64, 67, 0.3), 0 1px 3px 1px rgba(60, 64, 67, 0.15);\n",
              "    fill: var(--button-hover-fill-color);\n",
              "  }\n",
              "\n",
              "  .colab-df-quickchart-complete:disabled,\n",
              "  .colab-df-quickchart-complete:disabled:hover {\n",
              "    background-color: var(--disabled-bg-color);\n",
              "    fill: var(--disabled-fill-color);\n",
              "    box-shadow: none;\n",
              "  }\n",
              "\n",
              "  .colab-df-spinner {\n",
              "    border: 2px solid var(--fill-color);\n",
              "    border-color: transparent;\n",
              "    border-bottom-color: var(--fill-color);\n",
              "    animation:\n",
              "      spin 1s steps(1) infinite;\n",
              "  }\n",
              "\n",
              "  @keyframes spin {\n",
              "    0% {\n",
              "      border-color: transparent;\n",
              "      border-bottom-color: var(--fill-color);\n",
              "      border-left-color: var(--fill-color);\n",
              "    }\n",
              "    20% {\n",
              "      border-color: transparent;\n",
              "      border-left-color: var(--fill-color);\n",
              "      border-top-color: var(--fill-color);\n",
              "    }\n",
              "    30% {\n",
              "      border-color: transparent;\n",
              "      border-left-color: var(--fill-color);\n",
              "      border-top-color: var(--fill-color);\n",
              "      border-right-color: var(--fill-color);\n",
              "    }\n",
              "    40% {\n",
              "      border-color: transparent;\n",
              "      border-right-color: var(--fill-color);\n",
              "      border-top-color: var(--fill-color);\n",
              "    }\n",
              "    60% {\n",
              "      border-color: transparent;\n",
              "      border-right-color: var(--fill-color);\n",
              "    }\n",
              "    80% {\n",
              "      border-color: transparent;\n",
              "      border-right-color: var(--fill-color);\n",
              "      border-bottom-color: var(--fill-color);\n",
              "    }\n",
              "    90% {\n",
              "      border-color: transparent;\n",
              "      border-bottom-color: var(--fill-color);\n",
              "    }\n",
              "  }\n",
              "</style>\n",
              "\n",
              "  <script>\n",
              "    async function quickchart(key) {\n",
              "      const quickchartButtonEl =\n",
              "        document.querySelector('#' + key + ' button');\n",
              "      quickchartButtonEl.disabled = true;  // To prevent multiple clicks.\n",
              "      quickchartButtonEl.classList.add('colab-df-spinner');\n",
              "      try {\n",
              "        const charts = await google.colab.kernel.invokeFunction(\n",
              "            'suggestCharts', [key], {});\n",
              "      } catch (error) {\n",
              "        console.error('Error during call to suggestCharts:', error);\n",
              "      }\n",
              "      quickchartButtonEl.classList.remove('colab-df-spinner');\n",
              "      quickchartButtonEl.classList.add('colab-df-quickchart-complete');\n",
              "    }\n",
              "    (() => {\n",
              "      let quickchartButtonEl =\n",
              "        document.querySelector('#df-54626858-fa28-4d55-87c0-2c3409cedc10 button');\n",
              "      quickchartButtonEl.style.display =\n",
              "        google.colab.kernel.accessAllowed ? 'block' : 'none';\n",
              "    })();\n",
              "  </script>\n",
              "</div>\n",
              "\n",
              "    </div>\n",
              "  </div>\n"
            ],
            "application/vnd.google.colaboratory.intrinsic+json": {
              "type": "dataframe",
              "variable_name": "df_products_raw",
              "summary": "{\n  \"name\": \"df_products_raw\",\n  \"rows\": 219,\n  \"fields\": [\n    {\n      \"column\": \"item_id\",\n      \"properties\": {\n        \"dtype\": \"string\",\n        \"num_unique_values\": 219,\n        \"samples\": [\n          \"155\",\n          \"94\",\n          \"217\"\n        ],\n        \"semantic_type\": \"\",\n        \"description\": \"\"\n      }\n    },\n    {\n      \"column\": \"name\",\n      \"properties\": {\n        \"dtype\": \"string\",\n        \"num_unique_values\": 188,\n        \"samples\": [\n          \"Achaval-Ferrer Quimera\",\n          \"Aalto - 1.5L (Magnum)\",\n          \"Mirabeau Etoile\"\n        ],\n        \"semantic_type\": \"\",\n        \"description\": \"\"\n      }\n    },\n    {\n      \"column\": \"producer\",\n      \"properties\": {\n        \"dtype\": \"category\",\n        \"num_unique_values\": 58,\n        \"samples\": [\n          \"Philipponat\",\n          \"Mirabeau\",\n          \"Chateau Ducru Beaucaillou\"\n        ],\n        \"semantic_type\": \"\",\n        \"description\": \"\"\n      }\n    },\n    {\n      \"column\": \"country\",\n      \"properties\": {\n        \"dtype\": \"category\",\n        \"num_unique_values\": 6,\n        \"samples\": [\n          \"France\",\n          \"Italy\",\n          \"Argentina\"\n        ],\n        \"semantic_type\": \"\",\n        \"description\": \"\"\n      }\n    },\n    {\n      \"column\": \"region\",\n      \"properties\": {\n        \"dtype\": \"category\",\n        \"num_unique_values\": 21,\n        \"samples\": [\n          \"Champagne\",\n          \"Douro\",\n          \"Rioja\"\n        ],\n        \"semantic_type\": \"\",\n        \"description\": \"\"\n      }\n    },\n    {\n      \"column\": \"vintage\",\n      \"properties\": {\n        \"dtype\": \"number\",\n        \"std\": 379,\n        \"min\": 0,\n        \"max\": 2019,\n        \"num_unique_values\": 17,\n        \"samples\": [\n          0,\n          2009,\n          2018\n        ],\n        \"semantic_type\": \"\",\n        \"description\": \"\"\n      }\n    },\n    {\n      \"column\": \"kind\",\n      \"properties\": {\n        \"dtype\": \"category\",\n        \"num_unique_values\": 5,\n        \"samples\": [\n          \"rose sparkling\",\n          \"red\",\n          \"white\"\n        ],\n        \"semantic_type\": \"\",\n        \"description\": \"\"\n      }\n    },\n    {\n      \"column\": \"price_brl\",\n      \"properties\": {\n        \"dtype\": \"number\",\n        \"std\": 1409.5882168469232,\n        \"min\": 52.8,\n        \"max\": 10992.0,\n        \"num_unique_values\": 121,\n        \"samples\": [\n          349.2,\n          425.4,\n          1548.0\n        ],\n        \"semantic_type\": \"\",\n        \"description\": \"\"\n      }\n    },\n    {\n      \"column\": \"price_usd\",\n      \"properties\": {\n        \"dtype\": \"number\",\n        \"std\": 243.87378010122805,\n        \"min\": 9.13,\n        \"max\": 1901.73,\n        \"num_unique_values\": 121,\n        \"samples\": [\n          60.42,\n          73.6,\n          267.82\n        ],\n        \"semantic_type\": \"\",\n        \"description\": \"\"\n      }\n    }\n  ]\n}"
            }
          },
          "metadata": {},
          "execution_count": 8
        }
      ]
    },
    {
      "cell_type": "code",
      "source": [
        "# salvando o conjunto limpo\n",
        "df_products_raw.to_csv('products_clean.csv', index=0)"
      ],
      "metadata": {
        "id": "SjpBscsHGA83"
      },
      "execution_count": 9,
      "outputs": []
    },
    {
      "cell_type": "markdown",
      "source": [
        "# Datenanalyse\n",
        "\n",
        "\n",
        "\n"
      ],
      "metadata": {
        "id": "u2pUhMj5LSQ4"
      }
    },
    {
      "cell_type": "markdown",
      "source": [
        "Jetzt, da unsere Daten das gewünschte Format haben, wird die Analyse wesentlich einfacher! Zunächst werden wir einige Abfragen durchführen, um unser Datenset besser zu verstehen und erste Erkenntnisse daraus zu gewinnen."
      ],
      "metadata": {
        "id": "iOWcTBn8LScP"
      }
    },
    {
      "cell_type": "code",
      "source": [
        "# verificando a quantidade de produtores\n",
        "print(\"Anzahl der Produzenten in der Weinkarte: \", (len(df_products_raw.producer.value_counts())))\n",
        "print(\"Anzahl der Länder in der Weinkarte: \", (len(df_products_raw.country.value_counts())))\n",
        "print(\"Anzahl der Jahrgänge in der Weinkarte: \", (len(df_products_raw.vintage.value_counts())),\"\\n\")\n",
        "\n",
        "print(df_products_raw.producer.value_counts())\n",
        "print(df_products_raw.country.value_counts())"
      ],
      "metadata": {
        "colab": {
          "base_uri": "https://localhost:8080/"
        },
        "id": "Y_8AFh4eOjof",
        "outputId": "ea14bafe-79a9-4f9e-cad4-f0ac500165a1"
      },
      "execution_count": 11,
      "outputs": [
        {
          "output_type": "stream",
          "name": "stdout",
          "text": [
            "Anzahl der Produzenten in der Weinkarte:  58\n",
            "Anzahl der Länder in der Weinkarte:  6\n",
            "Anzahl der Jahrgänge in der Weinkarte:  17 \n",
            "\n",
            "producer\n",
            "Domaine Ponsot                                    12\n",
            "La Chablisienne                                   10\n",
            "Domaine Matrot                                     9\n",
            "Achaval Ferrer                                     8\n",
            "Pêra-Grave                                         8\n",
            "Olivier Riviere                                    8\n",
            "Casanova di Neri                                   8\n",
            "Eric Texier                                        7\n",
            "Domaine Pascal Prunier-Bonheur                     7\n",
            "Domaine Tessier                                    5\n",
            "Luis Seabra Vinhos                                 5\n",
            "Aalto                                              5\n",
            "Sandrone                                           5\n",
            "Domaine de Fontbonau                               5\n",
            "Philipponat                                        5\n",
            "Domaine Michel Niellon                             5\n",
            "Domaine Alain Chavy                                5\n",
            "Chateau Pavie                                      4\n",
            "Agrapart                                           4\n",
            "Chateau Potensac                                   4\n",
            "Elian da Ros                                       4\n",
            "Villa Diamante                                     4\n",
            "Chateau Larrivet Haut-Brion                        4\n",
            "Arinzano                                           4\n",
            "Domaine Hudelot-Noellat                            4\n",
            "Mirabeau                                           4\n",
            "Tenute Rubino                                      3\n",
            "Chateau Ducru Beaucaillou                          3\n",
            "Astoria Wines                                      3\n",
            "Chateau Doisy-Vedrines                             3\n",
            "Chateau Climens                                    3\n",
            "Domaine Vacheron                                   3\n",
            "Antoine Jobard                                     3\n",
            "Chateau D'Issan                                    3\n",
            "Chateau Talbot                                     3\n",
            "Chateau Latour                                     3\n",
            "Domaine Duroché                                    3\n",
            "Chateau Montrose                                   3\n",
            "Grau Baumé                                         2\n",
            "Domaine Denis Mortet                               2\n",
            "Nicolas JOLY                                       2\n",
            "Domaine Berthaut-Gerbet                            2\n",
            "Chateau Gloria                                     2\n",
            "Chateau Pichon Longueville Comtesse de Lalande     2\n",
            "Chateau Leoville Las Cases                         2\n",
            "Chateau Trotanoy                                   2\n",
            "Clos du Marquis                                    2\n",
            "Chateau Leoville Barton                            2\n",
            "Domaine Paul Pillot                                1\n",
            "Chateau Marjosse                                   1\n",
            "Stephane Ogier                                     1\n",
            "Domaine Dujac                                      1\n",
            "Juvé & Camps                                       1\n",
            "Chateau Nenin                                      1\n",
            "Domaine Fourrier                                   1\n",
            "Domaine Zind-Humbrecht                             1\n",
            "Viñedo Chadwick                                    1\n",
            "Triennes                                           1\n",
            "Name: count, dtype: int64\n",
            "country\n",
            "France       154\n",
            "Italy         23\n",
            "Spain         18\n",
            "Portugal      15\n",
            "Argentina      8\n",
            "Chile          1\n",
            "Name: count, dtype: int64\n"
          ]
        }
      ]
    },
    {
      "cell_type": "code",
      "source": [
        "f, ax = plt.subplots(figsize=(16, 8))\n",
        "sns.countplot(x=df_products_raw.producer, order=df_products_raw.producer.value_counts().index);\n",
        "plt.xticks(rotation=90)\n",
        "plt.show();"
      ],
      "metadata": {
        "colab": {
          "base_uri": "https://localhost:8080/",
          "height": 1000
        },
        "id": "_e2-4fyzQfnp",
        "outputId": "0a1c9d11-401b-4e29-f59b-e2fc22d646c8"
      },
      "execution_count": 34,
      "outputs": [
        {
          "output_type": "display_data",
          "data": {
            "text/plain": [
              "<Figure size 1600x800 with 1 Axes>"
            ],
            "image/png": "[encoded data removed]"
          },
          "metadata": {}
        }
      ]
    }
  ]
}